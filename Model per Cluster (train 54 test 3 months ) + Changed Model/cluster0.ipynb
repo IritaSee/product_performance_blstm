{
 "cells": [
  {
   "cell_type": "markdown",
   "metadata": {},
   "source": [
    "# Pemodelan Cluster 0"
   ]
  },
  {
   "cell_type": "markdown",
   "metadata": {},
   "source": [
    "Import segala pustaka (library) yang digunakan\n"
   ]
  },
  {
   "cell_type": "code",
   "execution_count": 11,
   "metadata": {},
   "outputs": [],
   "source": [
    "import tensorflow as tf #untuk mempermudah pembuatan deep learning\n",
    "import pandas as pd #mempermudah pembacaan data dengan ukuran besar (big data) dari data penjualan\n",
    "import numpy as np #mempermudah pengolahan data dari library sebelumnya\n",
    "import matplotlib.pyplot as plt #untuk mempermudah visualisasi\n",
    "from sklearn.preprocessing import MinMaxScaler #untuk menskala data sehingga mudah dibaca dan diproses deep learning"
   ]
  },
  {
   "cell_type": "markdown",
   "metadata": {},
   "source": [
    "## Pembacaan Data"
   ]
  },
  {
   "cell_type": "markdown",
   "metadata": {},
   "source": [
    "Baca dataset train"
   ]
  },
  {
   "cell_type": "code",
   "execution_count": 12,
   "metadata": {},
   "outputs": [
    {
     "data": {
      "text/html": [
       "<div>\n",
       "<style scoped>\n",
       "    .dataframe tbody tr th:only-of-type {\n",
       "        vertical-align: middle;\n",
       "    }\n",
       "\n",
       "    .dataframe tbody tr th {\n",
       "        vertical-align: top;\n",
       "    }\n",
       "\n",
       "    .dataframe thead th {\n",
       "        text-align: right;\n",
       "    }\n",
       "</style>\n",
       "<table border=\"1\" class=\"dataframe\">\n",
       "  <thead>\n",
       "    <tr style=\"text-align: right;\">\n",
       "      <th></th>\n",
       "      <th>KodeBarang</th>\n",
       "      <th>1</th>\n",
       "      <th>2</th>\n",
       "      <th>3</th>\n",
       "      <th>4</th>\n",
       "      <th>5</th>\n",
       "      <th>6</th>\n",
       "      <th>7</th>\n",
       "      <th>8</th>\n",
       "      <th>9</th>\n",
       "      <th>...</th>\n",
       "      <th>46</th>\n",
       "      <th>47</th>\n",
       "      <th>48</th>\n",
       "      <th>49</th>\n",
       "      <th>50</th>\n",
       "      <th>51</th>\n",
       "      <th>52</th>\n",
       "      <th>53</th>\n",
       "      <th>54</th>\n",
       "      <th>cluster</th>\n",
       "    </tr>\n",
       "  </thead>\n",
       "  <tbody>\n",
       "    <tr>\n",
       "      <th>0</th>\n",
       "      <td>04121</td>\n",
       "      <td>7</td>\n",
       "      <td>9</td>\n",
       "      <td>6</td>\n",
       "      <td>9</td>\n",
       "      <td>40</td>\n",
       "      <td>0</td>\n",
       "      <td>3</td>\n",
       "      <td>0</td>\n",
       "      <td>7</td>\n",
       "      <td>...</td>\n",
       "      <td>67</td>\n",
       "      <td>77</td>\n",
       "      <td>11</td>\n",
       "      <td>57</td>\n",
       "      <td>43</td>\n",
       "      <td>50</td>\n",
       "      <td>37</td>\n",
       "      <td>21</td>\n",
       "      <td>136</td>\n",
       "      <td>0</td>\n",
       "    </tr>\n",
       "    <tr>\n",
       "      <th>1</th>\n",
       "      <td>18031</td>\n",
       "      <td>230</td>\n",
       "      <td>227</td>\n",
       "      <td>279</td>\n",
       "      <td>153</td>\n",
       "      <td>190</td>\n",
       "      <td>256</td>\n",
       "      <td>267</td>\n",
       "      <td>305</td>\n",
       "      <td>238</td>\n",
       "      <td>...</td>\n",
       "      <td>336</td>\n",
       "      <td>153</td>\n",
       "      <td>103</td>\n",
       "      <td>221</td>\n",
       "      <td>360</td>\n",
       "      <td>280</td>\n",
       "      <td>240</td>\n",
       "      <td>120</td>\n",
       "      <td>548</td>\n",
       "      <td>1</td>\n",
       "    </tr>\n",
       "    <tr>\n",
       "      <th>2</th>\n",
       "      <td>04161</td>\n",
       "      <td>102</td>\n",
       "      <td>50</td>\n",
       "      <td>45</td>\n",
       "      <td>41</td>\n",
       "      <td>71</td>\n",
       "      <td>11</td>\n",
       "      <td>52</td>\n",
       "      <td>14</td>\n",
       "      <td>66</td>\n",
       "      <td>...</td>\n",
       "      <td>21</td>\n",
       "      <td>20</td>\n",
       "      <td>7</td>\n",
       "      <td>33</td>\n",
       "      <td>21</td>\n",
       "      <td>28</td>\n",
       "      <td>30</td>\n",
       "      <td>10</td>\n",
       "      <td>18</td>\n",
       "      <td>0</td>\n",
       "    </tr>\n",
       "    <tr>\n",
       "      <th>3</th>\n",
       "      <td>04162</td>\n",
       "      <td>272</td>\n",
       "      <td>155</td>\n",
       "      <td>214</td>\n",
       "      <td>226</td>\n",
       "      <td>268</td>\n",
       "      <td>110</td>\n",
       "      <td>204</td>\n",
       "      <td>253</td>\n",
       "      <td>193</td>\n",
       "      <td>...</td>\n",
       "      <td>102</td>\n",
       "      <td>118</td>\n",
       "      <td>120</td>\n",
       "      <td>211</td>\n",
       "      <td>292</td>\n",
       "      <td>105</td>\n",
       "      <td>108</td>\n",
       "      <td>101</td>\n",
       "      <td>117</td>\n",
       "      <td>1</td>\n",
       "    </tr>\n",
       "    <tr>\n",
       "      <th>4</th>\n",
       "      <td>04163</td>\n",
       "      <td>28</td>\n",
       "      <td>28</td>\n",
       "      <td>29</td>\n",
       "      <td>52</td>\n",
       "      <td>44</td>\n",
       "      <td>21</td>\n",
       "      <td>47</td>\n",
       "      <td>15</td>\n",
       "      <td>24</td>\n",
       "      <td>...</td>\n",
       "      <td>18</td>\n",
       "      <td>23</td>\n",
       "      <td>22</td>\n",
       "      <td>16</td>\n",
       "      <td>22</td>\n",
       "      <td>31</td>\n",
       "      <td>36</td>\n",
       "      <td>17</td>\n",
       "      <td>14</td>\n",
       "      <td>0</td>\n",
       "    </tr>\n",
       "    <tr>\n",
       "      <th>...</th>\n",
       "      <td>...</td>\n",
       "      <td>...</td>\n",
       "      <td>...</td>\n",
       "      <td>...</td>\n",
       "      <td>...</td>\n",
       "      <td>...</td>\n",
       "      <td>...</td>\n",
       "      <td>...</td>\n",
       "      <td>...</td>\n",
       "      <td>...</td>\n",
       "      <td>...</td>\n",
       "      <td>...</td>\n",
       "      <td>...</td>\n",
       "      <td>...</td>\n",
       "      <td>...</td>\n",
       "      <td>...</td>\n",
       "      <td>...</td>\n",
       "      <td>...</td>\n",
       "      <td>...</td>\n",
       "      <td>...</td>\n",
       "      <td>...</td>\n",
       "    </tr>\n",
       "    <tr>\n",
       "      <th>101</th>\n",
       "      <td>04157</td>\n",
       "      <td>55</td>\n",
       "      <td>64</td>\n",
       "      <td>44</td>\n",
       "      <td>61</td>\n",
       "      <td>30</td>\n",
       "      <td>1</td>\n",
       "      <td>24</td>\n",
       "      <td>37</td>\n",
       "      <td>67</td>\n",
       "      <td>...</td>\n",
       "      <td>20</td>\n",
       "      <td>10</td>\n",
       "      <td>300</td>\n",
       "      <td>34</td>\n",
       "      <td>7</td>\n",
       "      <td>7</td>\n",
       "      <td>6</td>\n",
       "      <td>4</td>\n",
       "      <td>21</td>\n",
       "      <td>0</td>\n",
       "    </tr>\n",
       "    <tr>\n",
       "      <th>102</th>\n",
       "      <td>18104</td>\n",
       "      <td>46</td>\n",
       "      <td>295</td>\n",
       "      <td>83</td>\n",
       "      <td>112</td>\n",
       "      <td>70</td>\n",
       "      <td>40</td>\n",
       "      <td>18</td>\n",
       "      <td>140</td>\n",
       "      <td>97</td>\n",
       "      <td>...</td>\n",
       "      <td>47</td>\n",
       "      <td>54</td>\n",
       "      <td>27</td>\n",
       "      <td>15</td>\n",
       "      <td>57</td>\n",
       "      <td>132</td>\n",
       "      <td>66</td>\n",
       "      <td>34</td>\n",
       "      <td>146</td>\n",
       "      <td>0</td>\n",
       "    </tr>\n",
       "    <tr>\n",
       "      <th>103</th>\n",
       "      <td>18106</td>\n",
       "      <td>200</td>\n",
       "      <td>204</td>\n",
       "      <td>0</td>\n",
       "      <td>2</td>\n",
       "      <td>10</td>\n",
       "      <td>7</td>\n",
       "      <td>0</td>\n",
       "      <td>27</td>\n",
       "      <td>74</td>\n",
       "      <td>...</td>\n",
       "      <td>15</td>\n",
       "      <td>136</td>\n",
       "      <td>15</td>\n",
       "      <td>15</td>\n",
       "      <td>14</td>\n",
       "      <td>131</td>\n",
       "      <td>84</td>\n",
       "      <td>12</td>\n",
       "      <td>14</td>\n",
       "      <td>0</td>\n",
       "    </tr>\n",
       "    <tr>\n",
       "      <th>104</th>\n",
       "      <td>18092</td>\n",
       "      <td>297</td>\n",
       "      <td>418</td>\n",
       "      <td>329</td>\n",
       "      <td>70</td>\n",
       "      <td>498</td>\n",
       "      <td>59</td>\n",
       "      <td>298</td>\n",
       "      <td>376</td>\n",
       "      <td>259</td>\n",
       "      <td>...</td>\n",
       "      <td>450</td>\n",
       "      <td>498</td>\n",
       "      <td>254</td>\n",
       "      <td>260</td>\n",
       "      <td>336</td>\n",
       "      <td>493</td>\n",
       "      <td>438</td>\n",
       "      <td>408</td>\n",
       "      <td>322</td>\n",
       "      <td>1</td>\n",
       "    </tr>\n",
       "    <tr>\n",
       "      <th>105</th>\n",
       "      <td>04143</td>\n",
       "      <td>132</td>\n",
       "      <td>80</td>\n",
       "      <td>103</td>\n",
       "      <td>113</td>\n",
       "      <td>81</td>\n",
       "      <td>108</td>\n",
       "      <td>124</td>\n",
       "      <td>101</td>\n",
       "      <td>119</td>\n",
       "      <td>...</td>\n",
       "      <td>153</td>\n",
       "      <td>130</td>\n",
       "      <td>121</td>\n",
       "      <td>189</td>\n",
       "      <td>92</td>\n",
       "      <td>226</td>\n",
       "      <td>181</td>\n",
       "      <td>112</td>\n",
       "      <td>214</td>\n",
       "      <td>1</td>\n",
       "    </tr>\n",
       "  </tbody>\n",
       "</table>\n",
       "<p>106 rows × 56 columns</p>\n",
       "</div>"
      ],
      "text/plain": [
       "    KodeBarang    1    2    3    4    5    6    7    8    9  ...   46   47  \\\n",
       "0        04121    7    9    6    9   40    0    3    0    7  ...   67   77   \n",
       "1        18031  230  227  279  153  190  256  267  305  238  ...  336  153   \n",
       "2        04161  102   50   45   41   71   11   52   14   66  ...   21   20   \n",
       "3        04162  272  155  214  226  268  110  204  253  193  ...  102  118   \n",
       "4        04163   28   28   29   52   44   21   47   15   24  ...   18   23   \n",
       "..         ...  ...  ...  ...  ...  ...  ...  ...  ...  ...  ...  ...  ...   \n",
       "101      04157   55   64   44   61   30    1   24   37   67  ...   20   10   \n",
       "102      18104   46  295   83  112   70   40   18  140   97  ...   47   54   \n",
       "103      18106  200  204    0    2   10    7    0   27   74  ...   15  136   \n",
       "104      18092  297  418  329   70  498   59  298  376  259  ...  450  498   \n",
       "105      04143  132   80  103  113   81  108  124  101  119  ...  153  130   \n",
       "\n",
       "      48   49   50   51   52   53   54  cluster  \n",
       "0     11   57   43   50   37   21  136        0  \n",
       "1    103  221  360  280  240  120  548        1  \n",
       "2      7   33   21   28   30   10   18        0  \n",
       "3    120  211  292  105  108  101  117        1  \n",
       "4     22   16   22   31   36   17   14        0  \n",
       "..   ...  ...  ...  ...  ...  ...  ...      ...  \n",
       "101  300   34    7    7    6    4   21        0  \n",
       "102   27   15   57  132   66   34  146        0  \n",
       "103   15   15   14  131   84   12   14        0  \n",
       "104  254  260  336  493  438  408  322        1  \n",
       "105  121  189   92  226  181  112  214        1  \n",
       "\n",
       "[106 rows x 56 columns]"
      ]
     },
     "execution_count": 12,
     "metadata": {},
     "output_type": "execute_result"
    }
   ],
   "source": [
    "data=pd.read_excel('../dataset_new.xlsx',sheet_name='train')\n",
    "data"
   ]
  },
  {
   "cell_type": "markdown",
   "metadata": {},
   "source": [
    "Baca dataset test"
   ]
  },
  {
   "cell_type": "code",
   "execution_count": 13,
   "metadata": {},
   "outputs": [
    {
     "data": {
      "text/html": [
       "<div>\n",
       "<style scoped>\n",
       "    .dataframe tbody tr th:only-of-type {\n",
       "        vertical-align: middle;\n",
       "    }\n",
       "\n",
       "    .dataframe tbody tr th {\n",
       "        vertical-align: top;\n",
       "    }\n",
       "\n",
       "    .dataframe thead th {\n",
       "        text-align: right;\n",
       "    }\n",
       "</style>\n",
       "<table border=\"1\" class=\"dataframe\">\n",
       "  <thead>\n",
       "    <tr style=\"text-align: right;\">\n",
       "      <th></th>\n",
       "      <th>KodeBarang</th>\n",
       "      <th>bulan 1</th>\n",
       "      <th>bulan 2</th>\n",
       "      <th>bulan 3</th>\n",
       "      <th>bulan 4</th>\n",
       "      <th>bulan 5</th>\n",
       "      <th>bulan 6</th>\n",
       "    </tr>\n",
       "  </thead>\n",
       "  <tbody>\n",
       "    <tr>\n",
       "      <th>0</th>\n",
       "      <td>04121</td>\n",
       "      <td>5</td>\n",
       "      <td>12</td>\n",
       "      <td>8</td>\n",
       "      <td>14</td>\n",
       "      <td>40</td>\n",
       "      <td>40</td>\n",
       "    </tr>\n",
       "    <tr>\n",
       "      <th>1</th>\n",
       "      <td>18031</td>\n",
       "      <td>573</td>\n",
       "      <td>340</td>\n",
       "      <td>441</td>\n",
       "      <td>270</td>\n",
       "      <td>488</td>\n",
       "      <td>240</td>\n",
       "    </tr>\n",
       "    <tr>\n",
       "      <th>2</th>\n",
       "      <td>04161</td>\n",
       "      <td>27</td>\n",
       "      <td>5</td>\n",
       "      <td>26</td>\n",
       "      <td>34</td>\n",
       "      <td>40</td>\n",
       "      <td>56</td>\n",
       "    </tr>\n",
       "    <tr>\n",
       "      <th>3</th>\n",
       "      <td>04162</td>\n",
       "      <td>162</td>\n",
       "      <td>82</td>\n",
       "      <td>72</td>\n",
       "      <td>98</td>\n",
       "      <td>126</td>\n",
       "      <td>120</td>\n",
       "    </tr>\n",
       "    <tr>\n",
       "      <th>4</th>\n",
       "      <td>04163</td>\n",
       "      <td>23</td>\n",
       "      <td>20</td>\n",
       "      <td>9</td>\n",
       "      <td>5</td>\n",
       "      <td>22</td>\n",
       "      <td>6</td>\n",
       "    </tr>\n",
       "    <tr>\n",
       "      <th>...</th>\n",
       "      <td>...</td>\n",
       "      <td>...</td>\n",
       "      <td>...</td>\n",
       "      <td>...</td>\n",
       "      <td>...</td>\n",
       "      <td>...</td>\n",
       "      <td>...</td>\n",
       "    </tr>\n",
       "    <tr>\n",
       "      <th>101</th>\n",
       "      <td>04157</td>\n",
       "      <td>138</td>\n",
       "      <td>14</td>\n",
       "      <td>12</td>\n",
       "      <td>21</td>\n",
       "      <td>25</td>\n",
       "      <td>10</td>\n",
       "    </tr>\n",
       "    <tr>\n",
       "      <th>102</th>\n",
       "      <td>18104</td>\n",
       "      <td>60</td>\n",
       "      <td>103</td>\n",
       "      <td>39</td>\n",
       "      <td>87</td>\n",
       "      <td>276</td>\n",
       "      <td>40</td>\n",
       "    </tr>\n",
       "    <tr>\n",
       "      <th>103</th>\n",
       "      <td>18106</td>\n",
       "      <td>16</td>\n",
       "      <td>7</td>\n",
       "      <td>65</td>\n",
       "      <td>24</td>\n",
       "      <td>13</td>\n",
       "      <td>27</td>\n",
       "    </tr>\n",
       "    <tr>\n",
       "      <th>104</th>\n",
       "      <td>18092</td>\n",
       "      <td>721</td>\n",
       "      <td>184</td>\n",
       "      <td>150</td>\n",
       "      <td>488</td>\n",
       "      <td>648</td>\n",
       "      <td>149</td>\n",
       "    </tr>\n",
       "    <tr>\n",
       "      <th>105</th>\n",
       "      <td>04143</td>\n",
       "      <td>164</td>\n",
       "      <td>189</td>\n",
       "      <td>187</td>\n",
       "      <td>232</td>\n",
       "      <td>219</td>\n",
       "      <td>229</td>\n",
       "    </tr>\n",
       "  </tbody>\n",
       "</table>\n",
       "<p>106 rows × 7 columns</p>\n",
       "</div>"
      ],
      "text/plain": [
       "    KodeBarang  bulan 1  bulan 2  bulan 3  bulan 4  bulan 5  bulan 6\n",
       "0        04121        5       12        8       14       40       40\n",
       "1        18031      573      340      441      270      488      240\n",
       "2        04161       27        5       26       34       40       56\n",
       "3        04162      162       82       72       98      126      120\n",
       "4        04163       23       20        9        5       22        6\n",
       "..         ...      ...      ...      ...      ...      ...      ...\n",
       "101      04157      138       14       12       21       25       10\n",
       "102      18104       60      103       39       87      276       40\n",
       "103      18106       16        7       65       24       13       27\n",
       "104      18092      721      184      150      488      648      149\n",
       "105      04143      164      189      187      232      219      229\n",
       "\n",
       "[106 rows x 7 columns]"
      ]
     },
     "execution_count": 13,
     "metadata": {},
     "output_type": "execute_result"
    }
   ],
   "source": [
    "data_test=pd.read_excel('../dataset_new.xlsx',sheet_name='test')\n",
    "data_test"
   ]
  },
  {
   "cell_type": "markdown",
   "metadata": {},
   "source": [
    "hilangkan judul kolom agar tidak terbaca deep learning"
   ]
  },
  {
   "cell_type": "code",
   "execution_count": 14,
   "metadata": {},
   "outputs": [],
   "source": [
    "# data_test.drop(['bulan 4','bulan 5','bulan 6'],axis=1,inplace=True)"
   ]
  },
  {
   "cell_type": "markdown",
   "metadata": {},
   "source": [
    "Pastikan culster pada dataset sudah berupa angka"
   ]
  },
  {
   "cell_type": "code",
   "execution_count": 15,
   "metadata": {},
   "outputs": [
    {
     "data": {
      "text/html": [
       "<div>\n",
       "<style scoped>\n",
       "    .dataframe tbody tr th:only-of-type {\n",
       "        vertical-align: middle;\n",
       "    }\n",
       "\n",
       "    .dataframe tbody tr th {\n",
       "        vertical-align: top;\n",
       "    }\n",
       "\n",
       "    .dataframe thead th {\n",
       "        text-align: right;\n",
       "    }\n",
       "</style>\n",
       "<table border=\"1\" class=\"dataframe\">\n",
       "  <thead>\n",
       "    <tr style=\"text-align: right;\">\n",
       "      <th></th>\n",
       "      <th>KodeBarang</th>\n",
       "      <th>bulan 1</th>\n",
       "      <th>bulan 2</th>\n",
       "      <th>bulan 3</th>\n",
       "      <th>bulan 4</th>\n",
       "      <th>bulan 5</th>\n",
       "      <th>bulan 6</th>\n",
       "      <th>cluster</th>\n",
       "    </tr>\n",
       "  </thead>\n",
       "  <tbody>\n",
       "    <tr>\n",
       "      <th>0</th>\n",
       "      <td>04121</td>\n",
       "      <td>5</td>\n",
       "      <td>12</td>\n",
       "      <td>8</td>\n",
       "      <td>14</td>\n",
       "      <td>40</td>\n",
       "      <td>40</td>\n",
       "      <td>0</td>\n",
       "    </tr>\n",
       "    <tr>\n",
       "      <th>1</th>\n",
       "      <td>18031</td>\n",
       "      <td>573</td>\n",
       "      <td>340</td>\n",
       "      <td>441</td>\n",
       "      <td>270</td>\n",
       "      <td>488</td>\n",
       "      <td>240</td>\n",
       "      <td>1</td>\n",
       "    </tr>\n",
       "    <tr>\n",
       "      <th>2</th>\n",
       "      <td>04161</td>\n",
       "      <td>27</td>\n",
       "      <td>5</td>\n",
       "      <td>26</td>\n",
       "      <td>34</td>\n",
       "      <td>40</td>\n",
       "      <td>56</td>\n",
       "      <td>0</td>\n",
       "    </tr>\n",
       "    <tr>\n",
       "      <th>3</th>\n",
       "      <td>04162</td>\n",
       "      <td>162</td>\n",
       "      <td>82</td>\n",
       "      <td>72</td>\n",
       "      <td>98</td>\n",
       "      <td>126</td>\n",
       "      <td>120</td>\n",
       "      <td>1</td>\n",
       "    </tr>\n",
       "    <tr>\n",
       "      <th>4</th>\n",
       "      <td>04163</td>\n",
       "      <td>23</td>\n",
       "      <td>20</td>\n",
       "      <td>9</td>\n",
       "      <td>5</td>\n",
       "      <td>22</td>\n",
       "      <td>6</td>\n",
       "      <td>0</td>\n",
       "    </tr>\n",
       "    <tr>\n",
       "      <th>...</th>\n",
       "      <td>...</td>\n",
       "      <td>...</td>\n",
       "      <td>...</td>\n",
       "      <td>...</td>\n",
       "      <td>...</td>\n",
       "      <td>...</td>\n",
       "      <td>...</td>\n",
       "      <td>...</td>\n",
       "    </tr>\n",
       "    <tr>\n",
       "      <th>101</th>\n",
       "      <td>04157</td>\n",
       "      <td>138</td>\n",
       "      <td>14</td>\n",
       "      <td>12</td>\n",
       "      <td>21</td>\n",
       "      <td>25</td>\n",
       "      <td>10</td>\n",
       "      <td>0</td>\n",
       "    </tr>\n",
       "    <tr>\n",
       "      <th>102</th>\n",
       "      <td>18104</td>\n",
       "      <td>60</td>\n",
       "      <td>103</td>\n",
       "      <td>39</td>\n",
       "      <td>87</td>\n",
       "      <td>276</td>\n",
       "      <td>40</td>\n",
       "      <td>0</td>\n",
       "    </tr>\n",
       "    <tr>\n",
       "      <th>103</th>\n",
       "      <td>18106</td>\n",
       "      <td>16</td>\n",
       "      <td>7</td>\n",
       "      <td>65</td>\n",
       "      <td>24</td>\n",
       "      <td>13</td>\n",
       "      <td>27</td>\n",
       "      <td>0</td>\n",
       "    </tr>\n",
       "    <tr>\n",
       "      <th>104</th>\n",
       "      <td>18092</td>\n",
       "      <td>721</td>\n",
       "      <td>184</td>\n",
       "      <td>150</td>\n",
       "      <td>488</td>\n",
       "      <td>648</td>\n",
       "      <td>149</td>\n",
       "      <td>1</td>\n",
       "    </tr>\n",
       "    <tr>\n",
       "      <th>105</th>\n",
       "      <td>04143</td>\n",
       "      <td>164</td>\n",
       "      <td>189</td>\n",
       "      <td>187</td>\n",
       "      <td>232</td>\n",
       "      <td>219</td>\n",
       "      <td>229</td>\n",
       "      <td>1</td>\n",
       "    </tr>\n",
       "  </tbody>\n",
       "</table>\n",
       "<p>106 rows × 8 columns</p>\n",
       "</div>"
      ],
      "text/plain": [
       "    KodeBarang  bulan 1  bulan 2  bulan 3  bulan 4  bulan 5  bulan 6  cluster\n",
       "0        04121        5       12        8       14       40       40        0\n",
       "1        18031      573      340      441      270      488      240        1\n",
       "2        04161       27        5       26       34       40       56        0\n",
       "3        04162      162       82       72       98      126      120        1\n",
       "4        04163       23       20        9        5       22        6        0\n",
       "..         ...      ...      ...      ...      ...      ...      ...      ...\n",
       "101      04157      138       14       12       21       25       10        0\n",
       "102      18104       60      103       39       87      276       40        0\n",
       "103      18106       16        7       65       24       13       27        0\n",
       "104      18092      721      184      150      488      648      149        1\n",
       "105      04143      164      189      187      232      219      229        1\n",
       "\n",
       "[106 rows x 8 columns]"
      ]
     },
     "execution_count": 15,
     "metadata": {},
     "output_type": "execute_result"
    }
   ],
   "source": [
    "data_test['cluster']=data['cluster'].astype(int)\n",
    "data_test"
   ]
  },
  {
   "cell_type": "markdown",
   "metadata": {},
   "source": [
    "Periksa ada berapa jenis cluster?"
   ]
  },
  {
   "cell_type": "code",
   "execution_count": 16,
   "metadata": {},
   "outputs": [
    {
     "data": {
      "text/plain": [
       "4"
      ]
     },
     "execution_count": 16,
     "metadata": {},
     "output_type": "execute_result"
    }
   ],
   "source": [
    "len(data['cluster'].unique())"
   ]
  },
  {
   "cell_type": "markdown",
   "metadata": {},
   "source": [
    "Ambil jumlah produk dalam cluster"
   ]
  },
  {
   "cell_type": "code",
   "execution_count": 17,
   "metadata": {},
   "outputs": [
    {
     "name": "stdout",
     "output_type": "stream",
     "text": [
      "Jumlah Produk:\n",
      "70\n",
      "Jumlah Produk:\n",
      "31\n",
      "Jumlah Produk:\n",
      "4\n",
      "Jumlah Produk:\n",
      "1\n"
     ]
    }
   ],
   "source": [
    "#now lets take clusters\n",
    "c0 = data.query(\"cluster == 0\")\n",
    "print(\"Jumlah Produk:\")\n",
    "print(c0['KodeBarang'].size)\n",
    "c1 = data.query(\"cluster == 1\")\n",
    "print(\"Jumlah Produk:\")\n",
    "print(c1['KodeBarang'].size)\n",
    "c2 = data.query(\"cluster == 2\")\n",
    "print(\"Jumlah Produk:\")\n",
    "print(c2['KodeBarang'].size)\n",
    "c3 = data.query(\"cluster == 3\")\n",
    "print(\"Jumlah Produk:\")\n",
    "print(c3['KodeBarang'].size)"
   ]
  },
  {
   "cell_type": "markdown",
   "metadata": {},
   "source": [
    "Ambil jumlah produk dalam cluster data test, dan pastikan nilainya sama dengan sebelumnya"
   ]
  },
  {
   "cell_type": "code",
   "execution_count": 18,
   "metadata": {},
   "outputs": [
    {
     "name": "stdout",
     "output_type": "stream",
     "text": [
      "Jumlah Produk:\n",
      "70\n",
      "Jumlah Produk:\n",
      "31\n",
      "Jumlah Produk:\n",
      "4\n",
      "Jumlah Produk:\n",
      "1\n"
     ]
    }
   ],
   "source": [
    "c0_t = data_test.query(\"cluster == 0\")\n",
    "print(\"Jumlah Produk:\")\n",
    "print(c0['KodeBarang'].size)\n",
    "c1_t = data_test.query(\"cluster == 1\")\n",
    "print(\"Jumlah Produk:\")\n",
    "print(c1['KodeBarang'].size)\n",
    "c2_t = data_test.query(\"cluster == 2\")\n",
    "print(\"Jumlah Produk:\")\n",
    "print(c2['KodeBarang'].size)\n",
    "c3_t = data_test.query(\"cluster == 3\")\n",
    "print(\"Jumlah Produk:\")\n",
    "print(c3['KodeBarang'].size)"
   ]
  },
  {
   "cell_type": "markdown",
   "metadata": {},
   "source": [
    "## Pembuatan model cluster 0"
   ]
  },
  {
   "cell_type": "markdown",
   "metadata": {},
   "source": [
    "Buat fungsi untuk membuat `windowed dataset`"
   ]
  },
  {
   "cell_type": "code",
   "execution_count": 19,
   "metadata": {},
   "outputs": [],
   "source": [
    "#oke ada ternyata yang cuman sendirian (1 product di cluster tersebut), kita beresin dia dulu, the easiest, dan biar keliatan kita\n",
    "#ngapain aja di time series ini\n",
    "def windowed_dataset(series, window_size, batch_size, shuffle_buffer):\n",
    "    series = tf.expand_dims(series, axis=-1)\n",
    "    ds = tf.data.Dataset.from_tensor_slices(series)\n",
    "    ds = ds.window(window_size + 1, shift=1, drop_remainder=True)\n",
    "    ds = ds.flat_map(lambda w: w.batch(window_size + 1))\n",
    "    ds = ds.shuffle(shuffle_buffer)\n",
    "    ds = ds.map(lambda w: (w[:-1], w[1:]))\n",
    "    return ds.batch(batch_size).prefetch(1)\n",
    "# ini fungsinya buat nge ubah dataset jadi windowed"
   ]
  },
  {
   "cell_type": "markdown",
   "metadata": {},
   "source": [
    "ubah tipe data dari kode barang menjadi nilai angka"
   ]
  },
  {
   "cell_type": "code",
   "execution_count": 20,
   "metadata": {},
   "outputs": [],
   "source": [
    "col = c0.KodeBarang.values"
   ]
  },
  {
   "cell_type": "code",
   "execution_count": 21,
   "metadata": {},
   "outputs": [],
   "source": [
    "#next kita ubah bentuk data nya dari yang tadinya kesamping jadi ke bawah, tapi pertama mau aku drop dulu cluster sama kode produknya\n",
    "c0=c0.drop(columns=['KodeBarang','cluster'])\n",
    "c0_t = c0_t.drop(columns=['KodeBarang','cluster'])"
   ]
  },
  {
   "cell_type": "markdown",
   "metadata": {},
   "source": [
    "Plot per produk cluster 0\n",
    "Kenapa? Karena kita ingin melihat mana produk yang sekiranya outlier, apakah sebagian besar mengikuti sebuah pola, dll"
   ]
  },
  {
   "cell_type": "code",
   "execution_count": 22,
   "metadata": {},
   "outputs": [
    {
     "data": {
      "text/plain": [
       "<AxesSubplot:>"
      ]
     },
     "execution_count": 22,
     "metadata": {},
     "output_type": "execute_result"
    },
    {
     "data": {
      "image/png": "[encoded data removed]",
      "text/plain": [
       "<Figure size 432x288 with 1 Axes>"
      ]
     },
     "metadata": {
      "needs_background": "light"
     },
     "output_type": "display_data"
    }
   ],
   "source": [
    "c0.set_index(col,inplace=True)\n",
    "c0.T.plot()"
   ]
  },
  {
   "cell_type": "code",
   "execution_count": 23,
   "metadata": {},
   "outputs": [],
   "source": [
    "#Ambil satu sample dari cluster 0\n",
    "# c0 = c0.sample()"
   ]
  },
  {
   "cell_type": "code",
   "execution_count": 24,
   "metadata": {},
   "outputs": [],
   "source": [
    "#014115 hasilnya nyaris bagus\n",
    "# c0"
   ]
  },
  {
   "cell_type": "code",
   "execution_count": 25,
   "metadata": {},
   "outputs": [],
   "source": [
    "# c0.T.plot()"
   ]
  },
  {
   "cell_type": "code",
   "execution_count": 26,
   "metadata": {},
   "outputs": [],
   "source": [
    "#next, buat dia kayak berbentuk time series seperti biasanya, which is datanya ke bawah, tapi di average per tanggal \n",
    "new_c0=[]\n",
    "time=[]\n",
    "\n",
    "for idx,a in enumerate(c0):\n",
    "    new_c0.append(c0[a].mean())\n",
    "    time.append(idx)\n"
   ]
  },
  {
   "cell_type": "code",
   "execution_count": 27,
   "metadata": {},
   "outputs": [],
   "source": [
    "#sama aja kayak di atas cuman data test\n",
    "new_c0_t=[]\n",
    "time_t=[]\n",
    "i = 55\n",
    "for idx,a in enumerate(c0_t):\n",
    "    new_c0_t.append(c0_t[a].mean())\n",
    "    time_t.append(i)\n",
    "    i+=1"
   ]
  },
  {
   "cell_type": "code",
   "execution_count": 28,
   "metadata": {},
   "outputs": [
    {
     "data": {
      "text/plain": [
       "[28.571428571428573,\n",
       " 28.15714285714286,\n",
       " 27.728571428571428,\n",
       " 32.68571428571428,\n",
       " 34.68571428571428,\n",
       " 25.014285714285716]"
      ]
     },
     "execution_count": 28,
     "metadata": {},
     "output_type": "execute_result"
    }
   ],
   "source": [
    "#cek isi data test nya\n",
    "new_c0_t"
   ]
  },
  {
   "cell_type": "code",
   "execution_count": 29,
   "metadata": {},
   "outputs": [],
   "source": [
    "#normalisasi, karena gap nya ada yang sampe ribuan, biar lebih gampang tugas ann nya\n",
    "series=new_c0\n",
    "min = np.min(series)\n",
    "max = np.max(series)\n",
    "series = series - min\n",
    "series = series / (max-min)\n",
    "time = np.array(time)"
   ]
  },
  {
   "cell_type": "code",
   "execution_count": 30,
   "metadata": {},
   "outputs": [],
   "source": [
    "#sama aja cuman isi data test\n",
    "series_t=new_c0_t\n",
    "min_t = np.min(series_t)\n",
    "max_t = np.max(series_t)\n",
    "series_t = series_t - min_t\n",
    "series_t = series_t / (max_t-min_t)\n",
    "time_t = np.array(time_t)"
   ]
  },
  {
   "cell_type": "code",
   "execution_count": 31,
   "metadata": {},
   "outputs": [
    {
     "data": {
      "text/plain": [
       "array([0.36779911, 0.32496307, 0.28064993, 0.79320532, 1.        ,\n",
       "       0.        ])"
      ]
     },
     "execution_count": 31,
     "metadata": {},
     "output_type": "execute_result"
    }
   ],
   "source": [
    "#cek isi data test nya yang udah di normalisasi\n",
    "series_t"
   ]
  },
  {
   "cell_type": "code",
   "execution_count": 32,
   "metadata": {},
   "outputs": [],
   "source": [
    "#time splitting, jadi data train dan test keduanya dapet waktu yang pas, gak kepanjangan atau kependekan sebelah\n",
    "\n",
    "split_time = 3 # ini berapa bulan terkahir yang mau di potong buat pengujian?\n",
    "\n",
    "time_train = time\n",
    "x_train =  series\n",
    "time_valid =  time_t\n",
    "x_valid =  series_t"
   ]
  },
  {
   "cell_type": "code",
   "execution_count": 33,
   "metadata": {},
   "outputs": [
    {
     "data": {
      "text/plain": [
       "(54,)"
      ]
     },
     "execution_count": 33,
     "metadata": {},
     "output_type": "execute_result"
    }
   ],
   "source": [
    "#Cek inputan dari data train itu udah sesuai belum? Ini menunjukkan berapa bulan yang di train\n",
    "x_train.shape"
   ]
  },
  {
   "cell_type": "code",
   "execution_count": 34,
   "metadata": {},
   "outputs": [
    {
     "data": {
      "text/plain": [
       "(6,)"
      ]
     },
     "execution_count": 34,
     "metadata": {},
     "output_type": "execute_result"
    }
   ],
   "source": [
    "#sama cuman data test\n",
    "x_valid.shape"
   ]
  },
  {
   "cell_type": "code",
   "execution_count": 35,
   "metadata": {},
   "outputs": [],
   "source": [
    "#buat data biar dibagi per window, jadi me masang masangkan waktu dan value,\n",
    "window_size = 2\n",
    "batch_size = 8\n",
    "shuffle_buffer_size = 10\n",
    "\n",
    "train_set = windowed_dataset(x_train, window_size, batch_size, shuffle_buffer_size)\n",
    "valid_set = windowed_dataset(x_valid, window_size, batch_size, shuffle_buffer_size)"
   ]
  },
  {
   "cell_type": "code",
   "execution_count": 36,
   "metadata": {},
   "outputs": [
    {
     "data": {
      "text/plain": [
       "<PrefetchDataset shapes: ((None, None, 1), (None, None, 1)), types: (tf.float64, tf.float64)>"
      ]
     },
     "execution_count": 36,
     "metadata": {},
     "output_type": "execute_result"
    }
   ],
   "source": [
    "#cek isi train set\n",
    "train_set"
   ]
  },
  {
   "cell_type": "code",
   "execution_count": 37,
   "metadata": {},
   "outputs": [
    {
     "data": {
      "text/plain": [
       "<PrefetchDataset shapes: ((None, None, 1), (None, None, 1)), types: (tf.float64, tf.float64)>"
      ]
     },
     "execution_count": 37,
     "metadata": {},
     "output_type": "execute_result"
    }
   ],
   "source": [
    "#sama, cuman set validasi, pastikan keduanya sama\n",
    "valid_set"
   ]
  },
  {
   "cell_type": "markdown",
   "metadata": {},
   "source": [
    "Deklarasi Early Stopping sebagai fungsi callback\n",
    "\n",
    "Callback itu adalah sebuah fungsi yang di panggil (lalu fungsi itu melakukan pemeriksaan) setiap selesa 1 epoch\n",
    "fungsinya adalah untuk melakukan pemeriksaan dan tindakan kalo sesuatu hal terjadi setelah training.\n",
    "Penerapannya macam macam, ada yang untuk men save model setiap 5 epochs (checkpoint), ada memeriksa perubahan akurasi, dll\n",
    "\n",
    "Nah sekarang kita pakai early stopping, yang berfungsi kalau dalam sekian epochs (`patience`) gak ada perubahan, dan perubahan loss dibawah nilai `min_delta` yang kita inginkan (inget ya perubahan itu mutlak),,, kita bakal hentikan proses training... dan menyimpan hasil terbaik"
   ]
  },
  {
   "cell_type": "code",
   "execution_count": 38,
   "metadata": {},
   "outputs": [],
   "source": [
    "from keras.callbacks import  EarlyStopping\n",
    "callbacks = EarlyStopping(\n",
    "    min_delta=0.000001,\n",
    "    \n",
    "    patience=50,\n",
    "    restore_best_weights=True,\n",
    ")"
   ]
  },
  {
   "cell_type": "markdown",
   "metadata": {},
   "source": [
    "Penyusunan deep learning nya\n",
    "\n",
    "Kita Menggunakan BLSTM atau *Bidirectional Long Short Term Memory*. BLSTM adalah proses pembuatan jaringan syaraf tiruan untuk memiliki urutan informasi dalam kedua arah mundur (masa depan ke masa lalu) atau maju (masa lalu ke masa depan).\n",
    "\n",
    "\n",
    "kalo ini pake BLSTM dengan input layer sebanyak 2 neuron, BLSTM layer ada dua, yang pertama ada 64 neuron, terus yang kedua ada 32 neuron, dibuat mengkerucut (segitiga terbalik) seolah kita menyederhanakan data datanya, jadi kan makin dalem makin sedikit tuh, karena ada yang ga kepake kepake buat menentukan sales nya dan lain lain, \n",
    "\n",
    "terus setiap selesai masuk BLSTM layer, ada dropout, itu tuh untuk mengeliminasi secara random (di case ini 50%) sambungan antara neuron, dan nge \"matiin\" neuronnya itu juga, mensimulasi degradasi neuron dan sambungannya saat kita tidur, alias proses mengubah ingatan jadi jangka menengah ke panjang dari apa yang kita dapatkan pada hari itu. "
   ]
  },
  {
   "cell_type": "code",
   "execution_count": 39,
   "metadata": {},
   "outputs": [],
   "source": [
    "model = tf.keras.Sequential([\n",
    "        tf.keras.layers.Dense(2, input_shape=[None, 1]),\n",
    "        tf.keras.layers.Bidirectional(tf.keras.layers.LSTM(32,return_sequences=True)),\n",
    "        #tf.keras.layers.Dropout(0.5),\n",
    "        #tf.keras.layers.Bidirectional(tf.keras.layers.LSTM(32)),\n",
    "        tf.keras.layers.Dropout(0.5),\n",
    "        tf.keras.layers.Dense(32),\n",
    "        tf.keras.layers.Dense(16, kernel_regularizer = tf.keras.regularizers.L1(l1=0.001)),\n",
    "        #tf.keras.layers.Dropout(0.5),\n",
    "        tf.keras.layers.Dense(1),\n",
    "    ])\n",
    "\n",
    "    #the blstm part"
   ]
  },
  {
   "cell_type": "code",
   "execution_count": 40,
   "metadata": {},
   "outputs": [],
   "source": [
    "# model = tf.keras.Sequential([\n",
    "# tf.keras.layers.Bidirectional(tf.keras.layers.LSTM(50, activation='relu'), input_shape=[None, 1]),\n",
    "# tf.keras.layers.Dense(1)\n",
    "# ])"
   ]
  },
  {
   "cell_type": "code",
   "execution_count": 41,
   "metadata": {},
   "outputs": [],
   "source": [
    "# The model below has successfully achieved a validation mse of 0.04 and it can predict almost perfectly.\n",
    "# model = tf.keras.Sequential([\n",
    "#         tf.keras.layers.Dense(2, input_shape=[None, 1]),\n",
    "#         tf.keras.layers.Bidirectional(tf.keras.layers.GRU(80,return_sequences=True)),\n",
    "#         tf.keras.layers.Bidirectional(tf.keras.layers.GRU(100)), #tadi 64 hampir berhasil\n",
    "        \n",
    "#         tf.keras.layers.Flatten(),\n",
    "#         tf.keras.layers.Dense(1024, activation='relu'),\n",
    "#         tf.keras.layers.Dropout(0.5),\n",
    "#         tf.keras.layers.Dense(512, activation='relu',kernel_regularizer=tf.keras.regularizers.l1(l1=0.01)),\n",
    "#         tf.keras.layers.Dense(64, activation='relu',kernel_regularizer=tf.keras.regularizers.l1_l2(l1=0.01, l2=0.01)),\n",
    "#         tf.keras.layers.Dense(32, activation='relu'),\n",
    "#         tf.keras.layers.Dropout(0.3),\n",
    "#         tf.keras.layers.Dense(1, activation='relu')\n",
    "#     ])"
   ]
  },
  {
   "cell_type": "code",
   "execution_count": 42,
   "metadata": {},
   "outputs": [
    {
     "name": "stdout",
     "output_type": "stream",
     "text": [
      "Model: \"sequential\"\n",
      "_________________________________________________________________\n",
      "Layer (type)                 Output Shape              Param #   \n",
      "=================================================================\n",
      "dense (Dense)                (None, None, 2)           4         \n",
      "_________________________________________________________________\n",
      "bidirectional (Bidirectional (None, None, 64)          8960      \n",
      "_________________________________________________________________\n",
      "dropout (Dropout)            (None, None, 64)          0         \n",
      "_________________________________________________________________\n",
      "dense_1 (Dense)              (None, None, 32)          2080      \n",
      "_________________________________________________________________\n",
      "dense_2 (Dense)              (None, None, 16)          528       \n",
      "_________________________________________________________________\n",
      "dense_3 (Dense)              (None, None, 1)           17        \n",
      "=================================================================\n",
      "Total params: 11,589\n",
      "Trainable params: 11,589\n",
      "Non-trainable params: 0\n",
      "_________________________________________________________________\n",
      "Epoch 1/1500\n",
      "7/7 [==============================] - 5s 155ms/step - loss: 0.2199 - mae: 0.2879 - val_loss: 0.3058 - val_mae: 0.3840\n",
      "Epoch 2/1500\n",
      "7/7 [==============================] - 0s 7ms/step - loss: 0.1375 - mae: 0.1666 - val_loss: 0.2439 - val_mae: 0.3295\n",
      "Epoch 3/1500\n",
      "7/7 [==============================] - 0s 8ms/step - loss: 0.1297 - mae: 0.1624 - val_loss: 0.2392 - val_mae: 0.3265\n",
      "Epoch 4/1500\n",
      "7/7 [==============================] - 0s 7ms/step - loss: 0.1194 - mae: 0.1369 - val_loss: 0.2419 - val_mae: 0.3259\n",
      "Epoch 5/1500\n",
      "7/7 [==============================] - 0s 7ms/step - loss: 0.1130 - mae: 0.1238 - val_loss: 0.2504 - val_mae: 0.3255\n",
      "Epoch 6/1500\n",
      "7/7 [==============================] - 0s 7ms/step - loss: 0.1167 - mae: 0.1378 - val_loss: 0.2457 - val_mae: 0.3233\n",
      "Epoch 7/1500\n",
      "7/7 [==============================] - 0s 7ms/step - loss: 0.1107 - mae: 0.1292 - val_loss: 0.2363 - val_mae: 0.3206\n",
      "Epoch 8/1500\n",
      "7/7 [==============================] - 0s 7ms/step - loss: 0.1086 - mae: 0.1259 - val_loss: 0.2300 - val_mae: 0.3181\n",
      "Epoch 9/1500\n",
      "7/7 [==============================] - 0s 8ms/step - loss: 0.1072 - mae: 0.1256 - val_loss: 0.2291 - val_mae: 0.3166\n",
      "Epoch 10/1500\n",
      "7/7 [==============================] - 0s 7ms/step - loss: 0.1041 - mae: 0.1235 - val_loss: 0.2310 - val_mae: 0.3158\n",
      "Epoch 11/1500\n",
      "7/7 [==============================] - 0s 7ms/step - loss: 0.1040 - mae: 0.1208 - val_loss: 0.2289 - val_mae: 0.3143\n",
      "Epoch 12/1500\n",
      "7/7 [==============================] - 0s 7ms/step - loss: 0.0999 - mae: 0.1223 - val_loss: 0.2249 - val_mae: 0.3121\n",
      "Epoch 13/1500\n",
      "7/7 [==============================] - 0s 7ms/step - loss: 0.1010 - mae: 0.1248 - val_loss: 0.2213 - val_mae: 0.3104\n",
      "Epoch 14/1500\n",
      "7/7 [==============================] - 0s 7ms/step - loss: 0.0989 - mae: 0.1238 - val_loss: 0.2201 - val_mae: 0.3096\n",
      "Epoch 15/1500\n",
      "7/7 [==============================] - 0s 7ms/step - loss: 0.0970 - mae: 0.1277 - val_loss: 0.2209 - val_mae: 0.3091\n",
      "Epoch 16/1500\n",
      "7/7 [==============================] - 0s 7ms/step - loss: 0.0972 - mae: 0.1246 - val_loss: 0.2188 - val_mae: 0.3082\n",
      "Epoch 17/1500\n",
      "7/7 [==============================] - 0s 7ms/step - loss: 0.0948 - mae: 0.1211 - val_loss: 0.2153 - val_mae: 0.3068\n",
      "Epoch 18/1500\n",
      "7/7 [==============================] - 0s 7ms/step - loss: 0.0901 - mae: 0.1178 - val_loss: 0.2139 - val_mae: 0.3056\n",
      "Epoch 19/1500\n",
      "7/7 [==============================] - 0s 7ms/step - loss: 0.0885 - mae: 0.1134 - val_loss: 0.2131 - val_mae: 0.3044\n",
      "Epoch 20/1500\n",
      "7/7 [==============================] - 0s 7ms/step - loss: 0.0866 - mae: 0.1143 - val_loss: 0.2120 - val_mae: 0.3032\n",
      "Epoch 21/1500\n",
      "7/7 [==============================] - 0s 7ms/step - loss: 0.0900 - mae: 0.1256 - val_loss: 0.2093 - val_mae: 0.3016\n",
      "Epoch 22/1500\n",
      "7/7 [==============================] - 0s 7ms/step - loss: 0.0849 - mae: 0.1184 - val_loss: 0.2073 - val_mae: 0.2998\n",
      "Epoch 23/1500\n",
      "7/7 [==============================] - 0s 7ms/step - loss: 0.0830 - mae: 0.1135 - val_loss: 0.2045 - val_mae: 0.2978\n",
      "Epoch 24/1500\n",
      "7/7 [==============================] - 0s 9ms/step - loss: 0.0810 - mae: 0.1191 - val_loss: 0.2010 - val_mae: 0.2952\n",
      "Epoch 25/1500\n",
      "7/7 [==============================] - 0s 10ms/step - loss: 0.0784 - mae: 0.1152 - val_loss: 0.1983 - val_mae: 0.2932\n",
      "Epoch 26/1500\n",
      "7/7 [==============================] - 0s 7ms/step - loss: 0.0761 - mae: 0.1115 - val_loss: 0.1971 - val_mae: 0.2919\n",
      "Epoch 27/1500\n",
      "7/7 [==============================] - 0s 7ms/step - loss: 0.0734 - mae: 0.1063 - val_loss: 0.1958 - val_mae: 0.2907\n",
      "Epoch 28/1500\n",
      "7/7 [==============================] - 0s 7ms/step - loss: 0.0735 - mae: 0.1123 - val_loss: 0.1942 - val_mae: 0.2901\n",
      "Epoch 29/1500\n",
      "7/7 [==============================] - 0s 7ms/step - loss: 0.0721 - mae: 0.1149 - val_loss: 0.1921 - val_mae: 0.2887\n",
      "Epoch 30/1500\n",
      "7/7 [==============================] - 0s 7ms/step - loss: 0.0724 - mae: 0.1177 - val_loss: 0.1908 - val_mae: 0.2879\n",
      "Epoch 31/1500\n",
      "7/7 [==============================] - 0s 7ms/step - loss: 0.0696 - mae: 0.1102 - val_loss: 0.1885 - val_mae: 0.2859\n",
      "Epoch 32/1500\n",
      "7/7 [==============================] - 0s 8ms/step - loss: 0.0708 - mae: 0.1162 - val_loss: 0.1857 - val_mae: 0.2841\n",
      "Epoch 33/1500\n",
      "7/7 [==============================] - 0s 7ms/step - loss: 0.0674 - mae: 0.1129 - val_loss: 0.1852 - val_mae: 0.2844\n",
      "Epoch 34/1500\n",
      "7/7 [==============================] - 0s 8ms/step - loss: 0.0652 - mae: 0.1102 - val_loss: 0.1829 - val_mae: 0.2831\n",
      "Epoch 35/1500\n",
      "7/7 [==============================] - 0s 7ms/step - loss: 0.0641 - mae: 0.1076 - val_loss: 0.1795 - val_mae: 0.2800\n",
      "Epoch 36/1500\n",
      "7/7 [==============================] - 0s 7ms/step - loss: 0.0643 - mae: 0.1151 - val_loss: 0.1767 - val_mae: 0.2765\n",
      "Epoch 37/1500\n",
      "7/7 [==============================] - 0s 7ms/step - loss: 0.0613 - mae: 0.1106 - val_loss: 0.1770 - val_mae: 0.2771\n",
      "Epoch 38/1500\n",
      "7/7 [==============================] - 0s 7ms/step - loss: 0.0626 - mae: 0.1141 - val_loss: 0.1748 - val_mae: 0.2748\n",
      "Epoch 39/1500\n",
      "7/7 [==============================] - 0s 8ms/step - loss: 0.0590 - mae: 0.1100 - val_loss: 0.1729 - val_mae: 0.2723\n",
      "Epoch 40/1500\n",
      "7/7 [==============================] - 0s 8ms/step - loss: 0.0559 - mae: 0.1047 - val_loss: 0.1715 - val_mae: 0.2703\n",
      "Epoch 41/1500\n",
      "7/7 [==============================] - 0s 8ms/step - loss: 0.0553 - mae: 0.1021 - val_loss: 0.1705 - val_mae: 0.2697\n",
      "Epoch 42/1500\n",
      "7/7 [==============================] - 0s 7ms/step - loss: 0.0544 - mae: 0.1022 - val_loss: 0.1707 - val_mae: 0.2703\n",
      "Epoch 43/1500\n",
      "7/7 [==============================] - 0s 7ms/step - loss: 0.0531 - mae: 0.1025 - val_loss: 0.1699 - val_mae: 0.2704\n",
      "Epoch 44/1500\n",
      "7/7 [==============================] - 0s 7ms/step - loss: 0.0525 - mae: 0.1035 - val_loss: 0.1678 - val_mae: 0.2688\n",
      "Epoch 45/1500\n",
      "7/7 [==============================] - 0s 8ms/step - loss: 0.0529 - mae: 0.1060 - val_loss: 0.1661 - val_mae: 0.2678\n",
      "Epoch 46/1500\n",
      "7/7 [==============================] - 0s 7ms/step - loss: 0.0529 - mae: 0.1098 - val_loss: 0.1643 - val_mae: 0.2676\n",
      "Epoch 47/1500\n",
      "7/7 [==============================] - 0s 7ms/step - loss: 0.0501 - mae: 0.1055 - val_loss: 0.1614 - val_mae: 0.2651\n",
      "Epoch 48/1500\n",
      "7/7 [==============================] - 0s 7ms/step - loss: 0.0482 - mae: 0.1013 - val_loss: 0.1599 - val_mae: 0.2638\n",
      "Epoch 49/1500\n",
      "7/7 [==============================] - 0s 7ms/step - loss: 0.0482 - mae: 0.1008 - val_loss: 0.1589 - val_mae: 0.2628\n",
      "Epoch 50/1500\n",
      "7/7 [==============================] - 0s 7ms/step - loss: 0.0444 - mae: 0.0955 - val_loss: 0.1568 - val_mae: 0.2612\n",
      "Epoch 51/1500\n",
      "7/7 [==============================] - 0s 7ms/step - loss: 0.0472 - mae: 0.1016 - val_loss: 0.1553 - val_mae: 0.2607\n",
      "Epoch 52/1500\n",
      "7/7 [==============================] - 0s 7ms/step - loss: 0.0449 - mae: 0.0963 - val_loss: 0.1551 - val_mae: 0.2604\n",
      "Epoch 53/1500\n",
      "7/7 [==============================] - 0s 7ms/step - loss: 0.0453 - mae: 0.1028 - val_loss: 0.1522 - val_mae: 0.2556\n",
      "Epoch 54/1500\n",
      "7/7 [==============================] - 0s 7ms/step - loss: 0.0467 - mae: 0.1083 - val_loss: 0.1506 - val_mae: 0.2550\n",
      "Epoch 55/1500\n",
      "7/7 [==============================] - 0s 7ms/step - loss: 0.0420 - mae: 0.0959 - val_loss: 0.1509 - val_mae: 0.2559\n",
      "Epoch 56/1500\n",
      "7/7 [==============================] - 0s 7ms/step - loss: 0.0419 - mae: 0.0987 - val_loss: 0.1493 - val_mae: 0.2538\n",
      "Epoch 57/1500\n",
      "7/7 [==============================] - 0s 7ms/step - loss: 0.0422 - mae: 0.0987 - val_loss: 0.1486 - val_mae: 0.2538\n",
      "Epoch 58/1500\n",
      "7/7 [==============================] - 0s 8ms/step - loss: 0.0399 - mae: 0.1000 - val_loss: 0.1479 - val_mae: 0.2521\n",
      "Epoch 59/1500\n",
      "7/7 [==============================] - 0s 7ms/step - loss: 0.0383 - mae: 0.0925 - val_loss: 0.1486 - val_mae: 0.2547\n",
      "Epoch 60/1500\n",
      "7/7 [==============================] - 0s 7ms/step - loss: 0.0414 - mae: 0.0994 - val_loss: 0.1460 - val_mae: 0.2450\n",
      "Epoch 61/1500\n",
      "7/7 [==============================] - 0s 7ms/step - loss: 0.0388 - mae: 0.0983 - val_loss: 0.1451 - val_mae: 0.2456\n",
      "Epoch 62/1500\n",
      "7/7 [==============================] - 0s 7ms/step - loss: 0.0370 - mae: 0.0922 - val_loss: 0.1450 - val_mae: 0.2465\n",
      "Epoch 63/1500\n",
      "7/7 [==============================] - 0s 7ms/step - loss: 0.0379 - mae: 0.1001 - val_loss: 0.1440 - val_mae: 0.2420\n",
      "Epoch 64/1500\n",
      "7/7 [==============================] - 0s 7ms/step - loss: 0.0377 - mae: 0.0982 - val_loss: 0.1439 - val_mae: 0.2441\n",
      "Epoch 65/1500\n",
      "7/7 [==============================] - 0s 7ms/step - loss: 0.0361 - mae: 0.0972 - val_loss: 0.1428 - val_mae: 0.2423\n",
      "Epoch 66/1500\n",
      "7/7 [==============================] - 0s 7ms/step - loss: 0.0363 - mae: 0.0996 - val_loss: 0.1422 - val_mae: 0.2418\n",
      "Epoch 67/1500\n",
      "7/7 [==============================] - 0s 7ms/step - loss: 0.0366 - mae: 0.1015 - val_loss: 0.1427 - val_mae: 0.2507\n",
      "Epoch 68/1500\n",
      "7/7 [==============================] - 0s 7ms/step - loss: 0.0349 - mae: 0.0948 - val_loss: 0.1411 - val_mae: 0.2457\n",
      "Epoch 69/1500\n",
      "7/7 [==============================] - 0s 7ms/step - loss: 0.0348 - mae: 0.1000 - val_loss: 0.1397 - val_mae: 0.2441\n",
      "Epoch 70/1500\n",
      "7/7 [==============================] - 0s 8ms/step - loss: 0.0325 - mae: 0.0910 - val_loss: 0.1391 - val_mae: 0.2422\n",
      "Epoch 71/1500\n",
      "7/7 [==============================] - 0s 7ms/step - loss: 0.0332 - mae: 0.0938 - val_loss: 0.1386 - val_mae: 0.2397\n",
      "Epoch 72/1500\n",
      "7/7 [==============================] - 0s 7ms/step - loss: 0.0335 - mae: 0.0955 - val_loss: 0.1378 - val_mae: 0.2403\n",
      "Epoch 73/1500\n",
      "7/7 [==============================] - 0s 7ms/step - loss: 0.0312 - mae: 0.0950 - val_loss: 0.1368 - val_mae: 0.2391\n",
      "Epoch 74/1500\n",
      "7/7 [==============================] - 0s 7ms/step - loss: 0.0308 - mae: 0.0914 - val_loss: 0.1372 - val_mae: 0.2447\n",
      "Epoch 75/1500\n",
      "7/7 [==============================] - 0s 7ms/step - loss: 0.0309 - mae: 0.0931 - val_loss: 0.1368 - val_mae: 0.2373\n",
      "Epoch 76/1500\n",
      "7/7 [==============================] - 0s 7ms/step - loss: 0.0324 - mae: 0.0959 - val_loss: 0.1360 - val_mae: 0.2384\n",
      "Epoch 77/1500\n",
      "7/7 [==============================] - 0s 8ms/step - loss: 0.0285 - mae: 0.0884 - val_loss: 0.1362 - val_mae: 0.2408\n",
      "Epoch 78/1500\n",
      "7/7 [==============================] - 0s 8ms/step - loss: 0.0300 - mae: 0.0916 - val_loss: 0.1357 - val_mae: 0.2382\n",
      "Epoch 79/1500\n",
      "7/7 [==============================] - 0s 8ms/step - loss: 0.0295 - mae: 0.0894 - val_loss: 0.1350 - val_mae: 0.2367\n",
      "Epoch 80/1500\n",
      "7/7 [==============================] - 0s 7ms/step - loss: 0.0302 - mae: 0.0945 - val_loss: 0.1349 - val_mae: 0.2429\n",
      "Epoch 81/1500\n",
      "7/7 [==============================] - 0s 7ms/step - loss: 0.0289 - mae: 0.0892 - val_loss: 0.1339 - val_mae: 0.2400\n",
      "Epoch 82/1500\n",
      "7/7 [==============================] - 0s 7ms/step - loss: 0.0288 - mae: 0.0926 - val_loss: 0.1332 - val_mae: 0.2369\n",
      "Epoch 83/1500\n",
      "7/7 [==============================] - 0s 8ms/step - loss: 0.0304 - mae: 0.0976 - val_loss: 0.1321 - val_mae: 0.2369\n",
      "Epoch 84/1500\n",
      "7/7 [==============================] - 0s 7ms/step - loss: 0.0280 - mae: 0.0925 - val_loss: 0.1307 - val_mae: 0.2363\n",
      "Epoch 85/1500\n",
      "7/7 [==============================] - 0s 7ms/step - loss: 0.0277 - mae: 0.0924 - val_loss: 0.1305 - val_mae: 0.2344\n",
      "Epoch 86/1500\n",
      "7/7 [==============================] - 0s 7ms/step - loss: 0.0283 - mae: 0.0949 - val_loss: 0.1315 - val_mae: 0.2478\n",
      "Epoch 87/1500\n",
      "7/7 [==============================] - 0s 7ms/step - loss: 0.0274 - mae: 0.0926 - val_loss: 0.1294 - val_mae: 0.2335\n",
      "Epoch 88/1500\n",
      "7/7 [==============================] - 0s 7ms/step - loss: 0.0272 - mae: 0.0968 - val_loss: 0.1296 - val_mae: 0.2373\n",
      "Epoch 89/1500\n",
      "7/7 [==============================] - 0s 8ms/step - loss: 0.0261 - mae: 0.0910 - val_loss: 0.1302 - val_mae: 0.2437\n",
      "Epoch 90/1500\n",
      "7/7 [==============================] - 0s 8ms/step - loss: 0.0265 - mae: 0.0932 - val_loss: 0.1295 - val_mae: 0.2343\n",
      "Epoch 91/1500\n",
      "7/7 [==============================] - 0s 7ms/step - loss: 0.0253 - mae: 0.0892 - val_loss: 0.1289 - val_mae: 0.2340\n",
      "Epoch 92/1500\n",
      "7/7 [==============================] - 0s 7ms/step - loss: 0.0266 - mae: 0.0912 - val_loss: 0.1288 - val_mae: 0.2403\n",
      "Epoch 93/1500\n",
      "7/7 [==============================] - 0s 7ms/step - loss: 0.0261 - mae: 0.0918 - val_loss: 0.1273 - val_mae: 0.2353\n",
      "Epoch 94/1500\n",
      "7/7 [==============================] - 0s 7ms/step - loss: 0.0254 - mae: 0.0930 - val_loss: 0.1277 - val_mae: 0.2397\n",
      "Epoch 95/1500\n",
      "7/7 [==============================] - 0s 7ms/step - loss: 0.0233 - mae: 0.0848 - val_loss: 0.1273 - val_mae: 0.2365\n",
      "Epoch 96/1500\n",
      "7/7 [==============================] - 0s 8ms/step - loss: 0.0246 - mae: 0.0928 - val_loss: 0.1272 - val_mae: 0.2371\n",
      "Epoch 97/1500\n",
      "7/7 [==============================] - 0s 7ms/step - loss: 0.0257 - mae: 0.0912 - val_loss: 0.1268 - val_mae: 0.2348\n",
      "Epoch 98/1500\n",
      "7/7 [==============================] - 0s 7ms/step - loss: 0.0237 - mae: 0.0878 - val_loss: 0.1275 - val_mae: 0.2359\n",
      "Epoch 99/1500\n",
      "7/7 [==============================] - 0s 7ms/step - loss: 0.0250 - mae: 0.0921 - val_loss: 0.1275 - val_mae: 0.2336\n",
      "Epoch 100/1500\n",
      "7/7 [==============================] - 0s 7ms/step - loss: 0.0240 - mae: 0.0904 - val_loss: 0.1273 - val_mae: 0.2335\n",
      "Epoch 101/1500\n",
      "7/7 [==============================] - 0s 9ms/step - loss: 0.0244 - mae: 0.0925 - val_loss: 0.1279 - val_mae: 0.2436\n",
      "Epoch 102/1500\n",
      "7/7 [==============================] - 0s 7ms/step - loss: 0.0223 - mae: 0.0864 - val_loss: 0.1267 - val_mae: 0.2330\n",
      "Epoch 103/1500\n",
      "7/7 [==============================] - 0s 7ms/step - loss: 0.0226 - mae: 0.0904 - val_loss: 0.1274 - val_mae: 0.2458\n",
      "Epoch 104/1500\n",
      "7/7 [==============================] - 0s 7ms/step - loss: 0.0228 - mae: 0.0897 - val_loss: 0.1264 - val_mae: 0.2380\n",
      "Epoch 105/1500\n",
      "7/7 [==============================] - 0s 7ms/step - loss: 0.0227 - mae: 0.0892 - val_loss: 0.1269 - val_mae: 0.2449\n",
      "Epoch 106/1500\n",
      "7/7 [==============================] - 0s 7ms/step - loss: 0.0237 - mae: 0.0937 - val_loss: 0.1257 - val_mae: 0.2331\n",
      "Epoch 107/1500\n",
      "7/7 [==============================] - 0s 7ms/step - loss: 0.0227 - mae: 0.0934 - val_loss: 0.1252 - val_mae: 0.2360\n",
      "Epoch 108/1500\n",
      "7/7 [==============================] - 0s 7ms/step - loss: 0.0230 - mae: 0.0902 - val_loss: 0.1246 - val_mae: 0.2309\n",
      "Epoch 109/1500\n",
      "7/7 [==============================] - 0s 7ms/step - loss: 0.0221 - mae: 0.0883 - val_loss: 0.1246 - val_mae: 0.2305\n",
      "Epoch 110/1500\n",
      "7/7 [==============================] - 0s 8ms/step - loss: 0.0221 - mae: 0.0921 - val_loss: 0.1245 - val_mae: 0.2329\n",
      "Epoch 111/1500\n",
      "7/7 [==============================] - 0s 7ms/step - loss: 0.0212 - mae: 0.0875 - val_loss: 0.1245 - val_mae: 0.2313\n",
      "Epoch 112/1500\n",
      "7/7 [==============================] - 0s 7ms/step - loss: 0.0216 - mae: 0.0892 - val_loss: 0.1247 - val_mae: 0.2327\n",
      "Epoch 113/1500\n",
      "7/7 [==============================] - 0s 7ms/step - loss: 0.0213 - mae: 0.0868 - val_loss: 0.1245 - val_mae: 0.2346\n",
      "Epoch 114/1500\n",
      "7/7 [==============================] - 0s 7ms/step - loss: 0.0206 - mae: 0.0879 - val_loss: 0.1245 - val_mae: 0.2374\n",
      "Epoch 115/1500\n",
      "7/7 [==============================] - 0s 7ms/step - loss: 0.0220 - mae: 0.0948 - val_loss: 0.1249 - val_mae: 0.2394\n",
      "Epoch 116/1500\n",
      "7/7 [==============================] - 0s 8ms/step - loss: 0.0221 - mae: 0.0902 - val_loss: 0.1244 - val_mae: 0.2342\n",
      "Epoch 117/1500\n",
      "7/7 [==============================] - 0s 8ms/step - loss: 0.0202 - mae: 0.0858 - val_loss: 0.1240 - val_mae: 0.2316\n",
      "Epoch 118/1500\n",
      "7/7 [==============================] - 0s 7ms/step - loss: 0.0205 - mae: 0.0860 - val_loss: 0.1239 - val_mae: 0.2320\n",
      "Epoch 119/1500\n",
      "7/7 [==============================] - 0s 7ms/step - loss: 0.0195 - mae: 0.0862 - val_loss: 0.1236 - val_mae: 0.2320\n",
      "Epoch 120/1500\n",
      "7/7 [==============================] - 0s 7ms/step - loss: 0.0204 - mae: 0.0860 - val_loss: 0.1234 - val_mae: 0.2335\n",
      "Epoch 121/1500\n",
      "7/7 [==============================] - 0s 7ms/step - loss: 0.0209 - mae: 0.0871 - val_loss: 0.1228 - val_mae: 0.2307\n",
      "Epoch 122/1500\n",
      "7/7 [==============================] - 0s 8ms/step - loss: 0.0201 - mae: 0.0859 - val_loss: 0.1232 - val_mae: 0.2327\n",
      "Epoch 123/1500\n",
      "7/7 [==============================] - 0s 7ms/step - loss: 0.0216 - mae: 0.0936 - val_loss: 0.1233 - val_mae: 0.2336\n",
      "Epoch 124/1500\n",
      "7/7 [==============================] - 0s 7ms/step - loss: 0.0209 - mae: 0.0896 - val_loss: 0.1248 - val_mae: 0.2394\n",
      "Epoch 125/1500\n",
      "7/7 [==============================] - 0s 11ms/step - loss: 0.0204 - mae: 0.0925 - val_loss: 0.1248 - val_mae: 0.2438\n",
      "Epoch 126/1500\n",
      "7/7 [==============================] - 0s 8ms/step - loss: 0.0207 - mae: 0.0871 - val_loss: 0.1243 - val_mae: 0.2352\n",
      "Epoch 127/1500\n",
      "7/7 [==============================] - 0s 7ms/step - loss: 0.0200 - mae: 0.0880 - val_loss: 0.1240 - val_mae: 0.2347\n",
      "Epoch 128/1500\n",
      "7/7 [==============================] - 0s 7ms/step - loss: 0.0190 - mae: 0.0863 - val_loss: 0.1238 - val_mae: 0.2317\n",
      "Epoch 129/1500\n",
      "7/7 [==============================] - 0s 7ms/step - loss: 0.0184 - mae: 0.0854 - val_loss: 0.1247 - val_mae: 0.2392\n",
      "Epoch 130/1500\n",
      "7/7 [==============================] - 0s 7ms/step - loss: 0.0203 - mae: 0.0870 - val_loss: 0.1253 - val_mae: 0.2368\n",
      "Epoch 131/1500\n",
      "7/7 [==============================] - 0s 7ms/step - loss: 0.0190 - mae: 0.0857 - val_loss: 0.1249 - val_mae: 0.2388\n",
      "Epoch 132/1500\n",
      "7/7 [==============================] - 0s 7ms/step - loss: 0.0193 - mae: 0.0849 - val_loss: 0.1246 - val_mae: 0.2345\n",
      "Epoch 133/1500\n",
      "7/7 [==============================] - 0s 8ms/step - loss: 0.0200 - mae: 0.0885 - val_loss: 0.1241 - val_mae: 0.2335\n",
      "Epoch 134/1500\n",
      "7/7 [==============================] - 0s 7ms/step - loss: 0.0196 - mae: 0.0889 - val_loss: 0.1233 - val_mae: 0.2333\n",
      "Epoch 135/1500\n",
      "7/7 [==============================] - 0s 7ms/step - loss: 0.0183 - mae: 0.0866 - val_loss: 0.1236 - val_mae: 0.2371\n",
      "Epoch 136/1500\n",
      "7/7 [==============================] - 0s 7ms/step - loss: 0.0187 - mae: 0.0879 - val_loss: 0.1233 - val_mae: 0.2320\n",
      "Epoch 137/1500\n",
      "7/7 [==============================] - 0s 7ms/step - loss: 0.0189 - mae: 0.0914 - val_loss: 0.1239 - val_mae: 0.2337\n",
      "Epoch 138/1500\n",
      "7/7 [==============================] - 0s 7ms/step - loss: 0.0183 - mae: 0.0860 - val_loss: 0.1242 - val_mae: 0.2353\n",
      "Epoch 139/1500\n",
      "7/7 [==============================] - 0s 7ms/step - loss: 0.0192 - mae: 0.0876 - val_loss: 0.1253 - val_mae: 0.2355\n",
      "Epoch 140/1500\n",
      "7/7 [==============================] - 0s 7ms/step - loss: 0.0198 - mae: 0.0893 - val_loss: 0.1243 - val_mae: 0.2337\n",
      "Epoch 141/1500\n",
      "7/7 [==============================] - 0s 7ms/step - loss: 0.0194 - mae: 0.0858 - val_loss: 0.1247 - val_mae: 0.2367\n",
      "Epoch 142/1500\n",
      "7/7 [==============================] - 0s 7ms/step - loss: 0.0181 - mae: 0.0864 - val_loss: 0.1242 - val_mae: 0.2390\n",
      "Epoch 143/1500\n",
      "7/7 [==============================] - 0s 7ms/step - loss: 0.0185 - mae: 0.0853 - val_loss: 0.1251 - val_mae: 0.2362\n",
      "Epoch 144/1500\n",
      "7/7 [==============================] - 0s 7ms/step - loss: 0.0193 - mae: 0.0892 - val_loss: 0.1253 - val_mae: 0.2383\n",
      "Epoch 145/1500\n",
      "7/7 [==============================] - 0s 7ms/step - loss: 0.0182 - mae: 0.0855 - val_loss: 0.1237 - val_mae: 0.2332\n",
      "Epoch 146/1500\n",
      "7/7 [==============================] - 0s 7ms/step - loss: 0.0183 - mae: 0.0854 - val_loss: 0.1242 - val_mae: 0.2336\n",
      "Epoch 147/1500\n",
      "7/7 [==============================] - 0s 7ms/step - loss: 0.0178 - mae: 0.0849 - val_loss: 0.1242 - val_mae: 0.2332\n",
      "Epoch 148/1500\n",
      "7/7 [==============================] - 0s 7ms/step - loss: 0.0184 - mae: 0.0881 - val_loss: 0.1238 - val_mae: 0.2327\n",
      "Epoch 149/1500\n",
      "7/7 [==============================] - 0s 7ms/step - loss: 0.0187 - mae: 0.0887 - val_loss: 0.1245 - val_mae: 0.2343\n",
      "Epoch 150/1500\n",
      "7/7 [==============================] - 0s 7ms/step - loss: 0.0184 - mae: 0.0857 - val_loss: 0.1239 - val_mae: 0.2361\n",
      "Epoch 151/1500\n",
      "7/7 [==============================] - 0s 8ms/step - loss: 0.0189 - mae: 0.0875 - val_loss: 0.1235 - val_mae: 0.2327\n",
      "Epoch 152/1500\n",
      "7/7 [==============================] - 0s 7ms/step - loss: 0.0181 - mae: 0.0858 - val_loss: 0.1227 - val_mae: 0.2305\n",
      "Epoch 153/1500\n",
      "7/7 [==============================] - 0s 7ms/step - loss: 0.0180 - mae: 0.0873 - val_loss: 0.1235 - val_mae: 0.2333\n",
      "Epoch 154/1500\n",
      "7/7 [==============================] - 0s 7ms/step - loss: 0.0173 - mae: 0.0829 - val_loss: 0.1252 - val_mae: 0.2372\n",
      "Epoch 155/1500\n",
      "7/7 [==============================] - 0s 7ms/step - loss: 0.0183 - mae: 0.0876 - val_loss: 0.1239 - val_mae: 0.2346\n",
      "Epoch 156/1500\n",
      "7/7 [==============================] - 0s 7ms/step - loss: 0.0177 - mae: 0.0824 - val_loss: 0.1250 - val_mae: 0.2365\n",
      "Epoch 157/1500\n",
      "7/7 [==============================] - 0s 8ms/step - loss: 0.0187 - mae: 0.0888 - val_loss: 0.1232 - val_mae: 0.2341\n",
      "Epoch 158/1500\n",
      "7/7 [==============================] - 0s 8ms/step - loss: 0.0177 - mae: 0.0851 - val_loss: 0.1244 - val_mae: 0.2352\n",
      "Epoch 159/1500\n",
      "7/7 [==============================] - 0s 9ms/step - loss: 0.0171 - mae: 0.0839 - val_loss: 0.1229 - val_mae: 0.2321\n",
      "Epoch 160/1500\n",
      "7/7 [==============================] - 0s 8ms/step - loss: 0.0169 - mae: 0.0829 - val_loss: 0.1234 - val_mae: 0.2330\n",
      "Epoch 161/1500\n",
      "7/7 [==============================] - 0s 7ms/step - loss: 0.0189 - mae: 0.0884 - val_loss: 0.1233 - val_mae: 0.2394\n",
      "Epoch 162/1500\n",
      "7/7 [==============================] - 0s 7ms/step - loss: 0.0184 - mae: 0.0867 - val_loss: 0.1236 - val_mae: 0.2326\n",
      "Epoch 163/1500\n",
      "7/7 [==============================] - 0s 8ms/step - loss: 0.0183 - mae: 0.0871 - val_loss: 0.1238 - val_mae: 0.2342\n",
      "Epoch 164/1500\n",
      "7/7 [==============================] - 0s 7ms/step - loss: 0.0174 - mae: 0.0845 - val_loss: 0.1252 - val_mae: 0.2525\n",
      "Epoch 165/1500\n",
      "7/7 [==============================] - 0s 7ms/step - loss: 0.0189 - mae: 0.0851 - val_loss: 0.1251 - val_mae: 0.2378\n",
      "Epoch 166/1500\n",
      "7/7 [==============================] - 0s 7ms/step - loss: 0.0185 - mae: 0.0912 - val_loss: 0.1231 - val_mae: 0.2340\n",
      "Epoch 167/1500\n",
      "7/7 [==============================] - 0s 7ms/step - loss: 0.0170 - mae: 0.0851 - val_loss: 0.1231 - val_mae: 0.2339\n",
      "Epoch 168/1500\n",
      "7/7 [==============================] - 0s 7ms/step - loss: 0.0179 - mae: 0.0863 - val_loss: 0.1231 - val_mae: 0.2318\n",
      "Epoch 169/1500\n",
      "7/7 [==============================] - 0s 7ms/step - loss: 0.0182 - mae: 0.0871 - val_loss: 0.1223 - val_mae: 0.2326\n",
      "Epoch 170/1500\n",
      "7/7 [==============================] - 0s 7ms/step - loss: 0.0174 - mae: 0.0839 - val_loss: 0.1223 - val_mae: 0.2308\n",
      "Epoch 171/1500\n",
      "7/7 [==============================] - 0s 8ms/step - loss: 0.0161 - mae: 0.0804 - val_loss: 0.1229 - val_mae: 0.2316\n",
      "Epoch 172/1500\n",
      "7/7 [==============================] - 0s 8ms/step - loss: 0.0172 - mae: 0.0835 - val_loss: 0.1232 - val_mae: 0.2322\n",
      "Epoch 173/1500\n",
      "7/7 [==============================] - 0s 7ms/step - loss: 0.0171 - mae: 0.0833 - val_loss: 0.1230 - val_mae: 0.2306\n",
      "Epoch 174/1500\n",
      "7/7 [==============================] - 0s 7ms/step - loss: 0.0164 - mae: 0.0816 - val_loss: 0.1230 - val_mae: 0.2323\n",
      "Epoch 175/1500\n",
      "7/7 [==============================] - 0s 7ms/step - loss: 0.0171 - mae: 0.0847 - val_loss: 0.1235 - val_mae: 0.2341\n",
      "Epoch 176/1500\n",
      "7/7 [==============================] - 0s 7ms/step - loss: 0.0183 - mae: 0.0860 - val_loss: 0.1240 - val_mae: 0.2330\n",
      "Epoch 177/1500\n",
      "7/7 [==============================] - 0s 8ms/step - loss: 0.0184 - mae: 0.0868 - val_loss: 0.1239 - val_mae: 0.2334\n",
      "Epoch 178/1500\n",
      "7/7 [==============================] - 0s 9ms/step - loss: 0.0185 - mae: 0.0883 - val_loss: 0.1249 - val_mae: 0.2531\n",
      "Epoch 179/1500\n",
      "7/7 [==============================] - 0s 7ms/step - loss: 0.0176 - mae: 0.0858 - val_loss: 0.1247 - val_mae: 0.2340\n",
      "Epoch 180/1500\n",
      "7/7 [==============================] - 0s 7ms/step - loss: 0.0164 - mae: 0.0799 - val_loss: 0.1244 - val_mae: 0.2331\n",
      "Epoch 181/1500\n",
      "7/7 [==============================] - 0s 7ms/step - loss: 0.0174 - mae: 0.0854 - val_loss: 0.1244 - val_mae: 0.2341\n",
      "Epoch 182/1500\n",
      "7/7 [==============================] - 0s 8ms/step - loss: 0.0178 - mae: 0.0848 - val_loss: 0.1251 - val_mae: 0.2348\n",
      "Epoch 183/1500\n",
      "7/7 [==============================] - 0s 7ms/step - loss: 0.0174 - mae: 0.0862 - val_loss: 0.1239 - val_mae: 0.2324\n",
      "Epoch 184/1500\n",
      "7/7 [==============================] - 0s 7ms/step - loss: 0.0171 - mae: 0.0840 - val_loss: 0.1235 - val_mae: 0.2314\n",
      "Epoch 185/1500\n",
      "7/7 [==============================] - 0s 7ms/step - loss: 0.0160 - mae: 0.0821 - val_loss: 0.1244 - val_mae: 0.2336\n",
      "Epoch 186/1500\n",
      "7/7 [==============================] - 0s 7ms/step - loss: 0.0172 - mae: 0.0871 - val_loss: 0.1237 - val_mae: 0.2320\n",
      "Epoch 187/1500\n",
      "7/7 [==============================] - 0s 8ms/step - loss: 0.0175 - mae: 0.0851 - val_loss: 0.1244 - val_mae: 0.2332\n",
      "Epoch 188/1500\n",
      "7/7 [==============================] - 0s 8ms/step - loss: 0.0171 - mae: 0.0836 - val_loss: 0.1239 - val_mae: 0.2328\n",
      "Epoch 189/1500\n",
      "7/7 [==============================] - 0s 7ms/step - loss: 0.0162 - mae: 0.0805 - val_loss: 0.1242 - val_mae: 0.2324\n",
      "Epoch 190/1500\n",
      "7/7 [==============================] - 0s 7ms/step - loss: 0.0172 - mae: 0.0862 - val_loss: 0.1246 - val_mae: 0.2352\n",
      "Epoch 191/1500\n",
      "7/7 [==============================] - 0s 7ms/step - loss: 0.0175 - mae: 0.0840 - val_loss: 0.1250 - val_mae: 0.2339\n",
      "Epoch 192/1500\n",
      "7/7 [==============================] - 0s 7ms/step - loss: 0.0171 - mae: 0.0868 - val_loss: 0.1252 - val_mae: 0.2334\n",
      "Epoch 193/1500\n",
      "7/7 [==============================] - 0s 8ms/step - loss: 0.0187 - mae: 0.0868 - val_loss: 0.1254 - val_mae: 0.2346\n",
      "Epoch 194/1500\n",
      "7/7 [==============================] - 0s 7ms/step - loss: 0.0163 - mae: 0.0834 - val_loss: 0.1246 - val_mae: 0.2405\n",
      "Epoch 195/1500\n",
      "7/7 [==============================] - 0s 7ms/step - loss: 0.0181 - mae: 0.0871 - val_loss: 0.1253 - val_mae: 0.2335\n",
      "Epoch 196/1500\n",
      "7/7 [==============================] - 0s 7ms/step - loss: 0.0174 - mae: 0.0840 - val_loss: 0.1243 - val_mae: 0.2321\n",
      "Epoch 197/1500\n",
      "7/7 [==============================] - 0s 7ms/step - loss: 0.0168 - mae: 0.0818 - val_loss: 0.1237 - val_mae: 0.2370\n",
      "Epoch 198/1500\n",
      "7/7 [==============================] - 0s 7ms/step - loss: 0.0171 - mae: 0.0837 - val_loss: 0.1240 - val_mae: 0.2320\n",
      "Epoch 199/1500\n",
      "7/7 [==============================] - 0s 7ms/step - loss: 0.0161 - mae: 0.0827 - val_loss: 0.1243 - val_mae: 0.2418\n",
      "Epoch 200/1500\n",
      "7/7 [==============================] - 0s 7ms/step - loss: 0.0160 - mae: 0.0796 - val_loss: 0.1260 - val_mae: 0.2346\n",
      "Epoch 201/1500\n",
      "7/7 [==============================] - 0s 7ms/step - loss: 0.0153 - mae: 0.0803 - val_loss: 0.1253 - val_mae: 0.2437\n",
      "Epoch 202/1500\n",
      "7/7 [==============================] - 0s 7ms/step - loss: 0.0166 - mae: 0.0834 - val_loss: 0.1266 - val_mae: 0.2347\n",
      "Epoch 203/1500\n",
      "7/7 [==============================] - 0s 7ms/step - loss: 0.0163 - mae: 0.0862 - val_loss: 0.1257 - val_mae: 0.2417\n",
      "Epoch 204/1500\n",
      "7/7 [==============================] - 0s 7ms/step - loss: 0.0172 - mae: 0.0841 - val_loss: 0.1254 - val_mae: 0.2356\n",
      "Epoch 205/1500\n",
      "7/7 [==============================] - 0s 7ms/step - loss: 0.0168 - mae: 0.0840 - val_loss: 0.1254 - val_mae: 0.2334\n",
      "Epoch 206/1500\n",
      "7/7 [==============================] - 0s 7ms/step - loss: 0.0172 - mae: 0.0844 - val_loss: 0.1252 - val_mae: 0.2445\n",
      "Epoch 207/1500\n",
      "7/7 [==============================] - 0s 7ms/step - loss: 0.0168 - mae: 0.0811 - val_loss: 0.1264 - val_mae: 0.2351\n",
      "Epoch 208/1500\n",
      "7/7 [==============================] - 0s 7ms/step - loss: 0.0166 - mae: 0.0840 - val_loss: 0.1263 - val_mae: 0.2349\n",
      "Epoch 209/1500\n",
      "7/7 [==============================] - 0s 7ms/step - loss: 0.0170 - mae: 0.0834 - val_loss: 0.1248 - val_mae: 0.2395\n",
      "Epoch 210/1500\n",
      "7/7 [==============================] - 0s 8ms/step - loss: 0.0168 - mae: 0.0836 - val_loss: 0.1267 - val_mae: 0.2360\n",
      "Epoch 211/1500\n",
      "7/7 [==============================] - 0s 7ms/step - loss: 0.0164 - mae: 0.0833 - val_loss: 0.1254 - val_mae: 0.2445\n",
      "Epoch 212/1500\n",
      "7/7 [==============================] - 0s 7ms/step - loss: 0.0170 - mae: 0.0819 - val_loss: 0.1250 - val_mae: 0.2384\n",
      "Epoch 213/1500\n",
      "7/7 [==============================] - 0s 7ms/step - loss: 0.0168 - mae: 0.0832 - val_loss: 0.1256 - val_mae: 0.2334\n",
      "Epoch 214/1500\n",
      "7/7 [==============================] - 0s 8ms/step - loss: 0.0166 - mae: 0.0824 - val_loss: 0.1248 - val_mae: 0.2318\n",
      "Epoch 215/1500\n",
      "7/7 [==============================] - 0s 7ms/step - loss: 0.0174 - mae: 0.0852 - val_loss: 0.1242 - val_mae: 0.2414\n",
      "Epoch 216/1500\n",
      "7/7 [==============================] - 0s 8ms/step - loss: 0.0162 - mae: 0.0818 - val_loss: 0.1244 - val_mae: 0.2346\n",
      "Epoch 217/1500\n",
      "7/7 [==============================] - 0s 7ms/step - loss: 0.0169 - mae: 0.0832 - val_loss: 0.1254 - val_mae: 0.2329\n",
      "Epoch 218/1500\n",
      "7/7 [==============================] - 0s 8ms/step - loss: 0.0174 - mae: 0.0855 - val_loss: 0.1240 - val_mae: 0.2395\n",
      "Epoch 219/1500\n",
      "7/7 [==============================] - 0s 7ms/step - loss: 0.0161 - mae: 0.0788 - val_loss: 0.1244 - val_mae: 0.2314\n",
      "Epoch 220/1500\n",
      "7/7 [==============================] - 0s 8ms/step - loss: 0.0165 - mae: 0.0835 - val_loss: 0.1246 - val_mae: 0.2313\n"
     ]
    }
   ],
   "source": [
    "#Training, pake model.fit()\n",
    "#Using mae and mse\n",
    "#model.compile(optimizer=tf.keras.optimizers.SGD(learning_rate=0.0001, momentum=0.9),metrics=['mae'],loss='mse')\n",
    "#optimizers itu buat memilih fungsi optimasi, jadi itu sebuah fungsi yang bertanggung jawab biar tiap epoch itu ada perubahan yang baik\n",
    "#dengan cara membuat per layer belajar nya lebih keras atau lebih ringan, dengan cara mengubah parameter dari tiap layer\n",
    "#secara matematis, si optimizer akan berusaha mencari loss terkecil dalam distribusi loss dibanding parameter\n",
    "\n",
    "model.compile(optimizer=tf.keras.optimizers.Adam(),metrics=['mae'],loss='mse') #ini kita pasang modelnya mau pake optimizer sama\n",
    "#loss apa?\n",
    "model.summary() #buat ngeluat detail networknya, kayak dibawah\n",
    "hist=model.fit(train_set,epochs=1500,validation_data=valid_set, batch_size=8, callbacks=callbacks) #training, dimasukin hasil training ke dalem variable\n",
    "# hist biar nanti gampang nge plot nya"
   ]
  },
  {
   "cell_type": "code",
   "execution_count": 43,
   "metadata": {},
   "outputs": [
    {
     "data": {
      "image/png": "[encoded data removed]",
      "text/plain": [
       "<Figure size 432x288 with 1 Axes>"
      ]
     },
     "metadata": {
      "needs_background": "light"
     },
     "output_type": "display_data"
    }
   ],
   "source": [
    "#menggambar\n",
    "plt.plot(hist.history['mae'], label='MAE (training data)')\n",
    "plt.plot(hist.history['val_mae'], label='MAE (validation data)')\n",
    "\n",
    "plt.title(\"MAE Cluster 0\")\n",
    "plt.ylabel('MAE value')\n",
    "plt.xlabel('No. epoch')\n",
    "plt.legend(loc=\"upper left\")\n",
    "plt.show()"
   ]
  },
  {
   "cell_type": "code",
   "execution_count": 44,
   "metadata": {},
   "outputs": [
    {
     "data": {
      "image/png": "[encoded data removed]",
      "text/plain": [
       "<Figure size 432x288 with 1 Axes>"
      ]
     },
     "metadata": {
      "needs_background": "light"
     },
     "output_type": "display_data"
    }
   ],
   "source": [
    "plt.plot(hist.history['loss'], label='loss (training data)')\n",
    "plt.plot(hist.history['val_loss'], label='loss (validation data)')\n",
    "\n",
    "plt.title(\"Loss Cluster 0 (MSE)\")\n",
    "plt.ylabel('MSE value')\n",
    "plt.xlabel('No. epoch')\n",
    "plt.legend(loc=\"upper left\")\n",
    "plt.show()"
   ]
  },
  {
   "cell_type": "code",
   "execution_count": 45,
   "metadata": {},
   "outputs": [
    {
     "data": {
      "text/plain": [
       "array([[[0.31207255]],\n",
       "\n",
       "       [[0.30091637]],\n",
       "\n",
       "       [[0.28943357]],\n",
       "\n",
       "       [[0.42508206]],\n",
       "\n",
       "       [[0.48077825]],\n",
       "\n",
       "       [[0.21831486]]], dtype=float32)"
      ]
     },
     "execution_count": 45,
     "metadata": {},
     "output_type": "execute_result"
    }
   ],
   "source": [
    "#variable prediksi, kita isi pake hasil prediksi data validasi, biar gampang gambarnya\n",
    "prediksi=model.predict(np.array(x_valid))\n",
    "prediksi"
   ]
  },
  {
   "cell_type": "code",
   "execution_count": 46,
   "metadata": {},
   "outputs": [],
   "source": [
    "prediksi=prediksi.flatten()\n",
    "#flatten berfungsi untuk mengubah arrau 2 dimensi jadi satu dimensi (datar)"
   ]
  },
  {
   "cell_type": "code",
   "execution_count": 47,
   "metadata": {},
   "outputs": [],
   "source": [
    "# hasil=np.concatenate((series,prediksi))\n",
    "#concatinate fungsinya untuk nyambungin dua buah list, disini kita sambungin data yang awal sama prediksi"
   ]
  },
  {
   "cell_type": "code",
   "execution_count": 48,
   "metadata": {},
   "outputs": [],
   "source": [
    "# asli = np.concatenate((series,series_t)) #menyambungkan data asli"
   ]
  },
  {
   "cell_type": "code",
   "execution_count": 49,
   "metadata": {},
   "outputs": [],
   "source": [
    "series = series*(max-min) + min\n",
    "prediksi = prediksi*(max_t-min_t)+ min_t\n",
    "series_t = series_t*(max_t-min_t) + min_t  \n",
    "hasil=np.concatenate((series,prediksi))\n",
    "asli = np.concatenate((series,series_t))"
   ]
  },
  {
   "cell_type": "code",
   "execution_count": 50,
   "metadata": {},
   "outputs": [
    {
     "data": {
      "text/plain": [
       "array([28.032473, 27.924578, 27.813522, 29.125437, 29.664099, 27.125702],\n",
       "      dtype=float32)"
      ]
     },
     "execution_count": 50,
     "metadata": {},
     "output_type": "execute_result"
    }
   ],
   "source": [
    "prediksi"
   ]
  },
  {
   "cell_type": "code",
   "execution_count": 51,
   "metadata": {},
   "outputs": [
    {
     "data": {
      "text/plain": [
       "[]"
      ]
     },
     "execution_count": 51,
     "metadata": {},
     "output_type": "execute_result"
    },
    {
     "data": {
      "image/png": "[encoded data removed]",
      "text/plain": [
       "<Figure size 432x288 with 1 Axes>"
      ]
     },
     "metadata": {
      "needs_background": "light"
     },
     "output_type": "display_data"
    }
   ],
   "source": [
    "plt.plot(asli,marker = 'o',label='data asli')\n",
    "plt.plot(hasil,marker = 'o',label='data prediksi')\n",
    "plt.title('penjualan produk cluster 0')\n",
    "plt.legend()\n",
    "plt.plot()"
   ]
  },
  {
   "cell_type": "code",
   "execution_count": 52,
   "metadata": {},
   "outputs": [],
   "source": [
    "model.save('cluster0_newdata.h5') #simpan model untuk cluster 0 ini"
   ]
  },
  {
   "cell_type": "markdown",
   "metadata": {},
   "source": [
    "# Satu Produk"
   ]
  },
  {
   "cell_type": "code",
   "execution_count": 53,
   "metadata": {},
   "outputs": [
    {
     "data": {
      "text/html": [
       "<div>\n",
       "<style scoped>\n",
       "    .dataframe tbody tr th:only-of-type {\n",
       "        vertical-align: middle;\n",
       "    }\n",
       "\n",
       "    .dataframe tbody tr th {\n",
       "        vertical-align: top;\n",
       "    }\n",
       "\n",
       "    .dataframe thead th {\n",
       "        text-align: right;\n",
       "    }\n",
       "</style>\n",
       "<table border=\"1\" class=\"dataframe\">\n",
       "  <thead>\n",
       "    <tr style=\"text-align: right;\">\n",
       "      <th></th>\n",
       "      <th>1</th>\n",
       "      <th>2</th>\n",
       "      <th>3</th>\n",
       "      <th>4</th>\n",
       "      <th>5</th>\n",
       "      <th>6</th>\n",
       "      <th>7</th>\n",
       "      <th>8</th>\n",
       "      <th>9</th>\n",
       "      <th>10</th>\n",
       "      <th>...</th>\n",
       "      <th>45</th>\n",
       "      <th>46</th>\n",
       "      <th>47</th>\n",
       "      <th>48</th>\n",
       "      <th>49</th>\n",
       "      <th>50</th>\n",
       "      <th>51</th>\n",
       "      <th>52</th>\n",
       "      <th>53</th>\n",
       "      <th>54</th>\n",
       "    </tr>\n",
       "  </thead>\n",
       "  <tbody>\n",
       "    <tr>\n",
       "      <th>04113</th>\n",
       "      <td>185</td>\n",
       "      <td>162</td>\n",
       "      <td>93</td>\n",
       "      <td>118</td>\n",
       "      <td>131</td>\n",
       "      <td>271</td>\n",
       "      <td>106</td>\n",
       "      <td>182</td>\n",
       "      <td>65</td>\n",
       "      <td>125</td>\n",
       "      <td>...</td>\n",
       "      <td>35</td>\n",
       "      <td>60</td>\n",
       "      <td>65</td>\n",
       "      <td>166</td>\n",
       "      <td>7</td>\n",
       "      <td>98</td>\n",
       "      <td>82</td>\n",
       "      <td>108</td>\n",
       "      <td>85</td>\n",
       "      <td>135</td>\n",
       "    </tr>\n",
       "  </tbody>\n",
       "</table>\n",
       "<p>1 rows × 54 columns</p>\n",
       "</div>"
      ],
      "text/plain": [
       "        1    2   3    4    5    6    7    8   9    10  ...  45  46  47   48  \\\n",
       "04113  185  162  93  118  131  271  106  182  65  125  ...  35  60  65  166   \n",
       "\n",
       "       49  50  51   52  53   54  \n",
       "04113   7  98  82  108  85  135  \n",
       "\n",
       "[1 rows x 54 columns]"
      ]
     },
     "execution_count": 53,
     "metadata": {},
     "output_type": "execute_result"
    }
   ],
   "source": [
    "new_c0 = c0.sample()\n",
    "new_c0"
   ]
  },
  {
   "cell_type": "code",
   "execution_count": 54,
   "metadata": {},
   "outputs": [
    {
     "data": {
      "text/plain": [
       "<AxesSubplot:>"
      ]
     },
     "execution_count": 54,
     "metadata": {},
     "output_type": "execute_result"
    },
    {
     "data": {
      "image/png": "[encoded data removed]",
      "text/plain": [
       "<Figure size 432x288 with 1 Axes>"
      ]
     },
     "metadata": {
      "needs_background": "light"
     },
     "output_type": "display_data"
    }
   ],
   "source": [
    "new_c0.T.plot()"
   ]
  },
  {
   "cell_type": "code",
   "execution_count": 55,
   "metadata": {},
   "outputs": [
    {
     "data": {
      "text/html": [
       "<div>\n",
       "<style scoped>\n",
       "    .dataframe tbody tr th:only-of-type {\n",
       "        vertical-align: middle;\n",
       "    }\n",
       "\n",
       "    .dataframe tbody tr th {\n",
       "        vertical-align: top;\n",
       "    }\n",
       "\n",
       "    .dataframe thead th {\n",
       "        text-align: right;\n",
       "    }\n",
       "</style>\n",
       "<table border=\"1\" class=\"dataframe\">\n",
       "  <thead>\n",
       "    <tr style=\"text-align: right;\">\n",
       "      <th></th>\n",
       "      <th>bulan 1</th>\n",
       "      <th>bulan 2</th>\n",
       "      <th>bulan 3</th>\n",
       "      <th>bulan 4</th>\n",
       "      <th>bulan 5</th>\n",
       "      <th>bulan 6</th>\n",
       "    </tr>\n",
       "  </thead>\n",
       "  <tbody>\n",
       "    <tr>\n",
       "      <th>04113</th>\n",
       "      <td>80</td>\n",
       "      <td>133</td>\n",
       "      <td>124</td>\n",
       "      <td>65</td>\n",
       "      <td>81</td>\n",
       "      <td>89</td>\n",
       "    </tr>\n",
       "  </tbody>\n",
       "</table>\n",
       "</div>"
      ],
      "text/plain": [
       "       bulan 1  bulan 2  bulan 3  bulan 4  bulan 5  bulan 6\n",
       "04113       80      133      124       65       81       89"
      ]
     },
     "execution_count": 55,
     "metadata": {},
     "output_type": "execute_result"
    }
   ],
   "source": [
    "c0_t.set_index(col,inplace=True)\n",
    "new_c0_t = c0_t.loc[new_c0.index]\n",
    "new_c0_t"
   ]
  },
  {
   "cell_type": "code",
   "execution_count": 56,
   "metadata": {},
   "outputs": [
    {
     "data": {
      "text/plain": [
       "19.32857142857143"
      ]
     },
     "execution_count": 56,
     "metadata": {},
     "output_type": "execute_result"
    }
   ],
   "source": [
    "min"
   ]
  },
  {
   "cell_type": "code",
   "execution_count": 57,
   "metadata": {},
   "outputs": [],
   "source": [
    "series=new_c0.values\n",
    "min = np.min(series)\n",
    "max = np.max(series)\n",
    "series = series - min\n",
    "series = series / (max-min)\n",
    "time = np.array(time)\n",
    "\n"
   ]
  },
  {
   "cell_type": "code",
   "execution_count": 58,
   "metadata": {},
   "outputs": [],
   "source": [
    "series_t=new_c0_t.values\n",
    "min_t = np.min(series_t)\n",
    "max_t = np.max(series_t)\n",
    "series_t = series_t - min_t\n",
    "series_t = series_t / (max_t-min_t)\n",
    "time_t = np.array(time_t)"
   ]
  },
  {
   "cell_type": "code",
   "execution_count": 59,
   "metadata": {},
   "outputs": [
    {
     "data": {
      "text/plain": [
       "array([[0.22058824, 1.        , 0.86764706, 0.        , 0.23529412,\n",
       "        0.35294118]])"
      ]
     },
     "execution_count": 59,
     "metadata": {},
     "output_type": "execute_result"
    }
   ],
   "source": [
    "series_t"
   ]
  },
  {
   "cell_type": "code",
   "execution_count": 60,
   "metadata": {},
   "outputs": [],
   "source": [
    "series = series.reshape(-1,)\n",
    "series_t= np.array(series_t).reshape(-1,)\n"
   ]
  },
  {
   "cell_type": "code",
   "execution_count": 61,
   "metadata": {},
   "outputs": [
    {
     "data": {
      "text/plain": [
       "array([[[0.27397072]],\n",
       "\n",
       "       [[0.48077825]],\n",
       "\n",
       "       [[0.44511333]],\n",
       "\n",
       "       [[0.21831486]],\n",
       "\n",
       "       [[0.27774557]],\n",
       "\n",
       "       [[0.30819693]]], dtype=float32)"
      ]
     },
     "execution_count": 61,
     "metadata": {},
     "output_type": "execute_result"
    }
   ],
   "source": [
    "prediksi=model.predict(np.array(series_t))\n",
    "prediksi"
   ]
  },
  {
   "cell_type": "code",
   "execution_count": 62,
   "metadata": {},
   "outputs": [],
   "source": [
    "prediksi=prediksi.flatten()"
   ]
  },
  {
   "cell_type": "code",
   "execution_count": 63,
   "metadata": {},
   "outputs": [],
   "source": [
    "series = series*(max-min) + min\n",
    "prediksi = prediksi*(max_t-min_t)+ min_t\n",
    "series_t = series_t*(max_t-min_t) + min_t  \n",
    "hasil=np.concatenate((series,prediksi))\n",
    "asli = np.concatenate((series,series_t))\n"
   ]
  },
  {
   "cell_type": "code",
   "execution_count": 64,
   "metadata": {},
   "outputs": [
    {
     "data": {
      "text/plain": [
       "array([83.630005, 97.69292 , 95.26771 , 79.84541 , 83.8867  , 85.95739 ],\n",
       "      dtype=float32)"
      ]
     },
     "execution_count": 64,
     "metadata": {},
     "output_type": "execute_result"
    }
   ],
   "source": [
    "prediksi"
   ]
  },
  {
   "cell_type": "code",
   "execution_count": 65,
   "metadata": {},
   "outputs": [
    {
     "data": {
      "text/plain": [
       "[]"
      ]
     },
     "execution_count": 65,
     "metadata": {},
     "output_type": "execute_result"
    },
    {
     "data": {
      "image/png": "[encoded data removed]",
      "text/plain": [
       "<Figure size 432x288 with 1 Axes>"
      ]
     },
     "metadata": {
      "needs_background": "light"
     },
     "output_type": "display_data"
    }
   ],
   "source": [
    "plt.plot(asli,marker = 'o',label='data asli')\n",
    "plt.plot(hasil,marker = 'o',label='data prediksi')\n",
    "plt.title('penjualan produk produk '+str(new_c0.index[0]))\n",
    "plt.legend()\n",
    "plt.plot()"
   ]
  },
  {
   "cell_type": "code",
   "execution_count": null,
   "metadata": {},
   "outputs": [],
   "source": []
  }
 ],
 "metadata": {
  "interpreter": {
   "hash": "a7dc830c1e2c553c858bb1b2872c23991bb4906bbbc68ef1a418bb82559cc14e"
  },
  "kernelspec": {
   "display_name": "Python 3.8.5 ('base')",
   "language": "python",
   "name": "python3"
  },
  "language_info": {
   "codemirror_mode": {
    "name": "ipython",
    "version": 3
   },
   "file_extension": ".py",
   "mimetype": "text/x-python",
   "name": "python",
   "nbconvert_exporter": "python",
   "pygments_lexer": "ipython3",
   "version": "3.8.5"
  },
  "orig_nbformat": 4
 },
 "nbformat": 4,
 "nbformat_minor": 2
}
