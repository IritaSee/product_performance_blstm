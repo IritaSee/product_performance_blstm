{
 "cells": [
  {
   "cell_type": "markdown",
   "metadata": {},
   "source": [
    "# Pemodelan Cluster 0"
   ]
  },
  {
   "cell_type": "markdown",
   "metadata": {},
   "source": [
    "Import segala pustaka (library) yang digunakan\n"
   ]
  },
  {
   "cell_type": "code",
   "execution_count": 12,
   "metadata": {},
   "outputs": [],
   "source": [
    "import tensorflow as tf #untuk mempermudah pembuatan deep learning\n",
    "import pandas as pd #mempermudah pembacaan data dengan ukuran besar (big data) dari data penjualan\n",
    "import numpy as np #mempermudah pengolahan data dari library sebelumnya\n",
    "import matplotlib.pyplot as plt #untuk mempermudah visualisasi\n",
    "from sklearn.preprocessing import MinMaxScaler #untuk menskala data sehingga mudah dibaca dan diproses deep learning"
   ]
  },
  {
   "cell_type": "markdown",
   "metadata": {},
   "source": [
    "## Pembacaan Data"
   ]
  },
  {
   "cell_type": "markdown",
   "metadata": {},
   "source": [
    "Baca dataset train"
   ]
  },
  {
   "cell_type": "code",
   "execution_count": 13,
   "metadata": {},
   "outputs": [
    {
     "data": {
      "text/html": [
       "<div>\n",
       "<style scoped>\n",
       "    .dataframe tbody tr th:only-of-type {\n",
       "        vertical-align: middle;\n",
       "    }\n",
       "\n",
       "    .dataframe tbody tr th {\n",
       "        vertical-align: top;\n",
       "    }\n",
       "\n",
       "    .dataframe thead th {\n",
       "        text-align: right;\n",
       "    }\n",
       "</style>\n",
       "<table border=\"1\" class=\"dataframe\">\n",
       "  <thead>\n",
       "    <tr style=\"text-align: right;\">\n",
       "      <th></th>\n",
       "      <th>KodeBarang</th>\n",
       "      <th>1</th>\n",
       "      <th>2</th>\n",
       "      <th>3</th>\n",
       "      <th>4</th>\n",
       "      <th>5</th>\n",
       "      <th>6</th>\n",
       "      <th>7</th>\n",
       "      <th>8</th>\n",
       "      <th>9</th>\n",
       "      <th>...</th>\n",
       "      <th>46</th>\n",
       "      <th>47</th>\n",
       "      <th>48</th>\n",
       "      <th>49</th>\n",
       "      <th>50</th>\n",
       "      <th>51</th>\n",
       "      <th>52</th>\n",
       "      <th>53</th>\n",
       "      <th>54</th>\n",
       "      <th>cluster</th>\n",
       "    </tr>\n",
       "  </thead>\n",
       "  <tbody>\n",
       "    <tr>\n",
       "      <th>0</th>\n",
       "      <td>04121</td>\n",
       "      <td>7</td>\n",
       "      <td>9</td>\n",
       "      <td>6</td>\n",
       "      <td>9</td>\n",
       "      <td>40</td>\n",
       "      <td>0</td>\n",
       "      <td>3</td>\n",
       "      <td>0</td>\n",
       "      <td>7</td>\n",
       "      <td>...</td>\n",
       "      <td>67</td>\n",
       "      <td>77</td>\n",
       "      <td>11</td>\n",
       "      <td>57</td>\n",
       "      <td>43</td>\n",
       "      <td>50</td>\n",
       "      <td>37</td>\n",
       "      <td>21</td>\n",
       "      <td>136</td>\n",
       "      <td>0</td>\n",
       "    </tr>\n",
       "    <tr>\n",
       "      <th>1</th>\n",
       "      <td>18031</td>\n",
       "      <td>230</td>\n",
       "      <td>227</td>\n",
       "      <td>279</td>\n",
       "      <td>153</td>\n",
       "      <td>190</td>\n",
       "      <td>256</td>\n",
       "      <td>267</td>\n",
       "      <td>305</td>\n",
       "      <td>238</td>\n",
       "      <td>...</td>\n",
       "      <td>336</td>\n",
       "      <td>153</td>\n",
       "      <td>103</td>\n",
       "      <td>221</td>\n",
       "      <td>360</td>\n",
       "      <td>280</td>\n",
       "      <td>240</td>\n",
       "      <td>120</td>\n",
       "      <td>548</td>\n",
       "      <td>1</td>\n",
       "    </tr>\n",
       "    <tr>\n",
       "      <th>2</th>\n",
       "      <td>04161</td>\n",
       "      <td>102</td>\n",
       "      <td>50</td>\n",
       "      <td>45</td>\n",
       "      <td>41</td>\n",
       "      <td>71</td>\n",
       "      <td>11</td>\n",
       "      <td>52</td>\n",
       "      <td>14</td>\n",
       "      <td>66</td>\n",
       "      <td>...</td>\n",
       "      <td>21</td>\n",
       "      <td>20</td>\n",
       "      <td>7</td>\n",
       "      <td>33</td>\n",
       "      <td>21</td>\n",
       "      <td>28</td>\n",
       "      <td>30</td>\n",
       "      <td>10</td>\n",
       "      <td>18</td>\n",
       "      <td>0</td>\n",
       "    </tr>\n",
       "    <tr>\n",
       "      <th>3</th>\n",
       "      <td>04162</td>\n",
       "      <td>272</td>\n",
       "      <td>155</td>\n",
       "      <td>214</td>\n",
       "      <td>226</td>\n",
       "      <td>268</td>\n",
       "      <td>110</td>\n",
       "      <td>204</td>\n",
       "      <td>253</td>\n",
       "      <td>193</td>\n",
       "      <td>...</td>\n",
       "      <td>102</td>\n",
       "      <td>118</td>\n",
       "      <td>120</td>\n",
       "      <td>211</td>\n",
       "      <td>292</td>\n",
       "      <td>105</td>\n",
       "      <td>108</td>\n",
       "      <td>101</td>\n",
       "      <td>117</td>\n",
       "      <td>1</td>\n",
       "    </tr>\n",
       "    <tr>\n",
       "      <th>4</th>\n",
       "      <td>04163</td>\n",
       "      <td>28</td>\n",
       "      <td>28</td>\n",
       "      <td>29</td>\n",
       "      <td>52</td>\n",
       "      <td>44</td>\n",
       "      <td>21</td>\n",
       "      <td>47</td>\n",
       "      <td>15</td>\n",
       "      <td>24</td>\n",
       "      <td>...</td>\n",
       "      <td>18</td>\n",
       "      <td>23</td>\n",
       "      <td>22</td>\n",
       "      <td>16</td>\n",
       "      <td>22</td>\n",
       "      <td>31</td>\n",
       "      <td>36</td>\n",
       "      <td>17</td>\n",
       "      <td>14</td>\n",
       "      <td>0</td>\n",
       "    </tr>\n",
       "    <tr>\n",
       "      <th>...</th>\n",
       "      <td>...</td>\n",
       "      <td>...</td>\n",
       "      <td>...</td>\n",
       "      <td>...</td>\n",
       "      <td>...</td>\n",
       "      <td>...</td>\n",
       "      <td>...</td>\n",
       "      <td>...</td>\n",
       "      <td>...</td>\n",
       "      <td>...</td>\n",
       "      <td>...</td>\n",
       "      <td>...</td>\n",
       "      <td>...</td>\n",
       "      <td>...</td>\n",
       "      <td>...</td>\n",
       "      <td>...</td>\n",
       "      <td>...</td>\n",
       "      <td>...</td>\n",
       "      <td>...</td>\n",
       "      <td>...</td>\n",
       "      <td>...</td>\n",
       "    </tr>\n",
       "    <tr>\n",
       "      <th>101</th>\n",
       "      <td>04157</td>\n",
       "      <td>55</td>\n",
       "      <td>64</td>\n",
       "      <td>44</td>\n",
       "      <td>61</td>\n",
       "      <td>30</td>\n",
       "      <td>1</td>\n",
       "      <td>24</td>\n",
       "      <td>37</td>\n",
       "      <td>67</td>\n",
       "      <td>...</td>\n",
       "      <td>20</td>\n",
       "      <td>10</td>\n",
       "      <td>300</td>\n",
       "      <td>34</td>\n",
       "      <td>7</td>\n",
       "      <td>7</td>\n",
       "      <td>6</td>\n",
       "      <td>4</td>\n",
       "      <td>21</td>\n",
       "      <td>0</td>\n",
       "    </tr>\n",
       "    <tr>\n",
       "      <th>102</th>\n",
       "      <td>18104</td>\n",
       "      <td>46</td>\n",
       "      <td>295</td>\n",
       "      <td>83</td>\n",
       "      <td>112</td>\n",
       "      <td>70</td>\n",
       "      <td>40</td>\n",
       "      <td>18</td>\n",
       "      <td>140</td>\n",
       "      <td>97</td>\n",
       "      <td>...</td>\n",
       "      <td>47</td>\n",
       "      <td>54</td>\n",
       "      <td>27</td>\n",
       "      <td>15</td>\n",
       "      <td>57</td>\n",
       "      <td>132</td>\n",
       "      <td>66</td>\n",
       "      <td>34</td>\n",
       "      <td>146</td>\n",
       "      <td>0</td>\n",
       "    </tr>\n",
       "    <tr>\n",
       "      <th>103</th>\n",
       "      <td>18106</td>\n",
       "      <td>200</td>\n",
       "      <td>204</td>\n",
       "      <td>0</td>\n",
       "      <td>2</td>\n",
       "      <td>10</td>\n",
       "      <td>7</td>\n",
       "      <td>0</td>\n",
       "      <td>27</td>\n",
       "      <td>74</td>\n",
       "      <td>...</td>\n",
       "      <td>15</td>\n",
       "      <td>136</td>\n",
       "      <td>15</td>\n",
       "      <td>15</td>\n",
       "      <td>14</td>\n",
       "      <td>131</td>\n",
       "      <td>84</td>\n",
       "      <td>12</td>\n",
       "      <td>14</td>\n",
       "      <td>0</td>\n",
       "    </tr>\n",
       "    <tr>\n",
       "      <th>104</th>\n",
       "      <td>18092</td>\n",
       "      <td>297</td>\n",
       "      <td>418</td>\n",
       "      <td>329</td>\n",
       "      <td>70</td>\n",
       "      <td>498</td>\n",
       "      <td>59</td>\n",
       "      <td>298</td>\n",
       "      <td>376</td>\n",
       "      <td>259</td>\n",
       "      <td>...</td>\n",
       "      <td>450</td>\n",
       "      <td>498</td>\n",
       "      <td>254</td>\n",
       "      <td>260</td>\n",
       "      <td>336</td>\n",
       "      <td>493</td>\n",
       "      <td>438</td>\n",
       "      <td>408</td>\n",
       "      <td>322</td>\n",
       "      <td>1</td>\n",
       "    </tr>\n",
       "    <tr>\n",
       "      <th>105</th>\n",
       "      <td>04143</td>\n",
       "      <td>132</td>\n",
       "      <td>80</td>\n",
       "      <td>103</td>\n",
       "      <td>113</td>\n",
       "      <td>81</td>\n",
       "      <td>108</td>\n",
       "      <td>124</td>\n",
       "      <td>101</td>\n",
       "      <td>119</td>\n",
       "      <td>...</td>\n",
       "      <td>153</td>\n",
       "      <td>130</td>\n",
       "      <td>121</td>\n",
       "      <td>189</td>\n",
       "      <td>92</td>\n",
       "      <td>226</td>\n",
       "      <td>181</td>\n",
       "      <td>112</td>\n",
       "      <td>214</td>\n",
       "      <td>1</td>\n",
       "    </tr>\n",
       "  </tbody>\n",
       "</table>\n",
       "<p>106 rows × 56 columns</p>\n",
       "</div>"
      ],
      "text/plain": [
       "    KodeBarang    1    2    3    4    5    6    7    8    9  ...   46   47  \\\n",
       "0        04121    7    9    6    9   40    0    3    0    7  ...   67   77   \n",
       "1        18031  230  227  279  153  190  256  267  305  238  ...  336  153   \n",
       "2        04161  102   50   45   41   71   11   52   14   66  ...   21   20   \n",
       "3        04162  272  155  214  226  268  110  204  253  193  ...  102  118   \n",
       "4        04163   28   28   29   52   44   21   47   15   24  ...   18   23   \n",
       "..         ...  ...  ...  ...  ...  ...  ...  ...  ...  ...  ...  ...  ...   \n",
       "101      04157   55   64   44   61   30    1   24   37   67  ...   20   10   \n",
       "102      18104   46  295   83  112   70   40   18  140   97  ...   47   54   \n",
       "103      18106  200  204    0    2   10    7    0   27   74  ...   15  136   \n",
       "104      18092  297  418  329   70  498   59  298  376  259  ...  450  498   \n",
       "105      04143  132   80  103  113   81  108  124  101  119  ...  153  130   \n",
       "\n",
       "      48   49   50   51   52   53   54  cluster  \n",
       "0     11   57   43   50   37   21  136        0  \n",
       "1    103  221  360  280  240  120  548        1  \n",
       "2      7   33   21   28   30   10   18        0  \n",
       "3    120  211  292  105  108  101  117        1  \n",
       "4     22   16   22   31   36   17   14        0  \n",
       "..   ...  ...  ...  ...  ...  ...  ...      ...  \n",
       "101  300   34    7    7    6    4   21        0  \n",
       "102   27   15   57  132   66   34  146        0  \n",
       "103   15   15   14  131   84   12   14        0  \n",
       "104  254  260  336  493  438  408  322        1  \n",
       "105  121  189   92  226  181  112  214        1  \n",
       "\n",
       "[106 rows x 56 columns]"
      ]
     },
     "execution_count": 13,
     "metadata": {},
     "output_type": "execute_result"
    }
   ],
   "source": [
    "data=pd.read_excel('../dataset_new.xlsx',sheet_name='train')\n",
    "data"
   ]
  },
  {
   "cell_type": "markdown",
   "metadata": {},
   "source": [
    "Baca dataset test"
   ]
  },
  {
   "cell_type": "code",
   "execution_count": 14,
   "metadata": {},
   "outputs": [
    {
     "data": {
      "text/html": [
       "<div>\n",
       "<style scoped>\n",
       "    .dataframe tbody tr th:only-of-type {\n",
       "        vertical-align: middle;\n",
       "    }\n",
       "\n",
       "    .dataframe tbody tr th {\n",
       "        vertical-align: top;\n",
       "    }\n",
       "\n",
       "    .dataframe thead th {\n",
       "        text-align: right;\n",
       "    }\n",
       "</style>\n",
       "<table border=\"1\" class=\"dataframe\">\n",
       "  <thead>\n",
       "    <tr style=\"text-align: right;\">\n",
       "      <th></th>\n",
       "      <th>KodeBarang</th>\n",
       "      <th>bulan 1</th>\n",
       "      <th>bulan 2</th>\n",
       "      <th>bulan 3</th>\n",
       "      <th>bulan 4</th>\n",
       "      <th>bulan 5</th>\n",
       "      <th>bulan 6</th>\n",
       "    </tr>\n",
       "  </thead>\n",
       "  <tbody>\n",
       "    <tr>\n",
       "      <th>0</th>\n",
       "      <td>04121</td>\n",
       "      <td>5</td>\n",
       "      <td>12</td>\n",
       "      <td>8</td>\n",
       "      <td>14</td>\n",
       "      <td>40</td>\n",
       "      <td>40</td>\n",
       "    </tr>\n",
       "    <tr>\n",
       "      <th>1</th>\n",
       "      <td>18031</td>\n",
       "      <td>573</td>\n",
       "      <td>340</td>\n",
       "      <td>441</td>\n",
       "      <td>270</td>\n",
       "      <td>488</td>\n",
       "      <td>240</td>\n",
       "    </tr>\n",
       "    <tr>\n",
       "      <th>2</th>\n",
       "      <td>04161</td>\n",
       "      <td>27</td>\n",
       "      <td>5</td>\n",
       "      <td>26</td>\n",
       "      <td>34</td>\n",
       "      <td>40</td>\n",
       "      <td>56</td>\n",
       "    </tr>\n",
       "    <tr>\n",
       "      <th>3</th>\n",
       "      <td>04162</td>\n",
       "      <td>162</td>\n",
       "      <td>82</td>\n",
       "      <td>72</td>\n",
       "      <td>98</td>\n",
       "      <td>126</td>\n",
       "      <td>120</td>\n",
       "    </tr>\n",
       "    <tr>\n",
       "      <th>4</th>\n",
       "      <td>04163</td>\n",
       "      <td>23</td>\n",
       "      <td>20</td>\n",
       "      <td>9</td>\n",
       "      <td>5</td>\n",
       "      <td>22</td>\n",
       "      <td>6</td>\n",
       "    </tr>\n",
       "    <tr>\n",
       "      <th>...</th>\n",
       "      <td>...</td>\n",
       "      <td>...</td>\n",
       "      <td>...</td>\n",
       "      <td>...</td>\n",
       "      <td>...</td>\n",
       "      <td>...</td>\n",
       "      <td>...</td>\n",
       "    </tr>\n",
       "    <tr>\n",
       "      <th>101</th>\n",
       "      <td>04157</td>\n",
       "      <td>138</td>\n",
       "      <td>14</td>\n",
       "      <td>12</td>\n",
       "      <td>21</td>\n",
       "      <td>25</td>\n",
       "      <td>10</td>\n",
       "    </tr>\n",
       "    <tr>\n",
       "      <th>102</th>\n",
       "      <td>18104</td>\n",
       "      <td>60</td>\n",
       "      <td>103</td>\n",
       "      <td>39</td>\n",
       "      <td>87</td>\n",
       "      <td>276</td>\n",
       "      <td>40</td>\n",
       "    </tr>\n",
       "    <tr>\n",
       "      <th>103</th>\n",
       "      <td>18106</td>\n",
       "      <td>16</td>\n",
       "      <td>7</td>\n",
       "      <td>65</td>\n",
       "      <td>24</td>\n",
       "      <td>13</td>\n",
       "      <td>27</td>\n",
       "    </tr>\n",
       "    <tr>\n",
       "      <th>104</th>\n",
       "      <td>18092</td>\n",
       "      <td>721</td>\n",
       "      <td>184</td>\n",
       "      <td>150</td>\n",
       "      <td>488</td>\n",
       "      <td>648</td>\n",
       "      <td>149</td>\n",
       "    </tr>\n",
       "    <tr>\n",
       "      <th>105</th>\n",
       "      <td>04143</td>\n",
       "      <td>164</td>\n",
       "      <td>189</td>\n",
       "      <td>187</td>\n",
       "      <td>232</td>\n",
       "      <td>219</td>\n",
       "      <td>229</td>\n",
       "    </tr>\n",
       "  </tbody>\n",
       "</table>\n",
       "<p>106 rows × 7 columns</p>\n",
       "</div>"
      ],
      "text/plain": [
       "    KodeBarang  bulan 1  bulan 2  bulan 3  bulan 4  bulan 5  bulan 6\n",
       "0        04121        5       12        8       14       40       40\n",
       "1        18031      573      340      441      270      488      240\n",
       "2        04161       27        5       26       34       40       56\n",
       "3        04162      162       82       72       98      126      120\n",
       "4        04163       23       20        9        5       22        6\n",
       "..         ...      ...      ...      ...      ...      ...      ...\n",
       "101      04157      138       14       12       21       25       10\n",
       "102      18104       60      103       39       87      276       40\n",
       "103      18106       16        7       65       24       13       27\n",
       "104      18092      721      184      150      488      648      149\n",
       "105      04143      164      189      187      232      219      229\n",
       "\n",
       "[106 rows x 7 columns]"
      ]
     },
     "execution_count": 14,
     "metadata": {},
     "output_type": "execute_result"
    }
   ],
   "source": [
    "data_test=pd.read_excel('../dataset_new.xlsx',sheet_name='test')\n",
    "data_test"
   ]
  },
  {
   "cell_type": "markdown",
   "metadata": {},
   "source": [
    "hilangkan judul kolom agar tidak terbaca deep learning"
   ]
  },
  {
   "cell_type": "code",
   "execution_count": 86,
   "metadata": {},
   "outputs": [],
   "source": [
    "# data_test.drop(['bulan 4','bulan 5','bulan 6'],axis=1,inplace=True)"
   ]
  },
  {
   "cell_type": "markdown",
   "metadata": {},
   "source": [
    "Pastikan culster pada dataset sudah berupa angka"
   ]
  },
  {
   "cell_type": "code",
   "execution_count": 15,
   "metadata": {},
   "outputs": [
    {
     "data": {
      "text/html": [
       "<div>\n",
       "<style scoped>\n",
       "    .dataframe tbody tr th:only-of-type {\n",
       "        vertical-align: middle;\n",
       "    }\n",
       "\n",
       "    .dataframe tbody tr th {\n",
       "        vertical-align: top;\n",
       "    }\n",
       "\n",
       "    .dataframe thead th {\n",
       "        text-align: right;\n",
       "    }\n",
       "</style>\n",
       "<table border=\"1\" class=\"dataframe\">\n",
       "  <thead>\n",
       "    <tr style=\"text-align: right;\">\n",
       "      <th></th>\n",
       "      <th>KodeBarang</th>\n",
       "      <th>bulan 1</th>\n",
       "      <th>bulan 2</th>\n",
       "      <th>bulan 3</th>\n",
       "      <th>bulan 4</th>\n",
       "      <th>bulan 5</th>\n",
       "      <th>bulan 6</th>\n",
       "      <th>cluster</th>\n",
       "    </tr>\n",
       "  </thead>\n",
       "  <tbody>\n",
       "    <tr>\n",
       "      <th>0</th>\n",
       "      <td>04121</td>\n",
       "      <td>5</td>\n",
       "      <td>12</td>\n",
       "      <td>8</td>\n",
       "      <td>14</td>\n",
       "      <td>40</td>\n",
       "      <td>40</td>\n",
       "      <td>0</td>\n",
       "    </tr>\n",
       "    <tr>\n",
       "      <th>1</th>\n",
       "      <td>18031</td>\n",
       "      <td>573</td>\n",
       "      <td>340</td>\n",
       "      <td>441</td>\n",
       "      <td>270</td>\n",
       "      <td>488</td>\n",
       "      <td>240</td>\n",
       "      <td>1</td>\n",
       "    </tr>\n",
       "    <tr>\n",
       "      <th>2</th>\n",
       "      <td>04161</td>\n",
       "      <td>27</td>\n",
       "      <td>5</td>\n",
       "      <td>26</td>\n",
       "      <td>34</td>\n",
       "      <td>40</td>\n",
       "      <td>56</td>\n",
       "      <td>0</td>\n",
       "    </tr>\n",
       "    <tr>\n",
       "      <th>3</th>\n",
       "      <td>04162</td>\n",
       "      <td>162</td>\n",
       "      <td>82</td>\n",
       "      <td>72</td>\n",
       "      <td>98</td>\n",
       "      <td>126</td>\n",
       "      <td>120</td>\n",
       "      <td>1</td>\n",
       "    </tr>\n",
       "    <tr>\n",
       "      <th>4</th>\n",
       "      <td>04163</td>\n",
       "      <td>23</td>\n",
       "      <td>20</td>\n",
       "      <td>9</td>\n",
       "      <td>5</td>\n",
       "      <td>22</td>\n",
       "      <td>6</td>\n",
       "      <td>0</td>\n",
       "    </tr>\n",
       "    <tr>\n",
       "      <th>...</th>\n",
       "      <td>...</td>\n",
       "      <td>...</td>\n",
       "      <td>...</td>\n",
       "      <td>...</td>\n",
       "      <td>...</td>\n",
       "      <td>...</td>\n",
       "      <td>...</td>\n",
       "      <td>...</td>\n",
       "    </tr>\n",
       "    <tr>\n",
       "      <th>101</th>\n",
       "      <td>04157</td>\n",
       "      <td>138</td>\n",
       "      <td>14</td>\n",
       "      <td>12</td>\n",
       "      <td>21</td>\n",
       "      <td>25</td>\n",
       "      <td>10</td>\n",
       "      <td>0</td>\n",
       "    </tr>\n",
       "    <tr>\n",
       "      <th>102</th>\n",
       "      <td>18104</td>\n",
       "      <td>60</td>\n",
       "      <td>103</td>\n",
       "      <td>39</td>\n",
       "      <td>87</td>\n",
       "      <td>276</td>\n",
       "      <td>40</td>\n",
       "      <td>0</td>\n",
       "    </tr>\n",
       "    <tr>\n",
       "      <th>103</th>\n",
       "      <td>18106</td>\n",
       "      <td>16</td>\n",
       "      <td>7</td>\n",
       "      <td>65</td>\n",
       "      <td>24</td>\n",
       "      <td>13</td>\n",
       "      <td>27</td>\n",
       "      <td>0</td>\n",
       "    </tr>\n",
       "    <tr>\n",
       "      <th>104</th>\n",
       "      <td>18092</td>\n",
       "      <td>721</td>\n",
       "      <td>184</td>\n",
       "      <td>150</td>\n",
       "      <td>488</td>\n",
       "      <td>648</td>\n",
       "      <td>149</td>\n",
       "      <td>1</td>\n",
       "    </tr>\n",
       "    <tr>\n",
       "      <th>105</th>\n",
       "      <td>04143</td>\n",
       "      <td>164</td>\n",
       "      <td>189</td>\n",
       "      <td>187</td>\n",
       "      <td>232</td>\n",
       "      <td>219</td>\n",
       "      <td>229</td>\n",
       "      <td>1</td>\n",
       "    </tr>\n",
       "  </tbody>\n",
       "</table>\n",
       "<p>106 rows × 8 columns</p>\n",
       "</div>"
      ],
      "text/plain": [
       "    KodeBarang  bulan 1  bulan 2  bulan 3  bulan 4  bulan 5  bulan 6  cluster\n",
       "0        04121        5       12        8       14       40       40        0\n",
       "1        18031      573      340      441      270      488      240        1\n",
       "2        04161       27        5       26       34       40       56        0\n",
       "3        04162      162       82       72       98      126      120        1\n",
       "4        04163       23       20        9        5       22        6        0\n",
       "..         ...      ...      ...      ...      ...      ...      ...      ...\n",
       "101      04157      138       14       12       21       25       10        0\n",
       "102      18104       60      103       39       87      276       40        0\n",
       "103      18106       16        7       65       24       13       27        0\n",
       "104      18092      721      184      150      488      648      149        1\n",
       "105      04143      164      189      187      232      219      229        1\n",
       "\n",
       "[106 rows x 8 columns]"
      ]
     },
     "execution_count": 15,
     "metadata": {},
     "output_type": "execute_result"
    }
   ],
   "source": [
    "data_test['cluster']=data['cluster'].astype(int)\n",
    "data_test"
   ]
  },
  {
   "cell_type": "markdown",
   "metadata": {},
   "source": [
    "Periksa ada berapa jenis cluster?"
   ]
  },
  {
   "cell_type": "code",
   "execution_count": 16,
   "metadata": {},
   "outputs": [
    {
     "data": {
      "text/plain": [
       "4"
      ]
     },
     "execution_count": 16,
     "metadata": {},
     "output_type": "execute_result"
    }
   ],
   "source": [
    "len(data['cluster'].unique())"
   ]
  },
  {
   "cell_type": "markdown",
   "metadata": {},
   "source": [
    "Ambil jumlah produk dalam cluster"
   ]
  },
  {
   "cell_type": "code",
   "execution_count": 17,
   "metadata": {},
   "outputs": [
    {
     "name": "stdout",
     "output_type": "stream",
     "text": [
      "Jumlah Produk:\n",
      "70\n",
      "Jumlah Produk:\n",
      "31\n",
      "Jumlah Produk:\n",
      "4\n",
      "Jumlah Produk:\n",
      "1\n"
     ]
    }
   ],
   "source": [
    "#now lets take clusters\n",
    "c0 = data.query(\"cluster == 0\")\n",
    "print(\"Jumlah Produk:\")\n",
    "print(c0['KodeBarang'].size)\n",
    "c1 = data.query(\"cluster == 1\")\n",
    "print(\"Jumlah Produk:\")\n",
    "print(c1['KodeBarang'].size)\n",
    "c2 = data.query(\"cluster == 2\")\n",
    "print(\"Jumlah Produk:\")\n",
    "print(c2['KodeBarang'].size)\n",
    "c3 = data.query(\"cluster == 3\")\n",
    "print(\"Jumlah Produk:\")\n",
    "print(c3['KodeBarang'].size)"
   ]
  },
  {
   "cell_type": "markdown",
   "metadata": {},
   "source": [
    "Ambil jumlah produk dalam cluster data test, dan pastikan nilainya sama dengan sebelumnya"
   ]
  },
  {
   "cell_type": "code",
   "execution_count": 18,
   "metadata": {},
   "outputs": [
    {
     "name": "stdout",
     "output_type": "stream",
     "text": [
      "Jumlah Produk:\n",
      "70\n",
      "Jumlah Produk:\n",
      "31\n",
      "Jumlah Produk:\n",
      "4\n",
      "Jumlah Produk:\n",
      "1\n"
     ]
    }
   ],
   "source": [
    "c0_t = data_test.query(\"cluster == 0\")\n",
    "print(\"Jumlah Produk:\")\n",
    "print(c0['KodeBarang'].size)\n",
    "c1_t = data_test.query(\"cluster == 1\")\n",
    "print(\"Jumlah Produk:\")\n",
    "print(c1['KodeBarang'].size)\n",
    "c2_t = data_test.query(\"cluster == 2\")\n",
    "print(\"Jumlah Produk:\")\n",
    "print(c2['KodeBarang'].size)\n",
    "c3_t = data_test.query(\"cluster == 3\")\n",
    "print(\"Jumlah Produk:\")\n",
    "print(c3['KodeBarang'].size)"
   ]
  },
  {
   "cell_type": "markdown",
   "metadata": {},
   "source": [
    "## Pembuatan model cluster 0"
   ]
  },
  {
   "cell_type": "markdown",
   "metadata": {},
   "source": [
    "Buat fungsi untuk membuat `windowed dataset`"
   ]
  },
  {
   "cell_type": "code",
   "execution_count": 19,
   "metadata": {},
   "outputs": [],
   "source": [
    "#oke ada ternyata yang cuman sendirian (1 product di cluster tersebut), kita beresin dia dulu, the easiest, dan biar keliatan kita\n",
    "#ngapain aja di time series ini\n",
    "def windowed_dataset(series, window_size, batch_size, shuffle_buffer):\n",
    "    series = tf.expand_dims(series, axis=-1)\n",
    "    ds = tf.data.Dataset.from_tensor_slices(series)\n",
    "    ds = ds.window(window_size + 1, shift=1, drop_remainder=True)\n",
    "    ds = ds.flat_map(lambda w: w.batch(window_size + 1))\n",
    "    ds = ds.shuffle(shuffle_buffer)\n",
    "    ds = ds.map(lambda w: (w[:-1], w[1:]))\n",
    "    return ds.batch(batch_size).prefetch(1)\n",
    "# ini fungsinya buat nge ubah dataset jadi windowed"
   ]
  },
  {
   "cell_type": "markdown",
   "metadata": {},
   "source": [
    "ubah tipe data dari kode barang menjadi nilai angka"
   ]
  },
  {
   "cell_type": "code",
   "execution_count": 20,
   "metadata": {},
   "outputs": [],
   "source": [
    "col = c0.KodeBarang.values"
   ]
  },
  {
   "cell_type": "code",
   "execution_count": 21,
   "metadata": {},
   "outputs": [],
   "source": [
    "#next kita ubah bentuk data nya dari yang tadinya kesamping jadi ke bawah, tapi pertama mau aku drop dulu cluster sama kode produknya\n",
    "c0=c0.drop(columns=['KodeBarang','cluster'])\n",
    "c0_t = c0_t.drop(columns=['KodeBarang','cluster'])"
   ]
  },
  {
   "cell_type": "markdown",
   "metadata": {},
   "source": [
    "Plot per produk cluster 0\n",
    "Kenapa? Karena kita ingin melihat mana produk yang sekiranya outlier, apakah sebagian besar mengikuti sebuah pola, dll"
   ]
  },
  {
   "cell_type": "code",
   "execution_count": 22,
   "metadata": {},
   "outputs": [
    {
     "data": {
      "text/plain": [
       "<AxesSubplot:>"
      ]
     },
     "execution_count": 22,
     "metadata": {},
     "output_type": "execute_result"
    },
    {
     "data": {
      "image/png": "[encoded data removed]",
      "text/plain": [
       "<Figure size 432x288 with 1 Axes>"
      ]
     },
     "metadata": {
      "needs_background": "light"
     },
     "output_type": "display_data"
    }
   ],
   "source": [
    "c0.set_index(col,inplace=True)\n",
    "c0.T.plot()"
   ]
  },
  {
   "cell_type": "code",
   "execution_count": 95,
   "metadata": {},
   "outputs": [],
   "source": [
    "#Ambil satu sample dari cluster 0\n",
    "# c0 = c0.sample()"
   ]
  },
  {
   "cell_type": "code",
   "execution_count": 96,
   "metadata": {},
   "outputs": [],
   "source": [
    "#014115 hasilnya nyaris bagus\n",
    "# c0"
   ]
  },
  {
   "cell_type": "code",
   "execution_count": 97,
   "metadata": {},
   "outputs": [],
   "source": [
    "# c0.T.plot()"
   ]
  },
  {
   "cell_type": "code",
   "execution_count": 23,
   "metadata": {},
   "outputs": [],
   "source": [
    "#next, buat dia kayak berbentuk time series seperti biasanya, which is datanya ke bawah, tapi di average per tanggal \n",
    "new_c0=[]\n",
    "time=[]\n",
    "\n",
    "for idx,a in enumerate(c0):\n",
    "    new_c0.append(c0[a].mean())\n",
    "    time.append(idx)\n"
   ]
  },
  {
   "cell_type": "code",
   "execution_count": 24,
   "metadata": {},
   "outputs": [],
   "source": [
    "#sama aja kayak di atas cuman data test\n",
    "new_c0_t=[]\n",
    "time_t=[]\n",
    "i = 55\n",
    "for idx,a in enumerate(c0_t):\n",
    "    new_c0_t.append(c0_t[a].mean())\n",
    "    time_t.append(i)\n",
    "    i+=1"
   ]
  },
  {
   "cell_type": "code",
   "execution_count": 25,
   "metadata": {},
   "outputs": [
    {
     "data": {
      "text/plain": [
       "[28.571428571428573,\n",
       " 28.15714285714286,\n",
       " 27.728571428571428,\n",
       " 32.68571428571428,\n",
       " 34.68571428571428,\n",
       " 25.014285714285716]"
      ]
     },
     "execution_count": 25,
     "metadata": {},
     "output_type": "execute_result"
    }
   ],
   "source": [
    "#cek isi data test nya\n",
    "new_c0_t"
   ]
  },
  {
   "cell_type": "code",
   "execution_count": 26,
   "metadata": {},
   "outputs": [],
   "source": [
    "#normalisasi, karena gap nya ada yang sampe ribuan, biar lebih gampang tugas ann nya\n",
    "series=new_c0\n",
    "min = np.min(series)\n",
    "max = np.max(series)\n",
    "series = series - min\n",
    "series = series / (max-min)\n",
    "time = np.array(time)"
   ]
  },
  {
   "cell_type": "code",
   "execution_count": 27,
   "metadata": {},
   "outputs": [],
   "source": [
    "#sama aja cuman isi data test\n",
    "series_t=new_c0_t\n",
    "min_t = np.min(series_t)\n",
    "max_t = np.max(series_t)\n",
    "series_t = series_t - min_t\n",
    "series_t = series_t / (max_t-min_t)\n",
    "time_t = np.array(time_t)"
   ]
  },
  {
   "cell_type": "code",
   "execution_count": 28,
   "metadata": {},
   "outputs": [
    {
     "data": {
      "text/plain": [
       "array([0.36779911, 0.32496307, 0.28064993, 0.79320532, 1.        ,\n",
       "       0.        ])"
      ]
     },
     "execution_count": 28,
     "metadata": {},
     "output_type": "execute_result"
    }
   ],
   "source": [
    "#cek isi data test nya yang udah di normalisasi\n",
    "series_t"
   ]
  },
  {
   "cell_type": "code",
   "execution_count": 29,
   "metadata": {},
   "outputs": [],
   "source": [
    "#time splitting, jadi data train dan test keduanya dapet waktu yang pas, gak kepanjangan atau kependekan sebelah\n",
    "\n",
    "split_time = 3 # ini berapa bulan terkahir yang mau di potong buat pengujian?\n",
    "\n",
    "time_train = time\n",
    "x_train =  series\n",
    "time_valid =  time_t\n",
    "x_valid =  series_t"
   ]
  },
  {
   "cell_type": "code",
   "execution_count": 30,
   "metadata": {},
   "outputs": [
    {
     "data": {
      "text/plain": [
       "(54,)"
      ]
     },
     "execution_count": 30,
     "metadata": {},
     "output_type": "execute_result"
    }
   ],
   "source": [
    "#Cek inputan dari data train itu udah sesuai belum? Ini menunjukkan berapa bulan yang di train\n",
    "x_train.shape"
   ]
  },
  {
   "cell_type": "code",
   "execution_count": 31,
   "metadata": {},
   "outputs": [
    {
     "data": {
      "text/plain": [
       "(6,)"
      ]
     },
     "execution_count": 31,
     "metadata": {},
     "output_type": "execute_result"
    }
   ],
   "source": [
    "#sama cuman data test\n",
    "x_valid.shape"
   ]
  },
  {
   "cell_type": "code",
   "execution_count": 32,
   "metadata": {},
   "outputs": [
    {
     "name": "stdout",
     "output_type": "stream",
     "text": [
      "Metal device set to: Apple M1\n",
      "\n",
      "systemMemory: 8.00 GB\n",
      "maxCacheSize: 2.67 GB\n",
      "\n"
     ]
    },
    {
     "name": "stderr",
     "output_type": "stream",
     "text": [
      "2022-04-22 18:19:31.182299: I tensorflow/core/common_runtime/pluggable_device/pluggable_device_factory.cc:305] Could not identify NUMA node of platform GPU ID 0, defaulting to 0. Your kernel may not have been built with NUMA support.\n",
      "2022-04-22 18:19:31.183236: I tensorflow/core/common_runtime/pluggable_device/pluggable_device_factory.cc:271] Created TensorFlow device (/job:localhost/replica:0/task:0/device:GPU:0 with 0 MB memory) -> physical PluggableDevice (device: 0, name: METAL, pci bus id: <undefined>)\n"
     ]
    }
   ],
   "source": [
    "#buat data biar dibagi per window, jadi me masang masangkan waktu dan value,\n",
    "window_size = 2\n",
    "batch_size = 4\n",
    "shuffle_buffer_size = 10\n",
    "\n",
    "train_set = windowed_dataset(x_train, window_size, batch_size, shuffle_buffer_size)\n",
    "valid_set = windowed_dataset(x_valid, window_size, batch_size, shuffle_buffer_size)"
   ]
  },
  {
   "cell_type": "code",
   "execution_count": 44,
   "metadata": {},
   "outputs": [
    {
     "data": {
      "text/plain": [
       "<PrefetchDataset element_spec=(TensorSpec(shape=(None, None, 1), dtype=tf.float64, name=None), TensorSpec(shape=(None, None, 1), dtype=tf.float64, name=None))>"
      ]
     },
     "execution_count": 44,
     "metadata": {},
     "output_type": "execute_result"
    }
   ],
   "source": [
    "#cek isi train set\n",
    "train_set"
   ]
  },
  {
   "cell_type": "code",
   "execution_count": 34,
   "metadata": {},
   "outputs": [
    {
     "data": {
      "text/plain": [
       "<PrefetchDataset element_spec=(TensorSpec(shape=(None, None, 1), dtype=tf.float64, name=None), TensorSpec(shape=(None, None, 1), dtype=tf.float64, name=None))>"
      ]
     },
     "execution_count": 34,
     "metadata": {},
     "output_type": "execute_result"
    }
   ],
   "source": [
    "#sama, cuman set validasi, pastikan keduanya sama\n",
    "valid_set"
   ]
  },
  {
   "cell_type": "markdown",
   "metadata": {},
   "source": [
    "Deklarasi Early Stopping sebagai fungsi callback\n",
    "\n",
    "Callback itu adalah sebuah fungsi yang di panggil (lalu fungsi itu melakukan pemeriksaan) setiap selesa 1 epoch\n",
    "fungsinya adalah untuk melakukan pemeriksaan dan tindakan kalo sesuatu hal terjadi setelah training.\n",
    "Penerapannya macam macam, ada yang untuk men save model setiap 5 epochs (checkpoint), ada memeriksa perubahan akurasi, dll\n",
    "\n",
    "Nah sekarang kita pakai early stopping, yang berfungsi kalau dalam sekian epochs (`patience`) gak ada perubahan, dan perubahan loss dibawah nilai `min_delta` yang kita inginkan (inget ya perubahan itu mutlak),,, kita bakal hentikan proses training... dan menyimpan hasil terbaik"
   ]
  },
  {
   "cell_type": "code",
   "execution_count": 50,
   "metadata": {},
   "outputs": [],
   "source": [
    "from keras.callbacks import  EarlyStopping\n",
    "callbacks = EarlyStopping(\n",
    "    min_delta=0.00001,\n",
    "    \n",
    "    patience=10,\n",
    "    restore_best_weights=True,\n",
    ")"
   ]
  },
  {
   "cell_type": "markdown",
   "metadata": {},
   "source": [
    "Penyusunan deep learning nya\n",
    "\n",
    "Kita Menggunakan BLSTM atau *Bidirectional Long Short Term Memory*. BLSTM adalah proses pembuatan jaringan syaraf tiruan untuk memiliki urutan informasi dalam kedua arah mundur (masa depan ke masa lalu) atau maju (masa lalu ke masa depan).\n",
    "\n",
    "\n",
    "kalo ini pake BLSTM dengan input layer sebanyak 2 neuron, BLSTM layer ada dua, yang pertama ada 64 neuron, terus yang kedua ada 32 neuron, dibuat mengkerucut (segitiga terbalik) seolah kita menyederhanakan data datanya, jadi kan makin dalem makin sedikit tuh, karena ada yang ga kepake kepake buat menentukan sales nya dan lain lain, \n",
    "\n",
    "terus setiap selesai masuk BLSTM layer, ada dropout, itu tuh untuk mengeliminasi secara random (di case ini 50%) sambungan antara neuron, dan nge \"matiin\" neuronnya itu juga, mensimulasi degradasi neuron dan sambungannya saat kita tidur, alias proses mengubah ingatan jadi jangka menengah ke panjang dari apa yang kita dapatkan pada hari itu. "
   ]
  },
  {
   "cell_type": "code",
   "execution_count": 66,
   "metadata": {},
   "outputs": [],
   "source": [
    "model = tf.keras.Sequential([\n",
    "        tf.keras.layers.Dense(2, input_shape=[None, 1]),\n",
    "        tf.keras.layers.Bidirectional(tf.keras.layers.LSTM(64,return_sequences=True)),\n",
    "        tf.keras.layers.Dropout(0.5),\n",
    "        tf.keras.layers.Bidirectional(tf.keras.layers.LSTM(32)),\n",
    "        tf.keras.layers.Dropout(0.5),\n",
    "        tf.keras.layers.Dense(16),\n",
    "        tf.keras.layers.Dense(1),\n",
    "    ])\n",
    "\n",
    "    #the blstm part"
   ]
  },
  {
   "cell_type": "code",
   "execution_count": 112,
   "metadata": {},
   "outputs": [],
   "source": [
    "# The model below has successfully achieved a validation mse of 0.04 and it can predict almost perfectly.\n",
    "# model = tf.keras.Sequential([\n",
    "#         tf.keras.layers.Dense(2, input_shape=[None, 1]),\n",
    "#         tf.keras.layers.Bidirectional(tf.keras.layers.GRU(80,return_sequences=True)),\n",
    "#         tf.keras.layers.Bidirectional(tf.keras.layers.GRU(100)), #tadi 64 hampir berhasil\n",
    "        \n",
    "#         tf.keras.layers.Flatten(),\n",
    "#         tf.keras.layers.Dense(1024, activation='relu'),\n",
    "#         tf.keras.layers.Dropout(0.5),\n",
    "#         # tf.keras.layers.Dense(512, activation='relu',kernel_regularizer=tf.keras.regularizers.l1(l1=0.01)),\n",
    "#         # tf.keras.layers.Dense(64, activation='relu',kernel_regularizer=tf.keras.regularizers.l1_l2(l1=0.01, l2=0.01)),\n",
    "#         # tf.keras.layers.Dense(32, activation='relu'),\n",
    "#         # tf.keras.layers.Dropout(0.3),\n",
    "#         tf.keras.layers.Dense(1, activation='relu')\n",
    "#     ])"
   ]
  },
  {
   "cell_type": "code",
   "execution_count": 67,
   "metadata": {},
   "outputs": [
    {
     "name": "stdout",
     "output_type": "stream",
     "text": [
      "Model: \"sequential_7\"\n",
      "_________________________________________________________________\n",
      " Layer (type)                Output Shape              Param #   \n",
      "=================================================================\n",
      " dense_21 (Dense)            (None, None, 2)           4         \n",
      "                                                                 \n",
      " bidirectional_14 (Bidirecti  (None, None, 128)        34304     \n",
      " onal)                                                           \n",
      "                                                                 \n",
      " dropout_14 (Dropout)        (None, None, 128)         0         \n",
      "                                                                 \n",
      " bidirectional_15 (Bidirecti  (None, 64)               41216     \n",
      " onal)                                                           \n",
      "                                                                 \n",
      " dropout_15 (Dropout)        (None, 64)                0         \n",
      "                                                                 \n",
      " dense_22 (Dense)            (None, 16)                1040      \n",
      "                                                                 \n",
      " dense_23 (Dense)            (None, 1)                 17        \n",
      "                                                                 \n",
      "=================================================================\n",
      "Total params: 76,581\n",
      "Trainable params: 76,581\n",
      "Non-trainable params: 0\n",
      "_________________________________________________________________\n",
      "Epoch 1/300\n"
     ]
    },
    {
     "name": "stderr",
     "output_type": "stream",
     "text": [
      "2022-04-22 18:49:30.191351: I tensorflow/core/grappler/optimizers/custom_graph_optimizer_registry.cc:113] Plugin optimizer for device_type GPU is enabled.\n",
      "2022-04-22 18:49:30.729019: I tensorflow/core/grappler/optimizers/custom_graph_optimizer_registry.cc:113] Plugin optimizer for device_type GPU is enabled.\n",
      "2022-04-22 18:49:30.739127: I tensorflow/core/grappler/optimizers/custom_graph_optimizer_registry.cc:113] Plugin optimizer for device_type GPU is enabled.\n",
      "2022-04-22 18:49:30.822567: I tensorflow/core/grappler/optimizers/custom_graph_optimizer_registry.cc:113] Plugin optimizer for device_type GPU is enabled.\n",
      "2022-04-22 18:49:30.832613: I tensorflow/core/grappler/optimizers/custom_graph_optimizer_registry.cc:113] Plugin optimizer for device_type GPU is enabled.\n",
      "2022-04-22 18:49:30.968075: I tensorflow/core/grappler/optimizers/custom_graph_optimizer_registry.cc:113] Plugin optimizer for device_type GPU is enabled.\n",
      "2022-04-22 18:49:30.985737: I tensorflow/core/grappler/optimizers/custom_graph_optimizer_registry.cc:113] Plugin optimizer for device_type GPU is enabled.\n",
      "2022-04-22 18:49:31.128963: I tensorflow/core/grappler/optimizers/custom_graph_optimizer_registry.cc:113] Plugin optimizer for device_type GPU is enabled.\n",
      "2022-04-22 18:49:31.149429: I tensorflow/core/grappler/optimizers/custom_graph_optimizer_registry.cc:113] Plugin optimizer for device_type GPU is enabled.\n"
     ]
    },
    {
     "name": "stdout",
     "output_type": "stream",
     "text": [
      "     25/Unknown - 4s 37ms/step - loss: 0.0974 - mae: 0.2466"
     ]
    },
    {
     "name": "stderr",
     "output_type": "stream",
     "text": [
      "2022-04-22 18:49:34.780363: I tensorflow/core/grappler/optimizers/custom_graph_optimizer_registry.cc:113] Plugin optimizer for device_type GPU is enabled.\n",
      "2022-04-22 18:49:34.950621: I tensorflow/core/grappler/optimizers/custom_graph_optimizer_registry.cc:113] Plugin optimizer for device_type GPU is enabled.\n",
      "2022-04-22 18:49:34.961510: I tensorflow/core/grappler/optimizers/custom_graph_optimizer_registry.cc:113] Plugin optimizer for device_type GPU is enabled.\n",
      "2022-04-22 18:49:35.148707: I tensorflow/core/grappler/optimizers/custom_graph_optimizer_registry.cc:113] Plugin optimizer for device_type GPU is enabled.\n",
      "2022-04-22 18:49:35.157359: I tensorflow/core/grappler/optimizers/custom_graph_optimizer_registry.cc:113] Plugin optimizer for device_type GPU is enabled.\n"
     ]
    },
    {
     "name": "stdout",
     "output_type": "stream",
     "text": [
      "26/26 [==============================] - 7s 167ms/step - loss: 0.0944 - mae: 0.2421 - val_loss: 0.1879 - val_mae: 0.3515\n",
      "Epoch 2/300\n",
      "26/26 [==============================] - 1s 23ms/step - loss: 0.0199 - mae: 0.1087 - val_loss: 0.2166 - val_mae: 0.3898\n",
      "Epoch 3/300\n",
      "26/26 [==============================] - 1s 21ms/step - loss: 0.0207 - mae: 0.1140 - val_loss: 0.2060 - val_mae: 0.3817\n",
      "Epoch 4/300\n",
      "26/26 [==============================] - 1s 21ms/step - loss: 0.0180 - mae: 0.1027 - val_loss: 0.2177 - val_mae: 0.3993\n",
      "Epoch 5/300\n",
      "26/26 [==============================] - 1s 21ms/step - loss: 0.0181 - mae: 0.1057 - val_loss: 0.2178 - val_mae: 0.4017\n",
      "Epoch 6/300\n",
      "26/26 [==============================] - 1s 19ms/step - loss: 0.0187 - mae: 0.1034 - val_loss: 0.2137 - val_mae: 0.3982\n",
      "Epoch 7/300\n",
      "26/26 [==============================] - 1s 20ms/step - loss: 0.0180 - mae: 0.1011 - val_loss: 0.1970 - val_mae: 0.3789\n",
      "Epoch 8/300\n",
      "26/26 [==============================] - 1s 19ms/step - loss: 0.0164 - mae: 0.0972 - val_loss: 0.1928 - val_mae: 0.3730\n",
      "Epoch 9/300\n",
      "26/26 [==============================] - 1s 20ms/step - loss: 0.0168 - mae: 0.0982 - val_loss: 0.2184 - val_mae: 0.4036\n",
      "Epoch 10/300\n",
      "26/26 [==============================] - 1s 19ms/step - loss: 0.0191 - mae: 0.1099 - val_loss: 0.2135 - val_mae: 0.3982\n",
      "Epoch 11/300\n",
      "26/26 [==============================] - 1s 20ms/step - loss: 0.0182 - mae: 0.1052 - val_loss: 0.1993 - val_mae: 0.3830\n",
      "Epoch 12/300\n",
      "26/26 [==============================] - 0s 19ms/step - loss: 0.0173 - mae: 0.0966 - val_loss: 0.1893 - val_mae: 0.3706\n",
      "Epoch 13/300\n",
      "26/26 [==============================] - 0s 19ms/step - loss: 0.0170 - mae: 0.0976 - val_loss: 0.1903 - val_mae: 0.3721\n",
      "Epoch 14/300\n",
      "26/26 [==============================] - 1s 19ms/step - loss: 0.0172 - mae: 0.0998 - val_loss: 0.1969 - val_mae: 0.3790\n",
      "Epoch 15/300\n",
      "26/26 [==============================] - 1s 20ms/step - loss: 0.0177 - mae: 0.0974 - val_loss: 0.2069 - val_mae: 0.3910\n",
      "Epoch 16/300\n",
      "26/26 [==============================] - 1s 20ms/step - loss: 0.0176 - mae: 0.1013 - val_loss: 0.2093 - val_mae: 0.3939\n",
      "Epoch 17/300\n",
      "26/26 [==============================] - 1s 19ms/step - loss: 0.0183 - mae: 0.0979 - val_loss: 0.2059 - val_mae: 0.3906\n",
      "Epoch 18/300\n",
      "26/26 [==============================] - 1s 21ms/step - loss: 0.0170 - mae: 0.0966 - val_loss: 0.2035 - val_mae: 0.3888\n",
      "Epoch 19/300\n",
      "26/26 [==============================] - 0s 19ms/step - loss: 0.0168 - mae: 0.0972 - val_loss: 0.2006 - val_mae: 0.3865\n",
      "Epoch 20/300\n",
      "26/26 [==============================] - 0s 19ms/step - loss: 0.0168 - mae: 0.0952 - val_loss: 0.2040 - val_mae: 0.3905\n",
      "Epoch 21/300\n",
      "26/26 [==============================] - 1s 20ms/step - loss: 0.0176 - mae: 0.0997 - val_loss: 0.1871 - val_mae: 0.3688\n",
      "Epoch 22/300\n",
      "26/26 [==============================] - 1s 19ms/step - loss: 0.0159 - mae: 0.0909 - val_loss: 0.1869 - val_mae: 0.3675\n",
      "Epoch 23/300\n",
      "26/26 [==============================] - 1s 20ms/step - loss: 0.0152 - mae: 0.0888 - val_loss: 0.1920 - val_mae: 0.3742\n",
      "Epoch 24/300\n",
      "26/26 [==============================] - 1s 19ms/step - loss: 0.0161 - mae: 0.0921 - val_loss: 0.1978 - val_mae: 0.3819\n",
      "Epoch 25/300\n",
      "26/26 [==============================] - 0s 19ms/step - loss: 0.0166 - mae: 0.0942 - val_loss: 0.1987 - val_mae: 0.3829\n",
      "Epoch 26/300\n",
      "26/26 [==============================] - 0s 19ms/step - loss: 0.0161 - mae: 0.0933 - val_loss: 0.1916 - val_mae: 0.3744\n",
      "Epoch 27/300\n",
      "26/26 [==============================] - 1s 19ms/step - loss: 0.0163 - mae: 0.0947 - val_loss: 0.1844 - val_mae: 0.3656\n",
      "Epoch 28/300\n",
      "26/26 [==============================] - 1s 20ms/step - loss: 0.0155 - mae: 0.0883 - val_loss: 0.1838 - val_mae: 0.3647\n",
      "Epoch 29/300\n",
      "26/26 [==============================] - 0s 19ms/step - loss: 0.0170 - mae: 0.0959 - val_loss: 0.1911 - val_mae: 0.3754\n",
      "Epoch 30/300\n",
      "26/26 [==============================] - 0s 19ms/step - loss: 0.0167 - mae: 0.0935 - val_loss: 0.1920 - val_mae: 0.3771\n",
      "Epoch 31/300\n",
      "26/26 [==============================] - 1s 19ms/step - loss: 0.0162 - mae: 0.0920 - val_loss: 0.2044 - val_mae: 0.3905\n",
      "Epoch 32/300\n",
      "26/26 [==============================] - 1s 19ms/step - loss: 0.0190 - mae: 0.1052 - val_loss: 0.1992 - val_mae: 0.3844\n",
      "Epoch 33/300\n",
      "26/26 [==============================] - 0s 19ms/step - loss: 0.0183 - mae: 0.0975 - val_loss: 0.1940 - val_mae: 0.3785\n",
      "Epoch 34/300\n",
      "26/26 [==============================] - 1s 19ms/step - loss: 0.0172 - mae: 0.0947 - val_loss: 0.1938 - val_mae: 0.3789\n",
      "Epoch 35/300\n",
      "26/26 [==============================] - 1s 20ms/step - loss: 0.0164 - mae: 0.0917 - val_loss: 0.1862 - val_mae: 0.3678\n",
      "Epoch 36/300\n",
      "26/26 [==============================] - 1s 21ms/step - loss: 0.0146 - mae: 0.0882 - val_loss: 0.1703 - val_mae: 0.3423\n",
      "Epoch 37/300\n",
      "26/26 [==============================] - 1s 20ms/step - loss: 0.0160 - mae: 0.0909 - val_loss: 0.1836 - val_mae: 0.3632\n",
      "Epoch 38/300\n",
      "26/26 [==============================] - 1s 20ms/step - loss: 0.0162 - mae: 0.0927 - val_loss: 0.1878 - val_mae: 0.3695\n",
      "Epoch 39/300\n",
      "26/26 [==============================] - 0s 19ms/step - loss: 0.0164 - mae: 0.0930 - val_loss: 0.1945 - val_mae: 0.3794\n",
      "Epoch 40/300\n",
      "26/26 [==============================] - 1s 19ms/step - loss: 0.0171 - mae: 0.0983 - val_loss: 0.1787 - val_mae: 0.3566\n",
      "Epoch 41/300\n",
      "26/26 [==============================] - 0s 19ms/step - loss: 0.0152 - mae: 0.0885 - val_loss: 0.1781 - val_mae: 0.3559\n",
      "Epoch 42/300\n",
      "26/26 [==============================] - 0s 19ms/step - loss: 0.0162 - mae: 0.0905 - val_loss: 0.1860 - val_mae: 0.3673\n",
      "Epoch 43/300\n",
      "26/26 [==============================] - 0s 19ms/step - loss: 0.0164 - mae: 0.0932 - val_loss: 0.1843 - val_mae: 0.3659\n",
      "Epoch 44/300\n",
      "26/26 [==============================] - 1s 19ms/step - loss: 0.0167 - mae: 0.0917 - val_loss: 0.1920 - val_mae: 0.3758\n",
      "Epoch 45/300\n",
      "26/26 [==============================] - 1s 20ms/step - loss: 0.0177 - mae: 0.0954 - val_loss: 0.1920 - val_mae: 0.3720\n",
      "Epoch 46/300\n",
      "26/26 [==============================] - 1s 19ms/step - loss: 0.0171 - mae: 0.0968 - val_loss: 0.1853 - val_mae: 0.3647\n",
      "Epoch 47/300\n",
      "26/26 [==============================] - 0s 19ms/step - loss: 0.0159 - mae: 0.0914 - val_loss: 0.1882 - val_mae: 0.3708\n",
      "Epoch 48/300\n",
      "26/26 [==============================] - 1s 19ms/step - loss: 0.0162 - mae: 0.0888 - val_loss: 0.1775 - val_mae: 0.3547\n",
      "Epoch 49/300\n",
      "26/26 [==============================] - 1s 21ms/step - loss: 0.0149 - mae: 0.0878 - val_loss: 0.1845 - val_mae: 0.3644\n",
      "Epoch 50/300\n",
      "26/26 [==============================] - 1s 20ms/step - loss: 0.0165 - mae: 0.0961 - val_loss: 0.1791 - val_mae: 0.3570\n",
      "Epoch 51/300\n",
      "26/26 [==============================] - 1s 20ms/step - loss: 0.0152 - mae: 0.0875 - val_loss: 0.1831 - val_mae: 0.3637\n",
      "Epoch 52/300\n",
      "26/26 [==============================] - 1s 19ms/step - loss: 0.0160 - mae: 0.0914 - val_loss: 0.1777 - val_mae: 0.3553\n",
      "Epoch 53/300\n",
      "26/26 [==============================] - 1s 21ms/step - loss: 0.0159 - mae: 0.0938 - val_loss: 0.1770 - val_mae: 0.3545\n",
      "Epoch 54/300\n",
      "26/26 [==============================] - 1s 20ms/step - loss: 0.0160 - mae: 0.0887 - val_loss: 0.1804 - val_mae: 0.3593\n",
      "Epoch 55/300\n",
      "26/26 [==============================] - 0s 19ms/step - loss: 0.0158 - mae: 0.0876 - val_loss: 0.1867 - val_mae: 0.3669\n",
      "Epoch 56/300\n",
      "26/26 [==============================] - 0s 19ms/step - loss: 0.0173 - mae: 0.0977 - val_loss: 0.1853 - val_mae: 0.3653\n",
      "Epoch 57/300\n",
      "26/26 [==============================] - 1s 20ms/step - loss: 0.0169 - mae: 0.0942 - val_loss: 0.1737 - val_mae: 0.3487\n",
      "Epoch 58/300\n",
      "26/26 [==============================] - 1s 20ms/step - loss: 0.0154 - mae: 0.0884 - val_loss: 0.1733 - val_mae: 0.3475\n",
      "Epoch 59/300\n",
      "26/26 [==============================] - 0s 19ms/step - loss: 0.0149 - mae: 0.0878 - val_loss: 0.1947 - val_mae: 0.3781\n",
      "Epoch 60/300\n",
      "26/26 [==============================] - 1s 19ms/step - loss: 0.0172 - mae: 0.0975 - val_loss: 0.1810 - val_mae: 0.3600\n",
      "Epoch 61/300\n",
      "26/26 [==============================] - 1s 20ms/step - loss: 0.0157 - mae: 0.0882 - val_loss: 0.1805 - val_mae: 0.3592\n",
      "Epoch 62/300\n",
      "26/26 [==============================] - 0s 19ms/step - loss: 0.0162 - mae: 0.0901 - val_loss: 0.1933 - val_mae: 0.3747\n",
      "Epoch 63/300\n",
      "26/26 [==============================] - 1s 19ms/step - loss: 0.0176 - mae: 0.1010 - val_loss: 0.1844 - val_mae: 0.3640\n",
      "Epoch 64/300\n",
      "26/26 [==============================] - 0s 19ms/step - loss: 0.0162 - mae: 0.0928 - val_loss: 0.1745 - val_mae: 0.3501\n",
      "Epoch 65/300\n",
      "26/26 [==============================] - 0s 19ms/step - loss: 0.0154 - mae: 0.0867 - val_loss: 0.1757 - val_mae: 0.3520\n",
      "Epoch 66/300\n",
      "26/26 [==============================] - 1s 19ms/step - loss: 0.0161 - mae: 0.0884 - val_loss: 0.1831 - val_mae: 0.3622\n",
      "Epoch 67/300\n",
      "26/26 [==============================] - 1s 19ms/step - loss: 0.0163 - mae: 0.0919 - val_loss: 0.1811 - val_mae: 0.3595\n",
      "Epoch 68/300\n",
      "26/26 [==============================] - 0s 19ms/step - loss: 0.0154 - mae: 0.0928 - val_loss: 0.1734 - val_mae: 0.3489\n",
      "Epoch 69/300\n",
      "26/26 [==============================] - 0s 19ms/step - loss: 0.0160 - mae: 0.0878 - val_loss: 0.1809 - val_mae: 0.3583\n",
      "Epoch 70/300\n",
      "26/26 [==============================] - 1s 19ms/step - loss: 0.0166 - mae: 0.0921 - val_loss: 0.1902 - val_mae: 0.3710\n",
      "Epoch 71/300\n",
      "26/26 [==============================] - 0s 19ms/step - loss: 0.0177 - mae: 0.0968 - val_loss: 0.1881 - val_mae: 0.3695\n",
      "Epoch 72/300\n",
      "26/26 [==============================] - 1s 19ms/step - loss: 0.0173 - mae: 0.0984 - val_loss: 0.1827 - val_mae: 0.3616\n",
      "Epoch 73/300\n",
      "26/26 [==============================] - 1s 19ms/step - loss: 0.0157 - mae: 0.0896 - val_loss: 0.1697 - val_mae: 0.3417\n",
      "Epoch 74/300\n",
      "26/26 [==============================] - 1s 19ms/step - loss: 0.0154 - mae: 0.0885 - val_loss: 0.1822 - val_mae: 0.3603\n",
      "Epoch 75/300\n",
      "26/26 [==============================] - 1s 25ms/step - loss: 0.0157 - mae: 0.0937 - val_loss: 0.1766 - val_mae: 0.3523\n",
      "Epoch 76/300\n",
      "26/26 [==============================] - 1s 20ms/step - loss: 0.0163 - mae: 0.0925 - val_loss: 0.1675 - val_mae: 0.3378\n",
      "Epoch 77/300\n",
      "26/26 [==============================] - 1s 19ms/step - loss: 0.0151 - mae: 0.0849 - val_loss: 0.1757 - val_mae: 0.3511\n",
      "Epoch 78/300\n",
      "26/26 [==============================] - 1s 20ms/step - loss: 0.0158 - mae: 0.0899 - val_loss: 0.1849 - val_mae: 0.3640\n",
      "Epoch 79/300\n",
      "26/26 [==============================] - 1s 19ms/step - loss: 0.0165 - mae: 0.0963 - val_loss: 0.1674 - val_mae: 0.3375\n",
      "Epoch 80/300\n",
      "26/26 [==============================] - 1s 20ms/step - loss: 0.0165 - mae: 0.0894 - val_loss: 0.1646 - val_mae: 0.3319\n",
      "Epoch 81/300\n",
      "26/26 [==============================] - 0s 19ms/step - loss: 0.0146 - mae: 0.0843 - val_loss: 0.1771 - val_mae: 0.3527\n",
      "Epoch 82/300\n",
      "26/26 [==============================] - 1s 19ms/step - loss: 0.0152 - mae: 0.0892 - val_loss: 0.1691 - val_mae: 0.3409\n",
      "Epoch 83/300\n",
      "26/26 [==============================] - 1s 21ms/step - loss: 0.0161 - mae: 0.0894 - val_loss: 0.1755 - val_mae: 0.3506\n",
      "Epoch 84/300\n",
      "26/26 [==============================] - 1s 20ms/step - loss: 0.0154 - mae: 0.0881 - val_loss: 0.1692 - val_mae: 0.3406\n",
      "Epoch 85/300\n",
      "26/26 [==============================] - 1s 20ms/step - loss: 0.0152 - mae: 0.0853 - val_loss: 0.1772 - val_mae: 0.3529\n",
      "Epoch 86/300\n",
      "26/26 [==============================] - 1s 20ms/step - loss: 0.0157 - mae: 0.0897 - val_loss: 0.1741 - val_mae: 0.3484\n",
      "Epoch 87/300\n",
      "26/26 [==============================] - 0s 19ms/step - loss: 0.0151 - mae: 0.0872 - val_loss: 0.1759 - val_mae: 0.3510\n",
      "Epoch 88/300\n",
      "26/26 [==============================] - 0s 19ms/step - loss: 0.0155 - mae: 0.0898 - val_loss: 0.1719 - val_mae: 0.3446\n",
      "Epoch 89/300\n",
      "26/26 [==============================] - 0s 19ms/step - loss: 0.0145 - mae: 0.0869 - val_loss: 0.1736 - val_mae: 0.3481\n",
      "Epoch 90/300\n",
      "26/26 [==============================] - 1s 19ms/step - loss: 0.0160 - mae: 0.0921 - val_loss: 0.1800 - val_mae: 0.3568\n",
      "Epoch 91/300\n",
      "26/26 [==============================] - 0s 19ms/step - loss: 0.0157 - mae: 0.0912 - val_loss: 0.1809 - val_mae: 0.3579\n",
      "Epoch 92/300\n",
      "26/26 [==============================] - 0s 19ms/step - loss: 0.0176 - mae: 0.0978 - val_loss: 0.1607 - val_mae: 0.3251\n",
      "Epoch 93/300\n",
      "26/26 [==============================] - 1s 22ms/step - loss: 0.0166 - mae: 0.0925 - val_loss: 0.1617 - val_mae: 0.3256\n",
      "Epoch 94/300\n",
      "26/26 [==============================] - 0s 19ms/step - loss: 0.0162 - mae: 0.0910 - val_loss: 0.1698 - val_mae: 0.3392\n",
      "Epoch 95/300\n",
      "26/26 [==============================] - 0s 19ms/step - loss: 0.0154 - mae: 0.0917 - val_loss: 0.1729 - val_mae: 0.3460\n",
      "Epoch 96/300\n",
      "26/26 [==============================] - 0s 19ms/step - loss: 0.0154 - mae: 0.0873 - val_loss: 0.1696 - val_mae: 0.3412\n",
      "Epoch 97/300\n",
      "26/26 [==============================] - 0s 19ms/step - loss: 0.0148 - mae: 0.0867 - val_loss: 0.1680 - val_mae: 0.3382\n",
      "Epoch 98/300\n",
      "26/26 [==============================] - 1s 19ms/step - loss: 0.0155 - mae: 0.0884 - val_loss: 0.1682 - val_mae: 0.3387\n",
      "Epoch 99/300\n",
      "26/26 [==============================] - 0s 19ms/step - loss: 0.0151 - mae: 0.0865 - val_loss: 0.1752 - val_mae: 0.3497\n",
      "Epoch 100/300\n",
      "26/26 [==============================] - 1s 20ms/step - loss: 0.0157 - mae: 0.0893 - val_loss: 0.1767 - val_mae: 0.3517\n",
      "Epoch 101/300\n",
      "26/26 [==============================] - 0s 19ms/step - loss: 0.0165 - mae: 0.0908 - val_loss: 0.1733 - val_mae: 0.3461\n",
      "Epoch 102/300\n",
      "26/26 [==============================] - 0s 19ms/step - loss: 0.0153 - mae: 0.0881 - val_loss: 0.1712 - val_mae: 0.3434\n",
      "Epoch 103/300\n",
      "26/26 [==============================] - 0s 19ms/step - loss: 0.0160 - mae: 0.0910 - val_loss: 0.1726 - val_mae: 0.3461\n",
      "Epoch 104/300\n",
      "26/26 [==============================] - 0s 19ms/step - loss: 0.0152 - mae: 0.0854 - val_loss: 0.1739 - val_mae: 0.3480\n",
      "Epoch 105/300\n",
      "26/26 [==============================] - 0s 19ms/step - loss: 0.0156 - mae: 0.0879 - val_loss: 0.1740 - val_mae: 0.3471\n",
      "Epoch 106/300\n",
      "26/26 [==============================] - 0s 19ms/step - loss: 0.0161 - mae: 0.0917 - val_loss: 0.1764 - val_mae: 0.3516\n",
      "Epoch 107/300\n",
      "26/26 [==============================] - 0s 19ms/step - loss: 0.0163 - mae: 0.0917 - val_loss: 0.1786 - val_mae: 0.3529\n",
      "Epoch 108/300\n",
      "26/26 [==============================] - 1s 19ms/step - loss: 0.0167 - mae: 0.0939 - val_loss: 0.1719 - val_mae: 0.3442\n",
      "Epoch 109/300\n",
      "26/26 [==============================] - 0s 19ms/step - loss: 0.0156 - mae: 0.0885 - val_loss: 0.1758 - val_mae: 0.3499\n",
      "Epoch 110/300\n",
      "26/26 [==============================] - 0s 19ms/step - loss: 0.0157 - mae: 0.0901 - val_loss: 0.1655 - val_mae: 0.3340\n",
      "Epoch 111/300\n",
      "26/26 [==============================] - 1s 21ms/step - loss: 0.0152 - mae: 0.0854 - val_loss: 0.1819 - val_mae: 0.3584\n",
      "Epoch 112/300\n",
      "26/26 [==============================] - 1s 20ms/step - loss: 0.0162 - mae: 0.0911 - val_loss: 0.1675 - val_mae: 0.3368\n",
      "Epoch 113/300\n",
      "26/26 [==============================] - 1s 19ms/step - loss: 0.0155 - mae: 0.0869 - val_loss: 0.1710 - val_mae: 0.3428\n",
      "Epoch 114/300\n",
      "26/26 [==============================] - 0s 19ms/step - loss: 0.0153 - mae: 0.0871 - val_loss: 0.1773 - val_mae: 0.3502\n",
      "Epoch 115/300\n",
      "26/26 [==============================] - 1s 19ms/step - loss: 0.0163 - mae: 0.0915 - val_loss: 0.1755 - val_mae: 0.3478\n",
      "Epoch 116/300\n",
      "26/26 [==============================] - 0s 19ms/step - loss: 0.0165 - mae: 0.0959 - val_loss: 0.1708 - val_mae: 0.3423\n",
      "Epoch 117/300\n",
      "26/26 [==============================] - 1s 19ms/step - loss: 0.0153 - mae: 0.0883 - val_loss: 0.1612 - val_mae: 0.3257\n",
      "Epoch 118/300\n",
      "26/26 [==============================] - 1s 19ms/step - loss: 0.0147 - mae: 0.0848 - val_loss: 0.1739 - val_mae: 0.3455\n",
      "Epoch 119/300\n",
      "26/26 [==============================] - 1s 19ms/step - loss: 0.0151 - mae: 0.0911 - val_loss: 0.1692 - val_mae: 0.3390\n",
      "Epoch 120/300\n",
      "26/26 [==============================] - 0s 19ms/step - loss: 0.0156 - mae: 0.0871 - val_loss: 0.1759 - val_mae: 0.3499\n",
      "Epoch 121/300\n",
      "26/26 [==============================] - 1s 19ms/step - loss: 0.0158 - mae: 0.0907 - val_loss: 0.1740 - val_mae: 0.3463\n",
      "Epoch 122/300\n",
      "26/26 [==============================] - 0s 19ms/step - loss: 0.0173 - mae: 0.0967 - val_loss: 0.1758 - val_mae: 0.3508\n",
      "Epoch 123/300\n",
      "26/26 [==============================] - 1s 19ms/step - loss: 0.0159 - mae: 0.0908 - val_loss: 0.1607 - val_mae: 0.3249\n",
      "Epoch 124/300\n",
      "26/26 [==============================] - 1s 19ms/step - loss: 0.0146 - mae: 0.0826 - val_loss: 0.1746 - val_mae: 0.3473\n",
      "Epoch 125/300\n",
      "26/26 [==============================] - 0s 19ms/step - loss: 0.0159 - mae: 0.0913 - val_loss: 0.1633 - val_mae: 0.3289\n",
      "Epoch 126/300\n",
      "26/26 [==============================] - 0s 19ms/step - loss: 0.0146 - mae: 0.0850 - val_loss: 0.1679 - val_mae: 0.3376\n",
      "Epoch 127/300\n",
      "26/26 [==============================] - 1s 19ms/step - loss: 0.0154 - mae: 0.0880 - val_loss: 0.1677 - val_mae: 0.3373\n",
      "Epoch 128/300\n",
      "26/26 [==============================] - 0s 19ms/step - loss: 0.0149 - mae: 0.0864 - val_loss: 0.1677 - val_mae: 0.3374\n",
      "Epoch 129/300\n",
      "26/26 [==============================] - 1s 20ms/step - loss: 0.0162 - mae: 0.0915 - val_loss: 0.1647 - val_mae: 0.3320\n",
      "Epoch 130/300\n",
      "26/26 [==============================] - 0s 19ms/step - loss: 0.0151 - mae: 0.0842 - val_loss: 0.1741 - val_mae: 0.3460\n",
      "Epoch 131/300\n",
      "26/26 [==============================] - 0s 19ms/step - loss: 0.0168 - mae: 0.0939 - val_loss: 0.1781 - val_mae: 0.3519\n",
      "Epoch 132/300\n",
      "26/26 [==============================] - 0s 19ms/step - loss: 0.0178 - mae: 0.0999 - val_loss: 0.1662 - val_mae: 0.3354\n",
      "Epoch 133/300\n",
      "26/26 [==============================] - 1s 20ms/step - loss: 0.0154 - mae: 0.0859 - val_loss: 0.1651 - val_mae: 0.3325\n",
      "Epoch 134/300\n",
      "26/26 [==============================] - 0s 19ms/step - loss: 0.0152 - mae: 0.0852 - val_loss: 0.1714 - val_mae: 0.3430\n",
      "Epoch 135/300\n",
      "26/26 [==============================] - 0s 19ms/step - loss: 0.0156 - mae: 0.0892 - val_loss: 0.1662 - val_mae: 0.3332\n",
      "Epoch 136/300\n",
      "26/26 [==============================] - 1s 19ms/step - loss: 0.0152 - mae: 0.0872 - val_loss: 0.1718 - val_mae: 0.3428\n",
      "Epoch 137/300\n",
      "26/26 [==============================] - 0s 19ms/step - loss: 0.0164 - mae: 0.0918 - val_loss: 0.1683 - val_mae: 0.3373\n",
      "Epoch 138/300\n",
      "26/26 [==============================] - 1s 21ms/step - loss: 0.0160 - mae: 0.0948 - val_loss: 0.1601 - val_mae: 0.3227\n",
      "Epoch 139/300\n",
      "26/26 [==============================] - 1s 19ms/step - loss: 0.0153 - mae: 0.0863 - val_loss: 0.1630 - val_mae: 0.3290\n",
      "Epoch 140/300\n",
      "26/26 [==============================] - 0s 19ms/step - loss: 0.0142 - mae: 0.0829 - val_loss: 0.1657 - val_mae: 0.3333\n",
      "Epoch 141/300\n",
      "26/26 [==============================] - 1s 20ms/step - loss: 0.0157 - mae: 0.0889 - val_loss: 0.1720 - val_mae: 0.3420\n",
      "Epoch 142/300\n",
      "26/26 [==============================] - 1s 19ms/step - loss: 0.0160 - mae: 0.0925 - val_loss: 0.1611 - val_mae: 0.3254\n",
      "Epoch 143/300\n",
      "26/26 [==============================] - 0s 19ms/step - loss: 0.0151 - mae: 0.0858 - val_loss: 0.1738 - val_mae: 0.3461\n",
      "Epoch 144/300\n",
      "26/26 [==============================] - 1s 19ms/step - loss: 0.0162 - mae: 0.0941 - val_loss: 0.1645 - val_mae: 0.3307\n",
      "Epoch 145/300\n",
      "26/26 [==============================] - 1s 19ms/step - loss: 0.0154 - mae: 0.0867 - val_loss: 0.1648 - val_mae: 0.3315\n",
      "Epoch 146/300\n",
      "26/26 [==============================] - 0s 19ms/step - loss: 0.0152 - mae: 0.0874 - val_loss: 0.1631 - val_mae: 0.3282\n",
      "Epoch 147/300\n",
      "26/26 [==============================] - 1s 21ms/step - loss: 0.0150 - mae: 0.0878 - val_loss: 0.1589 - val_mae: 0.3214\n",
      "Epoch 148/300\n",
      "26/26 [==============================] - 1s 19ms/step - loss: 0.0148 - mae: 0.0859 - val_loss: 0.1673 - val_mae: 0.3349\n",
      "Epoch 149/300\n",
      "26/26 [==============================] - 0s 19ms/step - loss: 0.0162 - mae: 0.0934 - val_loss: 0.1747 - val_mae: 0.3474\n",
      "Epoch 150/300\n",
      "26/26 [==============================] - 1s 19ms/step - loss: 0.0166 - mae: 0.0955 - val_loss: 0.1598 - val_mae: 0.3234\n",
      "Epoch 151/300\n",
      "26/26 [==============================] - 1s 19ms/step - loss: 0.0149 - mae: 0.0839 - val_loss: 0.1681 - val_mae: 0.3373\n",
      "Epoch 152/300\n",
      "26/26 [==============================] - 0s 19ms/step - loss: 0.0152 - mae: 0.0892 - val_loss: 0.1647 - val_mae: 0.3312\n",
      "Epoch 153/300\n",
      "26/26 [==============================] - 1s 19ms/step - loss: 0.0156 - mae: 0.0876 - val_loss: 0.1624 - val_mae: 0.3282\n",
      "Epoch 154/300\n",
      "26/26 [==============================] - 0s 19ms/step - loss: 0.0152 - mae: 0.0843 - val_loss: 0.1693 - val_mae: 0.3398\n",
      "Epoch 155/300\n",
      "26/26 [==============================] - 1s 19ms/step - loss: 0.0155 - mae: 0.0906 - val_loss: 0.1642 - val_mae: 0.3305\n",
      "Epoch 156/300\n",
      "26/26 [==============================] - 0s 19ms/step - loss: 0.0152 - mae: 0.0873 - val_loss: 0.1679 - val_mae: 0.3371\n",
      "Epoch 157/300\n",
      "26/26 [==============================] - 1s 20ms/step - loss: 0.0155 - mae: 0.0898 - val_loss: 0.1594 - val_mae: 0.3220\n",
      "Epoch 158/300\n",
      "26/26 [==============================] - 0s 19ms/step - loss: 0.0151 - mae: 0.0864 - val_loss: 0.1668 - val_mae: 0.3356\n",
      "Epoch 159/300\n",
      "26/26 [==============================] - 0s 19ms/step - loss: 0.0155 - mae: 0.0866 - val_loss: 0.1677 - val_mae: 0.3359\n",
      "Epoch 160/300\n",
      "26/26 [==============================] - 1s 20ms/step - loss: 0.0151 - mae: 0.0881 - val_loss: 0.1617 - val_mae: 0.3261\n",
      "Epoch 161/300\n",
      "26/26 [==============================] - 0s 19ms/step - loss: 0.0151 - mae: 0.0856 - val_loss: 0.1670 - val_mae: 0.3345\n",
      "Epoch 162/300\n",
      "26/26 [==============================] - 0s 19ms/step - loss: 0.0157 - mae: 0.0903 - val_loss: 0.1631 - val_mae: 0.3283\n",
      "Epoch 163/300\n",
      "26/26 [==============================] - 1s 20ms/step - loss: 0.0151 - mae: 0.0878 - val_loss: 0.1721 - val_mae: 0.3424\n",
      "Epoch 164/300\n",
      "26/26 [==============================] - 0s 19ms/step - loss: 0.0166 - mae: 0.0943 - val_loss: 0.1618 - val_mae: 0.3264\n",
      "Epoch 165/300\n",
      "26/26 [==============================] - 1s 20ms/step - loss: 0.0155 - mae: 0.0885 - val_loss: 0.1619 - val_mae: 0.3267\n",
      "Epoch 166/300\n",
      "26/26 [==============================] - 1s 19ms/step - loss: 0.0150 - mae: 0.0865 - val_loss: 0.1629 - val_mae: 0.3285\n",
      "Epoch 167/300\n",
      "26/26 [==============================] - 0s 19ms/step - loss: 0.0149 - mae: 0.0875 - val_loss: 0.1600 - val_mae: 0.3226\n",
      "Epoch 168/300\n",
      "26/26 [==============================] - 0s 19ms/step - loss: 0.0153 - mae: 0.0897 - val_loss: 0.1671 - val_mae: 0.3348\n",
      "Epoch 169/300\n",
      "26/26 [==============================] - 1s 19ms/step - loss: 0.0154 - mae: 0.0896 - val_loss: 0.1555 - val_mae: 0.3149\n",
      "Epoch 170/300\n",
      "26/26 [==============================] - 0s 19ms/step - loss: 0.0150 - mae: 0.0834 - val_loss: 0.1611 - val_mae: 0.3244\n",
      "Epoch 171/300\n",
      "26/26 [==============================] - 0s 19ms/step - loss: 0.0154 - mae: 0.0880 - val_loss: 0.1683 - val_mae: 0.3362\n",
      "Epoch 172/300\n",
      "26/26 [==============================] - 0s 19ms/step - loss: 0.0166 - mae: 0.0907 - val_loss: 0.1683 - val_mae: 0.3376\n",
      "Epoch 173/300\n",
      "26/26 [==============================] - 1s 19ms/step - loss: 0.0159 - mae: 0.0892 - val_loss: 0.1613 - val_mae: 0.3253\n",
      "Epoch 174/300\n",
      "26/26 [==============================] - 1s 19ms/step - loss: 0.0155 - mae: 0.0876 - val_loss: 0.1627 - val_mae: 0.3280\n",
      "Epoch 175/300\n",
      "26/26 [==============================] - 1s 19ms/step - loss: 0.0154 - mae: 0.0861 - val_loss: 0.1721 - val_mae: 0.3429\n",
      "Epoch 176/300\n",
      "26/26 [==============================] - 0s 19ms/step - loss: 0.0173 - mae: 0.0963 - val_loss: 0.1632 - val_mae: 0.3280\n",
      "Epoch 177/300\n",
      "26/26 [==============================] - 0s 19ms/step - loss: 0.0155 - mae: 0.0884 - val_loss: 0.1582 - val_mae: 0.3194\n",
      "Epoch 178/300\n",
      "26/26 [==============================] - 1s 19ms/step - loss: 0.0150 - mae: 0.0842 - val_loss: 0.1634 - val_mae: 0.3290\n",
      "Epoch 179/300\n",
      "26/26 [==============================] - 0s 19ms/step - loss: 0.0158 - mae: 0.0908 - val_loss: 0.1649 - val_mae: 0.3305\n",
      "Epoch 180/300\n",
      "26/26 [==============================] - 0s 19ms/step - loss: 0.0159 - mae: 0.0902 - val_loss: 0.1627 - val_mae: 0.3280\n",
      "Epoch 181/300\n",
      "26/26 [==============================] - 1s 19ms/step - loss: 0.0153 - mae: 0.0875 - val_loss: 0.1625 - val_mae: 0.3280\n",
      "Epoch 182/300\n",
      "26/26 [==============================] - 1s 21ms/step - loss: 0.0149 - mae: 0.0865 - val_loss: 0.1638 - val_mae: 0.3295\n",
      "Epoch 183/300\n",
      "26/26 [==============================] - 1s 21ms/step - loss: 0.0159 - mae: 0.0896 - val_loss: 0.1662 - val_mae: 0.3329\n",
      "Epoch 184/300\n",
      "26/26 [==============================] - 1s 19ms/step - loss: 0.0155 - mae: 0.0916 - val_loss: 0.1609 - val_mae: 0.3243\n",
      "Epoch 185/300\n",
      "26/26 [==============================] - 0s 19ms/step - loss: 0.0149 - mae: 0.0845 - val_loss: 0.1585 - val_mae: 0.3198\n",
      "Epoch 186/300\n",
      "26/26 [==============================] - 1s 20ms/step - loss: 0.0152 - mae: 0.0906 - val_loss: 0.1616 - val_mae: 0.3251\n",
      "Epoch 187/300\n",
      "26/26 [==============================] - 1s 19ms/step - loss: 0.0156 - mae: 0.0881 - val_loss: 0.1576 - val_mae: 0.3185\n",
      "Epoch 188/300\n",
      "26/26 [==============================] - 1s 19ms/step - loss: 0.0151 - mae: 0.0864 - val_loss: 0.1668 - val_mae: 0.3336\n",
      "Epoch 189/300\n",
      "26/26 [==============================] - 1s 19ms/step - loss: 0.0157 - mae: 0.0939 - val_loss: 0.1568 - val_mae: 0.3169\n",
      "Epoch 190/300\n",
      "26/26 [==============================] - 0s 19ms/step - loss: 0.0150 - mae: 0.0842 - val_loss: 0.1657 - val_mae: 0.3326\n",
      "Epoch 191/300\n",
      "26/26 [==============================] - 1s 20ms/step - loss: 0.0153 - mae: 0.0876 - val_loss: 0.1583 - val_mae: 0.3198\n",
      "Epoch 192/300\n",
      "26/26 [==============================] - 0s 19ms/step - loss: 0.0149 - mae: 0.0878 - val_loss: 0.1536 - val_mae: 0.3119\n",
      "Epoch 193/300\n",
      "26/26 [==============================] - 1s 19ms/step - loss: 0.0151 - mae: 0.0859 - val_loss: 0.1567 - val_mae: 0.3168\n",
      "Epoch 194/300\n",
      "26/26 [==============================] - 1s 19ms/step - loss: 0.0150 - mae: 0.0850 - val_loss: 0.1559 - val_mae: 0.3153\n",
      "Epoch 195/300\n",
      "26/26 [==============================] - 0s 19ms/step - loss: 0.0149 - mae: 0.0842 - val_loss: 0.1624 - val_mae: 0.3266\n",
      "Epoch 196/300\n",
      "26/26 [==============================] - 1s 19ms/step - loss: 0.0155 - mae: 0.0897 - val_loss: 0.1570 - val_mae: 0.3174\n",
      "Epoch 197/300\n",
      "26/26 [==============================] - 1s 19ms/step - loss: 0.0149 - mae: 0.0844 - val_loss: 0.1603 - val_mae: 0.3236\n",
      "Epoch 198/300\n",
      "26/26 [==============================] - 1s 19ms/step - loss: 0.0154 - mae: 0.0899 - val_loss: 0.1550 - val_mae: 0.3139\n",
      "Epoch 199/300\n",
      "26/26 [==============================] - 0s 19ms/step - loss: 0.0150 - mae: 0.0846 - val_loss: 0.1575 - val_mae: 0.3189\n",
      "Epoch 200/300\n",
      "26/26 [==============================] - 1s 19ms/step - loss: 0.0148 - mae: 0.0868 - val_loss: 0.1585 - val_mae: 0.3201\n",
      "Epoch 201/300\n",
      "26/26 [==============================] - 1s 20ms/step - loss: 0.0155 - mae: 0.0896 - val_loss: 0.1538 - val_mae: 0.3118\n",
      "Epoch 202/300\n",
      "26/26 [==============================] - 1s 20ms/step - loss: 0.0154 - mae: 0.0853 - val_loss: 0.1578 - val_mae: 0.3193\n",
      "Epoch 203/300\n",
      "26/26 [==============================] - 1s 20ms/step - loss: 0.0151 - mae: 0.0864 - val_loss: 0.1575 - val_mae: 0.3186\n",
      "Epoch 204/300\n",
      "26/26 [==============================] - 0s 19ms/step - loss: 0.0148 - mae: 0.0852 - val_loss: 0.1564 - val_mae: 0.3159\n",
      "Epoch 205/300\n",
      "26/26 [==============================] - 0s 19ms/step - loss: 0.0146 - mae: 0.0866 - val_loss: 0.1581 - val_mae: 0.3191\n",
      "Epoch 206/300\n",
      "26/26 [==============================] - 1s 20ms/step - loss: 0.0152 - mae: 0.0896 - val_loss: 0.1644 - val_mae: 0.3321\n",
      "Epoch 207/300\n",
      "26/26 [==============================] - 1s 19ms/step - loss: 0.0161 - mae: 0.0911 - val_loss: 0.1599 - val_mae: 0.3234\n",
      "Epoch 208/300\n",
      "26/26 [==============================] - 0s 19ms/step - loss: 0.0149 - mae: 0.0866 - val_loss: 0.1599 - val_mae: 0.3229\n",
      "Epoch 209/300\n",
      "26/26 [==============================] - 1s 20ms/step - loss: 0.0149 - mae: 0.0854 - val_loss: 0.1580 - val_mae: 0.3191\n",
      "Epoch 210/300\n",
      "26/26 [==============================] - 1s 20ms/step - loss: 0.0150 - mae: 0.0867 - val_loss: 0.1595 - val_mae: 0.3220\n",
      "Epoch 211/300\n",
      "26/26 [==============================] - 1s 19ms/step - loss: 0.0153 - mae: 0.0885 - val_loss: 0.1605 - val_mae: 0.3234\n",
      "Epoch 212/300\n",
      "26/26 [==============================] - 1s 19ms/step - loss: 0.0149 - mae: 0.0881 - val_loss: 0.1552 - val_mae: 0.3137\n",
      "Epoch 213/300\n",
      "26/26 [==============================] - 0s 19ms/step - loss: 0.0145 - mae: 0.0839 - val_loss: 0.1587 - val_mae: 0.3204\n",
      "Epoch 214/300\n",
      "26/26 [==============================] - 0s 19ms/step - loss: 0.0147 - mae: 0.0849 - val_loss: 0.1581 - val_mae: 0.3195\n",
      "Epoch 215/300\n",
      "26/26 [==============================] - 0s 19ms/step - loss: 0.0148 - mae: 0.0859 - val_loss: 0.1597 - val_mae: 0.3219\n",
      "Epoch 216/300\n",
      "26/26 [==============================] - 1s 20ms/step - loss: 0.0153 - mae: 0.0916 - val_loss: 0.1560 - val_mae: 0.3150\n",
      "Epoch 217/300\n",
      "26/26 [==============================] - 0s 19ms/step - loss: 0.0147 - mae: 0.0856 - val_loss: 0.1560 - val_mae: 0.3159\n",
      "Epoch 218/300\n",
      "26/26 [==============================] - 0s 19ms/step - loss: 0.0150 - mae: 0.0831 - val_loss: 0.1566 - val_mae: 0.3166\n",
      "Epoch 219/300\n",
      "26/26 [==============================] - 1s 19ms/step - loss: 0.0152 - mae: 0.0870 - val_loss: 0.1688 - val_mae: 0.3368\n",
      "Epoch 220/300\n",
      "26/26 [==============================] - 1s 20ms/step - loss: 0.0163 - mae: 0.0962 - val_loss: 0.1494 - val_mae: 0.3041\n",
      "Epoch 221/300\n",
      "26/26 [==============================] - 1s 19ms/step - loss: 0.0144 - mae: 0.0831 - val_loss: 0.1548 - val_mae: 0.3135\n",
      "Epoch 222/300\n",
      "26/26 [==============================] - 1s 20ms/step - loss: 0.0153 - mae: 0.0898 - val_loss: 0.1518 - val_mae: 0.3077\n",
      "Epoch 223/300\n",
      "26/26 [==============================] - 0s 19ms/step - loss: 0.0153 - mae: 0.0849 - val_loss: 0.1543 - val_mae: 0.3123\n",
      "Epoch 224/300\n",
      "26/26 [==============================] - 1s 19ms/step - loss: 0.0148 - mae: 0.0876 - val_loss: 0.1656 - val_mae: 0.3328\n",
      "Epoch 225/300\n",
      "26/26 [==============================] - 1s 19ms/step - loss: 0.0162 - mae: 0.0946 - val_loss: 0.1580 - val_mae: 0.3194\n",
      "Epoch 226/300\n",
      "26/26 [==============================] - 1s 19ms/step - loss: 0.0160 - mae: 0.0897 - val_loss: 0.1578 - val_mae: 0.3192\n",
      "Epoch 227/300\n",
      "26/26 [==============================] - 1s 20ms/step - loss: 0.0151 - mae: 0.0898 - val_loss: 0.1531 - val_mae: 0.3101\n",
      "Epoch 228/300\n",
      "26/26 [==============================] - 1s 19ms/step - loss: 0.0150 - mae: 0.0854 - val_loss: 0.1566 - val_mae: 0.3167\n",
      "Epoch 229/300\n",
      "26/26 [==============================] - 1s 19ms/step - loss: 0.0150 - mae: 0.0867 - val_loss: 0.1540 - val_mae: 0.3118\n",
      "Epoch 230/300\n",
      "26/26 [==============================] - 0s 19ms/step - loss: 0.0153 - mae: 0.0859 - val_loss: 0.1563 - val_mae: 0.3158\n",
      "Epoch 231/300\n",
      "26/26 [==============================] - 0s 19ms/step - loss: 0.0149 - mae: 0.0867 - val_loss: 0.1558 - val_mae: 0.3145\n",
      "Epoch 232/300\n",
      "26/26 [==============================] - 1s 19ms/step - loss: 0.0151 - mae: 0.0851 - val_loss: 0.1565 - val_mae: 0.3161\n",
      "Epoch 233/300\n",
      "26/26 [==============================] - 0s 19ms/step - loss: 0.0151 - mae: 0.0858 - val_loss: 0.1560 - val_mae: 0.3145\n",
      "Epoch 234/300\n",
      "26/26 [==============================] - 0s 19ms/step - loss: 0.0148 - mae: 0.0854 - val_loss: 0.1558 - val_mae: 0.3142\n",
      "Epoch 235/300\n",
      "26/26 [==============================] - 1s 23ms/step - loss: 0.0151 - mae: 0.0883 - val_loss: 0.1535 - val_mae: 0.3098\n",
      "Epoch 236/300\n",
      "26/26 [==============================] - 1s 19ms/step - loss: 0.0147 - mae: 0.0845 - val_loss: 0.1575 - val_mae: 0.3183\n",
      "Epoch 237/300\n",
      "26/26 [==============================] - 1s 19ms/step - loss: 0.0150 - mae: 0.0871 - val_loss: 0.1546 - val_mae: 0.3116\n",
      "Epoch 238/300\n",
      "26/26 [==============================] - 0s 19ms/step - loss: 0.0152 - mae: 0.0844 - val_loss: 0.1592 - val_mae: 0.3214\n",
      "Epoch 239/300\n",
      "26/26 [==============================] - 1s 21ms/step - loss: 0.0150 - mae: 0.0900 - val_loss: 0.1503 - val_mae: 0.3032\n",
      "Epoch 240/300\n",
      "26/26 [==============================] - 0s 19ms/step - loss: 0.0147 - mae: 0.0825 - val_loss: 0.1561 - val_mae: 0.3146\n",
      "Epoch 241/300\n",
      "26/26 [==============================] - 1s 19ms/step - loss: 0.0147 - mae: 0.0868 - val_loss: 0.1566 - val_mae: 0.3150\n",
      "Epoch 242/300\n",
      "26/26 [==============================] - 1s 19ms/step - loss: 0.0153 - mae: 0.0879 - val_loss: 0.1507 - val_mae: 0.3037\n",
      "Epoch 243/300\n",
      "26/26 [==============================] - 0s 19ms/step - loss: 0.0146 - mae: 0.0841 - val_loss: 0.1503 - val_mae: 0.3032\n",
      "Epoch 244/300\n",
      "26/26 [==============================] - 1s 19ms/step - loss: 0.0151 - mae: 0.0865 - val_loss: 0.1636 - val_mae: 0.3278\n",
      "Epoch 245/300\n",
      "26/26 [==============================] - 0s 19ms/step - loss: 0.0167 - mae: 0.0947 - val_loss: 0.1510 - val_mae: 0.3045\n",
      "Epoch 246/300\n",
      "26/26 [==============================] - 1s 19ms/step - loss: 0.0145 - mae: 0.0823 - val_loss: 0.1593 - val_mae: 0.3211\n",
      "Epoch 247/300\n",
      "26/26 [==============================] - 0s 19ms/step - loss: 0.0153 - mae: 0.0897 - val_loss: 0.1508 - val_mae: 0.3048\n",
      "Epoch 248/300\n",
      "26/26 [==============================] - 0s 19ms/step - loss: 0.0150 - mae: 0.0853 - val_loss: 0.1550 - val_mae: 0.3125\n",
      "Epoch 249/300\n",
      "26/26 [==============================] - 0s 19ms/step - loss: 0.0148 - mae: 0.0845 - val_loss: 0.1529 - val_mae: 0.3085\n",
      "Epoch 250/300\n",
      "26/26 [==============================] - 1s 20ms/step - loss: 0.0148 - mae: 0.0857 - val_loss: 0.1539 - val_mae: 0.3105\n",
      "Epoch 251/300\n",
      "26/26 [==============================] - 0s 19ms/step - loss: 0.0147 - mae: 0.0859 - val_loss: 0.1497 - val_mae: 0.3020\n",
      "Epoch 252/300\n",
      "26/26 [==============================] - 1s 20ms/step - loss: 0.0142 - mae: 0.0840 - val_loss: 0.1587 - val_mae: 0.3195\n",
      "Epoch 253/300\n",
      "26/26 [==============================] - 1s 19ms/step - loss: 0.0156 - mae: 0.0885 - val_loss: 0.1529 - val_mae: 0.3073\n",
      "Epoch 254/300\n",
      "26/26 [==============================] - 1s 19ms/step - loss: 0.0145 - mae: 0.0853 - val_loss: 0.1575 - val_mae: 0.3168\n",
      "Epoch 255/300\n",
      "26/26 [==============================] - 0s 19ms/step - loss: 0.0156 - mae: 0.0903 - val_loss: 0.1538 - val_mae: 0.3082\n",
      "Epoch 256/300\n",
      "26/26 [==============================] - 1s 20ms/step - loss: 0.0152 - mae: 0.0885 - val_loss: 0.1557 - val_mae: 0.3123\n",
      "Epoch 257/300\n",
      "26/26 [==============================] - 1s 20ms/step - loss: 0.0147 - mae: 0.0874 - val_loss: 0.1491 - val_mae: 0.2982\n",
      "Epoch 258/300\n",
      "26/26 [==============================] - 1s 20ms/step - loss: 0.0143 - mae: 0.0839 - val_loss: 0.1607 - val_mae: 0.3229\n",
      "Epoch 259/300\n",
      "26/26 [==============================] - 1s 20ms/step - loss: 0.0161 - mae: 0.0920 - val_loss: 0.1503 - val_mae: 0.2998\n",
      "Epoch 260/300\n",
      "26/26 [==============================] - 1s 20ms/step - loss: 0.0144 - mae: 0.0827 - val_loss: 0.1555 - val_mae: 0.3104\n",
      "Epoch 261/300\n",
      "26/26 [==============================] - 1s 20ms/step - loss: 0.0151 - mae: 0.0863 - val_loss: 0.1524 - val_mae: 0.3044\n",
      "Epoch 262/300\n",
      "26/26 [==============================] - 1s 19ms/step - loss: 0.0144 - mae: 0.0823 - val_loss: 0.1528 - val_mae: 0.3059\n",
      "Epoch 263/300\n",
      "26/26 [==============================] - 0s 19ms/step - loss: 0.0145 - mae: 0.0852 - val_loss: 0.1492 - val_mae: 0.2989\n",
      "Epoch 264/300\n",
      "26/26 [==============================] - 1s 19ms/step - loss: 0.0146 - mae: 0.0844 - val_loss: 0.1537 - val_mae: 0.3078\n",
      "Epoch 265/300\n",
      "26/26 [==============================] - 1s 20ms/step - loss: 0.0147 - mae: 0.0843 - val_loss: 0.1527 - val_mae: 0.3050\n",
      "Epoch 266/300\n",
      "26/26 [==============================] - 0s 19ms/step - loss: 0.0144 - mae: 0.0837 - val_loss: 0.1553 - val_mae: 0.3096\n",
      "Epoch 267/300\n",
      "26/26 [==============================] - 1s 19ms/step - loss: 0.0150 - mae: 0.0884 - val_loss: 0.1569 - val_mae: 0.3133\n",
      "Epoch 268/300\n",
      "26/26 [==============================] - 1s 19ms/step - loss: 0.0150 - mae: 0.0856 - val_loss: 0.1511 - val_mae: 0.3000\n",
      "Epoch 269/300\n",
      "26/26 [==============================] - 0s 19ms/step - loss: 0.0144 - mae: 0.0837 - val_loss: 0.1550 - val_mae: 0.3094\n",
      "Epoch 270/300\n",
      "26/26 [==============================] - 1s 20ms/step - loss: 0.0151 - mae: 0.0877 - val_loss: 0.1548 - val_mae: 0.3071\n",
      "Epoch 271/300\n",
      "26/26 [==============================] - 0s 19ms/step - loss: 0.0145 - mae: 0.0831 - val_loss: 0.1549 - val_mae: 0.3086\n",
      "Epoch 272/300\n",
      "26/26 [==============================] - 0s 19ms/step - loss: 0.0149 - mae: 0.0889 - val_loss: 0.1556 - val_mae: 0.3104\n",
      "Epoch 273/300\n",
      "26/26 [==============================] - 0s 19ms/step - loss: 0.0153 - mae: 0.0889 - val_loss: 0.1549 - val_mae: 0.3069\n",
      "Epoch 274/300\n",
      "26/26 [==============================] - 1s 21ms/step - loss: 0.0147 - mae: 0.0851 - val_loss: 0.1518 - val_mae: 0.3002\n",
      "Epoch 275/300\n",
      "26/26 [==============================] - 1s 20ms/step - loss: 0.0143 - mae: 0.0834 - val_loss: 0.1544 - val_mae: 0.3067\n",
      "Epoch 276/300\n",
      "26/26 [==============================] - 0s 19ms/step - loss: 0.0147 - mae: 0.0867 - val_loss: 0.1568 - val_mae: 0.3126\n",
      "Epoch 277/300\n",
      "26/26 [==============================] - 0s 19ms/step - loss: 0.0149 - mae: 0.0875 - val_loss: 0.1514 - val_mae: 0.2987\n",
      "Epoch 278/300\n",
      "26/26 [==============================] - 1s 20ms/step - loss: 0.0144 - mae: 0.0851 - val_loss: 0.1553 - val_mae: 0.3065\n",
      "Epoch 279/300\n",
      "26/26 [==============================] - 0s 19ms/step - loss: 0.0144 - mae: 0.0854 - val_loss: 0.1541 - val_mae: 0.3032\n",
      "Epoch 280/300\n",
      "26/26 [==============================] - 0s 19ms/step - loss: 0.0149 - mae: 0.0852 - val_loss: 0.1543 - val_mae: 0.3037\n",
      "Epoch 281/300\n",
      "26/26 [==============================] - 0s 19ms/step - loss: 0.0148 - mae: 0.0853 - val_loss: 0.1543 - val_mae: 0.3031\n",
      "Epoch 282/300\n",
      "26/26 [==============================] - 1s 21ms/step - loss: 0.0144 - mae: 0.0849 - val_loss: 0.1545 - val_mae: 0.3041\n",
      "Epoch 283/300\n",
      "26/26 [==============================] - 1s 23ms/step - loss: 0.0147 - mae: 0.0886 - val_loss: 0.1552 - val_mae: 0.3034\n",
      "Epoch 284/300\n",
      "26/26 [==============================] - 1s 20ms/step - loss: 0.0143 - mae: 0.0862 - val_loss: 0.1514 - val_mae: 0.2927\n",
      "Epoch 285/300\n",
      "26/26 [==============================] - 1s 20ms/step - loss: 0.0141 - mae: 0.0829 - val_loss: 0.1568 - val_mae: 0.3076\n",
      "Epoch 286/300\n",
      "26/26 [==============================] - 0s 19ms/step - loss: 0.0148 - mae: 0.0861 - val_loss: 0.1523 - val_mae: 0.2906\n",
      "Epoch 287/300\n",
      "26/26 [==============================] - 1s 19ms/step - loss: 0.0142 - mae: 0.0833 - val_loss: 0.1583 - val_mae: 0.3111\n",
      "Epoch 288/300\n",
      "26/26 [==============================] - 0s 19ms/step - loss: 0.0154 - mae: 0.0880 - val_loss: 0.1556 - val_mae: 0.3046\n",
      "Epoch 289/300\n",
      "26/26 [==============================] - 0s 19ms/step - loss: 0.0149 - mae: 0.0848 - val_loss: 0.1602 - val_mae: 0.3159\n",
      "Epoch 290/300\n",
      "26/26 [==============================] - 0s 19ms/step - loss: 0.0159 - mae: 0.0928 - val_loss: 0.1555 - val_mae: 0.3027\n",
      "Epoch 291/300\n",
      "26/26 [==============================] - 0s 19ms/step - loss: 0.0149 - mae: 0.0859 - val_loss: 0.1558 - val_mae: 0.3037\n",
      "Epoch 292/300\n",
      "26/26 [==============================] - 1s 21ms/step - loss: 0.0145 - mae: 0.0838 - val_loss: 0.1550 - val_mae: 0.3028\n",
      "Epoch 293/300\n",
      "26/26 [==============================] - 0s 19ms/step - loss: 0.0145 - mae: 0.0866 - val_loss: 0.1522 - val_mae: 0.2952\n",
      "Epoch 294/300\n",
      "26/26 [==============================] - 1s 20ms/step - loss: 0.0144 - mae: 0.0832 - val_loss: 0.1555 - val_mae: 0.3025\n",
      "Epoch 295/300\n",
      "26/26 [==============================] - 1s 19ms/step - loss: 0.0149 - mae: 0.0868 - val_loss: 0.1589 - val_mae: 0.3105\n",
      "Epoch 296/300\n",
      "26/26 [==============================] - 0s 19ms/step - loss: 0.0149 - mae: 0.0879 - val_loss: 0.1551 - val_mae: 0.2999\n",
      "Epoch 297/300\n",
      "26/26 [==============================] - 0s 19ms/step - loss: 0.0145 - mae: 0.0849 - val_loss: 0.1551 - val_mae: 0.2983\n",
      "Epoch 298/300\n",
      "26/26 [==============================] - 0s 19ms/step - loss: 0.0143 - mae: 0.0835 - val_loss: 0.1560 - val_mae: 0.3032\n",
      "Epoch 299/300\n",
      "26/26 [==============================] - 1s 19ms/step - loss: 0.0145 - mae: 0.0858 - val_loss: 0.1547 - val_mae: 0.2985\n",
      "Epoch 300/300\n",
      "26/26 [==============================] - 0s 19ms/step - loss: 0.0142 - mae: 0.0835 - val_loss: 0.1550 - val_mae: 0.2992\n"
     ]
    }
   ],
   "source": [
    "#Training, pake model.fit()\n",
    "#Using mae and mse\n",
    "#model.compile(optimizer=tf.keras.optimizers.SGD(learning_rate=0.001, momentum=0.9),metrics=['mae'],loss='mse')\n",
    "#optimizers itu buat memilih fungsi optimasi, jadi itu sebuah fungsi yang bertanggung jawab biar tiap epoch itu ada perubahan yang baik\n",
    "#dengan cara membuat per layer belajar nya lebih keras atau lebih ringan, dengan cara mengubah parameter dari tiap layer\n",
    "#secara matematis, si optimizer akan berusaha mencari loss terkecil dalam distribusi loss dibanding parameter\n",
    "\n",
    "model.compile(optimizer=tf.keras.optimizers.Adam(),metrics=['mae'],loss='mse') #ini kita pasang modelnya mau pake optimizer sama\n",
    "#loss apa?\n",
    "model.summary() #buat ngeluat detail networknya, kayak dibawah\n",
    "hist=model.fit(train_set,epochs=300,validation_data=valid_set, batch_size=4) #training, dimasukin hasil training ke dalem variable\n",
    "# hist biar nanti gampang nge plot nya"
   ]
  },
  {
   "cell_type": "code",
   "execution_count": 68,
   "metadata": {},
   "outputs": [
    {
     "data": {
      "image/png": "[encoded data removed]",
      "text/plain": [
       "<Figure size 432x288 with 1 Axes>"
      ]
     },
     "metadata": {
      "needs_background": "light"
     },
     "output_type": "display_data"
    }
   ],
   "source": [
    "#menggambar\n",
    "plt.plot(hist.history['mae'], label='MAE (training data)')\n",
    "plt.plot(hist.history['val_mae'], label='MAE (validation data)')\n",
    "\n",
    "plt.title(\"MAE Cluster 0\")\n",
    "plt.ylabel('MAE value')\n",
    "plt.xlabel('No. epoch')\n",
    "plt.legend(loc=\"upper left\")\n",
    "plt.show()"
   ]
  },
  {
   "cell_type": "code",
   "execution_count": 69,
   "metadata": {},
   "outputs": [
    {
     "data": {
      "image/png": "[encoded data removed]",
      "text/plain": [
       "<Figure size 432x288 with 1 Axes>"
      ]
     },
     "metadata": {
      "needs_background": "light"
     },
     "output_type": "display_data"
    }
   ],
   "source": [
    "plt.plot(hist.history['loss'], label='loss (training data)')\n",
    "plt.plot(hist.history['val_loss'], label='loss (validation data)')\n",
    "\n",
    "plt.title(\"Loss Cluster 0 (MSE)\")\n",
    "plt.ylabel('MSE value')\n",
    "plt.xlabel('No. epoch')\n",
    "plt.legend(loc=\"upper left\")\n",
    "plt.show()"
   ]
  },
  {
   "cell_type": "code",
   "execution_count": 46,
   "metadata": {},
   "outputs": [
    {
     "name": "stdout",
     "output_type": "stream",
     "text": [
      "WARNING:tensorflow:Model was constructed with shape (None, None, 1) for input KerasTensor(type_spec=TensorSpec(shape=(None, None, 1), dtype=tf.float32, name='dense_input'), name='dense_input', description=\"created by layer 'dense_input'\"), but it was called on an input with incompatible shape (None,).\n"
     ]
    },
    {
     "ename": "ValueError",
     "evalue": "in user code:\n\n    File \"/Users/iganarendra/miniconda3/lib/python3.8/site-packages/keras/engine/training.py\", line 1801, in predict_function  *\n        return step_function(self, iterator)\n    File \"/Users/iganarendra/miniconda3/lib/python3.8/site-packages/keras/engine/training.py\", line 1790, in step_function  **\n        outputs = model.distribute_strategy.run(run_step, args=(data,))\n    File \"/Users/iganarendra/miniconda3/lib/python3.8/site-packages/keras/engine/training.py\", line 1783, in run_step  **\n        outputs = model.predict_step(data)\n    File \"/Users/iganarendra/miniconda3/lib/python3.8/site-packages/keras/engine/training.py\", line 1751, in predict_step\n        return self(x, training=False)\n    File \"/Users/iganarendra/miniconda3/lib/python3.8/site-packages/keras/utils/traceback_utils.py\", line 67, in error_handler\n        raise e.with_traceback(filtered_tb) from None\n    File \"/Users/iganarendra/miniconda3/lib/python3.8/site-packages/keras/engine/input_spec.py\", line 228, in assert_input_compatibility\n        raise ValueError(f'Input {input_index} of layer \"{layer_name}\" '\n\n    ValueError: Exception encountered when calling layer \"sequential\" (type Sequential).\n    \n    Input 0 of layer \"dense\" is incompatible with the layer: expected min_ndim=2, found ndim=1. Full shape received: (None,)\n    \n    Call arguments received:\n      • inputs=tf.Tensor(shape=(None,), dtype=float32)\n      • training=False\n      • mask=None\n",
     "output_type": "error",
     "traceback": [
      "\u001b[0;31m---------------------------------------------------------------------------\u001b[0m",
      "\u001b[0;31mValueError\u001b[0m                                Traceback (most recent call last)",
      "\u001b[1;32m/Users/iganarendra/codingan_serius/product_performance_blstm/Model per Cluster (train 54 test 3 months ) + Changed Model/cluster0.ipynb Cell 50'\u001b[0m in \u001b[0;36m<cell line: 2>\u001b[0;34m()\u001b[0m\n\u001b[1;32m      <a href='vscode-notebook-cell:/Users/iganarendra/codingan_serius/product_performance_blstm/Model%20per%20Cluster%20%28train%2054%20test%203%20months%20%29%20%2B%20Changed%20Model/cluster0.ipynb#ch0000049?line=0'>1</a>\u001b[0m \u001b[39m#variable prediksi, kita isi pake hasil prediksi data validasi, biar gampang gambarnya\u001b[39;00m\n\u001b[0;32m----> <a href='vscode-notebook-cell:/Users/iganarendra/codingan_serius/product_performance_blstm/Model%20per%20Cluster%20%28train%2054%20test%203%20months%20%29%20%2B%20Changed%20Model/cluster0.ipynb#ch0000049?line=1'>2</a>\u001b[0m prediksi\u001b[39m=\u001b[39mmodel\u001b[39m.\u001b[39;49mpredict(np\u001b[39m.\u001b[39;49marray(x_valid))\n\u001b[1;32m      <a href='vscode-notebook-cell:/Users/iganarendra/codingan_serius/product_performance_blstm/Model%20per%20Cluster%20%28train%2054%20test%203%20months%20%29%20%2B%20Changed%20Model/cluster0.ipynb#ch0000049?line=2'>3</a>\u001b[0m prediksi\n",
      "File \u001b[0;32m~/miniconda3/lib/python3.8/site-packages/keras/utils/traceback_utils.py:67\u001b[0m, in \u001b[0;36mfilter_traceback.<locals>.error_handler\u001b[0;34m(*args, **kwargs)\u001b[0m\n\u001b[1;32m     <a href='file:///Users/iganarendra/miniconda3/lib/python3.8/site-packages/keras/utils/traceback_utils.py?line=64'>65</a>\u001b[0m \u001b[39mexcept\u001b[39;00m \u001b[39mException\u001b[39;00m \u001b[39mas\u001b[39;00m e:  \u001b[39m# pylint: disable=broad-except\u001b[39;00m\n\u001b[1;32m     <a href='file:///Users/iganarendra/miniconda3/lib/python3.8/site-packages/keras/utils/traceback_utils.py?line=65'>66</a>\u001b[0m   filtered_tb \u001b[39m=\u001b[39m _process_traceback_frames(e\u001b[39m.\u001b[39m__traceback__)\n\u001b[0;32m---> <a href='file:///Users/iganarendra/miniconda3/lib/python3.8/site-packages/keras/utils/traceback_utils.py?line=66'>67</a>\u001b[0m   \u001b[39mraise\u001b[39;00m e\u001b[39m.\u001b[39mwith_traceback(filtered_tb) \u001b[39mfrom\u001b[39;00m \u001b[39mNone\u001b[39m\n\u001b[1;32m     <a href='file:///Users/iganarendra/miniconda3/lib/python3.8/site-packages/keras/utils/traceback_utils.py?line=67'>68</a>\u001b[0m \u001b[39mfinally\u001b[39;00m:\n\u001b[1;32m     <a href='file:///Users/iganarendra/miniconda3/lib/python3.8/site-packages/keras/utils/traceback_utils.py?line=68'>69</a>\u001b[0m   \u001b[39mdel\u001b[39;00m filtered_tb\n",
      "File \u001b[0;32m~/miniconda3/lib/python3.8/site-packages/tensorflow/python/framework/func_graph.py:1147\u001b[0m, in \u001b[0;36mfunc_graph_from_py_func.<locals>.autograph_handler\u001b[0;34m(*args, **kwargs)\u001b[0m\n\u001b[1;32m   <a href='file:///Users/iganarendra/miniconda3/lib/python3.8/site-packages/tensorflow/python/framework/func_graph.py?line=1144'>1145</a>\u001b[0m \u001b[39mexcept\u001b[39;00m \u001b[39mException\u001b[39;00m \u001b[39mas\u001b[39;00m e:  \u001b[39m# pylint:disable=broad-except\u001b[39;00m\n\u001b[1;32m   <a href='file:///Users/iganarendra/miniconda3/lib/python3.8/site-packages/tensorflow/python/framework/func_graph.py?line=1145'>1146</a>\u001b[0m   \u001b[39mif\u001b[39;00m \u001b[39mhasattr\u001b[39m(e, \u001b[39m\"\u001b[39m\u001b[39mag_error_metadata\u001b[39m\u001b[39m\"\u001b[39m):\n\u001b[0;32m-> <a href='file:///Users/iganarendra/miniconda3/lib/python3.8/site-packages/tensorflow/python/framework/func_graph.py?line=1146'>1147</a>\u001b[0m     \u001b[39mraise\u001b[39;00m e\u001b[39m.\u001b[39mag_error_metadata\u001b[39m.\u001b[39mto_exception(e)\n\u001b[1;32m   <a href='file:///Users/iganarendra/miniconda3/lib/python3.8/site-packages/tensorflow/python/framework/func_graph.py?line=1147'>1148</a>\u001b[0m   \u001b[39melse\u001b[39;00m:\n\u001b[1;32m   <a href='file:///Users/iganarendra/miniconda3/lib/python3.8/site-packages/tensorflow/python/framework/func_graph.py?line=1148'>1149</a>\u001b[0m     \u001b[39mraise\u001b[39;00m\n",
      "\u001b[0;31mValueError\u001b[0m: in user code:\n\n    File \"/Users/iganarendra/miniconda3/lib/python3.8/site-packages/keras/engine/training.py\", line 1801, in predict_function  *\n        return step_function(self, iterator)\n    File \"/Users/iganarendra/miniconda3/lib/python3.8/site-packages/keras/engine/training.py\", line 1790, in step_function  **\n        outputs = model.distribute_strategy.run(run_step, args=(data,))\n    File \"/Users/iganarendra/miniconda3/lib/python3.8/site-packages/keras/engine/training.py\", line 1783, in run_step  **\n        outputs = model.predict_step(data)\n    File \"/Users/iganarendra/miniconda3/lib/python3.8/site-packages/keras/engine/training.py\", line 1751, in predict_step\n        return self(x, training=False)\n    File \"/Users/iganarendra/miniconda3/lib/python3.8/site-packages/keras/utils/traceback_utils.py\", line 67, in error_handler\n        raise e.with_traceback(filtered_tb) from None\n    File \"/Users/iganarendra/miniconda3/lib/python3.8/site-packages/keras/engine/input_spec.py\", line 228, in assert_input_compatibility\n        raise ValueError(f'Input {input_index} of layer \"{layer_name}\" '\n\n    ValueError: Exception encountered when calling layer \"sequential\" (type Sequential).\n    \n    Input 0 of layer \"dense\" is incompatible with the layer: expected min_ndim=2, found ndim=1. Full shape received: (None,)\n    \n    Call arguments received:\n      • inputs=tf.Tensor(shape=(None,), dtype=float32)\n      • training=False\n      • mask=None\n"
     ]
    }
   ],
   "source": [
    "#variable prediksi, kita isi pake hasil prediksi data validasi, biar gampang gambarnya\n",
    "prediksi=model.predict(np.array(x_valid))\n",
    "prediksi"
   ]
  },
  {
   "cell_type": "code",
   "execution_count": 117,
   "metadata": {},
   "outputs": [],
   "source": [
    "prediksi=prediksi.flatten()\n",
    "#flatten berfungsi untuk mengubah arrau 2 dimensi jadi satu dimensi (datar)"
   ]
  },
  {
   "cell_type": "code",
   "execution_count": 118,
   "metadata": {},
   "outputs": [],
   "source": [
    "# hasil=np.concatenate((series,prediksi))\n",
    "#concatinate fungsinya untuk nyambungin dua buah list, disini kita sambungin data yang awal sama prediksi"
   ]
  },
  {
   "cell_type": "code",
   "execution_count": 120,
   "metadata": {},
   "outputs": [],
   "source": [
    "# asli = np.concatenate((series,series_t)) #menyambungkan data asli"
   ]
  },
  {
   "cell_type": "code",
   "execution_count": 121,
   "metadata": {},
   "outputs": [],
   "source": [
    "series = series*(max-min) + min\n",
    "prediksi = prediksi*(max_t-min_t)+ min_t\n",
    "series_t = series_t*(max_t-min_t) + min_t  \n",
    "hasil=np.concatenate((series,prediksi))\n",
    "asli = np.concatenate((series,series_t))"
   ]
  },
  {
   "cell_type": "code",
   "execution_count": 122,
   "metadata": {},
   "outputs": [
    {
     "data": {
      "text/plain": [
       "[]"
      ]
     },
     "execution_count": 122,
     "metadata": {},
     "output_type": "execute_result"
    },
    {
     "data": {
      "image/png": "[encoded data removed]",
      "text/plain": [
       "<Figure size 432x288 with 1 Axes>"
      ]
     },
     "metadata": {
      "needs_background": "light"
     },
     "output_type": "display_data"
    }
   ],
   "source": [
    "plt.plot(asli,marker = 'o',label='data asli')\n",
    "plt.plot(hasil,marker = 'o',label='data prediksi')\n",
    "plt.title('penjualan produk cluster 0')\n",
    "plt.legend()\n",
    "plt.plot()"
   ]
  },
  {
   "cell_type": "code",
   "execution_count": 123,
   "metadata": {},
   "outputs": [],
   "source": [
    "model.save('cluster0_newdata.h5') #simpan model untuk cluster 0 ini"
   ]
  },
  {
   "cell_type": "markdown",
   "metadata": {},
   "source": [
    "# Satu Produk"
   ]
  },
  {
   "cell_type": "code",
   "execution_count": 124,
   "metadata": {},
   "outputs": [
    {
     "data": {
      "text/html": [
       "<div>\n",
       "<style scoped>\n",
       "    .dataframe tbody tr th:only-of-type {\n",
       "        vertical-align: middle;\n",
       "    }\n",
       "\n",
       "    .dataframe tbody tr th {\n",
       "        vertical-align: top;\n",
       "    }\n",
       "\n",
       "    .dataframe thead th {\n",
       "        text-align: right;\n",
       "    }\n",
       "</style>\n",
       "<table border=\"1\" class=\"dataframe\">\n",
       "  <thead>\n",
       "    <tr style=\"text-align: right;\">\n",
       "      <th></th>\n",
       "      <th>1</th>\n",
       "      <th>2</th>\n",
       "      <th>3</th>\n",
       "      <th>4</th>\n",
       "      <th>5</th>\n",
       "      <th>6</th>\n",
       "      <th>7</th>\n",
       "      <th>8</th>\n",
       "      <th>9</th>\n",
       "      <th>10</th>\n",
       "      <th>...</th>\n",
       "      <th>45</th>\n",
       "      <th>46</th>\n",
       "      <th>47</th>\n",
       "      <th>48</th>\n",
       "      <th>49</th>\n",
       "      <th>50</th>\n",
       "      <th>51</th>\n",
       "      <th>52</th>\n",
       "      <th>53</th>\n",
       "      <th>54</th>\n",
       "    </tr>\n",
       "  </thead>\n",
       "  <tbody>\n",
       "    <tr>\n",
       "      <th>04040</th>\n",
       "      <td>26</td>\n",
       "      <td>32</td>\n",
       "      <td>9</td>\n",
       "      <td>19</td>\n",
       "      <td>20</td>\n",
       "      <td>6</td>\n",
       "      <td>26</td>\n",
       "      <td>15</td>\n",
       "      <td>35</td>\n",
       "      <td>23</td>\n",
       "      <td>...</td>\n",
       "      <td>4</td>\n",
       "      <td>9</td>\n",
       "      <td>4</td>\n",
       "      <td>19</td>\n",
       "      <td>3</td>\n",
       "      <td>14</td>\n",
       "      <td>10</td>\n",
       "      <td>14</td>\n",
       "      <td>9</td>\n",
       "      <td>10</td>\n",
       "    </tr>\n",
       "  </tbody>\n",
       "</table>\n",
       "<p>1 rows × 54 columns</p>\n",
       "</div>"
      ],
      "text/plain": [
       "       1   2   3   4   5   6   7   8   9   10  ...  45  46  47  48  49  50  \\\n",
       "04040  26  32   9  19  20   6  26  15  35  23  ...   4   9   4  19   3  14   \n",
       "\n",
       "       51  52  53  54  \n",
       "04040  10  14   9  10  \n",
       "\n",
       "[1 rows x 54 columns]"
      ]
     },
     "execution_count": 124,
     "metadata": {},
     "output_type": "execute_result"
    }
   ],
   "source": [
    "new_c0 = c0.sample()\n",
    "new_c0"
   ]
  },
  {
   "cell_type": "code",
   "execution_count": 134,
   "metadata": {},
   "outputs": [
    {
     "data": {
      "text/plain": [
       "<AxesSubplot:>"
      ]
     },
     "execution_count": 134,
     "metadata": {},
     "output_type": "execute_result"
    },
    {
     "data": {
      "image/png": "[encoded data removed]",
      "text/plain": [
       "<Figure size 432x288 with 1 Axes>"
      ]
     },
     "metadata": {
      "needs_background": "light"
     },
     "output_type": "display_data"
    }
   ],
   "source": [
    "new_c0.T.plot()"
   ]
  },
  {
   "cell_type": "code",
   "execution_count": 125,
   "metadata": {},
   "outputs": [
    {
     "data": {
      "text/html": [
       "<div>\n",
       "<style scoped>\n",
       "    .dataframe tbody tr th:only-of-type {\n",
       "        vertical-align: middle;\n",
       "    }\n",
       "\n",
       "    .dataframe tbody tr th {\n",
       "        vertical-align: top;\n",
       "    }\n",
       "\n",
       "    .dataframe thead th {\n",
       "        text-align: right;\n",
       "    }\n",
       "</style>\n",
       "<table border=\"1\" class=\"dataframe\">\n",
       "  <thead>\n",
       "    <tr style=\"text-align: right;\">\n",
       "      <th></th>\n",
       "      <th>bulan 1</th>\n",
       "      <th>bulan 2</th>\n",
       "      <th>bulan 3</th>\n",
       "      <th>bulan 4</th>\n",
       "      <th>bulan 5</th>\n",
       "      <th>bulan 6</th>\n",
       "    </tr>\n",
       "  </thead>\n",
       "  <tbody>\n",
       "    <tr>\n",
       "      <th>04040</th>\n",
       "      <td>8</td>\n",
       "      <td>9</td>\n",
       "      <td>6</td>\n",
       "      <td>8</td>\n",
       "      <td>7</td>\n",
       "      <td>4</td>\n",
       "    </tr>\n",
       "  </tbody>\n",
       "</table>\n",
       "</div>"
      ],
      "text/plain": [
       "       bulan 1  bulan 2  bulan 3  bulan 4  bulan 5  bulan 6\n",
       "04040        8        9        6        8        7        4"
      ]
     },
     "execution_count": 125,
     "metadata": {},
     "output_type": "execute_result"
    }
   ],
   "source": [
    "c0_t.set_index(col,inplace=True)\n",
    "new_c0_t = c0_t.loc[new_c0.index]\n",
    "new_c0_t"
   ]
  },
  {
   "cell_type": "code",
   "execution_count": 139,
   "metadata": {},
   "outputs": [
    {
     "data": {
      "text/plain": [
       "4"
      ]
     },
     "execution_count": 139,
     "metadata": {},
     "output_type": "execute_result"
    }
   ],
   "source": [
    "min"
   ]
  },
  {
   "cell_type": "code",
   "execution_count": 144,
   "metadata": {},
   "outputs": [],
   "source": [
    "series=new_c0.values\n",
    "min = np.min(series)\n",
    "max = np.max(series)\n",
    "series = series - min\n",
    "series = series / (max-min)\n",
    "time = np.array(time)\n",
    "\n"
   ]
  },
  {
   "cell_type": "code",
   "execution_count": 145,
   "metadata": {},
   "outputs": [],
   "source": [
    "series_t=new_c0_t.values\n",
    "min_t = np.min(series_t)\n",
    "max_t = np.max(series_t)\n",
    "series_t = series_t - min_t\n",
    "series_t = series_t / (max_t-min_t)\n",
    "time_t = np.array(time_t)"
   ]
  },
  {
   "cell_type": "code",
   "execution_count": 147,
   "metadata": {},
   "outputs": [
    {
     "data": {
      "text/plain": [
       "array([[0.8, 1. , 0.4, 0.8, 0.6, 0. ]])"
      ]
     },
     "execution_count": 147,
     "metadata": {},
     "output_type": "execute_result"
    }
   ],
   "source": [
    "series_t"
   ]
  },
  {
   "cell_type": "code",
   "execution_count": 148,
   "metadata": {},
   "outputs": [],
   "source": [
    "series = series.reshape(-1,)\n",
    "series_t= np.array(series_t).reshape(-1,)\n"
   ]
  },
  {
   "cell_type": "code",
   "execution_count": 149,
   "metadata": {},
   "outputs": [
    {
     "data": {
      "text/plain": [
       "array([[0.45191023],\n",
       "       [0.51974535],\n",
       "       [0.32046133],\n",
       "       [0.45191023],\n",
       "       [0.3852777 ],\n",
       "       [0.19825503]], dtype=float32)"
      ]
     },
     "execution_count": 149,
     "metadata": {},
     "output_type": "execute_result"
    }
   ],
   "source": [
    "prediksi=model.predict(np.array(series_t))\n",
    "prediksi"
   ]
  },
  {
   "cell_type": "code",
   "execution_count": 150,
   "metadata": {},
   "outputs": [],
   "source": [
    "prediksi=prediksi.flatten()"
   ]
  },
  {
   "cell_type": "code",
   "execution_count": 154,
   "metadata": {},
   "outputs": [],
   "source": [
    "series = series*(max-min) + min\n",
    "prediksi = prediksi*(max_t-min_t)+ min_t\n",
    "series_t = series_t*(max_t-min_t) + min_t  \n",
    "hasil=np.concatenate((series,prediksi))\n",
    "asli = np.concatenate((series,series_t))\n"
   ]
  },
  {
   "cell_type": "code",
   "execution_count": 155,
   "metadata": {},
   "outputs": [
    {
     "data": {
      "text/plain": [
       "[]"
      ]
     },
     "execution_count": 155,
     "metadata": {},
     "output_type": "execute_result"
    },
    {
     "data": {
      "image/png": "[encoded data removed]",
      "text/plain": [
       "<Figure size 432x288 with 1 Axes>"
      ]
     },
     "metadata": {
      "needs_background": "light"
     },
     "output_type": "display_data"
    }
   ],
   "source": [
    "plt.plot(asli,marker = 'o',label='data asli')\n",
    "plt.plot(hasil,marker = 'o',label='data prediksi')\n",
    "plt.title('penjualan produk produk '+str(new_c0.index[0]))\n",
    "plt.legend()\n",
    "plt.plot()"
   ]
  },
  {
   "cell_type": "code",
   "execution_count": null,
   "metadata": {},
   "outputs": [],
   "source": []
  }
 ],
 "metadata": {
  "interpreter": {
   "hash": "c9d83cc02921a4738836e4c62bbe4b1fbf4384e37b2198c6e81d5aaf3defd2c8"
  },
  "kernelspec": {
   "display_name": "Python 3.8.5 ('base')",
   "language": "python",
   "name": "python3"
  },
  "language_info": {
   "codemirror_mode": {
    "name": "ipython",
    "version": 3
   },
   "file_extension": ".py",
   "mimetype": "text/x-python",
   "name": "python",
   "nbconvert_exporter": "python",
   "pygments_lexer": "ipython3",
   "version": "3.8.11"
  },
  "orig_nbformat": 4
 },
 "nbformat": 4,
 "nbformat_minor": 2
}
