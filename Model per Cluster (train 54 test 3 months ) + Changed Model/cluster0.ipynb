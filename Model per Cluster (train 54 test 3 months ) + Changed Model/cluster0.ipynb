{
 "cells": [
  {
   "cell_type": "markdown",
   "metadata": {},
   "source": [
    "# Pemodelan Cluster 0"
   ]
  },
  {
   "cell_type": "markdown",
   "metadata": {},
   "source": [
    "Import segala pustaka (library) yang digunakan\n"
   ]
  },
  {
   "cell_type": "code",
   "execution_count": 83,
   "metadata": {},
   "outputs": [],
   "source": [
    "import tensorflow as tf #untuk mempermudah pembuatan deep learning\n",
    "import pandas as pd #mempermudah pembacaan data dengan ukuran besar (big data) dari data penjualan\n",
    "import numpy as np #mempermudah pengolahan data dari library sebelumnya\n",
    "import matplotlib.pyplot as plt #untuk mempermudah visualisasi\n",
    "from sklearn.preprocessing import MinMaxScaler #untuk menskala data sehingga mudah dibaca dan diproses deep learning"
   ]
  },
  {
   "cell_type": "markdown",
   "metadata": {},
   "source": [
    "## Pembacaan Data"
   ]
  },
  {
   "cell_type": "markdown",
   "metadata": {},
   "source": [
    "Baca dataset train"
   ]
  },
  {
   "cell_type": "code",
   "execution_count": 84,
   "metadata": {},
   "outputs": [
    {
     "data": {
      "text/html": [
       "<div>\n",
       "<style scoped>\n",
       "    .dataframe tbody tr th:only-of-type {\n",
       "        vertical-align: middle;\n",
       "    }\n",
       "\n",
       "    .dataframe tbody tr th {\n",
       "        vertical-align: top;\n",
       "    }\n",
       "\n",
       "    .dataframe thead th {\n",
       "        text-align: right;\n",
       "    }\n",
       "</style>\n",
       "<table border=\"1\" class=\"dataframe\">\n",
       "  <thead>\n",
       "    <tr style=\"text-align: right;\">\n",
       "      <th></th>\n",
       "      <th>KodeBarang</th>\n",
       "      <th>1</th>\n",
       "      <th>2</th>\n",
       "      <th>3</th>\n",
       "      <th>4</th>\n",
       "      <th>5</th>\n",
       "      <th>6</th>\n",
       "      <th>7</th>\n",
       "      <th>8</th>\n",
       "      <th>9</th>\n",
       "      <th>...</th>\n",
       "      <th>46</th>\n",
       "      <th>47</th>\n",
       "      <th>48</th>\n",
       "      <th>49</th>\n",
       "      <th>50</th>\n",
       "      <th>51</th>\n",
       "      <th>52</th>\n",
       "      <th>53</th>\n",
       "      <th>54</th>\n",
       "      <th>cluster</th>\n",
       "    </tr>\n",
       "  </thead>\n",
       "  <tbody>\n",
       "    <tr>\n",
       "      <th>0</th>\n",
       "      <td>04121</td>\n",
       "      <td>7</td>\n",
       "      <td>9</td>\n",
       "      <td>6</td>\n",
       "      <td>9</td>\n",
       "      <td>40</td>\n",
       "      <td>0</td>\n",
       "      <td>3</td>\n",
       "      <td>0</td>\n",
       "      <td>7</td>\n",
       "      <td>...</td>\n",
       "      <td>67</td>\n",
       "      <td>77</td>\n",
       "      <td>11</td>\n",
       "      <td>57</td>\n",
       "      <td>43</td>\n",
       "      <td>50</td>\n",
       "      <td>37</td>\n",
       "      <td>21</td>\n",
       "      <td>136</td>\n",
       "      <td>0</td>\n",
       "    </tr>\n",
       "    <tr>\n",
       "      <th>1</th>\n",
       "      <td>18031</td>\n",
       "      <td>230</td>\n",
       "      <td>227</td>\n",
       "      <td>279</td>\n",
       "      <td>153</td>\n",
       "      <td>190</td>\n",
       "      <td>256</td>\n",
       "      <td>267</td>\n",
       "      <td>305</td>\n",
       "      <td>238</td>\n",
       "      <td>...</td>\n",
       "      <td>336</td>\n",
       "      <td>153</td>\n",
       "      <td>103</td>\n",
       "      <td>221</td>\n",
       "      <td>360</td>\n",
       "      <td>280</td>\n",
       "      <td>240</td>\n",
       "      <td>120</td>\n",
       "      <td>548</td>\n",
       "      <td>1</td>\n",
       "    </tr>\n",
       "    <tr>\n",
       "      <th>2</th>\n",
       "      <td>04161</td>\n",
       "      <td>102</td>\n",
       "      <td>50</td>\n",
       "      <td>45</td>\n",
       "      <td>41</td>\n",
       "      <td>71</td>\n",
       "      <td>11</td>\n",
       "      <td>52</td>\n",
       "      <td>14</td>\n",
       "      <td>66</td>\n",
       "      <td>...</td>\n",
       "      <td>21</td>\n",
       "      <td>20</td>\n",
       "      <td>7</td>\n",
       "      <td>33</td>\n",
       "      <td>21</td>\n",
       "      <td>28</td>\n",
       "      <td>30</td>\n",
       "      <td>10</td>\n",
       "      <td>18</td>\n",
       "      <td>0</td>\n",
       "    </tr>\n",
       "    <tr>\n",
       "      <th>3</th>\n",
       "      <td>04162</td>\n",
       "      <td>272</td>\n",
       "      <td>155</td>\n",
       "      <td>214</td>\n",
       "      <td>226</td>\n",
       "      <td>268</td>\n",
       "      <td>110</td>\n",
       "      <td>204</td>\n",
       "      <td>253</td>\n",
       "      <td>193</td>\n",
       "      <td>...</td>\n",
       "      <td>102</td>\n",
       "      <td>118</td>\n",
       "      <td>120</td>\n",
       "      <td>211</td>\n",
       "      <td>292</td>\n",
       "      <td>105</td>\n",
       "      <td>108</td>\n",
       "      <td>101</td>\n",
       "      <td>117</td>\n",
       "      <td>1</td>\n",
       "    </tr>\n",
       "    <tr>\n",
       "      <th>4</th>\n",
       "      <td>04163</td>\n",
       "      <td>28</td>\n",
       "      <td>28</td>\n",
       "      <td>29</td>\n",
       "      <td>52</td>\n",
       "      <td>44</td>\n",
       "      <td>21</td>\n",
       "      <td>47</td>\n",
       "      <td>15</td>\n",
       "      <td>24</td>\n",
       "      <td>...</td>\n",
       "      <td>18</td>\n",
       "      <td>23</td>\n",
       "      <td>22</td>\n",
       "      <td>16</td>\n",
       "      <td>22</td>\n",
       "      <td>31</td>\n",
       "      <td>36</td>\n",
       "      <td>17</td>\n",
       "      <td>14</td>\n",
       "      <td>0</td>\n",
       "    </tr>\n",
       "    <tr>\n",
       "      <th>...</th>\n",
       "      <td>...</td>\n",
       "      <td>...</td>\n",
       "      <td>...</td>\n",
       "      <td>...</td>\n",
       "      <td>...</td>\n",
       "      <td>...</td>\n",
       "      <td>...</td>\n",
       "      <td>...</td>\n",
       "      <td>...</td>\n",
       "      <td>...</td>\n",
       "      <td>...</td>\n",
       "      <td>...</td>\n",
       "      <td>...</td>\n",
       "      <td>...</td>\n",
       "      <td>...</td>\n",
       "      <td>...</td>\n",
       "      <td>...</td>\n",
       "      <td>...</td>\n",
       "      <td>...</td>\n",
       "      <td>...</td>\n",
       "      <td>...</td>\n",
       "    </tr>\n",
       "    <tr>\n",
       "      <th>101</th>\n",
       "      <td>04157</td>\n",
       "      <td>55</td>\n",
       "      <td>64</td>\n",
       "      <td>44</td>\n",
       "      <td>61</td>\n",
       "      <td>30</td>\n",
       "      <td>1</td>\n",
       "      <td>24</td>\n",
       "      <td>37</td>\n",
       "      <td>67</td>\n",
       "      <td>...</td>\n",
       "      <td>20</td>\n",
       "      <td>10</td>\n",
       "      <td>300</td>\n",
       "      <td>34</td>\n",
       "      <td>7</td>\n",
       "      <td>7</td>\n",
       "      <td>6</td>\n",
       "      <td>4</td>\n",
       "      <td>21</td>\n",
       "      <td>0</td>\n",
       "    </tr>\n",
       "    <tr>\n",
       "      <th>102</th>\n",
       "      <td>18104</td>\n",
       "      <td>46</td>\n",
       "      <td>295</td>\n",
       "      <td>83</td>\n",
       "      <td>112</td>\n",
       "      <td>70</td>\n",
       "      <td>40</td>\n",
       "      <td>18</td>\n",
       "      <td>140</td>\n",
       "      <td>97</td>\n",
       "      <td>...</td>\n",
       "      <td>47</td>\n",
       "      <td>54</td>\n",
       "      <td>27</td>\n",
       "      <td>15</td>\n",
       "      <td>57</td>\n",
       "      <td>132</td>\n",
       "      <td>66</td>\n",
       "      <td>34</td>\n",
       "      <td>146</td>\n",
       "      <td>0</td>\n",
       "    </tr>\n",
       "    <tr>\n",
       "      <th>103</th>\n",
       "      <td>18106</td>\n",
       "      <td>200</td>\n",
       "      <td>204</td>\n",
       "      <td>0</td>\n",
       "      <td>2</td>\n",
       "      <td>10</td>\n",
       "      <td>7</td>\n",
       "      <td>0</td>\n",
       "      <td>27</td>\n",
       "      <td>74</td>\n",
       "      <td>...</td>\n",
       "      <td>15</td>\n",
       "      <td>136</td>\n",
       "      <td>15</td>\n",
       "      <td>15</td>\n",
       "      <td>14</td>\n",
       "      <td>131</td>\n",
       "      <td>84</td>\n",
       "      <td>12</td>\n",
       "      <td>14</td>\n",
       "      <td>0</td>\n",
       "    </tr>\n",
       "    <tr>\n",
       "      <th>104</th>\n",
       "      <td>18092</td>\n",
       "      <td>297</td>\n",
       "      <td>418</td>\n",
       "      <td>329</td>\n",
       "      <td>70</td>\n",
       "      <td>498</td>\n",
       "      <td>59</td>\n",
       "      <td>298</td>\n",
       "      <td>376</td>\n",
       "      <td>259</td>\n",
       "      <td>...</td>\n",
       "      <td>450</td>\n",
       "      <td>498</td>\n",
       "      <td>254</td>\n",
       "      <td>260</td>\n",
       "      <td>336</td>\n",
       "      <td>493</td>\n",
       "      <td>438</td>\n",
       "      <td>408</td>\n",
       "      <td>322</td>\n",
       "      <td>1</td>\n",
       "    </tr>\n",
       "    <tr>\n",
       "      <th>105</th>\n",
       "      <td>04143</td>\n",
       "      <td>132</td>\n",
       "      <td>80</td>\n",
       "      <td>103</td>\n",
       "      <td>113</td>\n",
       "      <td>81</td>\n",
       "      <td>108</td>\n",
       "      <td>124</td>\n",
       "      <td>101</td>\n",
       "      <td>119</td>\n",
       "      <td>...</td>\n",
       "      <td>153</td>\n",
       "      <td>130</td>\n",
       "      <td>121</td>\n",
       "      <td>189</td>\n",
       "      <td>92</td>\n",
       "      <td>226</td>\n",
       "      <td>181</td>\n",
       "      <td>112</td>\n",
       "      <td>214</td>\n",
       "      <td>1</td>\n",
       "    </tr>\n",
       "  </tbody>\n",
       "</table>\n",
       "<p>106 rows × 56 columns</p>\n",
       "</div>"
      ],
      "text/plain": [
       "    KodeBarang    1    2    3    4    5    6    7    8    9  ...   46   47  \\\n",
       "0        04121    7    9    6    9   40    0    3    0    7  ...   67   77   \n",
       "1        18031  230  227  279  153  190  256  267  305  238  ...  336  153   \n",
       "2        04161  102   50   45   41   71   11   52   14   66  ...   21   20   \n",
       "3        04162  272  155  214  226  268  110  204  253  193  ...  102  118   \n",
       "4        04163   28   28   29   52   44   21   47   15   24  ...   18   23   \n",
       "..         ...  ...  ...  ...  ...  ...  ...  ...  ...  ...  ...  ...  ...   \n",
       "101      04157   55   64   44   61   30    1   24   37   67  ...   20   10   \n",
       "102      18104   46  295   83  112   70   40   18  140   97  ...   47   54   \n",
       "103      18106  200  204    0    2   10    7    0   27   74  ...   15  136   \n",
       "104      18092  297  418  329   70  498   59  298  376  259  ...  450  498   \n",
       "105      04143  132   80  103  113   81  108  124  101  119  ...  153  130   \n",
       "\n",
       "      48   49   50   51   52   53   54  cluster  \n",
       "0     11   57   43   50   37   21  136        0  \n",
       "1    103  221  360  280  240  120  548        1  \n",
       "2      7   33   21   28   30   10   18        0  \n",
       "3    120  211  292  105  108  101  117        1  \n",
       "4     22   16   22   31   36   17   14        0  \n",
       "..   ...  ...  ...  ...  ...  ...  ...      ...  \n",
       "101  300   34    7    7    6    4   21        0  \n",
       "102   27   15   57  132   66   34  146        0  \n",
       "103   15   15   14  131   84   12   14        0  \n",
       "104  254  260  336  493  438  408  322        1  \n",
       "105  121  189   92  226  181  112  214        1  \n",
       "\n",
       "[106 rows x 56 columns]"
      ]
     },
     "execution_count": 84,
     "metadata": {},
     "output_type": "execute_result"
    }
   ],
   "source": [
    "data=pd.read_excel('../dataset_new.xlsx',sheet_name='train')\n",
    "data"
   ]
  },
  {
   "cell_type": "markdown",
   "metadata": {},
   "source": [
    "Baca dataset test"
   ]
  },
  {
   "cell_type": "code",
   "execution_count": 85,
   "metadata": {},
   "outputs": [
    {
     "data": {
      "text/html": [
       "<div>\n",
       "<style scoped>\n",
       "    .dataframe tbody tr th:only-of-type {\n",
       "        vertical-align: middle;\n",
       "    }\n",
       "\n",
       "    .dataframe tbody tr th {\n",
       "        vertical-align: top;\n",
       "    }\n",
       "\n",
       "    .dataframe thead th {\n",
       "        text-align: right;\n",
       "    }\n",
       "</style>\n",
       "<table border=\"1\" class=\"dataframe\">\n",
       "  <thead>\n",
       "    <tr style=\"text-align: right;\">\n",
       "      <th></th>\n",
       "      <th>KodeBarang</th>\n",
       "      <th>bulan 1</th>\n",
       "      <th>bulan 2</th>\n",
       "      <th>bulan 3</th>\n",
       "      <th>bulan 4</th>\n",
       "      <th>bulan 5</th>\n",
       "      <th>bulan 6</th>\n",
       "    </tr>\n",
       "  </thead>\n",
       "  <tbody>\n",
       "    <tr>\n",
       "      <th>0</th>\n",
       "      <td>04121</td>\n",
       "      <td>5</td>\n",
       "      <td>12</td>\n",
       "      <td>8</td>\n",
       "      <td>14</td>\n",
       "      <td>40</td>\n",
       "      <td>40</td>\n",
       "    </tr>\n",
       "    <tr>\n",
       "      <th>1</th>\n",
       "      <td>18031</td>\n",
       "      <td>573</td>\n",
       "      <td>340</td>\n",
       "      <td>441</td>\n",
       "      <td>270</td>\n",
       "      <td>488</td>\n",
       "      <td>240</td>\n",
       "    </tr>\n",
       "    <tr>\n",
       "      <th>2</th>\n",
       "      <td>04161</td>\n",
       "      <td>27</td>\n",
       "      <td>5</td>\n",
       "      <td>26</td>\n",
       "      <td>34</td>\n",
       "      <td>40</td>\n",
       "      <td>56</td>\n",
       "    </tr>\n",
       "    <tr>\n",
       "      <th>3</th>\n",
       "      <td>04162</td>\n",
       "      <td>162</td>\n",
       "      <td>82</td>\n",
       "      <td>72</td>\n",
       "      <td>98</td>\n",
       "      <td>126</td>\n",
       "      <td>120</td>\n",
       "    </tr>\n",
       "    <tr>\n",
       "      <th>4</th>\n",
       "      <td>04163</td>\n",
       "      <td>23</td>\n",
       "      <td>20</td>\n",
       "      <td>9</td>\n",
       "      <td>5</td>\n",
       "      <td>22</td>\n",
       "      <td>6</td>\n",
       "    </tr>\n",
       "    <tr>\n",
       "      <th>...</th>\n",
       "      <td>...</td>\n",
       "      <td>...</td>\n",
       "      <td>...</td>\n",
       "      <td>...</td>\n",
       "      <td>...</td>\n",
       "      <td>...</td>\n",
       "      <td>...</td>\n",
       "    </tr>\n",
       "    <tr>\n",
       "      <th>101</th>\n",
       "      <td>04157</td>\n",
       "      <td>138</td>\n",
       "      <td>14</td>\n",
       "      <td>12</td>\n",
       "      <td>21</td>\n",
       "      <td>25</td>\n",
       "      <td>10</td>\n",
       "    </tr>\n",
       "    <tr>\n",
       "      <th>102</th>\n",
       "      <td>18104</td>\n",
       "      <td>60</td>\n",
       "      <td>103</td>\n",
       "      <td>39</td>\n",
       "      <td>87</td>\n",
       "      <td>276</td>\n",
       "      <td>40</td>\n",
       "    </tr>\n",
       "    <tr>\n",
       "      <th>103</th>\n",
       "      <td>18106</td>\n",
       "      <td>16</td>\n",
       "      <td>7</td>\n",
       "      <td>65</td>\n",
       "      <td>24</td>\n",
       "      <td>13</td>\n",
       "      <td>27</td>\n",
       "    </tr>\n",
       "    <tr>\n",
       "      <th>104</th>\n",
       "      <td>18092</td>\n",
       "      <td>721</td>\n",
       "      <td>184</td>\n",
       "      <td>150</td>\n",
       "      <td>488</td>\n",
       "      <td>648</td>\n",
       "      <td>149</td>\n",
       "    </tr>\n",
       "    <tr>\n",
       "      <th>105</th>\n",
       "      <td>04143</td>\n",
       "      <td>164</td>\n",
       "      <td>189</td>\n",
       "      <td>187</td>\n",
       "      <td>232</td>\n",
       "      <td>219</td>\n",
       "      <td>229</td>\n",
       "    </tr>\n",
       "  </tbody>\n",
       "</table>\n",
       "<p>106 rows × 7 columns</p>\n",
       "</div>"
      ],
      "text/plain": [
       "    KodeBarang  bulan 1  bulan 2  bulan 3  bulan 4  bulan 5  bulan 6\n",
       "0        04121        5       12        8       14       40       40\n",
       "1        18031      573      340      441      270      488      240\n",
       "2        04161       27        5       26       34       40       56\n",
       "3        04162      162       82       72       98      126      120\n",
       "4        04163       23       20        9        5       22        6\n",
       "..         ...      ...      ...      ...      ...      ...      ...\n",
       "101      04157      138       14       12       21       25       10\n",
       "102      18104       60      103       39       87      276       40\n",
       "103      18106       16        7       65       24       13       27\n",
       "104      18092      721      184      150      488      648      149\n",
       "105      04143      164      189      187      232      219      229\n",
       "\n",
       "[106 rows x 7 columns]"
      ]
     },
     "execution_count": 85,
     "metadata": {},
     "output_type": "execute_result"
    }
   ],
   "source": [
    "data_test=pd.read_excel('../dataset_new.xlsx',sheet_name='test')\n",
    "data_test"
   ]
  },
  {
   "cell_type": "markdown",
   "metadata": {},
   "source": [
    "hilangkan judul kolom agar tidak terbaca deep learning"
   ]
  },
  {
   "cell_type": "code",
   "execution_count": 86,
   "metadata": {},
   "outputs": [],
   "source": [
    "# data_test.drop(['bulan 4','bulan 5','bulan 6'],axis=1,inplace=True)"
   ]
  },
  {
   "cell_type": "markdown",
   "metadata": {},
   "source": [
    "Pastikan culster pada dataset sudah berupa angka"
   ]
  },
  {
   "cell_type": "code",
   "execution_count": 87,
   "metadata": {},
   "outputs": [
    {
     "data": {
      "text/html": [
       "<div>\n",
       "<style scoped>\n",
       "    .dataframe tbody tr th:only-of-type {\n",
       "        vertical-align: middle;\n",
       "    }\n",
       "\n",
       "    .dataframe tbody tr th {\n",
       "        vertical-align: top;\n",
       "    }\n",
       "\n",
       "    .dataframe thead th {\n",
       "        text-align: right;\n",
       "    }\n",
       "</style>\n",
       "<table border=\"1\" class=\"dataframe\">\n",
       "  <thead>\n",
       "    <tr style=\"text-align: right;\">\n",
       "      <th></th>\n",
       "      <th>KodeBarang</th>\n",
       "      <th>bulan 1</th>\n",
       "      <th>bulan 2</th>\n",
       "      <th>bulan 3</th>\n",
       "      <th>bulan 4</th>\n",
       "      <th>bulan 5</th>\n",
       "      <th>bulan 6</th>\n",
       "      <th>cluster</th>\n",
       "    </tr>\n",
       "  </thead>\n",
       "  <tbody>\n",
       "    <tr>\n",
       "      <th>0</th>\n",
       "      <td>04121</td>\n",
       "      <td>5</td>\n",
       "      <td>12</td>\n",
       "      <td>8</td>\n",
       "      <td>14</td>\n",
       "      <td>40</td>\n",
       "      <td>40</td>\n",
       "      <td>0</td>\n",
       "    </tr>\n",
       "    <tr>\n",
       "      <th>1</th>\n",
       "      <td>18031</td>\n",
       "      <td>573</td>\n",
       "      <td>340</td>\n",
       "      <td>441</td>\n",
       "      <td>270</td>\n",
       "      <td>488</td>\n",
       "      <td>240</td>\n",
       "      <td>1</td>\n",
       "    </tr>\n",
       "    <tr>\n",
       "      <th>2</th>\n",
       "      <td>04161</td>\n",
       "      <td>27</td>\n",
       "      <td>5</td>\n",
       "      <td>26</td>\n",
       "      <td>34</td>\n",
       "      <td>40</td>\n",
       "      <td>56</td>\n",
       "      <td>0</td>\n",
       "    </tr>\n",
       "    <tr>\n",
       "      <th>3</th>\n",
       "      <td>04162</td>\n",
       "      <td>162</td>\n",
       "      <td>82</td>\n",
       "      <td>72</td>\n",
       "      <td>98</td>\n",
       "      <td>126</td>\n",
       "      <td>120</td>\n",
       "      <td>1</td>\n",
       "    </tr>\n",
       "    <tr>\n",
       "      <th>4</th>\n",
       "      <td>04163</td>\n",
       "      <td>23</td>\n",
       "      <td>20</td>\n",
       "      <td>9</td>\n",
       "      <td>5</td>\n",
       "      <td>22</td>\n",
       "      <td>6</td>\n",
       "      <td>0</td>\n",
       "    </tr>\n",
       "    <tr>\n",
       "      <th>...</th>\n",
       "      <td>...</td>\n",
       "      <td>...</td>\n",
       "      <td>...</td>\n",
       "      <td>...</td>\n",
       "      <td>...</td>\n",
       "      <td>...</td>\n",
       "      <td>...</td>\n",
       "      <td>...</td>\n",
       "    </tr>\n",
       "    <tr>\n",
       "      <th>101</th>\n",
       "      <td>04157</td>\n",
       "      <td>138</td>\n",
       "      <td>14</td>\n",
       "      <td>12</td>\n",
       "      <td>21</td>\n",
       "      <td>25</td>\n",
       "      <td>10</td>\n",
       "      <td>0</td>\n",
       "    </tr>\n",
       "    <tr>\n",
       "      <th>102</th>\n",
       "      <td>18104</td>\n",
       "      <td>60</td>\n",
       "      <td>103</td>\n",
       "      <td>39</td>\n",
       "      <td>87</td>\n",
       "      <td>276</td>\n",
       "      <td>40</td>\n",
       "      <td>0</td>\n",
       "    </tr>\n",
       "    <tr>\n",
       "      <th>103</th>\n",
       "      <td>18106</td>\n",
       "      <td>16</td>\n",
       "      <td>7</td>\n",
       "      <td>65</td>\n",
       "      <td>24</td>\n",
       "      <td>13</td>\n",
       "      <td>27</td>\n",
       "      <td>0</td>\n",
       "    </tr>\n",
       "    <tr>\n",
       "      <th>104</th>\n",
       "      <td>18092</td>\n",
       "      <td>721</td>\n",
       "      <td>184</td>\n",
       "      <td>150</td>\n",
       "      <td>488</td>\n",
       "      <td>648</td>\n",
       "      <td>149</td>\n",
       "      <td>1</td>\n",
       "    </tr>\n",
       "    <tr>\n",
       "      <th>105</th>\n",
       "      <td>04143</td>\n",
       "      <td>164</td>\n",
       "      <td>189</td>\n",
       "      <td>187</td>\n",
       "      <td>232</td>\n",
       "      <td>219</td>\n",
       "      <td>229</td>\n",
       "      <td>1</td>\n",
       "    </tr>\n",
       "  </tbody>\n",
       "</table>\n",
       "<p>106 rows × 8 columns</p>\n",
       "</div>"
      ],
      "text/plain": [
       "    KodeBarang  bulan 1  bulan 2  bulan 3  bulan 4  bulan 5  bulan 6  cluster\n",
       "0        04121        5       12        8       14       40       40        0\n",
       "1        18031      573      340      441      270      488      240        1\n",
       "2        04161       27        5       26       34       40       56        0\n",
       "3        04162      162       82       72       98      126      120        1\n",
       "4        04163       23       20        9        5       22        6        0\n",
       "..         ...      ...      ...      ...      ...      ...      ...      ...\n",
       "101      04157      138       14       12       21       25       10        0\n",
       "102      18104       60      103       39       87      276       40        0\n",
       "103      18106       16        7       65       24       13       27        0\n",
       "104      18092      721      184      150      488      648      149        1\n",
       "105      04143      164      189      187      232      219      229        1\n",
       "\n",
       "[106 rows x 8 columns]"
      ]
     },
     "execution_count": 87,
     "metadata": {},
     "output_type": "execute_result"
    }
   ],
   "source": [
    "data_test['cluster']=data['cluster'].astype(int)\n",
    "data_test"
   ]
  },
  {
   "cell_type": "markdown",
   "metadata": {},
   "source": [
    "Periksa ada berapa jenis cluster?"
   ]
  },
  {
   "cell_type": "code",
   "execution_count": 88,
   "metadata": {},
   "outputs": [
    {
     "data": {
      "text/plain": [
       "4"
      ]
     },
     "execution_count": 88,
     "metadata": {},
     "output_type": "execute_result"
    }
   ],
   "source": [
    "len(data['cluster'].unique())"
   ]
  },
  {
   "cell_type": "markdown",
   "metadata": {},
   "source": [
    "Ambil jumlah produk dalam cluster"
   ]
  },
  {
   "cell_type": "code",
   "execution_count": 89,
   "metadata": {},
   "outputs": [
    {
     "name": "stdout",
     "output_type": "stream",
     "text": [
      "Jumlah Produk:\n",
      "70\n",
      "Jumlah Produk:\n",
      "31\n",
      "Jumlah Produk:\n",
      "4\n",
      "Jumlah Produk:\n",
      "1\n"
     ]
    }
   ],
   "source": [
    "#now lets take clusters\n",
    "c0 = data.query(\"cluster == 0\")\n",
    "print(\"Jumlah Produk:\")\n",
    "print(c0['KodeBarang'].size)\n",
    "c1 = data.query(\"cluster == 1\")\n",
    "print(\"Jumlah Produk:\")\n",
    "print(c1['KodeBarang'].size)\n",
    "c2 = data.query(\"cluster == 2\")\n",
    "print(\"Jumlah Produk:\")\n",
    "print(c2['KodeBarang'].size)\n",
    "c3 = data.query(\"cluster == 3\")\n",
    "print(\"Jumlah Produk:\")\n",
    "print(c3['KodeBarang'].size)"
   ]
  },
  {
   "cell_type": "markdown",
   "metadata": {},
   "source": [
    "Ambil jumlah produk dalam cluster data test, dan pastikan nilainya sama dengan sebelumnya"
   ]
  },
  {
   "cell_type": "code",
   "execution_count": 90,
   "metadata": {},
   "outputs": [
    {
     "name": "stdout",
     "output_type": "stream",
     "text": [
      "Jumlah Produk:\n",
      "70\n",
      "Jumlah Produk:\n",
      "31\n",
      "Jumlah Produk:\n",
      "4\n",
      "Jumlah Produk:\n",
      "1\n"
     ]
    }
   ],
   "source": [
    "c0_t = data_test.query(\"cluster == 0\")\n",
    "print(\"Jumlah Produk:\")\n",
    "print(c0['KodeBarang'].size)\n",
    "c1_t = data_test.query(\"cluster == 1\")\n",
    "print(\"Jumlah Produk:\")\n",
    "print(c1['KodeBarang'].size)\n",
    "c2_t = data_test.query(\"cluster == 2\")\n",
    "print(\"Jumlah Produk:\")\n",
    "print(c2['KodeBarang'].size)\n",
    "c3_t = data_test.query(\"cluster == 3\")\n",
    "print(\"Jumlah Produk:\")\n",
    "print(c3['KodeBarang'].size)"
   ]
  },
  {
   "cell_type": "markdown",
   "metadata": {},
   "source": [
    "## Pembuatan model cluster 0"
   ]
  },
  {
   "cell_type": "markdown",
   "metadata": {},
   "source": [
    "Buat fungsi untuk membuat `windowed dataset`"
   ]
  },
  {
   "cell_type": "code",
   "execution_count": 91,
   "metadata": {},
   "outputs": [],
   "source": [
    "#oke ada ternyata yang cuman sendirian (1 product di cluster tersebut), kita beresin dia dulu, the easiest, dan biar keliatan kita\n",
    "#ngapain aja di time series ini\n",
    "def windowed_dataset(series, window_size, batch_size, shuffle_buffer):\n",
    "    series = tf.expand_dims(series, axis=-1)\n",
    "    ds = tf.data.Dataset.from_tensor_slices(series)\n",
    "    ds = ds.window(window_size + 1, shift=1, drop_remainder=True)\n",
    "    ds = ds.flat_map(lambda w: w.batch(window_size + 1))\n",
    "    ds = ds.shuffle(shuffle_buffer)\n",
    "    ds = ds.map(lambda w: (w[:-1], w[1:]))\n",
    "    return ds.batch(batch_size).prefetch(1)\n",
    "# ini fungsinya buat nge ubah dataset jadi windowed"
   ]
  },
  {
   "cell_type": "markdown",
   "metadata": {},
   "source": [
    "ubah tipe data dari kode barang menjadi nilai angka"
   ]
  },
  {
   "cell_type": "code",
   "execution_count": 92,
   "metadata": {},
   "outputs": [],
   "source": [
    "col = c0.KodeBarang.values"
   ]
  },
  {
   "cell_type": "code",
   "execution_count": 93,
   "metadata": {},
   "outputs": [],
   "source": [
    "#next kita ubah bentuk data nya dari yang tadinya kesamping jadi ke bawah, tapi pertama mau aku drop dulu cluster sama kode produknya\n",
    "c0=c0.drop(columns=['KodeBarang','cluster'])\n",
    "c0_t = c0_t.drop(columns=['KodeBarang','cluster'])"
   ]
  },
  {
   "cell_type": "markdown",
   "metadata": {},
   "source": [
    "Plot per produk cluster 0\n",
    "Kenapa? Karena kita ingin melihat mana produk yang sekiranya outlier, apakah sebagian besar mengikuti sebuah pola, dll"
   ]
  },
  {
   "cell_type": "code",
   "execution_count": 94,
   "metadata": {},
   "outputs": [
    {
     "data": {
      "text/plain": [
       "<AxesSubplot:>"
      ]
     },
     "execution_count": 94,
     "metadata": {},
     "output_type": "execute_result"
    },
    {
     "data": {
      "image/png": "[encoded data removed]",
      "text/plain": [
       "<Figure size 432x288 with 1 Axes>"
      ]
     },
     "metadata": {
      "needs_background": "light"
     },
     "output_type": "display_data"
    }
   ],
   "source": [
    "c0.set_index(col,inplace=True)\n",
    "c0.T.plot()"
   ]
  },
  {
   "cell_type": "code",
   "execution_count": 95,
   "metadata": {},
   "outputs": [],
   "source": [
    "#Ambil satu sample dari cluster 0\n",
    "# c0 = c0.sample()"
   ]
  },
  {
   "cell_type": "code",
   "execution_count": 96,
   "metadata": {},
   "outputs": [],
   "source": [
    "#014115 hasilnya nyaris bagus\n",
    "# c0"
   ]
  },
  {
   "cell_type": "code",
   "execution_count": 97,
   "metadata": {},
   "outputs": [],
   "source": [
    "# c0.T.plot()"
   ]
  },
  {
   "cell_type": "code",
   "execution_count": 98,
   "metadata": {},
   "outputs": [],
   "source": [
    "#next, buat dia kayak berbentuk time series seperti biasanya, which is datanya ke bawah, tapi di average per tanggal \n",
    "new_c0=[]\n",
    "time=[]\n",
    "\n",
    "for idx,a in enumerate(c0):\n",
    "    new_c0.append(c0[a].mean())\n",
    "    time.append(idx)\n"
   ]
  },
  {
   "cell_type": "code",
   "execution_count": 99,
   "metadata": {},
   "outputs": [],
   "source": [
    "#sama aja kayak di atas cuman data test\n",
    "new_c0_t=[]\n",
    "time_t=[]\n",
    "i = 55\n",
    "for idx,a in enumerate(c0_t):\n",
    "    new_c0_t.append(c0_t[a].mean())\n",
    "    time_t.append(i)\n",
    "    i+=1"
   ]
  },
  {
   "cell_type": "code",
   "execution_count": 100,
   "metadata": {},
   "outputs": [
    {
     "data": {
      "text/plain": [
       "[28.571428571428573,\n",
       " 28.15714285714286,\n",
       " 27.728571428571428,\n",
       " 32.68571428571428,\n",
       " 34.68571428571428,\n",
       " 25.014285714285716]"
      ]
     },
     "execution_count": 100,
     "metadata": {},
     "output_type": "execute_result"
    }
   ],
   "source": [
    "#cek isi data test nya\n",
    "new_c0_t"
   ]
  },
  {
   "cell_type": "code",
   "execution_count": 101,
   "metadata": {},
   "outputs": [],
   "source": [
    "#normalisasi, karena gap nya ada yang sampe ribuan, biar lebih gampang tugas ann nya\n",
    "series=new_c0\n",
    "min = np.min(series)\n",
    "max = np.max(series)\n",
    "series = series - min\n",
    "series = series / (max-min)\n",
    "time = np.array(time)"
   ]
  },
  {
   "cell_type": "code",
   "execution_count": 102,
   "metadata": {},
   "outputs": [],
   "source": [
    "#sama aja cuman isi data test\n",
    "series_t=new_c0_t\n",
    "min_t = np.min(series_t)\n",
    "max_t = np.max(series_t)\n",
    "series_t = series_t - min_t\n",
    "series_t = series_t / (max_t-min_t)\n",
    "time_t = np.array(time_t)"
   ]
  },
  {
   "cell_type": "code",
   "execution_count": 103,
   "metadata": {},
   "outputs": [
    {
     "data": {
      "text/plain": [
       "array([0.36779911, 0.32496307, 0.28064993, 0.79320532, 1.        ,\n",
       "       0.        ])"
      ]
     },
     "execution_count": 103,
     "metadata": {},
     "output_type": "execute_result"
    }
   ],
   "source": [
    "#cek isi data test nya yang udah di normalisasi\n",
    "series_t"
   ]
  },
  {
   "cell_type": "code",
   "execution_count": 104,
   "metadata": {},
   "outputs": [],
   "source": [
    "#time splitting, jadi data train dan test keduanya dapet waktu yang pas, gak kepanjangan atau kependekan sebelah\n",
    "\n",
    "split_time = 3 # ini berapa bulan terkahir yang mau di potong buat pengujian?\n",
    "\n",
    "time_train = time\n",
    "x_train =  series\n",
    "time_valid =  time_t\n",
    "x_valid =  series_t"
   ]
  },
  {
   "cell_type": "code",
   "execution_count": 105,
   "metadata": {},
   "outputs": [
    {
     "data": {
      "text/plain": [
       "(54,)"
      ]
     },
     "execution_count": 105,
     "metadata": {},
     "output_type": "execute_result"
    }
   ],
   "source": [
    "#Cek inputan dari data train itu udah sesuai belum? Ini menunjukkan berapa bulan yang di train\n",
    "x_train.shape"
   ]
  },
  {
   "cell_type": "code",
   "execution_count": 106,
   "metadata": {},
   "outputs": [
    {
     "data": {
      "text/plain": [
       "(6,)"
      ]
     },
     "execution_count": 106,
     "metadata": {},
     "output_type": "execute_result"
    }
   ],
   "source": [
    "#sama cuman data test\n",
    "x_valid.shape"
   ]
  },
  {
   "cell_type": "code",
   "execution_count": 107,
   "metadata": {},
   "outputs": [],
   "source": [
    "#buat data biar dibagi per window, jadi me masang masangkan waktu dan value,\n",
    "window_size = 2\n",
    "batch_size = 2\n",
    "shuffle_buffer_size = 10\n",
    "\n",
    "train_set = windowed_dataset(x_train, window_size, batch_size, shuffle_buffer_size)\n",
    "valid_set = windowed_dataset(x_valid, window_size, batch_size, shuffle_buffer_size)"
   ]
  },
  {
   "cell_type": "code",
   "execution_count": 108,
   "metadata": {},
   "outputs": [
    {
     "data": {
      "text/plain": [
       "<PrefetchDataset shapes: ((None, None, 1), (None, None, 1)), types: (tf.float64, tf.float64)>"
      ]
     },
     "execution_count": 108,
     "metadata": {},
     "output_type": "execute_result"
    }
   ],
   "source": [
    "#cek isi train set\n",
    "train_set"
   ]
  },
  {
   "cell_type": "code",
   "execution_count": 109,
   "metadata": {},
   "outputs": [
    {
     "data": {
      "text/plain": [
       "<PrefetchDataset shapes: ((None, None, 1), (None, None, 1)), types: (tf.float64, tf.float64)>"
      ]
     },
     "execution_count": 109,
     "metadata": {},
     "output_type": "execute_result"
    }
   ],
   "source": [
    "#sama, cuman set validasi, pastikan keduanya sama\n",
    "valid_set"
   ]
  },
  {
   "cell_type": "markdown",
   "metadata": {},
   "source": [
    "Deklarasi Early Stopping sebagai fungsi callback\n",
    "\n",
    "Callback itu adalah sebuah fungsi yang di panggil (lalu fungsi itu melakukan pemeriksaan) setiap selesa 1 epoch\n",
    "fungsinya adalah untuk melakukan pemeriksaan dan tindakan kalo sesuatu hal terjadi setelah training.\n",
    "Penerapannya macam macam, ada yang untuk men save model setiap 5 epochs (checkpoint), ada memeriksa perubahan akurasi, dll\n",
    "\n",
    "Nah sekarang kita pakai early stopping, yang berfungsi kalau dalam sekian epochs (`patience`) gak ada perubahan, dan perubahan loss dibawah nilai `min_delta` yang kita inginkan (inget ya perubahan itu mutlak),,, kita bakal hentikan proses training... dan menyimpan hasil terbaik"
   ]
  },
  {
   "cell_type": "code",
   "execution_count": 110,
   "metadata": {},
   "outputs": [],
   "source": [
    "\n",
    "\n",
    "from keras.callbacks import  EarlyStopping\n",
    "callbacks = EarlyStopping(\n",
    "    min_delta=0.0001,\n",
    "    \n",
    "    patience=7,\n",
    "    restore_best_weights=True,\n",
    ")"
   ]
  },
  {
   "cell_type": "markdown",
   "metadata": {},
   "source": [
    "Penyusunan deep learning nya\n",
    "\n",
    "Kita Menggunakan BLSTM atau *Bidirectional Long Short Term Memory*. BLSTM adalah proses pembuatan jaringan syaraf tiruan untuk memiliki urutan informasi dalam kedua arah mundur (masa depan ke masa lalu) atau maju (masa lalu ke masa depan).\n",
    "\n",
    "\n",
    "kalo ini pake BLSTM dengan input layer sebanyak 2 neuron, BLSTM layer ada dua, yang pertama ada 64 neuron, terus yang kedua ada 32 neuron, dibuat mengkerucut (segitiga terbalik) seolah kita menyederhanakan data datanya, jadi kan makin dalem makin sedikit tuh, karena ada yang ga kepake kepake buat menentukan sales nya dan lain lain, \n",
    "\n",
    "terus setiap selesai masuk BLSTM layer, ada dropout, itu tuh untuk mengeliminasi secara random (di case ini 50%) sambungan antara neuron, dan nge \"matiin\" neuronnya itu juga, mensimulasi degradasi neuron dan sambungannya saat kita tidur, alias proses mengubah ingatan jadi jangka menengah ke panjang dari apa yang kita dapatkan pada hari itu. "
   ]
  },
  {
   "cell_type": "code",
   "execution_count": 111,
   "metadata": {},
   "outputs": [],
   "source": [
    "model = tf.keras.Sequential([\n",
    "        tf.keras.layers.Dense(2, input_shape=[None, 1]),\n",
    "        tf.keras.layers.Bidirectional(tf.keras.layers.LSTM(64,return_sequences=True)),\n",
    "        tf.keras.layers.Dropout(0.5),\n",
    "        tf.keras.layers.Bidirectional(tf.keras.layers.LSTM(32)),\n",
    "        tf.keras.layers.Dropout(0.5),\n",
    "        \n",
    "        tf.keras.layers.Dense(1),\n",
    "    ])\n",
    "\n",
    "    #the blstm part"
   ]
  },
  {
   "cell_type": "code",
   "execution_count": 112,
   "metadata": {},
   "outputs": [],
   "source": [
    "# The model below has successfully achieved a validation mse of 0.04 and it can predict almost perfectly.\n",
    "# model = tf.keras.Sequential([\n",
    "#         tf.keras.layers.Dense(2, input_shape=[None, 1]),\n",
    "#         tf.keras.layers.Bidirectional(tf.keras.layers.GRU(80,return_sequences=True)),\n",
    "#         tf.keras.layers.Bidirectional(tf.keras.layers.GRU(100)), #tadi 64 hampir berhasil\n",
    "        \n",
    "#         tf.keras.layers.Flatten(),\n",
    "#         tf.keras.layers.Dense(1024, activation='relu'),\n",
    "#         tf.keras.layers.Dropout(0.5),\n",
    "#         # tf.keras.layers.Dense(512, activation='relu',kernel_regularizer=tf.keras.regularizers.l1(l1=0.01)),\n",
    "#         # tf.keras.layers.Dense(64, activation='relu',kernel_regularizer=tf.keras.regularizers.l1_l2(l1=0.01, l2=0.01)),\n",
    "#         # tf.keras.layers.Dense(32, activation='relu'),\n",
    "#         # tf.keras.layers.Dropout(0.3),\n",
    "#         tf.keras.layers.Dense(1, activation='relu')\n",
    "#     ])"
   ]
  },
  {
   "cell_type": "code",
   "execution_count": 113,
   "metadata": {},
   "outputs": [
    {
     "name": "stdout",
     "output_type": "stream",
     "text": [
      "Model: \"sequential_1\"\n",
      "_________________________________________________________________\n",
      "Layer (type)                 Output Shape              Param #   \n",
      "=================================================================\n",
      "dense_2 (Dense)              (None, None, 2)           4         \n",
      "_________________________________________________________________\n",
      "bidirectional_2 (Bidirection (None, None, 128)         34304     \n",
      "_________________________________________________________________\n",
      "dropout_2 (Dropout)          (None, None, 128)         0         \n",
      "_________________________________________________________________\n",
      "bidirectional_3 (Bidirection (None, 64)                41216     \n",
      "_________________________________________________________________\n",
      "dropout_3 (Dropout)          (None, 64)                0         \n",
      "_________________________________________________________________\n",
      "dense_3 (Dense)              (None, 1)                 65        \n",
      "=================================================================\n",
      "Total params: 75,589\n",
      "Trainable params: 75,589\n",
      "Non-trainable params: 0\n",
      "_________________________________________________________________\n",
      "Epoch 1/150\n",
      "26/26 [==============================] - 10s 71ms/step - loss: 0.1245 - mae: 0.2775 - val_loss: 0.1771 - val_mae: 0.3401\n",
      "Epoch 2/150\n",
      "26/26 [==============================] - 0s 5ms/step - loss: 0.0299 - mae: 0.1413 - val_loss: 0.1518 - val_mae: 0.3124\n",
      "Epoch 3/150\n",
      "26/26 [==============================] - 0s 5ms/step - loss: 0.0277 - mae: 0.1232 - val_loss: 0.1490 - val_mae: 0.3079\n",
      "Epoch 4/150\n",
      "26/26 [==============================] - 0s 5ms/step - loss: 0.0210 - mae: 0.1152 - val_loss: 0.1544 - val_mae: 0.3075\n",
      "Epoch 5/150\n",
      "26/26 [==============================] - 0s 5ms/step - loss: 0.0258 - mae: 0.1238 - val_loss: 0.1535 - val_mae: 0.3031\n",
      "Epoch 6/150\n",
      "26/26 [==============================] - 0s 5ms/step - loss: 0.0231 - mae: 0.1201 - val_loss: 0.1592 - val_mae: 0.3087\n",
      "Epoch 7/150\n",
      "26/26 [==============================] - 0s 5ms/step - loss: 0.0257 - mae: 0.1243 - val_loss: 0.1663 - val_mae: 0.3241\n",
      "Epoch 8/150\n",
      "26/26 [==============================] - 0s 5ms/step - loss: 0.0251 - mae: 0.1229 - val_loss: 0.1554 - val_mae: 0.2960\n",
      "Epoch 9/150\n",
      "26/26 [==============================] - 0s 5ms/step - loss: 0.0187 - mae: 0.1058 - val_loss: 0.1605 - val_mae: 0.3108\n",
      "Epoch 10/150\n",
      "26/26 [==============================] - 0s 5ms/step - loss: 0.0218 - mae: 0.1198 - val_loss: 0.1566 - val_mae: 0.2903\n",
      "Epoch 11/150\n",
      "26/26 [==============================] - 0s 5ms/step - loss: 0.0220 - mae: 0.1126 - val_loss: 0.1585 - val_mae: 0.3042\n",
      "Epoch 12/150\n",
      "26/26 [==============================] - 0s 6ms/step - loss: 0.0258 - mae: 0.1189 - val_loss: 0.1576 - val_mae: 0.2880\n",
      "Epoch 13/150\n",
      "26/26 [==============================] - 0s 6ms/step - loss: 0.0197 - mae: 0.1089 - val_loss: 0.1618 - val_mae: 0.2856\n",
      "Epoch 14/150\n",
      "26/26 [==============================] - 0s 6ms/step - loss: 0.0193 - mae: 0.1036 - val_loss: 0.1630 - val_mae: 0.2837\n",
      "Epoch 15/150\n",
      "26/26 [==============================] - 0s 5ms/step - loss: 0.0216 - mae: 0.1108 - val_loss: 0.1605 - val_mae: 0.2814\n",
      "Epoch 16/150\n",
      "26/26 [==============================] - 0s 5ms/step - loss: 0.0201 - mae: 0.1142 - val_loss: 0.1566 - val_mae: 0.2927\n",
      "Epoch 17/150\n",
      "26/26 [==============================] - 0s 5ms/step - loss: 0.0207 - mae: 0.1072 - val_loss: 0.1572 - val_mae: 0.2848\n",
      "Epoch 18/150\n",
      "26/26 [==============================] - 0s 5ms/step - loss: 0.0184 - mae: 0.0993 - val_loss: 0.1613 - val_mae: 0.2793\n",
      "Epoch 19/150\n",
      "26/26 [==============================] - 0s 5ms/step - loss: 0.0221 - mae: 0.1082 - val_loss: 0.1616 - val_mae: 0.2771\n",
      "Epoch 20/150\n",
      "26/26 [==============================] - 0s 5ms/step - loss: 0.0249 - mae: 0.1191 - val_loss: 0.1632 - val_mae: 0.3160\n",
      "Epoch 21/150\n",
      "26/26 [==============================] - 0s 5ms/step - loss: 0.0281 - mae: 0.1298 - val_loss: 0.1638 - val_mae: 0.2727\n",
      "Epoch 22/150\n",
      "26/26 [==============================] - 0s 5ms/step - loss: 0.0215 - mae: 0.1090 - val_loss: 0.1590 - val_mae: 0.2794\n",
      "Epoch 23/150\n",
      "26/26 [==============================] - 0s 5ms/step - loss: 0.0187 - mae: 0.1058 - val_loss: 0.1580 - val_mae: 0.2755\n",
      "Epoch 24/150\n",
      "26/26 [==============================] - 0s 5ms/step - loss: 0.0194 - mae: 0.1090 - val_loss: 0.1597 - val_mae: 0.2737\n",
      "Epoch 25/150\n",
      "26/26 [==============================] - 0s 5ms/step - loss: 0.0190 - mae: 0.0984 - val_loss: 0.1538 - val_mae: 0.2899\n",
      "Epoch 26/150\n",
      "26/26 [==============================] - 0s 5ms/step - loss: 0.0195 - mae: 0.1101 - val_loss: 0.1543 - val_mae: 0.2965\n",
      "Epoch 27/150\n",
      "26/26 [==============================] - 0s 5ms/step - loss: 0.0211 - mae: 0.1133 - val_loss: 0.1535 - val_mae: 0.2780\n",
      "Epoch 28/150\n",
      "26/26 [==============================] - 0s 5ms/step - loss: 0.0213 - mae: 0.1072 - val_loss: 0.1528 - val_mae: 0.2773\n",
      "Epoch 29/150\n",
      "26/26 [==============================] - 0s 5ms/step - loss: 0.0198 - mae: 0.1073 - val_loss: 0.1573 - val_mae: 0.2710\n",
      "Epoch 30/150\n",
      "26/26 [==============================] - 0s 5ms/step - loss: 0.0180 - mae: 0.1004 - val_loss: 0.1548 - val_mae: 0.2896\n",
      "Epoch 31/150\n",
      "26/26 [==============================] - 0s 5ms/step - loss: 0.0186 - mae: 0.1000 - val_loss: 0.1573 - val_mae: 0.2694\n",
      "Epoch 32/150\n",
      "26/26 [==============================] - 0s 5ms/step - loss: 0.0199 - mae: 0.1046 - val_loss: 0.1521 - val_mae: 0.2796\n",
      "Epoch 33/150\n",
      "26/26 [==============================] - 0s 5ms/step - loss: 0.0197 - mae: 0.1100 - val_loss: 0.1478 - val_mae: 0.2830\n",
      "Epoch 34/150\n",
      "26/26 [==============================] - 0s 5ms/step - loss: 0.0233 - mae: 0.1159 - val_loss: 0.1496 - val_mae: 0.2789\n",
      "Epoch 35/150\n",
      "26/26 [==============================] - 0s 5ms/step - loss: 0.0207 - mae: 0.1077 - val_loss: 0.1517 - val_mae: 0.2756\n",
      "Epoch 36/150\n",
      "26/26 [==============================] - 0s 5ms/step - loss: 0.0171 - mae: 0.1011 - val_loss: 0.1563 - val_mae: 0.2673\n",
      "Epoch 37/150\n",
      "26/26 [==============================] - 0s 5ms/step - loss: 0.0170 - mae: 0.0954 - val_loss: 0.1536 - val_mae: 0.2698\n",
      "Epoch 38/150\n",
      "26/26 [==============================] - 0s 5ms/step - loss: 0.0174 - mae: 0.1007 - val_loss: 0.1509 - val_mae: 0.2749\n",
      "Epoch 39/150\n",
      "26/26 [==============================] - 0s 5ms/step - loss: 0.0219 - mae: 0.1135 - val_loss: 0.1520 - val_mae: 0.2727\n",
      "Epoch 40/150\n",
      "26/26 [==============================] - 0s 5ms/step - loss: 0.0163 - mae: 0.0966 - val_loss: 0.1528 - val_mae: 0.2695\n",
      "Epoch 41/150\n",
      "26/26 [==============================] - 0s 5ms/step - loss: 0.0181 - mae: 0.1001 - val_loss: 0.1522 - val_mae: 0.2691\n",
      "Epoch 42/150\n",
      "26/26 [==============================] - 0s 5ms/step - loss: 0.0201 - mae: 0.1090 - val_loss: 0.1501 - val_mae: 0.2711\n",
      "Epoch 43/150\n",
      "26/26 [==============================] - 0s 5ms/step - loss: 0.0156 - mae: 0.0971 - val_loss: 0.1532 - val_mae: 0.2678\n",
      "Epoch 44/150\n",
      "26/26 [==============================] - 0s 5ms/step - loss: 0.0180 - mae: 0.1016 - val_loss: 0.1552 - val_mae: 0.2910\n",
      "Epoch 45/150\n",
      "26/26 [==============================] - 0s 5ms/step - loss: 0.0180 - mae: 0.1029 - val_loss: 0.1516 - val_mae: 0.2688\n",
      "Epoch 46/150\n",
      "26/26 [==============================] - 0s 6ms/step - loss: 0.0177 - mae: 0.0965 - val_loss: 0.1497 - val_mae: 0.2799\n",
      "Epoch 47/150\n",
      "26/26 [==============================] - 0s 5ms/step - loss: 0.0196 - mae: 0.1118 - val_loss: 0.1517 - val_mae: 0.2764\n",
      "Epoch 48/150\n",
      "26/26 [==============================] - 0s 5ms/step - loss: 0.0200 - mae: 0.1007 - val_loss: 0.1539 - val_mae: 0.2812\n",
      "Epoch 49/150\n",
      "26/26 [==============================] - 0s 5ms/step - loss: 0.0197 - mae: 0.1025 - val_loss: 0.1525 - val_mae: 0.2665\n",
      "Epoch 50/150\n",
      "26/26 [==============================] - 0s 5ms/step - loss: 0.0200 - mae: 0.1060 - val_loss: 0.1468 - val_mae: 0.2746\n",
      "Epoch 51/150\n",
      "26/26 [==============================] - 0s 5ms/step - loss: 0.0177 - mae: 0.0972 - val_loss: 0.1468 - val_mae: 0.2714\n",
      "Epoch 52/150\n",
      "26/26 [==============================] - 0s 5ms/step - loss: 0.0188 - mae: 0.1027 - val_loss: 0.1504 - val_mae: 0.2708\n",
      "Epoch 53/150\n",
      "26/26 [==============================] - 0s 5ms/step - loss: 0.0183 - mae: 0.1022 - val_loss: 0.1487 - val_mae: 0.2767\n",
      "Epoch 54/150\n",
      "26/26 [==============================] - 0s 5ms/step - loss: 0.0211 - mae: 0.1086 - val_loss: 0.1466 - val_mae: 0.2765\n",
      "Epoch 55/150\n",
      "26/26 [==============================] - 0s 5ms/step - loss: 0.0184 - mae: 0.1013 - val_loss: 0.1427 - val_mae: 0.2753\n",
      "Epoch 56/150\n",
      "26/26 [==============================] - 0s 5ms/step - loss: 0.0155 - mae: 0.0954 - val_loss: 0.1459 - val_mae: 0.2733\n",
      "Epoch 57/150\n",
      "26/26 [==============================] - 0s 5ms/step - loss: 0.0173 - mae: 0.1035 - val_loss: 0.1505 - val_mae: 0.2639\n",
      "Epoch 58/150\n",
      "26/26 [==============================] - 0s 5ms/step - loss: 0.0162 - mae: 0.0930 - val_loss: 0.1483 - val_mae: 0.2671\n",
      "Epoch 59/150\n",
      "26/26 [==============================] - 0s 5ms/step - loss: 0.0163 - mae: 0.0965 - val_loss: 0.1485 - val_mae: 0.2753\n",
      "Epoch 60/150\n",
      "26/26 [==============================] - 0s 5ms/step - loss: 0.0184 - mae: 0.1016 - val_loss: 0.1508 - val_mae: 0.2625\n",
      "Epoch 61/150\n",
      "26/26 [==============================] - 0s 5ms/step - loss: 0.0159 - mae: 0.0928 - val_loss: 0.1554 - val_mae: 0.2582\n",
      "Epoch 62/150\n",
      "26/26 [==============================] - 0s 5ms/step - loss: 0.0170 - mae: 0.0965 - val_loss: 0.1508 - val_mae: 0.2795\n",
      "Epoch 63/150\n",
      "26/26 [==============================] - 0s 5ms/step - loss: 0.0174 - mae: 0.1002 - val_loss: 0.1487 - val_mae: 0.2632\n",
      "Epoch 64/150\n",
      "26/26 [==============================] - 0s 5ms/step - loss: 0.0181 - mae: 0.0978 - val_loss: 0.1465 - val_mae: 0.2689\n",
      "Epoch 65/150\n",
      "26/26 [==============================] - 0s 5ms/step - loss: 0.0177 - mae: 0.1019 - val_loss: 0.1474 - val_mae: 0.2747\n",
      "Epoch 66/150\n",
      "26/26 [==============================] - 0s 5ms/step - loss: 0.0185 - mae: 0.0959 - val_loss: 0.1502 - val_mae: 0.2624\n",
      "Epoch 67/150\n",
      "26/26 [==============================] - 0s 5ms/step - loss: 0.0169 - mae: 0.0964 - val_loss: 0.1524 - val_mae: 0.2605\n",
      "Epoch 68/150\n",
      "26/26 [==============================] - 0s 5ms/step - loss: 0.0195 - mae: 0.0976 - val_loss: 0.1465 - val_mae: 0.2817\n",
      "Epoch 69/150\n",
      "26/26 [==============================] - 0s 5ms/step - loss: 0.0165 - mae: 0.0988 - val_loss: 0.1462 - val_mae: 0.2656\n",
      "Epoch 70/150\n",
      "26/26 [==============================] - 0s 5ms/step - loss: 0.0174 - mae: 0.1003 - val_loss: 0.1473 - val_mae: 0.2682\n",
      "Epoch 71/150\n",
      "26/26 [==============================] - 0s 5ms/step - loss: 0.0177 - mae: 0.0994 - val_loss: 0.1459 - val_mae: 0.2656\n",
      "Epoch 72/150\n",
      "26/26 [==============================] - 0s 5ms/step - loss: 0.0175 - mae: 0.0970 - val_loss: 0.1498 - val_mae: 0.2706\n",
      "Epoch 73/150\n",
      "26/26 [==============================] - 0s 6ms/step - loss: 0.0161 - mae: 0.0909 - val_loss: 0.1483 - val_mae: 0.2766\n",
      "Epoch 74/150\n",
      "26/26 [==============================] - 0s 5ms/step - loss: 0.0169 - mae: 0.0961 - val_loss: 0.1457 - val_mae: 0.2682\n",
      "Epoch 75/150\n",
      "26/26 [==============================] - 0s 5ms/step - loss: 0.0178 - mae: 0.0982 - val_loss: 0.1448 - val_mae: 0.2648\n",
      "Epoch 76/150\n",
      "26/26 [==============================] - 0s 5ms/step - loss: 0.0175 - mae: 0.0964 - val_loss: 0.1479 - val_mae: 0.2655\n",
      "Epoch 77/150\n",
      "26/26 [==============================] - 0s 5ms/step - loss: 0.0187 - mae: 0.0979 - val_loss: 0.1447 - val_mae: 0.2658\n",
      "Epoch 78/150\n",
      "26/26 [==============================] - 0s 5ms/step - loss: 0.0189 - mae: 0.1059 - val_loss: 0.1468 - val_mae: 0.2631\n",
      "Epoch 79/150\n",
      "26/26 [==============================] - 0s 5ms/step - loss: 0.0178 - mae: 0.0934 - val_loss: 0.1465 - val_mae: 0.2630\n",
      "Epoch 80/150\n",
      "26/26 [==============================] - 0s 5ms/step - loss: 0.0154 - mae: 0.0910 - val_loss: 0.1447 - val_mae: 0.2647\n",
      "Epoch 81/150\n",
      "26/26 [==============================] - 0s 6ms/step - loss: 0.0175 - mae: 0.0961 - val_loss: 0.1422 - val_mae: 0.2702\n",
      "Epoch 82/150\n",
      "26/26 [==============================] - 0s 5ms/step - loss: 0.0181 - mae: 0.0976 - val_loss: 0.1431 - val_mae: 0.2640\n",
      "Epoch 83/150\n",
      "26/26 [==============================] - 0s 5ms/step - loss: 0.0167 - mae: 0.0948 - val_loss: 0.1463 - val_mae: 0.2642\n",
      "Epoch 84/150\n",
      "26/26 [==============================] - 0s 5ms/step - loss: 0.0186 - mae: 0.0974 - val_loss: 0.1489 - val_mae: 0.2583\n",
      "Epoch 85/150\n",
      "26/26 [==============================] - 0s 5ms/step - loss: 0.0161 - mae: 0.0885 - val_loss: 0.1460 - val_mae: 0.2614\n",
      "Epoch 86/150\n",
      "26/26 [==============================] - 0s 5ms/step - loss: 0.0161 - mae: 0.0950 - val_loss: 0.1480 - val_mae: 0.2577\n",
      "Epoch 87/150\n",
      "26/26 [==============================] - 0s 5ms/step - loss: 0.0180 - mae: 0.0985 - val_loss: 0.1488 - val_mae: 0.2845\n",
      "Epoch 88/150\n",
      "26/26 [==============================] - 0s 5ms/step - loss: 0.0161 - mae: 0.0977 - val_loss: 0.1460 - val_mae: 0.2595\n",
      "Epoch 89/150\n",
      "26/26 [==============================] - 0s 5ms/step - loss: 0.0153 - mae: 0.0898 - val_loss: 0.1467 - val_mae: 0.2689\n",
      "Epoch 90/150\n",
      "26/26 [==============================] - 0s 5ms/step - loss: 0.0178 - mae: 0.0959 - val_loss: 0.1428 - val_mae: 0.2624\n",
      "Epoch 91/150\n",
      "26/26 [==============================] - 0s 5ms/step - loss: 0.0175 - mae: 0.1010 - val_loss: 0.1475 - val_mae: 0.2840\n",
      "Epoch 92/150\n",
      "26/26 [==============================] - 0s 5ms/step - loss: 0.0186 - mae: 0.0989 - val_loss: 0.1459 - val_mae: 0.2597\n",
      "Epoch 93/150\n",
      "26/26 [==============================] - 0s 5ms/step - loss: 0.0153 - mae: 0.0935 - val_loss: 0.1474 - val_mae: 0.2688\n",
      "Epoch 94/150\n",
      "26/26 [==============================] - 0s 5ms/step - loss: 0.0161 - mae: 0.0934 - val_loss: 0.1508 - val_mae: 0.2549\n",
      "Epoch 95/150\n",
      "26/26 [==============================] - 0s 5ms/step - loss: 0.0161 - mae: 0.0907 - val_loss: 0.1447 - val_mae: 0.2642\n",
      "Epoch 96/150\n",
      "26/26 [==============================] - 0s 5ms/step - loss: 0.0154 - mae: 0.0927 - val_loss: 0.1457 - val_mae: 0.2619\n",
      "Epoch 97/150\n",
      "26/26 [==============================] - 0s 5ms/step - loss: 0.0190 - mae: 0.0933 - val_loss: 0.1472 - val_mae: 0.2997\n",
      "Epoch 98/150\n",
      "26/26 [==============================] - 0s 5ms/step - loss: 0.0211 - mae: 0.1093 - val_loss: 0.1404 - val_mae: 0.2661\n",
      "Epoch 99/150\n",
      "26/26 [==============================] - 0s 5ms/step - loss: 0.0153 - mae: 0.0916 - val_loss: 0.1462 - val_mae: 0.2814\n",
      "Epoch 100/150\n",
      "26/26 [==============================] - 0s 5ms/step - loss: 0.0187 - mae: 0.1010 - val_loss: 0.1440 - val_mae: 0.2623\n",
      "Epoch 101/150\n",
      "26/26 [==============================] - 0s 5ms/step - loss: 0.0159 - mae: 0.0932 - val_loss: 0.1460 - val_mae: 0.2599\n",
      "Epoch 102/150\n",
      "26/26 [==============================] - 0s 5ms/step - loss: 0.0191 - mae: 0.0960 - val_loss: 0.1419 - val_mae: 0.2696\n",
      "Epoch 103/150\n",
      "26/26 [==============================] - 0s 5ms/step - loss: 0.0179 - mae: 0.1029 - val_loss: 0.1425 - val_mae: 0.2654\n",
      "Epoch 104/150\n",
      "26/26 [==============================] - 0s 5ms/step - loss: 0.0178 - mae: 0.0954 - val_loss: 0.1485 - val_mae: 0.2546\n",
      "Epoch 105/150\n",
      "26/26 [==============================] - 0s 5ms/step - loss: 0.0167 - mae: 0.0941 - val_loss: 0.1412 - val_mae: 0.2665\n",
      "Epoch 106/150\n",
      "26/26 [==============================] - 0s 5ms/step - loss: 0.0156 - mae: 0.0918 - val_loss: 0.1430 - val_mae: 0.2618\n",
      "Epoch 107/150\n",
      "26/26 [==============================] - 0s 5ms/step - loss: 0.0147 - mae: 0.0903 - val_loss: 0.1452 - val_mae: 0.2711\n",
      "Epoch 108/150\n",
      "26/26 [==============================] - 0s 5ms/step - loss: 0.0169 - mae: 0.0953 - val_loss: 0.1476 - val_mae: 0.2551\n",
      "Epoch 109/150\n",
      "26/26 [==============================] - 0s 5ms/step - loss: 0.0160 - mae: 0.0911 - val_loss: 0.1446 - val_mae: 0.2781\n",
      "Epoch 110/150\n",
      "26/26 [==============================] - 0s 5ms/step - loss: 0.0186 - mae: 0.0992 - val_loss: 0.1451 - val_mae: 0.2578\n",
      "Epoch 111/150\n",
      "26/26 [==============================] - 0s 5ms/step - loss: 0.0172 - mae: 0.0958 - val_loss: 0.1423 - val_mae: 0.2601\n",
      "Epoch 112/150\n",
      "26/26 [==============================] - 0s 5ms/step - loss: 0.0149 - mae: 0.0910 - val_loss: 0.1414 - val_mae: 0.2614\n",
      "Epoch 113/150\n",
      "26/26 [==============================] - 0s 5ms/step - loss: 0.0154 - mae: 0.0913 - val_loss: 0.1417 - val_mae: 0.2666\n",
      "Epoch 114/150\n",
      "26/26 [==============================] - 0s 5ms/step - loss: 0.0168 - mae: 0.0951 - val_loss: 0.1413 - val_mae: 0.2634\n",
      "Epoch 115/150\n",
      "26/26 [==============================] - 0s 5ms/step - loss: 0.0183 - mae: 0.0969 - val_loss: 0.1478 - val_mae: 0.2524\n",
      "Epoch 116/150\n",
      "26/26 [==============================] - 0s 5ms/step - loss: 0.0139 - mae: 0.0830 - val_loss: 0.1447 - val_mae: 0.2659\n",
      "Epoch 117/150\n",
      "26/26 [==============================] - 0s 5ms/step - loss: 0.0187 - mae: 0.0969 - val_loss: 0.1432 - val_mae: 0.2628\n",
      "Epoch 118/150\n",
      "26/26 [==============================] - 0s 5ms/step - loss: 0.0178 - mae: 0.0948 - val_loss: 0.1393 - val_mae: 0.2690\n",
      "Epoch 119/150\n",
      "26/26 [==============================] - 0s 5ms/step - loss: 0.0172 - mae: 0.0970 - val_loss: 0.1410 - val_mae: 0.2603\n",
      "Epoch 120/150\n",
      "26/26 [==============================] - 0s 5ms/step - loss: 0.0159 - mae: 0.0931 - val_loss: 0.1394 - val_mae: 0.2676\n",
      "Epoch 121/150\n",
      "26/26 [==============================] - 0s 5ms/step - loss: 0.0176 - mae: 0.1004 - val_loss: 0.1417 - val_mae: 0.2577\n",
      "Epoch 122/150\n",
      "26/26 [==============================] - 0s 5ms/step - loss: 0.0175 - mae: 0.0939 - val_loss: 0.1413 - val_mae: 0.2648\n",
      "Epoch 123/150\n",
      "26/26 [==============================] - 0s 5ms/step - loss: 0.0167 - mae: 0.0950 - val_loss: 0.1435 - val_mae: 0.2633\n",
      "Epoch 124/150\n",
      "26/26 [==============================] - 0s 5ms/step - loss: 0.0162 - mae: 0.0871 - val_loss: 0.1410 - val_mae: 0.2567\n",
      "Epoch 125/150\n",
      "26/26 [==============================] - 0s 5ms/step - loss: 0.0155 - mae: 0.0898 - val_loss: 0.1394 - val_mae: 0.2633\n",
      "Epoch 126/150\n",
      "26/26 [==============================] - 0s 5ms/step - loss: 0.0162 - mae: 0.0914 - val_loss: 0.1429 - val_mae: 0.2551\n",
      "Epoch 127/150\n",
      "26/26 [==============================] - 0s 5ms/step - loss: 0.0146 - mae: 0.0864 - val_loss: 0.1436 - val_mae: 0.2583\n",
      "Epoch 128/150\n",
      "26/26 [==============================] - 0s 5ms/step - loss: 0.0173 - mae: 0.0949 - val_loss: 0.1435 - val_mae: 0.2532\n",
      "Epoch 129/150\n",
      "26/26 [==============================] - 0s 5ms/step - loss: 0.0194 - mae: 0.0994 - val_loss: 0.1375 - val_mae: 0.2586\n",
      "Epoch 130/150\n",
      "26/26 [==============================] - ETA: 0s - loss: 0.0200 - mae: 0.102 - 0s 5ms/step - loss: 0.0167 - mae: 0.0938 - val_loss: 0.1374 - val_mae: 0.2738\n",
      "Epoch 131/150\n",
      "26/26 [==============================] - 0s 5ms/step - loss: 0.0183 - mae: 0.1022 - val_loss: 0.1359 - val_mae: 0.2626\n",
      "Epoch 132/150\n",
      "26/26 [==============================] - 0s 5ms/step - loss: 0.0169 - mae: 0.0947 - val_loss: 0.1373 - val_mae: 0.2609\n",
      "Epoch 133/150\n",
      "26/26 [==============================] - 0s 5ms/step - loss: 0.0170 - mae: 0.0955 - val_loss: 0.1397 - val_mae: 0.2584\n",
      "Epoch 134/150\n",
      "26/26 [==============================] - 0s 5ms/step - loss: 0.0159 - mae: 0.0907 - val_loss: 0.1418 - val_mae: 0.2559\n",
      "Epoch 135/150\n",
      "26/26 [==============================] - 0s 6ms/step - loss: 0.0152 - mae: 0.0863 - val_loss: 0.1387 - val_mae: 0.2640\n",
      "Epoch 136/150\n",
      "26/26 [==============================] - 0s 5ms/step - loss: 0.0156 - mae: 0.0944 - val_loss: 0.1414 - val_mae: 0.2557\n",
      "Epoch 137/150\n",
      "26/26 [==============================] - 0s 5ms/step - loss: 0.0154 - mae: 0.0942 - val_loss: 0.1442 - val_mae: 0.2594\n",
      "Epoch 138/150\n",
      "26/26 [==============================] - 0s 5ms/step - loss: 0.0159 - mae: 0.0912 - val_loss: 0.1446 - val_mae: 0.2532\n",
      "Epoch 139/150\n",
      "26/26 [==============================] - 0s 5ms/step - loss: 0.0157 - mae: 0.0917 - val_loss: 0.1449 - val_mae: 0.2540\n",
      "Epoch 140/150\n",
      "26/26 [==============================] - 0s 5ms/step - loss: 0.0148 - mae: 0.0853 - val_loss: 0.1441 - val_mae: 0.2550\n",
      "Epoch 141/150\n",
      "26/26 [==============================] - 0s 5ms/step - loss: 0.0200 - mae: 0.1003 - val_loss: 0.1342 - val_mae: 0.2681\n",
      "Epoch 142/150\n",
      "26/26 [==============================] - 0s 5ms/step - loss: 0.0157 - mae: 0.0942 - val_loss: 0.1376 - val_mae: 0.2605\n",
      "Epoch 143/150\n",
      "26/26 [==============================] - 0s 5ms/step - loss: 0.0156 - mae: 0.0912 - val_loss: 0.1397 - val_mae: 0.2572\n",
      "Epoch 144/150\n",
      "26/26 [==============================] - 0s 5ms/step - loss: 0.0157 - mae: 0.0900 - val_loss: 0.1442 - val_mae: 0.2526\n",
      "Epoch 145/150\n",
      "26/26 [==============================] - 0s 5ms/step - loss: 0.0156 - mae: 0.0865 - val_loss: 0.1406 - val_mae: 0.2569\n",
      "Epoch 146/150\n",
      "26/26 [==============================] - 0s 5ms/step - loss: 0.0190 - mae: 0.0977 - val_loss: 0.1361 - val_mae: 0.2664\n",
      "Epoch 147/150\n",
      "26/26 [==============================] - 0s 5ms/step - loss: 0.0160 - mae: 0.0919 - val_loss: 0.1351 - val_mae: 0.2686\n",
      "Epoch 148/150\n",
      "26/26 [==============================] - 0s 5ms/step - loss: 0.0179 - mae: 0.1009 - val_loss: 0.1391 - val_mae: 0.2617\n",
      "Epoch 149/150\n",
      "26/26 [==============================] - 0s 5ms/step - loss: 0.0161 - mae: 0.0920 - val_loss: 0.1387 - val_mae: 0.2640\n",
      "Epoch 150/150\n",
      "26/26 [==============================] - 0s 5ms/step - loss: 0.0170 - mae: 0.0959 - val_loss: 0.1362 - val_mae: 0.2652\n"
     ]
    }
   ],
   "source": [
    "#Training, pake model.fit()\n",
    "#Using mae and mse\n",
    "#model.compile(optimizer=tf.keras.optimizers.SGD(learning_rate=0.001, momentum=0.9),metrics=['mae'],loss='mse')\n",
    "#optimizers itu buat memilih fungsi optimasi, jadi itu sebuah fungsi yang bertanggung jawab biar tiap epoch itu ada perubahan yang baik\n",
    "#dengan cara membuat per layer belajar nya lebih keras atau lebih ringan, dengan cara mengubah parameter dari tiap layer\n",
    "#secara matematis, si optimizer akan berusaha mencari loss terkecil dalam distribusi loss dibanding parameter\n",
    "\n",
    "model.compile(optimizer=tf.keras.optimizers.Adam(),metrics=['mae'],loss='mse') #ini kita pasang modelnya mau pake optimizer sama\n",
    "#loss apa?\n",
    "model.summary() #buat ngeluat detail networknya, kayak dibawah\n",
    "hist=model.fit(train_set,epochs=150,validation_data=valid_set, batch_size=1) #training, dimasukin hasil training ke dalem variable\n",
    "# hist biar nanti gampang nge plot nya"
   ]
  },
  {
   "cell_type": "code",
   "execution_count": 114,
   "metadata": {},
   "outputs": [
    {
     "data": {
      "image/png": "[encoded data removed]",
      "text/plain": [
       "<Figure size 432x288 with 1 Axes>"
      ]
     },
     "metadata": {
      "needs_background": "light"
     },
     "output_type": "display_data"
    }
   ],
   "source": [
    "#menggambar\n",
    "plt.plot(hist.history['mae'], label='MAE (training data)')\n",
    "plt.plot(hist.history['val_mae'], label='MAE (validation data)')\n",
    "\n",
    "plt.title(\"MAE Cluster 0\")\n",
    "plt.ylabel('MAE value')\n",
    "plt.xlabel('No. epoch')\n",
    "plt.legend(loc=\"upper left\")\n",
    "plt.show()"
   ]
  },
  {
   "cell_type": "code",
   "execution_count": 115,
   "metadata": {},
   "outputs": [
    {
     "data": {
      "image/png": "[encoded data removed]",
      "text/plain": [
       "<Figure size 432x288 with 1 Axes>"
      ]
     },
     "metadata": {
      "needs_background": "light"
     },
     "output_type": "display_data"
    }
   ],
   "source": [
    "plt.plot(hist.history['loss'], label='loss (training data)')\n",
    "plt.plot(hist.history['val_loss'], label='loss (validation data)')\n",
    "\n",
    "plt.title(\"Loss Cluster 0 (MSE)\")\n",
    "plt.ylabel('MSE value')\n",
    "plt.xlabel('No. epoch')\n",
    "plt.legend(loc=\"upper left\")\n",
    "plt.show()"
   ]
  },
  {
   "cell_type": "code",
   "execution_count": 116,
   "metadata": {},
   "outputs": [
    {
     "data": {
      "text/plain": [
       "array([[0.31023198],\n",
       "       [0.29672176],\n",
       "       [0.2828671 ],\n",
       "       [0.44962305],\n",
       "       [0.51974535],\n",
       "       [0.19825503]], dtype=float32)"
      ]
     },
     "execution_count": 116,
     "metadata": {},
     "output_type": "execute_result"
    }
   ],
   "source": [
    "#variable prediksi, kita isi pake hasil prediksi data validasi, biar gampang gambarnya\n",
    "prediksi=model.predict(np.array(x_valid))\n",
    "prediksi"
   ]
  },
  {
   "cell_type": "code",
   "execution_count": 117,
   "metadata": {},
   "outputs": [],
   "source": [
    "prediksi=prediksi.flatten()\n",
    "#flatten berfungsi untuk mengubah arrau 2 dimensi jadi satu dimensi (datar)"
   ]
  },
  {
   "cell_type": "code",
   "execution_count": 118,
   "metadata": {},
   "outputs": [],
   "source": [
    "# hasil=np.concatenate((series,prediksi))\n",
    "#concatinate fungsinya untuk nyambungin dua buah list, disini kita sambungin data yang awal sama prediksi"
   ]
  },
  {
   "cell_type": "code",
   "execution_count": 120,
   "metadata": {},
   "outputs": [],
   "source": [
    "# asli = np.concatenate((series,series_t)) #menyambungkan data asli"
   ]
  },
  {
   "cell_type": "code",
   "execution_count": 121,
   "metadata": {},
   "outputs": [],
   "source": [
    "series = series*(max-min) + min\n",
    "prediksi = prediksi*(max_t-min_t)+ min_t\n",
    "series_t = series_t*(max_t-min_t) + min_t  \n",
    "hasil=np.concatenate((series,prediksi))\n",
    "asli = np.concatenate((series,series_t))"
   ]
  },
  {
   "cell_type": "code",
   "execution_count": 122,
   "metadata": {},
   "outputs": [
    {
     "data": {
      "text/plain": [
       "[]"
      ]
     },
     "execution_count": 122,
     "metadata": {},
     "output_type": "execute_result"
    },
    {
     "data": {
      "image/png": "[encoded data removed]",
      "text/plain": [
       "<Figure size 432x288 with 1 Axes>"
      ]
     },
     "metadata": {
      "needs_background": "light"
     },
     "output_type": "display_data"
    }
   ],
   "source": [
    "plt.plot(asli,marker = 'o',label='data asli')\n",
    "plt.plot(hasil,marker = 'o',label='data prediksi')\n",
    "plt.title('penjualan produk cluster 0')\n",
    "plt.legend()\n",
    "plt.plot()"
   ]
  },
  {
   "cell_type": "code",
   "execution_count": 123,
   "metadata": {},
   "outputs": [],
   "source": [
    "model.save('cluster0_newdata.h5') #simpan model untuk cluster 0 ini"
   ]
  },
  {
   "cell_type": "markdown",
   "metadata": {},
   "source": [
    "# Satu Produk"
   ]
  },
  {
   "cell_type": "code",
   "execution_count": 124,
   "metadata": {},
   "outputs": [
    {
     "data": {
      "text/html": [
       "<div>\n",
       "<style scoped>\n",
       "    .dataframe tbody tr th:only-of-type {\n",
       "        vertical-align: middle;\n",
       "    }\n",
       "\n",
       "    .dataframe tbody tr th {\n",
       "        vertical-align: top;\n",
       "    }\n",
       "\n",
       "    .dataframe thead th {\n",
       "        text-align: right;\n",
       "    }\n",
       "</style>\n",
       "<table border=\"1\" class=\"dataframe\">\n",
       "  <thead>\n",
       "    <tr style=\"text-align: right;\">\n",
       "      <th></th>\n",
       "      <th>1</th>\n",
       "      <th>2</th>\n",
       "      <th>3</th>\n",
       "      <th>4</th>\n",
       "      <th>5</th>\n",
       "      <th>6</th>\n",
       "      <th>7</th>\n",
       "      <th>8</th>\n",
       "      <th>9</th>\n",
       "      <th>10</th>\n",
       "      <th>...</th>\n",
       "      <th>45</th>\n",
       "      <th>46</th>\n",
       "      <th>47</th>\n",
       "      <th>48</th>\n",
       "      <th>49</th>\n",
       "      <th>50</th>\n",
       "      <th>51</th>\n",
       "      <th>52</th>\n",
       "      <th>53</th>\n",
       "      <th>54</th>\n",
       "    </tr>\n",
       "  </thead>\n",
       "  <tbody>\n",
       "    <tr>\n",
       "      <th>04040</th>\n",
       "      <td>26</td>\n",
       "      <td>32</td>\n",
       "      <td>9</td>\n",
       "      <td>19</td>\n",
       "      <td>20</td>\n",
       "      <td>6</td>\n",
       "      <td>26</td>\n",
       "      <td>15</td>\n",
       "      <td>35</td>\n",
       "      <td>23</td>\n",
       "      <td>...</td>\n",
       "      <td>4</td>\n",
       "      <td>9</td>\n",
       "      <td>4</td>\n",
       "      <td>19</td>\n",
       "      <td>3</td>\n",
       "      <td>14</td>\n",
       "      <td>10</td>\n",
       "      <td>14</td>\n",
       "      <td>9</td>\n",
       "      <td>10</td>\n",
       "    </tr>\n",
       "  </tbody>\n",
       "</table>\n",
       "<p>1 rows × 54 columns</p>\n",
       "</div>"
      ],
      "text/plain": [
       "       1   2   3   4   5   6   7   8   9   10  ...  45  46  47  48  49  50  \\\n",
       "04040  26  32   9  19  20   6  26  15  35  23  ...   4   9   4  19   3  14   \n",
       "\n",
       "       51  52  53  54  \n",
       "04040  10  14   9  10  \n",
       "\n",
       "[1 rows x 54 columns]"
      ]
     },
     "execution_count": 124,
     "metadata": {},
     "output_type": "execute_result"
    }
   ],
   "source": [
    "new_c0 = c0.sample()\n",
    "new_c0"
   ]
  },
  {
   "cell_type": "code",
   "execution_count": 134,
   "metadata": {},
   "outputs": [
    {
     "data": {
      "text/plain": [
       "<AxesSubplot:>"
      ]
     },
     "execution_count": 134,
     "metadata": {},
     "output_type": "execute_result"
    },
    {
     "data": {
      "image/png": "[encoded data removed]",
      "text/plain": [
       "<Figure size 432x288 with 1 Axes>"
      ]
     },
     "metadata": {
      "needs_background": "light"
     },
     "output_type": "display_data"
    }
   ],
   "source": [
    "new_c0.T.plot()"
   ]
  },
  {
   "cell_type": "code",
   "execution_count": 125,
   "metadata": {},
   "outputs": [
    {
     "data": {
      "text/html": [
       "<div>\n",
       "<style scoped>\n",
       "    .dataframe tbody tr th:only-of-type {\n",
       "        vertical-align: middle;\n",
       "    }\n",
       "\n",
       "    .dataframe tbody tr th {\n",
       "        vertical-align: top;\n",
       "    }\n",
       "\n",
       "    .dataframe thead th {\n",
       "        text-align: right;\n",
       "    }\n",
       "</style>\n",
       "<table border=\"1\" class=\"dataframe\">\n",
       "  <thead>\n",
       "    <tr style=\"text-align: right;\">\n",
       "      <th></th>\n",
       "      <th>bulan 1</th>\n",
       "      <th>bulan 2</th>\n",
       "      <th>bulan 3</th>\n",
       "      <th>bulan 4</th>\n",
       "      <th>bulan 5</th>\n",
       "      <th>bulan 6</th>\n",
       "    </tr>\n",
       "  </thead>\n",
       "  <tbody>\n",
       "    <tr>\n",
       "      <th>04040</th>\n",
       "      <td>8</td>\n",
       "      <td>9</td>\n",
       "      <td>6</td>\n",
       "      <td>8</td>\n",
       "      <td>7</td>\n",
       "      <td>4</td>\n",
       "    </tr>\n",
       "  </tbody>\n",
       "</table>\n",
       "</div>"
      ],
      "text/plain": [
       "       bulan 1  bulan 2  bulan 3  bulan 4  bulan 5  bulan 6\n",
       "04040        8        9        6        8        7        4"
      ]
     },
     "execution_count": 125,
     "metadata": {},
     "output_type": "execute_result"
    }
   ],
   "source": [
    "c0_t.set_index(col,inplace=True)\n",
    "new_c0_t = c0_t.loc[new_c0.index]\n",
    "new_c0_t"
   ]
  },
  {
   "cell_type": "code",
   "execution_count": 139,
   "metadata": {},
   "outputs": [
    {
     "data": {
      "text/plain": [
       "4"
      ]
     },
     "execution_count": 139,
     "metadata": {},
     "output_type": "execute_result"
    }
   ],
   "source": [
    "min"
   ]
  },
  {
   "cell_type": "code",
   "execution_count": 144,
   "metadata": {},
   "outputs": [],
   "source": [
    "series=new_c0.values\n",
    "min = np.min(series)\n",
    "max = np.max(series)\n",
    "series = series - min\n",
    "series = series / (max-min)\n",
    "time = np.array(time)\n",
    "\n"
   ]
  },
  {
   "cell_type": "code",
   "execution_count": 145,
   "metadata": {},
   "outputs": [],
   "source": [
    "series_t=new_c0_t.values\n",
    "min_t = np.min(series_t)\n",
    "max_t = np.max(series_t)\n",
    "series_t = series_t - min_t\n",
    "series_t = series_t / (max_t-min_t)\n",
    "time_t = np.array(time_t)"
   ]
  },
  {
   "cell_type": "code",
   "execution_count": 147,
   "metadata": {},
   "outputs": [
    {
     "data": {
      "text/plain": [
       "array([[0.8, 1. , 0.4, 0.8, 0.6, 0. ]])"
      ]
     },
     "execution_count": 147,
     "metadata": {},
     "output_type": "execute_result"
    }
   ],
   "source": [
    "series_t"
   ]
  },
  {
   "cell_type": "code",
   "execution_count": 148,
   "metadata": {},
   "outputs": [],
   "source": [
    "series = series.reshape(-1,)\n",
    "series_t= np.array(series_t).reshape(-1,)\n"
   ]
  },
  {
   "cell_type": "code",
   "execution_count": 149,
   "metadata": {},
   "outputs": [
    {
     "data": {
      "text/plain": [
       "array([[0.45191023],\n",
       "       [0.51974535],\n",
       "       [0.32046133],\n",
       "       [0.45191023],\n",
       "       [0.3852777 ],\n",
       "       [0.19825503]], dtype=float32)"
      ]
     },
     "execution_count": 149,
     "metadata": {},
     "output_type": "execute_result"
    }
   ],
   "source": [
    "prediksi=model.predict(np.array(series_t))\n",
    "prediksi"
   ]
  },
  {
   "cell_type": "code",
   "execution_count": 150,
   "metadata": {},
   "outputs": [],
   "source": [
    "prediksi=prediksi.flatten()"
   ]
  },
  {
   "cell_type": "code",
   "execution_count": 154,
   "metadata": {},
   "outputs": [],
   "source": [
    "series = series*(max-min) + min\n",
    "prediksi = prediksi*(max_t-min_t)+ min_t\n",
    "series_t = series_t*(max_t-min_t) + min_t  \n",
    "hasil=np.concatenate((series,prediksi))\n",
    "asli = np.concatenate((series,series_t))\n"
   ]
  },
  {
   "cell_type": "code",
   "execution_count": 155,
   "metadata": {},
   "outputs": [
    {
     "data": {
      "text/plain": [
       "[]"
      ]
     },
     "execution_count": 155,
     "metadata": {},
     "output_type": "execute_result"
    },
    {
     "data": {
      "image/png": "[encoded data removed]",
      "text/plain": [
       "<Figure size 432x288 with 1 Axes>"
      ]
     },
     "metadata": {
      "needs_background": "light"
     },
     "output_type": "display_data"
    }
   ],
   "source": [
    "plt.plot(asli,marker = 'o',label='data asli')\n",
    "plt.plot(hasil,marker = 'o',label='data prediksi')\n",
    "plt.title('penjualan produk produk '+str(new_c0.index[0]))\n",
    "plt.legend()\n",
    "plt.plot()"
   ]
  },
  {
   "cell_type": "code",
   "execution_count": null,
   "metadata": {},
   "outputs": [],
   "source": []
  }
 ],
 "metadata": {
  "interpreter": {
   "hash": "c9d83cc02921a4738836e4c62bbe4b1fbf4384e37b2198c6e81d5aaf3defd2c8"
  },
  "kernelspec": {
   "display_name": "Python 3.8.5 ('base')",
   "language": "python",
   "name": "python3"
  },
  "language_info": {
   "codemirror_mode": {
    "name": "ipython",
    "version": 3
   },
   "file_extension": ".py",
   "mimetype": "text/x-python",
   "name": "python",
   "nbconvert_exporter": "python",
   "pygments_lexer": "ipython3",
   "version": "3.8.5"
  },
  "orig_nbformat": 4
 },
 "nbformat": 4,
 "nbformat_minor": 2
}
