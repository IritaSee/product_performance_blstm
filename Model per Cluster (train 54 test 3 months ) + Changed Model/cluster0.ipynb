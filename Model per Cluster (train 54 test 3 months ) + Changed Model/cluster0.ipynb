{
 "cells": [
  {
   "cell_type": "markdown",
   "metadata": {},
   "source": [
    "# Pemodelan Cluster 0"
   ]
  },
  {
   "cell_type": "markdown",
   "metadata": {},
   "source": [
    "Import segala pustaka (library) yang digunakan\n"
   ]
  },
  {
   "cell_type": "code",
   "execution_count": 3,
   "metadata": {},
   "outputs": [],
   "source": [
    "import tensorflow as tf #untuk mempermudah pembuatan deep learning\n",
    "import pandas as pd #mempermudah pembacaan data dengan ukuran besar (big data) dari data penjualan\n",
    "import numpy as np #mempermudah pengolahan data dari library sebelumnya\n",
    "import matplotlib.pyplot as plt #untuk mempermudah visualisasi\n",
    "from sklearn.preprocessing import MinMaxScaler #untuk menskala data sehingga mudah dibaca dan diproses deep learning"
   ]
  },
  {
   "cell_type": "markdown",
   "metadata": {},
   "source": [
    "## Pembacaan Data"
   ]
  },
  {
   "cell_type": "markdown",
   "metadata": {},
   "source": [
    "Baca dataset train"
   ]
  },
  {
   "cell_type": "code",
   "execution_count": 4,
   "metadata": {},
   "outputs": [
    {
     "data": {
      "text/html": [
       "<div>\n",
       "<style scoped>\n",
       "    .dataframe tbody tr th:only-of-type {\n",
       "        vertical-align: middle;\n",
       "    }\n",
       "\n",
       "    .dataframe tbody tr th {\n",
       "        vertical-align: top;\n",
       "    }\n",
       "\n",
       "    .dataframe thead th {\n",
       "        text-align: right;\n",
       "    }\n",
       "</style>\n",
       "<table border=\"1\" class=\"dataframe\">\n",
       "  <thead>\n",
       "    <tr style=\"text-align: right;\">\n",
       "      <th></th>\n",
       "      <th>KodeBarang</th>\n",
       "      <th>1</th>\n",
       "      <th>2</th>\n",
       "      <th>3</th>\n",
       "      <th>4</th>\n",
       "      <th>5</th>\n",
       "      <th>6</th>\n",
       "      <th>7</th>\n",
       "      <th>8</th>\n",
       "      <th>9</th>\n",
       "      <th>...</th>\n",
       "      <th>46</th>\n",
       "      <th>47</th>\n",
       "      <th>48</th>\n",
       "      <th>49</th>\n",
       "      <th>50</th>\n",
       "      <th>51</th>\n",
       "      <th>52</th>\n",
       "      <th>53</th>\n",
       "      <th>54</th>\n",
       "      <th>cluster</th>\n",
       "    </tr>\n",
       "  </thead>\n",
       "  <tbody>\n",
       "    <tr>\n",
       "      <th>0</th>\n",
       "      <td>04121</td>\n",
       "      <td>7</td>\n",
       "      <td>9</td>\n",
       "      <td>6</td>\n",
       "      <td>9</td>\n",
       "      <td>40</td>\n",
       "      <td>0</td>\n",
       "      <td>3</td>\n",
       "      <td>0</td>\n",
       "      <td>7</td>\n",
       "      <td>...</td>\n",
       "      <td>67</td>\n",
       "      <td>77</td>\n",
       "      <td>11</td>\n",
       "      <td>57</td>\n",
       "      <td>43</td>\n",
       "      <td>50</td>\n",
       "      <td>37</td>\n",
       "      <td>21</td>\n",
       "      <td>136</td>\n",
       "      <td>0</td>\n",
       "    </tr>\n",
       "    <tr>\n",
       "      <th>1</th>\n",
       "      <td>18031</td>\n",
       "      <td>230</td>\n",
       "      <td>227</td>\n",
       "      <td>279</td>\n",
       "      <td>153</td>\n",
       "      <td>190</td>\n",
       "      <td>256</td>\n",
       "      <td>267</td>\n",
       "      <td>305</td>\n",
       "      <td>238</td>\n",
       "      <td>...</td>\n",
       "      <td>336</td>\n",
       "      <td>153</td>\n",
       "      <td>103</td>\n",
       "      <td>221</td>\n",
       "      <td>360</td>\n",
       "      <td>280</td>\n",
       "      <td>240</td>\n",
       "      <td>120</td>\n",
       "      <td>548</td>\n",
       "      <td>1</td>\n",
       "    </tr>\n",
       "    <tr>\n",
       "      <th>2</th>\n",
       "      <td>04161</td>\n",
       "      <td>102</td>\n",
       "      <td>50</td>\n",
       "      <td>45</td>\n",
       "      <td>41</td>\n",
       "      <td>71</td>\n",
       "      <td>11</td>\n",
       "      <td>52</td>\n",
       "      <td>14</td>\n",
       "      <td>66</td>\n",
       "      <td>...</td>\n",
       "      <td>21</td>\n",
       "      <td>20</td>\n",
       "      <td>7</td>\n",
       "      <td>33</td>\n",
       "      <td>21</td>\n",
       "      <td>28</td>\n",
       "      <td>30</td>\n",
       "      <td>10</td>\n",
       "      <td>18</td>\n",
       "      <td>0</td>\n",
       "    </tr>\n",
       "    <tr>\n",
       "      <th>3</th>\n",
       "      <td>04162</td>\n",
       "      <td>272</td>\n",
       "      <td>155</td>\n",
       "      <td>214</td>\n",
       "      <td>226</td>\n",
       "      <td>268</td>\n",
       "      <td>110</td>\n",
       "      <td>204</td>\n",
       "      <td>253</td>\n",
       "      <td>193</td>\n",
       "      <td>...</td>\n",
       "      <td>102</td>\n",
       "      <td>118</td>\n",
       "      <td>120</td>\n",
       "      <td>211</td>\n",
       "      <td>292</td>\n",
       "      <td>105</td>\n",
       "      <td>108</td>\n",
       "      <td>101</td>\n",
       "      <td>117</td>\n",
       "      <td>1</td>\n",
       "    </tr>\n",
       "    <tr>\n",
       "      <th>4</th>\n",
       "      <td>04163</td>\n",
       "      <td>28</td>\n",
       "      <td>28</td>\n",
       "      <td>29</td>\n",
       "      <td>52</td>\n",
       "      <td>44</td>\n",
       "      <td>21</td>\n",
       "      <td>47</td>\n",
       "      <td>15</td>\n",
       "      <td>24</td>\n",
       "      <td>...</td>\n",
       "      <td>18</td>\n",
       "      <td>23</td>\n",
       "      <td>22</td>\n",
       "      <td>16</td>\n",
       "      <td>22</td>\n",
       "      <td>31</td>\n",
       "      <td>36</td>\n",
       "      <td>17</td>\n",
       "      <td>14</td>\n",
       "      <td>0</td>\n",
       "    </tr>\n",
       "    <tr>\n",
       "      <th>...</th>\n",
       "      <td>...</td>\n",
       "      <td>...</td>\n",
       "      <td>...</td>\n",
       "      <td>...</td>\n",
       "      <td>...</td>\n",
       "      <td>...</td>\n",
       "      <td>...</td>\n",
       "      <td>...</td>\n",
       "      <td>...</td>\n",
       "      <td>...</td>\n",
       "      <td>...</td>\n",
       "      <td>...</td>\n",
       "      <td>...</td>\n",
       "      <td>...</td>\n",
       "      <td>...</td>\n",
       "      <td>...</td>\n",
       "      <td>...</td>\n",
       "      <td>...</td>\n",
       "      <td>...</td>\n",
       "      <td>...</td>\n",
       "      <td>...</td>\n",
       "    </tr>\n",
       "    <tr>\n",
       "      <th>101</th>\n",
       "      <td>04157</td>\n",
       "      <td>55</td>\n",
       "      <td>64</td>\n",
       "      <td>44</td>\n",
       "      <td>61</td>\n",
       "      <td>30</td>\n",
       "      <td>1</td>\n",
       "      <td>24</td>\n",
       "      <td>37</td>\n",
       "      <td>67</td>\n",
       "      <td>...</td>\n",
       "      <td>20</td>\n",
       "      <td>10</td>\n",
       "      <td>300</td>\n",
       "      <td>34</td>\n",
       "      <td>7</td>\n",
       "      <td>7</td>\n",
       "      <td>6</td>\n",
       "      <td>4</td>\n",
       "      <td>21</td>\n",
       "      <td>0</td>\n",
       "    </tr>\n",
       "    <tr>\n",
       "      <th>102</th>\n",
       "      <td>18104</td>\n",
       "      <td>46</td>\n",
       "      <td>295</td>\n",
       "      <td>83</td>\n",
       "      <td>112</td>\n",
       "      <td>70</td>\n",
       "      <td>40</td>\n",
       "      <td>18</td>\n",
       "      <td>140</td>\n",
       "      <td>97</td>\n",
       "      <td>...</td>\n",
       "      <td>47</td>\n",
       "      <td>54</td>\n",
       "      <td>27</td>\n",
       "      <td>15</td>\n",
       "      <td>57</td>\n",
       "      <td>132</td>\n",
       "      <td>66</td>\n",
       "      <td>34</td>\n",
       "      <td>146</td>\n",
       "      <td>0</td>\n",
       "    </tr>\n",
       "    <tr>\n",
       "      <th>103</th>\n",
       "      <td>18106</td>\n",
       "      <td>200</td>\n",
       "      <td>204</td>\n",
       "      <td>0</td>\n",
       "      <td>2</td>\n",
       "      <td>10</td>\n",
       "      <td>7</td>\n",
       "      <td>0</td>\n",
       "      <td>27</td>\n",
       "      <td>74</td>\n",
       "      <td>...</td>\n",
       "      <td>15</td>\n",
       "      <td>136</td>\n",
       "      <td>15</td>\n",
       "      <td>15</td>\n",
       "      <td>14</td>\n",
       "      <td>131</td>\n",
       "      <td>84</td>\n",
       "      <td>12</td>\n",
       "      <td>14</td>\n",
       "      <td>0</td>\n",
       "    </tr>\n",
       "    <tr>\n",
       "      <th>104</th>\n",
       "      <td>18092</td>\n",
       "      <td>297</td>\n",
       "      <td>418</td>\n",
       "      <td>329</td>\n",
       "      <td>70</td>\n",
       "      <td>498</td>\n",
       "      <td>59</td>\n",
       "      <td>298</td>\n",
       "      <td>376</td>\n",
       "      <td>259</td>\n",
       "      <td>...</td>\n",
       "      <td>450</td>\n",
       "      <td>498</td>\n",
       "      <td>254</td>\n",
       "      <td>260</td>\n",
       "      <td>336</td>\n",
       "      <td>493</td>\n",
       "      <td>438</td>\n",
       "      <td>408</td>\n",
       "      <td>322</td>\n",
       "      <td>1</td>\n",
       "    </tr>\n",
       "    <tr>\n",
       "      <th>105</th>\n",
       "      <td>04143</td>\n",
       "      <td>132</td>\n",
       "      <td>80</td>\n",
       "      <td>103</td>\n",
       "      <td>113</td>\n",
       "      <td>81</td>\n",
       "      <td>108</td>\n",
       "      <td>124</td>\n",
       "      <td>101</td>\n",
       "      <td>119</td>\n",
       "      <td>...</td>\n",
       "      <td>153</td>\n",
       "      <td>130</td>\n",
       "      <td>121</td>\n",
       "      <td>189</td>\n",
       "      <td>92</td>\n",
       "      <td>226</td>\n",
       "      <td>181</td>\n",
       "      <td>112</td>\n",
       "      <td>214</td>\n",
       "      <td>1</td>\n",
       "    </tr>\n",
       "  </tbody>\n",
       "</table>\n",
       "<p>106 rows × 56 columns</p>\n",
       "</div>"
      ],
      "text/plain": [
       "    KodeBarang    1    2    3    4    5    6    7    8    9  ...   46   47  \\\n",
       "0        04121    7    9    6    9   40    0    3    0    7  ...   67   77   \n",
       "1        18031  230  227  279  153  190  256  267  305  238  ...  336  153   \n",
       "2        04161  102   50   45   41   71   11   52   14   66  ...   21   20   \n",
       "3        04162  272  155  214  226  268  110  204  253  193  ...  102  118   \n",
       "4        04163   28   28   29   52   44   21   47   15   24  ...   18   23   \n",
       "..         ...  ...  ...  ...  ...  ...  ...  ...  ...  ...  ...  ...  ...   \n",
       "101      04157   55   64   44   61   30    1   24   37   67  ...   20   10   \n",
       "102      18104   46  295   83  112   70   40   18  140   97  ...   47   54   \n",
       "103      18106  200  204    0    2   10    7    0   27   74  ...   15  136   \n",
       "104      18092  297  418  329   70  498   59  298  376  259  ...  450  498   \n",
       "105      04143  132   80  103  113   81  108  124  101  119  ...  153  130   \n",
       "\n",
       "      48   49   50   51   52   53   54  cluster  \n",
       "0     11   57   43   50   37   21  136        0  \n",
       "1    103  221  360  280  240  120  548        1  \n",
       "2      7   33   21   28   30   10   18        0  \n",
       "3    120  211  292  105  108  101  117        1  \n",
       "4     22   16   22   31   36   17   14        0  \n",
       "..   ...  ...  ...  ...  ...  ...  ...      ...  \n",
       "101  300   34    7    7    6    4   21        0  \n",
       "102   27   15   57  132   66   34  146        0  \n",
       "103   15   15   14  131   84   12   14        0  \n",
       "104  254  260  336  493  438  408  322        1  \n",
       "105  121  189   92  226  181  112  214        1  \n",
       "\n",
       "[106 rows x 56 columns]"
      ]
     },
     "execution_count": 4,
     "metadata": {},
     "output_type": "execute_result"
    }
   ],
   "source": [
    "data=pd.read_excel('../dataset_new.xlsx',sheet_name='train')\n",
    "data"
   ]
  },
  {
   "cell_type": "markdown",
   "metadata": {},
   "source": [
    "Baca dataset test"
   ]
  },
  {
   "cell_type": "code",
   "execution_count": 5,
   "metadata": {},
   "outputs": [
    {
     "data": {
      "text/html": [
       "<div>\n",
       "<style scoped>\n",
       "    .dataframe tbody tr th:only-of-type {\n",
       "        vertical-align: middle;\n",
       "    }\n",
       "\n",
       "    .dataframe tbody tr th {\n",
       "        vertical-align: top;\n",
       "    }\n",
       "\n",
       "    .dataframe thead th {\n",
       "        text-align: right;\n",
       "    }\n",
       "</style>\n",
       "<table border=\"1\" class=\"dataframe\">\n",
       "  <thead>\n",
       "    <tr style=\"text-align: right;\">\n",
       "      <th></th>\n",
       "      <th>KodeBarang</th>\n",
       "      <th>bulan 1</th>\n",
       "      <th>bulan 2</th>\n",
       "      <th>bulan 3</th>\n",
       "      <th>bulan 4</th>\n",
       "      <th>bulan 5</th>\n",
       "      <th>bulan 6</th>\n",
       "    </tr>\n",
       "  </thead>\n",
       "  <tbody>\n",
       "    <tr>\n",
       "      <th>0</th>\n",
       "      <td>04121</td>\n",
       "      <td>5</td>\n",
       "      <td>12</td>\n",
       "      <td>8</td>\n",
       "      <td>14</td>\n",
       "      <td>40</td>\n",
       "      <td>40</td>\n",
       "    </tr>\n",
       "    <tr>\n",
       "      <th>1</th>\n",
       "      <td>18031</td>\n",
       "      <td>573</td>\n",
       "      <td>340</td>\n",
       "      <td>441</td>\n",
       "      <td>270</td>\n",
       "      <td>488</td>\n",
       "      <td>240</td>\n",
       "    </tr>\n",
       "    <tr>\n",
       "      <th>2</th>\n",
       "      <td>04161</td>\n",
       "      <td>27</td>\n",
       "      <td>5</td>\n",
       "      <td>26</td>\n",
       "      <td>34</td>\n",
       "      <td>40</td>\n",
       "      <td>56</td>\n",
       "    </tr>\n",
       "    <tr>\n",
       "      <th>3</th>\n",
       "      <td>04162</td>\n",
       "      <td>162</td>\n",
       "      <td>82</td>\n",
       "      <td>72</td>\n",
       "      <td>98</td>\n",
       "      <td>126</td>\n",
       "      <td>120</td>\n",
       "    </tr>\n",
       "    <tr>\n",
       "      <th>4</th>\n",
       "      <td>04163</td>\n",
       "      <td>23</td>\n",
       "      <td>20</td>\n",
       "      <td>9</td>\n",
       "      <td>5</td>\n",
       "      <td>22</td>\n",
       "      <td>6</td>\n",
       "    </tr>\n",
       "    <tr>\n",
       "      <th>...</th>\n",
       "      <td>...</td>\n",
       "      <td>...</td>\n",
       "      <td>...</td>\n",
       "      <td>...</td>\n",
       "      <td>...</td>\n",
       "      <td>...</td>\n",
       "      <td>...</td>\n",
       "    </tr>\n",
       "    <tr>\n",
       "      <th>101</th>\n",
       "      <td>04157</td>\n",
       "      <td>138</td>\n",
       "      <td>14</td>\n",
       "      <td>12</td>\n",
       "      <td>21</td>\n",
       "      <td>25</td>\n",
       "      <td>10</td>\n",
       "    </tr>\n",
       "    <tr>\n",
       "      <th>102</th>\n",
       "      <td>18104</td>\n",
       "      <td>60</td>\n",
       "      <td>103</td>\n",
       "      <td>39</td>\n",
       "      <td>87</td>\n",
       "      <td>276</td>\n",
       "      <td>40</td>\n",
       "    </tr>\n",
       "    <tr>\n",
       "      <th>103</th>\n",
       "      <td>18106</td>\n",
       "      <td>16</td>\n",
       "      <td>7</td>\n",
       "      <td>65</td>\n",
       "      <td>24</td>\n",
       "      <td>13</td>\n",
       "      <td>27</td>\n",
       "    </tr>\n",
       "    <tr>\n",
       "      <th>104</th>\n",
       "      <td>18092</td>\n",
       "      <td>721</td>\n",
       "      <td>184</td>\n",
       "      <td>150</td>\n",
       "      <td>488</td>\n",
       "      <td>648</td>\n",
       "      <td>149</td>\n",
       "    </tr>\n",
       "    <tr>\n",
       "      <th>105</th>\n",
       "      <td>04143</td>\n",
       "      <td>164</td>\n",
       "      <td>189</td>\n",
       "      <td>187</td>\n",
       "      <td>232</td>\n",
       "      <td>219</td>\n",
       "      <td>229</td>\n",
       "    </tr>\n",
       "  </tbody>\n",
       "</table>\n",
       "<p>106 rows × 7 columns</p>\n",
       "</div>"
      ],
      "text/plain": [
       "    KodeBarang  bulan 1  bulan 2  bulan 3  bulan 4  bulan 5  bulan 6\n",
       "0        04121        5       12        8       14       40       40\n",
       "1        18031      573      340      441      270      488      240\n",
       "2        04161       27        5       26       34       40       56\n",
       "3        04162      162       82       72       98      126      120\n",
       "4        04163       23       20        9        5       22        6\n",
       "..         ...      ...      ...      ...      ...      ...      ...\n",
       "101      04157      138       14       12       21       25       10\n",
       "102      18104       60      103       39       87      276       40\n",
       "103      18106       16        7       65       24       13       27\n",
       "104      18092      721      184      150      488      648      149\n",
       "105      04143      164      189      187      232      219      229\n",
       "\n",
       "[106 rows x 7 columns]"
      ]
     },
     "execution_count": 5,
     "metadata": {},
     "output_type": "execute_result"
    }
   ],
   "source": [
    "data_test=pd.read_excel('../dataset_new.xlsx',sheet_name='test')\n",
    "data_test"
   ]
  },
  {
   "cell_type": "markdown",
   "metadata": {},
   "source": [
    "hilangkan judul kolom agar tidak terbaca deep learning"
   ]
  },
  {
   "cell_type": "code",
   "execution_count": 6,
   "metadata": {},
   "outputs": [],
   "source": [
    "data_test.drop(['bulan 4','bulan 5','bulan 6'],axis=1,inplace=True)"
   ]
  },
  {
   "cell_type": "markdown",
   "metadata": {},
   "source": [
    "Pastikan culster pada dataset sudah berupa angka"
   ]
  },
  {
   "cell_type": "code",
   "execution_count": 7,
   "metadata": {},
   "outputs": [
    {
     "data": {
      "text/html": [
       "<div>\n",
       "<style scoped>\n",
       "    .dataframe tbody tr th:only-of-type {\n",
       "        vertical-align: middle;\n",
       "    }\n",
       "\n",
       "    .dataframe tbody tr th {\n",
       "        vertical-align: top;\n",
       "    }\n",
       "\n",
       "    .dataframe thead th {\n",
       "        text-align: right;\n",
       "    }\n",
       "</style>\n",
       "<table border=\"1\" class=\"dataframe\">\n",
       "  <thead>\n",
       "    <tr style=\"text-align: right;\">\n",
       "      <th></th>\n",
       "      <th>KodeBarang</th>\n",
       "      <th>bulan 1</th>\n",
       "      <th>bulan 2</th>\n",
       "      <th>bulan 3</th>\n",
       "      <th>cluster</th>\n",
       "    </tr>\n",
       "  </thead>\n",
       "  <tbody>\n",
       "    <tr>\n",
       "      <th>0</th>\n",
       "      <td>04121</td>\n",
       "      <td>5</td>\n",
       "      <td>12</td>\n",
       "      <td>8</td>\n",
       "      <td>0</td>\n",
       "    </tr>\n",
       "    <tr>\n",
       "      <th>1</th>\n",
       "      <td>18031</td>\n",
       "      <td>573</td>\n",
       "      <td>340</td>\n",
       "      <td>441</td>\n",
       "      <td>1</td>\n",
       "    </tr>\n",
       "    <tr>\n",
       "      <th>2</th>\n",
       "      <td>04161</td>\n",
       "      <td>27</td>\n",
       "      <td>5</td>\n",
       "      <td>26</td>\n",
       "      <td>0</td>\n",
       "    </tr>\n",
       "    <tr>\n",
       "      <th>3</th>\n",
       "      <td>04162</td>\n",
       "      <td>162</td>\n",
       "      <td>82</td>\n",
       "      <td>72</td>\n",
       "      <td>1</td>\n",
       "    </tr>\n",
       "    <tr>\n",
       "      <th>4</th>\n",
       "      <td>04163</td>\n",
       "      <td>23</td>\n",
       "      <td>20</td>\n",
       "      <td>9</td>\n",
       "      <td>0</td>\n",
       "    </tr>\n",
       "    <tr>\n",
       "      <th>...</th>\n",
       "      <td>...</td>\n",
       "      <td>...</td>\n",
       "      <td>...</td>\n",
       "      <td>...</td>\n",
       "      <td>...</td>\n",
       "    </tr>\n",
       "    <tr>\n",
       "      <th>101</th>\n",
       "      <td>04157</td>\n",
       "      <td>138</td>\n",
       "      <td>14</td>\n",
       "      <td>12</td>\n",
       "      <td>0</td>\n",
       "    </tr>\n",
       "    <tr>\n",
       "      <th>102</th>\n",
       "      <td>18104</td>\n",
       "      <td>60</td>\n",
       "      <td>103</td>\n",
       "      <td>39</td>\n",
       "      <td>0</td>\n",
       "    </tr>\n",
       "    <tr>\n",
       "      <th>103</th>\n",
       "      <td>18106</td>\n",
       "      <td>16</td>\n",
       "      <td>7</td>\n",
       "      <td>65</td>\n",
       "      <td>0</td>\n",
       "    </tr>\n",
       "    <tr>\n",
       "      <th>104</th>\n",
       "      <td>18092</td>\n",
       "      <td>721</td>\n",
       "      <td>184</td>\n",
       "      <td>150</td>\n",
       "      <td>1</td>\n",
       "    </tr>\n",
       "    <tr>\n",
       "      <th>105</th>\n",
       "      <td>04143</td>\n",
       "      <td>164</td>\n",
       "      <td>189</td>\n",
       "      <td>187</td>\n",
       "      <td>1</td>\n",
       "    </tr>\n",
       "  </tbody>\n",
       "</table>\n",
       "<p>106 rows × 5 columns</p>\n",
       "</div>"
      ],
      "text/plain": [
       "    KodeBarang  bulan 1  bulan 2  bulan 3  cluster\n",
       "0        04121        5       12        8        0\n",
       "1        18031      573      340      441        1\n",
       "2        04161       27        5       26        0\n",
       "3        04162      162       82       72        1\n",
       "4        04163       23       20        9        0\n",
       "..         ...      ...      ...      ...      ...\n",
       "101      04157      138       14       12        0\n",
       "102      18104       60      103       39        0\n",
       "103      18106       16        7       65        0\n",
       "104      18092      721      184      150        1\n",
       "105      04143      164      189      187        1\n",
       "\n",
       "[106 rows x 5 columns]"
      ]
     },
     "execution_count": 7,
     "metadata": {},
     "output_type": "execute_result"
    }
   ],
   "source": [
    "data_test['cluster']=data['cluster'].astype(int)\n",
    "data_test"
   ]
  },
  {
   "cell_type": "markdown",
   "metadata": {},
   "source": [
    "Periksa ada berapa jenis cluster?"
   ]
  },
  {
   "cell_type": "code",
   "execution_count": 8,
   "metadata": {},
   "outputs": [
    {
     "data": {
      "text/plain": [
       "4"
      ]
     },
     "execution_count": 8,
     "metadata": {},
     "output_type": "execute_result"
    }
   ],
   "source": [
    "len(data['cluster'].unique())"
   ]
  },
  {
   "cell_type": "markdown",
   "metadata": {},
   "source": [
    "Ambil jumlah produk dalam cluster"
   ]
  },
  {
   "cell_type": "code",
   "execution_count": 9,
   "metadata": {},
   "outputs": [
    {
     "name": "stdout",
     "output_type": "stream",
     "text": [
      "Jumlah Produk:\n",
      "70\n",
      "Jumlah Produk:\n",
      "31\n",
      "Jumlah Produk:\n",
      "4\n",
      "Jumlah Produk:\n",
      "1\n"
     ]
    }
   ],
   "source": [
    "#now lets take clusters\n",
    "c0 = data.query(\"cluster == 0\")\n",
    "print(\"Jumlah Produk:\")\n",
    "print(c0['KodeBarang'].size)\n",
    "c1 = data.query(\"cluster == 1\")\n",
    "print(\"Jumlah Produk:\")\n",
    "print(c1['KodeBarang'].size)\n",
    "c2 = data.query(\"cluster == 2\")\n",
    "print(\"Jumlah Produk:\")\n",
    "print(c2['KodeBarang'].size)\n",
    "c3 = data.query(\"cluster == 3\")\n",
    "print(\"Jumlah Produk:\")\n",
    "print(c3['KodeBarang'].size)"
   ]
  },
  {
   "cell_type": "markdown",
   "metadata": {},
   "source": [
    "Ambil jumlah produk dalam cluster data test, dan pastikan nilainya sama dengan sebelumnya"
   ]
  },
  {
   "cell_type": "code",
   "execution_count": 10,
   "metadata": {},
   "outputs": [
    {
     "name": "stdout",
     "output_type": "stream",
     "text": [
      "Jumlah Produk:\n",
      "70\n",
      "Jumlah Produk:\n",
      "31\n",
      "Jumlah Produk:\n",
      "4\n",
      "Jumlah Produk:\n",
      "1\n"
     ]
    }
   ],
   "source": [
    "c0_t = data_test.query(\"cluster == 0\")\n",
    "print(\"Jumlah Produk:\")\n",
    "print(c0['KodeBarang'].size)\n",
    "c1_t = data_test.query(\"cluster == 1\")\n",
    "print(\"Jumlah Produk:\")\n",
    "print(c1['KodeBarang'].size)\n",
    "c2_t = data_test.query(\"cluster == 2\")\n",
    "print(\"Jumlah Produk:\")\n",
    "print(c2['KodeBarang'].size)\n",
    "c3_t = data_test.query(\"cluster == 3\")\n",
    "print(\"Jumlah Produk:\")\n",
    "print(c3['KodeBarang'].size)"
   ]
  },
  {
   "cell_type": "markdown",
   "metadata": {},
   "source": [
    "## Pembuatan model cluster 0"
   ]
  },
  {
   "cell_type": "markdown",
   "metadata": {},
   "source": [
    "Buat fungsi untuk membuat `windowed dataset`"
   ]
  },
  {
   "cell_type": "code",
   "execution_count": 11,
   "metadata": {},
   "outputs": [],
   "source": [
    "#oke ada ternyata yang cuman sendirian (1 product di cluster tersebut), kita beresin dia dulu, the easiest, dan biar keliatan kita\n",
    "#ngapain aja di time series ini\n",
    "def windowed_dataset(series, window_size, batch_size, shuffle_buffer):\n",
    "    series = tf.expand_dims(series, axis=-1)\n",
    "    ds = tf.data.Dataset.from_tensor_slices(series)\n",
    "    ds = ds.window(window_size + 1, shift=1, drop_remainder=True)\n",
    "    ds = ds.flat_map(lambda w: w.batch(window_size + 1))\n",
    "    ds = ds.shuffle(shuffle_buffer)\n",
    "    ds = ds.map(lambda w: (w[:-1], w[1:]))\n",
    "    return ds.batch(batch_size).prefetch(1)\n",
    "# ini fungsinya buat nge ubah dataset jadi windowed"
   ]
  },
  {
   "cell_type": "markdown",
   "metadata": {},
   "source": [
    "ubah tipe data dari kode barang menjadi nilai angka"
   ]
  },
  {
   "cell_type": "code",
   "execution_count": 12,
   "metadata": {},
   "outputs": [],
   "source": [
    "col = c0.KodeBarang.values"
   ]
  },
  {
   "cell_type": "code",
   "execution_count": 13,
   "metadata": {},
   "outputs": [],
   "source": [
    "#next kita ubah bentuk data nya dari yang tadinya kesamping jadi ke bawah, tapi pertama mau aku drop dulu cluster sama kode produknya\n",
    "c0=c0.drop(columns=['KodeBarang','cluster'])\n",
    "c0_t = c0_t.drop(columns=['KodeBarang','cluster'])"
   ]
  },
  {
   "cell_type": "markdown",
   "metadata": {},
   "source": [
    "Plot per produk cluster 0\n",
    "Kenapa? Karena kita ingin melihat mana produk yang sekiranya outlier, apakah sebagian besar mengikuti sebuah pola, dll"
   ]
  },
  {
   "cell_type": "code",
   "execution_count": 14,
   "metadata": {},
   "outputs": [
    {
     "data": {
      "text/plain": [
       "<AxesSubplot:>"
      ]
     },
     "execution_count": 14,
     "metadata": {},
     "output_type": "execute_result"
    },
    {
     "data": {
      "image/png": "[encoded data removed]",
      "text/plain": [
       "<Figure size 432x288 with 1 Axes>"
      ]
     },
     "metadata": {
      "needs_background": "light"
     },
     "output_type": "display_data"
    }
   ],
   "source": [
    "c0.set_index(col,inplace=True)\n",
    "c0.T.plot()"
   ]
  },
  {
   "cell_type": "code",
   "execution_count": 15,
   "metadata": {},
   "outputs": [],
   "source": [
    "#Ambil satu sample dari cluster 0\n",
    "# c0 = c0.sample()"
   ]
  },
  {
   "cell_type": "code",
   "execution_count": 16,
   "metadata": {},
   "outputs": [],
   "source": [
    "#014115 hasilnya nyaris bagus\n",
    "# c0"
   ]
  },
  {
   "cell_type": "code",
   "execution_count": 17,
   "metadata": {},
   "outputs": [],
   "source": [
    "# c0.T.plot()"
   ]
  },
  {
   "cell_type": "code",
   "execution_count": 18,
   "metadata": {},
   "outputs": [],
   "source": [
    "#next, buat dia kayak berbentuk time series seperti biasanya, which is datanya ke bawah, tapi di average per tanggal \n",
    "new_c0=[]\n",
    "time=[]\n",
    "\n",
    "for idx,a in enumerate(c0):\n",
    "    new_c0.append(c0[a].mean())\n",
    "    time.append(idx)\n"
   ]
  },
  {
   "cell_type": "code",
   "execution_count": 19,
   "metadata": {},
   "outputs": [],
   "source": [
    "#sama aja kayak di atas cuman data test\n",
    "new_c0_t=[]\n",
    "time_t=[]\n",
    "i = 55\n",
    "for idx,a in enumerate(c0_t):\n",
    "    new_c0_t.append(c0_t[a].mean())\n",
    "    time_t.append(i)\n",
    "    i+=1"
   ]
  },
  {
   "cell_type": "code",
   "execution_count": 20,
   "metadata": {},
   "outputs": [
    {
     "data": {
      "text/plain": [
       "[28.571428571428573, 28.15714285714286, 27.728571428571428]"
      ]
     },
     "execution_count": 20,
     "metadata": {},
     "output_type": "execute_result"
    }
   ],
   "source": [
    "#cek isi data test nya\n",
    "new_c0_t"
   ]
  },
  {
   "cell_type": "code",
   "execution_count": 21,
   "metadata": {},
   "outputs": [],
   "source": [
    "#normalisasi, karena gap nya ada yang sampe ribuan, biar lebih gampang tugas ann nya\n",
    "series=new_c0\n",
    "min = np.min(series)\n",
    "max = np.max(series)\n",
    "series = series - min\n",
    "series = series / (max-min)\n",
    "time = np.array(time)"
   ]
  },
  {
   "cell_type": "code",
   "execution_count": 22,
   "metadata": {},
   "outputs": [],
   "source": [
    "#sama aja cuman isi data test\n",
    "series_t=new_c0_t\n",
    "min = np.min(series_t)\n",
    "max = np.max(series_t)\n",
    "series_t = series_t - min\n",
    "series_t = series_t / (max-min)\n",
    "time_t = np.array(time_t)"
   ]
  },
  {
   "cell_type": "code",
   "execution_count": 23,
   "metadata": {},
   "outputs": [
    {
     "data": {
      "text/plain": [
       "array([1.        , 0.50847458, 0.        ])"
      ]
     },
     "execution_count": 23,
     "metadata": {},
     "output_type": "execute_result"
    }
   ],
   "source": [
    "#cek isi data test nya yang udah di normalisasi\n",
    "series_t"
   ]
  },
  {
   "cell_type": "code",
   "execution_count": 24,
   "metadata": {},
   "outputs": [],
   "source": [
    "#time splitting, jadi data train dan test keduanya dapet waktu yang pas, gak kepanjangan atau kependekan sebelah\n",
    "\n",
    "split_time = 3 # ini berapa bulan terkahir yang mau di potong buat pengujian?\n",
    "\n",
    "time_train = time\n",
    "x_train =  series\n",
    "time_valid =  time_t\n",
    "x_valid =  series_t"
   ]
  },
  {
   "cell_type": "code",
   "execution_count": 25,
   "metadata": {},
   "outputs": [
    {
     "data": {
      "text/plain": [
       "(54,)"
      ]
     },
     "execution_count": 25,
     "metadata": {},
     "output_type": "execute_result"
    }
   ],
   "source": [
    "#Cek inputan dari data train itu udah sesuai belum? Ini menunjukkan berapa bulan yang di train\n",
    "x_train.shape"
   ]
  },
  {
   "cell_type": "code",
   "execution_count": 26,
   "metadata": {},
   "outputs": [
    {
     "data": {
      "text/plain": [
       "(3,)"
      ]
     },
     "execution_count": 26,
     "metadata": {},
     "output_type": "execute_result"
    }
   ],
   "source": [
    "#sama cuman data test\n",
    "x_valid.shape"
   ]
  },
  {
   "cell_type": "code",
   "execution_count": 27,
   "metadata": {},
   "outputs": [],
   "source": [
    "#buat data biar dibagi per window, jadi me masang masangkan waktu dan value,\n",
    "window_size = 2\n",
    "batch_size = 2\n",
    "shuffle_buffer_size = 10\n",
    "\n",
    "train_set = windowed_dataset(x_train, window_size, batch_size, shuffle_buffer_size)\n",
    "valid_set = windowed_dataset(x_valid, window_size, batch_size, shuffle_buffer_size)"
   ]
  },
  {
   "cell_type": "code",
   "execution_count": 28,
   "metadata": {},
   "outputs": [
    {
     "data": {
      "text/plain": [
       "<PrefetchDataset shapes: ((None, None, 1), (None, None, 1)), types: (tf.float64, tf.float64)>"
      ]
     },
     "execution_count": 28,
     "metadata": {},
     "output_type": "execute_result"
    }
   ],
   "source": [
    "#cek isi train set\n",
    "train_set"
   ]
  },
  {
   "cell_type": "code",
   "execution_count": 29,
   "metadata": {},
   "outputs": [
    {
     "data": {
      "text/plain": [
       "<PrefetchDataset shapes: ((None, None, 1), (None, None, 1)), types: (tf.float64, tf.float64)>"
      ]
     },
     "execution_count": 29,
     "metadata": {},
     "output_type": "execute_result"
    }
   ],
   "source": [
    "#sama, cuman set validasi, pastikan keduanya sama\n",
    "valid_set"
   ]
  },
  {
   "cell_type": "markdown",
   "metadata": {},
   "source": [
    "Deklarasi Early Stopping sebagai fungsi callback\n",
    "\n",
    "Callback itu adalah sebuah fungsi yang di panggil (lalu fungsi itu melakukan pemeriksaan) setiap selesa 1 epoch\n",
    "fungsinya adalah untuk melakukan pemeriksaan dan tindakan kalo sesuatu hal terjadi setelah training.\n",
    "Penerapannya macam macam, ada yang untuk men save model setiap 5 epochs (checkpoint), ada memeriksa perubahan akurasi, dll\n",
    "\n",
    "Nah sekarang kita pakai early stopping, yang berfungsi kalau dalam sekian epochs (`patience`) gak ada perubahan, dan perubahan loss dibawah nilai `min_delta` yang kita inginkan (inget ya perubahan itu mutlak),,, kita bakal hentikan proses training... dan menyimpan hasil terbaik"
   ]
  },
  {
   "cell_type": "code",
   "execution_count": 30,
   "metadata": {},
   "outputs": [],
   "source": [
    "\n",
    "\n",
    "from keras.callbacks import  EarlyStopping\n",
    "callbacks = EarlyStopping(\n",
    "    min_delta=0.0001,\n",
    "    \n",
    "    patience=7,\n",
    "    restore_best_weights=True,\n",
    ")"
   ]
  },
  {
   "cell_type": "markdown",
   "metadata": {},
   "source": [
    "Penyusunan deep learning nya\n",
    "\n",
    "Kita Menggunakan BLSTM atau *Bidirectional Long Short Term Memory*. BLSTM adalah proses pembuatan jaringan syaraf tiruan untuk memiliki urutan informasi dalam kedua arah mundur (masa depan ke masa lalu) atau maju (masa lalu ke masa depan).\n",
    "\n",
    "\n",
    "kalo ini pake BLSTM dengan input layer sebanyak 2 neuron, BLSTM layer ada dua, yang pertama ada 64 neuron, terus yang kedua ada 32 neuron, dibuat mengkerucut (segitiga terbalik) seolah kita menyederhanakan data datanya, jadi kan makin dalem makin sedikit tuh, karena ada yang ga kepake kepake buat menentukan sales nya dan lain lain, \n",
    "\n",
    "terus setiap selesai masuk BLSTM layer, ada dropout, itu tuh untuk mengeliminasi secara random (di case ini 50%) sambungan antara neuron, dan nge \"matiin\" neuronnya itu juga, mensimulasi degradasi neuron dan sambungannya saat kita tidur, alias proses mengubah ingatan jadi jangka menengah ke panjang dari apa yang kita dapatkan pada hari itu. "
   ]
  },
  {
   "cell_type": "code",
   "execution_count": 31,
   "metadata": {},
   "outputs": [],
   "source": [
    "model = tf.keras.Sequential([\n",
    "        tf.keras.layers.Dense(2, input_shape=[None, 1]),\n",
    "        tf.keras.layers.Bidirectional(tf.keras.layers.LSTM(64,return_sequences=True)),\n",
    "        tf.keras.layers.Dropout(0.5),\n",
    "        tf.keras.layers.Bidirectional(tf.keras.layers.LSTM(32)),\n",
    "        tf.keras.layers.Dropout(0.5),\n",
    "        \n",
    "        tf.keras.layers.Dense(1),\n",
    "    ])\n",
    "\n",
    "    #the blstm part"
   ]
  },
  {
   "cell_type": "code",
   "execution_count": 32,
   "metadata": {},
   "outputs": [],
   "source": [
    "# The model below has successfully achieved a validation mse of 0.04 and it can predict almost perfectly.\n",
    "# model = tf.keras.Sequential([\n",
    "#         tf.keras.layers.Dense(2, input_shape=[None, 1]),\n",
    "#         tf.keras.layers.Bidirectional(tf.keras.layers.GRU(80,return_sequences=True)),\n",
    "#         tf.keras.layers.Bidirectional(tf.keras.layers.GRU(100)), #tadi 64 hampir berhasil\n",
    "        \n",
    "#         tf.keras.layers.Flatten(),\n",
    "#         tf.keras.layers.Dense(1024, activation='relu'),\n",
    "#         tf.keras.layers.Dropout(0.5),\n",
    "#         # tf.keras.layers.Dense(512, activation='relu',kernel_regularizer=tf.keras.regularizers.l1(l1=0.01)),\n",
    "#         # tf.keras.layers.Dense(64, activation='relu',kernel_regularizer=tf.keras.regularizers.l1_l2(l1=0.01, l2=0.01)),\n",
    "#         # tf.keras.layers.Dense(32, activation='relu'),\n",
    "#         # tf.keras.layers.Dropout(0.3),\n",
    "#         tf.keras.layers.Dense(1, activation='relu')\n",
    "#     ])"
   ]
  },
  {
   "cell_type": "code",
   "execution_count": 33,
   "metadata": {},
   "outputs": [
    {
     "name": "stdout",
     "output_type": "stream",
     "text": [
      "Model: \"sequential\"\n",
      "_________________________________________________________________\n",
      "Layer (type)                 Output Shape              Param #   \n",
      "=================================================================\n",
      "dense (Dense)                (None, None, 2)           4         \n",
      "_________________________________________________________________\n",
      "bidirectional (Bidirectional (None, None, 128)         34304     \n",
      "_________________________________________________________________\n",
      "dropout (Dropout)            (None, None, 128)         0         \n",
      "_________________________________________________________________\n",
      "bidirectional_1 (Bidirection (None, 64)                41216     \n",
      "_________________________________________________________________\n",
      "dropout_1 (Dropout)          (None, 64)                0         \n",
      "_________________________________________________________________\n",
      "dense_1 (Dense)              (None, 1)                 65        \n",
      "=================================================================\n",
      "Total params: 75,589\n",
      "Trainable params: 75,589\n",
      "Non-trainable params: 0\n",
      "_________________________________________________________________\n",
      "Epoch 1/150\n",
      "26/26 [==============================] - 15s 132ms/step - loss: 0.1305 - mae: 0.2931 - val_loss: 0.0683 - val_mae: 0.2542\n",
      "Epoch 2/150\n",
      "26/26 [==============================] - 0s 7ms/step - loss: 0.0432 - mae: 0.1563 - val_loss: 0.1285 - val_mae: 0.2542\n",
      "Epoch 3/150\n",
      "26/26 [==============================] - 0s 7ms/step - loss: 0.0265 - mae: 0.1307 - val_loss: 0.1390 - val_mae: 0.2727\n",
      "Epoch 4/150\n",
      "26/26 [==============================] - 0s 7ms/step - loss: 0.0282 - mae: 0.1318 - val_loss: 0.1226 - val_mae: 0.2542\n",
      "Epoch 5/150\n",
      "26/26 [==============================] - 0s 6ms/step - loss: 0.0283 - mae: 0.1317 - val_loss: 0.1534 - val_mae: 0.2980\n",
      "Epoch 6/150\n",
      "26/26 [==============================] - 0s 6ms/step - loss: 0.0255 - mae: 0.1226 - val_loss: 0.1461 - val_mae: 0.2854\n",
      "Epoch 7/150\n",
      "26/26 [==============================] - 0s 6ms/step - loss: 0.0239 - mae: 0.1227 - val_loss: 0.1757 - val_mae: 0.3332\n",
      "Epoch 8/150\n",
      "26/26 [==============================] - 0s 6ms/step - loss: 0.0245 - mae: 0.1254 - val_loss: 0.1878 - val_mae: 0.3510\n",
      "Epoch 9/150\n",
      "26/26 [==============================] - 0s 7ms/step - loss: 0.0223 - mae: 0.1141 - val_loss: 0.2096 - val_mae: 0.3807\n",
      "Epoch 10/150\n",
      "26/26 [==============================] - 0s 7ms/step - loss: 0.0237 - mae: 0.1186 - val_loss: 0.2179 - val_mae: 0.3915\n",
      "Epoch 11/150\n",
      "26/26 [==============================] - 0s 7ms/step - loss: 0.0217 - mae: 0.1198 - val_loss: 0.1643 - val_mae: 0.3158\n",
      "Epoch 12/150\n",
      "26/26 [==============================] - 0s 7ms/step - loss: 0.0226 - mae: 0.1139 - val_loss: 0.1689 - val_mae: 0.3229\n",
      "Epoch 13/150\n",
      "26/26 [==============================] - 0s 7ms/step - loss: 0.0269 - mae: 0.1247 - val_loss: 0.2111 - val_mae: 0.3827\n",
      "Epoch 14/150\n",
      "26/26 [==============================] - 0s 7ms/step - loss: 0.0211 - mae: 0.1093 - val_loss: 0.2355 - val_mae: 0.4134\n",
      "Epoch 15/150\n",
      "26/26 [==============================] - 0s 6ms/step - loss: 0.0200 - mae: 0.1085 - val_loss: 0.1770 - val_mae: 0.3353\n",
      "Epoch 16/150\n",
      "26/26 [==============================] - 0s 7ms/step - loss: 0.0195 - mae: 0.1074 - val_loss: 0.1715 - val_mae: 0.3268\n",
      "Epoch 17/150\n",
      "26/26 [==============================] - 0s 7ms/step - loss: 0.0243 - mae: 0.1214 - val_loss: 0.2182 - val_mae: 0.3919\n",
      "Epoch 18/150\n",
      "26/26 [==============================] - 0s 7ms/step - loss: 0.0219 - mae: 0.1155 - val_loss: 0.1723 - val_mae: 0.3281\n",
      "Epoch 19/150\n",
      "26/26 [==============================] - 0s 6ms/step - loss: 0.0203 - mae: 0.1108 - val_loss: 0.1810 - val_mae: 0.3411\n",
      "Epoch 20/150\n",
      "26/26 [==============================] - 0s 7ms/step - loss: 0.0244 - mae: 0.1131 - val_loss: 0.2226 - val_mae: 0.3975\n",
      "Epoch 21/150\n",
      "26/26 [==============================] - 0s 7ms/step - loss: 0.0195 - mae: 0.1085 - val_loss: 0.1835 - val_mae: 0.3448\n",
      "Epoch 22/150\n",
      "26/26 [==============================] - 0s 7ms/step - loss: 0.0194 - mae: 0.1030 - val_loss: 0.1924 - val_mae: 0.3575\n",
      "Epoch 23/150\n",
      "26/26 [==============================] - 0s 6ms/step - loss: 0.0203 - mae: 0.1098 - val_loss: 0.1954 - val_mae: 0.3616\n",
      "Epoch 24/150\n",
      "26/26 [==============================] - 0s 7ms/step - loss: 0.0170 - mae: 0.0978 - val_loss: 0.2035 - val_mae: 0.3726\n",
      "Epoch 25/150\n",
      "26/26 [==============================] - 0s 7ms/step - loss: 0.0207 - mae: 0.1085 - val_loss: 0.2057 - val_mae: 0.3756\n",
      "Epoch 26/150\n",
      "26/26 [==============================] - 0s 6ms/step - loss: 0.0188 - mae: 0.1047 - val_loss: 0.2368 - val_mae: 0.4149\n",
      "Epoch 27/150\n",
      "26/26 [==============================] - 0s 6ms/step - loss: 0.0179 - mae: 0.0992 - val_loss: 0.1840 - val_mae: 0.3455\n",
      "Epoch 28/150\n",
      "26/26 [==============================] - 0s 6ms/step - loss: 0.0185 - mae: 0.1068 - val_loss: 0.1610 - val_mae: 0.3104\n",
      "Epoch 29/150\n",
      "26/26 [==============================] - 0s 7ms/step - loss: 0.0207 - mae: 0.1086 - val_loss: 0.2077 - val_mae: 0.3783\n",
      "Epoch 30/150\n",
      "26/26 [==============================] - 0s 7ms/step - loss: 0.0185 - mae: 0.1012 - val_loss: 0.1875 - val_mae: 0.3505\n",
      "Epoch 31/150\n",
      "26/26 [==============================] - 0s 7ms/step - loss: 0.0201 - mae: 0.1110 - val_loss: 0.2156 - val_mae: 0.3885\n",
      "Epoch 32/150\n",
      "26/26 [==============================] - 0s 7ms/step - loss: 0.0171 - mae: 0.0991 - val_loss: 0.1825 - val_mae: 0.3433\n",
      "Epoch 33/150\n",
      "26/26 [==============================] - 0s 6ms/step - loss: 0.0190 - mae: 0.1026 - val_loss: 0.1971 - val_mae: 0.3640\n",
      "Epoch 34/150\n",
      "26/26 [==============================] - 0s 6ms/step - loss: 0.0186 - mae: 0.1044 - val_loss: 0.1670 - val_mae: 0.3199\n",
      "Epoch 35/150\n",
      "26/26 [==============================] - 0s 6ms/step - loss: 0.0166 - mae: 0.0988 - val_loss: 0.1855 - val_mae: 0.3476\n",
      "Epoch 36/150\n",
      "26/26 [==============================] - 0s 7ms/step - loss: 0.0165 - mae: 0.0948 - val_loss: 0.2079 - val_mae: 0.3785\n",
      "Epoch 37/150\n",
      "26/26 [==============================] - 0s 7ms/step - loss: 0.0161 - mae: 0.0949 - val_loss: 0.1634 - val_mae: 0.3143\n",
      "Epoch 38/150\n",
      "26/26 [==============================] - 0s 7ms/step - loss: 0.0187 - mae: 0.1050 - val_loss: 0.2073 - val_mae: 0.3777\n",
      "Epoch 39/150\n",
      "26/26 [==============================] - 0s 7ms/step - loss: 0.0190 - mae: 0.1036 - val_loss: 0.1755 - val_mae: 0.3329\n",
      "Epoch 40/150\n",
      "26/26 [==============================] - 0s 8ms/step - loss: 0.0161 - mae: 0.0965 - val_loss: 0.2387 - val_mae: 0.4172\n",
      "Epoch 41/150\n",
      "26/26 [==============================] - 0s 8ms/step - loss: 0.0152 - mae: 0.0953 - val_loss: 0.1558 - val_mae: 0.3019\n",
      "Epoch 42/150\n",
      "26/26 [==============================] - 0s 8ms/step - loss: 0.0173 - mae: 0.1038 - val_loss: 0.1628 - val_mae: 0.3133\n",
      "Epoch 43/150\n",
      "26/26 [==============================] - 0s 8ms/step - loss: 0.0196 - mae: 0.1053 - val_loss: 0.1460 - val_mae: 0.2853\n",
      "Epoch 44/150\n",
      "26/26 [==============================] - 0s 8ms/step - loss: 0.0226 - mae: 0.1126 - val_loss: 0.1682 - val_mae: 0.3218\n",
      "Epoch 45/150\n",
      "26/26 [==============================] - 0s 7ms/step - loss: 0.0179 - mae: 0.1053 - val_loss: 0.1696 - val_mae: 0.3239\n",
      "Epoch 46/150\n",
      "26/26 [==============================] - 0s 6ms/step - loss: 0.0163 - mae: 0.0964 - val_loss: 0.1578 - val_mae: 0.3052\n",
      "Epoch 47/150\n",
      "26/26 [==============================] - 0s 6ms/step - loss: 0.0168 - mae: 0.0941 - val_loss: 0.1739 - val_mae: 0.3305\n",
      "Epoch 48/150\n",
      "26/26 [==============================] - 0s 6ms/step - loss: 0.0182 - mae: 0.0995 - val_loss: 0.1565 - val_mae: 0.3030\n",
      "Epoch 49/150\n",
      "26/26 [==============================] - 0s 5ms/step - loss: 0.0181 - mae: 0.0997 - val_loss: 0.1653 - val_mae: 0.3173\n",
      "Epoch 50/150\n",
      "26/26 [==============================] - 0s 6ms/step - loss: 0.0192 - mae: 0.1054 - val_loss: 0.1360 - val_mae: 0.2672\n",
      "Epoch 51/150\n",
      "26/26 [==============================] - 0s 6ms/step - loss: 0.0212 - mae: 0.1103 - val_loss: 0.1877 - val_mae: 0.3509\n",
      "Epoch 52/150\n",
      "26/26 [==============================] - 0s 7ms/step - loss: 0.0173 - mae: 0.0983 - val_loss: 0.1779 - val_mae: 0.3366\n",
      "Epoch 53/150\n",
      "26/26 [==============================] - 0s 5ms/step - loss: 0.0199 - mae: 0.1040 - val_loss: 0.1849 - val_mae: 0.3469\n",
      "Epoch 54/150\n",
      "26/26 [==============================] - 0s 5ms/step - loss: 0.0171 - mae: 0.0960 - val_loss: 0.1872 - val_mae: 0.3501\n",
      "Epoch 55/150\n",
      "26/26 [==============================] - 0s 5ms/step - loss: 0.0180 - mae: 0.0968 - val_loss: 0.1720 - val_mae: 0.3277\n",
      "Epoch 56/150\n",
      "26/26 [==============================] - 0s 5ms/step - loss: 0.0213 - mae: 0.1050 - val_loss: 0.1397 - val_mae: 0.2740\n",
      "Epoch 57/150\n",
      "26/26 [==============================] - 0s 6ms/step - loss: 0.0187 - mae: 0.1063 - val_loss: 0.1686 - val_mae: 0.3224\n",
      "Epoch 58/150\n",
      "26/26 [==============================] - 0s 6ms/step - loss: 0.0188 - mae: 0.1021 - val_loss: 0.2024 - val_mae: 0.3712\n",
      "Epoch 59/150\n",
      "26/26 [==============================] - 0s 6ms/step - loss: 0.0175 - mae: 0.0973 - val_loss: 0.1580 - val_mae: 0.3055\n",
      "Epoch 60/150\n",
      "26/26 [==============================] - 0s 6ms/step - loss: 0.0185 - mae: 0.1033 - val_loss: 0.1395 - val_mae: 0.2736\n",
      "Epoch 61/150\n",
      "26/26 [==============================] - 0s 6ms/step - loss: 0.0192 - mae: 0.1088 - val_loss: 0.1837 - val_mae: 0.3451\n",
      "Epoch 62/150\n",
      "26/26 [==============================] - 0s 6ms/step - loss: 0.0174 - mae: 0.0951 - val_loss: 0.1795 - val_mae: 0.3389\n",
      "Epoch 63/150\n",
      "26/26 [==============================] - 0s 6ms/step - loss: 0.0163 - mae: 0.0943 - val_loss: 0.1453 - val_mae: 0.2841\n",
      "Epoch 64/150\n",
      "26/26 [==============================] - 0s 6ms/step - loss: 0.0198 - mae: 0.1063 - val_loss: 0.1561 - val_mae: 0.3025\n",
      "Epoch 65/150\n",
      "26/26 [==============================] - 0s 6ms/step - loss: 0.0192 - mae: 0.1074 - val_loss: 0.1920 - val_mae: 0.3569\n",
      "Epoch 66/150\n",
      "26/26 [==============================] - 0s 6ms/step - loss: 0.0187 - mae: 0.0969 - val_loss: 0.1596 - val_mae: 0.3082\n",
      "Epoch 67/150\n",
      "26/26 [==============================] - 0s 7ms/step - loss: 0.0163 - mae: 0.0996 - val_loss: 0.1620 - val_mae: 0.3120\n",
      "Epoch 68/150\n",
      "26/26 [==============================] - 0s 6ms/step - loss: 0.0207 - mae: 0.1035 - val_loss: 0.1660 - val_mae: 0.3184\n",
      "Epoch 69/150\n",
      "26/26 [==============================] - 0s 6ms/step - loss: 0.0153 - mae: 0.0894 - val_loss: 0.1484 - val_mae: 0.2894\n",
      "Epoch 70/150\n",
      "26/26 [==============================] - 0s 7ms/step - loss: 0.0184 - mae: 0.0986 - val_loss: 0.1479 - val_mae: 0.2885\n",
      "Epoch 71/150\n",
      "26/26 [==============================] - 0s 6ms/step - loss: 0.0184 - mae: 0.1055 - val_loss: 0.1787 - val_mae: 0.3378\n",
      "Epoch 72/150\n",
      "26/26 [==============================] - 0s 6ms/step - loss: 0.0159 - mae: 0.0914 - val_loss: 0.1713 - val_mae: 0.3266\n",
      "Epoch 73/150\n",
      "26/26 [==============================] - 0s 6ms/step - loss: 0.0176 - mae: 0.0928 - val_loss: 0.1354 - val_mae: 0.2661\n",
      "Epoch 74/150\n",
      "26/26 [==============================] - 0s 6ms/step - loss: 0.0198 - mae: 0.1044 - val_loss: 0.1543 - val_mae: 0.2994\n",
      "Epoch 75/150\n",
      "26/26 [==============================] - 0s 6ms/step - loss: 0.0178 - mae: 0.1011 - val_loss: 0.1827 - val_mae: 0.3436\n",
      "Epoch 76/150\n",
      "26/26 [==============================] - 0s 6ms/step - loss: 0.0157 - mae: 0.0924 - val_loss: 0.1600 - val_mae: 0.3089\n",
      "Epoch 77/150\n",
      "26/26 [==============================] - 0s 6ms/step - loss: 0.0169 - mae: 0.0960 - val_loss: 0.1588 - val_mae: 0.3069\n",
      "Epoch 78/150\n",
      "26/26 [==============================] - 0s 6ms/step - loss: 0.0174 - mae: 0.0983 - val_loss: 0.1529 - val_mae: 0.2971\n",
      "Epoch 79/150\n",
      "26/26 [==============================] - 0s 6ms/step - loss: 0.0160 - mae: 0.0933 - val_loss: 0.1482 - val_mae: 0.2890\n",
      "Epoch 80/150\n",
      "26/26 [==============================] - 0s 6ms/step - loss: 0.0185 - mae: 0.0977 - val_loss: 0.1650 - val_mae: 0.3168\n",
      "Epoch 81/150\n",
      "26/26 [==============================] - 0s 6ms/step - loss: 0.0151 - mae: 0.0942 - val_loss: 0.1576 - val_mae: 0.3049\n",
      "Epoch 82/150\n",
      "26/26 [==============================] - 0s 6ms/step - loss: 0.0169 - mae: 0.0970 - val_loss: 0.1638 - val_mae: 0.3149\n",
      "Epoch 83/150\n",
      "26/26 [==============================] - 0s 7ms/step - loss: 0.0194 - mae: 0.1018 - val_loss: 0.1601 - val_mae: 0.3089\n",
      "Epoch 84/150\n",
      "26/26 [==============================] - 0s 6ms/step - loss: 0.0183 - mae: 0.0995 - val_loss: 0.1519 - val_mae: 0.2955\n",
      "Epoch 85/150\n",
      "26/26 [==============================] - 0s 6ms/step - loss: 0.0181 - mae: 0.1006 - val_loss: 0.1376 - val_mae: 0.2702\n",
      "Epoch 86/150\n",
      "26/26 [==============================] - 0s 7ms/step - loss: 0.0180 - mae: 0.0975 - val_loss: 0.1689 - val_mae: 0.3228\n",
      "Epoch 87/150\n",
      "26/26 [==============================] - 0s 6ms/step - loss: 0.0160 - mae: 0.0902 - val_loss: 0.1568 - val_mae: 0.3036\n",
      "Epoch 88/150\n",
      "26/26 [==============================] - 0s 7ms/step - loss: 0.0177 - mae: 0.1018 - val_loss: 0.1397 - val_mae: 0.2739\n",
      "Epoch 89/150\n",
      "26/26 [==============================] - 0s 6ms/step - loss: 0.0171 - mae: 0.0922 - val_loss: 0.1649 - val_mae: 0.3166\n",
      "Epoch 90/150\n",
      "26/26 [==============================] - 0s 7ms/step - loss: 0.0160 - mae: 0.0936 - val_loss: 0.1433 - val_mae: 0.2804\n",
      "Epoch 91/150\n",
      "26/26 [==============================] - 0s 7ms/step - loss: 0.0186 - mae: 0.0979 - val_loss: 0.1619 - val_mae: 0.3118\n",
      "Epoch 92/150\n",
      "26/26 [==============================] - 0s 7ms/step - loss: 0.0162 - mae: 0.0955 - val_loss: 0.1480 - val_mae: 0.2888\n",
      "Epoch 93/150\n",
      "26/26 [==============================] - 0s 7ms/step - loss: 0.0183 - mae: 0.1005 - val_loss: 0.1458 - val_mae: 0.2849\n",
      "Epoch 94/150\n",
      "26/26 [==============================] - 0s 6ms/step - loss: 0.0170 - mae: 0.0978 - val_loss: 0.1643 - val_mae: 0.3157\n",
      "Epoch 95/150\n",
      "26/26 [==============================] - 0s 6ms/step - loss: 0.0178 - mae: 0.0986 - val_loss: 0.1570 - val_mae: 0.3039\n",
      "Epoch 96/150\n",
      "26/26 [==============================] - 0s 6ms/step - loss: 0.0178 - mae: 0.0972 - val_loss: 0.1559 - val_mae: 0.3021\n",
      "Epoch 97/150\n",
      "26/26 [==============================] - 0s 7ms/step - loss: 0.0196 - mae: 0.0988 - val_loss: 0.1665 - val_mae: 0.3191\n",
      "Epoch 98/150\n",
      "26/26 [==============================] - 0s 6ms/step - loss: 0.0144 - mae: 0.0882 - val_loss: 0.1448 - val_mae: 0.2831\n",
      "Epoch 99/150\n",
      "26/26 [==============================] - 0s 6ms/step - loss: 0.0174 - mae: 0.0989 - val_loss: 0.1676 - val_mae: 0.3208\n",
      "Epoch 100/150\n",
      "26/26 [==============================] - 0s 6ms/step - loss: 0.0160 - mae: 0.0905 - val_loss: 0.1515 - val_mae: 0.2946\n",
      "Epoch 101/150\n",
      "26/26 [==============================] - 0s 7ms/step - loss: 0.0159 - mae: 0.0938 - val_loss: 0.1490 - val_mae: 0.2904\n",
      "Epoch 102/150\n",
      "26/26 [==============================] - 0s 6ms/step - loss: 0.0177 - mae: 0.0932 - val_loss: 0.1682 - val_mae: 0.3218\n",
      "Epoch 103/150\n",
      "26/26 [==============================] - 0s 6ms/step - loss: 0.0178 - mae: 0.0965 - val_loss: 0.1721 - val_mae: 0.3278\n",
      "Epoch 104/150\n",
      "26/26 [==============================] - 0s 6ms/step - loss: 0.0160 - mae: 0.0949 - val_loss: 0.1255 - val_mae: 0.2542\n",
      "Epoch 105/150\n",
      "26/26 [==============================] - 0s 6ms/step - loss: 0.0175 - mae: 0.0991 - val_loss: 0.1479 - val_mae: 0.2886\n",
      "Epoch 106/150\n",
      "26/26 [==============================] - 0s 7ms/step - loss: 0.0157 - mae: 0.0916 - val_loss: 0.1759 - val_mae: 0.3335\n",
      "Epoch 107/150\n",
      "26/26 [==============================] - 0s 7ms/step - loss: 0.0149 - mae: 0.0917 - val_loss: 0.1321 - val_mae: 0.2597\n",
      "Epoch 108/150\n",
      "26/26 [==============================] - 0s 6ms/step - loss: 0.0174 - mae: 0.0957 - val_loss: 0.1273 - val_mae: 0.2542\n",
      "Epoch 109/150\n",
      "26/26 [==============================] - 0s 6ms/step - loss: 0.0165 - mae: 0.0948 - val_loss: 0.1375 - val_mae: 0.2699\n",
      "Epoch 110/150\n",
      "26/26 [==============================] - 0s 6ms/step - loss: 0.0182 - mae: 0.0955 - val_loss: 0.1472 - val_mae: 0.2873\n",
      "Epoch 111/150\n",
      "26/26 [==============================] - 0s 7ms/step - loss: 0.0162 - mae: 0.0910 - val_loss: 0.1584 - val_mae: 0.3061\n",
      "Epoch 112/150\n",
      "26/26 [==============================] - 0s 6ms/step - loss: 0.0161 - mae: 0.0936 - val_loss: 0.1430 - val_mae: 0.2799\n",
      "Epoch 113/150\n",
      "26/26 [==============================] - 0s 6ms/step - loss: 0.0162 - mae: 0.0905 - val_loss: 0.1651 - val_mae: 0.3169\n",
      "Epoch 114/150\n",
      "26/26 [==============================] - 0s 6ms/step - loss: 0.0147 - mae: 0.0876 - val_loss: 0.1782 - val_mae: 0.3370\n",
      "Epoch 115/150\n",
      "26/26 [==============================] - 0s 6ms/step - loss: 0.0151 - mae: 0.0871 - val_loss: 0.1450 - val_mae: 0.2835\n",
      "Epoch 116/150\n",
      "26/26 [==============================] - 0s 7ms/step - loss: 0.0164 - mae: 0.0938 - val_loss: 0.1543 - val_mae: 0.2995\n",
      "Epoch 117/150\n",
      "26/26 [==============================] - 0s 6ms/step - loss: 0.0158 - mae: 0.0902 - val_loss: 0.1691 - val_mae: 0.3232\n",
      "Epoch 118/150\n",
      "26/26 [==============================] - 0s 7ms/step - loss: 0.0172 - mae: 0.0953 - val_loss: 0.1580 - val_mae: 0.3056\n",
      "Epoch 119/150\n",
      "26/26 [==============================] - 0s 6ms/step - loss: 0.0174 - mae: 0.0946 - val_loss: 0.1750 - val_mae: 0.3322\n",
      "Epoch 120/150\n",
      "26/26 [==============================] - 0s 7ms/step - loss: 0.0177 - mae: 0.0968 - val_loss: 0.1591 - val_mae: 0.3074\n",
      "Epoch 121/150\n",
      "26/26 [==============================] - 0s 6ms/step - loss: 0.0163 - mae: 0.0893 - val_loss: 0.1748 - val_mae: 0.3319\n",
      "Epoch 122/150\n",
      "26/26 [==============================] - 0s 7ms/step - loss: 0.0174 - mae: 0.0940 - val_loss: 0.1506 - val_mae: 0.2931\n",
      "Epoch 123/150\n",
      "26/26 [==============================] - 0s 6ms/step - loss: 0.0168 - mae: 0.0980 - val_loss: 0.1549 - val_mae: 0.3004\n",
      "Epoch 124/150\n",
      "26/26 [==============================] - 0s 7ms/step - loss: 0.0146 - mae: 0.0882 - val_loss: 0.1655 - val_mae: 0.3175\n",
      "Epoch 125/150\n",
      "26/26 [==============================] - 0s 7ms/step - loss: 0.0170 - mae: 0.0942 - val_loss: 0.1406 - val_mae: 0.2756\n",
      "Epoch 126/150\n",
      "26/26 [==============================] - 0s 6ms/step - loss: 0.0165 - mae: 0.0926 - val_loss: 0.1544 - val_mae: 0.2995\n",
      "Epoch 127/150\n",
      "26/26 [==============================] - 0s 7ms/step - loss: 0.0178 - mae: 0.0986 - val_loss: 0.1462 - val_mae: 0.2855\n",
      "Epoch 128/150\n",
      "26/26 [==============================] - 0s 6ms/step - loss: 0.0149 - mae: 0.0910 - val_loss: 0.1569 - val_mae: 0.3037\n",
      "Epoch 129/150\n",
      "26/26 [==============================] - 0s 6ms/step - loss: 0.0152 - mae: 0.0893 - val_loss: 0.1720 - val_mae: 0.3277\n",
      "Epoch 130/150\n",
      "26/26 [==============================] - 0s 7ms/step - loss: 0.0169 - mae: 0.0907 - val_loss: 0.1463 - val_mae: 0.2857\n",
      "Epoch 131/150\n",
      "26/26 [==============================] - 0s 7ms/step - loss: 0.0177 - mae: 0.0973 - val_loss: 0.1646 - val_mae: 0.3161\n",
      "Epoch 132/150\n",
      "26/26 [==============================] - 0s 7ms/step - loss: 0.0155 - mae: 0.0915 - val_loss: 0.1316 - val_mae: 0.2589\n",
      "Epoch 133/150\n",
      "26/26 [==============================] - 0s 6ms/step - loss: 0.0181 - mae: 0.0926 - val_loss: 0.1408 - val_mae: 0.2760\n",
      "Epoch 134/150\n",
      "26/26 [==============================] - 0s 7ms/step - loss: 0.0151 - mae: 0.0873 - val_loss: 0.1536 - val_mae: 0.2982\n",
      "Epoch 135/150\n",
      "26/26 [==============================] - 0s 6ms/step - loss: 0.0154 - mae: 0.0910 - val_loss: 0.1410 - val_mae: 0.2763\n",
      "Epoch 136/150\n",
      "26/26 [==============================] - 0s 7ms/step - loss: 0.0171 - mae: 0.1019 - val_loss: 0.1592 - val_mae: 0.3076\n",
      "Epoch 137/150\n",
      "26/26 [==============================] - 0s 6ms/step - loss: 0.0171 - mae: 0.0917 - val_loss: 0.1706 - val_mae: 0.3255\n",
      "Epoch 138/150\n",
      "26/26 [==============================] - 0s 7ms/step - loss: 0.0162 - mae: 0.0913 - val_loss: 0.1378 - val_mae: 0.2704\n",
      "Epoch 139/150\n",
      "26/26 [==============================] - 0s 6ms/step - loss: 0.0181 - mae: 0.1018 - val_loss: 0.1604 - val_mae: 0.3095\n",
      "Epoch 140/150\n",
      "26/26 [==============================] - 0s 7ms/step - loss: 0.0183 - mae: 0.0931 - val_loss: 0.1587 - val_mae: 0.3067\n",
      "Epoch 141/150\n",
      "26/26 [==============================] - 0s 6ms/step - loss: 0.0174 - mae: 0.0973 - val_loss: 0.1447 - val_mae: 0.2829\n",
      "Epoch 142/150\n",
      "26/26 [==============================] - 0s 6ms/step - loss: 0.0189 - mae: 0.0975 - val_loss: 0.1562 - val_mae: 0.3026\n",
      "Epoch 143/150\n",
      "26/26 [==============================] - 0s 6ms/step - loss: 0.0145 - mae: 0.0870 - val_loss: 0.1485 - val_mae: 0.2895\n",
      "Epoch 144/150\n",
      "26/26 [==============================] - 0s 7ms/step - loss: 0.0173 - mae: 0.0955 - val_loss: 0.1284 - val_mae: 0.2542\n",
      "Epoch 145/150\n",
      "26/26 [==============================] - 0s 6ms/step - loss: 0.0170 - mae: 0.0980 - val_loss: 0.1674 - val_mae: 0.3205\n",
      "Epoch 146/150\n",
      "26/26 [==============================] - 0s 7ms/step - loss: 0.0161 - mae: 0.0930 - val_loss: 0.1514 - val_mae: 0.2946\n",
      "Epoch 147/150\n",
      "26/26 [==============================] - 0s 7ms/step - loss: 0.0182 - mae: 0.0956 - val_loss: 0.1249 - val_mae: 0.2542\n",
      "Epoch 148/150\n",
      "26/26 [==============================] - 0s 7ms/step - loss: 0.0168 - mae: 0.0961 - val_loss: 0.1408 - val_mae: 0.2759\n",
      "Epoch 149/150\n",
      "26/26 [==============================] - 0s 6ms/step - loss: 0.0174 - mae: 0.0981 - val_loss: 0.1410 - val_mae: 0.2764\n",
      "Epoch 150/150\n",
      "26/26 [==============================] - 0s 7ms/step - loss: 0.0164 - mae: 0.0928 - val_loss: 0.1572 - val_mae: 0.3043\n"
     ]
    }
   ],
   "source": [
    "#Training, pake model.fit()\n",
    "#Using mae and mse\n",
    "#model.compile(optimizer=tf.keras.optimizers.SGD(learning_rate=0.001, momentum=0.9),metrics=['mae'],loss='mse')\n",
    "#optimizers itu buat memilih fungsi optimasi, jadi itu sebuah fungsi yang bertanggung jawab biar tiap epoch itu ada perubahan yang baik\n",
    "#dengan cara membuat per layer belajar nya lebih keras atau lebih ringan, dengan cara mengubah parameter dari tiap layer\n",
    "#secara matematis, si optimizer akan berusaha mencari loss terkecil dalam distribusi loss dibanding parameter\n",
    "\n",
    "model.compile(optimizer=tf.keras.optimizers.Adam(),metrics=['mae'],loss='mse') #ini kita pasang modelnya mau pake optimizer sama\n",
    "#loss apa?\n",
    "model.summary() #buat ngeluat detail networknya, kayak dibawah\n",
    "hist=model.fit(train_set,epochs=150,validation_data=valid_set, batch_size=1) #training, dimasukin hasil training ke dalem variable\n",
    "# hist biar nanti gampang nge plot nya"
   ]
  },
  {
   "cell_type": "code",
   "execution_count": 34,
   "metadata": {},
   "outputs": [
    {
     "data": {
      "image/png": "[encoded data removed]",
      "text/plain": [
       "<Figure size 432x288 with 1 Axes>"
      ]
     },
     "metadata": {
      "needs_background": "light"
     },
     "output_type": "display_data"
    }
   ],
   "source": [
    "#menggambar\n",
    "plt.plot(hist.history['mae'], label='MAE (training data)')\n",
    "plt.plot(hist.history['val_mae'], label='MAE (validation data)')\n",
    "\n",
    "plt.title(\"MAE Cluster 0\")\n",
    "plt.ylabel('MAE value')\n",
    "plt.xlabel('No. epoch')\n",
    "plt.legend(loc=\"upper left\")\n",
    "plt.show()"
   ]
  },
  {
   "cell_type": "code",
   "execution_count": 35,
   "metadata": {},
   "outputs": [
    {
     "data": {
      "image/png": "[encoded data removed]",
      "text/plain": [
       "<Figure size 432x288 with 1 Axes>"
      ]
     },
     "metadata": {
      "needs_background": "light"
     },
     "output_type": "display_data"
    }
   ],
   "source": [
    "plt.plot(hist.history['loss'], label='loss (training data)')\n",
    "plt.plot(hist.history['val_loss'], label='loss (validation data)')\n",
    "\n",
    "plt.title(\"Loss Cluster 0 (MSE)\")\n",
    "plt.ylabel('MSE value')\n",
    "plt.xlabel('No. epoch')\n",
    "plt.legend(loc=\"upper left\")\n",
    "plt.show()"
   ]
  },
  {
   "cell_type": "code",
   "execution_count": 36,
   "metadata": {},
   "outputs": [
    {
     "data": {
      "text/plain": [
       "array([[0.49990356],\n",
       "       [0.3501689 ],\n",
       "       [0.20083877]], dtype=float32)"
      ]
     },
     "execution_count": 36,
     "metadata": {},
     "output_type": "execute_result"
    }
   ],
   "source": [
    "#variable prediksi, kita isi pake hasil prediksi data validasi, biar gampang gambarnya\n",
    "prediksi=model.predict(np.array(x_valid))\n",
    "prediksi"
   ]
  },
  {
   "cell_type": "code",
   "execution_count": 37,
   "metadata": {},
   "outputs": [],
   "source": [
    "prediksi=prediksi.flatten()\n",
    "#flatten berfungsi untuk mengubah arrau 2 dimensi jadi satu dimensi (datar)"
   ]
  },
  {
   "cell_type": "code",
   "execution_count": 38,
   "metadata": {},
   "outputs": [],
   "source": [
    "hasil=np.concatenate((series,prediksi))\n",
    "#concatinate fungsinya untuk nyambungin dua buah list, disini kita sambungin data yang awal sama prediksi"
   ]
  },
  {
   "cell_type": "code",
   "execution_count": 39,
   "metadata": {},
   "outputs": [
    {
     "data": {
      "text/plain": [
       "array([0.72924901, 0.52470356, 0.58201581, 0.37598814, 0.57831028,\n",
       "       0.25444664, 0.65044466, 0.62969368, 0.66699605, 1.        ,\n",
       "       0.5923913 , 0.3604249 , 0.58967391, 0.7534585 , 0.54249012,\n",
       "       0.54990119, 0.48814229, 0.43033597, 0.42341897, 0.31077075,\n",
       "       0.48591897, 0.50247036, 0.29693676, 0.14772727, 0.50296443,\n",
       "       0.40884387, 0.44046443, 0.43008893, 0.38117589, 0.18354743,\n",
       "       0.48073123, 0.33596838, 0.40365613, 0.33078063, 0.31002964,\n",
       "       0.2722332 , 0.53112648, 0.22677866, 0.42243083, 0.29471344,\n",
       "       0.        , 0.01333992, 0.27939723, 0.22332016, 0.15711462,\n",
       "       0.14328063, 0.25518775, 0.21393281, 0.37598814, 0.09486166,\n",
       "       0.28087945, 0.1833004 , 0.08399209, 0.11264822, 0.49990356,\n",
       "       0.35016891, 0.20083877])"
      ]
     },
     "execution_count": 39,
     "metadata": {},
     "output_type": "execute_result"
    }
   ],
   "source": [
    "hasil"
   ]
  },
  {
   "cell_type": "code",
   "execution_count": 40,
   "metadata": {},
   "outputs": [],
   "source": [
    "asli = np.concatenate((series,series_t)) #menyambungkan data asli"
   ]
  },
  {
   "cell_type": "code",
   "execution_count": 41,
   "metadata": {},
   "outputs": [],
   "source": [
    "hasil = hasil * (max-min) + min\n",
    "asli = asli * (max-min) + min"
   ]
  },
  {
   "cell_type": "code",
   "execution_count": 42,
   "metadata": {},
   "outputs": [
    {
     "data": {
      "text/plain": [
       "[]"
      ]
     },
     "execution_count": 42,
     "metadata": {},
     "output_type": "execute_result"
    },
    {
     "data": {
      "image/png": "[encoded data removed]",
      "text/plain": [
       "<Figure size 432x288 with 1 Axes>"
      ]
     },
     "metadata": {
      "needs_background": "light"
     },
     "output_type": "display_data"
    }
   ],
   "source": [
    "plt.plot(asli,marker = 'o',label='data asli')\n",
    "plt.plot(hasil,marker = 'o',label='data prediksi')\n",
    "plt.title('penjualan produk cluster 0')\n",
    "plt.legend()\n",
    "plt.plot()"
   ]
  },
  {
   "cell_type": "code",
   "execution_count": 43,
   "metadata": {},
   "outputs": [],
   "source": [
    "model.save('cluster0_newdata.h5') #simpan model untuk cluster 0 ini"
   ]
  },
  {
   "cell_type": "code",
   "execution_count": null,
   "metadata": {},
   "outputs": [],
   "source": []
  }
 ],
 "metadata": {
  "interpreter": {
   "hash": "c9d83cc02921a4738836e4c62bbe4b1fbf4384e37b2198c6e81d5aaf3defd2c8"
  },
  "kernelspec": {
   "display_name": "Python 3.8.5 ('base')",
   "language": "python",
   "name": "python3"
  },
  "language_info": {
   "codemirror_mode": {
    "name": "ipython",
    "version": 3
   },
   "file_extension": ".py",
   "mimetype": "text/x-python",
   "name": "python",
   "nbconvert_exporter": "python",
   "pygments_lexer": "ipython3",
   "version": "3.8.5"
  },
  "orig_nbformat": 4
 },
 "nbformat": 4,
 "nbformat_minor": 2
}
