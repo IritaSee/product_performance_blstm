{
 "cells": [
  {
   "cell_type": "markdown",
   "metadata": {},
   "source": [
    "# Permodelan Cluster 3"
   ]
  },
  {
   "cell_type": "markdown",
   "metadata": {},
   "source": [
    "Import segala pustaka (library) yang digunakan"
   ]
  },
  {
   "cell_type": "code",
<<<<<<< HEAD
   "execution_count": 463,
=======
   "execution_count": 2,
>>>>>>> 1eaaedc47848ddf767706f31d7b2485fc34a78da
   "metadata": {},
   "outputs": [],
   "source": [
    "import tensorflow as tf\n",
    "import pandas as pd\n",
    "import numpy as np\n",
    "import matplotlib.pyplot as plt\n",
    "from sklearn.preprocessing import MinMaxScaler"
   ]
  },
  {
   "cell_type": "markdown",
   "metadata": {},
   "source": [
    "## Pembacaan Data"
   ]
  },
  {
   "cell_type": "markdown",
   "metadata": {},
   "source": [
    "Baca dataset train"
   ]
  },
  {
   "cell_type": "code",
<<<<<<< HEAD
   "execution_count": 464,
=======
   "execution_count": 3,
>>>>>>> 1eaaedc47848ddf767706f31d7b2485fc34a78da
   "metadata": {},
   "outputs": [
    {
     "data": {
      "text/html": [
       "<div>\n",
       "<style scoped>\n",
       "    .dataframe tbody tr th:only-of-type {\n",
       "        vertical-align: middle;\n",
       "    }\n",
       "\n",
       "    .dataframe tbody tr th {\n",
       "        vertical-align: top;\n",
       "    }\n",
       "\n",
       "    .dataframe thead th {\n",
       "        text-align: right;\n",
       "    }\n",
       "</style>\n",
       "<table border=\"1\" class=\"dataframe\">\n",
       "  <thead>\n",
       "    <tr style=\"text-align: right;\">\n",
       "      <th></th>\n",
       "      <th>KodeBarang</th>\n",
       "      <th>1</th>\n",
       "      <th>2</th>\n",
       "      <th>3</th>\n",
       "      <th>4</th>\n",
       "      <th>5</th>\n",
       "      <th>6</th>\n",
       "      <th>7</th>\n",
       "      <th>8</th>\n",
       "      <th>9</th>\n",
       "      <th>...</th>\n",
       "      <th>46</th>\n",
       "      <th>47</th>\n",
       "      <th>48</th>\n",
       "      <th>49</th>\n",
       "      <th>50</th>\n",
       "      <th>51</th>\n",
       "      <th>52</th>\n",
       "      <th>53</th>\n",
       "      <th>54</th>\n",
       "      <th>cluster</th>\n",
       "    </tr>\n",
       "  </thead>\n",
       "  <tbody>\n",
       "    <tr>\n",
       "      <th>0</th>\n",
       "      <td>04121</td>\n",
       "      <td>7</td>\n",
       "      <td>9</td>\n",
       "      <td>6</td>\n",
       "      <td>9</td>\n",
       "      <td>40</td>\n",
       "      <td>0</td>\n",
       "      <td>3</td>\n",
       "      <td>0</td>\n",
       "      <td>7</td>\n",
       "      <td>...</td>\n",
       "      <td>67</td>\n",
       "      <td>77</td>\n",
       "      <td>11</td>\n",
       "      <td>57</td>\n",
       "      <td>43</td>\n",
       "      <td>50</td>\n",
       "      <td>37</td>\n",
       "      <td>21</td>\n",
       "      <td>136</td>\n",
       "      <td>0</td>\n",
       "    </tr>\n",
       "    <tr>\n",
       "      <th>1</th>\n",
       "      <td>18031</td>\n",
       "      <td>230</td>\n",
       "      <td>227</td>\n",
       "      <td>279</td>\n",
       "      <td>153</td>\n",
       "      <td>190</td>\n",
       "      <td>256</td>\n",
       "      <td>267</td>\n",
       "      <td>305</td>\n",
       "      <td>238</td>\n",
       "      <td>...</td>\n",
       "      <td>336</td>\n",
       "      <td>153</td>\n",
       "      <td>103</td>\n",
       "      <td>221</td>\n",
       "      <td>360</td>\n",
       "      <td>280</td>\n",
       "      <td>240</td>\n",
       "      <td>120</td>\n",
       "      <td>548</td>\n",
       "      <td>1</td>\n",
       "    </tr>\n",
       "    <tr>\n",
       "      <th>2</th>\n",
       "      <td>04161</td>\n",
       "      <td>102</td>\n",
       "      <td>50</td>\n",
       "      <td>45</td>\n",
       "      <td>41</td>\n",
       "      <td>71</td>\n",
       "      <td>11</td>\n",
       "      <td>52</td>\n",
       "      <td>14</td>\n",
       "      <td>66</td>\n",
       "      <td>...</td>\n",
       "      <td>21</td>\n",
       "      <td>20</td>\n",
       "      <td>7</td>\n",
       "      <td>33</td>\n",
       "      <td>21</td>\n",
       "      <td>28</td>\n",
       "      <td>30</td>\n",
       "      <td>10</td>\n",
       "      <td>18</td>\n",
       "      <td>0</td>\n",
       "    </tr>\n",
       "    <tr>\n",
       "      <th>3</th>\n",
       "      <td>04162</td>\n",
       "      <td>272</td>\n",
       "      <td>155</td>\n",
       "      <td>214</td>\n",
       "      <td>226</td>\n",
       "      <td>268</td>\n",
       "      <td>110</td>\n",
       "      <td>204</td>\n",
       "      <td>253</td>\n",
       "      <td>193</td>\n",
       "      <td>...</td>\n",
       "      <td>102</td>\n",
       "      <td>118</td>\n",
       "      <td>120</td>\n",
       "      <td>211</td>\n",
       "      <td>292</td>\n",
       "      <td>105</td>\n",
       "      <td>108</td>\n",
       "      <td>101</td>\n",
       "      <td>117</td>\n",
       "      <td>1</td>\n",
       "    </tr>\n",
       "    <tr>\n",
       "      <th>4</th>\n",
       "      <td>04163</td>\n",
       "      <td>28</td>\n",
       "      <td>28</td>\n",
       "      <td>29</td>\n",
       "      <td>52</td>\n",
       "      <td>44</td>\n",
       "      <td>21</td>\n",
       "      <td>47</td>\n",
       "      <td>15</td>\n",
       "      <td>24</td>\n",
       "      <td>...</td>\n",
       "      <td>18</td>\n",
       "      <td>23</td>\n",
       "      <td>22</td>\n",
       "      <td>16</td>\n",
       "      <td>22</td>\n",
       "      <td>31</td>\n",
       "      <td>36</td>\n",
       "      <td>17</td>\n",
       "      <td>14</td>\n",
       "      <td>0</td>\n",
       "    </tr>\n",
       "    <tr>\n",
       "      <th>...</th>\n",
       "      <td>...</td>\n",
       "      <td>...</td>\n",
       "      <td>...</td>\n",
       "      <td>...</td>\n",
       "      <td>...</td>\n",
       "      <td>...</td>\n",
       "      <td>...</td>\n",
       "      <td>...</td>\n",
       "      <td>...</td>\n",
       "      <td>...</td>\n",
       "      <td>...</td>\n",
       "      <td>...</td>\n",
       "      <td>...</td>\n",
       "      <td>...</td>\n",
       "      <td>...</td>\n",
       "      <td>...</td>\n",
       "      <td>...</td>\n",
       "      <td>...</td>\n",
       "      <td>...</td>\n",
       "      <td>...</td>\n",
       "      <td>...</td>\n",
       "    </tr>\n",
       "    <tr>\n",
       "      <th>101</th>\n",
       "      <td>04157</td>\n",
       "      <td>55</td>\n",
       "      <td>64</td>\n",
       "      <td>44</td>\n",
       "      <td>61</td>\n",
       "      <td>30</td>\n",
       "      <td>1</td>\n",
       "      <td>24</td>\n",
       "      <td>37</td>\n",
       "      <td>67</td>\n",
       "      <td>...</td>\n",
       "      <td>20</td>\n",
       "      <td>10</td>\n",
       "      <td>300</td>\n",
       "      <td>34</td>\n",
       "      <td>7</td>\n",
       "      <td>7</td>\n",
       "      <td>6</td>\n",
       "      <td>4</td>\n",
       "      <td>21</td>\n",
       "      <td>0</td>\n",
       "    </tr>\n",
       "    <tr>\n",
       "      <th>102</th>\n",
       "      <td>18104</td>\n",
       "      <td>46</td>\n",
       "      <td>295</td>\n",
       "      <td>83</td>\n",
       "      <td>112</td>\n",
       "      <td>70</td>\n",
       "      <td>40</td>\n",
       "      <td>18</td>\n",
       "      <td>140</td>\n",
       "      <td>97</td>\n",
       "      <td>...</td>\n",
       "      <td>47</td>\n",
       "      <td>54</td>\n",
       "      <td>27</td>\n",
       "      <td>15</td>\n",
       "      <td>57</td>\n",
       "      <td>132</td>\n",
       "      <td>66</td>\n",
       "      <td>34</td>\n",
       "      <td>146</td>\n",
       "      <td>0</td>\n",
       "    </tr>\n",
       "    <tr>\n",
       "      <th>103</th>\n",
       "      <td>18106</td>\n",
       "      <td>200</td>\n",
       "      <td>204</td>\n",
       "      <td>0</td>\n",
       "      <td>2</td>\n",
       "      <td>10</td>\n",
       "      <td>7</td>\n",
       "      <td>0</td>\n",
       "      <td>27</td>\n",
       "      <td>74</td>\n",
       "      <td>...</td>\n",
       "      <td>15</td>\n",
       "      <td>136</td>\n",
       "      <td>15</td>\n",
       "      <td>15</td>\n",
       "      <td>14</td>\n",
       "      <td>131</td>\n",
       "      <td>84</td>\n",
       "      <td>12</td>\n",
       "      <td>14</td>\n",
       "      <td>0</td>\n",
       "    </tr>\n",
       "    <tr>\n",
       "      <th>104</th>\n",
       "      <td>18092</td>\n",
       "      <td>297</td>\n",
       "      <td>418</td>\n",
       "      <td>329</td>\n",
       "      <td>70</td>\n",
       "      <td>498</td>\n",
       "      <td>59</td>\n",
       "      <td>298</td>\n",
       "      <td>376</td>\n",
       "      <td>259</td>\n",
       "      <td>...</td>\n",
       "      <td>450</td>\n",
       "      <td>498</td>\n",
       "      <td>254</td>\n",
       "      <td>260</td>\n",
       "      <td>336</td>\n",
       "      <td>493</td>\n",
       "      <td>438</td>\n",
       "      <td>408</td>\n",
       "      <td>322</td>\n",
       "      <td>1</td>\n",
       "    </tr>\n",
       "    <tr>\n",
       "      <th>105</th>\n",
       "      <td>04143</td>\n",
       "      <td>132</td>\n",
       "      <td>80</td>\n",
       "      <td>103</td>\n",
       "      <td>113</td>\n",
       "      <td>81</td>\n",
       "      <td>108</td>\n",
       "      <td>124</td>\n",
       "      <td>101</td>\n",
       "      <td>119</td>\n",
       "      <td>...</td>\n",
       "      <td>153</td>\n",
       "      <td>130</td>\n",
       "      <td>121</td>\n",
       "      <td>189</td>\n",
       "      <td>92</td>\n",
       "      <td>226</td>\n",
       "      <td>181</td>\n",
       "      <td>112</td>\n",
       "      <td>214</td>\n",
       "      <td>1</td>\n",
       "    </tr>\n",
       "  </tbody>\n",
       "</table>\n",
       "<p>106 rows × 56 columns</p>\n",
       "</div>"
      ],
      "text/plain": [
       "    KodeBarang    1    2    3    4    5    6    7    8    9  ...   46   47  \\\n",
       "0        04121    7    9    6    9   40    0    3    0    7  ...   67   77   \n",
       "1        18031  230  227  279  153  190  256  267  305  238  ...  336  153   \n",
       "2        04161  102   50   45   41   71   11   52   14   66  ...   21   20   \n",
       "3        04162  272  155  214  226  268  110  204  253  193  ...  102  118   \n",
       "4        04163   28   28   29   52   44   21   47   15   24  ...   18   23   \n",
       "..         ...  ...  ...  ...  ...  ...  ...  ...  ...  ...  ...  ...  ...   \n",
       "101      04157   55   64   44   61   30    1   24   37   67  ...   20   10   \n",
       "102      18104   46  295   83  112   70   40   18  140   97  ...   47   54   \n",
       "103      18106  200  204    0    2   10    7    0   27   74  ...   15  136   \n",
       "104      18092  297  418  329   70  498   59  298  376  259  ...  450  498   \n",
       "105      04143  132   80  103  113   81  108  124  101  119  ...  153  130   \n",
       "\n",
       "      48   49   50   51   52   53   54  cluster  \n",
       "0     11   57   43   50   37   21  136        0  \n",
       "1    103  221  360  280  240  120  548        1  \n",
       "2      7   33   21   28   30   10   18        0  \n",
       "3    120  211  292  105  108  101  117        1  \n",
       "4     22   16   22   31   36   17   14        0  \n",
       "..   ...  ...  ...  ...  ...  ...  ...      ...  \n",
       "101  300   34    7    7    6    4   21        0  \n",
       "102   27   15   57  132   66   34  146        0  \n",
       "103   15   15   14  131   84   12   14        0  \n",
       "104  254  260  336  493  438  408  322        1  \n",
       "105  121  189   92  226  181  112  214        1  \n",
       "\n",
       "[106 rows x 56 columns]"
      ]
     },
<<<<<<< HEAD
     "execution_count": 464,
=======
     "execution_count": 3,
>>>>>>> 1eaaedc47848ddf767706f31d7b2485fc34a78da
     "metadata": {},
     "output_type": "execute_result"
    }
   ],
   "source": [
    "data=pd.read_excel('../dataset_new.xlsx',sheet_name='train')\n",
    "data"
   ]
  },
  {
   "cell_type": "markdown",
   "metadata": {},
   "source": [
    "Baca dataset test"
   ]
  },
  {
   "cell_type": "code",
<<<<<<< HEAD
   "execution_count": 465,
=======
   "execution_count": 4,
>>>>>>> 1eaaedc47848ddf767706f31d7b2485fc34a78da
   "metadata": {},
   "outputs": [
    {
     "data": {
      "text/html": [
       "<div>\n",
       "<style scoped>\n",
       "    .dataframe tbody tr th:only-of-type {\n",
       "        vertical-align: middle;\n",
       "    }\n",
       "\n",
       "    .dataframe tbody tr th {\n",
       "        vertical-align: top;\n",
       "    }\n",
       "\n",
       "    .dataframe thead th {\n",
       "        text-align: right;\n",
       "    }\n",
       "</style>\n",
       "<table border=\"1\" class=\"dataframe\">\n",
       "  <thead>\n",
       "    <tr style=\"text-align: right;\">\n",
       "      <th></th>\n",
       "      <th>KodeBarang</th>\n",
       "      <th>bulan 1</th>\n",
       "      <th>bulan 2</th>\n",
       "      <th>bulan 3</th>\n",
       "      <th>bulan 4</th>\n",
       "      <th>bulan 5</th>\n",
       "      <th>bulan 6</th>\n",
       "    </tr>\n",
       "  </thead>\n",
       "  <tbody>\n",
       "    <tr>\n",
       "      <th>0</th>\n",
       "      <td>04121</td>\n",
       "      <td>5</td>\n",
       "      <td>12</td>\n",
       "      <td>8</td>\n",
       "      <td>14</td>\n",
       "      <td>40</td>\n",
       "      <td>40</td>\n",
       "    </tr>\n",
       "    <tr>\n",
       "      <th>1</th>\n",
       "      <td>18031</td>\n",
       "      <td>573</td>\n",
       "      <td>340</td>\n",
       "      <td>441</td>\n",
       "      <td>270</td>\n",
       "      <td>488</td>\n",
       "      <td>240</td>\n",
       "    </tr>\n",
       "    <tr>\n",
       "      <th>2</th>\n",
       "      <td>04161</td>\n",
       "      <td>27</td>\n",
       "      <td>5</td>\n",
       "      <td>26</td>\n",
       "      <td>34</td>\n",
       "      <td>40</td>\n",
       "      <td>56</td>\n",
       "    </tr>\n",
       "    <tr>\n",
       "      <th>3</th>\n",
       "      <td>04162</td>\n",
       "      <td>162</td>\n",
       "      <td>82</td>\n",
       "      <td>72</td>\n",
       "      <td>98</td>\n",
       "      <td>126</td>\n",
       "      <td>120</td>\n",
       "    </tr>\n",
       "    <tr>\n",
       "      <th>4</th>\n",
       "      <td>04163</td>\n",
       "      <td>23</td>\n",
       "      <td>20</td>\n",
       "      <td>9</td>\n",
       "      <td>5</td>\n",
       "      <td>22</td>\n",
       "      <td>6</td>\n",
       "    </tr>\n",
       "    <tr>\n",
       "      <th>...</th>\n",
       "      <td>...</td>\n",
       "      <td>...</td>\n",
       "      <td>...</td>\n",
       "      <td>...</td>\n",
       "      <td>...</td>\n",
       "      <td>...</td>\n",
       "      <td>...</td>\n",
       "    </tr>\n",
       "    <tr>\n",
       "      <th>101</th>\n",
       "      <td>04157</td>\n",
       "      <td>138</td>\n",
       "      <td>14</td>\n",
       "      <td>12</td>\n",
       "      <td>21</td>\n",
       "      <td>25</td>\n",
       "      <td>10</td>\n",
       "    </tr>\n",
       "    <tr>\n",
       "      <th>102</th>\n",
       "      <td>18104</td>\n",
       "      <td>60</td>\n",
       "      <td>103</td>\n",
       "      <td>39</td>\n",
       "      <td>87</td>\n",
       "      <td>276</td>\n",
       "      <td>40</td>\n",
       "    </tr>\n",
       "    <tr>\n",
       "      <th>103</th>\n",
       "      <td>18106</td>\n",
       "      <td>16</td>\n",
       "      <td>7</td>\n",
       "      <td>65</td>\n",
       "      <td>24</td>\n",
       "      <td>13</td>\n",
       "      <td>27</td>\n",
       "    </tr>\n",
       "    <tr>\n",
       "      <th>104</th>\n",
       "      <td>18092</td>\n",
       "      <td>721</td>\n",
       "      <td>184</td>\n",
       "      <td>150</td>\n",
       "      <td>488</td>\n",
       "      <td>648</td>\n",
       "      <td>149</td>\n",
       "    </tr>\n",
       "    <tr>\n",
       "      <th>105</th>\n",
       "      <td>04143</td>\n",
       "      <td>164</td>\n",
       "      <td>189</td>\n",
       "      <td>187</td>\n",
       "      <td>232</td>\n",
       "      <td>219</td>\n",
       "      <td>229</td>\n",
       "    </tr>\n",
       "  </tbody>\n",
       "</table>\n",
       "<p>106 rows × 7 columns</p>\n",
       "</div>"
      ],
      "text/plain": [
       "    KodeBarang  bulan 1  bulan 2  bulan 3  bulan 4  bulan 5  bulan 6\n",
       "0        04121        5       12        8       14       40       40\n",
       "1        18031      573      340      441      270      488      240\n",
       "2        04161       27        5       26       34       40       56\n",
       "3        04162      162       82       72       98      126      120\n",
       "4        04163       23       20        9        5       22        6\n",
       "..         ...      ...      ...      ...      ...      ...      ...\n",
       "101      04157      138       14       12       21       25       10\n",
       "102      18104       60      103       39       87      276       40\n",
       "103      18106       16        7       65       24       13       27\n",
       "104      18092      721      184      150      488      648      149\n",
       "105      04143      164      189      187      232      219      229\n",
       "\n",
       "[106 rows x 7 columns]"
      ]
     },
<<<<<<< HEAD
     "execution_count": 465,
=======
     "execution_count": 4,
>>>>>>> 1eaaedc47848ddf767706f31d7b2485fc34a78da
     "metadata": {},
     "output_type": "execute_result"
    }
   ],
   "source": [
    "data_test = pd.read_excel('../dataset_new.xlsx',sheet_name='test')\n",
    "data_test"
   ]
  },
  {
   "cell_type": "markdown",
   "metadata": {},
   "source": [
    "Hilangkan judul kolom agar tidak terbaca di deep learning\n",
    "Pastikan cluster pada dataset sudah berupa angka"
   ]
  },
  {
   "cell_type": "code",
<<<<<<< HEAD
   "execution_count": 466,
=======
   "execution_count": 5,
>>>>>>> 1eaaedc47848ddf767706f31d7b2485fc34a78da
   "metadata": {},
   "outputs": [],
   "source": [
    "clusters=data['cluster']\n",
    "data_test['cluster'] = clusters\n",
    "# data_test.drop(['bulan 4','bulan 5','bulan 6'],axis=1,inplace=True)"
   ]
  },
  {
   "cell_type": "code",
<<<<<<< HEAD
   "execution_count": 467,
=======
   "execution_count": 6,
>>>>>>> 1eaaedc47848ddf767706f31d7b2485fc34a78da
   "metadata": {},
   "outputs": [
    {
     "data": {
      "text/html": [
       "<div>\n",
       "<style scoped>\n",
       "    .dataframe tbody tr th:only-of-type {\n",
       "        vertical-align: middle;\n",
       "    }\n",
       "\n",
       "    .dataframe tbody tr th {\n",
       "        vertical-align: top;\n",
       "    }\n",
       "\n",
       "    .dataframe thead th {\n",
       "        text-align: right;\n",
       "    }\n",
       "</style>\n",
       "<table border=\"1\" class=\"dataframe\">\n",
       "  <thead>\n",
       "    <tr style=\"text-align: right;\">\n",
       "      <th></th>\n",
       "      <th>KodeBarang</th>\n",
       "      <th>bulan 1</th>\n",
       "      <th>bulan 2</th>\n",
       "      <th>bulan 3</th>\n",
       "      <th>bulan 4</th>\n",
       "      <th>bulan 5</th>\n",
       "      <th>bulan 6</th>\n",
       "      <th>cluster</th>\n",
       "    </tr>\n",
       "  </thead>\n",
       "  <tbody>\n",
       "    <tr>\n",
       "      <th>0</th>\n",
       "      <td>04121</td>\n",
       "      <td>5</td>\n",
       "      <td>12</td>\n",
       "      <td>8</td>\n",
       "      <td>14</td>\n",
       "      <td>40</td>\n",
       "      <td>40</td>\n",
       "      <td>0</td>\n",
       "    </tr>\n",
       "    <tr>\n",
       "      <th>1</th>\n",
       "      <td>18031</td>\n",
       "      <td>573</td>\n",
       "      <td>340</td>\n",
       "      <td>441</td>\n",
       "      <td>270</td>\n",
       "      <td>488</td>\n",
       "      <td>240</td>\n",
       "      <td>1</td>\n",
       "    </tr>\n",
       "    <tr>\n",
       "      <th>2</th>\n",
       "      <td>04161</td>\n",
       "      <td>27</td>\n",
       "      <td>5</td>\n",
       "      <td>26</td>\n",
       "      <td>34</td>\n",
       "      <td>40</td>\n",
       "      <td>56</td>\n",
       "      <td>0</td>\n",
       "    </tr>\n",
       "    <tr>\n",
       "      <th>3</th>\n",
       "      <td>04162</td>\n",
       "      <td>162</td>\n",
       "      <td>82</td>\n",
       "      <td>72</td>\n",
       "      <td>98</td>\n",
       "      <td>126</td>\n",
       "      <td>120</td>\n",
       "      <td>1</td>\n",
       "    </tr>\n",
       "    <tr>\n",
       "      <th>4</th>\n",
       "      <td>04163</td>\n",
       "      <td>23</td>\n",
       "      <td>20</td>\n",
       "      <td>9</td>\n",
       "      <td>5</td>\n",
       "      <td>22</td>\n",
       "      <td>6</td>\n",
       "      <td>0</td>\n",
       "    </tr>\n",
       "    <tr>\n",
       "      <th>...</th>\n",
       "      <td>...</td>\n",
       "      <td>...</td>\n",
       "      <td>...</td>\n",
       "      <td>...</td>\n",
       "      <td>...</td>\n",
       "      <td>...</td>\n",
       "      <td>...</td>\n",
       "      <td>...</td>\n",
       "    </tr>\n",
       "    <tr>\n",
       "      <th>101</th>\n",
       "      <td>04157</td>\n",
       "      <td>138</td>\n",
       "      <td>14</td>\n",
       "      <td>12</td>\n",
       "      <td>21</td>\n",
       "      <td>25</td>\n",
       "      <td>10</td>\n",
       "      <td>0</td>\n",
       "    </tr>\n",
       "    <tr>\n",
       "      <th>102</th>\n",
       "      <td>18104</td>\n",
       "      <td>60</td>\n",
       "      <td>103</td>\n",
       "      <td>39</td>\n",
       "      <td>87</td>\n",
       "      <td>276</td>\n",
       "      <td>40</td>\n",
       "      <td>0</td>\n",
       "    </tr>\n",
       "    <tr>\n",
       "      <th>103</th>\n",
       "      <td>18106</td>\n",
       "      <td>16</td>\n",
       "      <td>7</td>\n",
       "      <td>65</td>\n",
       "      <td>24</td>\n",
       "      <td>13</td>\n",
       "      <td>27</td>\n",
       "      <td>0</td>\n",
       "    </tr>\n",
       "    <tr>\n",
       "      <th>104</th>\n",
       "      <td>18092</td>\n",
       "      <td>721</td>\n",
       "      <td>184</td>\n",
       "      <td>150</td>\n",
       "      <td>488</td>\n",
       "      <td>648</td>\n",
       "      <td>149</td>\n",
       "      <td>1</td>\n",
       "    </tr>\n",
       "    <tr>\n",
       "      <th>105</th>\n",
       "      <td>04143</td>\n",
       "      <td>164</td>\n",
       "      <td>189</td>\n",
       "      <td>187</td>\n",
       "      <td>232</td>\n",
       "      <td>219</td>\n",
       "      <td>229</td>\n",
       "      <td>1</td>\n",
       "    </tr>\n",
       "  </tbody>\n",
       "</table>\n",
       "<p>106 rows × 8 columns</p>\n",
       "</div>"
      ],
      "text/plain": [
       "    KodeBarang  bulan 1  bulan 2  bulan 3  bulan 4  bulan 5  bulan 6  cluster\n",
       "0        04121        5       12        8       14       40       40        0\n",
       "1        18031      573      340      441      270      488      240        1\n",
       "2        04161       27        5       26       34       40       56        0\n",
       "3        04162      162       82       72       98      126      120        1\n",
       "4        04163       23       20        9        5       22        6        0\n",
       "..         ...      ...      ...      ...      ...      ...      ...      ...\n",
       "101      04157      138       14       12       21       25       10        0\n",
       "102      18104       60      103       39       87      276       40        0\n",
       "103      18106       16        7       65       24       13       27        0\n",
       "104      18092      721      184      150      488      648      149        1\n",
       "105      04143      164      189      187      232      219      229        1\n",
       "\n",
       "[106 rows x 8 columns]"
      ]
     },
<<<<<<< HEAD
     "execution_count": 467,
=======
     "execution_count": 6,
>>>>>>> 1eaaedc47848ddf767706f31d7b2485fc34a78da
     "metadata": {},
     "output_type": "execute_result"
    }
   ],
   "source": [
    "data_test"
   ]
  },
  {
   "cell_type": "code",
<<<<<<< HEAD
   "execution_count": 468,
=======
   "execution_count": 7,
>>>>>>> 1eaaedc47848ddf767706f31d7b2485fc34a78da
   "metadata": {},
   "outputs": [],
   "source": [
    "import matplotlib.pyplot as plt\n",
    "from sklearn.preprocessing import MinMaxScaler"
   ]
  },
  {
   "cell_type": "markdown",
   "metadata": {},
   "source": [
    "Make sure ada berapa cluster?"
   ]
  },
  {
   "cell_type": "code",
<<<<<<< HEAD
   "execution_count": 469,
=======
   "execution_count": 8,
>>>>>>> 1eaaedc47848ddf767706f31d7b2485fc34a78da
   "metadata": {},
   "outputs": [
    {
     "data": {
      "text/plain": [
       "4"
      ]
     },
<<<<<<< HEAD
     "execution_count": 469,
=======
     "execution_count": 8,
>>>>>>> 1eaaedc47848ddf767706f31d7b2485fc34a78da
     "metadata": {},
     "output_type": "execute_result"
    }
   ],
   "source": [
    "len(data['cluster'].unique())"
   ]
  },
  {
   "cell_type": "markdown",
   "metadata": {},
   "source": [
    "Ambil jumlah produk dalam setiap Cluster"
   ]
  },
  {
   "cell_type": "code",
<<<<<<< HEAD
   "execution_count": 470,
=======
   "execution_count": 9,
>>>>>>> 1eaaedc47848ddf767706f31d7b2485fc34a78da
   "metadata": {},
   "outputs": [
    {
     "name": "stdout",
     "output_type": "stream",
     "text": [
      "Jumlah Produk:\n",
      "70\n",
      "Jumlah Produk:\n",
      "31\n",
      "Jumlah Produk:\n",
      "4\n",
      "Jumlah Produk:\n",
      "1\n"
     ]
    }
   ],
   "source": [
    "#now lets take clusters\n",
    "c0 = data.query(\"cluster == 0\")\n",
    "print(\"Jumlah Produk:\")\n",
    "print(c0['KodeBarang'].size)\n",
    "c1 = data.query(\"cluster == 1\")\n",
    "print(\"Jumlah Produk:\")\n",
    "print(c1['KodeBarang'].size)\n",
    "c2 = data.query(\"cluster == 2\")\n",
    "print(\"Jumlah Produk:\")\n",
    "print(c2['KodeBarang'].size)\n",
    "c3 = data.query(\"cluster == 3\")\n",
    "print(\"Jumlah Produk:\")\n",
    "print(c3['KodeBarang'].size)"
   ]
  },
  {
   "cell_type": "code",
<<<<<<< HEAD
   "execution_count": 471,
=======
   "execution_count": 10,
>>>>>>> 1eaaedc47848ddf767706f31d7b2485fc34a78da
   "metadata": {},
   "outputs": [
    {
     "name": "stdout",
     "output_type": "stream",
     "text": [
      "Jumlah Produk:\n",
      "70\n",
      "Jumlah Produk:\n",
      "31\n",
      "Jumlah Produk:\n",
      "4\n",
      "Jumlah Produk:\n",
      "1\n"
     ]
    }
   ],
   "source": [
    "c0_t = data_test.query(\"cluster == 0\")\n",
    "print(\"Jumlah Produk:\")\n",
    "print(c0['KodeBarang'].size)\n",
    "c1_t = data_test.query(\"cluster == 1\")\n",
    "print(\"Jumlah Produk:\")\n",
    "print(c1['KodeBarang'].size)\n",
    "c2_t = data_test.query(\"cluster == 2\")\n",
    "print(\"Jumlah Produk:\")\n",
    "print(c2['KodeBarang'].size)\n",
    "c3_t = data_test.query(\"cluster == 3\")\n",
    "print(\"Jumlah Produk:\")\n",
    "print(c3['KodeBarang'].size)"
   ]
  },
  {
   "cell_type": "markdown",
   "metadata": {},
   "source": [
    "## Pembuatan model cluster 3"
   ]
  },
  {
   "cell_type": "markdown",
   "metadata": {},
   "source": [
    "Buat fungsi bikin `windowed dataset` jadi si data di couple in sama waktu (timeframe)"
   ]
  },
  {
   "cell_type": "code",
<<<<<<< HEAD
   "execution_count": 472,
=======
   "execution_count": 11,
>>>>>>> 1eaaedc47848ddf767706f31d7b2485fc34a78da
   "metadata": {},
   "outputs": [],
   "source": [
    "#oke ada ternyata yang cuman sendirian (1 product di cluster tersebut), kita beresin dia dulu, the easiest, dan biar keliatan kita\n",
    "#ngapain aja di time series ini\n",
    "def windowed_dataset(series, window_size, batch_size, shuffle_buffer):\n",
    "    series = tf.expand_dims(series, axis=-1)\n",
    "    ds = tf.data.Dataset.from_tensor_slices(series)\n",
    "    ds = ds.window(window_size + 1, shift=1, drop_remainder=True)\n",
    "    ds = ds.flat_map(lambda w: w.batch(window_size + 1))\n",
    "    ds = ds.shuffle(shuffle_buffer)\n",
    "    ds = ds.map(lambda w: (w[:-1], w[1:]))\n",
    "    return ds.batch(batch_size).prefetch(1)\n",
    "# ini fungsinya buat nge ubah dataset jadi windowed"
   ]
  },
  {
   "cell_type": "code",
<<<<<<< HEAD
   "execution_count": 473,
=======
   "execution_count": 12,
>>>>>>> 1eaaedc47848ddf767706f31d7b2485fc34a78da
   "metadata": {},
   "outputs": [],
   "source": [
    "#next kita ubah bentuk data nya dari yang tadinya kesamping jadi ke bawah, tapi pertama mau aku drop dulu cluster sama kode produknya\n",
    "c3=c3.drop(columns=['KodeBarang','cluster'])\n",
    "c3_t = c3_t.drop(columns=['KodeBarang','cluster'])"
   ]
  },
  {
   "cell_type": "markdown",
   "metadata": {},
   "source": [
    "Plot per produk cluster 3"
   ]
  },
  {
   "cell_type": "code",
<<<<<<< HEAD
   "execution_count": 474,
=======
   "execution_count": 13,
>>>>>>> 1eaaedc47848ddf767706f31d7b2485fc34a78da
   "metadata": {},
   "outputs": [
    {
     "data": {
      "text/plain": [
       "<AxesSubplot:>"
      ]
     },
<<<<<<< HEAD
     "execution_count": 474,
=======
     "execution_count": 13,
>>>>>>> 1eaaedc47848ddf767706f31d7b2485fc34a78da
     "metadata": {},
     "output_type": "execute_result"
    },
    {
     "data": {
      "image/png": "iVBORw0KGgoAAAANSUhEUgAAAYQAAAD4CAYAAADsKpHdAAAAOXRFWHRTb2Z0d2FyZQBNYXRwbG90bGliIHZlcnNpb24zLjMuMiwgaHR0cHM6Ly9tYXRwbG90bGliLm9yZy8vihELAAAACXBIWXMAAAsTAAALEwEAmpwYAAAqBElEQVR4nO3deZhU1bX38e/qEZRRaBBoGURQAQGFB3A2agQT4xQ1qFGSay7RmMQk13jjvfeN5ibmZjIYYyTBIWpMHKIxYiKJKA5xxEZAJoFmUFqmBpmV6q6u9f5Rp6Boqge6m3Oqq3+f56mnqnadU7WPNrVq7bX3OebuiIiI5EXdARERyQ4KCCIiAiggiIhIQAFBREQABQQREQkURN2Bpurevbv3798/6m6IiLQqc+bM2eTuJZlea7UBoX///pSVlUXdDRGRVsXM3q/rNQ0ZiYgIoIAgIiIBBQQREQFacQ1BRORgqq6upqKigt27d0fdlSZp164dpaWlFBYWNnofBQQRkQwqKiro2LEj/fv3x8yi7s4BcXc2b95MRUUFAwYMaPR+GjISEclg9+7ddOvWrdUFAwAzo1u3bgec3SggiIjUoTUGg5Sm9F0BQbLK9Plr2fZJddTdEGmTFBAka2zaGeObj8zlmflro+6KSFbYvXs3Y8aMYcSIEQwdOpRbbrkFgHnz5jFu3DhGjhzJ6NGjmT17dot8norKkjU+qarZ516krSsuLmbWrFl06NCB6upqTjnlFM4991y+//3vc8stt3Duuefy7LPPctNNN/HSSy81+/OUIUjWiMUTAFTVJCLuiUh2MDM6dOgAJKfBVldXY2aYGdu3bwdg27Zt9O7du0U+r8EMwczuB84DNrr7sKDtMeDoYJMuwFZ3H2lm/YElwNLgtTfd/dpgn1HAA0B74FngBnd3MysGHgJGAZuBL7j76pY4OGldqoKAEKtWhiDZ5QfPLGLx2u0t+p5Denfils8NbXC7mpoaRo0aRXl5Oddffz1jx47ljjvuYPz48dx4440kEglef/31FulTYzKEB4AJ6Q3u/gV3H+nuI4Engb+kvbwi9VoqGASmApOBQcEt9Z7XAFvc/ShgCvDTphyItH6xeE1wrwxBJCU/P5958+ZRUVHB7NmzWbhwIVOnTmXKlCmsWbOGKVOmcM0117TIZzWYIbj7K8Ev//1Ycl7TZcCZ9b2HmfUCOrn7G8Hzh4ALgRnABcCtwaZPAHeZmbm7N+4QJFfsyRAUECTLNOaX/MHWpUsXzjjjDP7xj3/w4IMP8qtf/QqASy+9lK985Sst8hnNrSGcCmxw9+VpbQPMbK6ZvWxmpwZtfYCKtG0qgrbUa2sA3D0ObAO6NbNf0grFFBBE9lFZWcnWrVsB+OSTT3j++ec55phj6N27Ny+//DIAs2bNYtCgQS3yec2dZXQ58Eja83VAX3ffHNQM/mpmQ4FMKyRSGUB9r+3DzCaTHHaib9++Te60ZKe9GYJqCCIA69atY9KkSdTU1JBIJLjssss477zz6NKlCzfccAPxeJx27doxbdq0Fvm8JgcEMysALiZZDAbA3WNALHg8x8xWAINJZgSlabuXAqnJ5hXAEUBF8J6dgY8yfaa7TwOmAYwePVpDSjlGGYLIvoYPH87cuXP3az/llFOYM2dOi39ec4aMzgbec/c9Q0FmVmJm+cHjI0kWj1e6+zpgh5mNC+oOVwNPB7tNByYFjy8BZql+0DZV1QRF5WoFBJEoNBgQzOwR4A3gaDOrMLNUOXsi+w4XAZwGvGtm80kWiK9199Sv/euAe4FyYAXJgjLAfUA3MysHvgN8rxnHI61YKhBoHYJINBozy+jyOtq/lKHtSZLTUDNtXwYMy9C+G7i0oX5I7ksFAq1DkGzh7q32BHdNGWjRSmXJGqkMQTUEyQbt2rVj8+bNTfpijVrqegjt2rU7oP10LiPJGnsyBAUEyQKlpaVUVFRQWVkZdVeaJHXFtAOhgCBZIzVUVKVpp5IFCgsLD+hqY7lAQ0aSNWLKEEQipYAgWUM1BJFoKSBI1kjVEKoUEEQioYAgWWNvhqAagkgUFBAka6TPMmqNU/1EWjsFBMkaqVlG7lBdo4AgEjYFBMka6aes0OkrRMKngCBZI/2kdjp9hUj4FBAka6RnBZp6KhI+BQTJGumzixQQRMKngCBZoyqeIHViSa1FEAmfAoJkjVg8QYfiguCxaggiYVNAkKxRFU/QqV0hoCEjkSgoIEjWiMUTdGwXZAi6jKZI6BQQJGukZwip6yuLSHgUECRrxOI1yhBEItRgQDCz+81so5ktTGu71cw+NLN5we0zaa/dbGblZrbUzMantY8yswXBa3dacKFSMys2s8eC9rfMrH8LH6O0AomEU13jewOCaggioWtMhvAAMCFD+xR3HxncngUwsyHARGBosM/dZpYfbD8VmAwMCm6p97wG2OLuRwFTgJ828VikFUstSuu4p6isISORsDUYENz9FeCjRr7fBcCj7h5z91VAOTDGzHoBndz9DU+exvIh4MK0fR4MHj8BnJXKHqTtSGUEndonMwStQxAJX3NqCF83s3eDIaWuQVsfYE3aNhVBW5/gce32ffZx9ziwDeiW6QPNbLKZlZlZWWu98LVklsoIOmraqUhkmhoQpgIDgZHAOuD2oD3TL3uvp72+ffZvdJ/m7qPdfXRJSckBdViyWyojUA1BJDpNCgjuvsHda9w9AdwDjAleqgCOSNu0FFgbtJdmaN9nHzMrADrT+CEqyRGpANChuAAzne1UJApNCghBTSDlIiA1A2k6MDGYOTSAZPF4truvA3aY2bigPnA18HTaPpOCx5cAs1yXy2pzUhlCcUEexQV5xHQ9BJHQFTS0gZk9ApwBdDezCuAW4AwzG0lyaGc18FUAd19kZo8Di4E4cL27p37qXUdyxlJ7YEZwA7gP+IOZlZPMDCa2wHFJK5PKEIoK8iguyNc6BJEINBgQ3P3yDM331bP9bcBtGdrLgGEZ2ncDlzbUD8ltezOEfIoK8lRDEImAVipLVkjNMipKDRlpHYJI6BQQJCvUriFoHYJI+BQQJCuk1xCKCvI1ZCQSAQUEyQrpNYRi1RBEIqGAIFlhvxqC1iGIhE4BQbLCPjWEwvw9J7sTkfAoIEhW2KeGkJ+ndQgiEVBAkKwQ2ydD0LRTkSgoIEhW2JMh5OepqCwSEQUEyQpV8QRFBXmYGcUF+VqHIBIBBQTJCrF4DcX5yT9HZQgi0VBAkKxQFU9QXJgeEFRDEAmbAoJkhVg8QVGtDEFnQRcJlwKCZIVYPEFxYT4AxYX5uEM8oYAgEiYFBMkKVfGaPRlC6l51BJFwKSBIVoil1xCCe52+QiRcCgiSFapq1RBAGYJI2BQQJCvskyEUJGsJWosgEq4GA4KZ3W9mG81sYVrbz83sPTN718yeMrMuQXt/M/vEzOYFt9+m7TPKzBaYWbmZ3WlmFrQXm9ljQftbZta/5Q9Tsl16hlCkDEEkEo3JEB4AJtRqmwkMc/fhwDLg5rTXVrj7yOB2bVr7VGAyMCi4pd7zGmCLux8FTAF+esBHIa1eLF6zJzPYO2SkGoJImBoMCO7+CvBRrbbn3D0ePH0TKK3vPcysF9DJ3d/w5OTyh4ALg5cvAB4MHj8BnJXKHqTtSJ26AvYOGSlDEAlXS9QQ/g2YkfZ8gJnNNbOXzezUoK0PUJG2TUXQlnptDUAQZLYB3TJ9kJlNNrMyMyurrKxsga5LtojFE3syg1QtQTUEkXA1KyCY2X8DceCPQdM6oK+7Hw98B/iTmXUCMv3iT606qu+1fRvdp7n7aHcfXVJS0pyuS5ZJzxD2rkPQkJFImAqauqOZTQLOA84KhoFw9xgQCx7PMbMVwGCSGUH6sFIpsDZ4XAEcAVSYWQHQmVpDVJL7khlCaqVyah2CMgSRMDUpQzCzCcB/Aue7+8dp7SVmlh88PpJk8Xilu68DdpjZuKA+cDXwdLDbdGBS8PgSYJbrJDZtjmoIItFrMEMws0eAM4DuZlYB3EJyVlExMDOo/74ZzCg6DfhfM4sDNcC17p76tX8dyRlL7UnWHFJ1h/uAP5hZOcnMYGKLHJm0GomEU1WTVkMoUA1BJAoNBgR3vzxD8311bPsk8GQdr5UBwzK07wYubagfkruqavZeTzn9XjUEkXBppbJELv16yun3GjISCZcCgkSuar+AoBqCSBQUECRyqaGhVCAozDfMFBBEwqaAIJFLZQip2oGZUZSvy2iKhE0BQSJXu4aQeqx1CCLhUkCQyNXOECB5GU0NGYmESwFBIrc3Q8jf01ZckKd1CCIhU0CQyGXKEIoKVEMQCZsCgkRu7yyj9BqChoxEwqaAIJHbsw6hsFZRWQFBJFQKCBK51Bd/6rTXkKohaMhIJEwKCBK5vRnC3qJykTIEkdApIEjkUjWEfTOEfK1DEAmZAoJELpaphlCoWUYiYVNAkMjVWUOoUYYgEiYFBIlc7bOdph5ryEgkXAoIErlYPEFRfh7B1fcArUMQiYICgkSuKp7YJzuA1DoE1RBEwtRgQDCz+81so5ktTGs7zMxmmtny4L5r2ms3m1m5mS01s/Fp7aPMbEHw2p0W/Bw0s2Izeyxof8vM+rfwMUqWi8Vr9jltBSSnnVbFE7h7RL0SaXsakyE8AEyo1fY94AV3HwS8EDzHzIYAE4GhwT53m1lqcvlUYDIwKLil3vMaYIu7HwVMAX7a1IOR1qmuDCHhEE8oIIiEpcGA4O6vAB/Var4AeDB4/CBwYVr7o+4ec/dVQDkwxsx6AZ3c/Q1P/uR7qNY+qfd6AjjL0geTJefF4on9MgRdRlMkfE2tIfR093UAwX2PoL0PsCZtu4qgrU/wuHb7Pvu4exzYBnRrYr+kFUpmCPn7tKXWJMSqVUcQCUtLF5Uz/bL3etrr22f/NzebbGZlZlZWWVnZxC5KtslYQwjWJGgtgkh4mhoQNgTDQAT3G4P2CuCItO1KgbVBe2mG9n32MbMCoDP7D1EB4O7T3H20u48uKSlpYtcl21TVZKgh7MkQFBBEwtLUgDAdmBQ8ngQ8ndY+MZg5NIBk8Xh2MKy0w8zGBfWBq2vtk3qvS4BZrqklbUqsWjUEkWxQ0NAGZvYIcAbQ3cwqgFuAnwCPm9k1wAfApQDuvsjMHgcWA3HgendPDQJfR3LGUntgRnADuA/4g5mVk8wMJrbIkUmrUVWToGO7ff8UUxmD1iKIhKfBgODul9fx0ll1bH8bcFuG9jJgWIb23QQBRdqmTBlC6rmuqywSHq1Ulsglawi1ZhlpyEgkdAoIErlY9f6zjDRkJBI+BQSJnGYZiWQHBQSJXMYagtYhiIROAUEiF8tUQwiur6wMQSQ8CggSKXenKuO5jFRDEAmbAoJEKjUklOlsp6BZRiJhUkCQSMUyXD4T9q5DUEAQCY8CgkQq0/WUYW9RWQFBJDwKCBKp1Bd+7RqCmekymiIhU0CQSO3NEPL3e624IE+zjERCpIAgkUplALUzhGRbvtYhiIRIAUEiVVcNIdWmDEEkPAoIEqm6agiQPH2Faggi4VFAkEjVX0PI1ywjkRApIEik6q8h5Ol6CCIhUkCQSDVYQ9CQkUhoFBAkUvXWEAryNGQkEiIFBIlUXaeuSLbla5aRSIiaHBDM7Ggzm5d2225m3zKzW83sw7T2z6Ttc7OZlZvZUjMbn9Y+yswWBK/daWbW3AOT1qGhDEHrEETC0+SA4O5L3X2ku48ERgEfA08FL09JvebuzwKY2RBgIjAUmADcbWapqSVTgcnAoOA2oan9ktalwZXKqiGIhKalhozOAla4+/v1bHMB8Ki7x9x9FVAOjDGzXkAnd3/D3R14CLiwhfolWS71hZ9xyKhQC9NEwtRSAWEi8Eja86+b2btmdr+ZdQ3a+gBr0rapCNr6BI9rt+/HzCabWZmZlVVWVrZQ1yVKqQwhdXbTdFqHIBKuZgcEMysCzgf+HDRNBQYCI4F1wO2pTTPs7vW079/oPs3dR7v76JKSkuZ0W7JELJ6gMN/Iy9v/z0DrEETC1RIZwrnAO+6+AcDdN7h7jbsngHuAMcF2FcARafuVAmuD9tIM7dIGVMX3v55ySqqGkBxJFJGDrSUCwuWkDRcFNYGUi4CFwePpwEQzKzazASSLx7PdfR2ww8zGBbOLrgaeboF+SSsQi9dknGEEyYCQcIgnFBBEwlDQnJ3N7BDg08BX05p/ZmYjSQ77rE695u6LzOxxYDEQB65399QUkuuAB4D2wIzgJm1AMkOoKyAkM4fksJKWzIgcbM0KCO7+MdCtVttV9Wx/G3BbhvYyYFhz+iKtUyyeqDNDSLVXxRNQHGavRNom/eySSNWfIaSuq6y1CCJhUECQSNWXIRQXBgFBaxFEQqGAIJGqf5bR3hqCiBx8CggSqVi8JuOiNNi7WE1rEUTCoYAgkaqKJ/YMDdW2Z8hINQSRUCggSKRi8USdGYKGjETCpYAgkUpmCJlrCEWaZSQSKgUEiVT9GYJqCCJhUkCQSMXqqyHsyRAUEETCoIAgkapvllFqKEnrEETCoYAgkapvllEqUKiGIBIOBQSJjLsnh4zqzBA0ZCQSJgUEiUx1TfK01nXNMlINQSRcCggSmdRQUEMrlRUQRMKhgCCRSU0nrauGYGYUBVdNE5GDTwFBIpP65V9XhgDJYSOtQxAJhwKCRKahDAGSp6/QkJFIOBQQJDJ7M4TMRWVIZghahyASjmYFBDNbbWYLzGyemZUFbYeZ2UwzWx7cd03b/mYzKzezpWY2Pq19VPA+5WZ2p5lZc/olrcOeDKGOC+SkXlMNQSQcLZEhfMrdR7r76OD594AX3H0Q8ELwHDMbAkwEhgITgLvNLPXTcCowGRgU3Ca0QL8ky+2ZZVRPQChSDUEkNAdjyOgC4MHg8YPAhWntj7p7zN1XAeXAGDPrBXRy9zfc3YGH0vaRHNaoDKFQNQSRsDQ3IDjwnJnNMbPJQVtPd18HENz3CNr7AGvS9q0I2voEj2u378fMJptZmZmVVVZWNrPrErU9NQQNGYlkhYJm7n+yu681sx7ATDN7r55tM9UFvJ72/RvdpwHTAEaPHp1xG2k9YnsyhPqLyjtj8bC6JNKmNStDcPe1wf1G4ClgDLAhGAYiuN8YbF4BHJG2eymwNmgvzdAuOa4xNQStQxAJT5MDgpkdamYdU4+Bc4CFwHRgUrDZJODp4PF0YKKZFZvZAJLF49nBsNIOMxsXzC66Om0fyWGNm2WkGoJIWJozZNQTeCqYIVoA/Mnd/2FmbwOPm9k1wAfApQDuvsjMHgcWA3HgendPDQ5fBzwAtAdmBDfJcTFNOxXJKk0OCO6+EhiRoX0zcFYd+9wG3JahvQwY1tS+SOtU1YgagqadioRHK5UlMo2fZaSAIBIGBQSJTFVjAkJhvk5dIRISBQSJTCxeQ0GekZ9X95lKVEMQCY8CgkSmKp6ot6AMyVNjJxziNcoSRA42BQSJTCyeqHe4CHRdZZEwKSBIZJIZQt0zjGDvDCQFBJGDTwFBIhOL1zScIRTk7dlWRA4uBQSJTFVNI2oIwetaiyBy8CkgSGRi1Yl6L58JGjISCZMCgkSmqiZBUX4jh4y0FkHkoFNAkMjEqhtRVC5UDUEkLAoIEplYTcPTTlMZhGoIIgefAoJEJlZd02BRubhQNQSRsCggSGSqGpEhaNqpSHgUECQyjaohFGilskhYFBAkMo3JEIoUEERCo4AgkWlUDUHrEERCo4AgkWnMSuU9006rVUMQOdiaHBDM7Agze9HMlpjZIjO7IWi/1cw+NLN5we0zafvcbGblZrbUzMantY8yswXBa3dacKFmyV3uTqwRp79WDUEkPE2+pjIQB/7D3d8xs47AHDObGbw2xd1/kb6xmQ0BJgJDgd7A82Y22N1rgKnAZOBN4FlgAjCjGX2TLBdPOO71Xy0NtA5BJExNzhDcfZ27vxM83gEsAfrUs8sFwKPuHnP3VUA5MMbMegGd3P0Nd3fgIeDCpvZLWofUL/6GZhmZGUW6rrJIKFqkhmBm/YHjgbeCpq+b2btmdr+ZdQ3a+gBr0narCNr6BI9rt0sOa8z1lFN0GU2RcDQ7IJhZB+BJ4Fvuvp3k8M9AYCSwDrg9tWmG3b2e9kyfNdnMysysrLKysrldlwilvuAbqiGktlGGIHLwNSsgmFkhyWDwR3f/C4C7b3D3GndPAPcAY4LNK4Aj0nYvBdYG7aUZ2vfj7tPcfbS7jy4pKWlO1yViB5Yh5KuGIBKC5swyMuA+YIm7/zKtvVfaZhcBC4PH04GJZlZsZgOAQcBsd18H7DCzccF7Xg083dR+SevQ2BpCchtlCCJhaM4so5OBq4AFZjYvaPsv4HIzG0ly2Gc18FUAd19kZo8Di0nOULo+mGEEcB3wANCe5OwizTDKcQeSIRQV5GkdgkgImhwQ3P1VMo//P1vPPrcBt2VoLwOGNbUv0vqohiCSfbRSWTJyd657eA63Tl90UN4/phqCSNZpzpCR5LCXl1UyY+F6zODyMX05+vCOLfr+e2sIjQgIhXnsisVb9PNFZH/KEGQ/iYTz838upU+X9nQoKmDKzGUt/hkHvg5BGYLIwaaAIPt5duE6Fq3dzn+cM5hrTh3APxatZ0HFthb9jAOZZaSVyiLhUECQfcRrEvzyuWUM7tmBC0b24ZpTBtDlkEJun7m0RT+n6kCGjFRDEAmFAoLs44k5FazctIvvjj+G/DyjY7tCrj19IC8traRs9Uct9jkHPstI005FDjYFBNljd3UNv3phOSf07cLZx/bY0371if3o3qGYn/9zKcnzDzZfLtUQEgln6fodymKk1VNAaMDcD7bwevkmKnfEWuzLMFv94Y33WbdtN98dfwzpl6Q4pKiA6z81kLdWfcTrKza3yGcdcA2hOtwv2yfmVPA/f13AuxVb69zG3Xlu0Xo+++tXGX/HK1zwm9dYvHZ7eJ0UaWGadlqP37+2ih88s3jP866HFDKoR0cG9ezA8NLOfP6EUgrycyOm7thdzd0vlXPqoO6cOLDbfq9fMbYv97yykp//cyknDexGc69hdMDnMqoJLyBMfWkFP/3He5jBw29+wPDSznxxbD8+N6I37YvycXdeWlbJlJnLeLdiG/27HcKN5wzmgdff5/y7XuWbZw3iujMGUpgjfxvSdigg1OG3L6/gJzPeY/zQnnxxXD+Wb9jJ8o07WL5hJ8/MX8sf3/qA7Z/E+ffTjoy6q7h7s7+g7/nXKrZ8XM1N44/J+HpxQT7fOGsQN/9lAbPe28hZx/YEkl/sLy7dyJNzKphfsZXfXTWakUd0afDzYvEaCvKM/LyG+11ckEdNwonXJA5qAHZPTre9+6UVnD+iN7eeP5Rn5q/l4Tff56Yn3+WHf1/MRcf3YeGH23jng62Udm3Pzy4ZzsXH96EgP48rx/bj+9MX8cuZy5i5eAO3XzaCwT1bdv1Gyq5YnFWbdjGsT+eD8v7SNikg1OLu3PlCOVOeX8bnRvTml5eNoDA/j1MHleyzzdX3z+bul8qZOOYIOrYrjKSvcz/Ywo1/ns+Wj6s5Z0hPJgw7nJMGdm/Ur+50m3fGuO9fK/nscb04rrTuL5hLRpXy25dX8IvnltGtQzFPvVPB9Plr2fJxNd07FJNncO0f5jD9GyfTo2O7ej+zKp5odD/3XFc5fvACQiLh3PrMIh56430uH9OXH104jPw8Y9JJ/bn6xH68vXoLD7/5Po/M/oCSDsX8+KLjuGRU6T7H0PXQIn59+fFMGHo4/+/phZx356t8+eT+FBXksWlnFZt3xti0M8bmXVUM7d2JKV8Y2aghs9oWVGzjG4+8w+rNH/Onr4zlpKO6t+R/CmnDFBDSpP9C/PwJpfzskuEZf8GaGTeNP4bP3fUq9/xrFd/59OAW68P6bbuZ+lI5nx5yOCcflXlopromwV2zyrnrxXJ6dizmpIHdeGb+Wh59ew2d2hVw9pCenDusF2P6H0bnQzIHq0TCeeeDLfx9wTpmLFjP7niC75xT/3EU5ufxrbMH8e3H5nPhb16jqCCPc4b05POjSjn1qO4s27CTi6e+xtcefoc//fu4er/wG3M95ZTUZTRj8QSHFje8fU3CG5V5pMRrEtz0xLv8Ze6HfPW0I/neufvWUMyMMQMOY8yAw9gVO46igrx6h4M+O7wXYwYcxv/8dQG/e2UleQaHHVpE9w7FdOtQxNEdOvLsgvUUFyzgl5eNaHR25+78/rXV/N+MJXQ7tJg+Xdrz339dyIwbTqVd4YEHFpHaFBAC7s4P/7aE+19bxRVj+/KjC4aRV8+XynGlnfnscb24718rmXRiP7p1aMQ3VQM27Yxxxb1vsrJyFw++8T7H9urE5NMGcN7w3nu+gFZt2sW3HpvH/DVbuej4PvzggqF0alfI7uoaXl2+iRkL1zNz8Xr+8s6HABzeqR3H9OrI0Yd35JjDO9K9QzGz3tvIjAXrWb99N0UFeZw+uIQrx/ZlYEmHBvt4/og+rNi4iz5d2/OZ43rRuf3egDOkdyd+dskIvvnIXP73b4v40YXH1fk+B5Yh5O/Zpz4rKnfy0OureWJOBQN7dOA3V5zAEYcdUu8+u6truOHRufxz0QZuPGcw13/qqHq/oA8tbtw/mZKOxfzuqtFs313NoUUF+wWoX7+wnNtnLqNft0P41tkN/6DYsquK7z4xn+eXbOTsY3vw80tGsHDtNq66bza/ebGc/zjn6Eb1S6Q+CgjAOx9sYepLK5i5eANfPrk/3z9vSKN+tX3nnMH8Y9F6fvPiCr7/uSHN6sPWj6v44r1vsXbrJzx8zVjWbvuEe15Zybcfm89PZyzlyyf355CifH787HsUFeRx1xXHc97w3nv2b1eYz9lDenL2kJ5UxY/j7dUfsfDDbby3fgfvrd/Ba+WbqK5JzpJKBYHvHXcMZx3b44CGvPLzjBvH1/3lc/6I3ixau43fvbySob07c/mYvhm3S2YIjftVm8okpr2ykjEDunJsr04c0fUQ8vKMRMJ5eXklD7y2mpeXVVKUn8enh/bklWWVnPfrV7njCyP51DE9Mr7vGys2819PLWDVpl3c+rkhfOnkAY3qz4HoVMd/26+feRSrN3/MHc8vp3+3Q7nw+LqvGjt71Ufc8OhcNu2M8f3zhvDlk/tjZpw6qISLju/Db19ewedG9D5o9QppO6y1TqUcPXq0l5WVNXn/qniCGQvXcf9rq5m/Zisdiwu49oyBfO2MgQdUoP3PJ97lqbkf8uJ3z6BPl/ZN6svOWJwr732LJWu3c++k0Zw2OFmvSH3Z3fPKyj3TPU8d1J2fXzKCwzvXP0ZfW3VNglWbdrF26yeM6tf1oNY9ahLOl34/mzdXbubRyScyql/X/ba5/o/vsHTDDp7/zukNvl/5xp1c/8d3WL5xB4ngz7VDcQHHHN6Rj3ZVsXLTLko6FnPVuH5cPqYvJR2LeX/zLq59+B2WrNvON888ihvOHrznV/rWj6v48bNLeLysgr6HHcKPLzqOUwaFPw5fFU9w1X1vMfeDrTz8lbGMGXDYPq+vqNzJnS8sZ/r8tfQ77BB+ffkJ+9V4Nu+McdYvX2ZgSQf+/NUT681qRQDMbI67j874WlsLCJt3xvjTWx/whzffZ+OOGAO6H8qXTurP50eV0qGRwwHp1m79hDN+8RIXjuzNzy4ZccD7f1JVw5d+P5uy97cw9coTOGfo4Rm3W/jhNtZv282Zx/RoFf/ot35cxfl3vcbu6hqe+cYp9Oy0bwD7yoNvs27bbv7+zVMb/Z67q2tYun4HS9ZtZ8m67Sxet508M64Y25dzh/Xabwhqd3UN//PXhTwxp4JTB3XnVxOP51/LK/nh3xaz5eNq/v3UI7nhrEG0L4pu/H3rx1VcfPfrbPm4iqe+djL9ux/Kqk27uPOF5Tw970OKC/K5+qR+fP1TR9UZxP9ctobvPvEut100jCvH9gv5CKS1UUBIc8fzy7jj+eWcNriEL5/Un9MHlzT7C/aHf1vM719bxXPfPp2jeuw7Dp9IOM8t3sDarZ9wZMmhDCzpQO8u7cnPM2LxGiY/NIdXlldyxxdGcsHIuocNWqP31m/n4rtfp1+3Q/n5JcP3mSJ51X1vsTMW56mvnXxQ++DuPPr2Gm55ehH5ecYn1TWMKO3M/108nCG9Ox3Uz26s1Zt2cdHdr9H1kCKO79uVp+ZWUFSQx9Un9mfyaUfSvYH6lLtzxT1vsXDtNl74zun06HRg2aO0LQoIaT7aVcVHu2Ic1aPlxls374xx2s9e5PSjS7j7ylFA8h/pC0s2cvvMZSxZt+/q1aKCPI7sfih5Zixet52fXHwcE+sYa2/tXnxvIzf+eT4ffVzFJSeU8t0JR9OjYzsu+90b5Bk8OvnEUPrxbsVWfvT3JUwYejiTTup/QLOQwvD26o+48p63MIOrxvXjq6cPpKRj4ycqrNq0i/F3vMKnj+3Jb6484SD2VFo7BYQQTJm5jF+9sJxnvn4K23dX84vnljL3g63063YI3z57MCcf1Z1Vm3axsnInKzftYsXGnXy49ROuHNePq8bldpq/fXc1d80q5/evraIoP4/rzzyKv81fR/eOxTz0b2Oi7l7WKN+4k87tCw8oEKS7a9ZyfvHcMu69ejRnD+nZwr2TXNEqAoKZTQB+BeQD97r7T+rbPtsCwo7d1Zz2sxeJ1zg7YnF6dW7HN88axCWjSnUKg8CqTbu47e9LeH7JBgA+PaQn91yd8e9SmqAqnuC8X/+L8o07OfOYnlw5ti+nDS7JumxIopX1AcHM8oFlwKeBCuBt4HJ3X1zXPtkWEAAenf0Bv55VzjWnDOCKsX21WKgOry7fxO0zlzJ+6OFce/rAqLuTUzbu2M2Dr6/msbcr2LQzRp8u7blibF8uHV3a4OpxaRtaQ0A4EbjV3ccHz28GcPf/q2ufbAwIItmiKp5g5uIN/PGt93l9xWYK8izjUJQ7OB7cJ58nH6UYZmAQ3Cef5woD8vKMPEueV8sM8sxIuJNIOAlPTqN2d+r6pkz+t0nunxfsn5eXfA8P9k89TrTQ9+13xx/NxSeUNmnf+gJCtixM6wOsSXteAYytvZGZTQYmA/Ttm5tFWJGWUFSQx2eH9+Kzw3uxonInT85JZgyZpL7kk1/0ewNAeoBw3xs8ckki+JJOffmnvrhTgSEVJPKt7kDoDjVpX/ipAGBm5FsQJIKgkwqszdWrc9PWPDUkWwJCpv9E+/3lufs0YBokM4SD3SmRXDCwpAM3Tch8FluRdNlS7awAjkh7XgqsjagvIiJtUrYEhLeBQWY2wMyKgInA9Ij7JCLSpmTFkJG7x83s68A/SU47vd/dF0XcLRGRNiUrAgKAuz8LPBt1P0RE2qpsGTISEZGIKSCIiAiggCAiIgEFBBERAbLk1BVNYWaVwPuN2LQ7sOkgdydqOsbc0RaOsy0cI2TvcfZz95JML7TagNBYZlZW13k7coWOMXe0heNsC8cIrfM4NWQkIiKAAoKIiATaQkCYFnUHQqBjzB1t4TjbwjFCKzzOnK8hiIhI47SFDEFERBpBAUFERIAcDghmNsHMlppZuZl9L+r+tBQzu9/MNprZwrS2w8xsppktD+67RtnH5jKzI8zsRTNbYmaLzOyGoD1njtPM2pnZbDObHxzjD4L2nDnGFDPLN7O5Zva34HkuHuNqM1tgZvPMrCxoa3XHmZMBwczygd8A5wJDgMvNbEi0vWoxDwATarV9D3jB3QcBLwTPW7M48B/ufiwwDrg++P+XS8cZA8509xHASGCCmY0jt44x5QZgSdrzXDxGgE+5+8i0tQet7jhzMiAAY4Byd1/p7lXAo8AFEfepRbj7K8BHtZovAB4MHj8IXBhmn1qau69z93eCxztIfpn0IYeO05N2Bk8Lg5uTQ8cIYGalwGeBe9Oac+oY69HqjjNXA0IfYE3a84qgLVf1dPd1kPwyBXpE3J8WY2b9geOBt8ix4wyGUuYBG4GZ7p5zxwjcAdwEJNLacu0YIRnMnzOzOWY2OWhrdceZNRfIaWGWoU3za1sZM+sAPAl8y923m2X639p6uXsNMNLMugBPmdmwiLvUoszsPGCju88xszMi7s7BdrK7rzWzHsBMM3sv6g41Ra5mCBXAEWnPS4G1EfUlDBvMrBdAcL8x4v40m5kVkgwGf3T3vwTNOXecAO6+FXiJZG0ol47xZOB8M1tNctj2TDN7mNw6RgDcfW1wvxF4iuSwdas7zlwNCG8Dg8xsgJkVAROB6RH36WCaDkwKHk8Cno6wL81myVTgPmCJu/8y7aWcOU4zKwkyA8ysPXA28B45dIzufrO7l7p7f5L/Bme5+xfJoWMEMLNDzaxj6jFwDrCQVnicObtS2cw+Q3L8Mh+4391vi7ZHLcPMHgHOIHlq3Q3ALcBfgceBvsAHwKXuXrvw3GqY2SnAv4AF7B17/i+SdYScOE4zG06y0JhP8ofZ4+7+v2bWjRw5xnTBkNGN7n5erh2jmR1JMiuA5DD8n9z9ttZ4nDkbEERE5MDk6pCRiIgcIAUEEREBFBBERCSggCAiIoACgoiIBBQQREQEUEAQEZHA/wc9jqO3GbOWRwAAAABJRU5ErkJggg==",
      "text/plain": [
       "<Figure size 432x288 with 1 Axes>"
      ]
     },
     "metadata": {
      "needs_background": "light"
     },
     "output_type": "display_data"
    }
   ],
   "source": [
    "c3.T.plot()"
   ]
  },
  {
   "cell_type": "code",
<<<<<<< HEAD
   "execution_count": 475,
=======
   "execution_count": 14,
>>>>>>> 1eaaedc47848ddf767706f31d7b2485fc34a78da
   "metadata": {},
   "outputs": [
    {
     "name": "stdout",
     "output_type": "stream",
     "text": [
      "[0, 1, 2, 3, 4, 5, 6, 7, 8, 9, 10, 11, 12, 13, 14, 15, 16, 17, 18, 19, 20, 21, 22, 23, 24, 25, 26, 27, 28, 29, 30, 31, 32, 33, 34, 35, 36, 37, 38, 39, 40, 41, 42, 43, 44, 45, 46, 47, 48, 49, 50, 51, 52, 53] [497, 725, 1233, 1145, 149, 422, 341, 893, 655, 1022, 851, 758, 933, 1928, 912, 1106, 452, 151, 18079, 714, 617, 843, 436, 769, 1264, 1049, 1317, 962, 1008, 394, 659, 1046, 213, 0, 0, 2, 0, 0, 0, 0, 0, 0, 0, 0, 0, 0, -5, 0, 0, -5, 0, 0, 0, 0]\n"
     ]
    }
   ],
   "source": [
    "#next, buat dia kayak mejeneng time series seperti biasanya, which is datanya ke bawah, \n",
    "new_c3=[]\n",
    "time=[]\n",
    "for idx,_ in enumerate(c3):\n",
    "    new_c3.append(c3.iloc[0,idx])\n",
    "    time.append(idx)\n",
    "print(time,new_c3)"
   ]
  },
  {
   "cell_type": "code",
<<<<<<< HEAD
   "execution_count": 476,
=======
   "execution_count": 15,
>>>>>>> 1eaaedc47848ddf767706f31d7b2485fc34a78da
   "metadata": {},
   "outputs": [],
   "source": [
    "#sama aja cuman data test\n",
    "new_c3_t=[]\n",
    "time_t=[]\n",
    "i = 55\n",
    "for idx,a in enumerate(c3_t):\n",
    "    new_c3_t.append(c3_t[a].mean())\n",
    "    time_t.append(i)\n",
    "    i+=1"
   ]
  },
  {
   "cell_type": "code",
<<<<<<< HEAD
   "execution_count": 477,
=======
   "execution_count": 16,
>>>>>>> 1eaaedc47848ddf767706f31d7b2485fc34a78da
   "metadata": {},
   "outputs": [
    {
     "data": {
      "text/plain": [
       "[0.0, 0.0, 0.0, 0.0, 0.0, 0.0]"
      ]
     },
<<<<<<< HEAD
     "execution_count": 477,
=======
     "execution_count": 16,
>>>>>>> 1eaaedc47848ddf767706f31d7b2485fc34a78da
     "metadata": {},
     "output_type": "execute_result"
    }
   ],
   "source": [
    "new_c3_t"
   ]
  },
  {
   "cell_type": "code",
<<<<<<< HEAD
   "execution_count": 478,
=======
   "execution_count": 17,
>>>>>>> 1eaaedc47848ddf767706f31d7b2485fc34a78da
   "metadata": {},
   "outputs": [],
   "source": [
    "#normalisasi, karena gap nya ada yang sampe ribuan, biar lebih gampang tugas ann nya\n",
    "series=new_c3\n",
    "min = np.min(series)\n",
    "max = np.max(series)\n",
    "series = series - min\n",
    "series = series / (max-min)\n",
    "\n",
    "# scaler = MinMaxScaler(feature_range=(0, 1))\n",
    "# series = scaler.fit_transform(series)\n",
    "\n",
    "time = np.array(time)"
   ]
  },
  {
   "cell_type": "code",
<<<<<<< HEAD
   "execution_count": 479,
=======
   "execution_count": 18,
>>>>>>> 1eaaedc47848ddf767706f31d7b2485fc34a78da
   "metadata": {},
   "outputs": [],
   "source": [
    "# Karena data test tidak ada gap nya, maka kita tidak perlu normalisasi\n",
    "series_t=new_c3_t\n",
    "\n",
    "time_t = np.array(time_t)"
   ]
  },
  {
   "cell_type": "code",
<<<<<<< HEAD
   "execution_count": 480,
=======
   "execution_count": 19,
>>>>>>> 1eaaedc47848ddf767706f31d7b2485fc34a78da
   "metadata": {},
   "outputs": [
    {
     "data": {
      "text/plain": [
       "[0.0, 0.0, 0.0, 0.0, 0.0, 0.0]"
      ]
     },
<<<<<<< HEAD
     "execution_count": 480,
=======
     "execution_count": 19,
>>>>>>> 1eaaedc47848ddf767706f31d7b2485fc34a78da
     "metadata": {},
     "output_type": "execute_result"
    }
   ],
   "source": [
    "series_t"
   ]
  },
  {
   "cell_type": "code",
<<<<<<< HEAD
   "execution_count": 481,
=======
   "execution_count": 20,
>>>>>>> 1eaaedc47848ddf767706f31d7b2485fc34a78da
   "metadata": {},
   "outputs": [],
   "source": [
    "split_time = 3 # ini berapa bulan terkahir yang mau di potong buat pengujian?\n",
    "\n",
    "time_train = time\n",
    "x_train =  series\n",
    "time_valid =  time_t\n",
    "x_valid =  series_t"
   ]
  },
  {
   "cell_type": "code",
<<<<<<< HEAD
   "execution_count": 482,
=======
   "execution_count": 21,
>>>>>>> 1eaaedc47848ddf767706f31d7b2485fc34a78da
   "metadata": {},
   "outputs": [
    {
     "data": {
      "text/plain": [
       "[0.0, 0.0, 0.0, 0.0, 0.0, 0.0]"
      ]
     },
<<<<<<< HEAD
     "execution_count": 482,
=======
     "execution_count": 21,
>>>>>>> 1eaaedc47848ddf767706f31d7b2485fc34a78da
     "metadata": {},
     "output_type": "execute_result"
    }
   ],
   "source": [
    "x_valid"
   ]
  },
  {
   "cell_type": "code",
<<<<<<< HEAD
   "execution_count": 483,
=======
   "execution_count": 22,
>>>>>>> 1eaaedc47848ddf767706f31d7b2485fc34a78da
   "metadata": {},
   "outputs": [],
   "source": [
    "#buat data biar dibagi per window, jadi me masang masangkan waktu dan value,\n",
    "window_size = 2\n",
    "batch_size = 8\n",
    "shuffle_buffer_size = 10\n",
    "\n",
    "train_set = windowed_dataset(x_train, window_size, batch_size, shuffle_buffer_size)\n",
    "valid_set = windowed_dataset(x_valid, window_size, batch_size, shuffle_buffer_size)"
   ]
  },
  {
   "cell_type": "code",
<<<<<<< HEAD
   "execution_count": 484,
=======
   "execution_count": 23,
>>>>>>> 1eaaedc47848ddf767706f31d7b2485fc34a78da
   "metadata": {},
   "outputs": [
    {
     "data": {
      "text/plain": [
       "<PrefetchDataset shapes: ((None, None, 1), (None, None, 1)), types: (tf.float64, tf.float64)>"
      ]
     },
<<<<<<< HEAD
     "execution_count": 484,
=======
     "execution_count": 23,
>>>>>>> 1eaaedc47848ddf767706f31d7b2485fc34a78da
     "metadata": {},
     "output_type": "execute_result"
    }
   ],
   "source": [
    "train_set"
   ]
  },
  {
   "cell_type": "code",
<<<<<<< HEAD
   "execution_count": 485,
=======
   "execution_count": 24,
>>>>>>> 1eaaedc47848ddf767706f31d7b2485fc34a78da
   "metadata": {},
   "outputs": [
    {
     "data": {
      "text/plain": [
       "<PrefetchDataset shapes: ((None, None, 1), (None, None, 1)), types: (tf.float32, tf.float32)>"
      ]
     },
<<<<<<< HEAD
     "execution_count": 485,
=======
     "execution_count": 24,
>>>>>>> 1eaaedc47848ddf767706f31d7b2485fc34a78da
     "metadata": {},
     "output_type": "execute_result"
    }
   ],
   "source": [
    "valid_set"
   ]
  },
  {
   "cell_type": "markdown",
   "metadata": {},
   "source": [
    "Penyusunan deep learning nya\n",
    "\n",
    "Kita Menggunakan BLSTM atau *Bidirectional Long Short Term Memory*. BLSTM adalah proses pembuatan jaringan syaraf tiruan untuk memiliki urutan informasi dalam kedua arah mundur (masa depan ke masa lalu) atau maju (masa lalu ke masa depan).\n",
    "\n",
    "kalo ini pake BLSTM dengan input layer sebanyak 2 neuron, BLSTM layer ada dua, yang pertama ada 64 neuron, terus yang kedua ada 32 neuron, dibuat mengkerucut (segitiga terbalik) seolah kita menyederhanakan data datanya, jadi kan makin dalem makin sedikit tuh, karena ada yang ga kepake kepake buat menentukan sales nya dan lain lain, \n",
    "\n",
    "terus setiap selesai masuk BLSTM layer, ada dropout, itu tuh untuk mengeliminasi secara random (di case ini 50%) sambungan antara neuron, dan nge \"matiin\" neuronnya itu juga, mensimulasi degradasi neuron dan sambungannya saat kita tidur, alias proses mengubah ingatan jadi jangka menengah ke panjang dari apa yang kita dapatkan pada hari itu. "
   ]
  },
  {
   "cell_type": "code",
<<<<<<< HEAD
   "execution_count": 486,
=======
   "execution_count": 25,
>>>>>>> 1eaaedc47848ddf767706f31d7b2485fc34a78da
   "metadata": {},
   "outputs": [],
   "source": [
    "model = tf.keras.Sequential([\n",
    "        tf.keras.layers.Dense(2, input_shape=[None, 1]),\n",
    "        tf.keras.layers.Bidirectional(tf.keras.layers.LSTM(64,return_sequences=True)),\n",
    "        # tf.keras.layers.Bidirectional(tf.keras.layers.LSTM(32)),\n",
    "        \n",
    "        # tf.keras.layers.Flatten(),\n",
    "       # tf.keras.layers.Dense(4096, activation='relu'),\n",
    "        tf.keras.layers.Dense(2048, activation='relu'),\n",
    "        #tf.keras.layers.Dense(1024, activation='relu'),\n",
    "        tf.keras.layers.Dropout(0.3),\n",
    "        tf.keras.layers.Dense(512, activation='relu'),\n",
    "        tf.keras.layers.Dense(64, activation='relu',kernel_regularizer=tf.keras.regularizers.l1_l2(l1=0.1, l2=0.01)),\n",
    "        tf.keras.layers.Dense(32, activation='relu'),\n",
    "        tf.keras.layers.Dense(32),\n",
    "        tf.keras.layers.Dense(16),\n",
    "        tf.keras.layers.Dense(8),\n",
    "        # tf.keras.layers.Dropout(0.3),\n",
    "        tf.keras.layers.Dense(1)\n",
    "    ])\n",
    "\n",
    "    #the blstm part"
   ]
  },
  {
   "cell_type": "code",
<<<<<<< HEAD
   "execution_count": 487,
=======
   "execution_count": 26,
>>>>>>> 1eaaedc47848ddf767706f31d7b2485fc34a78da
   "metadata": {},
   "outputs": [
    {
     "name": "stdout",
     "output_type": "stream",
     "text": [
<<<<<<< HEAD
      "Model: \"sequential_17\"\n",
=======
      "Model: \"sequential\"\n",
>>>>>>> 1eaaedc47848ddf767706f31d7b2485fc34a78da
      "_________________________________________________________________\n",
      "Layer (type)                 Output Shape              Param #   \n",
      "=================================================================\n",
<<<<<<< HEAD
      " dense_177 (Dense)           (None, None, 2)           4         \n",
      "                                                                 \n",
      " bidirectional_18 (Bidirecti  (None, None, 128)        34304     \n",
      " onal)                                                           \n",
      "                                                                 \n",
      " dense_178 (Dense)           (None, None, 2048)        264192    \n",
      "                                                                 \n",
      " dropout_17 (Dropout)        (None, None, 2048)        0         \n",
      "                                                                 \n",
      " dense_179 (Dense)           (None, None, 512)         1049088   \n",
      "                                                                 \n",
      " dense_180 (Dense)           (None, None, 64)          32832     \n",
      "                                                                 \n",
      " dense_181 (Dense)           (None, None, 32)          2080      \n",
      "                                                                 \n",
      " dense_182 (Dense)           (None, None, 32)          1056      \n",
      "                                                                 \n",
      " dense_183 (Dense)           (None, None, 16)          528       \n",
      "                                                                 \n",
      " dense_184 (Dense)           (None, None, 8)           136       \n",
      "                                                                 \n",
      " dense_185 (Dense)           (None, None, 1)           9         \n",
      "                                                                 \n",
=======
      "dense (Dense)                (None, None, 2)           4         \n",
      "_________________________________________________________________\n",
      "bidirectional (Bidirectional (None, None, 128)         34304     \n",
      "_________________________________________________________________\n",
      "dense_1 (Dense)              (None, None, 1024)        132096    \n",
      "_________________________________________________________________\n",
      "dropout (Dropout)            (None, None, 1024)        0         \n",
      "_________________________________________________________________\n",
      "dense_2 (Dense)              (None, None, 512)         524800    \n",
      "_________________________________________________________________\n",
      "dense_3 (Dense)              (None, None, 64)          32832     \n",
      "_________________________________________________________________\n",
      "dense_4 (Dense)              (None, None, 32)          2080      \n",
      "_________________________________________________________________\n",
      "dense_5 (Dense)              (None, None, 16)          528       \n",
      "_________________________________________________________________\n",
      "dense_6 (Dense)              (None, None, 8)           136       \n",
      "_________________________________________________________________\n",
      "dense_7 (Dense)              (None, None, 1)           9         \n",
>>>>>>> 1eaaedc47848ddf767706f31d7b2485fc34a78da
      "=================================================================\n",
      "Total params: 1,384,229\n",
      "Trainable params: 1,384,229\n",
      "Non-trainable params: 0\n",
      "_________________________________________________________________\n",
<<<<<<< HEAD
      "Epoch 1/150\n"
     ]
    },
    {
     "name": "stderr",
     "output_type": "stream",
     "text": [
      "2022-04-24 20:53:52.635383: I tensorflow/core/grappler/optimizers/custom_graph_optimizer_registry.cc:113] Plugin optimizer for device_type GPU is enabled.\n",
      "2022-04-24 20:53:52.957425: I tensorflow/core/grappler/optimizers/custom_graph_optimizer_registry.cc:113] Plugin optimizer for device_type GPU is enabled.\n",
      "2022-04-24 20:53:52.967829: I tensorflow/core/grappler/optimizers/custom_graph_optimizer_registry.cc:113] Plugin optimizer for device_type GPU is enabled.\n"
     ]
    },
    {
     "name": "stdout",
     "output_type": "stream",
     "text": [
      "      1/Unknown - 2s 2s/step - loss: 168.4181 - mae: 0.0422"
     ]
    },
    {
     "name": "stderr",
     "output_type": "stream",
     "text": [
      "2022-04-24 20:53:53.264109: I tensorflow/core/grappler/optimizers/custom_graph_optimizer_registry.cc:113] Plugin optimizer for device_type GPU is enabled.\n",
      "2022-04-24 20:53:53.280422: I tensorflow/core/grappler/optimizers/custom_graph_optimizer_registry.cc:113] Plugin optimizer for device_type GPU is enabled.\n"
     ]
    },
    {
     "name": "stdout",
     "output_type": "stream",
     "text": [
      "      7/Unknown - 3s 79ms/step - loss: 159.4966 - mae: 0.0629"
     ]
    },
    {
     "name": "stderr",
     "output_type": "stream",
     "text": [
      "2022-04-24 20:53:54.500394: I tensorflow/core/grappler/optimizers/custom_graph_optimizer_registry.cc:113] Plugin optimizer for device_type GPU is enabled.\n",
      "2022-04-24 20:53:54.629240: I tensorflow/core/grappler/optimizers/custom_graph_optimizer_registry.cc:113] Plugin optimizer for device_type GPU is enabled.\n",
      "2022-04-24 20:53:54.636342: I tensorflow/core/grappler/optimizers/custom_graph_optimizer_registry.cc:113] Plugin optimizer for device_type GPU is enabled.\n"
     ]
    },
    {
     "name": "stdout",
     "output_type": "stream",
     "text": [
      "7/7 [==============================] - 3s 231ms/step - loss: 159.4966 - mae: 0.0629 - val_loss: 146.1715 - val_mae: 0.0420\n",
      "Epoch 2/150\n",
      "7/7 [==============================] - 0s 49ms/step - loss: 137.9117 - mae: 0.0438 - val_loss: 125.6184 - val_mae: 0.0320\n",
      "Epoch 3/150\n",
      "7/7 [==============================] - 0s 37ms/step - loss: 118.0419 - mae: 0.0471 - val_loss: 106.7556 - val_mae: 0.0419\n",
      "Epoch 4/150\n",
      "7/7 [==============================] - 0s 34ms/step - loss: 99.7779 - mae: 0.0457 - val_loss: 89.4250 - val_mae: 0.0349\n",
      "Epoch 5/150\n",
      "7/7 [==============================] - 0s 32ms/step - loss: 83.0590 - mae: 0.0429 - val_loss: 73.6161 - val_mae: 0.0307\n",
      "Epoch 6/150\n",
      "7/7 [==============================] - 0s 31ms/step - loss: 67.8861 - mae: 0.0408 - val_loss: 59.4364 - val_mae: 0.0269\n",
      "Epoch 7/150\n",
      "7/7 [==============================] - 0s 33ms/step - loss: 54.2888 - mae: 0.0378 - val_loss: 46.6950 - val_mae: 0.0296\n",
      "Epoch 8/150\n",
      "7/7 [==============================] - 0s 31ms/step - loss: 42.2024 - mae: 0.0372 - val_loss: 35.6322 - val_mae: 0.0258\n",
      "Epoch 9/150\n",
      "7/7 [==============================] - 0s 33ms/step - loss: 31.7623 - mae: 0.0336 - val_loss: 26.1505 - val_mae: 0.0278\n",
      "Epoch 10/150\n",
      "7/7 [==============================] - 0s 35ms/step - loss: 22.9053 - mae: 0.0330 - val_loss: 18.2462 - val_mae: 0.0246\n",
      "Epoch 11/150\n",
      "7/7 [==============================] - 0s 31ms/step - loss: 15.5910 - mae: 0.0390 - val_loss: 11.8396 - val_mae: 0.0367\n",
      "Epoch 12/150\n",
      "7/7 [==============================] - 0s 31ms/step - loss: 9.7961 - mae: 0.0426 - val_loss: 6.9863 - val_mae: 0.0329\n",
      "Epoch 13/150\n",
      "7/7 [==============================] - 0s 31ms/step - loss: 5.5715 - mae: 0.0342 - val_loss: 3.7189 - val_mae: 0.0244\n",
      "Epoch 14/150\n",
      "7/7 [==============================] - 0s 29ms/step - loss: 2.9209 - mae: 0.0433 - val_loss: 1.9873 - val_mae: 0.0385\n",
      "Epoch 15/150\n",
      "7/7 [==============================] - 0s 29ms/step - loss: 1.7918 - mae: 0.0488 - val_loss: 1.6083 - val_mae: 0.0348\n",
      "Epoch 16/150\n",
      "7/7 [==============================] - 0s 29ms/step - loss: 1.4188 - mae: 0.0464 - val_loss: 1.0469 - val_mae: 0.0311\n",
      "Epoch 17/150\n",
      "7/7 [==============================] - 0s 29ms/step - loss: 0.9207 - mae: 0.0497 - val_loss: 0.8052 - val_mae: 0.0457\n",
      "Epoch 18/150\n",
      "7/7 [==============================] - 0s 30ms/step - loss: 0.7441 - mae: 0.0441 - val_loss: 0.6181 - val_mae: 0.0264\n",
      "Epoch 19/150\n",
      "7/7 [==============================] - 0s 31ms/step - loss: 0.6010 - mae: 0.0473 - val_loss: 0.5302 - val_mae: 0.0375\n",
      "Epoch 20/150\n",
      "7/7 [==============================] - 0s 29ms/step - loss: 0.5332 - mae: 0.0536 - val_loss: 0.4836 - val_mae: 0.0382\n",
      "Epoch 21/150\n",
      "7/7 [==============================] - 0s 30ms/step - loss: 0.4914 - mae: 0.0446 - val_loss: 0.4526 - val_mae: 0.0331\n",
      "Epoch 22/150\n",
      "7/7 [==============================] - 0s 29ms/step - loss: 0.4711 - mae: 0.0493 - val_loss: 0.4381 - val_mae: 0.0440\n",
      "Epoch 23/150\n",
      "7/7 [==============================] - 0s 30ms/step - loss: 0.4506 - mae: 0.0459 - val_loss: 0.4233 - val_mae: 0.0378\n",
      "Epoch 24/150\n",
      "7/7 [==============================] - 0s 29ms/step - loss: 0.4419 - mae: 0.0479 - val_loss: 0.4221 - val_mae: 0.0408\n",
      "Epoch 25/150\n",
      "7/7 [==============================] - 0s 29ms/step - loss: 0.4361 - mae: 0.0442 - val_loss: 0.4191 - val_mae: 0.0335\n",
      "Epoch 26/150\n",
      "7/7 [==============================] - 0s 28ms/step - loss: 0.4444 - mae: 0.0481 - val_loss: 0.4236 - val_mae: 0.0444\n",
      "Epoch 27/150\n",
      "7/7 [==============================] - 0s 29ms/step - loss: 0.4406 - mae: 0.0447 - val_loss: 0.4156 - val_mae: 0.0369\n",
      "Epoch 28/150\n",
      "7/7 [==============================] - 0s 29ms/step - loss: 0.4457 - mae: 0.0468 - val_loss: 0.4305 - val_mae: 0.0406\n",
      "Epoch 29/150\n",
      "7/7 [==============================] - 0s 28ms/step - loss: 0.4408 - mae: 0.0412 - val_loss: 0.4167 - val_mae: 0.0268\n",
      "Epoch 30/150\n",
      "7/7 [==============================] - 0s 30ms/step - loss: 0.4416 - mae: 0.0434 - val_loss: 0.4242 - val_mae: 0.0314\n",
      "Epoch 31/150\n",
      "7/7 [==============================] - 0s 29ms/step - loss: 0.4405 - mae: 0.0463 - val_loss: 0.4463 - val_mae: 0.0427\n",
      "Epoch 32/150\n",
      "7/7 [==============================] - 0s 30ms/step - loss: 0.4649 - mae: 0.0389 - val_loss: 0.4503 - val_mae: 0.0176\n",
      "Epoch 33/150\n",
      "7/7 [==============================] - 0s 29ms/step - loss: 0.4735 - mae: 0.0492 - val_loss: 0.4508 - val_mae: 0.0448\n",
      "Epoch 34/150\n",
      "7/7 [==============================] - 0s 29ms/step - loss: 0.4560 - mae: 0.0479 - val_loss: 0.4451 - val_mae: 0.0469\n",
      "Epoch 35/150\n",
      "7/7 [==============================] - 0s 29ms/step - loss: 0.4457 - mae: 0.0421 - val_loss: 0.4219 - val_mae: 0.0348\n",
      "Epoch 36/150\n",
      "7/7 [==============================] - 0s 29ms/step - loss: 0.4407 - mae: 0.0465 - val_loss: 0.4200 - val_mae: 0.0384\n",
      "Epoch 37/150\n",
      "7/7 [==============================] - 0s 29ms/step - loss: 0.4455 - mae: 0.0485 - val_loss: 0.4221 - val_mae: 0.0434\n",
      "Epoch 38/150\n",
      "7/7 [==============================] - 0s 30ms/step - loss: 0.4347 - mae: 0.0436 - val_loss: 0.4318 - val_mae: 0.0322\n",
      "Epoch 39/150\n",
      "7/7 [==============================] - 0s 28ms/step - loss: 0.4410 - mae: 0.0459 - val_loss: 0.4528 - val_mae: 0.0415\n",
      "Epoch 40/150\n",
      "7/7 [==============================] - 0s 28ms/step - loss: 0.8634 - mae: 0.0787 - val_loss: 1.1321 - val_mae: 0.0196\n",
      "Epoch 41/150\n",
      "7/7 [==============================] - 0s 29ms/step - loss: 1.3562 - mae: 0.0627 - val_loss: 1.4308 - val_mae: 0.0078\n",
      "Epoch 42/150\n",
      "7/7 [==============================] - 0s 28ms/step - loss: 1.3707 - mae: 0.0569 - val_loss: 1.1945 - val_mae: 0.0642\n",
      "Epoch 43/150\n",
      "7/7 [==============================] - 0s 29ms/step - loss: 1.0951 - mae: 0.0579 - val_loss: 0.9135 - val_mae: 0.0547\n",
      "Epoch 44/150\n",
      "7/7 [==============================] - 0s 29ms/step - loss: 0.8344 - mae: 0.0450 - val_loss: 0.6934 - val_mae: 0.0338\n",
      "Epoch 45/150\n",
      "7/7 [==============================] - 0s 29ms/step - loss: 0.6579 - mae: 0.0442 - val_loss: 0.5678 - val_mae: 0.0342\n",
      "Epoch 46/150\n",
      "7/7 [==============================] - 0s 29ms/step - loss: 0.5504 - mae: 0.0448 - val_loss: 0.4891 - val_mae: 0.0394\n",
      "Epoch 47/150\n",
      "7/7 [==============================] - 0s 29ms/step - loss: 0.4869 - mae: 0.0463 - val_loss: 0.4442 - val_mae: 0.0443\n",
      "Epoch 48/150\n",
      "7/7 [==============================] - 0s 29ms/step - loss: 0.4528 - mae: 0.0469 - val_loss: 0.4242 - val_mae: 0.0450\n",
      "Epoch 49/150\n",
      "7/7 [==============================] - 0s 29ms/step - loss: 0.4356 - mae: 0.0464 - val_loss: 0.4121 - val_mae: 0.0431\n",
      "Epoch 50/150\n",
      "7/7 [==============================] - 0s 29ms/step - loss: 0.4242 - mae: 0.0454 - val_loss: 0.4043 - val_mae: 0.0401\n",
      "Epoch 51/150\n",
      "7/7 [==============================] - 0s 29ms/step - loss: 0.4184 - mae: 0.0450 - val_loss: 0.3951 - val_mae: 0.0394\n",
      "Epoch 52/150\n",
      "7/7 [==============================] - 0s 32ms/step - loss: 0.4135 - mae: 0.0465 - val_loss: 0.3970 - val_mae: 0.0433\n",
      "Epoch 53/150\n",
      "7/7 [==============================] - 0s 30ms/step - loss: 0.4141 - mae: 0.0462 - val_loss: 0.3969 - val_mae: 0.0430\n",
      "Epoch 54/150\n",
      "7/7 [==============================] - 0s 29ms/step - loss: 0.4118 - mae: 0.0460 - val_loss: 0.3960 - val_mae: 0.0416\n",
      "Epoch 55/150\n",
      "7/7 [==============================] - 0s 30ms/step - loss: 0.4107 - mae: 0.0441 - val_loss: 0.3929 - val_mae: 0.0368\n",
      "Epoch 56/150\n",
      "7/7 [==============================] - 0s 34ms/step - loss: 0.4120 - mae: 0.0460 - val_loss: 0.3932 - val_mae: 0.0434\n",
      "Epoch 57/150\n",
      "7/7 [==============================] - 0s 30ms/step - loss: 0.4101 - mae: 0.0454 - val_loss: 0.3967 - val_mae: 0.0428\n",
      "Epoch 58/150\n",
      "7/7 [==============================] - 0s 29ms/step - loss: 0.4114 - mae: 0.0450 - val_loss: 0.3915 - val_mae: 0.0408\n",
      "Epoch 59/150\n",
      "7/7 [==============================] - 0s 29ms/step - loss: 0.4097 - mae: 0.0477 - val_loss: 0.3961 - val_mae: 0.0467\n",
      "Epoch 60/150\n",
      "7/7 [==============================] - 0s 29ms/step - loss: 0.4110 - mae: 0.0457 - val_loss: 0.3933 - val_mae: 0.0411\n",
      "Epoch 61/150\n",
      "7/7 [==============================] - 0s 29ms/step - loss: 0.4120 - mae: 0.0455 - val_loss: 0.3941 - val_mae: 0.0403\n",
      "Epoch 62/150\n",
      "7/7 [==============================] - 0s 29ms/step - loss: 0.4112 - mae: 0.0466 - val_loss: 0.3946 - val_mae: 0.0430\n",
      "Epoch 63/150\n",
      "7/7 [==============================] - 0s 29ms/step - loss: 0.4109 - mae: 0.0456 - val_loss: 0.3910 - val_mae: 0.0408\n",
      "Epoch 64/150\n",
      "7/7 [==============================] - 0s 29ms/step - loss: 0.4090 - mae: 0.0456 - val_loss: 0.3918 - val_mae: 0.0408\n",
      "Epoch 65/150\n",
      "7/7 [==============================] - 0s 29ms/step - loss: 0.4104 - mae: 0.0464 - val_loss: 0.3969 - val_mae: 0.0431\n",
      "Epoch 66/150\n",
      "7/7 [==============================] - 0s 32ms/step - loss: 0.4128 - mae: 0.0465 - val_loss: 0.3979 - val_mae: 0.0423\n",
      "Epoch 67/150\n",
      "7/7 [==============================] - 0s 30ms/step - loss: 0.4107 - mae: 0.0460 - val_loss: 0.3921 - val_mae: 0.0407\n",
      "Epoch 68/150\n",
      "7/7 [==============================] - 0s 28ms/step - loss: 0.4109 - mae: 0.0440 - val_loss: 0.3907 - val_mae: 0.0375\n",
      "Epoch 69/150\n",
      "7/7 [==============================] - 0s 28ms/step - loss: 0.4101 - mae: 0.0468 - val_loss: 0.3922 - val_mae: 0.0448\n",
      "Epoch 70/150\n",
      "7/7 [==============================] - 0s 30ms/step - loss: 0.4112 - mae: 0.0462 - val_loss: 0.3945 - val_mae: 0.0423\n",
      "Epoch 71/150\n",
      "7/7 [==============================] - 0s 29ms/step - loss: 0.4111 - mae: 0.0453 - val_loss: 0.3927 - val_mae: 0.0399\n",
      "Epoch 72/150\n",
      "7/7 [==============================] - 0s 29ms/step - loss: 0.4102 - mae: 0.0466 - val_loss: 0.3924 - val_mae: 0.0428\n",
      "Epoch 73/150\n",
      "7/7 [==============================] - 0s 28ms/step - loss: 0.4112 - mae: 0.0459 - val_loss: 0.3964 - val_mae: 0.0410\n",
      "Epoch 74/150\n",
      "7/7 [==============================] - 0s 29ms/step - loss: 0.4105 - mae: 0.0448 - val_loss: 0.3929 - val_mae: 0.0394\n",
      "Epoch 75/150\n",
      "7/7 [==============================] - 0s 29ms/step - loss: 0.4112 - mae: 0.0459 - val_loss: 0.3941 - val_mae: 0.0428\n",
      "Epoch 76/150\n",
      "7/7 [==============================] - 0s 29ms/step - loss: 0.4115 - mae: 0.0468 - val_loss: 0.3940 - val_mae: 0.0441\n",
      "Epoch 77/150\n",
      "7/7 [==============================] - 0s 29ms/step - loss: 0.4103 - mae: 0.0460 - val_loss: 0.3939 - val_mae: 0.0410\n",
      "Epoch 78/150\n",
      "7/7 [==============================] - 0s 29ms/step - loss: 0.4110 - mae: 0.0448 - val_loss: 0.3970 - val_mae: 0.0385\n",
      "Epoch 79/150\n",
      "7/7 [==============================] - 0s 29ms/step - loss: 0.4116 - mae: 0.0465 - val_loss: 0.3936 - val_mae: 0.0426\n",
      "Epoch 80/150\n",
      "7/7 [==============================] - 0s 29ms/step - loss: 0.4101 - mae: 0.0459 - val_loss: 0.3925 - val_mae: 0.0413\n",
      "Epoch 81/150\n",
      "7/7 [==============================] - 0s 28ms/step - loss: 0.4100 - mae: 0.0440 - val_loss: 0.3942 - val_mae: 0.0378\n",
      "Epoch 82/150\n",
      "7/7 [==============================] - 0s 28ms/step - loss: 0.4111 - mae: 0.0480 - val_loss: 0.3948 - val_mae: 0.0510\n",
      "Epoch 83/150\n",
      "7/7 [==============================] - 0s 31ms/step - loss: 0.4107 - mae: 0.0488 - val_loss: 0.3972 - val_mae: 0.0477\n",
      "Epoch 84/150\n",
      "7/7 [==============================] - 0s 29ms/step - loss: 0.4107 - mae: 0.0456 - val_loss: 0.3928 - val_mae: 0.0396\n",
      "Epoch 85/150\n",
      "7/7 [==============================] - 0s 30ms/step - loss: 0.4108 - mae: 0.0443 - val_loss: 0.3931 - val_mae: 0.0368\n",
      "Epoch 86/150\n",
      "7/7 [==============================] - 0s 29ms/step - loss: 0.4111 - mae: 0.0476 - val_loss: 0.3938 - val_mae: 0.0439\n",
      "Epoch 87/150\n",
      "7/7 [==============================] - 0s 30ms/step - loss: 0.4112 - mae: 0.0467 - val_loss: 0.3935 - val_mae: 0.0433\n",
      "Epoch 88/150\n",
      "7/7 [==============================] - 0s 29ms/step - loss: 0.4114 - mae: 0.0464 - val_loss: 0.3950 - val_mae: 0.0421\n",
      "Epoch 89/150\n",
      "7/7 [==============================] - 0s 29ms/step - loss: 0.4107 - mae: 0.0458 - val_loss: 0.3930 - val_mae: 0.0397\n",
      "Epoch 90/150\n",
      "7/7 [==============================] - 0s 29ms/step - loss: 0.4101 - mae: 0.0445 - val_loss: 0.3973 - val_mae: 0.0391\n",
      "Epoch 91/150\n",
      "7/7 [==============================] - 0s 29ms/step - loss: 0.4123 - mae: 0.0472 - val_loss: 0.3941 - val_mae: 0.0446\n",
      "Epoch 92/150\n",
      "7/7 [==============================] - 0s 30ms/step - loss: 0.4123 - mae: 0.0468 - val_loss: 0.3926 - val_mae: 0.0420\n",
      "Epoch 93/150\n",
      "7/7 [==============================] - 0s 29ms/step - loss: 0.4112 - mae: 0.0458 - val_loss: 0.3971 - val_mae: 0.0399\n",
      "Epoch 94/150\n",
      "7/7 [==============================] - 0s 30ms/step - loss: 0.4134 - mae: 0.0452 - val_loss: 0.3922 - val_mae: 0.0390\n",
      "Epoch 95/150\n",
      "7/7 [==============================] - 0s 29ms/step - loss: 0.4099 - mae: 0.0464 - val_loss: 0.3945 - val_mae: 0.0427\n",
      "Epoch 96/150\n",
      "7/7 [==============================] - 0s 33ms/step - loss: 0.4110 - mae: 0.0447 - val_loss: 0.3948 - val_mae: 0.0394\n",
      "Epoch 97/150\n",
      "7/7 [==============================] - 0s 29ms/step - loss: 0.4123 - mae: 0.0463 - val_loss: 0.3953 - val_mae: 0.0437\n",
      "Epoch 98/150\n",
      "7/7 [==============================] - 0s 29ms/step - loss: 0.4101 - mae: 0.0465 - val_loss: 0.3951 - val_mae: 0.0431\n",
      "Epoch 99/150\n",
      "7/7 [==============================] - 0s 29ms/step - loss: 0.4119 - mae: 0.0453 - val_loss: 0.3921 - val_mae: 0.0407\n",
      "Epoch 100/150\n",
      "7/7 [==============================] - 0s 29ms/step - loss: 0.4115 - mae: 0.0458 - val_loss: 0.3939 - val_mae: 0.0425\n",
      "Epoch 101/150\n",
      "7/7 [==============================] - 0s 30ms/step - loss: 0.4114 - mae: 0.0445 - val_loss: 0.3955 - val_mae: 0.0398\n",
      "Epoch 102/150\n",
      "7/7 [==============================] - 0s 29ms/step - loss: 0.4122 - mae: 0.0479 - val_loss: 0.3953 - val_mae: 0.0474\n",
      "Epoch 103/150\n",
      "7/7 [==============================] - 0s 31ms/step - loss: 0.4111 - mae: 0.0462 - val_loss: 0.3968 - val_mae: 0.0420\n",
      "Epoch 104/150\n",
      "7/7 [==============================] - 0s 29ms/step - loss: 0.4132 - mae: 0.0466 - val_loss: 0.3947 - val_mae: 0.0413\n",
      "Epoch 105/150\n",
      "7/7 [==============================] - 0s 30ms/step - loss: 0.4120 - mae: 0.0454 - val_loss: 0.3945 - val_mae: 0.0380\n",
      "Epoch 106/150\n",
      "7/7 [==============================] - 0s 30ms/step - loss: 0.4117 - mae: 0.0454 - val_loss: 0.3986 - val_mae: 0.0395\n",
      "Epoch 107/150\n",
      "7/7 [==============================] - 0s 36ms/step - loss: 0.4117 - mae: 0.0462 - val_loss: 0.3958 - val_mae: 0.0415\n",
      "Epoch 108/150\n",
      "7/7 [==============================] - 0s 30ms/step - loss: 0.4116 - mae: 0.0460 - val_loss: 0.3923 - val_mae: 0.0412\n",
      "Epoch 109/150\n",
      "7/7 [==============================] - 0s 29ms/step - loss: 0.4123 - mae: 0.0464 - val_loss: 0.3945 - val_mae: 0.0408\n",
      "Epoch 110/150\n",
      "7/7 [==============================] - 0s 30ms/step - loss: 0.4110 - mae: 0.0445 - val_loss: 0.3918 - val_mae: 0.0382\n",
      "Epoch 111/150\n",
      "7/7 [==============================] - 0s 28ms/step - loss: 0.4110 - mae: 0.0467 - val_loss: 0.3909 - val_mae: 0.0440\n",
      "Epoch 112/150\n",
      "7/7 [==============================] - 0s 30ms/step - loss: 0.4101 - mae: 0.0467 - val_loss: 0.3940 - val_mae: 0.0429\n",
      "Epoch 113/150\n",
      "7/7 [==============================] - 0s 29ms/step - loss: 0.4122 - mae: 0.0459 - val_loss: 0.3957 - val_mae: 0.0400\n",
      "Epoch 114/150\n",
      "7/7 [==============================] - 0s 32ms/step - loss: 0.4124 - mae: 0.0462 - val_loss: 0.3974 - val_mae: 0.0405\n",
      "Epoch 115/150\n",
      "7/7 [==============================] - 0s 29ms/step - loss: 0.4105 - mae: 0.0442 - val_loss: 0.3927 - val_mae: 0.0398\n",
      "Epoch 116/150\n",
      "7/7 [==============================] - 0s 30ms/step - loss: 0.4110 - mae: 0.0480 - val_loss: 0.3921 - val_mae: 0.0480\n",
      "Epoch 117/150\n",
      "7/7 [==============================] - 0s 29ms/step - loss: 0.4108 - mae: 0.0465 - val_loss: 0.3959 - val_mae: 0.0426\n",
      "Epoch 118/150\n",
      "7/7 [==============================] - 0s 29ms/step - loss: 0.4118 - mae: 0.0448 - val_loss: 0.3932 - val_mae: 0.0389\n",
      "Epoch 119/150\n",
      "7/7 [==============================] - 0s 29ms/step - loss: 0.4116 - mae: 0.0459 - val_loss: 0.3954 - val_mae: 0.0415\n",
      "Epoch 120/150\n",
      "7/7 [==============================] - 0s 29ms/step - loss: 0.4109 - mae: 0.0455 - val_loss: 0.3943 - val_mae: 0.0408\n",
      "Epoch 121/150\n",
      "7/7 [==============================] - 0s 28ms/step - loss: 0.4113 - mae: 0.0452 - val_loss: 0.3957 - val_mae: 0.0408\n",
      "Epoch 122/150\n",
      "7/7 [==============================] - 0s 29ms/step - loss: 0.4122 - mae: 0.0471 - val_loss: 0.3972 - val_mae: 0.0442\n",
      "Epoch 123/150\n",
      "7/7 [==============================] - 0s 29ms/step - loss: 0.4113 - mae: 0.0463 - val_loss: 0.3935 - val_mae: 0.0415\n",
      "Epoch 124/150\n",
      "7/7 [==============================] - 0s 29ms/step - loss: 0.4103 - mae: 0.0455 - val_loss: 0.3934 - val_mae: 0.0395\n",
      "Epoch 125/150\n",
      "7/7 [==============================] - 0s 29ms/step - loss: 0.4118 - mae: 0.0458 - val_loss: 0.3943 - val_mae: 0.0402\n",
      "Epoch 126/150\n",
      "7/7 [==============================] - 0s 29ms/step - loss: 0.4105 - mae: 0.0457 - val_loss: 0.3955 - val_mae: 0.0412\n",
      "Epoch 127/150\n",
      "7/7 [==============================] - 0s 28ms/step - loss: 0.4108 - mae: 0.0469 - val_loss: 0.3943 - val_mae: 0.0435\n",
      "Epoch 128/150\n",
      "7/7 [==============================] - 0s 29ms/step - loss: 0.4115 - mae: 0.0463 - val_loss: 0.3919 - val_mae: 0.0416\n",
      "Epoch 129/150\n",
      "7/7 [==============================] - 0s 29ms/step - loss: 0.4097 - mae: 0.0453 - val_loss: 0.3938 - val_mae: 0.0397\n",
      "Epoch 130/150\n",
      "7/7 [==============================] - 0s 29ms/step - loss: 0.4107 - mae: 0.0449 - val_loss: 0.3943 - val_mae: 0.0398\n",
      "Epoch 131/150\n",
      "7/7 [==============================] - 0s 29ms/step - loss: 0.4106 - mae: 0.0472 - val_loss: 0.3959 - val_mae: 0.0446\n",
      "Epoch 132/150\n",
      "7/7 [==============================] - 0s 29ms/step - loss: 0.4122 - mae: 0.0453 - val_loss: 0.3915 - val_mae: 0.0414\n",
      "Epoch 133/150\n",
      "7/7 [==============================] - 0s 29ms/step - loss: 0.4116 - mae: 0.0496 - val_loss: 0.3964 - val_mae: 0.0525\n",
      "Epoch 134/150\n",
      "7/7 [==============================] - 0s 28ms/step - loss: 0.4104 - mae: 0.0484 - val_loss: 0.3942 - val_mae: 0.0450\n",
      "Epoch 135/150\n",
      "7/7 [==============================] - 0s 31ms/step - loss: 0.4123 - mae: 0.0451 - val_loss: 0.3912 - val_mae: 0.0375\n",
      "Epoch 136/150\n",
      "7/7 [==============================] - 0s 28ms/step - loss: 0.4098 - mae: 0.0434 - val_loss: 0.3935 - val_mae: 0.0352\n",
      "Epoch 137/150\n",
      "7/7 [==============================] - 0s 29ms/step - loss: 0.4113 - mae: 0.0469 - val_loss: 0.3953 - val_mae: 0.0448\n",
      "Epoch 138/150\n",
      "7/7 [==============================] - 0s 30ms/step - loss: 0.4122 - mae: 0.0487 - val_loss: 0.3985 - val_mae: 0.0477\n",
      "Epoch 139/150\n",
      "7/7 [==============================] - 0s 29ms/step - loss: 0.4107 - mae: 0.0456 - val_loss: 0.3935 - val_mae: 0.0397\n",
      "Epoch 140/150\n",
      "7/7 [==============================] - 0s 28ms/step - loss: 0.4117 - mae: 0.0456 - val_loss: 0.3934 - val_mae: 0.0397\n",
      "Epoch 141/150\n",
      "7/7 [==============================] - 0s 28ms/step - loss: 0.4104 - mae: 0.0452 - val_loss: 0.3927 - val_mae: 0.0398\n",
      "Epoch 142/150\n",
      "7/7 [==============================] - 0s 32ms/step - loss: 0.4118 - mae: 0.0461 - val_loss: 0.3956 - val_mae: 0.0434\n",
      "Epoch 143/150\n",
      "7/7 [==============================] - 0s 29ms/step - loss: 0.4118 - mae: 0.0463 - val_loss: 0.3965 - val_mae: 0.0431\n",
      "Epoch 144/150\n",
      "7/7 [==============================] - 0s 29ms/step - loss: 0.4120 - mae: 0.0455 - val_loss: 0.3950 - val_mae: 0.0407\n",
      "Epoch 145/150\n",
      "7/7 [==============================] - 0s 30ms/step - loss: 0.4115 - mae: 0.0459 - val_loss: 0.3937 - val_mae: 0.0411\n",
      "Epoch 146/150\n",
      "7/7 [==============================] - 0s 29ms/step - loss: 0.4090 - mae: 0.0441 - val_loss: 0.3937 - val_mae: 0.0370\n",
      "Epoch 147/150\n",
      "7/7 [==============================] - 0s 30ms/step - loss: 0.4113 - mae: 0.0468 - val_loss: 0.3953 - val_mae: 0.0442\n",
      "Epoch 148/150\n",
      "7/7 [==============================] - 0s 29ms/step - loss: 0.4127 - mae: 0.0471 - val_loss: 0.3944 - val_mae: 0.0438\n",
      "Epoch 149/150\n",
      "7/7 [==============================] - 0s 29ms/step - loss: 0.4115 - mae: 0.0459 - val_loss: 0.3941 - val_mae: 0.0403\n",
      "Epoch 150/150\n",
      "7/7 [==============================] - 0s 30ms/step - loss: 0.4107 - mae: 0.0446 - val_loss: 0.3974 - val_mae: 0.0378\n"
=======
      "Epoch 1/150\n",
      "7/7 [==============================] - 8s 209ms/step - loss: 166.8526 - mae: 0.0570 - val_loss: 145.1088 - val_mae: 0.0436\n",
      "Epoch 2/150\n",
      "7/7 [==============================] - 0s 19ms/step - loss: 132.0970 - mae: 0.0438 - val_loss: 113.1117 - val_mae: 0.0337\n",
      "Epoch 3/150\n",
      "7/7 [==============================] - 0s 14ms/step - loss: 101.8248 - mae: 0.0441 - val_loss: 85.4284 - val_mae: 0.0370\n",
      "Epoch 4/150\n",
      "7/7 [==============================] - 0s 13ms/step - loss: 75.7619 - mae: 0.0460 - val_loss: 61.8443 - val_mae: 0.0414\n",
      "Epoch 5/150\n",
      "7/7 [==============================] - 0s 12ms/step - loss: 53.8327 - mae: 0.0446 - val_loss: 42.4227 - val_mae: 0.0389\n",
      "Epoch 6/150\n",
      "7/7 [==============================] - 0s 12ms/step - loss: 36.0649 - mae: 0.0466 - val_loss: 27.1976 - val_mae: 0.0427\n",
      "Epoch 7/150\n",
      "7/7 [==============================] - 0s 12ms/step - loss: 22.4805 - mae: 0.0453 - val_loss: 16.0842 - val_mae: 0.0401\n",
      "Epoch 8/150\n",
      "7/7 [==============================] - 0s 11ms/step - loss: 13.0823 - mae: 0.0448 - val_loss: 9.2755 - val_mae: 0.0390\n",
      "Epoch 9/150\n",
      "7/7 [==============================] - 0s 11ms/step - loss: 7.9232 - mae: 0.0441 - val_loss: 6.6621 - val_mae: 0.0379\n",
      "Epoch 10/150\n",
      "7/7 [==============================] - 0s 11ms/step - loss: 5.9925 - mae: 0.0453 - val_loss: 4.6588 - val_mae: 0.0422\n",
      "Epoch 11/150\n",
      "7/7 [==============================] - 0s 12ms/step - loss: 3.8793 - mae: 0.0464 - val_loss: 2.9900 - val_mae: 0.0448\n",
      "Epoch 12/150\n",
      "7/7 [==============================] - 0s 11ms/step - loss: 2.6712 - mae: 0.0466 - val_loss: 2.0689 - val_mae: 0.0441\n",
      "Epoch 13/150\n",
      "7/7 [==============================] - 0s 12ms/step - loss: 1.8077 - mae: 0.0451 - val_loss: 1.4584 - val_mae: 0.0407\n",
      "Epoch 14/150\n",
      "7/7 [==============================] - 0s 11ms/step - loss: 1.3027 - mae: 0.0455 - val_loss: 1.0793 - val_mae: 0.0418\n",
      "Epoch 15/150\n",
      "7/7 [==============================] - 0s 11ms/step - loss: 1.0236 - mae: 0.0453 - val_loss: 0.9142 - val_mae: 0.0417\n",
      "Epoch 16/150\n",
      "7/7 [==============================] - 0s 11ms/step - loss: 0.9058 - mae: 0.0455 - val_loss: 0.8270 - val_mae: 0.0419\n",
      "Epoch 17/150\n",
      "7/7 [==============================] - 0s 11ms/step - loss: 0.8182 - mae: 0.0458 - val_loss: 0.7670 - val_mae: 0.0429\n",
      "Epoch 18/150\n",
      "7/7 [==============================] - 0s 11ms/step - loss: 0.7700 - mae: 0.0460 - val_loss: 0.7461 - val_mae: 0.0431\n",
      "Epoch 19/150\n",
      "7/7 [==============================] - 0s 11ms/step - loss: 0.7466 - mae: 0.0447 - val_loss: 0.7262 - val_mae: 0.0404\n",
      "Epoch 20/150\n",
      "7/7 [==============================] - 0s 12ms/step - loss: 0.7284 - mae: 0.0458 - val_loss: 0.6953 - val_mae: 0.0425\n",
      "Epoch 21/150\n",
      "7/7 [==============================] - 0s 12ms/step - loss: 0.7133 - mae: 0.0447 - val_loss: 0.6921 - val_mae: 0.0403\n",
      "Epoch 22/150\n",
      "7/7 [==============================] - 0s 11ms/step - loss: 0.7176 - mae: 0.0459 - val_loss: 0.7035 - val_mae: 0.0426\n",
      "Epoch 23/150\n",
      "7/7 [==============================] - 0s 11ms/step - loss: 0.7157 - mae: 0.0463 - val_loss: 0.6925 - val_mae: 0.0432\n",
      "Epoch 24/150\n",
      "7/7 [==============================] - 0s 11ms/step - loss: 0.7098 - mae: 0.0458 - val_loss: 0.6959 - val_mae: 0.0425\n",
      "Epoch 25/150\n",
      "7/7 [==============================] - 0s 11ms/step - loss: 0.7107 - mae: 0.0458 - val_loss: 0.6968 - val_mae: 0.0421\n",
      "Epoch 26/150\n",
      "7/7 [==============================] - 0s 12ms/step - loss: 0.7069 - mae: 0.0458 - val_loss: 0.6954 - val_mae: 0.0416\n",
      "Epoch 27/150\n",
      "7/7 [==============================] - 0s 12ms/step - loss: 0.7116 - mae: 0.0449 - val_loss: 0.6916 - val_mae: 0.0400\n",
      "Epoch 28/150\n",
      "7/7 [==============================] - 0s 11ms/step - loss: 0.7111 - mae: 0.0448 - val_loss: 0.6841 - val_mae: 0.0399\n",
      "Epoch 29/150\n",
      "7/7 [==============================] - 0s 11ms/step - loss: 0.7062 - mae: 0.0442 - val_loss: 0.6891 - val_mae: 0.0393\n",
      "Epoch 30/150\n",
      "7/7 [==============================] - 0s 11ms/step - loss: 0.7080 - mae: 0.0458 - val_loss: 0.6988 - val_mae: 0.0432\n",
      "Epoch 31/150\n",
      "7/7 [==============================] - 0s 11ms/step - loss: 0.7133 - mae: 0.0468 - val_loss: 0.6915 - val_mae: 0.0447\n",
      "Epoch 32/150\n",
      "7/7 [==============================] - 0s 12ms/step - loss: 0.7104 - mae: 0.0456 - val_loss: 0.6939 - val_mae: 0.0418\n",
      "Epoch 33/150\n",
      "7/7 [==============================] - 0s 12ms/step - loss: 0.7075 - mae: 0.0454 - val_loss: 0.6914 - val_mae: 0.0413\n",
      "Epoch 34/150\n",
      "7/7 [==============================] - 0s 11ms/step - loss: 0.7097 - mae: 0.0454 - val_loss: 0.6957 - val_mae: 0.0414\n",
      "Epoch 35/150\n",
      "7/7 [==============================] - 0s 11ms/step - loss: 0.7106 - mae: 0.0454 - val_loss: 0.6917 - val_mae: 0.0413\n",
      "Epoch 36/150\n",
      "7/7 [==============================] - 0s 12ms/step - loss: 0.7066 - mae: 0.0452 - val_loss: 0.6955 - val_mae: 0.0411\n",
      "Epoch 37/150\n",
      "7/7 [==============================] - 0s 11ms/step - loss: 0.7127 - mae: 0.0456 - val_loss: 0.6970 - val_mae: 0.0421\n",
      "Epoch 38/150\n",
      "7/7 [==============================] - 0s 11ms/step - loss: 0.7085 - mae: 0.0446 - val_loss: 0.6876 - val_mae: 0.0402\n",
      "Epoch 39/150\n",
      "7/7 [==============================] - 0s 11ms/step - loss: 0.7083 - mae: 0.0466 - val_loss: 0.6914 - val_mae: 0.0470\n",
      "Epoch 40/150\n",
      "7/7 [==============================] - 0s 11ms/step - loss: 0.7119 - mae: 0.0474 - val_loss: 0.6901 - val_mae: 0.0475\n",
      "Epoch 41/150\n",
      "7/7 [==============================] - 0s 11ms/step - loss: 0.7081 - mae: 0.0463 - val_loss: 0.6887 - val_mae: 0.0437\n",
      "Epoch 42/150\n",
      "7/7 [==============================] - 0s 12ms/step - loss: 0.7078 - mae: 0.0440 - val_loss: 0.7040 - val_mae: 0.0381\n",
      "Epoch 43/150\n",
      "7/7 [==============================] - 0s 11ms/step - loss: 0.7106 - mae: 0.0458 - val_loss: 0.6934 - val_mae: 0.0420\n",
      "Epoch 44/150\n",
      "7/7 [==============================] - 0s 12ms/step - loss: 0.7092 - mae: 0.0452 - val_loss: 0.6902 - val_mae: 0.0421\n",
      "Epoch 45/150\n",
      "7/7 [==============================] - 0s 11ms/step - loss: 0.7114 - mae: 0.0462 - val_loss: 0.6919 - val_mae: 0.0434\n",
      "Epoch 46/150\n",
      "7/7 [==============================] - 0s 11ms/step - loss: 0.7088 - mae: 0.0453 - val_loss: 0.6869 - val_mae: 0.0417\n",
      "Epoch 47/150\n",
      "7/7 [==============================] - 0s 11ms/step - loss: 0.7092 - mae: 0.0454 - val_loss: 0.6944 - val_mae: 0.0415\n",
      "Epoch 48/150\n",
      "7/7 [==============================] - 0s 12ms/step - loss: 0.7117 - mae: 0.0453 - val_loss: 0.6911 - val_mae: 0.0412\n",
      "Epoch 49/150\n",
      "7/7 [==============================] - 0s 12ms/step - loss: 0.7061 - mae: 0.0448 - val_loss: 0.6982 - val_mae: 0.0406\n",
      "Epoch 50/150\n",
      "7/7 [==============================] - 0s 11ms/step - loss: 0.7083 - mae: 0.0454 - val_loss: 0.6973 - val_mae: 0.0423\n",
      "Epoch 51/150\n",
      "7/7 [==============================] - 0s 12ms/step - loss: 0.7101 - mae: 0.0459 - val_loss: 0.6846 - val_mae: 0.0432\n",
      "Epoch 52/150\n",
      "7/7 [==============================] - 0s 12ms/step - loss: 0.7065 - mae: 0.0457 - val_loss: 0.6922 - val_mae: 0.0427\n",
      "Epoch 53/150\n",
      "7/7 [==============================] - 0s 12ms/step - loss: 0.7107 - mae: 0.0455 - val_loss: 0.6948 - val_mae: 0.0421\n",
      "Epoch 54/150\n",
      "7/7 [==============================] - 0s 11ms/step - loss: 0.7124 - mae: 0.0456 - val_loss: 0.7002 - val_mae: 0.0425\n",
      "Epoch 55/150\n",
      "7/7 [==============================] - 0s 11ms/step - loss: 0.7101 - mae: 0.0462 - val_loss: 0.6894 - val_mae: 0.0429\n",
      "Epoch 56/150\n",
      "7/7 [==============================] - 0s 11ms/step - loss: 0.7072 - mae: 0.0451 - val_loss: 0.6893 - val_mae: 0.0406\n",
      "Epoch 57/150\n",
      "7/7 [==============================] - 0s 11ms/step - loss: 0.7083 - mae: 0.0450 - val_loss: 0.6918 - val_mae: 0.0404\n",
      "Epoch 58/150\n",
      "7/7 [==============================] - 0s 12ms/step - loss: 0.7096 - mae: 0.0447 - val_loss: 0.6933 - val_mae: 0.0403\n",
      "Epoch 59/150\n",
      "7/7 [==============================] - 0s 11ms/step - loss: 0.7075 - mae: 0.0448 - val_loss: 0.6939 - val_mae: 0.0414\n",
      "Epoch 60/150\n",
      "7/7 [==============================] - 0s 12ms/step - loss: 0.7083 - mae: 0.0464 - val_loss: 0.6940 - val_mae: 0.0448\n",
      "Epoch 61/150\n",
      "7/7 [==============================] - 0s 12ms/step - loss: 0.7098 - mae: 0.0450 - val_loss: 0.6908 - val_mae: 0.0415\n",
      "Epoch 62/150\n",
      "7/7 [==============================] - 0s 11ms/step - loss: 0.7107 - mae: 0.0455 - val_loss: 0.7005 - val_mae: 0.0424\n",
      "Epoch 63/150\n",
      "7/7 [==============================] - 0s 13ms/step - loss: 0.7134 - mae: 0.0457 - val_loss: 0.6831 - val_mae: 0.0425\n",
      "Epoch 64/150\n",
      "7/7 [==============================] - 0s 11ms/step - loss: 0.7034 - mae: 0.0453 - val_loss: 0.6830 - val_mae: 0.0418\n",
      "Epoch 65/150\n",
      "7/7 [==============================] - 0s 11ms/step - loss: 0.7086 - mae: 0.0459 - val_loss: 0.6981 - val_mae: 0.0430\n",
      "Epoch 66/150\n",
      "7/7 [==============================] - 0s 11ms/step - loss: 0.7116 - mae: 0.0456 - val_loss: 0.6993 - val_mae: 0.0426\n",
      "Epoch 67/150\n",
      "7/7 [==============================] - 0s 11ms/step - loss: 0.7084 - mae: 0.0455 - val_loss: 0.6945 - val_mae: 0.0418\n",
      "Epoch 68/150\n",
      "7/7 [==============================] - 0s 11ms/step - loss: 0.7086 - mae: 0.0451 - val_loss: 0.6855 - val_mae: 0.0412\n",
      "Epoch 69/150\n",
      "7/7 [==============================] - 0s 11ms/step - loss: 0.7057 - mae: 0.0459 - val_loss: 0.6892 - val_mae: 0.0427\n",
      "Epoch 70/150\n",
      "7/7 [==============================] - 0s 12ms/step - loss: 0.7087 - mae: 0.0454 - val_loss: 0.6935 - val_mae: 0.0416\n",
      "Epoch 71/150\n",
      "7/7 [==============================] - 0s 11ms/step - loss: 0.7156 - mae: 0.0455 - val_loss: 0.6903 - val_mae: 0.0414\n",
      "Epoch 72/150\n",
      "7/7 [==============================] - 0s 12ms/step - loss: 0.7071 - mae: 0.0453 - val_loss: 0.6917 - val_mae: 0.0411\n",
      "Epoch 73/150\n",
      "7/7 [==============================] - 0s 13ms/step - loss: 0.7058 - mae: 0.0455 - val_loss: 0.6969 - val_mae: 0.0421\n",
      "Epoch 74/150\n",
      "7/7 [==============================] - 0s 11ms/step - loss: 0.7092 - mae: 0.0450 - val_loss: 0.6982 - val_mae: 0.0410\n",
      "Epoch 75/150\n",
      "7/7 [==============================] - 0s 11ms/step - loss: 0.7110 - mae: 0.0456 - val_loss: 0.6900 - val_mae: 0.0421\n",
      "Epoch 76/150\n",
      "7/7 [==============================] - 0s 11ms/step - loss: 0.7080 - mae: 0.0445 - val_loss: 0.6859 - val_mae: 0.0406\n",
      "Epoch 77/150\n",
      "7/7 [==============================] - 0s 11ms/step - loss: 0.7060 - mae: 0.0457 - val_loss: 0.6895 - val_mae: 0.0434\n",
      "Epoch 78/150\n",
      "7/7 [==============================] - 0s 11ms/step - loss: 0.7105 - mae: 0.0465 - val_loss: 0.7010 - val_mae: 0.0453\n",
      "Epoch 79/150\n",
      "7/7 [==============================] - 0s 11ms/step - loss: 0.7123 - mae: 0.0457 - val_loss: 0.6937 - val_mae: 0.0429\n",
      "Epoch 80/150\n",
      "7/7 [==============================] - 0s 11ms/step - loss: 0.7074 - mae: 0.0487 - val_loss: 0.6860 - val_mae: 0.0466\n",
      "Epoch 81/150\n",
      "7/7 [==============================] - 0s 11ms/step - loss: 0.7053 - mae: 0.0458 - val_loss: 0.6871 - val_mae: 0.0406\n",
      "Epoch 82/150\n",
      "7/7 [==============================] - 0s 12ms/step - loss: 0.7088 - mae: 0.0427 - val_loss: 0.6982 - val_mae: 0.0345\n",
      "Epoch 83/150\n",
      "7/7 [==============================] - 0s 12ms/step - loss: 0.7110 - mae: 0.0483 - val_loss: 0.6940 - val_mae: 0.0466\n",
      "Epoch 84/150\n",
      "7/7 [==============================] - 0s 12ms/step - loss: 0.7092 - mae: 0.0474 - val_loss: 0.6934 - val_mae: 0.0453\n",
      "Epoch 85/150\n",
      "7/7 [==============================] - 0s 11ms/step - loss: 0.7093 - mae: 0.0462 - val_loss: 0.6943 - val_mae: 0.0416\n",
      "Epoch 86/150\n",
      "7/7 [==============================] - 0s 11ms/step - loss: 0.7086 - mae: 0.0445 - val_loss: 0.6894 - val_mae: 0.0393\n",
      "Epoch 87/150\n",
      "7/7 [==============================] - 0s 11ms/step - loss: 0.7087 - mae: 0.0443 - val_loss: 0.6862 - val_mae: 0.0387\n",
      "Epoch 88/150\n",
      "7/7 [==============================] - 0s 11ms/step - loss: 0.7101 - mae: 0.0462 - val_loss: 0.6866 - val_mae: 0.0446\n",
      "Epoch 89/150\n",
      "7/7 [==============================] - 0s 11ms/step - loss: 0.7057 - mae: 0.0470 - val_loss: 0.6917 - val_mae: 0.0454\n",
      "Epoch 90/150\n",
      "7/7 [==============================] - 0s 11ms/step - loss: 0.7041 - mae: 0.0455 - val_loss: 0.7043 - val_mae: 0.0416\n",
      "Epoch 91/150\n",
      "7/7 [==============================] - 0s 11ms/step - loss: 0.7146 - mae: 0.0446 - val_loss: 0.6972 - val_mae: 0.0394\n",
      "Epoch 92/150\n",
      "7/7 [==============================] - 0s 12ms/step - loss: 0.7100 - mae: 0.0446 - val_loss: 0.6892 - val_mae: 0.0398\n",
      "Epoch 93/150\n",
      "7/7 [==============================] - 0s 11ms/step - loss: 0.7045 - mae: 0.0456 - val_loss: 0.6873 - val_mae: 0.0428\n",
      "Epoch 94/150\n",
      "7/7 [==============================] - 0s 11ms/step - loss: 0.7084 - mae: 0.0456 - val_loss: 0.6906 - val_mae: 0.0432\n",
      "Epoch 95/150\n",
      "7/7 [==============================] - 0s 11ms/step - loss: 0.7091 - mae: 0.0453 - val_loss: 0.6902 - val_mae: 0.0425\n",
      "Epoch 96/150\n",
      "7/7 [==============================] - 0s 13ms/step - loss: 0.7088 - mae: 0.0457 - val_loss: 0.6965 - val_mae: 0.0428\n",
      "Epoch 97/150\n",
      "7/7 [==============================] - 0s 12ms/step - loss: 0.7117 - mae: 0.0455 - val_loss: 0.6957 - val_mae: 0.0425\n",
      "Epoch 98/150\n",
      "7/7 [==============================] - 0s 11ms/step - loss: 0.7062 - mae: 0.0455 - val_loss: 0.6919 - val_mae: 0.0427\n",
      "Epoch 99/150\n",
      "7/7 [==============================] - 0s 11ms/step - loss: 0.7083 - mae: 0.0457 - val_loss: 0.6913 - val_mae: 0.0428\n",
      "Epoch 100/150\n",
      "7/7 [==============================] - 0s 12ms/step - loss: 0.7087 - mae: 0.0458 - val_loss: 0.6851 - val_mae: 0.0427\n",
      "Epoch 101/150\n",
      "7/7 [==============================] - 0s 11ms/step - loss: 0.7072 - mae: 0.0447 - val_loss: 0.6855 - val_mae: 0.0407\n",
      "Epoch 102/150\n",
      "7/7 [==============================] - 0s 11ms/step - loss: 0.7086 - mae: 0.0457 - val_loss: 0.6979 - val_mae: 0.0423\n",
      "Epoch 103/150\n",
      "7/7 [==============================] - 0s 11ms/step - loss: 0.7092 - mae: 0.0455 - val_loss: 0.6914 - val_mae: 0.0423\n",
      "Epoch 104/150\n",
      "7/7 [==============================] - 0s 12ms/step - loss: 0.7095 - mae: 0.0455 - val_loss: 0.6906 - val_mae: 0.0424\n",
      "Epoch 105/150\n",
      "7/7 [==============================] - 0s 11ms/step - loss: 0.7088 - mae: 0.0453 - val_loss: 0.6922 - val_mae: 0.0417\n",
      "Epoch 106/150\n",
      "7/7 [==============================] - 0s 11ms/step - loss: 0.7066 - mae: 0.0452 - val_loss: 0.6921 - val_mae: 0.0415\n",
      "Epoch 107/150\n",
      "7/7 [==============================] - 0s 11ms/step - loss: 0.7073 - mae: 0.0453 - val_loss: 0.6923 - val_mae: 0.0418\n",
      "Epoch 108/150\n",
      "7/7 [==============================] - 0s 11ms/step - loss: 0.7087 - mae: 0.0447 - val_loss: 0.6928 - val_mae: 0.0408\n",
      "Epoch 109/150\n",
      "7/7 [==============================] - 0s 11ms/step - loss: 0.7097 - mae: 0.0444 - val_loss: 0.6969 - val_mae: 0.0399\n",
      "Epoch 110/150\n",
      "7/7 [==============================] - 0s 11ms/step - loss: 0.7093 - mae: 0.0453 - val_loss: 0.6905 - val_mae: 0.0425\n",
      "Epoch 111/150\n",
      "7/7 [==============================] - 0s 11ms/step - loss: 0.7085 - mae: 0.0458 - val_loss: 0.6813 - val_mae: 0.0441\n",
      "Epoch 112/150\n",
      "7/7 [==============================] - 0s 11ms/step - loss: 0.7061 - mae: 0.0459 - val_loss: 0.6913 - val_mae: 0.0440\n",
      "Epoch 113/150\n",
      "7/7 [==============================] - 0s 11ms/step - loss: 0.7075 - mae: 0.0458 - val_loss: 0.6935 - val_mae: 0.0433\n",
      "Epoch 114/150\n",
      "7/7 [==============================] - 0s 11ms/step - loss: 0.7098 - mae: 0.0458 - val_loss: 0.7041 - val_mae: 0.0427\n",
      "Epoch 115/150\n",
      "7/7 [==============================] - 0s 12ms/step - loss: 0.7098 - mae: 0.0445 - val_loss: 0.6915 - val_mae: 0.0396\n",
      "Epoch 116/150\n",
      "7/7 [==============================] - 0s 11ms/step - loss: 0.7065 - mae: 0.0444 - val_loss: 0.6882 - val_mae: 0.0403\n",
      "Epoch 117/150\n",
      "7/7 [==============================] - 0s 11ms/step - loss: 0.7089 - mae: 0.0452 - val_loss: 0.6886 - val_mae: 0.0423\n",
      "Epoch 118/150\n",
      "7/7 [==============================] - 0s 12ms/step - loss: 0.7071 - mae: 0.0462 - val_loss: 0.6833 - val_mae: 0.0444\n",
      "Epoch 119/150\n",
      "7/7 [==============================] - 0s 11ms/step - loss: 0.7080 - mae: 0.0458 - val_loss: 0.6945 - val_mae: 0.0431\n",
      "Epoch 120/150\n",
      "7/7 [==============================] - 0s 11ms/step - loss: 0.7085 - mae: 0.0449 - val_loss: 0.6903 - val_mae: 0.0412\n",
      "Epoch 121/150\n",
      "7/7 [==============================] - 0s 11ms/step - loss: 0.7059 - mae: 0.0456 - val_loss: 0.6958 - val_mae: 0.0425\n",
      "Epoch 122/150\n",
      "7/7 [==============================] - 0s 12ms/step - loss: 0.7116 - mae: 0.0457 - val_loss: 0.7049 - val_mae: 0.0430\n",
      "Epoch 123/150\n",
      "7/7 [==============================] - 0s 11ms/step - loss: 0.7113 - mae: 0.0453 - val_loss: 0.6828 - val_mae: 0.0420\n",
      "Epoch 124/150\n",
      "7/7 [==============================] - 0s 13ms/step - loss: 0.7020 - mae: 0.0457 - val_loss: 0.6842 - val_mae: 0.0424\n",
      "Epoch 125/150\n",
      "7/7 [==============================] - 0s 11ms/step - loss: 0.7086 - mae: 0.0454 - val_loss: 0.6918 - val_mae: 0.0418\n",
      "Epoch 126/150\n",
      "7/7 [==============================] - 0s 12ms/step - loss: 0.7079 - mae: 0.0450 - val_loss: 0.6967 - val_mae: 0.0410\n",
      "Epoch 127/150\n",
      "7/7 [==============================] - 0s 11ms/step - loss: 0.7092 - mae: 0.0452 - val_loss: 0.6920 - val_mae: 0.0413\n",
      "Epoch 128/150\n",
      "7/7 [==============================] - 0s 11ms/step - loss: 0.7078 - mae: 0.0447 - val_loss: 0.6862 - val_mae: 0.0408\n",
      "Epoch 129/150\n",
      "7/7 [==============================] - 0s 11ms/step - loss: 0.7056 - mae: 0.0447 - val_loss: 0.6940 - val_mae: 0.0412\n",
      "Epoch 130/150\n",
      "7/7 [==============================] - 0s 11ms/step - loss: 0.7102 - mae: 0.0459 - val_loss: 0.6979 - val_mae: 0.0441\n",
      "Epoch 131/150\n",
      "7/7 [==============================] - 0s 11ms/step - loss: 0.7105 - mae: 0.0454 - val_loss: 0.6876 - val_mae: 0.0431\n",
      "Epoch 132/150\n",
      "7/7 [==============================] - 0s 12ms/step - loss: 0.7057 - mae: 0.0461 - val_loss: 0.6927 - val_mae: 0.0440\n",
      "Epoch 133/150\n",
      "7/7 [==============================] - 0s 11ms/step - loss: 0.7064 - mae: 0.0457 - val_loss: 0.6896 - val_mae: 0.0430\n",
      "Epoch 134/150\n",
      "7/7 [==============================] - 0s 11ms/step - loss: 0.7099 - mae: 0.0452 - val_loss: 0.6937 - val_mae: 0.0417\n",
      "Epoch 135/150\n",
      "7/7 [==============================] - 0s 11ms/step - loss: 0.7118 - mae: 0.0452 - val_loss: 0.6844 - val_mae: 0.0415\n",
      "Epoch 136/150\n",
      "7/7 [==============================] - 0s 11ms/step - loss: 0.7044 - mae: 0.0455 - val_loss: 0.6827 - val_mae: 0.0421\n",
      "Epoch 137/150\n",
      "7/7 [==============================] - 0s 11ms/step - loss: 0.7043 - mae: 0.0453 - val_loss: 0.6938 - val_mae: 0.0418\n",
      "Epoch 138/150\n",
      "7/7 [==============================] - 0s 11ms/step - loss: 0.7087 - mae: 0.0452 - val_loss: 0.6984 - val_mae: 0.0418\n",
      "Epoch 139/150\n",
      "7/7 [==============================] - 0s 11ms/step - loss: 0.7093 - mae: 0.0456 - val_loss: 0.6996 - val_mae: 0.0424\n",
      "Epoch 140/150\n",
      "7/7 [==============================] - 0s 12ms/step - loss: 0.7108 - mae: 0.0454 - val_loss: 0.6867 - val_mae: 0.0421\n",
      "Epoch 141/150\n",
      "7/7 [==============================] - 0s 11ms/step - loss: 0.7050 - mae: 0.0449 - val_loss: 0.6829 - val_mae: 0.0410\n",
      "Epoch 142/150\n",
      "7/7 [==============================] - 0s 11ms/step - loss: 0.7075 - mae: 0.0449 - val_loss: 0.6956 - val_mae: 0.0412\n",
      "Epoch 143/150\n",
      "7/7 [==============================] - 0s 11ms/step - loss: 0.7111 - mae: 0.0458 - val_loss: 0.6906 - val_mae: 0.0435\n",
      "Epoch 144/150\n",
      "7/7 [==============================] - 0s 11ms/step - loss: 0.7064 - mae: 0.0461 - val_loss: 0.6924 - val_mae: 0.0445\n",
      "Epoch 145/150\n",
      "7/7 [==============================] - 0s 11ms/step - loss: 0.7079 - mae: 0.0462 - val_loss: 0.6967 - val_mae: 0.0441\n",
      "Epoch 146/150\n",
      "7/7 [==============================] - 0s 12ms/step - loss: 0.7055 - mae: 0.0452 - val_loss: 0.6928 - val_mae: 0.0415\n",
      "Epoch 147/150\n",
      "7/7 [==============================] - 0s 11ms/step - loss: 0.7092 - mae: 0.0451 - val_loss: 0.6916 - val_mae: 0.0412\n",
      "Epoch 148/150\n",
      "7/7 [==============================] - 0s 11ms/step - loss: 0.7110 - mae: 0.0447 - val_loss: 0.6851 - val_mae: 0.0409\n",
      "Epoch 149/150\n",
      "7/7 [==============================] - 0s 11ms/step - loss: 0.7040 - mae: 0.0455 - val_loss: 0.6852 - val_mae: 0.0428\n",
      "Epoch 150/150\n",
      "7/7 [==============================] - 0s 12ms/step - loss: 0.7058 - mae: 0.0462 - val_loss: 0.7014 - val_mae: 0.0440\n"
>>>>>>> 1eaaedc47848ddf767706f31d7b2485fc34a78da
     ]
    }
   ],
   "source": [
    "#Using mae and mse\n",
    "#model.compile(optimizer=tf.keras.optimizers.SGD(learning_rate=0.001, momentum=0.9),metrics=['mae'],loss='mse')\n",
    "model.compile(optimizer=tf.keras.optimizers.Adam(),metrics=['mae'],loss='mse')\n",
    "model.summary()\n",
    "hist=model.fit(train_set,epochs=150,validation_data=valid_set, batch_size=8)"
   ]
  },
  {
   "cell_type": "code",
<<<<<<< HEAD
   "execution_count": 488,
=======
   "execution_count": 27,
>>>>>>> 1eaaedc47848ddf767706f31d7b2485fc34a78da
   "metadata": {},
   "outputs": [
    {
     "data": {
<<<<<<< HEAD
      "image/png": "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",
=======
      "image/png": "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",
>>>>>>> 1eaaedc47848ddf767706f31d7b2485fc34a78da
      "text/plain": [
       "<Figure size 432x288 with 1 Axes>"
      ]
     },
     "metadata": {
      "needs_background": "light"
     },
     "output_type": "display_data"
    }
   ],
   "source": [
    "import matplotlib.pyplot as plt\n",
    "\n",
    "plt.plot(hist.history['mae'], label='MAE (training data)')\n",
    "plt.plot(hist.history['val_mae'], label='MAE (validation data)')\n",
    "\n",
    "plt.title('MAE Cluster 3')\n",
    "plt.ylabel('MAE value')\n",
    "plt.xlabel('No. epoch')\n",
    "plt.legend(loc=\"upper left\")\n",
    "plt.show()\n",
    "#ini ada underfitting soalnya 5 data terakhir itu nol semua, gitu, "
   ]
  },
  {
   "cell_type": "code",
<<<<<<< HEAD
   "execution_count": 489,
=======
   "execution_count": 28,
>>>>>>> 1eaaedc47848ddf767706f31d7b2485fc34a78da
   "metadata": {},
   "outputs": [
    {
     "data": {
<<<<<<< HEAD
      "image/png": "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",
=======
      "image/png": "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",
>>>>>>> 1eaaedc47848ddf767706f31d7b2485fc34a78da
      "text/plain": [
       "<Figure size 432x288 with 1 Axes>"
      ]
     },
     "metadata": {
      "needs_background": "light"
     },
     "output_type": "display_data"
    }
   ],
   "source": [
    "plt.plot(hist.history['loss'], label='loss (training data)')\n",
    "plt.plot(hist.history['val_loss'], label='loss (validation data)')\n",
    "\n",
    "plt.title(\"Loss Cluster 3 (MSE)\")\n",
    "plt.ylabel('MSE value')\n",
    "plt.xlabel('No. epoch')\n",
    "plt.legend(loc=\"upper left\")\n",
    "plt.show()"
   ]
  },
  {
   "cell_type": "code",
   "execution_count": 29,
   "metadata": {},
   "outputs": [
    {
     "data": {
      "text/plain": [
       "array([[[0.04403048]],\n",
       "\n",
       "       [[0.04403048]],\n",
       "\n",
       "       [[0.04403048]],\n",
       "\n",
       "       [[0.04403048]],\n",
       "\n",
       "       [[0.04403048]],\n",
       "\n",
       "       [[0.04403048]]], dtype=float32)"
      ]
     },
     "execution_count": 29,
     "metadata": {},
     "output_type": "execute_result"
    }
   ],
   "source": [
    "prediksi=model.predict(np.array(x_valid))\n",
    "prediksi"
   ]
  },
  {
   "cell_type": "code",
   "execution_count": 30,
   "metadata": {},
   "outputs": [],
   "source": [
    "prediksi=prediksi.flatten()"
   ]
  },
  {
   "cell_type": "code",
   "execution_count": 31,
   "metadata": {},
   "outputs": [],
   "source": [
    "hasil=np.concatenate((series,prediksi))"
   ]
  },
  {
   "cell_type": "code",
   "execution_count": 32,
   "metadata": {},
   "outputs": [
    {
     "data": {
      "text/plain": [
       "(60,)"
      ]
     },
     "execution_count": 32,
     "metadata": {},
     "output_type": "execute_result"
    }
   ],
   "source": [
    "hasil.shape"
   ]
  },
  {
   "cell_type": "code",
   "execution_count": 33,
   "metadata": {},
   "outputs": [],
   "source": [
    "asli = np.concatenate((series,series_t))\n"
   ]
  },
  {
   "cell_type": "code",
   "execution_count": 34,
   "metadata": {},
   "outputs": [],
   "source": [
    "hasil = hasil * (max-min) + min\n",
    "asli = asli * (max-min) + min"
   ]
  },
  {
   "cell_type": "code",
   "execution_count": 35,
   "metadata": {},
   "outputs": [
    {
     "data": {
      "text/plain": [
       "[]"
      ]
     },
     "execution_count": 35,
     "metadata": {},
     "output_type": "execute_result"
    },
    {
     "data": {
      "image/png": "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",
      "text/plain": [
       "<Figure size 432x288 with 1 Axes>"
      ]
     },
     "metadata": {
      "needs_background": "light"
     },
     "output_type": "display_data"
    }
   ],
   "source": [
    "plt.plot(asli,marker = 'o',label='data asli')\n",
    "plt.plot(hasil,marker = 'o',label='data prediksi')\n",
    "plt.title('penjualan produk cluster 3')\n",
    "plt.legend()\n",
    "plt.plot()"
   ]
  },
  {
   "cell_type": "code",
<<<<<<< HEAD
   "execution_count": 354,
=======
   "execution_count": 36,
>>>>>>> 1eaaedc47848ddf767706f31d7b2485fc34a78da
   "metadata": {},
   "outputs": [],
   "source": [
    "model.save('cluster3_newdata.h5')"
   ]
  },
  {
   "cell_type": "code",
   "execution_count": null,
   "metadata": {},
   "outputs": [],
   "source": []
  }
 ],
 "metadata": {
  "interpreter": {
   "hash": "c9d83cc02921a4738836e4c62bbe4b1fbf4384e37b2198c6e81d5aaf3defd2c8"
  },
  "kernelspec": {
   "display_name": "Python 3.8.5 ('base')",
   "language": "python",
   "name": "python3"
  },
  "language_info": {
   "codemirror_mode": {
    "name": "ipython",
    "version": 3
   },
   "file_extension": ".py",
   "mimetype": "text/x-python",
   "name": "python",
   "nbconvert_exporter": "python",
   "pygments_lexer": "ipython3",
   "version": "3.8.5"
  },
  "orig_nbformat": 4
 },
 "nbformat": 4,
 "nbformat_minor": 2
}
