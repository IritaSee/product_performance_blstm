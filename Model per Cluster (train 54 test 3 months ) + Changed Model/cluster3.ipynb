{
 "cells": [
  {
   "cell_type": "markdown",
   "metadata": {},
   "source": [
    "# Permodelan Cluster 3"
   ]
  },
  {
   "cell_type": "markdown",
   "metadata": {},
   "source": [
    "Import segala pustaka (library) yang digunakan"
   ]
  },
  {
   "cell_type": "code",
   "execution_count": 2,
   "metadata": {},
   "outputs": [],
   "source": [
    "import tensorflow as tf\n",
    "import pandas as pd\n",
    "import numpy as np\n",
    "import matplotlib.pyplot as plt\n",
    "from sklearn.preprocessing import MinMaxScaler"
   ]
  },
  {
   "cell_type": "markdown",
   "metadata": {},
   "source": [
    "## Pembacaan Data"
   ]
  },
  {
   "cell_type": "markdown",
   "metadata": {},
   "source": [
    "Baca dataset train"
   ]
  },
  {
   "cell_type": "code",
   "execution_count": 3,
   "metadata": {},
   "outputs": [
    {
     "data": {
      "text/html": [
       "<div>\n",
       "<style scoped>\n",
       "    .dataframe tbody tr th:only-of-type {\n",
       "        vertical-align: middle;\n",
       "    }\n",
       "\n",
       "    .dataframe tbody tr th {\n",
       "        vertical-align: top;\n",
       "    }\n",
       "\n",
       "    .dataframe thead th {\n",
       "        text-align: right;\n",
       "    }\n",
       "</style>\n",
       "<table border=\"1\" class=\"dataframe\">\n",
       "  <thead>\n",
       "    <tr style=\"text-align: right;\">\n",
       "      <th></th>\n",
       "      <th>KodeBarang</th>\n",
       "      <th>1</th>\n",
       "      <th>2</th>\n",
       "      <th>3</th>\n",
       "      <th>4</th>\n",
       "      <th>5</th>\n",
       "      <th>6</th>\n",
       "      <th>7</th>\n",
       "      <th>8</th>\n",
       "      <th>9</th>\n",
       "      <th>...</th>\n",
       "      <th>46</th>\n",
       "      <th>47</th>\n",
       "      <th>48</th>\n",
       "      <th>49</th>\n",
       "      <th>50</th>\n",
       "      <th>51</th>\n",
       "      <th>52</th>\n",
       "      <th>53</th>\n",
       "      <th>54</th>\n",
       "      <th>cluster</th>\n",
       "    </tr>\n",
       "  </thead>\n",
       "  <tbody>\n",
       "    <tr>\n",
       "      <th>0</th>\n",
       "      <td>04121</td>\n",
       "      <td>7</td>\n",
       "      <td>9</td>\n",
       "      <td>6</td>\n",
       "      <td>9</td>\n",
       "      <td>40</td>\n",
       "      <td>0</td>\n",
       "      <td>3</td>\n",
       "      <td>0</td>\n",
       "      <td>7</td>\n",
       "      <td>...</td>\n",
       "      <td>67</td>\n",
       "      <td>77</td>\n",
       "      <td>11</td>\n",
       "      <td>57</td>\n",
       "      <td>43</td>\n",
       "      <td>50</td>\n",
       "      <td>37</td>\n",
       "      <td>21</td>\n",
       "      <td>136</td>\n",
       "      <td>0</td>\n",
       "    </tr>\n",
       "    <tr>\n",
       "      <th>1</th>\n",
       "      <td>18031</td>\n",
       "      <td>230</td>\n",
       "      <td>227</td>\n",
       "      <td>279</td>\n",
       "      <td>153</td>\n",
       "      <td>190</td>\n",
       "      <td>256</td>\n",
       "      <td>267</td>\n",
       "      <td>305</td>\n",
       "      <td>238</td>\n",
       "      <td>...</td>\n",
       "      <td>336</td>\n",
       "      <td>153</td>\n",
       "      <td>103</td>\n",
       "      <td>221</td>\n",
       "      <td>360</td>\n",
       "      <td>280</td>\n",
       "      <td>240</td>\n",
       "      <td>120</td>\n",
       "      <td>548</td>\n",
       "      <td>1</td>\n",
       "    </tr>\n",
       "    <tr>\n",
       "      <th>2</th>\n",
       "      <td>04161</td>\n",
       "      <td>102</td>\n",
       "      <td>50</td>\n",
       "      <td>45</td>\n",
       "      <td>41</td>\n",
       "      <td>71</td>\n",
       "      <td>11</td>\n",
       "      <td>52</td>\n",
       "      <td>14</td>\n",
       "      <td>66</td>\n",
       "      <td>...</td>\n",
       "      <td>21</td>\n",
       "      <td>20</td>\n",
       "      <td>7</td>\n",
       "      <td>33</td>\n",
       "      <td>21</td>\n",
       "      <td>28</td>\n",
       "      <td>30</td>\n",
       "      <td>10</td>\n",
       "      <td>18</td>\n",
       "      <td>0</td>\n",
       "    </tr>\n",
       "    <tr>\n",
       "      <th>3</th>\n",
       "      <td>04162</td>\n",
       "      <td>272</td>\n",
       "      <td>155</td>\n",
       "      <td>214</td>\n",
       "      <td>226</td>\n",
       "      <td>268</td>\n",
       "      <td>110</td>\n",
       "      <td>204</td>\n",
       "      <td>253</td>\n",
       "      <td>193</td>\n",
       "      <td>...</td>\n",
       "      <td>102</td>\n",
       "      <td>118</td>\n",
       "      <td>120</td>\n",
       "      <td>211</td>\n",
       "      <td>292</td>\n",
       "      <td>105</td>\n",
       "      <td>108</td>\n",
       "      <td>101</td>\n",
       "      <td>117</td>\n",
       "      <td>1</td>\n",
       "    </tr>\n",
       "    <tr>\n",
       "      <th>4</th>\n",
       "      <td>04163</td>\n",
       "      <td>28</td>\n",
       "      <td>28</td>\n",
       "      <td>29</td>\n",
       "      <td>52</td>\n",
       "      <td>44</td>\n",
       "      <td>21</td>\n",
       "      <td>47</td>\n",
       "      <td>15</td>\n",
       "      <td>24</td>\n",
       "      <td>...</td>\n",
       "      <td>18</td>\n",
       "      <td>23</td>\n",
       "      <td>22</td>\n",
       "      <td>16</td>\n",
       "      <td>22</td>\n",
       "      <td>31</td>\n",
       "      <td>36</td>\n",
       "      <td>17</td>\n",
       "      <td>14</td>\n",
       "      <td>0</td>\n",
       "    </tr>\n",
       "    <tr>\n",
       "      <th>...</th>\n",
       "      <td>...</td>\n",
       "      <td>...</td>\n",
       "      <td>...</td>\n",
       "      <td>...</td>\n",
       "      <td>...</td>\n",
       "      <td>...</td>\n",
       "      <td>...</td>\n",
       "      <td>...</td>\n",
       "      <td>...</td>\n",
       "      <td>...</td>\n",
       "      <td>...</td>\n",
       "      <td>...</td>\n",
       "      <td>...</td>\n",
       "      <td>...</td>\n",
       "      <td>...</td>\n",
       "      <td>...</td>\n",
       "      <td>...</td>\n",
       "      <td>...</td>\n",
       "      <td>...</td>\n",
       "      <td>...</td>\n",
       "      <td>...</td>\n",
       "    </tr>\n",
       "    <tr>\n",
       "      <th>101</th>\n",
       "      <td>04157</td>\n",
       "      <td>55</td>\n",
       "      <td>64</td>\n",
       "      <td>44</td>\n",
       "      <td>61</td>\n",
       "      <td>30</td>\n",
       "      <td>1</td>\n",
       "      <td>24</td>\n",
       "      <td>37</td>\n",
       "      <td>67</td>\n",
       "      <td>...</td>\n",
       "      <td>20</td>\n",
       "      <td>10</td>\n",
       "      <td>300</td>\n",
       "      <td>34</td>\n",
       "      <td>7</td>\n",
       "      <td>7</td>\n",
       "      <td>6</td>\n",
       "      <td>4</td>\n",
       "      <td>21</td>\n",
       "      <td>0</td>\n",
       "    </tr>\n",
       "    <tr>\n",
       "      <th>102</th>\n",
       "      <td>18104</td>\n",
       "      <td>46</td>\n",
       "      <td>295</td>\n",
       "      <td>83</td>\n",
       "      <td>112</td>\n",
       "      <td>70</td>\n",
       "      <td>40</td>\n",
       "      <td>18</td>\n",
       "      <td>140</td>\n",
       "      <td>97</td>\n",
       "      <td>...</td>\n",
       "      <td>47</td>\n",
       "      <td>54</td>\n",
       "      <td>27</td>\n",
       "      <td>15</td>\n",
       "      <td>57</td>\n",
       "      <td>132</td>\n",
       "      <td>66</td>\n",
       "      <td>34</td>\n",
       "      <td>146</td>\n",
       "      <td>0</td>\n",
       "    </tr>\n",
       "    <tr>\n",
       "      <th>103</th>\n",
       "      <td>18106</td>\n",
       "      <td>200</td>\n",
       "      <td>204</td>\n",
       "      <td>0</td>\n",
       "      <td>2</td>\n",
       "      <td>10</td>\n",
       "      <td>7</td>\n",
       "      <td>0</td>\n",
       "      <td>27</td>\n",
       "      <td>74</td>\n",
       "      <td>...</td>\n",
       "      <td>15</td>\n",
       "      <td>136</td>\n",
       "      <td>15</td>\n",
       "      <td>15</td>\n",
       "      <td>14</td>\n",
       "      <td>131</td>\n",
       "      <td>84</td>\n",
       "      <td>12</td>\n",
       "      <td>14</td>\n",
       "      <td>0</td>\n",
       "    </tr>\n",
       "    <tr>\n",
       "      <th>104</th>\n",
       "      <td>18092</td>\n",
       "      <td>297</td>\n",
       "      <td>418</td>\n",
       "      <td>329</td>\n",
       "      <td>70</td>\n",
       "      <td>498</td>\n",
       "      <td>59</td>\n",
       "      <td>298</td>\n",
       "      <td>376</td>\n",
       "      <td>259</td>\n",
       "      <td>...</td>\n",
       "      <td>450</td>\n",
       "      <td>498</td>\n",
       "      <td>254</td>\n",
       "      <td>260</td>\n",
       "      <td>336</td>\n",
       "      <td>493</td>\n",
       "      <td>438</td>\n",
       "      <td>408</td>\n",
       "      <td>322</td>\n",
       "      <td>1</td>\n",
       "    </tr>\n",
       "    <tr>\n",
       "      <th>105</th>\n",
       "      <td>04143</td>\n",
       "      <td>132</td>\n",
       "      <td>80</td>\n",
       "      <td>103</td>\n",
       "      <td>113</td>\n",
       "      <td>81</td>\n",
       "      <td>108</td>\n",
       "      <td>124</td>\n",
       "      <td>101</td>\n",
       "      <td>119</td>\n",
       "      <td>...</td>\n",
       "      <td>153</td>\n",
       "      <td>130</td>\n",
       "      <td>121</td>\n",
       "      <td>189</td>\n",
       "      <td>92</td>\n",
       "      <td>226</td>\n",
       "      <td>181</td>\n",
       "      <td>112</td>\n",
       "      <td>214</td>\n",
       "      <td>1</td>\n",
       "    </tr>\n",
       "  </tbody>\n",
       "</table>\n",
       "<p>106 rows × 56 columns</p>\n",
       "</div>"
      ],
      "text/plain": [
       "    KodeBarang    1    2    3    4    5    6    7    8    9  ...   46   47  \\\n",
       "0        04121    7    9    6    9   40    0    3    0    7  ...   67   77   \n",
       "1        18031  230  227  279  153  190  256  267  305  238  ...  336  153   \n",
       "2        04161  102   50   45   41   71   11   52   14   66  ...   21   20   \n",
       "3        04162  272  155  214  226  268  110  204  253  193  ...  102  118   \n",
       "4        04163   28   28   29   52   44   21   47   15   24  ...   18   23   \n",
       "..         ...  ...  ...  ...  ...  ...  ...  ...  ...  ...  ...  ...  ...   \n",
       "101      04157   55   64   44   61   30    1   24   37   67  ...   20   10   \n",
       "102      18104   46  295   83  112   70   40   18  140   97  ...   47   54   \n",
       "103      18106  200  204    0    2   10    7    0   27   74  ...   15  136   \n",
       "104      18092  297  418  329   70  498   59  298  376  259  ...  450  498   \n",
       "105      04143  132   80  103  113   81  108  124  101  119  ...  153  130   \n",
       "\n",
       "      48   49   50   51   52   53   54  cluster  \n",
       "0     11   57   43   50   37   21  136        0  \n",
       "1    103  221  360  280  240  120  548        1  \n",
       "2      7   33   21   28   30   10   18        0  \n",
       "3    120  211  292  105  108  101  117        1  \n",
       "4     22   16   22   31   36   17   14        0  \n",
       "..   ...  ...  ...  ...  ...  ...  ...      ...  \n",
       "101  300   34    7    7    6    4   21        0  \n",
       "102   27   15   57  132   66   34  146        0  \n",
       "103   15   15   14  131   84   12   14        0  \n",
       "104  254  260  336  493  438  408  322        1  \n",
       "105  121  189   92  226  181  112  214        1  \n",
       "\n",
       "[106 rows x 56 columns]"
      ]
     },
     "execution_count": 3,
     "metadata": {},
     "output_type": "execute_result"
    }
   ],
   "source": [
    "data=pd.read_excel('../dataset_new.xlsx',sheet_name='train')\n",
    "data"
   ]
  },
  {
   "cell_type": "markdown",
   "metadata": {},
   "source": [
    "Baca dataset test"
   ]
  },
  {
   "cell_type": "code",
   "execution_count": 4,
   "metadata": {},
   "outputs": [
    {
     "data": {
      "text/html": [
       "<div>\n",
       "<style scoped>\n",
       "    .dataframe tbody tr th:only-of-type {\n",
       "        vertical-align: middle;\n",
       "    }\n",
       "\n",
       "    .dataframe tbody tr th {\n",
       "        vertical-align: top;\n",
       "    }\n",
       "\n",
       "    .dataframe thead th {\n",
       "        text-align: right;\n",
       "    }\n",
       "</style>\n",
       "<table border=\"1\" class=\"dataframe\">\n",
       "  <thead>\n",
       "    <tr style=\"text-align: right;\">\n",
       "      <th></th>\n",
       "      <th>KodeBarang</th>\n",
       "      <th>bulan 1</th>\n",
       "      <th>bulan 2</th>\n",
       "      <th>bulan 3</th>\n",
       "      <th>bulan 4</th>\n",
       "      <th>bulan 5</th>\n",
       "      <th>bulan 6</th>\n",
       "    </tr>\n",
       "  </thead>\n",
       "  <tbody>\n",
       "    <tr>\n",
       "      <th>0</th>\n",
       "      <td>04121</td>\n",
       "      <td>5</td>\n",
       "      <td>12</td>\n",
       "      <td>8</td>\n",
       "      <td>14</td>\n",
       "      <td>40</td>\n",
       "      <td>40</td>\n",
       "    </tr>\n",
       "    <tr>\n",
       "      <th>1</th>\n",
       "      <td>18031</td>\n",
       "      <td>573</td>\n",
       "      <td>340</td>\n",
       "      <td>441</td>\n",
       "      <td>270</td>\n",
       "      <td>488</td>\n",
       "      <td>240</td>\n",
       "    </tr>\n",
       "    <tr>\n",
       "      <th>2</th>\n",
       "      <td>04161</td>\n",
       "      <td>27</td>\n",
       "      <td>5</td>\n",
       "      <td>26</td>\n",
       "      <td>34</td>\n",
       "      <td>40</td>\n",
       "      <td>56</td>\n",
       "    </tr>\n",
       "    <tr>\n",
       "      <th>3</th>\n",
       "      <td>04162</td>\n",
       "      <td>162</td>\n",
       "      <td>82</td>\n",
       "      <td>72</td>\n",
       "      <td>98</td>\n",
       "      <td>126</td>\n",
       "      <td>120</td>\n",
       "    </tr>\n",
       "    <tr>\n",
       "      <th>4</th>\n",
       "      <td>04163</td>\n",
       "      <td>23</td>\n",
       "      <td>20</td>\n",
       "      <td>9</td>\n",
       "      <td>5</td>\n",
       "      <td>22</td>\n",
       "      <td>6</td>\n",
       "    </tr>\n",
       "    <tr>\n",
       "      <th>...</th>\n",
       "      <td>...</td>\n",
       "      <td>...</td>\n",
       "      <td>...</td>\n",
       "      <td>...</td>\n",
       "      <td>...</td>\n",
       "      <td>...</td>\n",
       "      <td>...</td>\n",
       "    </tr>\n",
       "    <tr>\n",
       "      <th>101</th>\n",
       "      <td>04157</td>\n",
       "      <td>138</td>\n",
       "      <td>14</td>\n",
       "      <td>12</td>\n",
       "      <td>21</td>\n",
       "      <td>25</td>\n",
       "      <td>10</td>\n",
       "    </tr>\n",
       "    <tr>\n",
       "      <th>102</th>\n",
       "      <td>18104</td>\n",
       "      <td>60</td>\n",
       "      <td>103</td>\n",
       "      <td>39</td>\n",
       "      <td>87</td>\n",
       "      <td>276</td>\n",
       "      <td>40</td>\n",
       "    </tr>\n",
       "    <tr>\n",
       "      <th>103</th>\n",
       "      <td>18106</td>\n",
       "      <td>16</td>\n",
       "      <td>7</td>\n",
       "      <td>65</td>\n",
       "      <td>24</td>\n",
       "      <td>13</td>\n",
       "      <td>27</td>\n",
       "    </tr>\n",
       "    <tr>\n",
       "      <th>104</th>\n",
       "      <td>18092</td>\n",
       "      <td>721</td>\n",
       "      <td>184</td>\n",
       "      <td>150</td>\n",
       "      <td>488</td>\n",
       "      <td>648</td>\n",
       "      <td>149</td>\n",
       "    </tr>\n",
       "    <tr>\n",
       "      <th>105</th>\n",
       "      <td>04143</td>\n",
       "      <td>164</td>\n",
       "      <td>189</td>\n",
       "      <td>187</td>\n",
       "      <td>232</td>\n",
       "      <td>219</td>\n",
       "      <td>229</td>\n",
       "    </tr>\n",
       "  </tbody>\n",
       "</table>\n",
       "<p>106 rows × 7 columns</p>\n",
       "</div>"
      ],
      "text/plain": [
       "    KodeBarang  bulan 1  bulan 2  bulan 3  bulan 4  bulan 5  bulan 6\n",
       "0        04121        5       12        8       14       40       40\n",
       "1        18031      573      340      441      270      488      240\n",
       "2        04161       27        5       26       34       40       56\n",
       "3        04162      162       82       72       98      126      120\n",
       "4        04163       23       20        9        5       22        6\n",
       "..         ...      ...      ...      ...      ...      ...      ...\n",
       "101      04157      138       14       12       21       25       10\n",
       "102      18104       60      103       39       87      276       40\n",
       "103      18106       16        7       65       24       13       27\n",
       "104      18092      721      184      150      488      648      149\n",
       "105      04143      164      189      187      232      219      229\n",
       "\n",
       "[106 rows x 7 columns]"
      ]
     },
     "execution_count": 4,
     "metadata": {},
     "output_type": "execute_result"
    }
   ],
   "source": [
    "data_test = pd.read_excel('../dataset_new.xlsx',sheet_name='test')\n",
    "data_test"
   ]
  },
  {
   "cell_type": "markdown",
   "metadata": {},
   "source": [
    "Hilangkan judul kolom agar tidak terbaca di deep learning\n",
    "Pastikan cluster pada dataset sudah berupa angka"
   ]
  },
  {
   "cell_type": "code",
   "execution_count": 5,
   "metadata": {},
   "outputs": [],
   "source": [
    "clusters=data['cluster']\n",
    "data_test['cluster'] = clusters\n",
    "# data_test.drop(['bulan 4','bulan 5','bulan 6'],axis=1,inplace=True)"
   ]
  },
  {
   "cell_type": "code",
   "execution_count": 6,
   "metadata": {},
   "outputs": [
    {
     "data": {
      "text/html": [
       "<div>\n",
       "<style scoped>\n",
       "    .dataframe tbody tr th:only-of-type {\n",
       "        vertical-align: middle;\n",
       "    }\n",
       "\n",
       "    .dataframe tbody tr th {\n",
       "        vertical-align: top;\n",
       "    }\n",
       "\n",
       "    .dataframe thead th {\n",
       "        text-align: right;\n",
       "    }\n",
       "</style>\n",
       "<table border=\"1\" class=\"dataframe\">\n",
       "  <thead>\n",
       "    <tr style=\"text-align: right;\">\n",
       "      <th></th>\n",
       "      <th>KodeBarang</th>\n",
       "      <th>bulan 1</th>\n",
       "      <th>bulan 2</th>\n",
       "      <th>bulan 3</th>\n",
       "      <th>bulan 4</th>\n",
       "      <th>bulan 5</th>\n",
       "      <th>bulan 6</th>\n",
       "      <th>cluster</th>\n",
       "    </tr>\n",
       "  </thead>\n",
       "  <tbody>\n",
       "    <tr>\n",
       "      <th>0</th>\n",
       "      <td>04121</td>\n",
       "      <td>5</td>\n",
       "      <td>12</td>\n",
       "      <td>8</td>\n",
       "      <td>14</td>\n",
       "      <td>40</td>\n",
       "      <td>40</td>\n",
       "      <td>0</td>\n",
       "    </tr>\n",
       "    <tr>\n",
       "      <th>1</th>\n",
       "      <td>18031</td>\n",
       "      <td>573</td>\n",
       "      <td>340</td>\n",
       "      <td>441</td>\n",
       "      <td>270</td>\n",
       "      <td>488</td>\n",
       "      <td>240</td>\n",
       "      <td>1</td>\n",
       "    </tr>\n",
       "    <tr>\n",
       "      <th>2</th>\n",
       "      <td>04161</td>\n",
       "      <td>27</td>\n",
       "      <td>5</td>\n",
       "      <td>26</td>\n",
       "      <td>34</td>\n",
       "      <td>40</td>\n",
       "      <td>56</td>\n",
       "      <td>0</td>\n",
       "    </tr>\n",
       "    <tr>\n",
       "      <th>3</th>\n",
       "      <td>04162</td>\n",
       "      <td>162</td>\n",
       "      <td>82</td>\n",
       "      <td>72</td>\n",
       "      <td>98</td>\n",
       "      <td>126</td>\n",
       "      <td>120</td>\n",
       "      <td>1</td>\n",
       "    </tr>\n",
       "    <tr>\n",
       "      <th>4</th>\n",
       "      <td>04163</td>\n",
       "      <td>23</td>\n",
       "      <td>20</td>\n",
       "      <td>9</td>\n",
       "      <td>5</td>\n",
       "      <td>22</td>\n",
       "      <td>6</td>\n",
       "      <td>0</td>\n",
       "    </tr>\n",
       "    <tr>\n",
       "      <th>...</th>\n",
       "      <td>...</td>\n",
       "      <td>...</td>\n",
       "      <td>...</td>\n",
       "      <td>...</td>\n",
       "      <td>...</td>\n",
       "      <td>...</td>\n",
       "      <td>...</td>\n",
       "      <td>...</td>\n",
       "    </tr>\n",
       "    <tr>\n",
       "      <th>101</th>\n",
       "      <td>04157</td>\n",
       "      <td>138</td>\n",
       "      <td>14</td>\n",
       "      <td>12</td>\n",
       "      <td>21</td>\n",
       "      <td>25</td>\n",
       "      <td>10</td>\n",
       "      <td>0</td>\n",
       "    </tr>\n",
       "    <tr>\n",
       "      <th>102</th>\n",
       "      <td>18104</td>\n",
       "      <td>60</td>\n",
       "      <td>103</td>\n",
       "      <td>39</td>\n",
       "      <td>87</td>\n",
       "      <td>276</td>\n",
       "      <td>40</td>\n",
       "      <td>0</td>\n",
       "    </tr>\n",
       "    <tr>\n",
       "      <th>103</th>\n",
       "      <td>18106</td>\n",
       "      <td>16</td>\n",
       "      <td>7</td>\n",
       "      <td>65</td>\n",
       "      <td>24</td>\n",
       "      <td>13</td>\n",
       "      <td>27</td>\n",
       "      <td>0</td>\n",
       "    </tr>\n",
       "    <tr>\n",
       "      <th>104</th>\n",
       "      <td>18092</td>\n",
       "      <td>721</td>\n",
       "      <td>184</td>\n",
       "      <td>150</td>\n",
       "      <td>488</td>\n",
       "      <td>648</td>\n",
       "      <td>149</td>\n",
       "      <td>1</td>\n",
       "    </tr>\n",
       "    <tr>\n",
       "      <th>105</th>\n",
       "      <td>04143</td>\n",
       "      <td>164</td>\n",
       "      <td>189</td>\n",
       "      <td>187</td>\n",
       "      <td>232</td>\n",
       "      <td>219</td>\n",
       "      <td>229</td>\n",
       "      <td>1</td>\n",
       "    </tr>\n",
       "  </tbody>\n",
       "</table>\n",
       "<p>106 rows × 8 columns</p>\n",
       "</div>"
      ],
      "text/plain": [
       "    KodeBarang  bulan 1  bulan 2  bulan 3  bulan 4  bulan 5  bulan 6  cluster\n",
       "0        04121        5       12        8       14       40       40        0\n",
       "1        18031      573      340      441      270      488      240        1\n",
       "2        04161       27        5       26       34       40       56        0\n",
       "3        04162      162       82       72       98      126      120        1\n",
       "4        04163       23       20        9        5       22        6        0\n",
       "..         ...      ...      ...      ...      ...      ...      ...      ...\n",
       "101      04157      138       14       12       21       25       10        0\n",
       "102      18104       60      103       39       87      276       40        0\n",
       "103      18106       16        7       65       24       13       27        0\n",
       "104      18092      721      184      150      488      648      149        1\n",
       "105      04143      164      189      187      232      219      229        1\n",
       "\n",
       "[106 rows x 8 columns]"
      ]
     },
     "execution_count": 6,
     "metadata": {},
     "output_type": "execute_result"
    }
   ],
   "source": [
    "data_test"
   ]
  },
  {
   "cell_type": "code",
   "execution_count": 7,
   "metadata": {},
   "outputs": [],
   "source": [
    "import matplotlib.pyplot as plt\n",
    "from sklearn.preprocessing import MinMaxScaler"
   ]
  },
  {
   "cell_type": "markdown",
   "metadata": {},
   "source": [
    "Make sure ada berapa cluster?"
   ]
  },
  {
   "cell_type": "code",
   "execution_count": 8,
   "metadata": {},
   "outputs": [
    {
     "data": {
      "text/plain": [
       "4"
      ]
     },
     "execution_count": 8,
     "metadata": {},
     "output_type": "execute_result"
    }
   ],
   "source": [
    "len(data['cluster'].unique())"
   ]
  },
  {
   "cell_type": "markdown",
   "metadata": {},
   "source": [
    "Ambil jumlah produk dalam setiap Cluster"
   ]
  },
  {
   "cell_type": "code",
   "execution_count": 9,
   "metadata": {},
   "outputs": [
    {
     "name": "stdout",
     "output_type": "stream",
     "text": [
      "Jumlah Produk:\n",
      "70\n",
      "Jumlah Produk:\n",
      "31\n",
      "Jumlah Produk:\n",
      "4\n",
      "Jumlah Produk:\n",
      "1\n"
     ]
    }
   ],
   "source": [
    "#now lets take clusters\n",
    "c0 = data.query(\"cluster == 0\")\n",
    "print(\"Jumlah Produk:\")\n",
    "print(c0['KodeBarang'].size)\n",
    "c1 = data.query(\"cluster == 1\")\n",
    "print(\"Jumlah Produk:\")\n",
    "print(c1['KodeBarang'].size)\n",
    "c2 = data.query(\"cluster == 2\")\n",
    "print(\"Jumlah Produk:\")\n",
    "print(c2['KodeBarang'].size)\n",
    "c3 = data.query(\"cluster == 3\")\n",
    "print(\"Jumlah Produk:\")\n",
    "print(c3['KodeBarang'].size)"
   ]
  },
  {
   "cell_type": "code",
   "execution_count": 10,
   "metadata": {},
   "outputs": [
    {
     "name": "stdout",
     "output_type": "stream",
     "text": [
      "Jumlah Produk:\n",
      "70\n",
      "Jumlah Produk:\n",
      "31\n",
      "Jumlah Produk:\n",
      "4\n",
      "Jumlah Produk:\n",
      "1\n"
     ]
    }
   ],
   "source": [
    "c0_t = data_test.query(\"cluster == 0\")\n",
    "print(\"Jumlah Produk:\")\n",
    "print(c0['KodeBarang'].size)\n",
    "c1_t = data_test.query(\"cluster == 1\")\n",
    "print(\"Jumlah Produk:\")\n",
    "print(c1['KodeBarang'].size)\n",
    "c2_t = data_test.query(\"cluster == 2\")\n",
    "print(\"Jumlah Produk:\")\n",
    "print(c2['KodeBarang'].size)\n",
    "c3_t = data_test.query(\"cluster == 3\")\n",
    "print(\"Jumlah Produk:\")\n",
    "print(c3['KodeBarang'].size)"
   ]
  },
  {
   "cell_type": "markdown",
   "metadata": {},
   "source": [
    "## Pembuatan model cluster 3"
   ]
  },
  {
   "cell_type": "markdown",
   "metadata": {},
   "source": [
    "Buat fungsi bikin `windowed dataset` jadi si data di couple in sama waktu (timeframe)"
   ]
  },
  {
   "cell_type": "code",
   "execution_count": 11,
   "metadata": {},
   "outputs": [],
   "source": [
    "#oke ada ternyata yang cuman sendirian (1 product di cluster tersebut), kita beresin dia dulu, the easiest, dan biar keliatan kita\n",
    "#ngapain aja di time series ini\n",
    "def windowed_dataset(series, window_size, batch_size, shuffle_buffer):\n",
    "    series = tf.expand_dims(series, axis=-1)\n",
    "    ds = tf.data.Dataset.from_tensor_slices(series)\n",
    "    ds = ds.window(window_size + 1, shift=1, drop_remainder=True)\n",
    "    ds = ds.flat_map(lambda w: w.batch(window_size + 1))\n",
    "    ds = ds.shuffle(shuffle_buffer)\n",
    "    ds = ds.map(lambda w: (w[:-1], w[1:]))\n",
    "    return ds.batch(batch_size).prefetch(1)\n",
    "# ini fungsinya buat nge ubah dataset jadi windowed"
   ]
  },
  {
   "cell_type": "code",
   "execution_count": 12,
   "metadata": {},
   "outputs": [],
   "source": [
    "#next kita ubah bentuk data nya dari yang tadinya kesamping jadi ke bawah, tapi pertama mau aku drop dulu cluster sama kode produknya\n",
    "c3=c3.drop(columns=['KodeBarang','cluster'])\n",
    "c3_t = c3_t.drop(columns=['KodeBarang','cluster'])"
   ]
  },
  {
   "cell_type": "markdown",
   "metadata": {},
   "source": [
    "Plot per produk cluster 3"
   ]
  },
  {
   "cell_type": "code",
   "execution_count": 13,
   "metadata": {},
   "outputs": [
    {
     "data": {
      "text/plain": [
       "<AxesSubplot:>"
      ]
     },
     "execution_count": 13,
     "metadata": {},
     "output_type": "execute_result"
    },
    {
     "data": {
      "image/png": "[encoded data removed]",
      "text/plain": [
       "<Figure size 432x288 with 1 Axes>"
      ]
     },
     "metadata": {
      "needs_background": "light"
     },
     "output_type": "display_data"
    }
   ],
   "source": [
    "c3.T.plot()"
   ]
  },
  {
   "cell_type": "code",
   "execution_count": 14,
   "metadata": {},
   "outputs": [
    {
     "name": "stdout",
     "output_type": "stream",
     "text": [
      "[0, 1, 2, 3, 4, 5, 6, 7, 8, 9, 10, 11, 12, 13, 14, 15, 16, 17, 18, 19, 20, 21, 22, 23, 24, 25, 26, 27, 28, 29, 30, 31, 32, 33, 34, 35, 36, 37, 38, 39, 40, 41, 42, 43, 44, 45, 46, 47, 48, 49, 50, 51, 52, 53] [497, 725, 1233, 1145, 149, 422, 341, 893, 655, 1022, 851, 758, 933, 1928, 912, 1106, 452, 151, 18079, 714, 617, 843, 436, 769, 1264, 1049, 1317, 962, 1008, 394, 659, 1046, 213, 0, 0, 2, 0, 0, 0, 0, 0, 0, 0, 0, 0, 0, -5, 0, 0, -5, 0, 0, 0, 0]\n"
     ]
    }
   ],
   "source": [
    "#next, buat dia kayak mejeneng time series seperti biasanya, which is datanya ke bawah, \n",
    "new_c3=[]\n",
    "time=[]\n",
    "for idx,_ in enumerate(c3):\n",
    "    new_c3.append(c3.iloc[0,idx])\n",
    "    time.append(idx)\n",
    "print(time,new_c3)"
   ]
  },
  {
   "cell_type": "code",
   "execution_count": 15,
   "metadata": {},
   "outputs": [],
   "source": [
    "#sama aja cuman data test\n",
    "new_c3_t=[]\n",
    "time_t=[]\n",
    "i = 55\n",
    "for idx,a in enumerate(c3_t):\n",
    "    new_c3_t.append(c3_t[a].mean())\n",
    "    time_t.append(i)\n",
    "    i+=1"
   ]
  },
  {
   "cell_type": "code",
   "execution_count": 16,
   "metadata": {},
   "outputs": [
    {
     "data": {
      "text/plain": [
       "[0.0, 0.0, 0.0, 0.0, 0.0, 0.0]"
      ]
     },
     "execution_count": 16,
     "metadata": {},
     "output_type": "execute_result"
    }
   ],
   "source": [
    "new_c3_t"
   ]
  },
  {
   "cell_type": "code",
   "execution_count": 17,
   "metadata": {},
   "outputs": [],
   "source": [
    "#normalisasi, karena gap nya ada yang sampe ribuan, biar lebih gampang tugas ann nya\n",
    "series=new_c3\n",
    "min = np.min(series)\n",
    "max = np.max(series)\n",
    "series = series - min\n",
    "series = series / (max-min)\n",
    "\n",
    "# scaler = MinMaxScaler(feature_range=(0, 1))\n",
    "# series = scaler.fit_transform(series)\n",
    "\n",
    "time = np.array(time)"
   ]
  },
  {
   "cell_type": "code",
   "execution_count": 18,
   "metadata": {},
   "outputs": [],
   "source": [
    "# Karena data test tidak ada gap nya, maka kita tidak perlu normalisasi\n",
    "series_t=new_c3_t\n",
    "\n",
    "time_t = np.array(time_t)"
   ]
  },
  {
   "cell_type": "code",
   "execution_count": 19,
   "metadata": {},
   "outputs": [
    {
     "data": {
      "text/plain": [
       "[0.0, 0.0, 0.0, 0.0, 0.0, 0.0]"
      ]
     },
     "execution_count": 19,
     "metadata": {},
     "output_type": "execute_result"
    }
   ],
   "source": [
    "series_t"
   ]
  },
  {
   "cell_type": "code",
   "execution_count": 20,
   "metadata": {},
   "outputs": [],
   "source": [
    "split_time = 3 # ini berapa bulan terkahir yang mau di potong buat pengujian?\n",
    "\n",
    "time_train = time\n",
    "x_train =  series\n",
    "time_valid =  time_t\n",
    "x_valid =  series_t"
   ]
  },
  {
   "cell_type": "code",
   "execution_count": 21,
   "metadata": {},
   "outputs": [
    {
     "data": {
      "text/plain": [
       "[0.0, 0.0, 0.0, 0.0, 0.0, 0.0]"
      ]
     },
     "execution_count": 21,
     "metadata": {},
     "output_type": "execute_result"
    }
   ],
   "source": [
    "x_valid"
   ]
  },
  {
   "cell_type": "code",
   "execution_count": 22,
   "metadata": {},
   "outputs": [],
   "source": [
    "#buat data biar dibagi per window, jadi me masang masangkan waktu dan value,\n",
    "window_size = 2\n",
    "batch_size = 8\n",
    "shuffle_buffer_size = 10\n",
    "\n",
    "train_set = windowed_dataset(x_train, window_size, batch_size, shuffle_buffer_size)\n",
    "valid_set = windowed_dataset(x_valid, window_size, batch_size, shuffle_buffer_size)"
   ]
  },
  {
   "cell_type": "code",
   "execution_count": 23,
   "metadata": {},
   "outputs": [
    {
     "data": {
      "text/plain": [
       "<PrefetchDataset shapes: ((None, None, 1), (None, None, 1)), types: (tf.float64, tf.float64)>"
      ]
     },
     "execution_count": 23,
     "metadata": {},
     "output_type": "execute_result"
    }
   ],
   "source": [
    "train_set"
   ]
  },
  {
   "cell_type": "code",
   "execution_count": 24,
   "metadata": {},
   "outputs": [
    {
     "data": {
      "text/plain": [
       "<PrefetchDataset shapes: ((None, None, 1), (None, None, 1)), types: (tf.float32, tf.float32)>"
      ]
     },
     "execution_count": 24,
     "metadata": {},
     "output_type": "execute_result"
    }
   ],
   "source": [
    "valid_set"
   ]
  },
  {
   "cell_type": "markdown",
   "metadata": {},
   "source": [
    "Penyusunan deep learning nya\n",
    "\n",
    "Kita Menggunakan BLSTM atau *Bidirectional Long Short Term Memory*. BLSTM adalah proses pembuatan jaringan syaraf tiruan untuk memiliki urutan informasi dalam kedua arah mundur (masa depan ke masa lalu) atau maju (masa lalu ke masa depan).\n",
    "\n",
    "kalo ini pake BLSTM dengan input layer sebanyak 2 neuron, BLSTM layer ada dua, yang pertama ada 64 neuron, terus yang kedua ada 32 neuron, dibuat mengkerucut (segitiga terbalik) seolah kita menyederhanakan data datanya, jadi kan makin dalem makin sedikit tuh, karena ada yang ga kepake kepake buat menentukan sales nya dan lain lain, \n",
    "\n",
    "terus setiap selesai masuk BLSTM layer, ada dropout, itu tuh untuk mengeliminasi secara random (di case ini 50%) sambungan antara neuron, dan nge \"matiin\" neuronnya itu juga, mensimulasi degradasi neuron dan sambungannya saat kita tidur, alias proses mengubah ingatan jadi jangka menengah ke panjang dari apa yang kita dapatkan pada hari itu. "
   ]
  },
  {
   "cell_type": "code",
   "execution_count": 212,
   "metadata": {},
   "outputs": [],
   "source": [
    "model = tf.keras.Sequential([\n",
    "        tf.keras.layers.Dense(2, input_shape=[None, 1]),\n",
    "        tf.keras.layers.Bidirectional(tf.keras.layers.LSTM(128,return_sequences=True)),\n",
    "        # tf.keras.layers.Dropout(0.5),\n",
    "        # tf.keras.layers.Bidirectional(tf.keras.layers.LSTM(64)),\n",
    "        \n",
    "        # tf.keras.layers.Flatten(),\n",
    "        # tf.keras.layers.Dense(16, activation='relu'),\n",
    "        # tf.keras.layers.Dropout(0.3),\n",
    "        # tf.keras.layers.Dense(8, activation='relu',kernel_regularizer=tf.keras.regularizers.l1(l1=0.01)),\n",
    "        # tf.keras.layers.Dropout(0.3),\n",
    "        # tf.keras.layers.Dense(8, activation='relu',kernel_regularizer=tf.keras.regularizers.l1_l2(l1=0.01, l2=0.01)),\n",
    "        # tf.keras.layers.Dense(32, activation='relu'),\n",
    "        # tf.keras.layers.Dense(16, activation='relu'),\n",
    "        # tf.keras.layers.Dense(8, activation='relu'),\n",
    "        # tf.keras.layers.Dropout(0.3),\n",
    "        tf.keras.layers.Dense(1)\n",
    "    ])\n",
    "\n",
    "    #the blstm part"
   ]
  },
  {
   "cell_type": "code",
   "execution_count": 213,
   "metadata": {},
   "outputs": [
    {
     "name": "stdout",
     "output_type": "stream",
     "text": [
      "Model: \"sequential_19\"\n",
      "_________________________________________________________________\n",
      "Layer (type)                 Output Shape              Param #   \n",
      "=================================================================\n",
      "dense_64 (Dense)             (None, None, 2)           4         \n",
      "_________________________________________________________________\n",
      "bidirectional_31 (Bidirectio (None, None, 256)         134144    \n",
      "_________________________________________________________________\n",
      "dense_65 (Dense)             (None, None, 1)           257       \n",
      "=================================================================\n",
      "Total params: 134,405\n",
      "Trainable params: 134,405\n",
      "Non-trainable params: 0\n",
      "_________________________________________________________________\n",
      "Epoch 1/150\n",
      "7/7 [==============================] - 8s 276ms/step - loss: 0.0201 - mae: 0.0498 - val_loss: 0.0012 - val_mae: 0.0346\n",
      "Epoch 2/150\n",
      "7/7 [==============================] - 0s 11ms/step - loss: 0.0185 - mae: 0.0479 - val_loss: 0.0022 - val_mae: 0.0464\n",
      "Epoch 3/150\n",
      "7/7 [==============================] - 0s 10ms/step - loss: 0.0179 - mae: 0.0473 - val_loss: 0.0019 - val_mae: 0.0435\n",
      "Epoch 4/150\n",
      "7/7 [==============================] - 0s 10ms/step - loss: 0.0173 - mae: 0.0435 - val_loss: 0.0013 - val_mae: 0.0358\n",
      "Epoch 5/150\n",
      "7/7 [==============================] - 0s 9ms/step - loss: 0.0170 - mae: 0.0420 - val_loss: 0.0011 - val_mae: 0.0336\n",
      "Epoch 6/150\n",
      "7/7 [==============================] - 0s 9ms/step - loss: 0.0168 - mae: 0.0425 - val_loss: 0.0013 - val_mae: 0.0364\n",
      "Epoch 7/150\n",
      "7/7 [==============================] - 0s 9ms/step - loss: 0.0164 - mae: 0.0431 - val_loss: 0.0015 - val_mae: 0.0385\n",
      "Epoch 8/150\n",
      "7/7 [==============================] - 0s 10ms/step - loss: 0.0159 - mae: 0.0425 - val_loss: 0.0014 - val_mae: 0.0374\n",
      "Epoch 9/150\n",
      "7/7 [==============================] - 0s 10ms/step - loss: 0.0154 - mae: 0.0415 - val_loss: 0.0012 - val_mae: 0.0352\n",
      "Epoch 10/150\n",
      "7/7 [==============================] - 0s 9ms/step - loss: 0.0148 - mae: 0.0401 - val_loss: 0.0011 - val_mae: 0.0328\n",
      "Epoch 11/150\n",
      "7/7 [==============================] - 0s 9ms/step - loss: 0.0142 - mae: 0.0387 - val_loss: 9.5829e-04 - val_mae: 0.0308\n",
      "Epoch 12/150\n",
      "7/7 [==============================] - 0s 9ms/step - loss: 0.0136 - mae: 0.0373 - val_loss: 8.9338e-04 - val_mae: 0.0297\n",
      "Epoch 13/150\n",
      "7/7 [==============================] - 0s 9ms/step - loss: 0.0129 - mae: 0.0375 - val_loss: 0.0010 - val_mae: 0.0313\n",
      "Epoch 14/150\n",
      "7/7 [==============================] - 0s 9ms/step - loss: 0.0120 - mae: 0.0356 - val_loss: 8.8121e-04 - val_mae: 0.0288\n",
      "Epoch 15/150\n",
      "7/7 [==============================] - 0s 9ms/step - loss: 0.0115 - mae: 0.0341 - val_loss: 8.2191e-04 - val_mae: 0.0271\n",
      "Epoch 16/150\n",
      "7/7 [==============================] - 0s 9ms/step - loss: 0.0108 - mae: 0.0323 - val_loss: 7.6870e-04 - val_mae: 0.0252\n",
      "Epoch 17/150\n",
      "7/7 [==============================] - 0s 9ms/step - loss: 0.0101 - mae: 0.0294 - val_loss: 6.9330e-04 - val_mae: 0.0219\n",
      "Epoch 18/150\n",
      "7/7 [==============================] - 0s 9ms/step - loss: 0.0098 - mae: 0.0283 - val_loss: 7.3225e-04 - val_mae: 0.0221\n",
      "Epoch 19/150\n",
      "7/7 [==============================] - 0s 9ms/step - loss: 0.0095 - mae: 0.0262 - val_loss: 7.0372e-04 - val_mae: 0.0205\n",
      "Epoch 20/150\n",
      "7/7 [==============================] - 0s 10ms/step - loss: 0.0094 - mae: 0.0251 - val_loss: 7.4797e-04 - val_mae: 0.0204\n",
      "Epoch 21/150\n",
      "7/7 [==============================] - 0s 11ms/step - loss: 0.0094 - mae: 0.0243 - val_loss: 7.7238e-04 - val_mae: 0.0197\n",
      "Epoch 22/150\n",
      "7/7 [==============================] - 0s 11ms/step - loss: 0.0094 - mae: 0.0245 - val_loss: 7.7493e-04 - val_mae: 0.0198\n",
      "Epoch 23/150\n",
      "7/7 [==============================] - 0s 11ms/step - loss: 0.0094 - mae: 0.0248 - val_loss: 8.1358e-04 - val_mae: 0.0214\n",
      "Epoch 24/150\n",
      "7/7 [==============================] - 0s 11ms/step - loss: 0.0093 - mae: 0.0240 - val_loss: 7.8381e-04 - val_mae: 0.0207\n",
      "Epoch 25/150\n",
      "7/7 [==============================] - 0s 11ms/step - loss: 0.0094 - mae: 0.0249 - val_loss: 8.6882e-04 - val_mae: 0.0222\n",
      "Epoch 26/150\n",
      "7/7 [==============================] - 0s 10ms/step - loss: 0.0094 - mae: 0.0245 - val_loss: 8.3100e-04 - val_mae: 0.0208\n",
      "Epoch 27/150\n",
      "7/7 [==============================] - 0s 10ms/step - loss: 0.0094 - mae: 0.0247 - val_loss: 8.0110e-04 - val_mae: 0.0208\n",
      "Epoch 28/150\n",
      "7/7 [==============================] - 0s 10ms/step - loss: 0.0094 - mae: 0.0248 - val_loss: 8.2370e-04 - val_mae: 0.0218\n",
      "Epoch 29/150\n",
      "7/7 [==============================] - 0s 11ms/step - loss: 0.0094 - mae: 0.0242 - val_loss: 7.7152e-04 - val_mae: 0.0204\n",
      "Epoch 30/150\n",
      "7/7 [==============================] - 0s 10ms/step - loss: 0.0094 - mae: 0.0244 - val_loss: 7.8988e-04 - val_mae: 0.0205\n",
      "Epoch 31/150\n",
      "7/7 [==============================] - 0s 10ms/step - loss: 0.0094 - mae: 0.0245 - val_loss: 7.9537e-04 - val_mae: 0.0206\n",
      "Epoch 32/150\n",
      "7/7 [==============================] - 0s 10ms/step - loss: 0.0094 - mae: 0.0247 - val_loss: 8.1619e-04 - val_mae: 0.0209\n",
      "Epoch 33/150\n",
      "7/7 [==============================] - 0s 11ms/step - loss: 0.0094 - mae: 0.0244 - val_loss: 7.9615e-04 - val_mae: 0.0207\n",
      "Epoch 34/150\n",
      "7/7 [==============================] - 0s 11ms/step - loss: 0.0093 - mae: 0.0239 - val_loss: 7.6774e-04 - val_mae: 0.0207\n",
      "Epoch 35/150\n",
      "7/7 [==============================] - 0s 10ms/step - loss: 0.0094 - mae: 0.0249 - val_loss: 8.4802e-04 - val_mae: 0.0225\n",
      "Epoch 36/150\n",
      "7/7 [==============================] - 0s 10ms/step - loss: 0.0094 - mae: 0.0244 - val_loss: 8.1904e-04 - val_mae: 0.0207\n",
      "Epoch 37/150\n",
      "7/7 [==============================] - 0s 10ms/step - loss: 0.0094 - mae: 0.0245 - val_loss: 8.2774e-04 - val_mae: 0.0208\n",
      "Epoch 38/150\n",
      "7/7 [==============================] - 0s 9ms/step - loss: 0.0094 - mae: 0.0246 - val_loss: 8.2173e-04 - val_mae: 0.0213\n",
      "Epoch 39/150\n",
      "7/7 [==============================] - 0s 9ms/step - loss: 0.0094 - mae: 0.0248 - val_loss: 8.3323e-04 - val_mae: 0.0216\n",
      "Epoch 40/150\n",
      "7/7 [==============================] - 0s 10ms/step - loss: 0.0093 - mae: 0.0239 - val_loss: 7.6516e-04 - val_mae: 0.0199\n",
      "Epoch 41/150\n",
      "7/7 [==============================] - 0s 10ms/step - loss: 0.0094 - mae: 0.0247 - val_loss: 8.2148e-04 - val_mae: 0.0213\n",
      "Epoch 42/150\n",
      "7/7 [==============================] - 0s 10ms/step - loss: 0.0093 - mae: 0.0241 - val_loss: 7.7264e-04 - val_mae: 0.0198\n",
      "Epoch 43/150\n",
      "7/7 [==============================] - 0s 9ms/step - loss: 0.0094 - mae: 0.0245 - val_loss: 8.0540e-04 - val_mae: 0.0207\n",
      "Epoch 44/150\n",
      "7/7 [==============================] - 0s 10ms/step - loss: 0.0093 - mae: 0.0241 - val_loss: 7.7072e-04 - val_mae: 0.0200\n",
      "Epoch 45/150\n",
      "7/7 [==============================] - 0s 10ms/step - loss: 0.0093 - mae: 0.0237 - val_loss: 7.4049e-04 - val_mae: 0.0202\n",
      "Epoch 46/150\n",
      "7/7 [==============================] - 0s 10ms/step - loss: 0.0094 - mae: 0.0254 - val_loss: 8.6365e-04 - val_mae: 0.0226\n",
      "Epoch 47/150\n",
      "7/7 [==============================] - 0s 10ms/step - loss: 0.0093 - mae: 0.0240 - val_loss: 8.1008e-04 - val_mae: 0.0207\n",
      "Epoch 48/150\n",
      "7/7 [==============================] - 0s 9ms/step - loss: 0.0094 - mae: 0.0246 - val_loss: 8.2191e-04 - val_mae: 0.0206\n",
      "Epoch 49/150\n",
      "7/7 [==============================] - 0s 11ms/step - loss: 0.0093 - mae: 0.0242 - val_loss: 7.9902e-04 - val_mae: 0.0212\n",
      "Epoch 50/150\n",
      "7/7 [==============================] - 0s 12ms/step - loss: 0.0094 - mae: 0.0249 - val_loss: 8.3586e-04 - val_mae: 0.0214\n",
      "Epoch 51/150\n",
      "7/7 [==============================] - 0s 11ms/step - loss: 0.0093 - mae: 0.0240 - val_loss: 7.7023e-04 - val_mae: 0.0202\n",
      "Epoch 52/150\n",
      "7/7 [==============================] - 0s 13ms/step - loss: 0.0094 - mae: 0.0246 - val_loss: 7.7461e-04 - val_mae: 0.0203\n",
      "Epoch 53/150\n",
      "7/7 [==============================] - 0s 13ms/step - loss: 0.0094 - mae: 0.0243 - val_loss: 7.7446e-04 - val_mae: 0.0207\n",
      "Epoch 54/150\n",
      "7/7 [==============================] - 0s 11ms/step - loss: 0.0094 - mae: 0.0241 - val_loss: 7.6013e-04 - val_mae: 0.0200\n",
      "Epoch 55/150\n",
      "7/7 [==============================] - 0s 10ms/step - loss: 0.0094 - mae: 0.0240 - val_loss: 7.5491e-04 - val_mae: 0.0197\n",
      "Epoch 56/150\n",
      "7/7 [==============================] - 0s 10ms/step - loss: 0.0094 - mae: 0.0242 - val_loss: 7.7494e-04 - val_mae: 0.0205\n",
      "Epoch 57/150\n",
      "7/7 [==============================] - 0s 9ms/step - loss: 0.0094 - mae: 0.0239 - val_loss: 7.5598e-04 - val_mae: 0.0201\n",
      "Epoch 58/150\n",
      "7/7 [==============================] - 0s 10ms/step - loss: 0.0094 - mae: 0.0242 - val_loss: 7.8301e-04 - val_mae: 0.0207\n",
      "Epoch 59/150\n",
      "7/7 [==============================] - 0s 10ms/step - loss: 0.0093 - mae: 0.0240 - val_loss: 7.7979e-04 - val_mae: 0.0199\n",
      "Epoch 60/150\n",
      "7/7 [==============================] - 0s 10ms/step - loss: 0.0093 - mae: 0.0241 - val_loss: 7.5533e-04 - val_mae: 0.0196\n",
      "Epoch 61/150\n",
      "7/7 [==============================] - 0s 10ms/step - loss: 0.0094 - mae: 0.0245 - val_loss: 8.0256e-04 - val_mae: 0.0209\n",
      "Epoch 62/150\n",
      "7/7 [==============================] - 0s 13ms/step - loss: 0.0093 - mae: 0.0233 - val_loss: 7.0818e-04 - val_mae: 0.0188\n",
      "Epoch 63/150\n",
      "7/7 [==============================] - 0s 9ms/step - loss: 0.0094 - mae: 0.0243 - val_loss: 7.7863e-04 - val_mae: 0.0216\n",
      "Epoch 64/150\n",
      "7/7 [==============================] - 0s 11ms/step - loss: 0.0094 - mae: 0.0249 - val_loss: 8.1454e-04 - val_mae: 0.0211\n",
      "Epoch 65/150\n",
      "7/7 [==============================] - 0s 12ms/step - loss: 0.0093 - mae: 0.0240 - val_loss: 8.0234e-04 - val_mae: 0.0213\n",
      "Epoch 66/150\n",
      "7/7 [==============================] - 0s 11ms/step - loss: 0.0094 - mae: 0.0245 - val_loss: 7.8914e-04 - val_mae: 0.0199\n",
      "Epoch 67/150\n",
      "7/7 [==============================] - 0s 10ms/step - loss: 0.0094 - mae: 0.0246 - val_loss: 8.2155e-04 - val_mae: 0.0217\n",
      "Epoch 68/150\n",
      "7/7 [==============================] - 0s 10ms/step - loss: 0.0093 - mae: 0.0237 - val_loss: 7.5332e-04 - val_mae: 0.0195\n",
      "Epoch 69/150\n",
      "7/7 [==============================] - 0s 9ms/step - loss: 0.0094 - mae: 0.0239 - val_loss: 7.4046e-04 - val_mae: 0.0196\n",
      "Epoch 70/150\n",
      "7/7 [==============================] - 0s 10ms/step - loss: 0.0093 - mae: 0.0237 - val_loss: 7.4094e-04 - val_mae: 0.0206\n",
      "Epoch 71/150\n",
      "7/7 [==============================] - 0s 13ms/step - loss: 0.0094 - mae: 0.0247 - val_loss: 7.9897e-04 - val_mae: 0.0212\n",
      "Epoch 72/150\n",
      "7/7 [==============================] - 0s 12ms/step - loss: 0.0093 - mae: 0.0235 - val_loss: 7.6696e-04 - val_mae: 0.0202\n",
      "Epoch 73/150\n",
      "7/7 [==============================] - 0s 11ms/step - loss: 0.0094 - mae: 0.0243 - val_loss: 8.0628e-04 - val_mae: 0.0205\n",
      "Epoch 74/150\n",
      "7/7 [==============================] - 0s 10ms/step - loss: 0.0093 - mae: 0.0239 - val_loss: 8.0454e-04 - val_mae: 0.0207\n",
      "Epoch 75/150\n",
      "7/7 [==============================] - 0s 10ms/step - loss: 0.0093 - mae: 0.0232 - val_loss: 7.4257e-04 - val_mae: 0.0195\n",
      "Epoch 76/150\n",
      "7/7 [==============================] - 0s 9ms/step - loss: 0.0094 - mae: 0.0246 - val_loss: 8.2004e-04 - val_mae: 0.0216\n",
      "Epoch 77/150\n",
      "7/7 [==============================] - 0s 13ms/step - loss: 0.0093 - mae: 0.0237 - val_loss: 7.7327e-04 - val_mae: 0.0202\n",
      "Epoch 78/150\n",
      "7/7 [==============================] - 0s 9ms/step - loss: 0.0093 - mae: 0.0238 - val_loss: 7.6852e-04 - val_mae: 0.0197\n",
      "Epoch 79/150\n",
      "7/7 [==============================] - 0s 9ms/step - loss: 0.0093 - mae: 0.0240 - val_loss: 7.7651e-04 - val_mae: 0.0205\n",
      "Epoch 80/150\n",
      "7/7 [==============================] - 0s 9ms/step - loss: 0.0093 - mae: 0.0238 - val_loss: 7.5080e-04 - val_mae: 0.0194\n",
      "Epoch 81/150\n",
      "7/7 [==============================] - 0s 10ms/step - loss: 0.0093 - mae: 0.0236 - val_loss: 7.4096e-04 - val_mae: 0.0194\n",
      "Epoch 82/150\n",
      "7/7 [==============================] - 0s 10ms/step - loss: 0.0094 - mae: 0.0241 - val_loss: 7.7667e-04 - val_mae: 0.0205\n",
      "Epoch 83/150\n",
      "7/7 [==============================] - 0s 18ms/step - loss: 0.0093 - mae: 0.0237 - val_loss: 7.6964e-04 - val_mae: 0.0198\n",
      "Epoch 84/150\n",
      "7/7 [==============================] - 0s 13ms/step - loss: 0.0093 - mae: 0.0237 - val_loss: 7.7210e-04 - val_mae: 0.0197\n",
      "Epoch 85/150\n",
      "7/7 [==============================] - 0s 12ms/step - loss: 0.0094 - mae: 0.0239 - val_loss: 7.7036e-04 - val_mae: 0.0197\n",
      "Epoch 86/150\n",
      "7/7 [==============================] - 0s 12ms/step - loss: 0.0093 - mae: 0.0235 - val_loss: 7.2388e-04 - val_mae: 0.0193\n",
      "Epoch 87/150\n",
      "7/7 [==============================] - 0s 11ms/step - loss: 0.0094 - mae: 0.0240 - val_loss: 7.6110e-04 - val_mae: 0.0204\n",
      "Epoch 88/150\n",
      "7/7 [==============================] - 0s 10ms/step - loss: 0.0093 - mae: 0.0234 - val_loss: 7.3507e-04 - val_mae: 0.0196\n",
      "Epoch 89/150\n",
      "7/7 [==============================] - 0s 9ms/step - loss: 0.0094 - mae: 0.0239 - val_loss: 7.8845e-04 - val_mae: 0.0203\n",
      "Epoch 90/150\n",
      "7/7 [==============================] - 0s 14ms/step - loss: 0.0093 - mae: 0.0237 - val_loss: 7.8670e-04 - val_mae: 0.0199\n",
      "Epoch 91/150\n",
      "7/7 [==============================] - 0s 12ms/step - loss: 0.0093 - mae: 0.0237 - val_loss: 7.6305e-04 - val_mae: 0.0197\n",
      "Epoch 92/150\n",
      "7/7 [==============================] - 0s 10ms/step - loss: 0.0093 - mae: 0.0237 - val_loss: 7.6162e-04 - val_mae: 0.0198\n",
      "Epoch 93/150\n",
      "7/7 [==============================] - 0s 17ms/step - loss: 0.0093 - mae: 0.0237 - val_loss: 7.6418e-04 - val_mae: 0.0196\n",
      "Epoch 94/150\n",
      "7/7 [==============================] - 0s 21ms/step - loss: 0.0093 - mae: 0.0235 - val_loss: 7.4246e-04 - val_mae: 0.0197\n",
      "Epoch 95/150\n",
      "7/7 [==============================] - 0s 11ms/step - loss: 0.0093 - mae: 0.0232 - val_loss: 7.3670e-04 - val_mae: 0.0200\n",
      "Epoch 96/150\n",
      "7/7 [==============================] - 0s 11ms/step - loss: 0.0093 - mae: 0.0238 - val_loss: 7.6430e-04 - val_mae: 0.0203\n",
      "Epoch 97/150\n",
      "7/7 [==============================] - 0s 16ms/step - loss: 0.0093 - mae: 0.0234 - val_loss: 7.7101e-04 - val_mae: 0.0199\n",
      "Epoch 98/150\n",
      "7/7 [==============================] - 0s 19ms/step - loss: 0.0093 - mae: 0.0234 - val_loss: 7.3610e-04 - val_mae: 0.0192\n",
      "Epoch 99/150\n",
      "7/7 [==============================] - 0s 10ms/step - loss: 0.0094 - mae: 0.0244 - val_loss: 8.0520e-04 - val_mae: 0.0212\n",
      "Epoch 100/150\n",
      "7/7 [==============================] - 0s 14ms/step - loss: 0.0093 - mae: 0.0235 - val_loss: 7.5662e-04 - val_mae: 0.0209\n",
      "Epoch 101/150\n",
      "7/7 [==============================] - 0s 18ms/step - loss: 0.0093 - mae: 0.0243 - val_loss: 7.2042e-04 - val_mae: 0.0192\n",
      "Epoch 102/150\n",
      "7/7 [==============================] - 0s 15ms/step - loss: 0.0094 - mae: 0.0246 - val_loss: 7.7145e-04 - val_mae: 0.0211\n",
      "Epoch 103/150\n",
      "7/7 [==============================] - 0s 11ms/step - loss: 0.0093 - mae: 0.0227 - val_loss: 6.8810e-04 - val_mae: 0.0192\n",
      "Epoch 104/150\n",
      "7/7 [==============================] - 0s 14ms/step - loss: 0.0094 - mae: 0.0236 - val_loss: 7.4235e-04 - val_mae: 0.0198\n",
      "Epoch 105/150\n",
      "7/7 [==============================] - 0s 10ms/step - loss: 0.0093 - mae: 0.0235 - val_loss: 7.3901e-04 - val_mae: 0.0194\n",
      "Epoch 106/150\n",
      "7/7 [==============================] - 0s 11ms/step - loss: 0.0093 - mae: 0.0234 - val_loss: 7.4338e-04 - val_mae: 0.0197\n",
      "Epoch 107/150\n",
      "7/7 [==============================] - 0s 10ms/step - loss: 0.0093 - mae: 0.0230 - val_loss: 6.9198e-04 - val_mae: 0.0187\n",
      "Epoch 108/150\n",
      "7/7 [==============================] - 0s 10ms/step - loss: 0.0094 - mae: 0.0247 - val_loss: 8.0727e-04 - val_mae: 0.0218\n",
      "Epoch 109/150\n",
      "7/7 [==============================] - 0s 13ms/step - loss: 0.0093 - mae: 0.0228 - val_loss: 7.3560e-04 - val_mae: 0.0203\n",
      "Epoch 110/150\n",
      "7/7 [==============================] - 0s 15ms/step - loss: 0.0093 - mae: 0.0236 - val_loss: 7.8153e-04 - val_mae: 0.0199\n",
      "Epoch 111/150\n",
      "7/7 [==============================] - 0s 11ms/step - loss: 0.0093 - mae: 0.0235 - val_loss: 7.5987e-04 - val_mae: 0.0197\n",
      "Epoch 112/150\n",
      "7/7 [==============================] - 0s 21ms/step - loss: 0.0093 - mae: 0.0231 - val_loss: 7.3386e-04 - val_mae: 0.0197\n",
      "Epoch 113/150\n",
      "7/7 [==============================] - 0s 19ms/step - loss: 0.0093 - mae: 0.0232 - val_loss: 7.1766e-04 - val_mae: 0.0190\n",
      "Epoch 114/150\n",
      "7/7 [==============================] - 0s 10ms/step - loss: 0.0093 - mae: 0.0237 - val_loss: 7.3546e-04 - val_mae: 0.0194\n",
      "Epoch 115/150\n",
      "7/7 [==============================] - 0s 10ms/step - loss: 0.0093 - mae: 0.0232 - val_loss: 6.7883e-04 - val_mae: 0.0187\n",
      "Epoch 116/150\n",
      "7/7 [==============================] - 0s 10ms/step - loss: 0.0093 - mae: 0.0238 - val_loss: 7.7115e-04 - val_mae: 0.0214\n",
      "Epoch 117/150\n",
      "7/7 [==============================] - 0s 10ms/step - loss: 0.0093 - mae: 0.0236 - val_loss: 7.4904e-04 - val_mae: 0.0201\n",
      "Epoch 118/150\n",
      "7/7 [==============================] - 0s 10ms/step - loss: 0.0093 - mae: 0.0233 - val_loss: 7.5898e-04 - val_mae: 0.0205\n",
      "Epoch 119/150\n",
      "7/7 [==============================] - 0s 9ms/step - loss: 0.0093 - mae: 0.0233 - val_loss: 7.1915e-04 - val_mae: 0.0193\n",
      "Epoch 120/150\n",
      "7/7 [==============================] - 0s 10ms/step - loss: 0.0094 - mae: 0.0244 - val_loss: 7.8035e-04 - val_mae: 0.0209\n",
      "Epoch 121/150\n",
      "7/7 [==============================] - 0s 10ms/step - loss: 0.0093 - mae: 0.0227 - val_loss: 7.1516e-04 - val_mae: 0.0204\n",
      "Epoch 122/150\n",
      "7/7 [==============================] - 0s 10ms/step - loss: 0.0093 - mae: 0.0236 - val_loss: 7.1801e-04 - val_mae: 0.0190\n",
      "Epoch 123/150\n",
      "7/7 [==============================] - 0s 10ms/step - loss: 0.0093 - mae: 0.0227 - val_loss: 6.9768e-04 - val_mae: 0.0195\n",
      "Epoch 124/150\n",
      "7/7 [==============================] - 0s 9ms/step - loss: 0.0093 - mae: 0.0225 - val_loss: 6.7509e-04 - val_mae: 0.0185\n",
      "Epoch 125/150\n",
      "7/7 [==============================] - 0s 9ms/step - loss: 0.0093 - mae: 0.0226 - val_loss: 6.9831e-04 - val_mae: 0.0190\n",
      "Epoch 126/150\n",
      "7/7 [==============================] - 0s 10ms/step - loss: 0.0093 - mae: 0.0232 - val_loss: 7.5291e-04 - val_mae: 0.0201\n",
      "Epoch 127/150\n",
      "7/7 [==============================] - 0s 11ms/step - loss: 0.0093 - mae: 0.0229 - val_loss: 7.3855e-04 - val_mae: 0.0196\n",
      "Epoch 128/150\n",
      "7/7 [==============================] - 0s 10ms/step - loss: 0.0093 - mae: 0.0229 - val_loss: 7.4579e-04 - val_mae: 0.0198\n",
      "Epoch 129/150\n",
      "7/7 [==============================] - 0s 10ms/step - loss: 0.0093 - mae: 0.0229 - val_loss: 6.8925e-04 - val_mae: 0.0188\n",
      "Epoch 130/150\n",
      "7/7 [==============================] - 0s 10ms/step - loss: 0.0093 - mae: 0.0237 - val_loss: 7.3512e-04 - val_mae: 0.0199\n",
      "Epoch 131/150\n",
      "7/7 [==============================] - 0s 8ms/step - loss: 0.0093 - mae: 0.0229 - val_loss: 6.9607e-04 - val_mae: 0.0204\n",
      "Epoch 132/150\n",
      "7/7 [==============================] - 0s 11ms/step - loss: 0.0093 - mae: 0.0235 - val_loss: 6.8686e-04 - val_mae: 0.0192\n",
      "Epoch 133/150\n",
      "7/7 [==============================] - 0s 11ms/step - loss: 0.0093 - mae: 0.0229 - val_loss: 6.9030e-04 - val_mae: 0.0193\n",
      "Epoch 134/150\n",
      "7/7 [==============================] - 0s 11ms/step - loss: 0.0093 - mae: 0.0232 - val_loss: 6.7359e-04 - val_mae: 0.0189\n",
      "Epoch 135/150\n",
      "7/7 [==============================] - 0s 19ms/step - loss: 0.0093 - mae: 0.0226 - val_loss: 6.6783e-04 - val_mae: 0.0193\n",
      "Epoch 136/150\n",
      "7/7 [==============================] - 0s 11ms/step - loss: 0.0093 - mae: 0.0230 - val_loss: 6.8572e-04 - val_mae: 0.0186\n",
      "Epoch 137/150\n",
      "7/7 [==============================] - 0s 9ms/step - loss: 0.0093 - mae: 0.0233 - val_loss: 6.7984e-04 - val_mae: 0.0195\n",
      "Epoch 138/150\n",
      "7/7 [==============================] - 0s 9ms/step - loss: 0.0093 - mae: 0.0232 - val_loss: 6.2992e-04 - val_mae: 0.0187\n",
      "Epoch 139/150\n",
      "7/7 [==============================] - 0s 10ms/step - loss: 0.0093 - mae: 0.0234 - val_loss: 6.7789e-04 - val_mae: 0.0190\n",
      "Epoch 140/150\n",
      "7/7 [==============================] - 0s 11ms/step - loss: 0.0093 - mae: 0.0226 - val_loss: 6.6370e-04 - val_mae: 0.0192\n",
      "Epoch 141/150\n",
      "7/7 [==============================] - 0s 10ms/step - loss: 0.0093 - mae: 0.0227 - val_loss: 6.7123e-04 - val_mae: 0.0187\n",
      "Epoch 142/150\n",
      "7/7 [==============================] - 0s 9ms/step - loss: 0.0093 - mae: 0.0237 - val_loss: 7.0527e-04 - val_mae: 0.0192\n",
      "Epoch 143/150\n",
      "7/7 [==============================] - 0s 10ms/step - loss: 0.0093 - mae: 0.0230 - val_loss: 6.1916e-04 - val_mae: 0.0190\n",
      "Epoch 144/150\n",
      "7/7 [==============================] - 0s 10ms/step - loss: 0.0093 - mae: 0.0236 - val_loss: 7.0753e-04 - val_mae: 0.0200\n",
      "Epoch 145/150\n",
      "7/7 [==============================] - 0s 10ms/step - loss: 0.0093 - mae: 0.0229 - val_loss: 6.5937e-04 - val_mae: 0.0195\n",
      "Epoch 146/150\n",
      "7/7 [==============================] - 0s 10ms/step - loss: 0.0093 - mae: 0.0229 - val_loss: 6.4111e-04 - val_mae: 0.0192\n",
      "Epoch 147/150\n",
      "7/7 [==============================] - 0s 10ms/step - loss: 0.0093 - mae: 0.0224 - val_loss: 6.3185e-04 - val_mae: 0.0181\n",
      "Epoch 148/150\n",
      "7/7 [==============================] - 0s 10ms/step - loss: 0.0093 - mae: 0.0234 - val_loss: 6.5583e-04 - val_mae: 0.0182\n",
      "Epoch 149/150\n",
      "7/7 [==============================] - 0s 10ms/step - loss: 0.0093 - mae: 0.0229 - val_loss: 6.6623e-04 - val_mae: 0.0202\n",
      "Epoch 150/150\n",
      "7/7 [==============================] - 0s 10ms/step - loss: 0.0093 - mae: 0.0230 - val_loss: 6.7240e-04 - val_mae: 0.0199\n"
     ]
    }
   ],
   "source": [
    "#Using mae and mse\n",
    "#model.compile(optimizer=tf.keras.optimizers.SGD(learning_rate=0.001, momentum=0.9),metrics=['mae'],loss='mse')\n",
    "model.compile(optimizer=tf.keras.optimizers.Adam(),metrics=['mae'],loss='mse')\n",
    "model.summary()\n",
    "hist=model.fit(train_set,epochs=150,validation_data=valid_set, batch_size=8)"
   ]
  },
  {
   "cell_type": "code",
   "execution_count": 214,
   "metadata": {},
   "outputs": [
    {
     "data": {
      "image/png": "[encoded data removed]",
      "text/plain": [
       "<Figure size 432x288 with 1 Axes>"
      ]
     },
     "metadata": {
      "needs_background": "light"
     },
     "output_type": "display_data"
    }
   ],
   "source": [
    "import matplotlib.pyplot as plt\n",
    "\n",
    "plt.plot(hist.history['mae'], label='MAE (training data)')\n",
    "plt.plot(hist.history['val_mae'], label='MAE (validation data)')\n",
    "\n",
    "plt.title('MAE Cluster 3')\n",
    "plt.ylabel('MAE value')\n",
    "plt.xlabel('No. epoch')\n",
    "plt.legend(loc=\"upper left\")\n",
    "plt.show()\n",
    "#ini ada underfitting soalnya 5 data terakhir itu nol semua, gitu, "
   ]
  },
  {
   "cell_type": "code",
   "execution_count": 215,
   "metadata": {},
   "outputs": [
    {
     "data": {
      "image/png": "[encoded data removed]",
      "text/plain": [
       "<Figure size 432x288 with 1 Axes>"
      ]
     },
     "metadata": {
      "needs_background": "light"
     },
     "output_type": "display_data"
    }
   ],
   "source": [
    "plt.plot(hist.history['loss'], label='loss (training data)')\n",
    "plt.plot(hist.history['val_loss'], label='loss (validation data)')\n",
    "\n",
    "plt.title(\"Loss Cluster 3 (MSE)\")\n",
    "plt.ylabel('MSE value')\n",
    "plt.xlabel('No. epoch')\n",
    "plt.legend(loc=\"upper left\")\n",
    "plt.show()"
   ]
  },
  {
   "cell_type": "code",
   "execution_count": 216,
   "metadata": {},
   "outputs": [
    {
     "data": {
      "text/plain": [
       "array([[[0.02928277]],\n",
       "\n",
       "       [[0.02928277]],\n",
       "\n",
       "       [[0.02928277]],\n",
       "\n",
       "       [[0.02928277]],\n",
       "\n",
       "       [[0.02928277]],\n",
       "\n",
       "       [[0.02928277]]], dtype=float32)"
      ]
     },
     "execution_count": 216,
     "metadata": {},
     "output_type": "execute_result"
    }
   ],
   "source": [
    "prediksi=model.predict(np.array(x_valid))\n",
    "prediksi"
   ]
  },
  {
   "cell_type": "code",
   "execution_count": 217,
   "metadata": {},
   "outputs": [],
   "source": [
    "prediksi=prediksi.flatten()"
   ]
  },
  {
   "cell_type": "code",
   "execution_count": 218,
   "metadata": {},
   "outputs": [],
   "source": [
    "hasil=np.concatenate((series,prediksi))"
   ]
  },
  {
   "cell_type": "code",
   "execution_count": 219,
   "metadata": {},
   "outputs": [
    {
     "data": {
      "text/plain": [
       "(60,)"
      ]
     },
     "execution_count": 219,
     "metadata": {},
     "output_type": "execute_result"
    }
   ],
   "source": [
    "hasil.shape"
   ]
  },
  {
   "cell_type": "code",
   "execution_count": 220,
   "metadata": {},
   "outputs": [],
   "source": [
    "asli = np.concatenate((series,series_t))\n"
   ]
  },
  {
   "cell_type": "code",
   "execution_count": 221,
   "metadata": {},
   "outputs": [],
   "source": [
    "hasil = hasil * (max-min) + min\n",
    "asli = asli * (max-min) + min"
   ]
  },
  {
   "cell_type": "code",
   "execution_count": 222,
   "metadata": {},
   "outputs": [
    {
     "data": {
      "text/plain": [
       "[]"
      ]
     },
     "execution_count": 222,
     "metadata": {},
     "output_type": "execute_result"
    },
    {
     "data": {
      "image/png": "[encoded data removed]",
      "text/plain": [
       "<Figure size 432x288 with 1 Axes>"
      ]
     },
     "metadata": {
      "needs_background": "light"
     },
     "output_type": "display_data"
    }
   ],
   "source": [
    "plt.plot(asli,marker = 'o',label='data asli')\n",
    "plt.plot(hasil,marker = 'o',label='data prediksi')\n",
    "plt.title('penjualan produk cluster 3')\n",
    "plt.legend()\n",
    "plt.plot()"
   ]
  },
  {
   "cell_type": "code",
   "execution_count": 223,
   "metadata": {},
   "outputs": [],
   "source": [
    "model.save('cluster3_newdata.h5')"
   ]
  },
  {
   "cell_type": "code",
   "execution_count": null,
   "metadata": {},
   "outputs": [],
   "source": []
  }
 ],
 "metadata": {
  "interpreter": {
   "hash": "c9d83cc02921a4738836e4c62bbe4b1fbf4384e37b2198c6e81d5aaf3defd2c8"
  },
  "kernelspec": {
   "display_name": "Python 3.8.5 ('base')",
   "language": "python",
   "name": "python3"
  },
  "language_info": {
   "codemirror_mode": {
    "name": "ipython",
    "version": 3
   },
   "file_extension": ".py",
   "mimetype": "text/x-python",
   "name": "python",
   "nbconvert_exporter": "python",
   "pygments_lexer": "ipython3",
   "version": "3.8.5"
  },
  "orig_nbformat": 4
 },
 "nbformat": 4,
 "nbformat_minor": 2
}
