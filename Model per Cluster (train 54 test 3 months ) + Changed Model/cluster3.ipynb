{
 "cells": [
  {
   "cell_type": "markdown",
   "metadata": {},
   "source": [
    "# Permodelan Cluster 3"
   ]
  },
  {
   "cell_type": "markdown",
   "metadata": {},
   "source": [
    "Import segala pustaka (library) yang digunakan"
   ]
  },
  {
   "cell_type": "code",
   "execution_count": 3,
   "metadata": {},
   "outputs": [],
   "source": [
    "import tensorflow as tf\n",
    "import pandas as pd\n",
    "import numpy as np\n",
    "import matplotlib.pyplot as plt\n",
    "from sklearn.preprocessing import MinMaxScaler"
   ]
  },
  {
   "cell_type": "markdown",
   "metadata": {},
   "source": [
    "## Pembacaan Data"
   ]
  },
  {
   "cell_type": "markdown",
   "metadata": {},
   "source": [
    "Baca dataset train"
   ]
  },
  {
   "cell_type": "code",
   "execution_count": 4,
   "metadata": {},
   "outputs": [
    {
     "data": {
      "text/html": [
       "<div>\n",
       "<style scoped>\n",
       "    .dataframe tbody tr th:only-of-type {\n",
       "        vertical-align: middle;\n",
       "    }\n",
       "\n",
       "    .dataframe tbody tr th {\n",
       "        vertical-align: top;\n",
       "    }\n",
       "\n",
       "    .dataframe thead th {\n",
       "        text-align: right;\n",
       "    }\n",
       "</style>\n",
       "<table border=\"1\" class=\"dataframe\">\n",
       "  <thead>\n",
       "    <tr style=\"text-align: right;\">\n",
       "      <th></th>\n",
       "      <th>KodeBarang</th>\n",
       "      <th>1</th>\n",
       "      <th>2</th>\n",
       "      <th>3</th>\n",
       "      <th>4</th>\n",
       "      <th>5</th>\n",
       "      <th>6</th>\n",
       "      <th>7</th>\n",
       "      <th>8</th>\n",
       "      <th>9</th>\n",
       "      <th>...</th>\n",
       "      <th>46</th>\n",
       "      <th>47</th>\n",
       "      <th>48</th>\n",
       "      <th>49</th>\n",
       "      <th>50</th>\n",
       "      <th>51</th>\n",
       "      <th>52</th>\n",
       "      <th>53</th>\n",
       "      <th>54</th>\n",
       "      <th>cluster</th>\n",
       "    </tr>\n",
       "  </thead>\n",
       "  <tbody>\n",
       "    <tr>\n",
       "      <th>0</th>\n",
       "      <td>04121</td>\n",
       "      <td>7</td>\n",
       "      <td>9</td>\n",
       "      <td>6</td>\n",
       "      <td>9</td>\n",
       "      <td>40</td>\n",
       "      <td>0</td>\n",
       "      <td>3</td>\n",
       "      <td>0</td>\n",
       "      <td>7</td>\n",
       "      <td>...</td>\n",
       "      <td>67</td>\n",
       "      <td>77</td>\n",
       "      <td>11</td>\n",
       "      <td>57</td>\n",
       "      <td>43</td>\n",
       "      <td>50</td>\n",
       "      <td>37</td>\n",
       "      <td>21</td>\n",
       "      <td>136</td>\n",
       "      <td>0</td>\n",
       "    </tr>\n",
       "    <tr>\n",
       "      <th>1</th>\n",
       "      <td>18031</td>\n",
       "      <td>230</td>\n",
       "      <td>227</td>\n",
       "      <td>279</td>\n",
       "      <td>153</td>\n",
       "      <td>190</td>\n",
       "      <td>256</td>\n",
       "      <td>267</td>\n",
       "      <td>305</td>\n",
       "      <td>238</td>\n",
       "      <td>...</td>\n",
       "      <td>336</td>\n",
       "      <td>153</td>\n",
       "      <td>103</td>\n",
       "      <td>221</td>\n",
       "      <td>360</td>\n",
       "      <td>280</td>\n",
       "      <td>240</td>\n",
       "      <td>120</td>\n",
       "      <td>548</td>\n",
       "      <td>1</td>\n",
       "    </tr>\n",
       "    <tr>\n",
       "      <th>2</th>\n",
       "      <td>04161</td>\n",
       "      <td>102</td>\n",
       "      <td>50</td>\n",
       "      <td>45</td>\n",
       "      <td>41</td>\n",
       "      <td>71</td>\n",
       "      <td>11</td>\n",
       "      <td>52</td>\n",
       "      <td>14</td>\n",
       "      <td>66</td>\n",
       "      <td>...</td>\n",
       "      <td>21</td>\n",
       "      <td>20</td>\n",
       "      <td>7</td>\n",
       "      <td>33</td>\n",
       "      <td>21</td>\n",
       "      <td>28</td>\n",
       "      <td>30</td>\n",
       "      <td>10</td>\n",
       "      <td>18</td>\n",
       "      <td>0</td>\n",
       "    </tr>\n",
       "    <tr>\n",
       "      <th>3</th>\n",
       "      <td>04162</td>\n",
       "      <td>272</td>\n",
       "      <td>155</td>\n",
       "      <td>214</td>\n",
       "      <td>226</td>\n",
       "      <td>268</td>\n",
       "      <td>110</td>\n",
       "      <td>204</td>\n",
       "      <td>253</td>\n",
       "      <td>193</td>\n",
       "      <td>...</td>\n",
       "      <td>102</td>\n",
       "      <td>118</td>\n",
       "      <td>120</td>\n",
       "      <td>211</td>\n",
       "      <td>292</td>\n",
       "      <td>105</td>\n",
       "      <td>108</td>\n",
       "      <td>101</td>\n",
       "      <td>117</td>\n",
       "      <td>1</td>\n",
       "    </tr>\n",
       "    <tr>\n",
       "      <th>4</th>\n",
       "      <td>04163</td>\n",
       "      <td>28</td>\n",
       "      <td>28</td>\n",
       "      <td>29</td>\n",
       "      <td>52</td>\n",
       "      <td>44</td>\n",
       "      <td>21</td>\n",
       "      <td>47</td>\n",
       "      <td>15</td>\n",
       "      <td>24</td>\n",
       "      <td>...</td>\n",
       "      <td>18</td>\n",
       "      <td>23</td>\n",
       "      <td>22</td>\n",
       "      <td>16</td>\n",
       "      <td>22</td>\n",
       "      <td>31</td>\n",
       "      <td>36</td>\n",
       "      <td>17</td>\n",
       "      <td>14</td>\n",
       "      <td>0</td>\n",
       "    </tr>\n",
       "    <tr>\n",
       "      <th>...</th>\n",
       "      <td>...</td>\n",
       "      <td>...</td>\n",
       "      <td>...</td>\n",
       "      <td>...</td>\n",
       "      <td>...</td>\n",
       "      <td>...</td>\n",
       "      <td>...</td>\n",
       "      <td>...</td>\n",
       "      <td>...</td>\n",
       "      <td>...</td>\n",
       "      <td>...</td>\n",
       "      <td>...</td>\n",
       "      <td>...</td>\n",
       "      <td>...</td>\n",
       "      <td>...</td>\n",
       "      <td>...</td>\n",
       "      <td>...</td>\n",
       "      <td>...</td>\n",
       "      <td>...</td>\n",
       "      <td>...</td>\n",
       "      <td>...</td>\n",
       "    </tr>\n",
       "    <tr>\n",
       "      <th>101</th>\n",
       "      <td>04157</td>\n",
       "      <td>55</td>\n",
       "      <td>64</td>\n",
       "      <td>44</td>\n",
       "      <td>61</td>\n",
       "      <td>30</td>\n",
       "      <td>1</td>\n",
       "      <td>24</td>\n",
       "      <td>37</td>\n",
       "      <td>67</td>\n",
       "      <td>...</td>\n",
       "      <td>20</td>\n",
       "      <td>10</td>\n",
       "      <td>300</td>\n",
       "      <td>34</td>\n",
       "      <td>7</td>\n",
       "      <td>7</td>\n",
       "      <td>6</td>\n",
       "      <td>4</td>\n",
       "      <td>21</td>\n",
       "      <td>0</td>\n",
       "    </tr>\n",
       "    <tr>\n",
       "      <th>102</th>\n",
       "      <td>18104</td>\n",
       "      <td>46</td>\n",
       "      <td>295</td>\n",
       "      <td>83</td>\n",
       "      <td>112</td>\n",
       "      <td>70</td>\n",
       "      <td>40</td>\n",
       "      <td>18</td>\n",
       "      <td>140</td>\n",
       "      <td>97</td>\n",
       "      <td>...</td>\n",
       "      <td>47</td>\n",
       "      <td>54</td>\n",
       "      <td>27</td>\n",
       "      <td>15</td>\n",
       "      <td>57</td>\n",
       "      <td>132</td>\n",
       "      <td>66</td>\n",
       "      <td>34</td>\n",
       "      <td>146</td>\n",
       "      <td>0</td>\n",
       "    </tr>\n",
       "    <tr>\n",
       "      <th>103</th>\n",
       "      <td>18106</td>\n",
       "      <td>200</td>\n",
       "      <td>204</td>\n",
       "      <td>0</td>\n",
       "      <td>2</td>\n",
       "      <td>10</td>\n",
       "      <td>7</td>\n",
       "      <td>0</td>\n",
       "      <td>27</td>\n",
       "      <td>74</td>\n",
       "      <td>...</td>\n",
       "      <td>15</td>\n",
       "      <td>136</td>\n",
       "      <td>15</td>\n",
       "      <td>15</td>\n",
       "      <td>14</td>\n",
       "      <td>131</td>\n",
       "      <td>84</td>\n",
       "      <td>12</td>\n",
       "      <td>14</td>\n",
       "      <td>0</td>\n",
       "    </tr>\n",
       "    <tr>\n",
       "      <th>104</th>\n",
       "      <td>18092</td>\n",
       "      <td>297</td>\n",
       "      <td>418</td>\n",
       "      <td>329</td>\n",
       "      <td>70</td>\n",
       "      <td>498</td>\n",
       "      <td>59</td>\n",
       "      <td>298</td>\n",
       "      <td>376</td>\n",
       "      <td>259</td>\n",
       "      <td>...</td>\n",
       "      <td>450</td>\n",
       "      <td>498</td>\n",
       "      <td>254</td>\n",
       "      <td>260</td>\n",
       "      <td>336</td>\n",
       "      <td>493</td>\n",
       "      <td>438</td>\n",
       "      <td>408</td>\n",
       "      <td>322</td>\n",
       "      <td>1</td>\n",
       "    </tr>\n",
       "    <tr>\n",
       "      <th>105</th>\n",
       "      <td>04143</td>\n",
       "      <td>132</td>\n",
       "      <td>80</td>\n",
       "      <td>103</td>\n",
       "      <td>113</td>\n",
       "      <td>81</td>\n",
       "      <td>108</td>\n",
       "      <td>124</td>\n",
       "      <td>101</td>\n",
       "      <td>119</td>\n",
       "      <td>...</td>\n",
       "      <td>153</td>\n",
       "      <td>130</td>\n",
       "      <td>121</td>\n",
       "      <td>189</td>\n",
       "      <td>92</td>\n",
       "      <td>226</td>\n",
       "      <td>181</td>\n",
       "      <td>112</td>\n",
       "      <td>214</td>\n",
       "      <td>1</td>\n",
       "    </tr>\n",
       "  </tbody>\n",
       "</table>\n",
       "<p>106 rows × 56 columns</p>\n",
       "</div>"
      ],
      "text/plain": [
       "    KodeBarang    1    2    3    4    5    6    7    8    9  ...   46   47  \\\n",
       "0        04121    7    9    6    9   40    0    3    0    7  ...   67   77   \n",
       "1        18031  230  227  279  153  190  256  267  305  238  ...  336  153   \n",
       "2        04161  102   50   45   41   71   11   52   14   66  ...   21   20   \n",
       "3        04162  272  155  214  226  268  110  204  253  193  ...  102  118   \n",
       "4        04163   28   28   29   52   44   21   47   15   24  ...   18   23   \n",
       "..         ...  ...  ...  ...  ...  ...  ...  ...  ...  ...  ...  ...  ...   \n",
       "101      04157   55   64   44   61   30    1   24   37   67  ...   20   10   \n",
       "102      18104   46  295   83  112   70   40   18  140   97  ...   47   54   \n",
       "103      18106  200  204    0    2   10    7    0   27   74  ...   15  136   \n",
       "104      18092  297  418  329   70  498   59  298  376  259  ...  450  498   \n",
       "105      04143  132   80  103  113   81  108  124  101  119  ...  153  130   \n",
       "\n",
       "      48   49   50   51   52   53   54  cluster  \n",
       "0     11   57   43   50   37   21  136        0  \n",
       "1    103  221  360  280  240  120  548        1  \n",
       "2      7   33   21   28   30   10   18        0  \n",
       "3    120  211  292  105  108  101  117        1  \n",
       "4     22   16   22   31   36   17   14        0  \n",
       "..   ...  ...  ...  ...  ...  ...  ...      ...  \n",
       "101  300   34    7    7    6    4   21        0  \n",
       "102   27   15   57  132   66   34  146        0  \n",
       "103   15   15   14  131   84   12   14        0  \n",
       "104  254  260  336  493  438  408  322        1  \n",
       "105  121  189   92  226  181  112  214        1  \n",
       "\n",
       "[106 rows x 56 columns]"
      ]
     },
     "execution_count": 4,
     "metadata": {},
     "output_type": "execute_result"
    }
   ],
   "source": [
    "data=pd.read_excel('../dataset_new.xlsx',sheet_name='train')\n",
    "data"
   ]
  },
  {
   "cell_type": "markdown",
   "metadata": {},
   "source": [
    "Baca dataset test"
   ]
  },
  {
   "cell_type": "code",
   "execution_count": 5,
   "metadata": {},
   "outputs": [
    {
     "data": {
      "text/html": [
       "<div>\n",
       "<style scoped>\n",
       "    .dataframe tbody tr th:only-of-type {\n",
       "        vertical-align: middle;\n",
       "    }\n",
       "\n",
       "    .dataframe tbody tr th {\n",
       "        vertical-align: top;\n",
       "    }\n",
       "\n",
       "    .dataframe thead th {\n",
       "        text-align: right;\n",
       "    }\n",
       "</style>\n",
       "<table border=\"1\" class=\"dataframe\">\n",
       "  <thead>\n",
       "    <tr style=\"text-align: right;\">\n",
       "      <th></th>\n",
       "      <th>KodeBarang</th>\n",
       "      <th>bulan 1</th>\n",
       "      <th>bulan 2</th>\n",
       "      <th>bulan 3</th>\n",
       "      <th>bulan 4</th>\n",
       "      <th>bulan 5</th>\n",
       "      <th>bulan 6</th>\n",
       "    </tr>\n",
       "  </thead>\n",
       "  <tbody>\n",
       "    <tr>\n",
       "      <th>0</th>\n",
       "      <td>04121</td>\n",
       "      <td>5</td>\n",
       "      <td>12</td>\n",
       "      <td>8</td>\n",
       "      <td>14</td>\n",
       "      <td>40</td>\n",
       "      <td>40</td>\n",
       "    </tr>\n",
       "    <tr>\n",
       "      <th>1</th>\n",
       "      <td>18031</td>\n",
       "      <td>573</td>\n",
       "      <td>340</td>\n",
       "      <td>441</td>\n",
       "      <td>270</td>\n",
       "      <td>488</td>\n",
       "      <td>240</td>\n",
       "    </tr>\n",
       "    <tr>\n",
       "      <th>2</th>\n",
       "      <td>04161</td>\n",
       "      <td>27</td>\n",
       "      <td>5</td>\n",
       "      <td>26</td>\n",
       "      <td>34</td>\n",
       "      <td>40</td>\n",
       "      <td>56</td>\n",
       "    </tr>\n",
       "    <tr>\n",
       "      <th>3</th>\n",
       "      <td>04162</td>\n",
       "      <td>162</td>\n",
       "      <td>82</td>\n",
       "      <td>72</td>\n",
       "      <td>98</td>\n",
       "      <td>126</td>\n",
       "      <td>120</td>\n",
       "    </tr>\n",
       "    <tr>\n",
       "      <th>4</th>\n",
       "      <td>04163</td>\n",
       "      <td>23</td>\n",
       "      <td>20</td>\n",
       "      <td>9</td>\n",
       "      <td>5</td>\n",
       "      <td>22</td>\n",
       "      <td>6</td>\n",
       "    </tr>\n",
       "    <tr>\n",
       "      <th>...</th>\n",
       "      <td>...</td>\n",
       "      <td>...</td>\n",
       "      <td>...</td>\n",
       "      <td>...</td>\n",
       "      <td>...</td>\n",
       "      <td>...</td>\n",
       "      <td>...</td>\n",
       "    </tr>\n",
       "    <tr>\n",
       "      <th>101</th>\n",
       "      <td>04157</td>\n",
       "      <td>138</td>\n",
       "      <td>14</td>\n",
       "      <td>12</td>\n",
       "      <td>21</td>\n",
       "      <td>25</td>\n",
       "      <td>10</td>\n",
       "    </tr>\n",
       "    <tr>\n",
       "      <th>102</th>\n",
       "      <td>18104</td>\n",
       "      <td>60</td>\n",
       "      <td>103</td>\n",
       "      <td>39</td>\n",
       "      <td>87</td>\n",
       "      <td>276</td>\n",
       "      <td>40</td>\n",
       "    </tr>\n",
       "    <tr>\n",
       "      <th>103</th>\n",
       "      <td>18106</td>\n",
       "      <td>16</td>\n",
       "      <td>7</td>\n",
       "      <td>65</td>\n",
       "      <td>24</td>\n",
       "      <td>13</td>\n",
       "      <td>27</td>\n",
       "    </tr>\n",
       "    <tr>\n",
       "      <th>104</th>\n",
       "      <td>18092</td>\n",
       "      <td>721</td>\n",
       "      <td>184</td>\n",
       "      <td>150</td>\n",
       "      <td>488</td>\n",
       "      <td>648</td>\n",
       "      <td>149</td>\n",
       "    </tr>\n",
       "    <tr>\n",
       "      <th>105</th>\n",
       "      <td>04143</td>\n",
       "      <td>164</td>\n",
       "      <td>189</td>\n",
       "      <td>187</td>\n",
       "      <td>232</td>\n",
       "      <td>219</td>\n",
       "      <td>229</td>\n",
       "    </tr>\n",
       "  </tbody>\n",
       "</table>\n",
       "<p>106 rows × 7 columns</p>\n",
       "</div>"
      ],
      "text/plain": [
       "    KodeBarang  bulan 1  bulan 2  bulan 3  bulan 4  bulan 5  bulan 6\n",
       "0        04121        5       12        8       14       40       40\n",
       "1        18031      573      340      441      270      488      240\n",
       "2        04161       27        5       26       34       40       56\n",
       "3        04162      162       82       72       98      126      120\n",
       "4        04163       23       20        9        5       22        6\n",
       "..         ...      ...      ...      ...      ...      ...      ...\n",
       "101      04157      138       14       12       21       25       10\n",
       "102      18104       60      103       39       87      276       40\n",
       "103      18106       16        7       65       24       13       27\n",
       "104      18092      721      184      150      488      648      149\n",
       "105      04143      164      189      187      232      219      229\n",
       "\n",
       "[106 rows x 7 columns]"
      ]
     },
     "execution_count": 5,
     "metadata": {},
     "output_type": "execute_result"
    }
   ],
   "source": [
    "data_test = pd.read_excel('../dataset_new.xlsx',sheet_name='test')\n",
    "data_test"
   ]
  },
  {
   "cell_type": "markdown",
   "metadata": {},
   "source": [
    "Hilangkan judul kolom agar tidak terbaca di deep learning\n",
    "Pastikan cluster pada dataset sudah berupa angka"
   ]
  },
  {
   "cell_type": "code",
   "execution_count": 6,
   "metadata": {},
   "outputs": [],
   "source": [
    "clusters=data['cluster']\n",
    "data_test['cluster'] = clusters\n",
    "data_test.drop(['bulan 4','bulan 5','bulan 6'],axis=1,inplace=True)"
   ]
  },
  {
   "cell_type": "code",
   "execution_count": 7,
   "metadata": {},
   "outputs": [
    {
     "data": {
      "text/html": [
       "<div>\n",
       "<style scoped>\n",
       "    .dataframe tbody tr th:only-of-type {\n",
       "        vertical-align: middle;\n",
       "    }\n",
       "\n",
       "    .dataframe tbody tr th {\n",
       "        vertical-align: top;\n",
       "    }\n",
       "\n",
       "    .dataframe thead th {\n",
       "        text-align: right;\n",
       "    }\n",
       "</style>\n",
       "<table border=\"1\" class=\"dataframe\">\n",
       "  <thead>\n",
       "    <tr style=\"text-align: right;\">\n",
       "      <th></th>\n",
       "      <th>KodeBarang</th>\n",
       "      <th>bulan 1</th>\n",
       "      <th>bulan 2</th>\n",
       "      <th>bulan 3</th>\n",
       "      <th>cluster</th>\n",
       "    </tr>\n",
       "  </thead>\n",
       "  <tbody>\n",
       "    <tr>\n",
       "      <th>0</th>\n",
       "      <td>04121</td>\n",
       "      <td>5</td>\n",
       "      <td>12</td>\n",
       "      <td>8</td>\n",
       "      <td>0</td>\n",
       "    </tr>\n",
       "    <tr>\n",
       "      <th>1</th>\n",
       "      <td>18031</td>\n",
       "      <td>573</td>\n",
       "      <td>340</td>\n",
       "      <td>441</td>\n",
       "      <td>1</td>\n",
       "    </tr>\n",
       "    <tr>\n",
       "      <th>2</th>\n",
       "      <td>04161</td>\n",
       "      <td>27</td>\n",
       "      <td>5</td>\n",
       "      <td>26</td>\n",
       "      <td>0</td>\n",
       "    </tr>\n",
       "    <tr>\n",
       "      <th>3</th>\n",
       "      <td>04162</td>\n",
       "      <td>162</td>\n",
       "      <td>82</td>\n",
       "      <td>72</td>\n",
       "      <td>1</td>\n",
       "    </tr>\n",
       "    <tr>\n",
       "      <th>4</th>\n",
       "      <td>04163</td>\n",
       "      <td>23</td>\n",
       "      <td>20</td>\n",
       "      <td>9</td>\n",
       "      <td>0</td>\n",
       "    </tr>\n",
       "    <tr>\n",
       "      <th>...</th>\n",
       "      <td>...</td>\n",
       "      <td>...</td>\n",
       "      <td>...</td>\n",
       "      <td>...</td>\n",
       "      <td>...</td>\n",
       "    </tr>\n",
       "    <tr>\n",
       "      <th>101</th>\n",
       "      <td>04157</td>\n",
       "      <td>138</td>\n",
       "      <td>14</td>\n",
       "      <td>12</td>\n",
       "      <td>0</td>\n",
       "    </tr>\n",
       "    <tr>\n",
       "      <th>102</th>\n",
       "      <td>18104</td>\n",
       "      <td>60</td>\n",
       "      <td>103</td>\n",
       "      <td>39</td>\n",
       "      <td>0</td>\n",
       "    </tr>\n",
       "    <tr>\n",
       "      <th>103</th>\n",
       "      <td>18106</td>\n",
       "      <td>16</td>\n",
       "      <td>7</td>\n",
       "      <td>65</td>\n",
       "      <td>0</td>\n",
       "    </tr>\n",
       "    <tr>\n",
       "      <th>104</th>\n",
       "      <td>18092</td>\n",
       "      <td>721</td>\n",
       "      <td>184</td>\n",
       "      <td>150</td>\n",
       "      <td>1</td>\n",
       "    </tr>\n",
       "    <tr>\n",
       "      <th>105</th>\n",
       "      <td>04143</td>\n",
       "      <td>164</td>\n",
       "      <td>189</td>\n",
       "      <td>187</td>\n",
       "      <td>1</td>\n",
       "    </tr>\n",
       "  </tbody>\n",
       "</table>\n",
       "<p>106 rows × 5 columns</p>\n",
       "</div>"
      ],
      "text/plain": [
       "    KodeBarang  bulan 1  bulan 2  bulan 3  cluster\n",
       "0        04121        5       12        8        0\n",
       "1        18031      573      340      441        1\n",
       "2        04161       27        5       26        0\n",
       "3        04162      162       82       72        1\n",
       "4        04163       23       20        9        0\n",
       "..         ...      ...      ...      ...      ...\n",
       "101      04157      138       14       12        0\n",
       "102      18104       60      103       39        0\n",
       "103      18106       16        7       65        0\n",
       "104      18092      721      184      150        1\n",
       "105      04143      164      189      187        1\n",
       "\n",
       "[106 rows x 5 columns]"
      ]
     },
     "execution_count": 7,
     "metadata": {},
     "output_type": "execute_result"
    }
   ],
   "source": [
    "data_test"
   ]
  },
  {
   "cell_type": "code",
   "execution_count": 8,
   "metadata": {},
   "outputs": [],
   "source": [
    "import matplotlib.pyplot as plt\n",
    "from sklearn.preprocessing import MinMaxScaler"
   ]
  },
  {
   "cell_type": "markdown",
   "metadata": {},
   "source": [
    "Make sure ada berapa cluster?"
   ]
  },
  {
   "cell_type": "code",
   "execution_count": 9,
   "metadata": {},
   "outputs": [
    {
     "data": {
      "text/plain": [
       "4"
      ]
     },
     "execution_count": 9,
     "metadata": {},
     "output_type": "execute_result"
    }
   ],
   "source": [
    "len(data['cluster'].unique())"
   ]
  },
  {
   "cell_type": "markdown",
   "metadata": {},
   "source": [
    "Ambil jumlah produk dalam setiap Cluster"
   ]
  },
  {
   "cell_type": "code",
   "execution_count": 10,
   "metadata": {},
   "outputs": [
    {
     "name": "stdout",
     "output_type": "stream",
     "text": [
      "Jumlah Produk:\n",
      "70\n",
      "Jumlah Produk:\n",
      "31\n",
      "Jumlah Produk:\n",
      "4\n",
      "Jumlah Produk:\n",
      "1\n"
     ]
    }
   ],
   "source": [
    "#now lets take clusters\n",
    "c0 = data.query(\"cluster == 0\")\n",
    "print(\"Jumlah Produk:\")\n",
    "print(c0['KodeBarang'].size)\n",
    "c1 = data.query(\"cluster == 1\")\n",
    "print(\"Jumlah Produk:\")\n",
    "print(c1['KodeBarang'].size)\n",
    "c2 = data.query(\"cluster == 2\")\n",
    "print(\"Jumlah Produk:\")\n",
    "print(c2['KodeBarang'].size)\n",
    "c3 = data.query(\"cluster == 3\")\n",
    "print(\"Jumlah Produk:\")\n",
    "print(c3['KodeBarang'].size)"
   ]
  },
  {
   "cell_type": "code",
   "execution_count": 11,
   "metadata": {},
   "outputs": [
    {
     "name": "stdout",
     "output_type": "stream",
     "text": [
      "Jumlah Produk:\n",
      "70\n",
      "Jumlah Produk:\n",
      "31\n",
      "Jumlah Produk:\n",
      "4\n",
      "Jumlah Produk:\n",
      "1\n"
     ]
    }
   ],
   "source": [
    "c0_t = data_test.query(\"cluster == 0\")\n",
    "print(\"Jumlah Produk:\")\n",
    "print(c0['KodeBarang'].size)\n",
    "c1_t = data_test.query(\"cluster == 1\")\n",
    "print(\"Jumlah Produk:\")\n",
    "print(c1['KodeBarang'].size)\n",
    "c2_t = data_test.query(\"cluster == 2\")\n",
    "print(\"Jumlah Produk:\")\n",
    "print(c2['KodeBarang'].size)\n",
    "c3_t = data_test.query(\"cluster == 3\")\n",
    "print(\"Jumlah Produk:\")\n",
    "print(c3['KodeBarang'].size)"
   ]
  },
  {
   "cell_type": "markdown",
   "metadata": {},
   "source": [
    "## Pembuatan model cluster 3"
   ]
  },
  {
   "cell_type": "markdown",
   "metadata": {},
   "source": [
    "Buat fungsi bikin `windowed dataset` jadi si data di couple in sama waktu (timeframe)"
   ]
  },
  {
   "cell_type": "code",
   "execution_count": 12,
   "metadata": {},
   "outputs": [],
   "source": [
    "#oke ada ternyata yang cuman sendirian (1 product di cluster tersebut), kita beresin dia dulu, the easiest, dan biar keliatan kita\n",
    "#ngapain aja di time series ini\n",
    "def windowed_dataset(series, window_size, batch_size, shuffle_buffer):\n",
    "    series = tf.expand_dims(series, axis=-1)\n",
    "    ds = tf.data.Dataset.from_tensor_slices(series)\n",
    "    ds = ds.window(window_size + 1, shift=1, drop_remainder=True)\n",
    "    ds = ds.flat_map(lambda w: w.batch(window_size + 1))\n",
    "    ds = ds.shuffle(shuffle_buffer)\n",
    "    ds = ds.map(lambda w: (w[:-1], w[1:]))\n",
    "    return ds.batch(batch_size).prefetch(1)\n",
    "# ini fungsinya buat nge ubah dataset jadi windowed"
   ]
  },
  {
   "cell_type": "code",
   "execution_count": 13,
   "metadata": {},
   "outputs": [],
   "source": [
    "#next kita ubah bentuk data nya dari yang tadinya kesamping jadi ke bawah, tapi pertama mau aku drop dulu cluster sama kode produknya\n",
    "c3=c3.drop(columns=['KodeBarang','cluster'])\n",
    "c3_t = c3_t.drop(columns=['KodeBarang','cluster'])"
   ]
  },
  {
   "cell_type": "markdown",
   "metadata": {},
   "source": [
    "Plot per produk cluster 3"
   ]
  },
  {
   "cell_type": "code",
   "execution_count": 14,
   "metadata": {},
   "outputs": [
    {
     "data": {
      "text/plain": [
       "<AxesSubplot:>"
      ]
     },
     "execution_count": 14,
     "metadata": {},
     "output_type": "execute_result"
    },
    {
     "data": {
      "image/png": "[encoded data removed]",
      "text/plain": [
       "<Figure size 432x288 with 1 Axes>"
      ]
     },
     "metadata": {
      "needs_background": "light"
     },
     "output_type": "display_data"
    }
   ],
   "source": [
    "c3.T.plot()"
   ]
  },
  {
   "cell_type": "code",
   "execution_count": 15,
   "metadata": {},
   "outputs": [
    {
     "name": "stdout",
     "output_type": "stream",
     "text": [
      "[0, 1, 2, 3, 4, 5, 6, 7, 8, 9, 10, 11, 12, 13, 14, 15, 16, 17, 18, 19, 20, 21, 22, 23, 24, 25, 26, 27, 28, 29, 30, 31, 32, 33, 34, 35, 36, 37, 38, 39, 40, 41, 42, 43, 44, 45, 46, 47, 48, 49, 50, 51, 52, 53] [497, 725, 1233, 1145, 149, 422, 341, 893, 655, 1022, 851, 758, 933, 1928, 912, 1106, 452, 151, 18079, 714, 617, 843, 436, 769, 1264, 1049, 1317, 962, 1008, 394, 659, 1046, 213, 0, 0, 2, 0, 0, 0, 0, 0, 0, 0, 0, 0, 0, -5, 0, 0, -5, 0, 0, 0, 0]\n"
     ]
    }
   ],
   "source": [
    "#next, buat dia kayak mejeneng time series seperti biasanya, which is datanya ke bawah, \n",
    "new_c3=[]\n",
    "time=[]\n",
    "for idx,_ in enumerate(c3):\n",
    "    new_c3.append(c3.iloc[0,idx])\n",
    "    time.append(idx)\n",
    "print(time,new_c3)"
   ]
  },
  {
   "cell_type": "code",
   "execution_count": 16,
   "metadata": {},
   "outputs": [],
   "source": [
    "#sama aja cuman data test\n",
    "new_c3_t=[]\n",
    "time_t=[]\n",
    "i = 55\n",
    "for idx,a in enumerate(c3_t):\n",
    "    new_c3_t.append(c3_t[a].mean())\n",
    "    time_t.append(i)\n",
    "    i+=1"
   ]
  },
  {
   "cell_type": "code",
   "execution_count": 17,
   "metadata": {},
   "outputs": [
    {
     "data": {
      "text/plain": [
       "[0.0, 0.0, 0.0]"
      ]
     },
     "execution_count": 17,
     "metadata": {},
     "output_type": "execute_result"
    }
   ],
   "source": [
    "new_c3_t"
   ]
  },
  {
   "cell_type": "code",
   "execution_count": 18,
   "metadata": {},
   "outputs": [],
   "source": [
    "#normalisasi, karena gap nya ada yang sampe ribuan, biar lebih gampang tugas ann nya\n",
    "series=new_c3\n",
    "min = np.min(series)\n",
    "max = np.max(series)\n",
    "series = series - min\n",
    "series = series / (max-min)\n",
    "\n",
    "# scaler = MinMaxScaler(feature_range=(0, 1))\n",
    "# series = scaler.fit_transform(series)\n",
    "\n",
    "time = np.array(time)"
   ]
  },
  {
   "cell_type": "code",
   "execution_count": 19,
   "metadata": {},
   "outputs": [],
   "source": [
    "# Karena data test tidak ada gap nya, maka kita tidak perlu normalisasi\n",
    "series_t=new_c3_t\n",
    "\n",
    "time_t = np.array(time_t)"
   ]
  },
  {
   "cell_type": "code",
   "execution_count": 20,
   "metadata": {},
   "outputs": [
    {
     "data": {
      "text/plain": [
       "[0.0, 0.0, 0.0]"
      ]
     },
     "execution_count": 20,
     "metadata": {},
     "output_type": "execute_result"
    }
   ],
   "source": [
    "series_t"
   ]
  },
  {
   "cell_type": "code",
   "execution_count": 21,
   "metadata": {},
   "outputs": [],
   "source": [
    "split_time = 3 # ini berapa bulan terkahir yang mau di potong buat pengujian?\n",
    "\n",
    "time_train = time\n",
    "x_train =  series\n",
    "time_valid =  time_t\n",
    "x_valid =  series_t"
   ]
  },
  {
   "cell_type": "code",
   "execution_count": 22,
   "metadata": {},
   "outputs": [
    {
     "data": {
      "text/plain": [
       "[0.0, 0.0, 0.0]"
      ]
     },
     "execution_count": 22,
     "metadata": {},
     "output_type": "execute_result"
    }
   ],
   "source": [
    "x_valid"
   ]
  },
  {
   "cell_type": "code",
   "execution_count": 23,
   "metadata": {},
   "outputs": [],
   "source": [
    "#buat data biar dibagi per window, jadi me masang masangkan waktu dan value,\n",
    "window_size = 2\n",
    "batch_size = 2\n",
    "shuffle_buffer_size = 10\n",
    "\n",
    "train_set = windowed_dataset(x_train, window_size, batch_size, shuffle_buffer_size)\n",
    "valid_set = windowed_dataset(x_valid, window_size, batch_size, shuffle_buffer_size)"
   ]
  },
  {
   "cell_type": "code",
   "execution_count": 24,
   "metadata": {},
   "outputs": [
    {
     "data": {
      "text/plain": [
       "<PrefetchDataset shapes: ((None, None, 1), (None, None, 1)), types: (tf.float64, tf.float64)>"
      ]
     },
     "execution_count": 24,
     "metadata": {},
     "output_type": "execute_result"
    }
   ],
   "source": [
    "train_set"
   ]
  },
  {
   "cell_type": "code",
   "execution_count": 25,
   "metadata": {},
   "outputs": [
    {
     "data": {
      "text/plain": [
       "<PrefetchDataset shapes: ((None, None, 1), (None, None, 1)), types: (tf.float32, tf.float32)>"
      ]
     },
     "execution_count": 25,
     "metadata": {},
     "output_type": "execute_result"
    }
   ],
   "source": [
    "valid_set"
   ]
  },
  {
   "cell_type": "markdown",
   "metadata": {},
   "source": [
    "Penyusunan deep learning nya\n",
    "\n",
    "Kita Menggunakan BLSTM atau *Bidirectional Long Short Term Memory*. BLSTM adalah proses pembuatan jaringan syaraf tiruan untuk memiliki urutan informasi dalam kedua arah mundur (masa depan ke masa lalu) atau maju (masa lalu ke masa depan).\n",
    "\n",
    "kalo ini pake BLSTM dengan input layer sebanyak 2 neuron, BLSTM layer ada dua, yang pertama ada 64 neuron, terus yang kedua ada 32 neuron, dibuat mengkerucut (segitiga terbalik) seolah kita menyederhanakan data datanya, jadi kan makin dalem makin sedikit tuh, karena ada yang ga kepake kepake buat menentukan sales nya dan lain lain, \n",
    "\n",
    "terus setiap selesai masuk BLSTM layer, ada dropout, itu tuh untuk mengeliminasi secara random (di case ini 50%) sambungan antara neuron, dan nge \"matiin\" neuronnya itu juga, mensimulasi degradasi neuron dan sambungannya saat kita tidur, alias proses mengubah ingatan jadi jangka menengah ke panjang dari apa yang kita dapatkan pada hari itu. "
   ]
  },
  {
   "cell_type": "code",
   "execution_count": 26,
   "metadata": {},
   "outputs": [],
   "source": [
    "model = tf.keras.Sequential([\n",
    "        tf.keras.layers.Dense(2, input_shape=[None, 1]),\n",
    "        tf.keras.layers.Bidirectional(tf.keras.layers.LSTM(64,return_sequences=True)),\n",
    "        tf.keras.layers.Bidirectional(tf.keras.layers.LSTM(32)),\n",
    "        \n",
    "        # tf.keras.layers.Flatten(),\n",
    "        # tf.keras.layers.Dense(1024, activation='relu'),\n",
    "        # tf.keras.layers.Dropout(0.5),\n",
    "        # tf.keras.layers.Dense(512, activation='relu',kernel_regularizer=tf.keras.regularizers.l1(l1=0.01)),\n",
    "        # tf.keras.layers.Dense(64, activation='relu',kernel_regularizer=tf.keras.regularizers.l1_l2(l1=0.01, l2=0.01)),\n",
    "        # tf.keras.layers.Dense(32, activation='relu'),\n",
    "        # tf.keras.layers.Dropout(0.3),\n",
    "        tf.keras.layers.Dense(1, activation='relu')\n",
    "    ])\n",
    "\n",
    "    #the blstm part"
   ]
  },
  {
   "cell_type": "code",
   "execution_count": 27,
   "metadata": {},
   "outputs": [
    {
     "name": "stdout",
     "output_type": "stream",
     "text": [
      "Model: \"sequential\"\n",
      "_________________________________________________________________\n",
      "Layer (type)                 Output Shape              Param #   \n",
      "=================================================================\n",
      "dense (Dense)                (None, None, 2)           4         \n",
      "_________________________________________________________________\n",
      "bidirectional (Bidirectional (None, None, 128)         34304     \n",
      "_________________________________________________________________\n",
      "bidirectional_1 (Bidirection (None, 64)                41216     \n",
      "_________________________________________________________________\n",
      "dense_1 (Dense)              (None, 1)                 65        \n",
      "=================================================================\n",
      "Total params: 75,589\n",
      "Trainable params: 75,589\n",
      "Non-trainable params: 0\n",
      "_________________________________________________________________\n",
      "Epoch 1/150\n",
      "26/26 [==============================] - 16s 123ms/step - loss: 0.0191 - mae: 0.0553 - val_loss: 0.0020 - val_mae: 0.0443\n",
      "Epoch 2/150\n",
      "26/26 [==============================] - 0s 7ms/step - loss: 0.0179 - mae: 0.0451 - val_loss: 8.1059e-04 - val_mae: 0.0285\n",
      "Epoch 3/150\n",
      "26/26 [==============================] - 0s 7ms/step - loss: 0.0180 - mae: 0.0472 - val_loss: 5.3405e-04 - val_mae: 0.0231\n",
      "Epoch 4/150\n",
      "26/26 [==============================] - 0s 7ms/step - loss: 0.0175 - mae: 0.0447 - val_loss: 0.0012 - val_mae: 0.0341\n",
      "Epoch 5/150\n",
      "26/26 [==============================] - 0s 6ms/step - loss: 0.0168 - mae: 0.0455 - val_loss: 8.1170e-04 - val_mae: 0.0285\n",
      "Epoch 6/150\n",
      "26/26 [==============================] - 0s 6ms/step - loss: 0.0164 - mae: 0.0450 - val_loss: 4.7764e-04 - val_mae: 0.0219\n",
      "Epoch 7/150\n",
      "26/26 [==============================] - 0s 6ms/step - loss: 0.0159 - mae: 0.0433 - val_loss: 1.6283e-04 - val_mae: 0.0128\n",
      "Epoch 8/150\n",
      "26/26 [==============================] - 0s 6ms/step - loss: 0.0157 - mae: 0.0457 - val_loss: 4.1609e-04 - val_mae: 0.0204\n",
      "Epoch 9/150\n",
      "26/26 [==============================] - 0s 6ms/step - loss: 0.0156 - mae: 0.0418 - val_loss: 0.0000e+00 - val_mae: 0.0000e+00\n",
      "Epoch 10/150\n",
      "26/26 [==============================] - 0s 6ms/step - loss: 0.0154 - mae: 0.0430 - val_loss: 1.9934e-04 - val_mae: 0.0141\n",
      "Epoch 11/150\n",
      "26/26 [==============================] - 0s 6ms/step - loss: 0.0149 - mae: 0.0398 - val_loss: 2.1787e-09 - val_mae: 4.6677e-05\n",
      "Epoch 12/150\n",
      "26/26 [==============================] - 0s 6ms/step - loss: 0.0147 - mae: 0.0413 - val_loss: 2.6978e-04 - val_mae: 0.0164\n",
      "Epoch 13/150\n",
      "26/26 [==============================] - 0s 7ms/step - loss: 0.0146 - mae: 0.0360 - val_loss: 3.8485e-05 - val_mae: 0.0062\n",
      "Epoch 14/150\n",
      "26/26 [==============================] - 0s 6ms/step - loss: 0.0148 - mae: 0.0480 - val_loss: 1.8830e-04 - val_mae: 0.0137\n",
      "Epoch 15/150\n",
      "26/26 [==============================] - 0s 7ms/step - loss: 0.0147 - mae: 0.0406 - val_loss: 2.5296e-04 - val_mae: 0.0159\n",
      "Epoch 16/150\n",
      "26/26 [==============================] - 0s 6ms/step - loss: 0.0144 - mae: 0.0397 - val_loss: 3.4707e-04 - val_mae: 0.0186\n",
      "Epoch 17/150\n",
      "26/26 [==============================] - 0s 7ms/step - loss: 0.0144 - mae: 0.0403 - val_loss: 4.7667e-04 - val_mae: 0.0218\n",
      "Epoch 18/150\n",
      "26/26 [==============================] - 0s 7ms/step - loss: 0.0142 - mae: 0.0369 - val_loss: 2.0490e-04 - val_mae: 0.0143\n",
      "Epoch 19/150\n",
      "26/26 [==============================] - 0s 6ms/step - loss: 0.0143 - mae: 0.0386 - val_loss: 3.0063e-04 - val_mae: 0.0173\n",
      "Epoch 20/150\n",
      "26/26 [==============================] - 0s 6ms/step - loss: 0.0144 - mae: 0.0392 - val_loss: 2.9500e-04 - val_mae: 0.0172\n",
      "Epoch 21/150\n",
      "26/26 [==============================] - 0s 6ms/step - loss: 0.0143 - mae: 0.0388 - val_loss: 2.8677e-04 - val_mae: 0.0169\n",
      "Epoch 22/150\n",
      "26/26 [==============================] - 0s 6ms/step - loss: 0.0144 - mae: 0.0410 - val_loss: 6.7976e-04 - val_mae: 0.0261\n",
      "Epoch 23/150\n",
      "26/26 [==============================] - 0s 5ms/step - loss: 0.0141 - mae: 0.0352 - val_loss: 6.2848e-04 - val_mae: 0.0251\n",
      "Epoch 24/150\n",
      "26/26 [==============================] - 0s 6ms/step - loss: 0.0142 - mae: 0.0406 - val_loss: 4.3482e-04 - val_mae: 0.0209\n",
      "Epoch 25/150\n",
      "26/26 [==============================] - 0s 6ms/step - loss: 0.0142 - mae: 0.0369 - val_loss: 1.9961e-04 - val_mae: 0.0141\n",
      "Epoch 26/150\n",
      "26/26 [==============================] - 0s 6ms/step - loss: 0.0143 - mae: 0.0382 - val_loss: 3.1809e-04 - val_mae: 0.0178\n",
      "Epoch 27/150\n",
      "26/26 [==============================] - 0s 6ms/step - loss: 0.0143 - mae: 0.0399 - val_loss: 6.7972e-04 - val_mae: 0.0261\n",
      "Epoch 28/150\n",
      "26/26 [==============================] - 0s 5ms/step - loss: 0.0141 - mae: 0.0375 - val_loss: 2.0781e-04 - val_mae: 0.0144\n",
      "Epoch 29/150\n",
      "26/26 [==============================] - 0s 6ms/step - loss: 0.0144 - mae: 0.0406 - val_loss: 8.1105e-04 - val_mae: 0.0285\n",
      "Epoch 30/150\n",
      "26/26 [==============================] - 0s 6ms/step - loss: 0.0141 - mae: 0.0377 - val_loss: 3.1937e-04 - val_mae: 0.0179\n",
      "Epoch 31/150\n",
      "26/26 [==============================] - 0s 6ms/step - loss: 0.0145 - mae: 0.0404 - val_loss: 6.0796e-04 - val_mae: 0.0247\n",
      "Epoch 32/150\n",
      "26/26 [==============================] - 0s 7ms/step - loss: 0.0142 - mae: 0.0376 - val_loss: 2.1750e-04 - val_mae: 0.0147\n",
      "Epoch 33/150\n",
      "26/26 [==============================] - 0s 6ms/step - loss: 0.0147 - mae: 0.0417 - val_loss: 5.4653e-04 - val_mae: 0.0234\n",
      "Epoch 34/150\n",
      "26/26 [==============================] - 0s 7ms/step - loss: 0.0142 - mae: 0.0362 - val_loss: 2.9902e-04 - val_mae: 0.0173\n",
      "Epoch 35/150\n",
      "26/26 [==============================] - 0s 6ms/step - loss: 0.0145 - mae: 0.0402 - val_loss: 5.1988e-04 - val_mae: 0.0228\n",
      "Epoch 36/150\n",
      "26/26 [==============================] - 0s 6ms/step - loss: 0.0142 - mae: 0.0368 - val_loss: 3.6822e-04 - val_mae: 0.0192\n",
      "Epoch 37/150\n",
      "26/26 [==============================] - 0s 6ms/step - loss: 0.0143 - mae: 0.0397 - val_loss: 5.8940e-04 - val_mae: 0.0243\n",
      "Epoch 38/150\n",
      "26/26 [==============================] - 0s 6ms/step - loss: 0.0141 - mae: 0.0363 - val_loss: 2.1046e-04 - val_mae: 0.0145\n",
      "Epoch 39/150\n",
      "26/26 [==============================] - 0s 6ms/step - loss: 0.0145 - mae: 0.0397 - val_loss: 4.0003e-04 - val_mae: 0.0200\n",
      "Epoch 40/150\n",
      "26/26 [==============================] - 0s 7ms/step - loss: 0.0142 - mae: 0.0371 - val_loss: 3.6589e-04 - val_mae: 0.0191\n",
      "Epoch 41/150\n",
      "26/26 [==============================] - 0s 6ms/step - loss: 0.0143 - mae: 0.0387 - val_loss: 3.7954e-04 - val_mae: 0.0195\n",
      "Epoch 42/150\n",
      "26/26 [==============================] - 0s 6ms/step - loss: 0.0141 - mae: 0.0362 - val_loss: 3.0546e-04 - val_mae: 0.0175\n",
      "Epoch 43/150\n",
      "26/26 [==============================] - 0s 6ms/step - loss: 0.0143 - mae: 0.0390 - val_loss: 5.1914e-04 - val_mae: 0.0228\n",
      "Epoch 44/150\n",
      "26/26 [==============================] - 0s 6ms/step - loss: 0.0142 - mae: 0.0376 - val_loss: 3.9876e-04 - val_mae: 0.0200\n",
      "Epoch 45/150\n",
      "26/26 [==============================] - 0s 6ms/step - loss: 0.0142 - mae: 0.0373 - val_loss: 2.8309e-04 - val_mae: 0.0168\n",
      "Epoch 46/150\n",
      "26/26 [==============================] - 0s 6ms/step - loss: 0.0143 - mae: 0.0383 - val_loss: 3.9155e-04 - val_mae: 0.0198\n",
      "Epoch 47/150\n",
      "26/26 [==============================] - 0s 7ms/step - loss: 0.0142 - mae: 0.0373 - val_loss: 2.8344e-04 - val_mae: 0.0168\n",
      "Epoch 48/150\n",
      "26/26 [==============================] - 0s 8ms/step - loss: 0.0142 - mae: 0.0373 - val_loss: 3.3124e-04 - val_mae: 0.0182\n",
      "Epoch 49/150\n",
      "26/26 [==============================] - 0s 8ms/step - loss: 0.0142 - mae: 0.0382 - val_loss: 5.8039e-04 - val_mae: 0.0241\n",
      "Epoch 50/150\n",
      "26/26 [==============================] - 0s 8ms/step - loss: 0.0142 - mae: 0.0382 - val_loss: 5.0144e-04 - val_mae: 0.0224\n",
      "Epoch 51/150\n",
      "26/26 [==============================] - 0s 11ms/step - loss: 0.0141 - mae: 0.0369 - val_loss: 2.9515e-04 - val_mae: 0.0172\n",
      "Epoch 52/150\n",
      "26/26 [==============================] - 0s 8ms/step - loss: 0.0142 - mae: 0.0365 - val_loss: 3.1650e-04 - val_mae: 0.0178\n",
      "Epoch 53/150\n",
      "26/26 [==============================] - 0s 10ms/step - loss: 0.0143 - mae: 0.0393 - val_loss: 5.6915e-04 - val_mae: 0.0239\n",
      "Epoch 54/150\n",
      "26/26 [==============================] - 0s 10ms/step - loss: 0.0141 - mae: 0.0324 - val_loss: 2.6758e-04 - val_mae: 0.0164\n",
      "Epoch 55/150\n",
      "26/26 [==============================] - 0s 9ms/step - loss: 0.0141 - mae: 0.0392 - val_loss: 9.8244e-04 - val_mae: 0.0313\n",
      "Epoch 56/150\n",
      "26/26 [==============================] - 0s 9ms/step - loss: 0.0141 - mae: 0.0389 - val_loss: 1.7712e-04 - val_mae: 0.0133\n",
      "Epoch 57/150\n",
      "26/26 [==============================] - 0s 9ms/step - loss: 0.0148 - mae: 0.0413 - val_loss: 3.9799e-04 - val_mae: 0.0199\n",
      "Epoch 58/150\n",
      "26/26 [==============================] - 0s 8ms/step - loss: 0.0144 - mae: 0.0363 - val_loss: 2.5459e-04 - val_mae: 0.0160\n",
      "Epoch 59/150\n",
      "26/26 [==============================] - 0s 8ms/step - loss: 0.0147 - mae: 0.0401 - val_loss: 5.3362e-04 - val_mae: 0.0231\n",
      "Epoch 60/150\n",
      "26/26 [==============================] - 0s 10ms/step - loss: 0.0142 - mae: 0.0375 - val_loss: 3.6734e-04 - val_mae: 0.0192\n",
      "Epoch 61/150\n",
      "26/26 [==============================] - 0s 10ms/step - loss: 0.0142 - mae: 0.0383 - val_loss: 3.7734e-04 - val_mae: 0.0194\n",
      "Epoch 62/150\n",
      "26/26 [==============================] - 0s 7ms/step - loss: 0.0141 - mae: 0.0360 - val_loss: 2.4666e-04 - val_mae: 0.0157\n",
      "Epoch 63/150\n",
      "26/26 [==============================] - 0s 8ms/step - loss: 0.0143 - mae: 0.0392 - val_loss: 4.4205e-04 - val_mae: 0.0210\n",
      "Epoch 64/150\n",
      "26/26 [==============================] - 0s 7ms/step - loss: 0.0141 - mae: 0.0362 - val_loss: 3.8563e-04 - val_mae: 0.0196\n",
      "Epoch 65/150\n",
      "26/26 [==============================] - 0s 7ms/step - loss: 0.0142 - mae: 0.0375 - val_loss: 3.8805e-04 - val_mae: 0.0197\n",
      "Epoch 66/150\n",
      "26/26 [==============================] - 0s 7ms/step - loss: 0.0140 - mae: 0.0332 - val_loss: 4.5009e-04 - val_mae: 0.0212\n",
      "Epoch 67/150\n",
      "26/26 [==============================] - 0s 6ms/step - loss: 0.0141 - mae: 0.0389 - val_loss: 6.9919e-04 - val_mae: 0.0264\n",
      "Epoch 68/150\n",
      "26/26 [==============================] - 0s 6ms/step - loss: 0.0142 - mae: 0.0385 - val_loss: 3.7257e-04 - val_mae: 0.0193\n",
      "Epoch 69/150\n",
      "26/26 [==============================] - 0s 6ms/step - loss: 0.0142 - mae: 0.0357 - val_loss: 2.7597e-04 - val_mae: 0.0166\n",
      "Epoch 70/150\n",
      "26/26 [==============================] - 0s 6ms/step - loss: 0.0141 - mae: 0.0361 - val_loss: 6.9233e-04 - val_mae: 0.0263\n",
      "Epoch 71/150\n",
      "26/26 [==============================] - 0s 6ms/step - loss: 0.0141 - mae: 0.0410 - val_loss: 2.9663e-04 - val_mae: 0.0172\n",
      "Epoch 72/150\n",
      "26/26 [==============================] - 0s 5ms/step - loss: 0.0143 - mae: 0.0390 - val_loss: 5.3045e-04 - val_mae: 0.0230\n",
      "Epoch 73/150\n",
      "26/26 [==============================] - 0s 5ms/step - loss: 0.0142 - mae: 0.0381 - val_loss: 4.9940e-04 - val_mae: 0.0223\n",
      "Epoch 74/150\n",
      "26/26 [==============================] - 0s 5ms/step - loss: 0.0143 - mae: 0.0386 - val_loss: 3.8832e-04 - val_mae: 0.0197\n",
      "Epoch 75/150\n",
      "26/26 [==============================] - 0s 6ms/step - loss: 0.0141 - mae: 0.0355 - val_loss: 2.6229e-04 - val_mae: 0.0162\n",
      "Epoch 76/150\n",
      "26/26 [==============================] - 0s 5ms/step - loss: 0.0143 - mae: 0.0375 - val_loss: 4.1621e-04 - val_mae: 0.0204\n",
      "Epoch 77/150\n",
      "26/26 [==============================] - 0s 6ms/step - loss: 0.0141 - mae: 0.0358 - val_loss: 3.2353e-04 - val_mae: 0.0180\n",
      "Epoch 78/150\n",
      "26/26 [==============================] - 0s 6ms/step - loss: 0.0141 - mae: 0.0368 - val_loss: 6.9630e-04 - val_mae: 0.0264\n",
      "Epoch 79/150\n",
      "26/26 [==============================] - 0s 6ms/step - loss: 0.0141 - mae: 0.0369 - val_loss: 3.7972e-04 - val_mae: 0.0195\n",
      "Epoch 80/150\n",
      "26/26 [==============================] - 0s 6ms/step - loss: 0.0143 - mae: 0.0384 - val_loss: 2.7940e-04 - val_mae: 0.0167\n",
      "Epoch 81/150\n",
      "26/26 [==============================] - 0s 6ms/step - loss: 0.0142 - mae: 0.0366 - val_loss: 5.1547e-04 - val_mae: 0.0227\n",
      "Epoch 82/150\n",
      "26/26 [==============================] - 0s 7ms/step - loss: 0.0142 - mae: 0.0382 - val_loss: 3.5314e-04 - val_mae: 0.0188\n",
      "Epoch 83/150\n",
      "26/26 [==============================] - 0s 7ms/step - loss: 0.0142 - mae: 0.0367 - val_loss: 3.8278e-04 - val_mae: 0.0196\n",
      "Epoch 84/150\n",
      "26/26 [==============================] - 0s 7ms/step - loss: 0.0141 - mae: 0.0371 - val_loss: 3.0006e-04 - val_mae: 0.0173\n",
      "Epoch 85/150\n",
      "26/26 [==============================] - 0s 7ms/step - loss: 0.0142 - mae: 0.0377 - val_loss: 4.0686e-04 - val_mae: 0.0202\n",
      "Epoch 86/150\n",
      "26/26 [==============================] - 0s 6ms/step - loss: 0.0141 - mae: 0.0360 - val_loss: 3.4992e-04 - val_mae: 0.0187\n",
      "Epoch 87/150\n",
      "26/26 [==============================] - 0s 6ms/step - loss: 0.0142 - mae: 0.0385 - val_loss: 3.5082e-04 - val_mae: 0.0187\n",
      "Epoch 88/150\n",
      "26/26 [==============================] - 0s 6ms/step - loss: 0.0142 - mae: 0.0369 - val_loss: 4.8948e-04 - val_mae: 0.0221\n",
      "Epoch 89/150\n",
      "26/26 [==============================] - 0s 6ms/step - loss: 0.0141 - mae: 0.0380 - val_loss: 3.2179e-04 - val_mae: 0.0179\n",
      "Epoch 90/150\n",
      "26/26 [==============================] - 0s 6ms/step - loss: 0.0142 - mae: 0.0372 - val_loss: 3.3424e-04 - val_mae: 0.0183\n",
      "Epoch 91/150\n",
      "26/26 [==============================] - 0s 6ms/step - loss: 0.0142 - mae: 0.0363 - val_loss: 3.9216e-04 - val_mae: 0.0198\n",
      "Epoch 92/150\n",
      "26/26 [==============================] - 0s 6ms/step - loss: 0.0142 - mae: 0.0378 - val_loss: 5.3001e-04 - val_mae: 0.0230\n",
      "Epoch 93/150\n",
      "26/26 [==============================] - 0s 6ms/step - loss: 0.0141 - mae: 0.0363 - val_loss: 3.6764e-04 - val_mae: 0.0192\n",
      "Epoch 94/150\n",
      "26/26 [==============================] - 0s 6ms/step - loss: 0.0142 - mae: 0.0371 - val_loss: 6.5150e-04 - val_mae: 0.0255\n",
      "Epoch 95/150\n",
      "26/26 [==============================] - 0s 6ms/step - loss: 0.0141 - mae: 0.0365 - val_loss: 5.0837e-04 - val_mae: 0.0225\n",
      "Epoch 96/150\n",
      "26/26 [==============================] - 0s 6ms/step - loss: 0.0141 - mae: 0.0377 - val_loss: 4.3173e-04 - val_mae: 0.0208\n",
      "Epoch 97/150\n",
      "26/26 [==============================] - 0s 6ms/step - loss: 0.0141 - mae: 0.0356 - val_loss: 1.8988e-04 - val_mae: 0.0138\n",
      "Epoch 98/150\n",
      "26/26 [==============================] - 0s 6ms/step - loss: 0.0143 - mae: 0.0374 - val_loss: 3.5486e-04 - val_mae: 0.0188\n",
      "Epoch 99/150\n",
      "26/26 [==============================] - 0s 7ms/step - loss: 0.0142 - mae: 0.0370 - val_loss: 4.3452e-04 - val_mae: 0.0208\n",
      "Epoch 100/150\n",
      "26/26 [==============================] - 0s 6ms/step - loss: 0.0141 - mae: 0.0372 - val_loss: 3.4198e-04 - val_mae: 0.0185\n",
      "Epoch 101/150\n",
      "26/26 [==============================] - 0s 6ms/step - loss: 0.0141 - mae: 0.0355 - val_loss: 3.1134e-04 - val_mae: 0.0176\n",
      "Epoch 102/150\n",
      "26/26 [==============================] - 0s 6ms/step - loss: 0.0141 - mae: 0.0356 - val_loss: 5.9620e-04 - val_mae: 0.0244\n",
      "Epoch 103/150\n",
      "26/26 [==============================] - 0s 6ms/step - loss: 0.0141 - mae: 0.0375 - val_loss: 3.5157e-04 - val_mae: 0.0188\n",
      "Epoch 104/150\n",
      "26/26 [==============================] - 0s 6ms/step - loss: 0.0142 - mae: 0.0370 - val_loss: 2.7853e-04 - val_mae: 0.0167\n",
      "Epoch 105/150\n",
      "26/26 [==============================] - 0s 6ms/step - loss: 0.0142 - mae: 0.0352 - val_loss: 2.2292e-04 - val_mae: 0.0149\n",
      "Epoch 106/150\n",
      "26/26 [==============================] - 0s 7ms/step - loss: 0.0144 - mae: 0.0378 - val_loss: 3.4868e-04 - val_mae: 0.0187\n",
      "Epoch 107/150\n",
      "26/26 [==============================] - 0s 7ms/step - loss: 0.0141 - mae: 0.0354 - val_loss: 2.3391e-04 - val_mae: 0.0153\n",
      "Epoch 108/150\n",
      "26/26 [==============================] - 0s 6ms/step - loss: 0.0142 - mae: 0.0364 - val_loss: 3.2891e-04 - val_mae: 0.0181\n",
      "Epoch 109/150\n",
      "26/26 [==============================] - 0s 6ms/step - loss: 0.0141 - mae: 0.0354 - val_loss: 4.6536e-04 - val_mae: 0.0216\n",
      "Epoch 110/150\n",
      "26/26 [==============================] - 0s 7ms/step - loss: 0.0141 - mae: 0.0375 - val_loss: 2.7527e-04 - val_mae: 0.0166\n",
      "Epoch 111/150\n",
      "26/26 [==============================] - 0s 6ms/step - loss: 0.0142 - mae: 0.0377 - val_loss: 3.3455e-04 - val_mae: 0.0183\n",
      "Epoch 112/150\n",
      "26/26 [==============================] - 0s 7ms/step - loss: 0.0141 - mae: 0.0360 - val_loss: 2.8436e-04 - val_mae: 0.0169\n",
      "Epoch 113/150\n",
      "26/26 [==============================] - 0s 6ms/step - loss: 0.0142 - mae: 0.0380 - val_loss: 3.8310e-04 - val_mae: 0.0196\n",
      "Epoch 114/150\n",
      "26/26 [==============================] - 0s 6ms/step - loss: 0.0141 - mae: 0.0348 - val_loss: 4.2620e-04 - val_mae: 0.0206\n",
      "Epoch 115/150\n",
      "26/26 [==============================] - 0s 7ms/step - loss: 0.0141 - mae: 0.0368 - val_loss: 3.2496e-04 - val_mae: 0.0180\n",
      "Epoch 116/150\n",
      "26/26 [==============================] - 0s 7ms/step - loss: 0.0141 - mae: 0.0361 - val_loss: 2.7520e-04 - val_mae: 0.0166\n",
      "Epoch 117/150\n",
      "26/26 [==============================] - 0s 6ms/step - loss: 0.0142 - mae: 0.0365 - val_loss: 3.3024e-04 - val_mae: 0.0182\n",
      "Epoch 118/150\n",
      "26/26 [==============================] - 0s 6ms/step - loss: 0.0141 - mae: 0.0359 - val_loss: 3.0505e-04 - val_mae: 0.0175\n",
      "Epoch 119/150\n",
      "26/26 [==============================] - 0s 6ms/step - loss: 0.0141 - mae: 0.0344 - val_loss: 5.3180e-04 - val_mae: 0.0231\n",
      "Epoch 120/150\n",
      "26/26 [==============================] - 0s 6ms/step - loss: 0.0142 - mae: 0.0391 - val_loss: 2.1995e-04 - val_mae: 0.0148\n",
      "Epoch 121/150\n",
      "26/26 [==============================] - 0s 6ms/step - loss: 0.0145 - mae: 0.0371 - val_loss: 2.7215e-04 - val_mae: 0.0165\n",
      "Epoch 122/150\n",
      "26/26 [==============================] - 0s 6ms/step - loss: 0.0142 - mae: 0.0357 - val_loss: 2.8313e-04 - val_mae: 0.0168\n",
      "Epoch 123/150\n",
      "26/26 [==============================] - 0s 6ms/step - loss: 0.0142 - mae: 0.0362 - val_loss: 4.4956e-04 - val_mae: 0.0212\n",
      "Epoch 124/150\n",
      "26/26 [==============================] - 0s 6ms/step - loss: 0.0141 - mae: 0.0361 - val_loss: 3.9236e-04 - val_mae: 0.0198\n",
      "Epoch 125/150\n",
      "26/26 [==============================] - 0s 6ms/step - loss: 0.0142 - mae: 0.0370 - val_loss: 3.2407e-04 - val_mae: 0.0180\n",
      "Epoch 126/150\n",
      "26/26 [==============================] - 0s 6ms/step - loss: 0.0141 - mae: 0.0345 - val_loss: 4.6745e-04 - val_mae: 0.0216\n",
      "Epoch 127/150\n",
      "26/26 [==============================] - 0s 6ms/step - loss: 0.0141 - mae: 0.0374 - val_loss: 3.7877e-04 - val_mae: 0.0195\n",
      "Epoch 128/150\n",
      "26/26 [==============================] - 0s 6ms/step - loss: 0.0141 - mae: 0.0363 - val_loss: 3.0930e-04 - val_mae: 0.0176\n",
      "Epoch 129/150\n",
      "26/26 [==============================] - 0s 6ms/step - loss: 0.0141 - mae: 0.0362 - val_loss: 3.1802e-04 - val_mae: 0.0178\n",
      "Epoch 130/150\n",
      "26/26 [==============================] - 0s 6ms/step - loss: 0.0141 - mae: 0.0355 - val_loss: 3.0060e-04 - val_mae: 0.0173\n",
      "Epoch 131/150\n",
      "26/26 [==============================] - 0s 7ms/step - loss: 0.0141 - mae: 0.0360 - val_loss: 3.0533e-04 - val_mae: 0.0175\n",
      "Epoch 132/150\n",
      "26/26 [==============================] - 0s 7ms/step - loss: 0.0141 - mae: 0.0358 - val_loss: 5.4714e-04 - val_mae: 0.0234\n",
      "Epoch 133/150\n",
      "26/26 [==============================] - 0s 7ms/step - loss: 0.0141 - mae: 0.0349 - val_loss: 4.7826e-04 - val_mae: 0.0219\n",
      "Epoch 134/150\n",
      "26/26 [==============================] - 0s 7ms/step - loss: 0.0142 - mae: 0.0384 - val_loss: 3.6542e-04 - val_mae: 0.0191\n",
      "Epoch 135/150\n",
      "26/26 [==============================] - 0s 7ms/step - loss: 0.0140 - mae: 0.0341 - val_loss: 2.2763e-04 - val_mae: 0.0151\n",
      "Epoch 136/150\n",
      "26/26 [==============================] - 0s 7ms/step - loss: 0.0142 - mae: 0.0364 - val_loss: 2.8208e-04 - val_mae: 0.0168\n",
      "Epoch 137/150\n",
      "26/26 [==============================] - 0s 6ms/step - loss: 0.0141 - mae: 0.0351 - val_loss: 3.7528e-04 - val_mae: 0.0194\n",
      "Epoch 138/150\n",
      "26/26 [==============================] - 0s 6ms/step - loss: 0.0141 - mae: 0.0368 - val_loss: 3.8121e-04 - val_mae: 0.0195\n",
      "Epoch 139/150\n",
      "26/26 [==============================] - 0s 6ms/step - loss: 0.0141 - mae: 0.0364 - val_loss: 3.4853e-04 - val_mae: 0.0187\n",
      "Epoch 140/150\n",
      "26/26 [==============================] - 0s 6ms/step - loss: 0.0141 - mae: 0.0362 - val_loss: 2.6078e-04 - val_mae: 0.0161\n",
      "Epoch 141/150\n",
      "26/26 [==============================] - 0s 7ms/step - loss: 0.0141 - mae: 0.0355 - val_loss: 2.1993e-04 - val_mae: 0.0148\n",
      "Epoch 142/150\n",
      "26/26 [==============================] - 0s 6ms/step - loss: 0.0141 - mae: 0.0346 - val_loss: 2.3475e-04 - val_mae: 0.0153\n",
      "Epoch 143/150\n",
      "26/26 [==============================] - 0s 6ms/step - loss: 0.0141 - mae: 0.0350 - val_loss: 2.9323e-04 - val_mae: 0.0171\n",
      "Epoch 144/150\n",
      "26/26 [==============================] - 0s 6ms/step - loss: 0.0141 - mae: 0.0360 - val_loss: 2.7802e-04 - val_mae: 0.0167\n",
      "Epoch 145/150\n",
      "26/26 [==============================] - 0s 6ms/step - loss: 0.0141 - mae: 0.0348 - val_loss: 4.2365e-04 - val_mae: 0.0206\n",
      "Epoch 146/150\n",
      "26/26 [==============================] - 0s 6ms/step - loss: 0.0141 - mae: 0.0376 - val_loss: 3.0563e-04 - val_mae: 0.0175\n",
      "Epoch 147/150\n",
      "26/26 [==============================] - 0s 6ms/step - loss: 0.0141 - mae: 0.0354 - val_loss: 2.5706e-04 - val_mae: 0.0160\n",
      "Epoch 148/150\n",
      "26/26 [==============================] - 0s 6ms/step - loss: 0.0141 - mae: 0.0362 - val_loss: 3.1207e-04 - val_mae: 0.0177\n",
      "Epoch 149/150\n",
      "26/26 [==============================] - 0s 6ms/step - loss: 0.0140 - mae: 0.0346 - val_loss: 2.1626e-04 - val_mae: 0.0147\n",
      "Epoch 150/150\n",
      "26/26 [==============================] - 0s 6ms/step - loss: 0.0142 - mae: 0.0366 - val_loss: 3.2836e-04 - val_mae: 0.0181\n"
     ]
    }
   ],
   "source": [
    "#Using mae and mse\n",
    "#model.compile(optimizer=tf.keras.optimizers.SGD(learning_rate=0.001, momentum=0.9),metrics=['mae'],loss='mse')\n",
    "model.compile(optimizer=tf.keras.optimizers.Adam(),metrics=['mae'],loss='mse')\n",
    "model.summary()\n",
    "hist=model.fit(train_set,epochs=150,validation_data=valid_set, batch_size=1)"
   ]
  },
  {
   "cell_type": "code",
   "execution_count": 28,
   "metadata": {},
   "outputs": [
    {
     "data": {
      "image/png": "[encoded data removed]",
      "text/plain": [
       "<Figure size 432x288 with 1 Axes>"
      ]
     },
     "metadata": {
      "needs_background": "light"
     },
     "output_type": "display_data"
    }
   ],
   "source": [
    "import matplotlib.pyplot as plt\n",
    "\n",
    "plt.plot(hist.history['mae'], label='MAE (training data)')\n",
    "plt.plot(hist.history['val_mae'], label='MAE (validation data)')\n",
    "\n",
    "plt.title('MAE Cluster 3')\n",
    "plt.ylabel('MAE value')\n",
    "plt.xlabel('No. epoch')\n",
    "plt.legend(loc=\"upper left\")\n",
    "plt.show()"
   ]
  },
  {
   "cell_type": "code",
   "execution_count": 29,
   "metadata": {},
   "outputs": [
    {
     "data": {
      "image/png": "[encoded data removed]",
      "text/plain": [
       "<Figure size 432x288 with 1 Axes>"
      ]
     },
     "metadata": {
      "needs_background": "light"
     },
     "output_type": "display_data"
    }
   ],
   "source": [
    "plt.plot(hist.history['loss'], label='loss (training data)')\n",
    "plt.plot(hist.history['val_loss'], label='loss (validation data)')\n",
    "\n",
    "plt.title(\"Loss Cluster 3 (MSE)\")\n",
    "plt.ylabel('MSE value')\n",
    "plt.xlabel('No. epoch')\n",
    "plt.legend(loc=\"upper left\")\n",
    "plt.show()"
   ]
  },
  {
   "cell_type": "code",
   "execution_count": 30,
   "metadata": {},
   "outputs": [
    {
     "data": {
      "text/plain": [
       "array([[0.01949013],\n",
       "       [0.01949013],\n",
       "       [0.01949013]], dtype=float32)"
      ]
     },
     "execution_count": 30,
     "metadata": {},
     "output_type": "execute_result"
    }
   ],
   "source": [
    "prediksi=model.predict(np.array(x_valid))\n",
    "prediksi"
   ]
  },
  {
   "cell_type": "code",
   "execution_count": 31,
   "metadata": {},
   "outputs": [],
   "source": [
    "prediksi=prediksi.flatten()"
   ]
  },
  {
   "cell_type": "code",
   "execution_count": 32,
   "metadata": {},
   "outputs": [],
   "source": [
    "hasil=np.concatenate((series,prediksi))"
   ]
  },
  {
   "cell_type": "code",
   "execution_count": 33,
   "metadata": {},
   "outputs": [
    {
     "data": {
      "text/plain": [
       "(57,)"
      ]
     },
     "execution_count": 33,
     "metadata": {},
     "output_type": "execute_result"
    }
   ],
   "source": [
    "hasil.shape"
   ]
  },
  {
   "cell_type": "code",
   "execution_count": 34,
   "metadata": {},
   "outputs": [],
   "source": [
    "asli = np.concatenate((series,series_t))\n"
   ]
  },
  {
   "cell_type": "code",
   "execution_count": 35,
   "metadata": {},
   "outputs": [],
   "source": [
    "hasil = hasil * (max-min) + min\n",
    "asli = asli * (max-min) + min"
   ]
  },
  {
   "cell_type": "code",
   "execution_count": 36,
   "metadata": {},
   "outputs": [
    {
     "data": {
      "text/plain": [
       "[]"
      ]
     },
     "execution_count": 36,
     "metadata": {},
     "output_type": "execute_result"
    },
    {
     "data": {
      "image/png": "[encoded data removed]",
      "text/plain": [
       "<Figure size 432x288 with 1 Axes>"
      ]
     },
     "metadata": {
      "needs_background": "light"
     },
     "output_type": "display_data"
    }
   ],
   "source": [
    "plt.plot(asli,marker = 'o',label='data asli')\n",
    "plt.plot(hasil,marker = 'o',label='data prediksi')\n",
    "plt.title('penjualan produk cluster 3')\n",
    "plt.legend()\n",
    "plt.plot()"
   ]
  },
  {
   "cell_type": "code",
   "execution_count": 37,
   "metadata": {},
   "outputs": [],
   "source": [
    "model.save('cluster3_newdata.h5')"
   ]
  },
  {
   "cell_type": "code",
   "execution_count": null,
   "metadata": {},
   "outputs": [],
   "source": []
  }
 ],
 "metadata": {
  "interpreter": {
   "hash": "c9d83cc02921a4738836e4c62bbe4b1fbf4384e37b2198c6e81d5aaf3defd2c8"
  },
  "kernelspec": {
   "display_name": "Python 3.8.5 ('base')",
   "language": "python",
   "name": "python3"
  },
  "language_info": {
   "codemirror_mode": {
    "name": "ipython",
    "version": 3
   },
   "file_extension": ".py",
   "mimetype": "text/x-python",
   "name": "python",
   "nbconvert_exporter": "python",
   "pygments_lexer": "ipython3",
   "version": "3.8.5"
  },
  "orig_nbformat": 4
 },
 "nbformat": 4,
 "nbformat_minor": 2
}
