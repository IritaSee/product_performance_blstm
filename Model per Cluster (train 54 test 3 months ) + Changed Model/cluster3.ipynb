{
 "cells": [
  {
   "cell_type": "markdown",
   "metadata": {},
   "source": [
    "# Permodelan Cluster 3"
   ]
  },
  {
   "cell_type": "markdown",
   "metadata": {},
   "source": [
    "Import segala pustaka (library) yang digunakan"
   ]
  },
  {
   "cell_type": "code",
   "execution_count": 2,
   "metadata": {},
   "outputs": [],
   "source": [
    "import tensorflow as tf\n",
    "import pandas as pd\n",
    "import numpy as np\n",
    "import matplotlib.pyplot as plt\n",
    "from sklearn.preprocessing import MinMaxScaler"
   ]
  },
  {
   "cell_type": "markdown",
   "metadata": {},
   "source": [
    "## Pembacaan Data"
   ]
  },
  {
   "cell_type": "markdown",
   "metadata": {},
   "source": [
    "Baca dataset train"
   ]
  },
  {
   "cell_type": "code",
   "execution_count": 3,
   "metadata": {},
   "outputs": [
    {
     "data": {
      "text/html": [
       "<div>\n",
       "<style scoped>\n",
       "    .dataframe tbody tr th:only-of-type {\n",
       "        vertical-align: middle;\n",
       "    }\n",
       "\n",
       "    .dataframe tbody tr th {\n",
       "        vertical-align: top;\n",
       "    }\n",
       "\n",
       "    .dataframe thead th {\n",
       "        text-align: right;\n",
       "    }\n",
       "</style>\n",
       "<table border=\"1\" class=\"dataframe\">\n",
       "  <thead>\n",
       "    <tr style=\"text-align: right;\">\n",
       "      <th></th>\n",
       "      <th>KodeBarang</th>\n",
       "      <th>1</th>\n",
       "      <th>2</th>\n",
       "      <th>3</th>\n",
       "      <th>4</th>\n",
       "      <th>5</th>\n",
       "      <th>6</th>\n",
       "      <th>7</th>\n",
       "      <th>8</th>\n",
       "      <th>9</th>\n",
       "      <th>...</th>\n",
       "      <th>46</th>\n",
       "      <th>47</th>\n",
       "      <th>48</th>\n",
       "      <th>49</th>\n",
       "      <th>50</th>\n",
       "      <th>51</th>\n",
       "      <th>52</th>\n",
       "      <th>53</th>\n",
       "      <th>54</th>\n",
       "      <th>cluster</th>\n",
       "    </tr>\n",
       "  </thead>\n",
       "  <tbody>\n",
       "    <tr>\n",
       "      <th>0</th>\n",
       "      <td>04121</td>\n",
       "      <td>7</td>\n",
       "      <td>9</td>\n",
       "      <td>6</td>\n",
       "      <td>9</td>\n",
       "      <td>40</td>\n",
       "      <td>0</td>\n",
       "      <td>3</td>\n",
       "      <td>0</td>\n",
       "      <td>7</td>\n",
       "      <td>...</td>\n",
       "      <td>67</td>\n",
       "      <td>77</td>\n",
       "      <td>11</td>\n",
       "      <td>57</td>\n",
       "      <td>43</td>\n",
       "      <td>50</td>\n",
       "      <td>37</td>\n",
       "      <td>21</td>\n",
       "      <td>136</td>\n",
       "      <td>0</td>\n",
       "    </tr>\n",
       "    <tr>\n",
       "      <th>1</th>\n",
       "      <td>18031</td>\n",
       "      <td>230</td>\n",
       "      <td>227</td>\n",
       "      <td>279</td>\n",
       "      <td>153</td>\n",
       "      <td>190</td>\n",
       "      <td>256</td>\n",
       "      <td>267</td>\n",
       "      <td>305</td>\n",
       "      <td>238</td>\n",
       "      <td>...</td>\n",
       "      <td>336</td>\n",
       "      <td>153</td>\n",
       "      <td>103</td>\n",
       "      <td>221</td>\n",
       "      <td>360</td>\n",
       "      <td>280</td>\n",
       "      <td>240</td>\n",
       "      <td>120</td>\n",
       "      <td>548</td>\n",
       "      <td>1</td>\n",
       "    </tr>\n",
       "    <tr>\n",
       "      <th>2</th>\n",
       "      <td>04161</td>\n",
       "      <td>102</td>\n",
       "      <td>50</td>\n",
       "      <td>45</td>\n",
       "      <td>41</td>\n",
       "      <td>71</td>\n",
       "      <td>11</td>\n",
       "      <td>52</td>\n",
       "      <td>14</td>\n",
       "      <td>66</td>\n",
       "      <td>...</td>\n",
       "      <td>21</td>\n",
       "      <td>20</td>\n",
       "      <td>7</td>\n",
       "      <td>33</td>\n",
       "      <td>21</td>\n",
       "      <td>28</td>\n",
       "      <td>30</td>\n",
       "      <td>10</td>\n",
       "      <td>18</td>\n",
       "      <td>0</td>\n",
       "    </tr>\n",
       "    <tr>\n",
       "      <th>3</th>\n",
       "      <td>04162</td>\n",
       "      <td>272</td>\n",
       "      <td>155</td>\n",
       "      <td>214</td>\n",
       "      <td>226</td>\n",
       "      <td>268</td>\n",
       "      <td>110</td>\n",
       "      <td>204</td>\n",
       "      <td>253</td>\n",
       "      <td>193</td>\n",
       "      <td>...</td>\n",
       "      <td>102</td>\n",
       "      <td>118</td>\n",
       "      <td>120</td>\n",
       "      <td>211</td>\n",
       "      <td>292</td>\n",
       "      <td>105</td>\n",
       "      <td>108</td>\n",
       "      <td>101</td>\n",
       "      <td>117</td>\n",
       "      <td>1</td>\n",
       "    </tr>\n",
       "    <tr>\n",
       "      <th>4</th>\n",
       "      <td>04163</td>\n",
       "      <td>28</td>\n",
       "      <td>28</td>\n",
       "      <td>29</td>\n",
       "      <td>52</td>\n",
       "      <td>44</td>\n",
       "      <td>21</td>\n",
       "      <td>47</td>\n",
       "      <td>15</td>\n",
       "      <td>24</td>\n",
       "      <td>...</td>\n",
       "      <td>18</td>\n",
       "      <td>23</td>\n",
       "      <td>22</td>\n",
       "      <td>16</td>\n",
       "      <td>22</td>\n",
       "      <td>31</td>\n",
       "      <td>36</td>\n",
       "      <td>17</td>\n",
       "      <td>14</td>\n",
       "      <td>0</td>\n",
       "    </tr>\n",
       "    <tr>\n",
       "      <th>...</th>\n",
       "      <td>...</td>\n",
       "      <td>...</td>\n",
       "      <td>...</td>\n",
       "      <td>...</td>\n",
       "      <td>...</td>\n",
       "      <td>...</td>\n",
       "      <td>...</td>\n",
       "      <td>...</td>\n",
       "      <td>...</td>\n",
       "      <td>...</td>\n",
       "      <td>...</td>\n",
       "      <td>...</td>\n",
       "      <td>...</td>\n",
       "      <td>...</td>\n",
       "      <td>...</td>\n",
       "      <td>...</td>\n",
       "      <td>...</td>\n",
       "      <td>...</td>\n",
       "      <td>...</td>\n",
       "      <td>...</td>\n",
       "      <td>...</td>\n",
       "    </tr>\n",
       "    <tr>\n",
       "      <th>101</th>\n",
       "      <td>04157</td>\n",
       "      <td>55</td>\n",
       "      <td>64</td>\n",
       "      <td>44</td>\n",
       "      <td>61</td>\n",
       "      <td>30</td>\n",
       "      <td>1</td>\n",
       "      <td>24</td>\n",
       "      <td>37</td>\n",
       "      <td>67</td>\n",
       "      <td>...</td>\n",
       "      <td>20</td>\n",
       "      <td>10</td>\n",
       "      <td>300</td>\n",
       "      <td>34</td>\n",
       "      <td>7</td>\n",
       "      <td>7</td>\n",
       "      <td>6</td>\n",
       "      <td>4</td>\n",
       "      <td>21</td>\n",
       "      <td>0</td>\n",
       "    </tr>\n",
       "    <tr>\n",
       "      <th>102</th>\n",
       "      <td>18104</td>\n",
       "      <td>46</td>\n",
       "      <td>295</td>\n",
       "      <td>83</td>\n",
       "      <td>112</td>\n",
       "      <td>70</td>\n",
       "      <td>40</td>\n",
       "      <td>18</td>\n",
       "      <td>140</td>\n",
       "      <td>97</td>\n",
       "      <td>...</td>\n",
       "      <td>47</td>\n",
       "      <td>54</td>\n",
       "      <td>27</td>\n",
       "      <td>15</td>\n",
       "      <td>57</td>\n",
       "      <td>132</td>\n",
       "      <td>66</td>\n",
       "      <td>34</td>\n",
       "      <td>146</td>\n",
       "      <td>0</td>\n",
       "    </tr>\n",
       "    <tr>\n",
       "      <th>103</th>\n",
       "      <td>18106</td>\n",
       "      <td>200</td>\n",
       "      <td>204</td>\n",
       "      <td>0</td>\n",
       "      <td>2</td>\n",
       "      <td>10</td>\n",
       "      <td>7</td>\n",
       "      <td>0</td>\n",
       "      <td>27</td>\n",
       "      <td>74</td>\n",
       "      <td>...</td>\n",
       "      <td>15</td>\n",
       "      <td>136</td>\n",
       "      <td>15</td>\n",
       "      <td>15</td>\n",
       "      <td>14</td>\n",
       "      <td>131</td>\n",
       "      <td>84</td>\n",
       "      <td>12</td>\n",
       "      <td>14</td>\n",
       "      <td>0</td>\n",
       "    </tr>\n",
       "    <tr>\n",
       "      <th>104</th>\n",
       "      <td>18092</td>\n",
       "      <td>297</td>\n",
       "      <td>418</td>\n",
       "      <td>329</td>\n",
       "      <td>70</td>\n",
       "      <td>498</td>\n",
       "      <td>59</td>\n",
       "      <td>298</td>\n",
       "      <td>376</td>\n",
       "      <td>259</td>\n",
       "      <td>...</td>\n",
       "      <td>450</td>\n",
       "      <td>498</td>\n",
       "      <td>254</td>\n",
       "      <td>260</td>\n",
       "      <td>336</td>\n",
       "      <td>493</td>\n",
       "      <td>438</td>\n",
       "      <td>408</td>\n",
       "      <td>322</td>\n",
       "      <td>1</td>\n",
       "    </tr>\n",
       "    <tr>\n",
       "      <th>105</th>\n",
       "      <td>04143</td>\n",
       "      <td>132</td>\n",
       "      <td>80</td>\n",
       "      <td>103</td>\n",
       "      <td>113</td>\n",
       "      <td>81</td>\n",
       "      <td>108</td>\n",
       "      <td>124</td>\n",
       "      <td>101</td>\n",
       "      <td>119</td>\n",
       "      <td>...</td>\n",
       "      <td>153</td>\n",
       "      <td>130</td>\n",
       "      <td>121</td>\n",
       "      <td>189</td>\n",
       "      <td>92</td>\n",
       "      <td>226</td>\n",
       "      <td>181</td>\n",
       "      <td>112</td>\n",
       "      <td>214</td>\n",
       "      <td>1</td>\n",
       "    </tr>\n",
       "  </tbody>\n",
       "</table>\n",
       "<p>106 rows × 56 columns</p>\n",
       "</div>"
      ],
      "text/plain": [
       "    KodeBarang    1    2    3    4    5    6    7    8    9  ...   46   47  \\\n",
       "0        04121    7    9    6    9   40    0    3    0    7  ...   67   77   \n",
       "1        18031  230  227  279  153  190  256  267  305  238  ...  336  153   \n",
       "2        04161  102   50   45   41   71   11   52   14   66  ...   21   20   \n",
       "3        04162  272  155  214  226  268  110  204  253  193  ...  102  118   \n",
       "4        04163   28   28   29   52   44   21   47   15   24  ...   18   23   \n",
       "..         ...  ...  ...  ...  ...  ...  ...  ...  ...  ...  ...  ...  ...   \n",
       "101      04157   55   64   44   61   30    1   24   37   67  ...   20   10   \n",
       "102      18104   46  295   83  112   70   40   18  140   97  ...   47   54   \n",
       "103      18106  200  204    0    2   10    7    0   27   74  ...   15  136   \n",
       "104      18092  297  418  329   70  498   59  298  376  259  ...  450  498   \n",
       "105      04143  132   80  103  113   81  108  124  101  119  ...  153  130   \n",
       "\n",
       "      48   49   50   51   52   53   54  cluster  \n",
       "0     11   57   43   50   37   21  136        0  \n",
       "1    103  221  360  280  240  120  548        1  \n",
       "2      7   33   21   28   30   10   18        0  \n",
       "3    120  211  292  105  108  101  117        1  \n",
       "4     22   16   22   31   36   17   14        0  \n",
       "..   ...  ...  ...  ...  ...  ...  ...      ...  \n",
       "101  300   34    7    7    6    4   21        0  \n",
       "102   27   15   57  132   66   34  146        0  \n",
       "103   15   15   14  131   84   12   14        0  \n",
       "104  254  260  336  493  438  408  322        1  \n",
       "105  121  189   92  226  181  112  214        1  \n",
       "\n",
       "[106 rows x 56 columns]"
      ]
     },
     "execution_count": 3,
     "metadata": {},
     "output_type": "execute_result"
    }
   ],
   "source": [
    "data=pd.read_excel('../dataset_new.xlsx',sheet_name='train')\n",
    "data"
   ]
  },
  {
   "cell_type": "markdown",
   "metadata": {},
   "source": [
    "Baca dataset test"
   ]
  },
  {
   "cell_type": "code",
   "execution_count": 4,
   "metadata": {},
   "outputs": [
    {
     "data": {
      "text/html": [
       "<div>\n",
       "<style scoped>\n",
       "    .dataframe tbody tr th:only-of-type {\n",
       "        vertical-align: middle;\n",
       "    }\n",
       "\n",
       "    .dataframe tbody tr th {\n",
       "        vertical-align: top;\n",
       "    }\n",
       "\n",
       "    .dataframe thead th {\n",
       "        text-align: right;\n",
       "    }\n",
       "</style>\n",
       "<table border=\"1\" class=\"dataframe\">\n",
       "  <thead>\n",
       "    <tr style=\"text-align: right;\">\n",
       "      <th></th>\n",
       "      <th>KodeBarang</th>\n",
       "      <th>bulan 1</th>\n",
       "      <th>bulan 2</th>\n",
       "      <th>bulan 3</th>\n",
       "      <th>bulan 4</th>\n",
       "      <th>bulan 5</th>\n",
       "      <th>bulan 6</th>\n",
       "    </tr>\n",
       "  </thead>\n",
       "  <tbody>\n",
       "    <tr>\n",
       "      <th>0</th>\n",
       "      <td>04121</td>\n",
       "      <td>5</td>\n",
       "      <td>12</td>\n",
       "      <td>8</td>\n",
       "      <td>14</td>\n",
       "      <td>40</td>\n",
       "      <td>40</td>\n",
       "    </tr>\n",
       "    <tr>\n",
       "      <th>1</th>\n",
       "      <td>18031</td>\n",
       "      <td>573</td>\n",
       "      <td>340</td>\n",
       "      <td>441</td>\n",
       "      <td>270</td>\n",
       "      <td>488</td>\n",
       "      <td>240</td>\n",
       "    </tr>\n",
       "    <tr>\n",
       "      <th>2</th>\n",
       "      <td>04161</td>\n",
       "      <td>27</td>\n",
       "      <td>5</td>\n",
       "      <td>26</td>\n",
       "      <td>34</td>\n",
       "      <td>40</td>\n",
       "      <td>56</td>\n",
       "    </tr>\n",
       "    <tr>\n",
       "      <th>3</th>\n",
       "      <td>04162</td>\n",
       "      <td>162</td>\n",
       "      <td>82</td>\n",
       "      <td>72</td>\n",
       "      <td>98</td>\n",
       "      <td>126</td>\n",
       "      <td>120</td>\n",
       "    </tr>\n",
       "    <tr>\n",
       "      <th>4</th>\n",
       "      <td>04163</td>\n",
       "      <td>23</td>\n",
       "      <td>20</td>\n",
       "      <td>9</td>\n",
       "      <td>5</td>\n",
       "      <td>22</td>\n",
       "      <td>6</td>\n",
       "    </tr>\n",
       "    <tr>\n",
       "      <th>...</th>\n",
       "      <td>...</td>\n",
       "      <td>...</td>\n",
       "      <td>...</td>\n",
       "      <td>...</td>\n",
       "      <td>...</td>\n",
       "      <td>...</td>\n",
       "      <td>...</td>\n",
       "    </tr>\n",
       "    <tr>\n",
       "      <th>101</th>\n",
       "      <td>04157</td>\n",
       "      <td>138</td>\n",
       "      <td>14</td>\n",
       "      <td>12</td>\n",
       "      <td>21</td>\n",
       "      <td>25</td>\n",
       "      <td>10</td>\n",
       "    </tr>\n",
       "    <tr>\n",
       "      <th>102</th>\n",
       "      <td>18104</td>\n",
       "      <td>60</td>\n",
       "      <td>103</td>\n",
       "      <td>39</td>\n",
       "      <td>87</td>\n",
       "      <td>276</td>\n",
       "      <td>40</td>\n",
       "    </tr>\n",
       "    <tr>\n",
       "      <th>103</th>\n",
       "      <td>18106</td>\n",
       "      <td>16</td>\n",
       "      <td>7</td>\n",
       "      <td>65</td>\n",
       "      <td>24</td>\n",
       "      <td>13</td>\n",
       "      <td>27</td>\n",
       "    </tr>\n",
       "    <tr>\n",
       "      <th>104</th>\n",
       "      <td>18092</td>\n",
       "      <td>721</td>\n",
       "      <td>184</td>\n",
       "      <td>150</td>\n",
       "      <td>488</td>\n",
       "      <td>648</td>\n",
       "      <td>149</td>\n",
       "    </tr>\n",
       "    <tr>\n",
       "      <th>105</th>\n",
       "      <td>04143</td>\n",
       "      <td>164</td>\n",
       "      <td>189</td>\n",
       "      <td>187</td>\n",
       "      <td>232</td>\n",
       "      <td>219</td>\n",
       "      <td>229</td>\n",
       "    </tr>\n",
       "  </tbody>\n",
       "</table>\n",
       "<p>106 rows × 7 columns</p>\n",
       "</div>"
      ],
      "text/plain": [
       "    KodeBarang  bulan 1  bulan 2  bulan 3  bulan 4  bulan 5  bulan 6\n",
       "0        04121        5       12        8       14       40       40\n",
       "1        18031      573      340      441      270      488      240\n",
       "2        04161       27        5       26       34       40       56\n",
       "3        04162      162       82       72       98      126      120\n",
       "4        04163       23       20        9        5       22        6\n",
       "..         ...      ...      ...      ...      ...      ...      ...\n",
       "101      04157      138       14       12       21       25       10\n",
       "102      18104       60      103       39       87      276       40\n",
       "103      18106       16        7       65       24       13       27\n",
       "104      18092      721      184      150      488      648      149\n",
       "105      04143      164      189      187      232      219      229\n",
       "\n",
       "[106 rows x 7 columns]"
      ]
     },
     "execution_count": 4,
     "metadata": {},
     "output_type": "execute_result"
    }
   ],
   "source": [
    "data_test = pd.read_excel('../dataset_new.xlsx',sheet_name='test')\n",
    "data_test"
   ]
  },
  {
   "cell_type": "markdown",
   "metadata": {},
   "source": [
    "Hilangkan judul kolom agar tidak terbaca di deep learning\n",
    "Pastikan cluster pada dataset sudah berupa angka"
   ]
  },
  {
   "cell_type": "code",
   "execution_count": 5,
   "metadata": {},
   "outputs": [],
   "source": [
    "clusters=data['cluster']\n",
    "data_test['cluster'] = clusters\n",
    "# data_test.drop(['bulan 4','bulan 5','bulan 6'],axis=1,inplace=True)"
   ]
  },
  {
   "cell_type": "code",
   "execution_count": 6,
   "metadata": {},
   "outputs": [
    {
     "data": {
      "text/html": [
       "<div>\n",
       "<style scoped>\n",
       "    .dataframe tbody tr th:only-of-type {\n",
       "        vertical-align: middle;\n",
       "    }\n",
       "\n",
       "    .dataframe tbody tr th {\n",
       "        vertical-align: top;\n",
       "    }\n",
       "\n",
       "    .dataframe thead th {\n",
       "        text-align: right;\n",
       "    }\n",
       "</style>\n",
       "<table border=\"1\" class=\"dataframe\">\n",
       "  <thead>\n",
       "    <tr style=\"text-align: right;\">\n",
       "      <th></th>\n",
       "      <th>KodeBarang</th>\n",
       "      <th>bulan 1</th>\n",
       "      <th>bulan 2</th>\n",
       "      <th>bulan 3</th>\n",
       "      <th>bulan 4</th>\n",
       "      <th>bulan 5</th>\n",
       "      <th>bulan 6</th>\n",
       "      <th>cluster</th>\n",
       "    </tr>\n",
       "  </thead>\n",
       "  <tbody>\n",
       "    <tr>\n",
       "      <th>0</th>\n",
       "      <td>04121</td>\n",
       "      <td>5</td>\n",
       "      <td>12</td>\n",
       "      <td>8</td>\n",
       "      <td>14</td>\n",
       "      <td>40</td>\n",
       "      <td>40</td>\n",
       "      <td>0</td>\n",
       "    </tr>\n",
       "    <tr>\n",
       "      <th>1</th>\n",
       "      <td>18031</td>\n",
       "      <td>573</td>\n",
       "      <td>340</td>\n",
       "      <td>441</td>\n",
       "      <td>270</td>\n",
       "      <td>488</td>\n",
       "      <td>240</td>\n",
       "      <td>1</td>\n",
       "    </tr>\n",
       "    <tr>\n",
       "      <th>2</th>\n",
       "      <td>04161</td>\n",
       "      <td>27</td>\n",
       "      <td>5</td>\n",
       "      <td>26</td>\n",
       "      <td>34</td>\n",
       "      <td>40</td>\n",
       "      <td>56</td>\n",
       "      <td>0</td>\n",
       "    </tr>\n",
       "    <tr>\n",
       "      <th>3</th>\n",
       "      <td>04162</td>\n",
       "      <td>162</td>\n",
       "      <td>82</td>\n",
       "      <td>72</td>\n",
       "      <td>98</td>\n",
       "      <td>126</td>\n",
       "      <td>120</td>\n",
       "      <td>1</td>\n",
       "    </tr>\n",
       "    <tr>\n",
       "      <th>4</th>\n",
       "      <td>04163</td>\n",
       "      <td>23</td>\n",
       "      <td>20</td>\n",
       "      <td>9</td>\n",
       "      <td>5</td>\n",
       "      <td>22</td>\n",
       "      <td>6</td>\n",
       "      <td>0</td>\n",
       "    </tr>\n",
       "    <tr>\n",
       "      <th>...</th>\n",
       "      <td>...</td>\n",
       "      <td>...</td>\n",
       "      <td>...</td>\n",
       "      <td>...</td>\n",
       "      <td>...</td>\n",
       "      <td>...</td>\n",
       "      <td>...</td>\n",
       "      <td>...</td>\n",
       "    </tr>\n",
       "    <tr>\n",
       "      <th>101</th>\n",
       "      <td>04157</td>\n",
       "      <td>138</td>\n",
       "      <td>14</td>\n",
       "      <td>12</td>\n",
       "      <td>21</td>\n",
       "      <td>25</td>\n",
       "      <td>10</td>\n",
       "      <td>0</td>\n",
       "    </tr>\n",
       "    <tr>\n",
       "      <th>102</th>\n",
       "      <td>18104</td>\n",
       "      <td>60</td>\n",
       "      <td>103</td>\n",
       "      <td>39</td>\n",
       "      <td>87</td>\n",
       "      <td>276</td>\n",
       "      <td>40</td>\n",
       "      <td>0</td>\n",
       "    </tr>\n",
       "    <tr>\n",
       "      <th>103</th>\n",
       "      <td>18106</td>\n",
       "      <td>16</td>\n",
       "      <td>7</td>\n",
       "      <td>65</td>\n",
       "      <td>24</td>\n",
       "      <td>13</td>\n",
       "      <td>27</td>\n",
       "      <td>0</td>\n",
       "    </tr>\n",
       "    <tr>\n",
       "      <th>104</th>\n",
       "      <td>18092</td>\n",
       "      <td>721</td>\n",
       "      <td>184</td>\n",
       "      <td>150</td>\n",
       "      <td>488</td>\n",
       "      <td>648</td>\n",
       "      <td>149</td>\n",
       "      <td>1</td>\n",
       "    </tr>\n",
       "    <tr>\n",
       "      <th>105</th>\n",
       "      <td>04143</td>\n",
       "      <td>164</td>\n",
       "      <td>189</td>\n",
       "      <td>187</td>\n",
       "      <td>232</td>\n",
       "      <td>219</td>\n",
       "      <td>229</td>\n",
       "      <td>1</td>\n",
       "    </tr>\n",
       "  </tbody>\n",
       "</table>\n",
       "<p>106 rows × 8 columns</p>\n",
       "</div>"
      ],
      "text/plain": [
       "    KodeBarang  bulan 1  bulan 2  bulan 3  bulan 4  bulan 5  bulan 6  cluster\n",
       "0        04121        5       12        8       14       40       40        0\n",
       "1        18031      573      340      441      270      488      240        1\n",
       "2        04161       27        5       26       34       40       56        0\n",
       "3        04162      162       82       72       98      126      120        1\n",
       "4        04163       23       20        9        5       22        6        0\n",
       "..         ...      ...      ...      ...      ...      ...      ...      ...\n",
       "101      04157      138       14       12       21       25       10        0\n",
       "102      18104       60      103       39       87      276       40        0\n",
       "103      18106       16        7       65       24       13       27        0\n",
       "104      18092      721      184      150      488      648      149        1\n",
       "105      04143      164      189      187      232      219      229        1\n",
       "\n",
       "[106 rows x 8 columns]"
      ]
     },
     "execution_count": 6,
     "metadata": {},
     "output_type": "execute_result"
    }
   ],
   "source": [
    "data_test"
   ]
  },
  {
   "cell_type": "code",
   "execution_count": 7,
   "metadata": {},
   "outputs": [],
   "source": [
    "import matplotlib.pyplot as plt\n",
    "from sklearn.preprocessing import MinMaxScaler"
   ]
  },
  {
   "cell_type": "markdown",
   "metadata": {},
   "source": [
    "Make sure ada berapa cluster?"
   ]
  },
  {
   "cell_type": "code",
   "execution_count": 8,
   "metadata": {},
   "outputs": [
    {
     "data": {
      "text/plain": [
       "4"
      ]
     },
     "execution_count": 8,
     "metadata": {},
     "output_type": "execute_result"
    }
   ],
   "source": [
    "len(data['cluster'].unique())"
   ]
  },
  {
   "cell_type": "markdown",
   "metadata": {},
   "source": [
    "Ambil jumlah produk dalam setiap Cluster"
   ]
  },
  {
   "cell_type": "code",
   "execution_count": 9,
   "metadata": {},
   "outputs": [
    {
     "name": "stdout",
     "output_type": "stream",
     "text": [
      "Jumlah Produk:\n",
      "70\n",
      "Jumlah Produk:\n",
      "31\n",
      "Jumlah Produk:\n",
      "4\n",
      "Jumlah Produk:\n",
      "1\n"
     ]
    }
   ],
   "source": [
    "#now lets take clusters\n",
    "c0 = data.query(\"cluster == 0\")\n",
    "print(\"Jumlah Produk:\")\n",
    "print(c0['KodeBarang'].size)\n",
    "c1 = data.query(\"cluster == 1\")\n",
    "print(\"Jumlah Produk:\")\n",
    "print(c1['KodeBarang'].size)\n",
    "c2 = data.query(\"cluster == 2\")\n",
    "print(\"Jumlah Produk:\")\n",
    "print(c2['KodeBarang'].size)\n",
    "c3 = data.query(\"cluster == 3\")\n",
    "print(\"Jumlah Produk:\")\n",
    "print(c3['KodeBarang'].size)"
   ]
  },
  {
   "cell_type": "code",
   "execution_count": 10,
   "metadata": {},
   "outputs": [
    {
     "name": "stdout",
     "output_type": "stream",
     "text": [
      "Jumlah Produk:\n",
      "70\n",
      "Jumlah Produk:\n",
      "31\n",
      "Jumlah Produk:\n",
      "4\n",
      "Jumlah Produk:\n",
      "1\n"
     ]
    }
   ],
   "source": [
    "c0_t = data_test.query(\"cluster == 0\")\n",
    "print(\"Jumlah Produk:\")\n",
    "print(c0['KodeBarang'].size)\n",
    "c1_t = data_test.query(\"cluster == 1\")\n",
    "print(\"Jumlah Produk:\")\n",
    "print(c1['KodeBarang'].size)\n",
    "c2_t = data_test.query(\"cluster == 2\")\n",
    "print(\"Jumlah Produk:\")\n",
    "print(c2['KodeBarang'].size)\n",
    "c3_t = data_test.query(\"cluster == 3\")\n",
    "print(\"Jumlah Produk:\")\n",
    "print(c3['KodeBarang'].size)"
   ]
  },
  {
   "cell_type": "markdown",
   "metadata": {},
   "source": [
    "## Pembuatan model cluster 3"
   ]
  },
  {
   "cell_type": "markdown",
   "metadata": {},
   "source": [
    "Buat fungsi bikin `windowed dataset` jadi si data di couple in sama waktu (timeframe)"
   ]
  },
  {
   "cell_type": "code",
   "execution_count": 11,
   "metadata": {},
   "outputs": [],
   "source": [
    "#oke ada ternyata yang cuman sendirian (1 product di cluster tersebut), kita beresin dia dulu, the easiest, dan biar keliatan kita\n",
    "#ngapain aja di time series ini\n",
    "def windowed_dataset(series, window_size, batch_size, shuffle_buffer):\n",
    "    series = tf.expand_dims(series, axis=-1)\n",
    "    ds = tf.data.Dataset.from_tensor_slices(series)\n",
    "    ds = ds.window(window_size + 1, shift=1, drop_remainder=True)\n",
    "    ds = ds.flat_map(lambda w: w.batch(window_size + 1))\n",
    "    ds = ds.shuffle(shuffle_buffer)\n",
    "    ds = ds.map(lambda w: (w[:-1], w[1:]))\n",
    "    return ds.batch(batch_size).prefetch(1)\n",
    "# ini fungsinya buat nge ubah dataset jadi windowed"
   ]
  },
  {
   "cell_type": "code",
   "execution_count": 12,
   "metadata": {},
   "outputs": [],
   "source": [
    "#next kita ubah bentuk data nya dari yang tadinya kesamping jadi ke bawah, tapi pertama mau aku drop dulu cluster sama kode produknya\n",
    "c3=c3.drop(columns=['KodeBarang','cluster'])\n",
    "c3_t = c3_t.drop(columns=['KodeBarang','cluster'])"
   ]
  },
  {
   "cell_type": "markdown",
   "metadata": {},
   "source": [
    "Plot per produk cluster 3"
   ]
  },
  {
   "cell_type": "code",
   "execution_count": 13,
   "metadata": {},
   "outputs": [
    {
     "data": {
      "text/plain": [
       "<AxesSubplot:>"
      ]
     },
     "execution_count": 13,
     "metadata": {},
     "output_type": "execute_result"
    },
    {
     "data": {
      "image/png": "[encoded data removed]",
      "text/plain": [
       "<Figure size 432x288 with 1 Axes>"
      ]
     },
     "metadata": {
      "needs_background": "light"
     },
     "output_type": "display_data"
    }
   ],
   "source": [
    "c3.T.plot()"
   ]
  },
  {
   "cell_type": "code",
   "execution_count": 14,
   "metadata": {},
   "outputs": [
    {
     "name": "stdout",
     "output_type": "stream",
     "text": [
      "[0, 1, 2, 3, 4, 5, 6, 7, 8, 9, 10, 11, 12, 13, 14, 15, 16, 17, 18, 19, 20, 21, 22, 23, 24, 25, 26, 27, 28, 29, 30, 31, 32, 33, 34, 35, 36, 37, 38, 39, 40, 41, 42, 43, 44, 45, 46, 47, 48, 49, 50, 51, 52, 53] [497, 725, 1233, 1145, 149, 422, 341, 893, 655, 1022, 851, 758, 933, 1928, 912, 1106, 452, 151, 18079, 714, 617, 843, 436, 769, 1264, 1049, 1317, 962, 1008, 394, 659, 1046, 213, 0, 0, 2, 0, 0, 0, 0, 0, 0, 0, 0, 0, 0, -5, 0, 0, -5, 0, 0, 0, 0]\n"
     ]
    }
   ],
   "source": [
    "#next, buat dia kayak mejeneng time series seperti biasanya, which is datanya ke bawah, \n",
    "new_c3=[]\n",
    "time=[]\n",
    "for idx,_ in enumerate(c3):\n",
    "    new_c3.append(c3.iloc[0,idx])\n",
    "    time.append(idx)\n",
    "print(time,new_c3)"
   ]
  },
  {
   "cell_type": "code",
   "execution_count": 15,
   "metadata": {},
   "outputs": [],
   "source": [
    "#sama aja cuman data test\n",
    "new_c3_t=[]\n",
    "time_t=[]\n",
    "i = 55\n",
    "for idx,a in enumerate(c3_t):\n",
    "    new_c3_t.append(c3_t[a].mean())\n",
    "    time_t.append(i)\n",
    "    i+=1"
   ]
  },
  {
   "cell_type": "code",
   "execution_count": 16,
   "metadata": {},
   "outputs": [
    {
     "data": {
      "text/plain": [
       "[0.0, 0.0, 0.0, 0.0, 0.0, 0.0]"
      ]
     },
     "execution_count": 16,
     "metadata": {},
     "output_type": "execute_result"
    }
   ],
   "source": [
    "new_c3_t"
   ]
  },
  {
   "cell_type": "code",
   "execution_count": 17,
   "metadata": {},
   "outputs": [],
   "source": [
    "#normalisasi, karena gap nya ada yang sampe ribuan, biar lebih gampang tugas ann nya\n",
    "series=new_c3\n",
    "min = np.min(series)\n",
    "max = np.max(series)\n",
    "series = series - min\n",
    "series = series / (max-min)\n",
    "\n",
    "# scaler = MinMaxScaler(feature_range=(0, 1))\n",
    "# series = scaler.fit_transform(series)\n",
    "\n",
    "time = np.array(time)"
   ]
  },
  {
   "cell_type": "code",
   "execution_count": 18,
   "metadata": {},
   "outputs": [],
   "source": [
    "# Karena data test tidak ada gap nya, maka kita tidak perlu normalisasi\n",
    "series_t=new_c3_t\n",
    "\n",
    "time_t = np.array(time_t)"
   ]
  },
  {
   "cell_type": "code",
   "execution_count": 19,
   "metadata": {},
   "outputs": [
    {
     "data": {
      "text/plain": [
       "[0.0, 0.0, 0.0, 0.0, 0.0, 0.0]"
      ]
     },
     "execution_count": 19,
     "metadata": {},
     "output_type": "execute_result"
    }
   ],
   "source": [
    "series_t"
   ]
  },
  {
   "cell_type": "code",
   "execution_count": 20,
   "metadata": {},
   "outputs": [],
   "source": [
    "split_time = 3 # ini berapa bulan terkahir yang mau di potong buat pengujian?\n",
    "\n",
    "time_train = time\n",
    "x_train =  series\n",
    "time_valid =  time_t\n",
    "x_valid =  series_t"
   ]
  },
  {
   "cell_type": "code",
   "execution_count": 21,
   "metadata": {},
   "outputs": [
    {
     "data": {
      "text/plain": [
       "[0.0, 0.0, 0.0, 0.0, 0.0, 0.0]"
      ]
     },
     "execution_count": 21,
     "metadata": {},
     "output_type": "execute_result"
    }
   ],
   "source": [
    "x_valid"
   ]
  },
  {
   "cell_type": "code",
   "execution_count": 22,
   "metadata": {},
   "outputs": [],
   "source": [
    "#buat data biar dibagi per window, jadi me masang masangkan waktu dan value,\n",
    "window_size = 2\n",
    "batch_size = 8\n",
    "shuffle_buffer_size = 10\n",
    "\n",
    "train_set = windowed_dataset(x_train, window_size, batch_size, shuffle_buffer_size)\n",
    "valid_set = windowed_dataset(x_valid, window_size, batch_size, shuffle_buffer_size)"
   ]
  },
  {
   "cell_type": "code",
   "execution_count": 23,
   "metadata": {},
   "outputs": [
    {
     "data": {
      "text/plain": [
       "<PrefetchDataset shapes: ((None, None, 1), (None, None, 1)), types: (tf.float64, tf.float64)>"
      ]
     },
     "execution_count": 23,
     "metadata": {},
     "output_type": "execute_result"
    }
   ],
   "source": [
    "train_set"
   ]
  },
  {
   "cell_type": "code",
   "execution_count": 24,
   "metadata": {},
   "outputs": [
    {
     "data": {
      "text/plain": [
       "<PrefetchDataset shapes: ((None, None, 1), (None, None, 1)), types: (tf.float32, tf.float32)>"
      ]
     },
     "execution_count": 24,
     "metadata": {},
     "output_type": "execute_result"
    }
   ],
   "source": [
    "valid_set"
   ]
  },
  {
   "cell_type": "markdown",
   "metadata": {},
   "source": [
    "Penyusunan deep learning nya\n",
    "\n",
    "Kita Menggunakan BLSTM atau *Bidirectional Long Short Term Memory*. BLSTM adalah proses pembuatan jaringan syaraf tiruan untuk memiliki urutan informasi dalam kedua arah mundur (masa depan ke masa lalu) atau maju (masa lalu ke masa depan).\n",
    "\n",
    "kalo ini pake BLSTM dengan input layer sebanyak 2 neuron, BLSTM layer ada dua, yang pertama ada 64 neuron, terus yang kedua ada 32 neuron, dibuat mengkerucut (segitiga terbalik) seolah kita menyederhanakan data datanya, jadi kan makin dalem makin sedikit tuh, karena ada yang ga kepake kepake buat menentukan sales nya dan lain lain, \n",
    "\n",
    "terus setiap selesai masuk BLSTM layer, ada dropout, itu tuh untuk mengeliminasi secara random (di case ini 50%) sambungan antara neuron, dan nge \"matiin\" neuronnya itu juga, mensimulasi degradasi neuron dan sambungannya saat kita tidur, alias proses mengubah ingatan jadi jangka menengah ke panjang dari apa yang kita dapatkan pada hari itu. "
   ]
  },
  {
   "cell_type": "code",
   "execution_count": 25,
   "metadata": {},
   "outputs": [],
   "source": [
    "model = tf.keras.Sequential([\n",
    "        tf.keras.layers.Dense(2, input_shape=[None, 1]),\n",
    "        tf.keras.layers.Bidirectional(tf.keras.layers.LSTM(64,return_sequences=True)),\n",
    "        # tf.keras.layers.Bidirectional(tf.keras.layers.LSTM(32)),\n",
    "        \n",
    "        # tf.keras.layers.Flatten(),\n",
    "        tf.keras.layers.Dense(1024, activation='relu'),\n",
    "        tf.keras.layers.Dropout(0.3),\n",
    "        tf.keras.layers.Dense(512, activation='relu',kernel_regularizer=tf.keras.regularizers.l1(l1=0.01)),\n",
    "        tf.keras.layers.Dense(64, activation='relu',kernel_regularizer=tf.keras.regularizers.l1_l2(l1=0.01, l2=0.01)),\n",
    "        tf.keras.layers.Dense(32, activation='relu'),\n",
    "        tf.keras.layers.Dense(16, activation='relu'),\n",
    "        tf.keras.layers.Dense(8, activation='relu'),\n",
    "        # tf.keras.layers.Dropout(0.3),\n",
    "        tf.keras.layers.Dense(1)\n",
    "    ])\n",
    "\n",
    "    #the blstm part"
   ]
  },
  {
   "cell_type": "code",
   "execution_count": 26,
   "metadata": {},
   "outputs": [
    {
     "name": "stdout",
     "output_type": "stream",
     "text": [
      "Model: \"sequential\"\n",
      "_________________________________________________________________\n",
      "Layer (type)                 Output Shape              Param #   \n",
      "=================================================================\n",
      "dense (Dense)                (None, None, 2)           4         \n",
      "_________________________________________________________________\n",
      "bidirectional (Bidirectional (None, None, 128)         34304     \n",
      "_________________________________________________________________\n",
      "dense_1 (Dense)              (None, None, 1024)        132096    \n",
      "_________________________________________________________________\n",
      "dropout (Dropout)            (None, None, 1024)        0         \n",
      "_________________________________________________________________\n",
      "dense_2 (Dense)              (None, None, 512)         524800    \n",
      "_________________________________________________________________\n",
      "dense_3 (Dense)              (None, None, 64)          32832     \n",
      "_________________________________________________________________\n",
      "dense_4 (Dense)              (None, None, 32)          2080      \n",
      "_________________________________________________________________\n",
      "dense_5 (Dense)              (None, None, 16)          528       \n",
      "_________________________________________________________________\n",
      "dense_6 (Dense)              (None, None, 8)           136       \n",
      "_________________________________________________________________\n",
      "dense_7 (Dense)              (None, None, 1)           9         \n",
      "=================================================================\n",
      "Total params: 726,789\n",
      "Trainable params: 726,789\n",
      "Non-trainable params: 0\n",
      "_________________________________________________________________\n",
      "Epoch 1/150\n",
      "7/7 [==============================] - 8s 209ms/step - loss: 166.8526 - mae: 0.0570 - val_loss: 145.1088 - val_mae: 0.0436\n",
      "Epoch 2/150\n",
      "7/7 [==============================] - 0s 19ms/step - loss: 132.0970 - mae: 0.0438 - val_loss: 113.1117 - val_mae: 0.0337\n",
      "Epoch 3/150\n",
      "7/7 [==============================] - 0s 14ms/step - loss: 101.8248 - mae: 0.0441 - val_loss: 85.4284 - val_mae: 0.0370\n",
      "Epoch 4/150\n",
      "7/7 [==============================] - 0s 13ms/step - loss: 75.7619 - mae: 0.0460 - val_loss: 61.8443 - val_mae: 0.0414\n",
      "Epoch 5/150\n",
      "7/7 [==============================] - 0s 12ms/step - loss: 53.8327 - mae: 0.0446 - val_loss: 42.4227 - val_mae: 0.0389\n",
      "Epoch 6/150\n",
      "7/7 [==============================] - 0s 12ms/step - loss: 36.0649 - mae: 0.0466 - val_loss: 27.1976 - val_mae: 0.0427\n",
      "Epoch 7/150\n",
      "7/7 [==============================] - 0s 12ms/step - loss: 22.4805 - mae: 0.0453 - val_loss: 16.0842 - val_mae: 0.0401\n",
      "Epoch 8/150\n",
      "7/7 [==============================] - 0s 11ms/step - loss: 13.0823 - mae: 0.0448 - val_loss: 9.2755 - val_mae: 0.0390\n",
      "Epoch 9/150\n",
      "7/7 [==============================] - 0s 11ms/step - loss: 7.9232 - mae: 0.0441 - val_loss: 6.6621 - val_mae: 0.0379\n",
      "Epoch 10/150\n",
      "7/7 [==============================] - 0s 11ms/step - loss: 5.9925 - mae: 0.0453 - val_loss: 4.6588 - val_mae: 0.0422\n",
      "Epoch 11/150\n",
      "7/7 [==============================] - 0s 12ms/step - loss: 3.8793 - mae: 0.0464 - val_loss: 2.9900 - val_mae: 0.0448\n",
      "Epoch 12/150\n",
      "7/7 [==============================] - 0s 11ms/step - loss: 2.6712 - mae: 0.0466 - val_loss: 2.0689 - val_mae: 0.0441\n",
      "Epoch 13/150\n",
      "7/7 [==============================] - 0s 12ms/step - loss: 1.8077 - mae: 0.0451 - val_loss: 1.4584 - val_mae: 0.0407\n",
      "Epoch 14/150\n",
      "7/7 [==============================] - 0s 11ms/step - loss: 1.3027 - mae: 0.0455 - val_loss: 1.0793 - val_mae: 0.0418\n",
      "Epoch 15/150\n",
      "7/7 [==============================] - 0s 11ms/step - loss: 1.0236 - mae: 0.0453 - val_loss: 0.9142 - val_mae: 0.0417\n",
      "Epoch 16/150\n",
      "7/7 [==============================] - 0s 11ms/step - loss: 0.9058 - mae: 0.0455 - val_loss: 0.8270 - val_mae: 0.0419\n",
      "Epoch 17/150\n",
      "7/7 [==============================] - 0s 11ms/step - loss: 0.8182 - mae: 0.0458 - val_loss: 0.7670 - val_mae: 0.0429\n",
      "Epoch 18/150\n",
      "7/7 [==============================] - 0s 11ms/step - loss: 0.7700 - mae: 0.0460 - val_loss: 0.7461 - val_mae: 0.0431\n",
      "Epoch 19/150\n",
      "7/7 [==============================] - 0s 11ms/step - loss: 0.7466 - mae: 0.0447 - val_loss: 0.7262 - val_mae: 0.0404\n",
      "Epoch 20/150\n",
      "7/7 [==============================] - 0s 12ms/step - loss: 0.7284 - mae: 0.0458 - val_loss: 0.6953 - val_mae: 0.0425\n",
      "Epoch 21/150\n",
      "7/7 [==============================] - 0s 12ms/step - loss: 0.7133 - mae: 0.0447 - val_loss: 0.6921 - val_mae: 0.0403\n",
      "Epoch 22/150\n",
      "7/7 [==============================] - 0s 11ms/step - loss: 0.7176 - mae: 0.0459 - val_loss: 0.7035 - val_mae: 0.0426\n",
      "Epoch 23/150\n",
      "7/7 [==============================] - 0s 11ms/step - loss: 0.7157 - mae: 0.0463 - val_loss: 0.6925 - val_mae: 0.0432\n",
      "Epoch 24/150\n",
      "7/7 [==============================] - 0s 11ms/step - loss: 0.7098 - mae: 0.0458 - val_loss: 0.6959 - val_mae: 0.0425\n",
      "Epoch 25/150\n",
      "7/7 [==============================] - 0s 11ms/step - loss: 0.7107 - mae: 0.0458 - val_loss: 0.6968 - val_mae: 0.0421\n",
      "Epoch 26/150\n",
      "7/7 [==============================] - 0s 12ms/step - loss: 0.7069 - mae: 0.0458 - val_loss: 0.6954 - val_mae: 0.0416\n",
      "Epoch 27/150\n",
      "7/7 [==============================] - 0s 12ms/step - loss: 0.7116 - mae: 0.0449 - val_loss: 0.6916 - val_mae: 0.0400\n",
      "Epoch 28/150\n",
      "7/7 [==============================] - 0s 11ms/step - loss: 0.7111 - mae: 0.0448 - val_loss: 0.6841 - val_mae: 0.0399\n",
      "Epoch 29/150\n",
      "7/7 [==============================] - 0s 11ms/step - loss: 0.7062 - mae: 0.0442 - val_loss: 0.6891 - val_mae: 0.0393\n",
      "Epoch 30/150\n",
      "7/7 [==============================] - 0s 11ms/step - loss: 0.7080 - mae: 0.0458 - val_loss: 0.6988 - val_mae: 0.0432\n",
      "Epoch 31/150\n",
      "7/7 [==============================] - 0s 11ms/step - loss: 0.7133 - mae: 0.0468 - val_loss: 0.6915 - val_mae: 0.0447\n",
      "Epoch 32/150\n",
      "7/7 [==============================] - 0s 12ms/step - loss: 0.7104 - mae: 0.0456 - val_loss: 0.6939 - val_mae: 0.0418\n",
      "Epoch 33/150\n",
      "7/7 [==============================] - 0s 12ms/step - loss: 0.7075 - mae: 0.0454 - val_loss: 0.6914 - val_mae: 0.0413\n",
      "Epoch 34/150\n",
      "7/7 [==============================] - 0s 11ms/step - loss: 0.7097 - mae: 0.0454 - val_loss: 0.6957 - val_mae: 0.0414\n",
      "Epoch 35/150\n",
      "7/7 [==============================] - 0s 11ms/step - loss: 0.7106 - mae: 0.0454 - val_loss: 0.6917 - val_mae: 0.0413\n",
      "Epoch 36/150\n",
      "7/7 [==============================] - 0s 12ms/step - loss: 0.7066 - mae: 0.0452 - val_loss: 0.6955 - val_mae: 0.0411\n",
      "Epoch 37/150\n",
      "7/7 [==============================] - 0s 11ms/step - loss: 0.7127 - mae: 0.0456 - val_loss: 0.6970 - val_mae: 0.0421\n",
      "Epoch 38/150\n",
      "7/7 [==============================] - 0s 11ms/step - loss: 0.7085 - mae: 0.0446 - val_loss: 0.6876 - val_mae: 0.0402\n",
      "Epoch 39/150\n",
      "7/7 [==============================] - 0s 11ms/step - loss: 0.7083 - mae: 0.0466 - val_loss: 0.6914 - val_mae: 0.0470\n",
      "Epoch 40/150\n",
      "7/7 [==============================] - 0s 11ms/step - loss: 0.7119 - mae: 0.0474 - val_loss: 0.6901 - val_mae: 0.0475\n",
      "Epoch 41/150\n",
      "7/7 [==============================] - 0s 11ms/step - loss: 0.7081 - mae: 0.0463 - val_loss: 0.6887 - val_mae: 0.0437\n",
      "Epoch 42/150\n",
      "7/7 [==============================] - 0s 12ms/step - loss: 0.7078 - mae: 0.0440 - val_loss: 0.7040 - val_mae: 0.0381\n",
      "Epoch 43/150\n",
      "7/7 [==============================] - 0s 11ms/step - loss: 0.7106 - mae: 0.0458 - val_loss: 0.6934 - val_mae: 0.0420\n",
      "Epoch 44/150\n",
      "7/7 [==============================] - 0s 12ms/step - loss: 0.7092 - mae: 0.0452 - val_loss: 0.6902 - val_mae: 0.0421\n",
      "Epoch 45/150\n",
      "7/7 [==============================] - 0s 11ms/step - loss: 0.7114 - mae: 0.0462 - val_loss: 0.6919 - val_mae: 0.0434\n",
      "Epoch 46/150\n",
      "7/7 [==============================] - 0s 11ms/step - loss: 0.7088 - mae: 0.0453 - val_loss: 0.6869 - val_mae: 0.0417\n",
      "Epoch 47/150\n",
      "7/7 [==============================] - 0s 11ms/step - loss: 0.7092 - mae: 0.0454 - val_loss: 0.6944 - val_mae: 0.0415\n",
      "Epoch 48/150\n",
      "7/7 [==============================] - 0s 12ms/step - loss: 0.7117 - mae: 0.0453 - val_loss: 0.6911 - val_mae: 0.0412\n",
      "Epoch 49/150\n",
      "7/7 [==============================] - 0s 12ms/step - loss: 0.7061 - mae: 0.0448 - val_loss: 0.6982 - val_mae: 0.0406\n",
      "Epoch 50/150\n",
      "7/7 [==============================] - 0s 11ms/step - loss: 0.7083 - mae: 0.0454 - val_loss: 0.6973 - val_mae: 0.0423\n",
      "Epoch 51/150\n",
      "7/7 [==============================] - 0s 12ms/step - loss: 0.7101 - mae: 0.0459 - val_loss: 0.6846 - val_mae: 0.0432\n",
      "Epoch 52/150\n",
      "7/7 [==============================] - 0s 12ms/step - loss: 0.7065 - mae: 0.0457 - val_loss: 0.6922 - val_mae: 0.0427\n",
      "Epoch 53/150\n",
      "7/7 [==============================] - 0s 12ms/step - loss: 0.7107 - mae: 0.0455 - val_loss: 0.6948 - val_mae: 0.0421\n",
      "Epoch 54/150\n",
      "7/7 [==============================] - 0s 11ms/step - loss: 0.7124 - mae: 0.0456 - val_loss: 0.7002 - val_mae: 0.0425\n",
      "Epoch 55/150\n",
      "7/7 [==============================] - 0s 11ms/step - loss: 0.7101 - mae: 0.0462 - val_loss: 0.6894 - val_mae: 0.0429\n",
      "Epoch 56/150\n",
      "7/7 [==============================] - 0s 11ms/step - loss: 0.7072 - mae: 0.0451 - val_loss: 0.6893 - val_mae: 0.0406\n",
      "Epoch 57/150\n",
      "7/7 [==============================] - 0s 11ms/step - loss: 0.7083 - mae: 0.0450 - val_loss: 0.6918 - val_mae: 0.0404\n",
      "Epoch 58/150\n",
      "7/7 [==============================] - 0s 12ms/step - loss: 0.7096 - mae: 0.0447 - val_loss: 0.6933 - val_mae: 0.0403\n",
      "Epoch 59/150\n",
      "7/7 [==============================] - 0s 11ms/step - loss: 0.7075 - mae: 0.0448 - val_loss: 0.6939 - val_mae: 0.0414\n",
      "Epoch 60/150\n",
      "7/7 [==============================] - 0s 12ms/step - loss: 0.7083 - mae: 0.0464 - val_loss: 0.6940 - val_mae: 0.0448\n",
      "Epoch 61/150\n",
      "7/7 [==============================] - 0s 12ms/step - loss: 0.7098 - mae: 0.0450 - val_loss: 0.6908 - val_mae: 0.0415\n",
      "Epoch 62/150\n",
      "7/7 [==============================] - 0s 11ms/step - loss: 0.7107 - mae: 0.0455 - val_loss: 0.7005 - val_mae: 0.0424\n",
      "Epoch 63/150\n",
      "7/7 [==============================] - 0s 13ms/step - loss: 0.7134 - mae: 0.0457 - val_loss: 0.6831 - val_mae: 0.0425\n",
      "Epoch 64/150\n",
      "7/7 [==============================] - 0s 11ms/step - loss: 0.7034 - mae: 0.0453 - val_loss: 0.6830 - val_mae: 0.0418\n",
      "Epoch 65/150\n",
      "7/7 [==============================] - 0s 11ms/step - loss: 0.7086 - mae: 0.0459 - val_loss: 0.6981 - val_mae: 0.0430\n",
      "Epoch 66/150\n",
      "7/7 [==============================] - 0s 11ms/step - loss: 0.7116 - mae: 0.0456 - val_loss: 0.6993 - val_mae: 0.0426\n",
      "Epoch 67/150\n",
      "7/7 [==============================] - 0s 11ms/step - loss: 0.7084 - mae: 0.0455 - val_loss: 0.6945 - val_mae: 0.0418\n",
      "Epoch 68/150\n",
      "7/7 [==============================] - 0s 11ms/step - loss: 0.7086 - mae: 0.0451 - val_loss: 0.6855 - val_mae: 0.0412\n",
      "Epoch 69/150\n",
      "7/7 [==============================] - 0s 11ms/step - loss: 0.7057 - mae: 0.0459 - val_loss: 0.6892 - val_mae: 0.0427\n",
      "Epoch 70/150\n",
      "7/7 [==============================] - 0s 12ms/step - loss: 0.7087 - mae: 0.0454 - val_loss: 0.6935 - val_mae: 0.0416\n",
      "Epoch 71/150\n",
      "7/7 [==============================] - 0s 11ms/step - loss: 0.7156 - mae: 0.0455 - val_loss: 0.6903 - val_mae: 0.0414\n",
      "Epoch 72/150\n",
      "7/7 [==============================] - 0s 12ms/step - loss: 0.7071 - mae: 0.0453 - val_loss: 0.6917 - val_mae: 0.0411\n",
      "Epoch 73/150\n",
      "7/7 [==============================] - 0s 13ms/step - loss: 0.7058 - mae: 0.0455 - val_loss: 0.6969 - val_mae: 0.0421\n",
      "Epoch 74/150\n",
      "7/7 [==============================] - 0s 11ms/step - loss: 0.7092 - mae: 0.0450 - val_loss: 0.6982 - val_mae: 0.0410\n",
      "Epoch 75/150\n",
      "7/7 [==============================] - 0s 11ms/step - loss: 0.7110 - mae: 0.0456 - val_loss: 0.6900 - val_mae: 0.0421\n",
      "Epoch 76/150\n",
      "7/7 [==============================] - 0s 11ms/step - loss: 0.7080 - mae: 0.0445 - val_loss: 0.6859 - val_mae: 0.0406\n",
      "Epoch 77/150\n",
      "7/7 [==============================] - 0s 11ms/step - loss: 0.7060 - mae: 0.0457 - val_loss: 0.6895 - val_mae: 0.0434\n",
      "Epoch 78/150\n",
      "7/7 [==============================] - 0s 11ms/step - loss: 0.7105 - mae: 0.0465 - val_loss: 0.7010 - val_mae: 0.0453\n",
      "Epoch 79/150\n",
      "7/7 [==============================] - 0s 11ms/step - loss: 0.7123 - mae: 0.0457 - val_loss: 0.6937 - val_mae: 0.0429\n",
      "Epoch 80/150\n",
      "7/7 [==============================] - 0s 11ms/step - loss: 0.7074 - mae: 0.0487 - val_loss: 0.6860 - val_mae: 0.0466\n",
      "Epoch 81/150\n",
      "7/7 [==============================] - 0s 11ms/step - loss: 0.7053 - mae: 0.0458 - val_loss: 0.6871 - val_mae: 0.0406\n",
      "Epoch 82/150\n",
      "7/7 [==============================] - 0s 12ms/step - loss: 0.7088 - mae: 0.0427 - val_loss: 0.6982 - val_mae: 0.0345\n",
      "Epoch 83/150\n",
      "7/7 [==============================] - 0s 12ms/step - loss: 0.7110 - mae: 0.0483 - val_loss: 0.6940 - val_mae: 0.0466\n",
      "Epoch 84/150\n",
      "7/7 [==============================] - 0s 12ms/step - loss: 0.7092 - mae: 0.0474 - val_loss: 0.6934 - val_mae: 0.0453\n",
      "Epoch 85/150\n",
      "7/7 [==============================] - 0s 11ms/step - loss: 0.7093 - mae: 0.0462 - val_loss: 0.6943 - val_mae: 0.0416\n",
      "Epoch 86/150\n",
      "7/7 [==============================] - 0s 11ms/step - loss: 0.7086 - mae: 0.0445 - val_loss: 0.6894 - val_mae: 0.0393\n",
      "Epoch 87/150\n",
      "7/7 [==============================] - 0s 11ms/step - loss: 0.7087 - mae: 0.0443 - val_loss: 0.6862 - val_mae: 0.0387\n",
      "Epoch 88/150\n",
      "7/7 [==============================] - 0s 11ms/step - loss: 0.7101 - mae: 0.0462 - val_loss: 0.6866 - val_mae: 0.0446\n",
      "Epoch 89/150\n",
      "7/7 [==============================] - 0s 11ms/step - loss: 0.7057 - mae: 0.0470 - val_loss: 0.6917 - val_mae: 0.0454\n",
      "Epoch 90/150\n",
      "7/7 [==============================] - 0s 11ms/step - loss: 0.7041 - mae: 0.0455 - val_loss: 0.7043 - val_mae: 0.0416\n",
      "Epoch 91/150\n",
      "7/7 [==============================] - 0s 11ms/step - loss: 0.7146 - mae: 0.0446 - val_loss: 0.6972 - val_mae: 0.0394\n",
      "Epoch 92/150\n",
      "7/7 [==============================] - 0s 12ms/step - loss: 0.7100 - mae: 0.0446 - val_loss: 0.6892 - val_mae: 0.0398\n",
      "Epoch 93/150\n",
      "7/7 [==============================] - 0s 11ms/step - loss: 0.7045 - mae: 0.0456 - val_loss: 0.6873 - val_mae: 0.0428\n",
      "Epoch 94/150\n",
      "7/7 [==============================] - 0s 11ms/step - loss: 0.7084 - mae: 0.0456 - val_loss: 0.6906 - val_mae: 0.0432\n",
      "Epoch 95/150\n",
      "7/7 [==============================] - 0s 11ms/step - loss: 0.7091 - mae: 0.0453 - val_loss: 0.6902 - val_mae: 0.0425\n",
      "Epoch 96/150\n",
      "7/7 [==============================] - 0s 13ms/step - loss: 0.7088 - mae: 0.0457 - val_loss: 0.6965 - val_mae: 0.0428\n",
      "Epoch 97/150\n",
      "7/7 [==============================] - 0s 12ms/step - loss: 0.7117 - mae: 0.0455 - val_loss: 0.6957 - val_mae: 0.0425\n",
      "Epoch 98/150\n",
      "7/7 [==============================] - 0s 11ms/step - loss: 0.7062 - mae: 0.0455 - val_loss: 0.6919 - val_mae: 0.0427\n",
      "Epoch 99/150\n",
      "7/7 [==============================] - 0s 11ms/step - loss: 0.7083 - mae: 0.0457 - val_loss: 0.6913 - val_mae: 0.0428\n",
      "Epoch 100/150\n",
      "7/7 [==============================] - 0s 12ms/step - loss: 0.7087 - mae: 0.0458 - val_loss: 0.6851 - val_mae: 0.0427\n",
      "Epoch 101/150\n",
      "7/7 [==============================] - 0s 11ms/step - loss: 0.7072 - mae: 0.0447 - val_loss: 0.6855 - val_mae: 0.0407\n",
      "Epoch 102/150\n",
      "7/7 [==============================] - 0s 11ms/step - loss: 0.7086 - mae: 0.0457 - val_loss: 0.6979 - val_mae: 0.0423\n",
      "Epoch 103/150\n",
      "7/7 [==============================] - 0s 11ms/step - loss: 0.7092 - mae: 0.0455 - val_loss: 0.6914 - val_mae: 0.0423\n",
      "Epoch 104/150\n",
      "7/7 [==============================] - 0s 12ms/step - loss: 0.7095 - mae: 0.0455 - val_loss: 0.6906 - val_mae: 0.0424\n",
      "Epoch 105/150\n",
      "7/7 [==============================] - 0s 11ms/step - loss: 0.7088 - mae: 0.0453 - val_loss: 0.6922 - val_mae: 0.0417\n",
      "Epoch 106/150\n",
      "7/7 [==============================] - 0s 11ms/step - loss: 0.7066 - mae: 0.0452 - val_loss: 0.6921 - val_mae: 0.0415\n",
      "Epoch 107/150\n",
      "7/7 [==============================] - 0s 11ms/step - loss: 0.7073 - mae: 0.0453 - val_loss: 0.6923 - val_mae: 0.0418\n",
      "Epoch 108/150\n",
      "7/7 [==============================] - 0s 11ms/step - loss: 0.7087 - mae: 0.0447 - val_loss: 0.6928 - val_mae: 0.0408\n",
      "Epoch 109/150\n",
      "7/7 [==============================] - 0s 11ms/step - loss: 0.7097 - mae: 0.0444 - val_loss: 0.6969 - val_mae: 0.0399\n",
      "Epoch 110/150\n",
      "7/7 [==============================] - 0s 11ms/step - loss: 0.7093 - mae: 0.0453 - val_loss: 0.6905 - val_mae: 0.0425\n",
      "Epoch 111/150\n",
      "7/7 [==============================] - 0s 11ms/step - loss: 0.7085 - mae: 0.0458 - val_loss: 0.6813 - val_mae: 0.0441\n",
      "Epoch 112/150\n",
      "7/7 [==============================] - 0s 11ms/step - loss: 0.7061 - mae: 0.0459 - val_loss: 0.6913 - val_mae: 0.0440\n",
      "Epoch 113/150\n",
      "7/7 [==============================] - 0s 11ms/step - loss: 0.7075 - mae: 0.0458 - val_loss: 0.6935 - val_mae: 0.0433\n",
      "Epoch 114/150\n",
      "7/7 [==============================] - 0s 11ms/step - loss: 0.7098 - mae: 0.0458 - val_loss: 0.7041 - val_mae: 0.0427\n",
      "Epoch 115/150\n",
      "7/7 [==============================] - 0s 12ms/step - loss: 0.7098 - mae: 0.0445 - val_loss: 0.6915 - val_mae: 0.0396\n",
      "Epoch 116/150\n",
      "7/7 [==============================] - 0s 11ms/step - loss: 0.7065 - mae: 0.0444 - val_loss: 0.6882 - val_mae: 0.0403\n",
      "Epoch 117/150\n",
      "7/7 [==============================] - 0s 11ms/step - loss: 0.7089 - mae: 0.0452 - val_loss: 0.6886 - val_mae: 0.0423\n",
      "Epoch 118/150\n",
      "7/7 [==============================] - 0s 12ms/step - loss: 0.7071 - mae: 0.0462 - val_loss: 0.6833 - val_mae: 0.0444\n",
      "Epoch 119/150\n",
      "7/7 [==============================] - 0s 11ms/step - loss: 0.7080 - mae: 0.0458 - val_loss: 0.6945 - val_mae: 0.0431\n",
      "Epoch 120/150\n",
      "7/7 [==============================] - 0s 11ms/step - loss: 0.7085 - mae: 0.0449 - val_loss: 0.6903 - val_mae: 0.0412\n",
      "Epoch 121/150\n",
      "7/7 [==============================] - 0s 11ms/step - loss: 0.7059 - mae: 0.0456 - val_loss: 0.6958 - val_mae: 0.0425\n",
      "Epoch 122/150\n",
      "7/7 [==============================] - 0s 12ms/step - loss: 0.7116 - mae: 0.0457 - val_loss: 0.7049 - val_mae: 0.0430\n",
      "Epoch 123/150\n",
      "7/7 [==============================] - 0s 11ms/step - loss: 0.7113 - mae: 0.0453 - val_loss: 0.6828 - val_mae: 0.0420\n",
      "Epoch 124/150\n",
      "7/7 [==============================] - 0s 13ms/step - loss: 0.7020 - mae: 0.0457 - val_loss: 0.6842 - val_mae: 0.0424\n",
      "Epoch 125/150\n",
      "7/7 [==============================] - 0s 11ms/step - loss: 0.7086 - mae: 0.0454 - val_loss: 0.6918 - val_mae: 0.0418\n",
      "Epoch 126/150\n",
      "7/7 [==============================] - 0s 12ms/step - loss: 0.7079 - mae: 0.0450 - val_loss: 0.6967 - val_mae: 0.0410\n",
      "Epoch 127/150\n",
      "7/7 [==============================] - 0s 11ms/step - loss: 0.7092 - mae: 0.0452 - val_loss: 0.6920 - val_mae: 0.0413\n",
      "Epoch 128/150\n",
      "7/7 [==============================] - 0s 11ms/step - loss: 0.7078 - mae: 0.0447 - val_loss: 0.6862 - val_mae: 0.0408\n",
      "Epoch 129/150\n",
      "7/7 [==============================] - 0s 11ms/step - loss: 0.7056 - mae: 0.0447 - val_loss: 0.6940 - val_mae: 0.0412\n",
      "Epoch 130/150\n",
      "7/7 [==============================] - 0s 11ms/step - loss: 0.7102 - mae: 0.0459 - val_loss: 0.6979 - val_mae: 0.0441\n",
      "Epoch 131/150\n",
      "7/7 [==============================] - 0s 11ms/step - loss: 0.7105 - mae: 0.0454 - val_loss: 0.6876 - val_mae: 0.0431\n",
      "Epoch 132/150\n",
      "7/7 [==============================] - 0s 12ms/step - loss: 0.7057 - mae: 0.0461 - val_loss: 0.6927 - val_mae: 0.0440\n",
      "Epoch 133/150\n",
      "7/7 [==============================] - 0s 11ms/step - loss: 0.7064 - mae: 0.0457 - val_loss: 0.6896 - val_mae: 0.0430\n",
      "Epoch 134/150\n",
      "7/7 [==============================] - 0s 11ms/step - loss: 0.7099 - mae: 0.0452 - val_loss: 0.6937 - val_mae: 0.0417\n",
      "Epoch 135/150\n",
      "7/7 [==============================] - 0s 11ms/step - loss: 0.7118 - mae: 0.0452 - val_loss: 0.6844 - val_mae: 0.0415\n",
      "Epoch 136/150\n",
      "7/7 [==============================] - 0s 11ms/step - loss: 0.7044 - mae: 0.0455 - val_loss: 0.6827 - val_mae: 0.0421\n",
      "Epoch 137/150\n",
      "7/7 [==============================] - 0s 11ms/step - loss: 0.7043 - mae: 0.0453 - val_loss: 0.6938 - val_mae: 0.0418\n",
      "Epoch 138/150\n",
      "7/7 [==============================] - 0s 11ms/step - loss: 0.7087 - mae: 0.0452 - val_loss: 0.6984 - val_mae: 0.0418\n",
      "Epoch 139/150\n",
      "7/7 [==============================] - 0s 11ms/step - loss: 0.7093 - mae: 0.0456 - val_loss: 0.6996 - val_mae: 0.0424\n",
      "Epoch 140/150\n",
      "7/7 [==============================] - 0s 12ms/step - loss: 0.7108 - mae: 0.0454 - val_loss: 0.6867 - val_mae: 0.0421\n",
      "Epoch 141/150\n",
      "7/7 [==============================] - 0s 11ms/step - loss: 0.7050 - mae: 0.0449 - val_loss: 0.6829 - val_mae: 0.0410\n",
      "Epoch 142/150\n",
      "7/7 [==============================] - 0s 11ms/step - loss: 0.7075 - mae: 0.0449 - val_loss: 0.6956 - val_mae: 0.0412\n",
      "Epoch 143/150\n",
      "7/7 [==============================] - 0s 11ms/step - loss: 0.7111 - mae: 0.0458 - val_loss: 0.6906 - val_mae: 0.0435\n",
      "Epoch 144/150\n",
      "7/7 [==============================] - 0s 11ms/step - loss: 0.7064 - mae: 0.0461 - val_loss: 0.6924 - val_mae: 0.0445\n",
      "Epoch 145/150\n",
      "7/7 [==============================] - 0s 11ms/step - loss: 0.7079 - mae: 0.0462 - val_loss: 0.6967 - val_mae: 0.0441\n",
      "Epoch 146/150\n",
      "7/7 [==============================] - 0s 12ms/step - loss: 0.7055 - mae: 0.0452 - val_loss: 0.6928 - val_mae: 0.0415\n",
      "Epoch 147/150\n",
      "7/7 [==============================] - 0s 11ms/step - loss: 0.7092 - mae: 0.0451 - val_loss: 0.6916 - val_mae: 0.0412\n",
      "Epoch 148/150\n",
      "7/7 [==============================] - 0s 11ms/step - loss: 0.7110 - mae: 0.0447 - val_loss: 0.6851 - val_mae: 0.0409\n",
      "Epoch 149/150\n",
      "7/7 [==============================] - 0s 11ms/step - loss: 0.7040 - mae: 0.0455 - val_loss: 0.6852 - val_mae: 0.0428\n",
      "Epoch 150/150\n",
      "7/7 [==============================] - 0s 12ms/step - loss: 0.7058 - mae: 0.0462 - val_loss: 0.7014 - val_mae: 0.0440\n"
     ]
    }
   ],
   "source": [
    "#Using mae and mse\n",
    "#model.compile(optimizer=tf.keras.optimizers.SGD(learning_rate=0.001, momentum=0.9),metrics=['mae'],loss='mse')\n",
    "model.compile(optimizer=tf.keras.optimizers.Adam(),metrics=['mae'],loss='mse')\n",
    "model.summary()\n",
    "hist=model.fit(train_set,epochs=150,validation_data=valid_set, batch_size=8)"
   ]
  },
  {
   "cell_type": "code",
   "execution_count": 27,
   "metadata": {},
   "outputs": [
    {
     "data": {
      "image/png": "[encoded data removed]",
      "text/plain": [
       "<Figure size 432x288 with 1 Axes>"
      ]
     },
     "metadata": {
      "needs_background": "light"
     },
     "output_type": "display_data"
    }
   ],
   "source": [
    "import matplotlib.pyplot as plt\n",
    "\n",
    "plt.plot(hist.history['mae'], label='MAE (training data)')\n",
    "plt.plot(hist.history['val_mae'], label='MAE (validation data)')\n",
    "\n",
    "plt.title('MAE Cluster 3')\n",
    "plt.ylabel('MAE value')\n",
    "plt.xlabel('No. epoch')\n",
    "plt.legend(loc=\"upper left\")\n",
    "plt.show()\n",
    "#ini ada underfitting soalnya 5 data terakhir itu nol semua, gitu, "
   ]
  },
  {
   "cell_type": "code",
   "execution_count": 28,
   "metadata": {},
   "outputs": [
    {
     "data": {
      "image/png": "[encoded data removed]",
      "text/plain": [
       "<Figure size 432x288 with 1 Axes>"
      ]
     },
     "metadata": {
      "needs_background": "light"
     },
     "output_type": "display_data"
    }
   ],
   "source": [
    "plt.plot(hist.history['loss'], label='loss (training data)')\n",
    "plt.plot(hist.history['val_loss'], label='loss (validation data)')\n",
    "\n",
    "plt.title(\"Loss Cluster 3 (MSE)\")\n",
    "plt.ylabel('MSE value')\n",
    "plt.xlabel('No. epoch')\n",
    "plt.legend(loc=\"upper left\")\n",
    "plt.show()"
   ]
  },
  {
   "cell_type": "code",
   "execution_count": 29,
   "metadata": {},
   "outputs": [
    {
     "data": {
      "text/plain": [
       "array([[[0.04403048]],\n",
       "\n",
       "       [[0.04403048]],\n",
       "\n",
       "       [[0.04403048]],\n",
       "\n",
       "       [[0.04403048]],\n",
       "\n",
       "       [[0.04403048]],\n",
       "\n",
       "       [[0.04403048]]], dtype=float32)"
      ]
     },
     "execution_count": 29,
     "metadata": {},
     "output_type": "execute_result"
    }
   ],
   "source": [
    "prediksi=model.predict(np.array(x_valid))\n",
    "prediksi"
   ]
  },
  {
   "cell_type": "code",
   "execution_count": 30,
   "metadata": {},
   "outputs": [],
   "source": [
    "prediksi=prediksi.flatten()"
   ]
  },
  {
   "cell_type": "code",
   "execution_count": 31,
   "metadata": {},
   "outputs": [],
   "source": [
    "hasil=np.concatenate((series,prediksi))"
   ]
  },
  {
   "cell_type": "code",
   "execution_count": 32,
   "metadata": {},
   "outputs": [
    {
     "data": {
      "text/plain": [
       "(60,)"
      ]
     },
     "execution_count": 32,
     "metadata": {},
     "output_type": "execute_result"
    }
   ],
   "source": [
    "hasil.shape"
   ]
  },
  {
   "cell_type": "code",
   "execution_count": 33,
   "metadata": {},
   "outputs": [],
   "source": [
    "asli = np.concatenate((series,series_t))\n"
   ]
  },
  {
   "cell_type": "code",
   "execution_count": 34,
   "metadata": {},
   "outputs": [],
   "source": [
    "hasil = hasil * (max-min) + min\n",
    "asli = asli * (max-min) + min"
   ]
  },
  {
   "cell_type": "code",
   "execution_count": 35,
   "metadata": {},
   "outputs": [
    {
     "data": {
      "text/plain": [
       "[]"
      ]
     },
     "execution_count": 35,
     "metadata": {},
     "output_type": "execute_result"
    },
    {
     "data": {
      "image/png": "[encoded data removed]",
      "text/plain": [
       "<Figure size 432x288 with 1 Axes>"
      ]
     },
     "metadata": {
      "needs_background": "light"
     },
     "output_type": "display_data"
    }
   ],
   "source": [
    "plt.plot(asli,marker = 'o',label='data asli')\n",
    "plt.plot(hasil,marker = 'o',label='data prediksi')\n",
    "plt.title('penjualan produk cluster 3')\n",
    "plt.legend()\n",
    "plt.plot()"
   ]
  },
  {
   "cell_type": "code",
   "execution_count": 36,
   "metadata": {},
   "outputs": [],
   "source": [
    "model.save('cluster3_newdata.h5')"
   ]
  },
  {
   "cell_type": "code",
   "execution_count": null,
   "metadata": {},
   "outputs": [],
   "source": []
  }
 ],
 "metadata": {
  "interpreter": {
   "hash": "c9d83cc02921a4738836e4c62bbe4b1fbf4384e37b2198c6e81d5aaf3defd2c8"
  },
  "kernelspec": {
   "display_name": "Python 3.8.5 ('base')",
   "language": "python",
   "name": "python3"
  },
  "language_info": {
   "codemirror_mode": {
    "name": "ipython",
    "version": 3
   },
   "file_extension": ".py",
   "mimetype": "text/x-python",
   "name": "python",
   "nbconvert_exporter": "python",
   "pygments_lexer": "ipython3",
   "version": "3.8.5"
  },
  "orig_nbformat": 4
 },
 "nbformat": 4,
 "nbformat_minor": 2
}
