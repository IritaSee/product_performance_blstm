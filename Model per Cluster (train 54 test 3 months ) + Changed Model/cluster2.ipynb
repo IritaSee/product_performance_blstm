{
 "cells": [
  {
   "cell_type": "markdown",
   "metadata": {},
   "source": [
    "# Permodelan Cluster 2"
   ]
  },
  {
   "cell_type": "markdown",
   "metadata": {},
   "source": [
    "Import segala pustaka (library) yang digunakan"
   ]
  },
  {
   "cell_type": "code",
   "execution_count": 1,
   "metadata": {},
   "outputs": [],
   "source": [
    "import tensorflow as tf\n",
    "import pandas as pd\n",
    "import numpy as np\n",
    "import matplotlib.pyplot as plt\n",
    "from sklearn.preprocessing import MinMaxScaler"
   ]
  },
  {
   "cell_type": "markdown",
   "metadata": {},
   "source": [
    "## Pembacaan Data"
   ]
  },
  {
   "cell_type": "markdown",
   "metadata": {},
   "source": [
    "Baca dataset train"
   ]
  },
  {
   "cell_type": "code",
   "execution_count": 2,
   "metadata": {},
   "outputs": [
    {
     "data": {
      "text/html": [
       "<div>\n",
       "<style scoped>\n",
       "    .dataframe tbody tr th:only-of-type {\n",
       "        vertical-align: middle;\n",
       "    }\n",
       "\n",
       "    .dataframe tbody tr th {\n",
       "        vertical-align: top;\n",
       "    }\n",
       "\n",
       "    .dataframe thead th {\n",
       "        text-align: right;\n",
       "    }\n",
       "</style>\n",
       "<table border=\"1\" class=\"dataframe\">\n",
       "  <thead>\n",
       "    <tr style=\"text-align: right;\">\n",
       "      <th></th>\n",
       "      <th>KodeBarang</th>\n",
       "      <th>1</th>\n",
       "      <th>2</th>\n",
       "      <th>3</th>\n",
       "      <th>4</th>\n",
       "      <th>5</th>\n",
       "      <th>6</th>\n",
       "      <th>7</th>\n",
       "      <th>8</th>\n",
       "      <th>9</th>\n",
       "      <th>...</th>\n",
       "      <th>46</th>\n",
       "      <th>47</th>\n",
       "      <th>48</th>\n",
       "      <th>49</th>\n",
       "      <th>50</th>\n",
       "      <th>51</th>\n",
       "      <th>52</th>\n",
       "      <th>53</th>\n",
       "      <th>54</th>\n",
       "      <th>cluster</th>\n",
       "    </tr>\n",
       "  </thead>\n",
       "  <tbody>\n",
       "    <tr>\n",
       "      <th>0</th>\n",
       "      <td>04121</td>\n",
       "      <td>7</td>\n",
       "      <td>9</td>\n",
       "      <td>6</td>\n",
       "      <td>9</td>\n",
       "      <td>40</td>\n",
       "      <td>0</td>\n",
       "      <td>3</td>\n",
       "      <td>0</td>\n",
       "      <td>7</td>\n",
       "      <td>...</td>\n",
       "      <td>67</td>\n",
       "      <td>77</td>\n",
       "      <td>11</td>\n",
       "      <td>57</td>\n",
       "      <td>43</td>\n",
       "      <td>50</td>\n",
       "      <td>37</td>\n",
       "      <td>21</td>\n",
       "      <td>136</td>\n",
       "      <td>0</td>\n",
       "    </tr>\n",
       "    <tr>\n",
       "      <th>1</th>\n",
       "      <td>18031</td>\n",
       "      <td>230</td>\n",
       "      <td>227</td>\n",
       "      <td>279</td>\n",
       "      <td>153</td>\n",
       "      <td>190</td>\n",
       "      <td>256</td>\n",
       "      <td>267</td>\n",
       "      <td>305</td>\n",
       "      <td>238</td>\n",
       "      <td>...</td>\n",
       "      <td>336</td>\n",
       "      <td>153</td>\n",
       "      <td>103</td>\n",
       "      <td>221</td>\n",
       "      <td>360</td>\n",
       "      <td>280</td>\n",
       "      <td>240</td>\n",
       "      <td>120</td>\n",
       "      <td>548</td>\n",
       "      <td>1</td>\n",
       "    </tr>\n",
       "    <tr>\n",
       "      <th>2</th>\n",
       "      <td>04161</td>\n",
       "      <td>102</td>\n",
       "      <td>50</td>\n",
       "      <td>45</td>\n",
       "      <td>41</td>\n",
       "      <td>71</td>\n",
       "      <td>11</td>\n",
       "      <td>52</td>\n",
       "      <td>14</td>\n",
       "      <td>66</td>\n",
       "      <td>...</td>\n",
       "      <td>21</td>\n",
       "      <td>20</td>\n",
       "      <td>7</td>\n",
       "      <td>33</td>\n",
       "      <td>21</td>\n",
       "      <td>28</td>\n",
       "      <td>30</td>\n",
       "      <td>10</td>\n",
       "      <td>18</td>\n",
       "      <td>0</td>\n",
       "    </tr>\n",
       "    <tr>\n",
       "      <th>3</th>\n",
       "      <td>04162</td>\n",
       "      <td>272</td>\n",
       "      <td>155</td>\n",
       "      <td>214</td>\n",
       "      <td>226</td>\n",
       "      <td>268</td>\n",
       "      <td>110</td>\n",
       "      <td>204</td>\n",
       "      <td>253</td>\n",
       "      <td>193</td>\n",
       "      <td>...</td>\n",
       "      <td>102</td>\n",
       "      <td>118</td>\n",
       "      <td>120</td>\n",
       "      <td>211</td>\n",
       "      <td>292</td>\n",
       "      <td>105</td>\n",
       "      <td>108</td>\n",
       "      <td>101</td>\n",
       "      <td>117</td>\n",
       "      <td>1</td>\n",
       "    </tr>\n",
       "    <tr>\n",
       "      <th>4</th>\n",
       "      <td>04163</td>\n",
       "      <td>28</td>\n",
       "      <td>28</td>\n",
       "      <td>29</td>\n",
       "      <td>52</td>\n",
       "      <td>44</td>\n",
       "      <td>21</td>\n",
       "      <td>47</td>\n",
       "      <td>15</td>\n",
       "      <td>24</td>\n",
       "      <td>...</td>\n",
       "      <td>18</td>\n",
       "      <td>23</td>\n",
       "      <td>22</td>\n",
       "      <td>16</td>\n",
       "      <td>22</td>\n",
       "      <td>31</td>\n",
       "      <td>36</td>\n",
       "      <td>17</td>\n",
       "      <td>14</td>\n",
       "      <td>0</td>\n",
       "    </tr>\n",
       "    <tr>\n",
       "      <th>...</th>\n",
       "      <td>...</td>\n",
       "      <td>...</td>\n",
       "      <td>...</td>\n",
       "      <td>...</td>\n",
       "      <td>...</td>\n",
       "      <td>...</td>\n",
       "      <td>...</td>\n",
       "      <td>...</td>\n",
       "      <td>...</td>\n",
       "      <td>...</td>\n",
       "      <td>...</td>\n",
       "      <td>...</td>\n",
       "      <td>...</td>\n",
       "      <td>...</td>\n",
       "      <td>...</td>\n",
       "      <td>...</td>\n",
       "      <td>...</td>\n",
       "      <td>...</td>\n",
       "      <td>...</td>\n",
       "      <td>...</td>\n",
       "      <td>...</td>\n",
       "    </tr>\n",
       "    <tr>\n",
       "      <th>101</th>\n",
       "      <td>04157</td>\n",
       "      <td>55</td>\n",
       "      <td>64</td>\n",
       "      <td>44</td>\n",
       "      <td>61</td>\n",
       "      <td>30</td>\n",
       "      <td>1</td>\n",
       "      <td>24</td>\n",
       "      <td>37</td>\n",
       "      <td>67</td>\n",
       "      <td>...</td>\n",
       "      <td>20</td>\n",
       "      <td>10</td>\n",
       "      <td>300</td>\n",
       "      <td>34</td>\n",
       "      <td>7</td>\n",
       "      <td>7</td>\n",
       "      <td>6</td>\n",
       "      <td>4</td>\n",
       "      <td>21</td>\n",
       "      <td>0</td>\n",
       "    </tr>\n",
       "    <tr>\n",
       "      <th>102</th>\n",
       "      <td>18104</td>\n",
       "      <td>46</td>\n",
       "      <td>295</td>\n",
       "      <td>83</td>\n",
       "      <td>112</td>\n",
       "      <td>70</td>\n",
       "      <td>40</td>\n",
       "      <td>18</td>\n",
       "      <td>140</td>\n",
       "      <td>97</td>\n",
       "      <td>...</td>\n",
       "      <td>47</td>\n",
       "      <td>54</td>\n",
       "      <td>27</td>\n",
       "      <td>15</td>\n",
       "      <td>57</td>\n",
       "      <td>132</td>\n",
       "      <td>66</td>\n",
       "      <td>34</td>\n",
       "      <td>146</td>\n",
       "      <td>0</td>\n",
       "    </tr>\n",
       "    <tr>\n",
       "      <th>103</th>\n",
       "      <td>18106</td>\n",
       "      <td>200</td>\n",
       "      <td>204</td>\n",
       "      <td>0</td>\n",
       "      <td>2</td>\n",
       "      <td>10</td>\n",
       "      <td>7</td>\n",
       "      <td>0</td>\n",
       "      <td>27</td>\n",
       "      <td>74</td>\n",
       "      <td>...</td>\n",
       "      <td>15</td>\n",
       "      <td>136</td>\n",
       "      <td>15</td>\n",
       "      <td>15</td>\n",
       "      <td>14</td>\n",
       "      <td>131</td>\n",
       "      <td>84</td>\n",
       "      <td>12</td>\n",
       "      <td>14</td>\n",
       "      <td>0</td>\n",
       "    </tr>\n",
       "    <tr>\n",
       "      <th>104</th>\n",
       "      <td>18092</td>\n",
       "      <td>297</td>\n",
       "      <td>418</td>\n",
       "      <td>329</td>\n",
       "      <td>70</td>\n",
       "      <td>498</td>\n",
       "      <td>59</td>\n",
       "      <td>298</td>\n",
       "      <td>376</td>\n",
       "      <td>259</td>\n",
       "      <td>...</td>\n",
       "      <td>450</td>\n",
       "      <td>498</td>\n",
       "      <td>254</td>\n",
       "      <td>260</td>\n",
       "      <td>336</td>\n",
       "      <td>493</td>\n",
       "      <td>438</td>\n",
       "      <td>408</td>\n",
       "      <td>322</td>\n",
       "      <td>1</td>\n",
       "    </tr>\n",
       "    <tr>\n",
       "      <th>105</th>\n",
       "      <td>04143</td>\n",
       "      <td>132</td>\n",
       "      <td>80</td>\n",
       "      <td>103</td>\n",
       "      <td>113</td>\n",
       "      <td>81</td>\n",
       "      <td>108</td>\n",
       "      <td>124</td>\n",
       "      <td>101</td>\n",
       "      <td>119</td>\n",
       "      <td>...</td>\n",
       "      <td>153</td>\n",
       "      <td>130</td>\n",
       "      <td>121</td>\n",
       "      <td>189</td>\n",
       "      <td>92</td>\n",
       "      <td>226</td>\n",
       "      <td>181</td>\n",
       "      <td>112</td>\n",
       "      <td>214</td>\n",
       "      <td>1</td>\n",
       "    </tr>\n",
       "  </tbody>\n",
       "</table>\n",
       "<p>106 rows × 56 columns</p>\n",
       "</div>"
      ],
      "text/plain": [
       "    KodeBarang    1    2    3    4    5    6    7    8    9  ...   46   47  \\\n",
       "0        04121    7    9    6    9   40    0    3    0    7  ...   67   77   \n",
       "1        18031  230  227  279  153  190  256  267  305  238  ...  336  153   \n",
       "2        04161  102   50   45   41   71   11   52   14   66  ...   21   20   \n",
       "3        04162  272  155  214  226  268  110  204  253  193  ...  102  118   \n",
       "4        04163   28   28   29   52   44   21   47   15   24  ...   18   23   \n",
       "..         ...  ...  ...  ...  ...  ...  ...  ...  ...  ...  ...  ...  ...   \n",
       "101      04157   55   64   44   61   30    1   24   37   67  ...   20   10   \n",
       "102      18104   46  295   83  112   70   40   18  140   97  ...   47   54   \n",
       "103      18106  200  204    0    2   10    7    0   27   74  ...   15  136   \n",
       "104      18092  297  418  329   70  498   59  298  376  259  ...  450  498   \n",
       "105      04143  132   80  103  113   81  108  124  101  119  ...  153  130   \n",
       "\n",
       "      48   49   50   51   52   53   54  cluster  \n",
       "0     11   57   43   50   37   21  136        0  \n",
       "1    103  221  360  280  240  120  548        1  \n",
       "2      7   33   21   28   30   10   18        0  \n",
       "3    120  211  292  105  108  101  117        1  \n",
       "4     22   16   22   31   36   17   14        0  \n",
       "..   ...  ...  ...  ...  ...  ...  ...      ...  \n",
       "101  300   34    7    7    6    4   21        0  \n",
       "102   27   15   57  132   66   34  146        0  \n",
       "103   15   15   14  131   84   12   14        0  \n",
       "104  254  260  336  493  438  408  322        1  \n",
       "105  121  189   92  226  181  112  214        1  \n",
       "\n",
       "[106 rows x 56 columns]"
      ]
     },
     "execution_count": 2,
     "metadata": {},
     "output_type": "execute_result"
    }
   ],
   "source": [
    "data=pd.read_excel('../dataset_new.xlsx',sheet_name='train')\n",
    "data"
   ]
  },
  {
   "cell_type": "markdown",
   "metadata": {},
   "source": [
    "Baca dataset test"
   ]
  },
  {
   "cell_type": "code",
   "execution_count": 3,
   "metadata": {},
   "outputs": [
    {
     "data": {
      "text/html": [
       "<div>\n",
       "<style scoped>\n",
       "    .dataframe tbody tr th:only-of-type {\n",
       "        vertical-align: middle;\n",
       "    }\n",
       "\n",
       "    .dataframe tbody tr th {\n",
       "        vertical-align: top;\n",
       "    }\n",
       "\n",
       "    .dataframe thead th {\n",
       "        text-align: right;\n",
       "    }\n",
       "</style>\n",
       "<table border=\"1\" class=\"dataframe\">\n",
       "  <thead>\n",
       "    <tr style=\"text-align: right;\">\n",
       "      <th></th>\n",
       "      <th>KodeBarang</th>\n",
       "      <th>bulan 1</th>\n",
       "      <th>bulan 2</th>\n",
       "      <th>bulan 3</th>\n",
       "      <th>bulan 4</th>\n",
       "      <th>bulan 5</th>\n",
       "      <th>bulan 6</th>\n",
       "    </tr>\n",
       "  </thead>\n",
       "  <tbody>\n",
       "    <tr>\n",
       "      <th>0</th>\n",
       "      <td>04121</td>\n",
       "      <td>5</td>\n",
       "      <td>12</td>\n",
       "      <td>8</td>\n",
       "      <td>14</td>\n",
       "      <td>40</td>\n",
       "      <td>40</td>\n",
       "    </tr>\n",
       "    <tr>\n",
       "      <th>1</th>\n",
       "      <td>18031</td>\n",
       "      <td>573</td>\n",
       "      <td>340</td>\n",
       "      <td>441</td>\n",
       "      <td>270</td>\n",
       "      <td>488</td>\n",
       "      <td>240</td>\n",
       "    </tr>\n",
       "    <tr>\n",
       "      <th>2</th>\n",
       "      <td>04161</td>\n",
       "      <td>27</td>\n",
       "      <td>5</td>\n",
       "      <td>26</td>\n",
       "      <td>34</td>\n",
       "      <td>40</td>\n",
       "      <td>56</td>\n",
       "    </tr>\n",
       "    <tr>\n",
       "      <th>3</th>\n",
       "      <td>04162</td>\n",
       "      <td>162</td>\n",
       "      <td>82</td>\n",
       "      <td>72</td>\n",
       "      <td>98</td>\n",
       "      <td>126</td>\n",
       "      <td>120</td>\n",
       "    </tr>\n",
       "    <tr>\n",
       "      <th>4</th>\n",
       "      <td>04163</td>\n",
       "      <td>23</td>\n",
       "      <td>20</td>\n",
       "      <td>9</td>\n",
       "      <td>5</td>\n",
       "      <td>22</td>\n",
       "      <td>6</td>\n",
       "    </tr>\n",
       "    <tr>\n",
       "      <th>...</th>\n",
       "      <td>...</td>\n",
       "      <td>...</td>\n",
       "      <td>...</td>\n",
       "      <td>...</td>\n",
       "      <td>...</td>\n",
       "      <td>...</td>\n",
       "      <td>...</td>\n",
       "    </tr>\n",
       "    <tr>\n",
       "      <th>101</th>\n",
       "      <td>04157</td>\n",
       "      <td>138</td>\n",
       "      <td>14</td>\n",
       "      <td>12</td>\n",
       "      <td>21</td>\n",
       "      <td>25</td>\n",
       "      <td>10</td>\n",
       "    </tr>\n",
       "    <tr>\n",
       "      <th>102</th>\n",
       "      <td>18104</td>\n",
       "      <td>60</td>\n",
       "      <td>103</td>\n",
       "      <td>39</td>\n",
       "      <td>87</td>\n",
       "      <td>276</td>\n",
       "      <td>40</td>\n",
       "    </tr>\n",
       "    <tr>\n",
       "      <th>103</th>\n",
       "      <td>18106</td>\n",
       "      <td>16</td>\n",
       "      <td>7</td>\n",
       "      <td>65</td>\n",
       "      <td>24</td>\n",
       "      <td>13</td>\n",
       "      <td>27</td>\n",
       "    </tr>\n",
       "    <tr>\n",
       "      <th>104</th>\n",
       "      <td>18092</td>\n",
       "      <td>721</td>\n",
       "      <td>184</td>\n",
       "      <td>150</td>\n",
       "      <td>488</td>\n",
       "      <td>648</td>\n",
       "      <td>149</td>\n",
       "    </tr>\n",
       "    <tr>\n",
       "      <th>105</th>\n",
       "      <td>04143</td>\n",
       "      <td>164</td>\n",
       "      <td>189</td>\n",
       "      <td>187</td>\n",
       "      <td>232</td>\n",
       "      <td>219</td>\n",
       "      <td>229</td>\n",
       "    </tr>\n",
       "  </tbody>\n",
       "</table>\n",
       "<p>106 rows × 7 columns</p>\n",
       "</div>"
      ],
      "text/plain": [
       "    KodeBarang  bulan 1  bulan 2  bulan 3  bulan 4  bulan 5  bulan 6\n",
       "0        04121        5       12        8       14       40       40\n",
       "1        18031      573      340      441      270      488      240\n",
       "2        04161       27        5       26       34       40       56\n",
       "3        04162      162       82       72       98      126      120\n",
       "4        04163       23       20        9        5       22        6\n",
       "..         ...      ...      ...      ...      ...      ...      ...\n",
       "101      04157      138       14       12       21       25       10\n",
       "102      18104       60      103       39       87      276       40\n",
       "103      18106       16        7       65       24       13       27\n",
       "104      18092      721      184      150      488      648      149\n",
       "105      04143      164      189      187      232      219      229\n",
       "\n",
       "[106 rows x 7 columns]"
      ]
     },
     "execution_count": 3,
     "metadata": {},
     "output_type": "execute_result"
    }
   ],
   "source": [
    "data_test = pd.read_excel('../dataset_new.xlsx',sheet_name='test')\n",
    "data_test"
   ]
  },
  {
   "cell_type": "markdown",
   "metadata": {},
   "source": [
    "Hilangkan judul kolom agar tidak terbaca di deep learning\n",
    "Pastikan cluster pada dataset sudah berupa angka"
   ]
  },
  {
   "cell_type": "code",
   "execution_count": 4,
   "metadata": {},
   "outputs": [],
   "source": [
    "data_test['cluster'] = data['cluster'].astype(int)\n",
    "# data_test.drop(['bulan 4','bulan 5','bulan 6'],axis=1,inplace=True)"
   ]
  },
  {
   "cell_type": "code",
   "execution_count": 5,
   "metadata": {},
   "outputs": [],
   "source": [
    "import matplotlib.pyplot as plt\n",
    "from sklearn.preprocessing import MinMaxScaler"
   ]
  },
  {
   "cell_type": "markdown",
   "metadata": {},
   "source": [
    "Make sure ada berapa cluster?"
   ]
  },
  {
   "cell_type": "code",
   "execution_count": 6,
   "metadata": {},
   "outputs": [
    {
     "data": {
      "text/plain": [
       "4"
      ]
     },
     "execution_count": 6,
     "metadata": {},
     "output_type": "execute_result"
    }
   ],
   "source": [
    "len(data['cluster'].unique())"
   ]
  },
  {
   "cell_type": "markdown",
   "metadata": {},
   "source": [
    "Ambil jumlah produk dalam setiap Cluster"
   ]
  },
  {
   "cell_type": "code",
   "execution_count": 7,
   "metadata": {},
   "outputs": [
    {
     "name": "stdout",
     "output_type": "stream",
     "text": [
      "Jumlah Produk:\n",
      "70\n",
      "Jumlah Produk:\n",
      "31\n",
      "Jumlah Produk:\n",
      "4\n",
      "Jumlah Produk:\n",
      "1\n"
     ]
    }
   ],
   "source": [
    "#now lets take clusters\n",
    "c0 = data.query(\"cluster == 0\")\n",
    "print(\"Jumlah Produk:\")\n",
    "print(c0['KodeBarang'].size)\n",
    "c1 = data.query(\"cluster == 1\")\n",
    "print(\"Jumlah Produk:\")\n",
    "print(c1['KodeBarang'].size)\n",
    "c2 = data.query(\"cluster == 2\")\n",
    "print(\"Jumlah Produk:\")\n",
    "print(c2['KodeBarang'].size)\n",
    "c3 = data.query(\"cluster == 3\")\n",
    "print(\"Jumlah Produk:\")\n",
    "print(c3['KodeBarang'].size)"
   ]
  },
  {
   "cell_type": "code",
   "execution_count": 8,
   "metadata": {},
   "outputs": [
    {
     "name": "stdout",
     "output_type": "stream",
     "text": [
      "Jumlah Produk:\n",
      "70\n",
      "Jumlah Produk:\n",
      "31\n",
      "Jumlah Produk:\n",
      "4\n",
      "Jumlah Produk:\n",
      "1\n"
     ]
    }
   ],
   "source": [
    "c0_t = data_test.query(\"cluster == 0\")\n",
    "print(\"Jumlah Produk:\")\n",
    "print(c0['KodeBarang'].size)\n",
    "c1_t = data_test.query(\"cluster == 1\")\n",
    "print(\"Jumlah Produk:\")\n",
    "print(c1['KodeBarang'].size)\n",
    "c2_t = data_test.query(\"cluster == 2\")\n",
    "print(\"Jumlah Produk:\")\n",
    "print(c2['KodeBarang'].size)\n",
    "c3_t = data_test.query(\"cluster == 3\")\n",
    "print(\"Jumlah Produk:\")\n",
    "print(c3['KodeBarang'].size)"
   ]
  },
  {
   "cell_type": "markdown",
   "metadata": {},
   "source": [
    "## Pembuatan model cluster 2"
   ]
  },
  {
   "cell_type": "markdown",
   "metadata": {},
   "source": [
    "Buat fungsi bikin `windowed dataset` jadi si data di couple in sama waktu (timeframe)"
   ]
  },
  {
   "cell_type": "code",
   "execution_count": 9,
   "metadata": {},
   "outputs": [],
   "source": [
    "#oke ada ternyata yang cuman sendirian (1 product di cluster tersebut), kita beresin dia dulu, the easiest, dan biar keliatan kita\n",
    "#ngapain aja di time series ini\n",
    "def windowed_dataset(series, window_size, batch_size, shuffle_buffer):\n",
    "    series = tf.expand_dims(series, axis=-1)\n",
    "    ds = tf.data.Dataset.from_tensor_slices(series)\n",
    "    ds = ds.window(window_size + 1, shift=1, drop_remainder=True)\n",
    "    ds = ds.flat_map(lambda w: w.batch(window_size + 1))\n",
    "    ds = ds.shuffle(shuffle_buffer)\n",
    "    ds = ds.map(lambda w: (w[:-1], w[1:]))\n",
    "    return ds.batch(batch_size).prefetch(1)\n",
    "# ini fungsinya buat nge ubah dataset jadi windowed"
   ]
  },
  {
   "cell_type": "markdown",
   "metadata": {},
   "source": [
    "ubah tipe data dari kode barang menjadi nilai angka"
   ]
  },
  {
   "cell_type": "code",
   "execution_count": 10,
   "metadata": {},
   "outputs": [
    {
     "data": {
      "text/plain": [
       "array(['18004', '18063', '04105', '18111'], dtype=object)"
      ]
     },
     "execution_count": 10,
     "metadata": {},
     "output_type": "execute_result"
    }
   ],
   "source": [
    "col = c2.KodeBarang.values\n",
    "col"
   ]
  },
  {
   "cell_type": "code",
   "execution_count": 11,
   "metadata": {},
   "outputs": [],
   "source": [
    "#next kita ubah bentuk data nya dari yang tadinya kesamping jadi ke bawah, tapi pertama mau aku drop dulu cluster sama kode produknya\n",
    "c2=c2.drop(columns=['KodeBarang','cluster'])\n",
    "c2_t = c2_t.drop(columns=['KodeBarang','cluster'])"
   ]
  },
  {
   "cell_type": "markdown",
   "metadata": {},
   "source": [
    "Plot per produk cluster 2"
   ]
  },
  {
   "cell_type": "code",
   "execution_count": 12,
   "metadata": {},
   "outputs": [
    {
     "data": {
      "text/plain": [
       "<AxesSubplot:>"
      ]
     },
     "execution_count": 12,
     "metadata": {},
     "output_type": "execute_result"
    },
    {
     "data": {
      "image/png": "[encoded data removed]",
      "text/plain": [
       "<Figure size 432x288 with 1 Axes>"
      ]
     },
     "metadata": {
      "needs_background": "light"
     },
     "output_type": "display_data"
    }
   ],
   "source": [
    "c2.set_index(col,inplace=True)\n",
    "c2.T.plot()"
   ]
  },
  {
   "cell_type": "code",
   "execution_count": 13,
   "metadata": {},
   "outputs": [],
   "source": [
    "#next, buat dia kayak mejeneng time series seperti biasanya, which is datanya ke bawah, tapi di average per tanggal \n",
    "new_c2=[]\n",
    "time=[]\n",
    "for idx,a in enumerate(c2):\n",
    "    new_c2.append(c2[a].mean())\n",
    "    time.append(idx)\n"
   ]
  },
  {
   "cell_type": "code",
   "execution_count": 14,
   "metadata": {},
   "outputs": [],
   "source": [
    "#sama aja cuman data test\n",
    "new_c2_t=[]\n",
    "time_t=[]\n",
    "i = 55\n",
    "for idx,a in enumerate(c2_t):\n",
    "    new_c2_t.append(c2_t[a].mean())\n",
    "    time_t.append(i)\n",
    "    i+=1"
   ]
  },
  {
   "cell_type": "code",
   "execution_count": 15,
   "metadata": {},
   "outputs": [],
   "source": [
    "#normalisasi, karena gap nya ada yang sampe ribuan, biar lebih gampang tugas ann nya\n",
    "series=new_c2\n",
    "min = np.min(series)\n",
    "max = np.max(series)\n",
    "series = series - min\n",
    "series = series / (max-min)\n",
    "time = np.array(time)"
   ]
  },
  {
   "cell_type": "code",
   "execution_count": 16,
   "metadata": {},
   "outputs": [],
   "source": [
    "#sama aja cuman data test\n",
    "series_t=new_c2_t\n",
    "min_t = np.min(series_t)\n",
    "max_t = np.max(series_t)\n",
    "series_t = series_t - min_t\n",
    "series_t = series_t / (max_t-min_t)\n",
    "time_t = np.array(time_t)"
   ]
  },
  {
   "cell_type": "code",
   "execution_count": 17,
   "metadata": {},
   "outputs": [
    {
     "data": {
      "text/plain": [
       "array([0.74842593, 1.        , 0.49283886, 0.19220923, 0.03161973,\n",
       "       0.        ])"
      ]
     },
     "execution_count": 17,
     "metadata": {},
     "output_type": "execute_result"
    }
   ],
   "source": [
    "series_t"
   ]
  },
  {
   "cell_type": "code",
   "execution_count": 18,
   "metadata": {},
   "outputs": [],
   "source": [
    "#split_time = 3 # ini berapa bulan terkahir yang mau di potong buat pengujian?\n",
    "\n",
    "time_train = time\n",
    "x_train =  series\n",
    "time_valid =  time_t\n",
    "x_valid =  series_t"
   ]
  },
  {
   "cell_type": "code",
   "execution_count": 19,
   "metadata": {},
   "outputs": [
    {
     "name": "stdout",
     "output_type": "stream",
     "text": [
      "Metal device set to: Apple M1\n",
      "\n",
      "systemMemory: 8.00 GB\n",
      "maxCacheSize: 2.67 GB\n",
      "\n"
     ]
    },
    {
     "name": "stderr",
     "output_type": "stream",
     "text": [
      "2022-04-23 16:48:43.738983: I tensorflow/core/common_runtime/pluggable_device/pluggable_device_factory.cc:305] Could not identify NUMA node of platform GPU ID 0, defaulting to 0. Your kernel may not have been built with NUMA support.\n",
      "2022-04-23 16:48:43.739104: I tensorflow/core/common_runtime/pluggable_device/pluggable_device_factory.cc:271] Created TensorFlow device (/job:localhost/replica:0/task:0/device:GPU:0 with 0 MB memory) -> physical PluggableDevice (device: 0, name: METAL, pci bus id: <undefined>)\n"
     ]
    }
   ],
   "source": [
    "# #buat data biar dibagi per window, jadi me masang masangkan waktu dan value,\n",
    "window_size = 2\n",
    "batch_size = 2\n",
    "shuffle_buffer_size = 10\n",
    "\n",
    "train_set = windowed_dataset(x_train, window_size, batch_size, shuffle_buffer_size)\n",
    "valid_set = windowed_dataset(x_valid, window_size, batch_size, shuffle_buffer_size)"
   ]
  },
  {
   "cell_type": "code",
   "execution_count": 20,
   "metadata": {},
   "outputs": [],
   "source": [
    "# train_set"
   ]
  },
  {
   "cell_type": "code",
   "execution_count": 21,
   "metadata": {},
   "outputs": [],
   "source": [
    "# valid_set"
   ]
  },
  {
   "cell_type": "code",
   "execution_count": 22,
   "metadata": {},
   "outputs": [
    {
     "data": {
      "text/plain": [
       "<PrefetchDataset element_spec=(TensorSpec(shape=(None, None, 1), dtype=tf.float64, name=None), TensorSpec(shape=(None, None, 1), dtype=tf.float64, name=None))>"
      ]
     },
     "execution_count": 22,
     "metadata": {},
     "output_type": "execute_result"
    }
   ],
   "source": [
    "train_set"
   ]
  },
  {
   "cell_type": "code",
   "execution_count": 23,
   "metadata": {},
   "outputs": [],
   "source": [
    "from keras.callbacks import  EarlyStopping\n",
    "callbacks = EarlyStopping(\n",
    "    min_delta=0.000001,\n",
    "    \n",
    "    patience=50,\n",
    "    restore_best_weights=True,\n",
    ")"
   ]
  },
  {
   "cell_type": "markdown",
   "metadata": {},
   "source": [
    "Penyusunan deep learning nya\n",
    "\n",
    "Kita Menggunakan BLSTM atau *Bidirectional Long Short Term Memory*. BLSTM adalah proses pembuatan jaringan syaraf tiruan untuk memiliki urutan informasi dalam kedua arah mundur (masa depan ke masa lalu) atau maju (masa lalu ke masa depan).\n",
    "\n",
    "\n",
    "kalo ini pake BLSTM dengan input layer sebanyak 20 neuron, BLSTM layer ada dua, yang pertama ada 64 neuron, terus yang kedua ada 32 neuron, dibuat mengkerucut (segitiga terbalik) seolah kita menyederhanakan data datanya, jadi kan makin dalem makin sedikit tuh, karena ada yang ga kepake kepake buat menentukan sales nya dan lain lain, \n",
    "\n",
    "terus setiap selesai masuk BLSTM layer, ada dropout, itu tuh untuk mengeliminasi secara random (di case ini 50%) sambungan antara neuron, dan nge \"matiin\" neuronnya itu juga, mensimulasi degradasi neuron dan sambungannya saat kita tidur, alias proses mengubah ingatan jadi jangka menengah ke panjang dari apa yang kita dapatkan pada hari itu. "
   ]
  },
  {
   "cell_type": "code",
   "execution_count": 31,
   "metadata": {},
   "outputs": [],
   "source": [
    "model = tf.keras.Sequential([\n",
    "        tf.keras.layers.Dense(2, input_shape=[None, 1]),\n",
    "        tf.keras.layers.Bidirectional(tf.keras.layers.LSTM(8,return_sequences=True)),\n",
    "        tf.keras.layers.Dropout(0.5),\n",
    "        # tf.keras.layers.Bidirectional(tf.keras.layers.LSTM(80,return_sequences=True)),\n",
    "        # tf.keras.layers.Dropout(0.5),\n",
    "        tf.keras.layers.Bidirectional(tf.keras.layers.LSTM(8)),\n",
    "        tf.keras.layers.Dropout(0.5),\n",
    "        \n",
    "        # tf.keras.layers.Flatten(),\n",
    "        # tf.keras.layers.Dense(1024, activation='relu'),\n",
    "        # tf.keras.layers.Dropout(0.5),\n",
    "        \n",
    "        # tf.keras.layers.Dense(512, activation='relu',kernel_regularizer=tf.keras.regularizers.l1(l1=0.01)),\n",
    "        # tf.keras.layers.Dense(8, activation='relu',kernel_regularizer=tf.keras.regularizers.l1_l2(l1=0.01, l2=0.1)),\n",
    "        tf.keras.layers.Dense(4, activation='relu'),\n",
    "        #tf.keras.layers.Dropout(0.3),\n",
    "\n",
    "        tf.keras.layers.Dense(1)\n",
    "    ])\n",
    "\n",
    "    \n",
    "\n",
    "    #the blstm part"
   ]
  },
  {
   "cell_type": "code",
   "execution_count": 32,
   "metadata": {},
   "outputs": [
    {
     "name": "stdout",
     "output_type": "stream",
     "text": [
      "Model: \"sequential_2\"\n",
      "_________________________________________________________________\n",
      " Layer (type)                Output Shape              Param #   \n",
      "=================================================================\n",
      " dense_8 (Dense)             (None, None, 2)           4         \n",
      "                                                                 \n",
      " bidirectional_4 (Bidirectio  (None, None, 16)         704       \n",
      " nal)                                                            \n",
      "                                                                 \n",
      " dropout_4 (Dropout)         (None, None, 16)          0         \n",
      "                                                                 \n",
      " bidirectional_5 (Bidirectio  (None, 16)               1600      \n",
      " nal)                                                            \n",
      "                                                                 \n",
      " dropout_5 (Dropout)         (None, 16)                0         \n",
      "                                                                 \n",
      " dense_9 (Dense)             (None, 4)                 68        \n",
      "                                                                 \n",
      " dense_10 (Dense)            (None, 1)                 5         \n",
      "                                                                 \n",
      "=================================================================\n",
      "Total params: 2,381\n",
      "Trainable params: 2,381\n",
      "Non-trainable params: 0\n",
      "_________________________________________________________________\n",
      "Epoch 1/500\n"
     ]
    },
    {
     "name": "stderr",
     "output_type": "stream",
     "text": [
      "2022-04-23 17:18:06.251637: I tensorflow/core/grappler/optimizers/custom_graph_optimizer_registry.cc:113] Plugin optimizer for device_type GPU is enabled.\n",
      "2022-04-23 17:18:06.642231: I tensorflow/core/grappler/optimizers/custom_graph_optimizer_registry.cc:113] Plugin optimizer for device_type GPU is enabled.\n",
      "2022-04-23 17:18:06.652354: I tensorflow/core/grappler/optimizers/custom_graph_optimizer_registry.cc:113] Plugin optimizer for device_type GPU is enabled.\n",
      "2022-04-23 17:18:06.711360: I tensorflow/core/grappler/optimizers/custom_graph_optimizer_registry.cc:113] Plugin optimizer for device_type GPU is enabled.\n",
      "2022-04-23 17:18:06.721378: I tensorflow/core/grappler/optimizers/custom_graph_optimizer_registry.cc:113] Plugin optimizer for device_type GPU is enabled.\n",
      "2022-04-23 17:18:06.808363: I tensorflow/core/grappler/optimizers/custom_graph_optimizer_registry.cc:113] Plugin optimizer for device_type GPU is enabled.\n",
      "2022-04-23 17:18:06.823806: I tensorflow/core/grappler/optimizers/custom_graph_optimizer_registry.cc:113] Plugin optimizer for device_type GPU is enabled.\n"
     ]
    },
    {
     "name": "stdout",
     "output_type": "stream",
     "text": [
      "      3/Unknown - 4s 27ms/step - loss: 0.1909 - mae: 0.3749"
     ]
    },
    {
     "name": "stderr",
     "output_type": "stream",
     "text": [
      "2022-04-23 17:18:06.911075: I tensorflow/core/grappler/optimizers/custom_graph_optimizer_registry.cc:113] Plugin optimizer for device_type GPU is enabled.\n",
      "2022-04-23 17:18:06.928467: I tensorflow/core/grappler/optimizers/custom_graph_optimizer_registry.cc:113] Plugin optimizer for device_type GPU is enabled.\n"
     ]
    },
    {
     "name": "stdout",
     "output_type": "stream",
     "text": [
      "     26/Unknown - 4s 21ms/step - loss: 0.1232 - mae: 0.2905"
     ]
    },
    {
     "name": "stderr",
     "output_type": "stream",
     "text": [
      "2022-04-23 17:18:08.336484: I tensorflow/core/grappler/optimizers/custom_graph_optimizer_registry.cc:113] Plugin optimizer for device_type GPU is enabled.\n",
      "2022-04-23 17:18:08.477101: I tensorflow/core/grappler/optimizers/custom_graph_optimizer_registry.cc:113] Plugin optimizer for device_type GPU is enabled.\n",
      "2022-04-23 17:18:08.484245: I tensorflow/core/grappler/optimizers/custom_graph_optimizer_registry.cc:113] Plugin optimizer for device_type GPU is enabled.\n",
      "2022-04-23 17:18:08.537014: I tensorflow/core/grappler/optimizers/custom_graph_optimizer_registry.cc:113] Plugin optimizer for device_type GPU is enabled.\n"
     ]
    },
    {
     "name": "stdout",
     "output_type": "stream",
     "text": [
      "26/26 [==============================] - 5s 65ms/step - loss: 0.1232 - mae: 0.2905 - val_loss: 0.1094 - val_mae: 0.2199\n",
      "Epoch 2/500\n",
      " 4/26 [===>..........................] - ETA: 0s - loss: 0.1244 - mae: 0.2956"
     ]
    },
    {
     "name": "stderr",
     "output_type": "stream",
     "text": [
      "2022-04-23 17:18:08.544801: I tensorflow/core/grappler/optimizers/custom_graph_optimizer_registry.cc:113] Plugin optimizer for device_type GPU is enabled.\n"
     ]
    },
    {
     "name": "stdout",
     "output_type": "stream",
     "text": [
      "26/26 [==============================] - 1s 21ms/step - loss: 0.0612 - mae: 0.1908 - val_loss: 0.0750 - val_mae: 0.2118\n",
      "Epoch 3/500\n",
      "26/26 [==============================] - 1s 20ms/step - loss: 0.0454 - mae: 0.1698 - val_loss: 0.0691 - val_mae: 0.2126\n",
      "Epoch 4/500\n",
      "26/26 [==============================] - 1s 20ms/step - loss: 0.0430 - mae: 0.1595 - val_loss: 0.0684 - val_mae: 0.2096\n",
      "Epoch 5/500\n",
      "26/26 [==============================] - 1s 20ms/step - loss: 0.0384 - mae: 0.1469 - val_loss: 0.0671 - val_mae: 0.2064\n",
      "Epoch 6/500\n",
      "26/26 [==============================] - 1s 20ms/step - loss: 0.0379 - mae: 0.1465 - val_loss: 0.0654 - val_mae: 0.2034\n",
      "Epoch 7/500\n",
      "26/26 [==============================] - 1s 20ms/step - loss: 0.0370 - mae: 0.1453 - val_loss: 0.0642 - val_mae: 0.1993\n",
      "Epoch 8/500\n",
      "26/26 [==============================] - 1s 20ms/step - loss: 0.0371 - mae: 0.1444 - val_loss: 0.0622 - val_mae: 0.1957\n",
      "Epoch 9/500\n",
      "26/26 [==============================] - 1s 20ms/step - loss: 0.0359 - mae: 0.1413 - val_loss: 0.0603 - val_mae: 0.1912\n",
      "Epoch 10/500\n",
      "26/26 [==============================] - 1s 20ms/step - loss: 0.0363 - mae: 0.1425 - val_loss: 0.0589 - val_mae: 0.1869\n",
      "Epoch 11/500\n",
      "26/26 [==============================] - 1s 20ms/step - loss: 0.0341 - mae: 0.1418 - val_loss: 0.0565 - val_mae: 0.1837\n",
      "Epoch 12/500\n",
      "26/26 [==============================] - 1s 20ms/step - loss: 0.0362 - mae: 0.1411 - val_loss: 0.0559 - val_mae: 0.1803\n",
      "Epoch 13/500\n",
      "26/26 [==============================] - 1s 20ms/step - loss: 0.0351 - mae: 0.1416 - val_loss: 0.0546 - val_mae: 0.1770\n",
      "Epoch 14/500\n",
      "26/26 [==============================] - 1s 20ms/step - loss: 0.0334 - mae: 0.1385 - val_loss: 0.0533 - val_mae: 0.1737\n",
      "Epoch 15/500\n",
      "26/26 [==============================] - 1s 20ms/step - loss: 0.0342 - mae: 0.1382 - val_loss: 0.0523 - val_mae: 0.1713\n",
      "Epoch 16/500\n",
      "26/26 [==============================] - 1s 20ms/step - loss: 0.0351 - mae: 0.1404 - val_loss: 0.0527 - val_mae: 0.1711\n",
      "Epoch 17/500\n",
      "26/26 [==============================] - 1s 20ms/step - loss: 0.0339 - mae: 0.1366 - val_loss: 0.0529 - val_mae: 0.1703\n",
      "Epoch 18/500\n",
      "26/26 [==============================] - 1s 20ms/step - loss: 0.0347 - mae: 0.1395 - val_loss: 0.0513 - val_mae: 0.1684\n",
      "Epoch 19/500\n",
      "26/26 [==============================] - 1s 20ms/step - loss: 0.0341 - mae: 0.1380 - val_loss: 0.0510 - val_mae: 0.1679\n",
      "Epoch 20/500\n",
      "26/26 [==============================] - 1s 20ms/step - loss: 0.0342 - mae: 0.1354 - val_loss: 0.0521 - val_mae: 0.1684\n",
      "Epoch 21/500\n",
      "26/26 [==============================] - 1s 20ms/step - loss: 0.0353 - mae: 0.1393 - val_loss: 0.0519 - val_mae: 0.1668\n",
      "Epoch 22/500\n",
      "26/26 [==============================] - 1s 20ms/step - loss: 0.0339 - mae: 0.1378 - val_loss: 0.0503 - val_mae: 0.1657\n",
      "Epoch 23/500\n",
      "26/26 [==============================] - 1s 20ms/step - loss: 0.0334 - mae: 0.1367 - val_loss: 0.0507 - val_mae: 0.1651\n",
      "Epoch 24/500\n",
      "26/26 [==============================] - 1s 20ms/step - loss: 0.0341 - mae: 0.1365 - val_loss: 0.0503 - val_mae: 0.1646\n",
      "Epoch 25/500\n",
      "26/26 [==============================] - 1s 20ms/step - loss: 0.0343 - mae: 0.1382 - val_loss: 0.0503 - val_mae: 0.1632\n",
      "Epoch 26/500\n",
      "26/26 [==============================] - 1s 20ms/step - loss: 0.0342 - mae: 0.1361 - val_loss: 0.0505 - val_mae: 0.1632\n",
      "Epoch 27/500\n",
      "26/26 [==============================] - 1s 20ms/step - loss: 0.0340 - mae: 0.1376 - val_loss: 0.0496 - val_mae: 0.1627\n",
      "Epoch 28/500\n",
      "26/26 [==============================] - 1s 20ms/step - loss: 0.0340 - mae: 0.1358 - val_loss: 0.0502 - val_mae: 0.1632\n",
      "Epoch 29/500\n",
      "26/26 [==============================] - 1s 20ms/step - loss: 0.0354 - mae: 0.1404 - val_loss: 0.0498 - val_mae: 0.1632\n",
      "Epoch 30/500\n",
      "26/26 [==============================] - 1s 20ms/step - loss: 0.0337 - mae: 0.1366 - val_loss: 0.0497 - val_mae: 0.1639\n",
      "Epoch 31/500\n",
      "26/26 [==============================] - 1s 20ms/step - loss: 0.0338 - mae: 0.1364 - val_loss: 0.0509 - val_mae: 0.1633\n",
      "Epoch 32/500\n",
      "26/26 [==============================] - 1s 20ms/step - loss: 0.0331 - mae: 0.1358 - val_loss: 0.0494 - val_mae: 0.1628\n",
      "Epoch 33/500\n",
      "26/26 [==============================] - 1s 20ms/step - loss: 0.0338 - mae: 0.1358 - val_loss: 0.0498 - val_mae: 0.1633\n",
      "Epoch 34/500\n",
      "26/26 [==============================] - 1s 20ms/step - loss: 0.0336 - mae: 0.1377 - val_loss: 0.0499 - val_mae: 0.1640\n",
      "Epoch 35/500\n",
      "26/26 [==============================] - 1s 20ms/step - loss: 0.0339 - mae: 0.1354 - val_loss: 0.0499 - val_mae: 0.1630\n",
      "Epoch 36/500\n",
      "26/26 [==============================] - 1s 20ms/step - loss: 0.0326 - mae: 0.1353 - val_loss: 0.0490 - val_mae: 0.1614\n",
      "Epoch 37/500\n",
      "26/26 [==============================] - 1s 20ms/step - loss: 0.0334 - mae: 0.1361 - val_loss: 0.0491 - val_mae: 0.1624\n",
      "Epoch 38/500\n",
      "26/26 [==============================] - 1s 20ms/step - loss: 0.0338 - mae: 0.1375 - val_loss: 0.0496 - val_mae: 0.1610\n",
      "Epoch 39/500\n",
      "26/26 [==============================] - 1s 20ms/step - loss: 0.0334 - mae: 0.1359 - val_loss: 0.0491 - val_mae: 0.1620\n",
      "Epoch 40/500\n",
      "26/26 [==============================] - 1s 20ms/step - loss: 0.0331 - mae: 0.1361 - val_loss: 0.0494 - val_mae: 0.1628\n",
      "Epoch 41/500\n",
      "26/26 [==============================] - 1s 20ms/step - loss: 0.0349 - mae: 0.1361 - val_loss: 0.0505 - val_mae: 0.1625\n",
      "Epoch 42/500\n",
      "26/26 [==============================] - 1s 20ms/step - loss: 0.0333 - mae: 0.1354 - val_loss: 0.0488 - val_mae: 0.1626\n",
      "Epoch 43/500\n",
      "26/26 [==============================] - 1s 20ms/step - loss: 0.0341 - mae: 0.1372 - val_loss: 0.0494 - val_mae: 0.1622\n",
      "Epoch 44/500\n",
      "26/26 [==============================] - 1s 20ms/step - loss: 0.0337 - mae: 0.1349 - val_loss: 0.0497 - val_mae: 0.1639\n",
      "Epoch 45/500\n",
      "26/26 [==============================] - 1s 20ms/step - loss: 0.0340 - mae: 0.1356 - val_loss: 0.0500 - val_mae: 0.1642\n",
      "Epoch 46/500\n",
      "26/26 [==============================] - 1s 20ms/step - loss: 0.0344 - mae: 0.1374 - val_loss: 0.0512 - val_mae: 0.1648\n",
      "Epoch 47/500\n",
      "26/26 [==============================] - 1s 21ms/step - loss: 0.0330 - mae: 0.1365 - val_loss: 0.0494 - val_mae: 0.1643\n",
      "Epoch 48/500\n",
      "26/26 [==============================] - 1s 20ms/step - loss: 0.0331 - mae: 0.1350 - val_loss: 0.0497 - val_mae: 0.1644\n",
      "Epoch 49/500\n",
      "26/26 [==============================] - 1s 20ms/step - loss: 0.0341 - mae: 0.1349 - val_loss: 0.0514 - val_mae: 0.1643\n",
      "Epoch 50/500\n",
      "26/26 [==============================] - 1s 20ms/step - loss: 0.0334 - mae: 0.1358 - val_loss: 0.0497 - val_mae: 0.1636\n",
      "Epoch 51/500\n",
      "26/26 [==============================] - 1s 20ms/step - loss: 0.0333 - mae: 0.1360 - val_loss: 0.0500 - val_mae: 0.1634\n",
      "Epoch 52/500\n",
      "26/26 [==============================] - 1s 20ms/step - loss: 0.0339 - mae: 0.1381 - val_loss: 0.0505 - val_mae: 0.1629\n",
      "Epoch 53/500\n",
      "26/26 [==============================] - 1s 20ms/step - loss: 0.0337 - mae: 0.1343 - val_loss: 0.0497 - val_mae: 0.1631\n",
      "Epoch 54/500\n",
      "26/26 [==============================] - 1s 23ms/step - loss: 0.0341 - mae: 0.1352 - val_loss: 0.0502 - val_mae: 0.1628\n",
      "Epoch 55/500\n",
      "26/26 [==============================] - 1s 20ms/step - loss: 0.0331 - mae: 0.1352 - val_loss: 0.0491 - val_mae: 0.1626\n",
      "Epoch 56/500\n",
      "26/26 [==============================] - 1s 20ms/step - loss: 0.0335 - mae: 0.1340 - val_loss: 0.0496 - val_mae: 0.1627\n",
      "Epoch 57/500\n",
      "26/26 [==============================] - 1s 20ms/step - loss: 0.0333 - mae: 0.1350 - val_loss: 0.0497 - val_mae: 0.1638\n",
      "Epoch 58/500\n",
      "26/26 [==============================] - 1s 20ms/step - loss: 0.0337 - mae: 0.1347 - val_loss: 0.0504 - val_mae: 0.1634\n",
      "Epoch 59/500\n",
      "26/26 [==============================] - 1s 19ms/step - loss: 0.0333 - mae: 0.1348 - val_loss: 0.0493 - val_mae: 0.1632\n",
      "Epoch 60/500\n",
      "26/26 [==============================] - 1s 20ms/step - loss: 0.0331 - mae: 0.1349 - val_loss: 0.0494 - val_mae: 0.1633\n",
      "Epoch 61/500\n",
      "26/26 [==============================] - 1s 20ms/step - loss: 0.0337 - mae: 0.1354 - val_loss: 0.0503 - val_mae: 0.1631\n",
      "Epoch 62/500\n",
      "26/26 [==============================] - 1s 20ms/step - loss: 0.0341 - mae: 0.1362 - val_loss: 0.0500 - val_mae: 0.1636\n",
      "Epoch 63/500\n",
      "26/26 [==============================] - 1s 20ms/step - loss: 0.0334 - mae: 0.1345 - val_loss: 0.0499 - val_mae: 0.1631\n",
      "Epoch 64/500\n",
      "26/26 [==============================] - 1s 20ms/step - loss: 0.0322 - mae: 0.1344 - val_loss: 0.0490 - val_mae: 0.1622\n",
      "Epoch 65/500\n",
      "26/26 [==============================] - 1s 20ms/step - loss: 0.0349 - mae: 0.1370 - val_loss: 0.0496 - val_mae: 0.1628\n",
      "Epoch 66/500\n",
      "26/26 [==============================] - 1s 20ms/step - loss: 0.0341 - mae: 0.1353 - val_loss: 0.0501 - val_mae: 0.1630\n",
      "Epoch 67/500\n",
      "26/26 [==============================] - 1s 20ms/step - loss: 0.0331 - mae: 0.1335 - val_loss: 0.0496 - val_mae: 0.1638\n",
      "Epoch 68/500\n",
      "26/26 [==============================] - 1s 20ms/step - loss: 0.0345 - mae: 0.1367 - val_loss: 0.0503 - val_mae: 0.1628\n",
      "Epoch 69/500\n",
      "26/26 [==============================] - 1s 20ms/step - loss: 0.0337 - mae: 0.1345 - val_loss: 0.0494 - val_mae: 0.1631\n",
      "Epoch 70/500\n",
      "26/26 [==============================] - 1s 20ms/step - loss: 0.0335 - mae: 0.1354 - val_loss: 0.0494 - val_mae: 0.1624\n",
      "Epoch 71/500\n",
      "26/26 [==============================] - 1s 20ms/step - loss: 0.0331 - mae: 0.1342 - val_loss: 0.0496 - val_mae: 0.1628\n",
      "Epoch 72/500\n",
      "26/26 [==============================] - 1s 20ms/step - loss: 0.0335 - mae: 0.1349 - val_loss: 0.0499 - val_mae: 0.1623\n",
      "Epoch 73/500\n",
      "26/26 [==============================] - 1s 20ms/step - loss: 0.0333 - mae: 0.1338 - val_loss: 0.0491 - val_mae: 0.1637\n",
      "Epoch 74/500\n",
      "26/26 [==============================] - 1s 20ms/step - loss: 0.0344 - mae: 0.1381 - val_loss: 0.0496 - val_mae: 0.1636\n",
      "Epoch 75/500\n",
      "26/26 [==============================] - 1s 20ms/step - loss: 0.0332 - mae: 0.1334 - val_loss: 0.0497 - val_mae: 0.1638\n",
      "Epoch 76/500\n",
      "26/26 [==============================] - 1s 20ms/step - loss: 0.0335 - mae: 0.1352 - val_loss: 0.0505 - val_mae: 0.1630\n",
      "Epoch 77/500\n",
      "26/26 [==============================] - 1s 20ms/step - loss: 0.0341 - mae: 0.1363 - val_loss: 0.0492 - val_mae: 0.1625\n",
      "Epoch 78/500\n",
      "26/26 [==============================] - 1s 20ms/step - loss: 0.0328 - mae: 0.1345 - val_loss: 0.0493 - val_mae: 0.1627\n",
      "Epoch 79/500\n",
      "26/26 [==============================] - 1s 22ms/step - loss: 0.0343 - mae: 0.1369 - val_loss: 0.0505 - val_mae: 0.1619\n",
      "Epoch 80/500\n",
      "26/26 [==============================] - 1s 20ms/step - loss: 0.0339 - mae: 0.1340 - val_loss: 0.0494 - val_mae: 0.1619\n",
      "Epoch 81/500\n",
      "26/26 [==============================] - 1s 20ms/step - loss: 0.0338 - mae: 0.1361 - val_loss: 0.0491 - val_mae: 0.1614\n",
      "Epoch 82/500\n",
      "26/26 [==============================] - 1s 20ms/step - loss: 0.0333 - mae: 0.1343 - val_loss: 0.0491 - val_mae: 0.1625\n",
      "Epoch 83/500\n",
      "26/26 [==============================] - 1s 20ms/step - loss: 0.0341 - mae: 0.1355 - val_loss: 0.0499 - val_mae: 0.1629\n",
      "Epoch 84/500\n",
      "26/26 [==============================] - 1s 20ms/step - loss: 0.0335 - mae: 0.1357 - val_loss: 0.0494 - val_mae: 0.1625\n",
      "Epoch 85/500\n",
      "26/26 [==============================] - 1s 20ms/step - loss: 0.0336 - mae: 0.1345 - val_loss: 0.0494 - val_mae: 0.1623\n",
      "Epoch 86/500\n",
      "26/26 [==============================] - 1s 20ms/step - loss: 0.0330 - mae: 0.1342 - val_loss: 0.0492 - val_mae: 0.1629\n",
      "Epoch 87/500\n",
      "26/26 [==============================] - 1s 20ms/step - loss: 0.0336 - mae: 0.1344 - val_loss: 0.0496 - val_mae: 0.1637\n",
      "Epoch 88/500\n",
      "26/26 [==============================] - 1s 20ms/step - loss: 0.0337 - mae: 0.1360 - val_loss: 0.0494 - val_mae: 0.1617\n",
      "Epoch 89/500\n",
      "26/26 [==============================] - 1s 20ms/step - loss: 0.0333 - mae: 0.1343 - val_loss: 0.0496 - val_mae: 0.1620\n",
      "Epoch 90/500\n",
      "26/26 [==============================] - 1s 20ms/step - loss: 0.0335 - mae: 0.1352 - val_loss: 0.0489 - val_mae: 0.1615\n",
      "Epoch 91/500\n",
      "26/26 [==============================] - 1s 20ms/step - loss: 0.0340 - mae: 0.1357 - val_loss: 0.0500 - val_mae: 0.1620\n",
      "Epoch 92/500\n",
      "26/26 [==============================] - 1s 20ms/step - loss: 0.0333 - mae: 0.1342 - val_loss: 0.0489 - val_mae: 0.1624\n"
     ]
    }
   ],
   "source": [
    "#Using mae and mse\n",
    "#model.compile(optimizer=tf.keras.optimizers.SGD(learning_rate=0.001, momentum=0.9),metrics=['mae'],loss='mse')\n",
    "model.compile(optimizer=tf.keras.optimizers.Adam(),metrics=['mae'],loss='mse')\n",
    "model.summary()\n",
    "hist=model.fit(train_set,epochs=500,validation_data=valid_set, batch_size=1, callbacks=callbacks)"
   ]
  },
  {
   "cell_type": "code",
   "execution_count": 37,
   "metadata": {},
   "outputs": [
    {
     "data": {
      "image/png": "[encoded data removed]",
      "text/plain": [
       "<Figure size 432x288 with 1 Axes>"
      ]
     },
     "metadata": {
      "needs_background": "light"
     },
     "output_type": "display_data"
    }
   ],
   "source": [
    "import matplotlib.pyplot as plt\n",
    "plt.plot(hist.history['mae'], label='MAE (training data)')\n",
    "plt.plot(hist.history['val_mae'], label='MAE (validation data)')\n",
    "\n",
    "plt.title(\"MAE Cluster 2\")\n",
    "plt.ylabel('MAE value')\n",
    "plt.xlabel('No. epoch')\n",
    "plt.legend(loc=\"upper left\")\n",
    "plt.show()"
   ]
  },
  {
   "cell_type": "code",
   "execution_count": 36,
   "metadata": {},
   "outputs": [
    {
     "data": {
      "image/png": "[encoded data removed]",
      "text/plain": [
       "<Figure size 432x288 with 1 Axes>"
      ]
     },
     "metadata": {
      "needs_background": "light"
     },
     "output_type": "display_data"
    }
   ],
   "source": [
    "plt.plot(hist.history['loss'], label='loss (training data)')\n",
    "plt.plot(hist.history['val_loss'], label='loss (validation data)')\n",
    "\n",
    "plt.title(\"Loss Cluster 2 (MSE)\")\n",
    "plt.ylabel('MSE value')\n",
    "plt.xlabel('No. epoch')\n",
    "plt.legend(loc=\"upper left\")\n",
    "plt.show()"
   ]
  },
  {
   "cell_type": "code",
   "execution_count": 249,
   "metadata": {},
   "outputs": [
    {
     "data": {
      "text/plain": [
       "array([[0.49450797],\n",
       "       [0.57623845],\n",
       "       [0.3976577 ],\n",
       "       [0.2786767 ],\n",
       "       [0.23048475],\n",
       "       [0.22358832]], dtype=float32)"
      ]
     },
     "execution_count": 249,
     "metadata": {},
     "output_type": "execute_result"
    }
   ],
   "source": [
    "prediksi=model.predict(np.array(x_valid))\n",
    "prediksi"
   ]
  },
  {
   "cell_type": "code",
   "execution_count": 250,
   "metadata": {},
   "outputs": [],
   "source": [
    "prediksi=prediksi.flatten()"
   ]
  },
  {
   "cell_type": "code",
   "execution_count": 251,
   "metadata": {},
   "outputs": [],
   "source": [
    "series = series*(max-min) + min\n",
    "prediksi = prediksi*(max_t-min_t)+ min_t\n",
    "series_t = series_t*(max_t-min_t) + min_t  \n",
    "hasil=np.concatenate((series,prediksi))\n",
    "asli = np.concatenate((series,series_t))"
   ]
  },
  {
   "cell_type": "code",
   "execution_count": 252,
   "metadata": {},
   "outputs": [
    {
     "data": {
      "text/plain": [
       "[]"
      ]
     },
     "execution_count": 252,
     "metadata": {},
     "output_type": "execute_result"
    },
    {
     "data": {
      "image/png": "[encoded data removed]",
      "text/plain": [
       "<Figure size 432x288 with 1 Axes>"
      ]
     },
     "metadata": {
      "needs_background": "light"
     },
     "output_type": "display_data"
    }
   ],
   "source": [
    "plt.plot(asli,marker = 'o',label='data asli')\n",
    "plt.plot(hasil,marker = 'o',label='data prediksi')\n",
    "plt.title('penjualan produk cluster 2')\n",
    "plt.legend()\n",
    "plt.plot()"
   ]
  },
  {
   "cell_type": "code",
   "execution_count": 38,
   "metadata": {},
   "outputs": [],
   "source": [
    "model.save('cluster2_newdata.h5')"
   ]
  },
  {
   "cell_type": "markdown",
   "metadata": {},
   "source": [
    "# Satu Produk"
   ]
  },
  {
   "cell_type": "code",
   "execution_count": 254,
   "metadata": {},
   "outputs": [
    {
     "data": {
      "text/html": [
       "<div>\n",
       "<style scoped>\n",
       "    .dataframe tbody tr th:only-of-type {\n",
       "        vertical-align: middle;\n",
       "    }\n",
       "\n",
       "    .dataframe tbody tr th {\n",
       "        vertical-align: top;\n",
       "    }\n",
       "\n",
       "    .dataframe thead th {\n",
       "        text-align: right;\n",
       "    }\n",
       "</style>\n",
       "<table border=\"1\" class=\"dataframe\">\n",
       "  <thead>\n",
       "    <tr style=\"text-align: right;\">\n",
       "      <th></th>\n",
       "      <th>1</th>\n",
       "      <th>2</th>\n",
       "      <th>3</th>\n",
       "      <th>4</th>\n",
       "      <th>5</th>\n",
       "      <th>6</th>\n",
       "      <th>7</th>\n",
       "      <th>8</th>\n",
       "      <th>9</th>\n",
       "      <th>10</th>\n",
       "      <th>...</th>\n",
       "      <th>45</th>\n",
       "      <th>46</th>\n",
       "      <th>47</th>\n",
       "      <th>48</th>\n",
       "      <th>49</th>\n",
       "      <th>50</th>\n",
       "      <th>51</th>\n",
       "      <th>52</th>\n",
       "      <th>53</th>\n",
       "      <th>54</th>\n",
       "    </tr>\n",
       "  </thead>\n",
       "  <tbody>\n",
       "    <tr>\n",
       "      <th>04105</th>\n",
       "      <td>2934</td>\n",
       "      <td>1481</td>\n",
       "      <td>1946</td>\n",
       "      <td>2130</td>\n",
       "      <td>2152</td>\n",
       "      <td>1563</td>\n",
       "      <td>1975</td>\n",
       "      <td>2426</td>\n",
       "      <td>1844</td>\n",
       "      <td>1944</td>\n",
       "      <td>...</td>\n",
       "      <td>1717</td>\n",
       "      <td>1858</td>\n",
       "      <td>1922</td>\n",
       "      <td>1731</td>\n",
       "      <td>2472</td>\n",
       "      <td>1846</td>\n",
       "      <td>2291</td>\n",
       "      <td>2199</td>\n",
       "      <td>1849</td>\n",
       "      <td>2180</td>\n",
       "    </tr>\n",
       "  </tbody>\n",
       "</table>\n",
       "<p>1 rows × 54 columns</p>\n",
       "</div>"
      ],
      "text/plain": [
       "         1     2     3     4     5     6     7     8     9     10  ...    45  \\\n",
       "04105  2934  1481  1946  2130  2152  1563  1975  2426  1844  1944  ...  1717   \n",
       "\n",
       "         46    47    48    49    50    51    52    53    54  \n",
       "04105  1858  1922  1731  2472  1846  2291  2199  1849  2180  \n",
       "\n",
       "[1 rows x 54 columns]"
      ]
     },
     "execution_count": 254,
     "metadata": {},
     "output_type": "execute_result"
    }
   ],
   "source": [
    "new_c2 = c2.sample()\n",
    "new_c2"
   ]
  },
  {
   "cell_type": "code",
   "execution_count": 255,
   "metadata": {},
   "outputs": [
    {
     "data": {
      "text/html": [
       "<div>\n",
       "<style scoped>\n",
       "    .dataframe tbody tr th:only-of-type {\n",
       "        vertical-align: middle;\n",
       "    }\n",
       "\n",
       "    .dataframe tbody tr th {\n",
       "        vertical-align: top;\n",
       "    }\n",
       "\n",
       "    .dataframe thead th {\n",
       "        text-align: right;\n",
       "    }\n",
       "</style>\n",
       "<table border=\"1\" class=\"dataframe\">\n",
       "  <thead>\n",
       "    <tr style=\"text-align: right;\">\n",
       "      <th></th>\n",
       "      <th>bulan 1</th>\n",
       "      <th>bulan 2</th>\n",
       "      <th>bulan 3</th>\n",
       "      <th>bulan 4</th>\n",
       "      <th>bulan 5</th>\n",
       "      <th>bulan 6</th>\n",
       "    </tr>\n",
       "  </thead>\n",
       "  <tbody>\n",
       "    <tr>\n",
       "      <th>04105</th>\n",
       "      <td>2713</td>\n",
       "      <td>2733</td>\n",
       "      <td>2338</td>\n",
       "      <td>1957</td>\n",
       "      <td>2022</td>\n",
       "      <td>2457</td>\n",
       "    </tr>\n",
       "  </tbody>\n",
       "</table>\n",
       "</div>"
      ],
      "text/plain": [
       "       bulan 1  bulan 2  bulan 3  bulan 4  bulan 5  bulan 6\n",
       "04105     2713     2733     2338     1957     2022     2457"
      ]
     },
     "execution_count": 255,
     "metadata": {},
     "output_type": "execute_result"
    }
   ],
   "source": [
    "c2_t.set_index(col,inplace=True)\n",
    "new_c2_t = c2_t.loc[new_c2.index]\n",
    "new_c2_t"
   ]
  },
  {
   "cell_type": "code",
   "execution_count": 256,
   "metadata": {},
   "outputs": [],
   "source": [
    "series=new_c2.values\n",
    "min = np.min(series)\n",
    "max = np.max(series)\n",
    "series = series - min\n",
    "series = series / (max-min)\n",
    "time = np.array(time)\n",
    "\n",
    "series_t=new_c2_t.values\n",
    "min_t = np.min(series_t)\n",
    "max_t = np.max(series_t)\n",
    "series_t = series_t - min_t\n",
    "series_t = series_t / (max_t-min_t)\n",
    "time_t = np.array(time_t)"
   ]
  },
  {
   "cell_type": "code",
   "execution_count": 257,
   "metadata": {},
   "outputs": [],
   "source": [
    "series = series.reshape(-1,)\n",
    "series_t= np.array(series_t).reshape(-1,)\n"
   ]
  },
  {
   "cell_type": "code",
   "execution_count": 258,
   "metadata": {},
   "outputs": [
    {
     "data": {
      "text/plain": [
       "array([[0.5685271 ],\n",
       "       [0.57623845],\n",
       "       [0.3969125 ],\n",
       "       [0.22358832],\n",
       "       [0.24386802],\n",
       "       [0.45657247]], dtype=float32)"
      ]
     },
     "execution_count": 258,
     "metadata": {},
     "output_type": "execute_result"
    }
   ],
   "source": [
    "prediksi=model.predict(np.array(series_t))\n",
    "prediksi"
   ]
  },
  {
   "cell_type": "code",
   "execution_count": 259,
   "metadata": {},
   "outputs": [],
   "source": [
    "prediksi=prediksi.flatten()"
   ]
  },
  {
   "cell_type": "code",
   "execution_count": 260,
   "metadata": {},
   "outputs": [],
   "source": [
    "series = series*(max-min) + min\n",
    "prediksi = prediksi*(max_t-min_t)+ min_t\n",
    "series_t = series_t*(max_t-min_t) + min_t  \n",
    "hasil=np.concatenate((series,prediksi))\n",
    "asli = np.concatenate((series,series_t))"
   ]
  },
  {
   "cell_type": "code",
   "execution_count": 261,
   "metadata": {},
   "outputs": [
    {
     "data": {
      "text/plain": [
       "[]"
      ]
     },
     "execution_count": 261,
     "metadata": {},
     "output_type": "execute_result"
    },
    {
     "data": {
      "image/png": "[encoded data removed]",
      "text/plain": [
       "<Figure size 432x288 with 1 Axes>"
      ]
     },
     "metadata": {
      "needs_background": "light"
     },
     "output_type": "display_data"
    }
   ],
   "source": [
    "plt.plot(asli,marker = 'o',label='data asli')\n",
    "plt.plot(hasil,marker = 'o',label='data prediksi')\n",
    "plt.title('penjualan produk produk '+str(new_c2.index[0]))\n",
    "plt.legend()\n",
    "plt.plot()"
   ]
  },
  {
   "cell_type": "code",
   "execution_count": null,
   "metadata": {},
   "outputs": [],
   "source": []
  }
 ],
 "metadata": {
  "interpreter": {
   "hash": "c9d83cc02921a4738836e4c62bbe4b1fbf4384e37b2198c6e81d5aaf3defd2c8"
  },
  "kernelspec": {
   "display_name": "Python 3.8.5 ('base')",
   "language": "python",
   "name": "python3"
  },
  "language_info": {
   "codemirror_mode": {
    "name": "ipython",
    "version": 3
   },
   "file_extension": ".py",
   "mimetype": "text/x-python",
   "name": "python",
   "nbconvert_exporter": "python",
   "pygments_lexer": "ipython3",
   "version": "3.8.11"
  },
  "orig_nbformat": 4
 },
 "nbformat": 4,
 "nbformat_minor": 2
}
