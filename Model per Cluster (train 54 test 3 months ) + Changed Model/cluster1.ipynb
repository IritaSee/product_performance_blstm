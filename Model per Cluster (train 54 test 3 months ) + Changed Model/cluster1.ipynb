{
 "cells": [
  {
   "cell_type": "markdown",
   "metadata": {},
   "source": [
    "# Permodelan Cluster 1"
   ]
  },
  {
   "cell_type": "markdown",
   "metadata": {},
   "source": [
    "Import segala pustaka (library) yang digunakan\n"
   ]
  },
  {
   "cell_type": "code",
   "execution_count": 1,
   "metadata": {},
   "outputs": [],
   "source": [
    "import tensorflow as tf #untuk mempermudah pembuatan deep learning\n",
    "import pandas as pd #mempermudah pembacaan data dengan ukuran besar (big data) dari data penjualan\n",
    "import numpy as np #mempermudah pengolahan data dari library sebelumnya\n",
    "import matplotlib.pyplot as plt #untuk mempermudah visualisasi\n",
    "from sklearn.preprocessing import MinMaxScaler #untuk menskala data sehingga mudah dibaca dan diproses deep learning"
   ]
  },
  {
   "cell_type": "markdown",
   "metadata": {},
   "source": [
    "## Pembacaan Data"
   ]
  },
  {
   "cell_type": "markdown",
   "metadata": {},
   "source": [
    "Baca dataset train"
   ]
  },
  {
   "cell_type": "code",
   "execution_count": 2,
   "metadata": {},
   "outputs": [
    {
     "data": {
      "text/html": [
       "<div>\n",
       "<style scoped>\n",
       "    .dataframe tbody tr th:only-of-type {\n",
       "        vertical-align: middle;\n",
       "    }\n",
       "\n",
       "    .dataframe tbody tr th {\n",
       "        vertical-align: top;\n",
       "    }\n",
       "\n",
       "    .dataframe thead th {\n",
       "        text-align: right;\n",
       "    }\n",
       "</style>\n",
       "<table border=\"1\" class=\"dataframe\">\n",
       "  <thead>\n",
       "    <tr style=\"text-align: right;\">\n",
       "      <th></th>\n",
       "      <th>KodeBarang</th>\n",
       "      <th>1</th>\n",
       "      <th>2</th>\n",
       "      <th>3</th>\n",
       "      <th>4</th>\n",
       "      <th>5</th>\n",
       "      <th>6</th>\n",
       "      <th>7</th>\n",
       "      <th>8</th>\n",
       "      <th>9</th>\n",
       "      <th>...</th>\n",
       "      <th>46</th>\n",
       "      <th>47</th>\n",
       "      <th>48</th>\n",
       "      <th>49</th>\n",
       "      <th>50</th>\n",
       "      <th>51</th>\n",
       "      <th>52</th>\n",
       "      <th>53</th>\n",
       "      <th>54</th>\n",
       "      <th>cluster</th>\n",
       "    </tr>\n",
       "  </thead>\n",
       "  <tbody>\n",
       "    <tr>\n",
       "      <th>0</th>\n",
       "      <td>04121</td>\n",
       "      <td>7</td>\n",
       "      <td>9</td>\n",
       "      <td>6</td>\n",
       "      <td>9</td>\n",
       "      <td>40</td>\n",
       "      <td>0</td>\n",
       "      <td>3</td>\n",
       "      <td>0</td>\n",
       "      <td>7</td>\n",
       "      <td>...</td>\n",
       "      <td>67</td>\n",
       "      <td>77</td>\n",
       "      <td>11</td>\n",
       "      <td>57</td>\n",
       "      <td>43</td>\n",
       "      <td>50</td>\n",
       "      <td>37</td>\n",
       "      <td>21</td>\n",
       "      <td>136</td>\n",
       "      <td>0</td>\n",
       "    </tr>\n",
       "    <tr>\n",
       "      <th>1</th>\n",
       "      <td>18031</td>\n",
       "      <td>230</td>\n",
       "      <td>227</td>\n",
       "      <td>279</td>\n",
       "      <td>153</td>\n",
       "      <td>190</td>\n",
       "      <td>256</td>\n",
       "      <td>267</td>\n",
       "      <td>305</td>\n",
       "      <td>238</td>\n",
       "      <td>...</td>\n",
       "      <td>336</td>\n",
       "      <td>153</td>\n",
       "      <td>103</td>\n",
       "      <td>221</td>\n",
       "      <td>360</td>\n",
       "      <td>280</td>\n",
       "      <td>240</td>\n",
       "      <td>120</td>\n",
       "      <td>548</td>\n",
       "      <td>1</td>\n",
       "    </tr>\n",
       "    <tr>\n",
       "      <th>2</th>\n",
       "      <td>04161</td>\n",
       "      <td>102</td>\n",
       "      <td>50</td>\n",
       "      <td>45</td>\n",
       "      <td>41</td>\n",
       "      <td>71</td>\n",
       "      <td>11</td>\n",
       "      <td>52</td>\n",
       "      <td>14</td>\n",
       "      <td>66</td>\n",
       "      <td>...</td>\n",
       "      <td>21</td>\n",
       "      <td>20</td>\n",
       "      <td>7</td>\n",
       "      <td>33</td>\n",
       "      <td>21</td>\n",
       "      <td>28</td>\n",
       "      <td>30</td>\n",
       "      <td>10</td>\n",
       "      <td>18</td>\n",
       "      <td>0</td>\n",
       "    </tr>\n",
       "    <tr>\n",
       "      <th>3</th>\n",
       "      <td>04162</td>\n",
       "      <td>272</td>\n",
       "      <td>155</td>\n",
       "      <td>214</td>\n",
       "      <td>226</td>\n",
       "      <td>268</td>\n",
       "      <td>110</td>\n",
       "      <td>204</td>\n",
       "      <td>253</td>\n",
       "      <td>193</td>\n",
       "      <td>...</td>\n",
       "      <td>102</td>\n",
       "      <td>118</td>\n",
       "      <td>120</td>\n",
       "      <td>211</td>\n",
       "      <td>292</td>\n",
       "      <td>105</td>\n",
       "      <td>108</td>\n",
       "      <td>101</td>\n",
       "      <td>117</td>\n",
       "      <td>1</td>\n",
       "    </tr>\n",
       "    <tr>\n",
       "      <th>4</th>\n",
       "      <td>04163</td>\n",
       "      <td>28</td>\n",
       "      <td>28</td>\n",
       "      <td>29</td>\n",
       "      <td>52</td>\n",
       "      <td>44</td>\n",
       "      <td>21</td>\n",
       "      <td>47</td>\n",
       "      <td>15</td>\n",
       "      <td>24</td>\n",
       "      <td>...</td>\n",
       "      <td>18</td>\n",
       "      <td>23</td>\n",
       "      <td>22</td>\n",
       "      <td>16</td>\n",
       "      <td>22</td>\n",
       "      <td>31</td>\n",
       "      <td>36</td>\n",
       "      <td>17</td>\n",
       "      <td>14</td>\n",
       "      <td>0</td>\n",
       "    </tr>\n",
       "    <tr>\n",
       "      <th>...</th>\n",
       "      <td>...</td>\n",
       "      <td>...</td>\n",
       "      <td>...</td>\n",
       "      <td>...</td>\n",
       "      <td>...</td>\n",
       "      <td>...</td>\n",
       "      <td>...</td>\n",
       "      <td>...</td>\n",
       "      <td>...</td>\n",
       "      <td>...</td>\n",
       "      <td>...</td>\n",
       "      <td>...</td>\n",
       "      <td>...</td>\n",
       "      <td>...</td>\n",
       "      <td>...</td>\n",
       "      <td>...</td>\n",
       "      <td>...</td>\n",
       "      <td>...</td>\n",
       "      <td>...</td>\n",
       "      <td>...</td>\n",
       "      <td>...</td>\n",
       "    </tr>\n",
       "    <tr>\n",
       "      <th>101</th>\n",
       "      <td>04157</td>\n",
       "      <td>55</td>\n",
       "      <td>64</td>\n",
       "      <td>44</td>\n",
       "      <td>61</td>\n",
       "      <td>30</td>\n",
       "      <td>1</td>\n",
       "      <td>24</td>\n",
       "      <td>37</td>\n",
       "      <td>67</td>\n",
       "      <td>...</td>\n",
       "      <td>20</td>\n",
       "      <td>10</td>\n",
       "      <td>300</td>\n",
       "      <td>34</td>\n",
       "      <td>7</td>\n",
       "      <td>7</td>\n",
       "      <td>6</td>\n",
       "      <td>4</td>\n",
       "      <td>21</td>\n",
       "      <td>0</td>\n",
       "    </tr>\n",
       "    <tr>\n",
       "      <th>102</th>\n",
       "      <td>18104</td>\n",
       "      <td>46</td>\n",
       "      <td>295</td>\n",
       "      <td>83</td>\n",
       "      <td>112</td>\n",
       "      <td>70</td>\n",
       "      <td>40</td>\n",
       "      <td>18</td>\n",
       "      <td>140</td>\n",
       "      <td>97</td>\n",
       "      <td>...</td>\n",
       "      <td>47</td>\n",
       "      <td>54</td>\n",
       "      <td>27</td>\n",
       "      <td>15</td>\n",
       "      <td>57</td>\n",
       "      <td>132</td>\n",
       "      <td>66</td>\n",
       "      <td>34</td>\n",
       "      <td>146</td>\n",
       "      <td>0</td>\n",
       "    </tr>\n",
       "    <tr>\n",
       "      <th>103</th>\n",
       "      <td>18106</td>\n",
       "      <td>200</td>\n",
       "      <td>204</td>\n",
       "      <td>0</td>\n",
       "      <td>2</td>\n",
       "      <td>10</td>\n",
       "      <td>7</td>\n",
       "      <td>0</td>\n",
       "      <td>27</td>\n",
       "      <td>74</td>\n",
       "      <td>...</td>\n",
       "      <td>15</td>\n",
       "      <td>136</td>\n",
       "      <td>15</td>\n",
       "      <td>15</td>\n",
       "      <td>14</td>\n",
       "      <td>131</td>\n",
       "      <td>84</td>\n",
       "      <td>12</td>\n",
       "      <td>14</td>\n",
       "      <td>0</td>\n",
       "    </tr>\n",
       "    <tr>\n",
       "      <th>104</th>\n",
       "      <td>18092</td>\n",
       "      <td>297</td>\n",
       "      <td>418</td>\n",
       "      <td>329</td>\n",
       "      <td>70</td>\n",
       "      <td>498</td>\n",
       "      <td>59</td>\n",
       "      <td>298</td>\n",
       "      <td>376</td>\n",
       "      <td>259</td>\n",
       "      <td>...</td>\n",
       "      <td>450</td>\n",
       "      <td>498</td>\n",
       "      <td>254</td>\n",
       "      <td>260</td>\n",
       "      <td>336</td>\n",
       "      <td>493</td>\n",
       "      <td>438</td>\n",
       "      <td>408</td>\n",
       "      <td>322</td>\n",
       "      <td>1</td>\n",
       "    </tr>\n",
       "    <tr>\n",
       "      <th>105</th>\n",
       "      <td>04143</td>\n",
       "      <td>132</td>\n",
       "      <td>80</td>\n",
       "      <td>103</td>\n",
       "      <td>113</td>\n",
       "      <td>81</td>\n",
       "      <td>108</td>\n",
       "      <td>124</td>\n",
       "      <td>101</td>\n",
       "      <td>119</td>\n",
       "      <td>...</td>\n",
       "      <td>153</td>\n",
       "      <td>130</td>\n",
       "      <td>121</td>\n",
       "      <td>189</td>\n",
       "      <td>92</td>\n",
       "      <td>226</td>\n",
       "      <td>181</td>\n",
       "      <td>112</td>\n",
       "      <td>214</td>\n",
       "      <td>1</td>\n",
       "    </tr>\n",
       "  </tbody>\n",
       "</table>\n",
       "<p>106 rows × 56 columns</p>\n",
       "</div>"
      ],
      "text/plain": [
       "    KodeBarang    1    2    3    4    5    6    7    8    9  ...   46   47  \\\n",
       "0        04121    7    9    6    9   40    0    3    0    7  ...   67   77   \n",
       "1        18031  230  227  279  153  190  256  267  305  238  ...  336  153   \n",
       "2        04161  102   50   45   41   71   11   52   14   66  ...   21   20   \n",
       "3        04162  272  155  214  226  268  110  204  253  193  ...  102  118   \n",
       "4        04163   28   28   29   52   44   21   47   15   24  ...   18   23   \n",
       "..         ...  ...  ...  ...  ...  ...  ...  ...  ...  ...  ...  ...  ...   \n",
       "101      04157   55   64   44   61   30    1   24   37   67  ...   20   10   \n",
       "102      18104   46  295   83  112   70   40   18  140   97  ...   47   54   \n",
       "103      18106  200  204    0    2   10    7    0   27   74  ...   15  136   \n",
       "104      18092  297  418  329   70  498   59  298  376  259  ...  450  498   \n",
       "105      04143  132   80  103  113   81  108  124  101  119  ...  153  130   \n",
       "\n",
       "      48   49   50   51   52   53   54  cluster  \n",
       "0     11   57   43   50   37   21  136        0  \n",
       "1    103  221  360  280  240  120  548        1  \n",
       "2      7   33   21   28   30   10   18        0  \n",
       "3    120  211  292  105  108  101  117        1  \n",
       "4     22   16   22   31   36   17   14        0  \n",
       "..   ...  ...  ...  ...  ...  ...  ...      ...  \n",
       "101  300   34    7    7    6    4   21        0  \n",
       "102   27   15   57  132   66   34  146        0  \n",
       "103   15   15   14  131   84   12   14        0  \n",
       "104  254  260  336  493  438  408  322        1  \n",
       "105  121  189   92  226  181  112  214        1  \n",
       "\n",
       "[106 rows x 56 columns]"
      ]
     },
     "execution_count": 2,
     "metadata": {},
     "output_type": "execute_result"
    }
   ],
   "source": [
    "data=pd.read_excel('../dataset_new.xlsx',sheet_name='train')\n",
    "data"
   ]
  },
  {
   "cell_type": "markdown",
   "metadata": {},
   "source": [
    "Baca dataset test"
   ]
  },
  {
   "cell_type": "code",
   "execution_count": 3,
   "metadata": {},
   "outputs": [
    {
     "data": {
      "text/html": [
       "<div>\n",
       "<style scoped>\n",
       "    .dataframe tbody tr th:only-of-type {\n",
       "        vertical-align: middle;\n",
       "    }\n",
       "\n",
       "    .dataframe tbody tr th {\n",
       "        vertical-align: top;\n",
       "    }\n",
       "\n",
       "    .dataframe thead th {\n",
       "        text-align: right;\n",
       "    }\n",
       "</style>\n",
       "<table border=\"1\" class=\"dataframe\">\n",
       "  <thead>\n",
       "    <tr style=\"text-align: right;\">\n",
       "      <th></th>\n",
       "      <th>KodeBarang</th>\n",
       "      <th>bulan 1</th>\n",
       "      <th>bulan 2</th>\n",
       "      <th>bulan 3</th>\n",
       "      <th>bulan 4</th>\n",
       "      <th>bulan 5</th>\n",
       "      <th>bulan 6</th>\n",
       "    </tr>\n",
       "  </thead>\n",
       "  <tbody>\n",
       "    <tr>\n",
       "      <th>0</th>\n",
       "      <td>04121</td>\n",
       "      <td>5</td>\n",
       "      <td>12</td>\n",
       "      <td>8</td>\n",
       "      <td>14</td>\n",
       "      <td>40</td>\n",
       "      <td>40</td>\n",
       "    </tr>\n",
       "    <tr>\n",
       "      <th>1</th>\n",
       "      <td>18031</td>\n",
       "      <td>573</td>\n",
       "      <td>340</td>\n",
       "      <td>441</td>\n",
       "      <td>270</td>\n",
       "      <td>488</td>\n",
       "      <td>240</td>\n",
       "    </tr>\n",
       "    <tr>\n",
       "      <th>2</th>\n",
       "      <td>04161</td>\n",
       "      <td>27</td>\n",
       "      <td>5</td>\n",
       "      <td>26</td>\n",
       "      <td>34</td>\n",
       "      <td>40</td>\n",
       "      <td>56</td>\n",
       "    </tr>\n",
       "    <tr>\n",
       "      <th>3</th>\n",
       "      <td>04162</td>\n",
       "      <td>162</td>\n",
       "      <td>82</td>\n",
       "      <td>72</td>\n",
       "      <td>98</td>\n",
       "      <td>126</td>\n",
       "      <td>120</td>\n",
       "    </tr>\n",
       "    <tr>\n",
       "      <th>4</th>\n",
       "      <td>04163</td>\n",
       "      <td>23</td>\n",
       "      <td>20</td>\n",
       "      <td>9</td>\n",
       "      <td>5</td>\n",
       "      <td>22</td>\n",
       "      <td>6</td>\n",
       "    </tr>\n",
       "    <tr>\n",
       "      <th>...</th>\n",
       "      <td>...</td>\n",
       "      <td>...</td>\n",
       "      <td>...</td>\n",
       "      <td>...</td>\n",
       "      <td>...</td>\n",
       "      <td>...</td>\n",
       "      <td>...</td>\n",
       "    </tr>\n",
       "    <tr>\n",
       "      <th>101</th>\n",
       "      <td>04157</td>\n",
       "      <td>138</td>\n",
       "      <td>14</td>\n",
       "      <td>12</td>\n",
       "      <td>21</td>\n",
       "      <td>25</td>\n",
       "      <td>10</td>\n",
       "    </tr>\n",
       "    <tr>\n",
       "      <th>102</th>\n",
       "      <td>18104</td>\n",
       "      <td>60</td>\n",
       "      <td>103</td>\n",
       "      <td>39</td>\n",
       "      <td>87</td>\n",
       "      <td>276</td>\n",
       "      <td>40</td>\n",
       "    </tr>\n",
       "    <tr>\n",
       "      <th>103</th>\n",
       "      <td>18106</td>\n",
       "      <td>16</td>\n",
       "      <td>7</td>\n",
       "      <td>65</td>\n",
       "      <td>24</td>\n",
       "      <td>13</td>\n",
       "      <td>27</td>\n",
       "    </tr>\n",
       "    <tr>\n",
       "      <th>104</th>\n",
       "      <td>18092</td>\n",
       "      <td>721</td>\n",
       "      <td>184</td>\n",
       "      <td>150</td>\n",
       "      <td>488</td>\n",
       "      <td>648</td>\n",
       "      <td>149</td>\n",
       "    </tr>\n",
       "    <tr>\n",
       "      <th>105</th>\n",
       "      <td>04143</td>\n",
       "      <td>164</td>\n",
       "      <td>189</td>\n",
       "      <td>187</td>\n",
       "      <td>232</td>\n",
       "      <td>219</td>\n",
       "      <td>229</td>\n",
       "    </tr>\n",
       "  </tbody>\n",
       "</table>\n",
       "<p>106 rows × 7 columns</p>\n",
       "</div>"
      ],
      "text/plain": [
       "    KodeBarang  bulan 1  bulan 2  bulan 3  bulan 4  bulan 5  bulan 6\n",
       "0        04121        5       12        8       14       40       40\n",
       "1        18031      573      340      441      270      488      240\n",
       "2        04161       27        5       26       34       40       56\n",
       "3        04162      162       82       72       98      126      120\n",
       "4        04163       23       20        9        5       22        6\n",
       "..         ...      ...      ...      ...      ...      ...      ...\n",
       "101      04157      138       14       12       21       25       10\n",
       "102      18104       60      103       39       87      276       40\n",
       "103      18106       16        7       65       24       13       27\n",
       "104      18092      721      184      150      488      648      149\n",
       "105      04143      164      189      187      232      219      229\n",
       "\n",
       "[106 rows x 7 columns]"
      ]
     },
     "execution_count": 3,
     "metadata": {},
     "output_type": "execute_result"
    }
   ],
   "source": [
    "data_test=pd.read_excel('../dataset_new.xlsx',sheet_name='test')\n",
    "data_test"
   ]
  },
  {
   "cell_type": "markdown",
   "metadata": {},
   "source": [
    "Hilangkan judul kolom agar tidak terbaca di deep learning"
   ]
  },
  {
   "cell_type": "code",
   "execution_count": 4,
   "metadata": {},
   "outputs": [],
   "source": [
    "# data_test.drop(['bulan 4','bulan 5','bulan 6'],axis=1,inplace=True)\n"
   ]
  },
  {
   "cell_type": "markdown",
   "metadata": {},
   "source": [
    "Pastikan cluster pada dataset sudah berupa angka"
   ]
  },
  {
   "cell_type": "code",
   "execution_count": 5,
   "metadata": {},
   "outputs": [
    {
     "data": {
      "text/html": [
       "<div>\n",
       "<style scoped>\n",
       "    .dataframe tbody tr th:only-of-type {\n",
       "        vertical-align: middle;\n",
       "    }\n",
       "\n",
       "    .dataframe tbody tr th {\n",
       "        vertical-align: top;\n",
       "    }\n",
       "\n",
       "    .dataframe thead th {\n",
       "        text-align: right;\n",
       "    }\n",
       "</style>\n",
       "<table border=\"1\" class=\"dataframe\">\n",
       "  <thead>\n",
       "    <tr style=\"text-align: right;\">\n",
       "      <th></th>\n",
       "      <th>KodeBarang</th>\n",
       "      <th>bulan 1</th>\n",
       "      <th>bulan 2</th>\n",
       "      <th>bulan 3</th>\n",
       "      <th>bulan 4</th>\n",
       "      <th>bulan 5</th>\n",
       "      <th>bulan 6</th>\n",
       "      <th>cluster</th>\n",
       "    </tr>\n",
       "  </thead>\n",
       "  <tbody>\n",
       "    <tr>\n",
       "      <th>0</th>\n",
       "      <td>04121</td>\n",
       "      <td>5</td>\n",
       "      <td>12</td>\n",
       "      <td>8</td>\n",
       "      <td>14</td>\n",
       "      <td>40</td>\n",
       "      <td>40</td>\n",
       "      <td>0</td>\n",
       "    </tr>\n",
       "    <tr>\n",
       "      <th>1</th>\n",
       "      <td>18031</td>\n",
       "      <td>573</td>\n",
       "      <td>340</td>\n",
       "      <td>441</td>\n",
       "      <td>270</td>\n",
       "      <td>488</td>\n",
       "      <td>240</td>\n",
       "      <td>1</td>\n",
       "    </tr>\n",
       "    <tr>\n",
       "      <th>2</th>\n",
       "      <td>04161</td>\n",
       "      <td>27</td>\n",
       "      <td>5</td>\n",
       "      <td>26</td>\n",
       "      <td>34</td>\n",
       "      <td>40</td>\n",
       "      <td>56</td>\n",
       "      <td>0</td>\n",
       "    </tr>\n",
       "    <tr>\n",
       "      <th>3</th>\n",
       "      <td>04162</td>\n",
       "      <td>162</td>\n",
       "      <td>82</td>\n",
       "      <td>72</td>\n",
       "      <td>98</td>\n",
       "      <td>126</td>\n",
       "      <td>120</td>\n",
       "      <td>1</td>\n",
       "    </tr>\n",
       "    <tr>\n",
       "      <th>4</th>\n",
       "      <td>04163</td>\n",
       "      <td>23</td>\n",
       "      <td>20</td>\n",
       "      <td>9</td>\n",
       "      <td>5</td>\n",
       "      <td>22</td>\n",
       "      <td>6</td>\n",
       "      <td>0</td>\n",
       "    </tr>\n",
       "    <tr>\n",
       "      <th>...</th>\n",
       "      <td>...</td>\n",
       "      <td>...</td>\n",
       "      <td>...</td>\n",
       "      <td>...</td>\n",
       "      <td>...</td>\n",
       "      <td>...</td>\n",
       "      <td>...</td>\n",
       "      <td>...</td>\n",
       "    </tr>\n",
       "    <tr>\n",
       "      <th>101</th>\n",
       "      <td>04157</td>\n",
       "      <td>138</td>\n",
       "      <td>14</td>\n",
       "      <td>12</td>\n",
       "      <td>21</td>\n",
       "      <td>25</td>\n",
       "      <td>10</td>\n",
       "      <td>0</td>\n",
       "    </tr>\n",
       "    <tr>\n",
       "      <th>102</th>\n",
       "      <td>18104</td>\n",
       "      <td>60</td>\n",
       "      <td>103</td>\n",
       "      <td>39</td>\n",
       "      <td>87</td>\n",
       "      <td>276</td>\n",
       "      <td>40</td>\n",
       "      <td>0</td>\n",
       "    </tr>\n",
       "    <tr>\n",
       "      <th>103</th>\n",
       "      <td>18106</td>\n",
       "      <td>16</td>\n",
       "      <td>7</td>\n",
       "      <td>65</td>\n",
       "      <td>24</td>\n",
       "      <td>13</td>\n",
       "      <td>27</td>\n",
       "      <td>0</td>\n",
       "    </tr>\n",
       "    <tr>\n",
       "      <th>104</th>\n",
       "      <td>18092</td>\n",
       "      <td>721</td>\n",
       "      <td>184</td>\n",
       "      <td>150</td>\n",
       "      <td>488</td>\n",
       "      <td>648</td>\n",
       "      <td>149</td>\n",
       "      <td>1</td>\n",
       "    </tr>\n",
       "    <tr>\n",
       "      <th>105</th>\n",
       "      <td>04143</td>\n",
       "      <td>164</td>\n",
       "      <td>189</td>\n",
       "      <td>187</td>\n",
       "      <td>232</td>\n",
       "      <td>219</td>\n",
       "      <td>229</td>\n",
       "      <td>1</td>\n",
       "    </tr>\n",
       "  </tbody>\n",
       "</table>\n",
       "<p>106 rows × 8 columns</p>\n",
       "</div>"
      ],
      "text/plain": [
       "    KodeBarang  bulan 1  bulan 2  bulan 3  bulan 4  bulan 5  bulan 6  cluster\n",
       "0        04121        5       12        8       14       40       40        0\n",
       "1        18031      573      340      441      270      488      240        1\n",
       "2        04161       27        5       26       34       40       56        0\n",
       "3        04162      162       82       72       98      126      120        1\n",
       "4        04163       23       20        9        5       22        6        0\n",
       "..         ...      ...      ...      ...      ...      ...      ...      ...\n",
       "101      04157      138       14       12       21       25       10        0\n",
       "102      18104       60      103       39       87      276       40        0\n",
       "103      18106       16        7       65       24       13       27        0\n",
       "104      18092      721      184      150      488      648      149        1\n",
       "105      04143      164      189      187      232      219      229        1\n",
       "\n",
       "[106 rows x 8 columns]"
      ]
     },
     "execution_count": 5,
     "metadata": {},
     "output_type": "execute_result"
    }
   ],
   "source": [
    "data_test['cluster']=data['cluster'].astype(int)\n",
    "data_test"
   ]
  },
  {
   "cell_type": "markdown",
   "metadata": {},
   "source": [
    "Make sure ada berapa cluster?"
   ]
  },
  {
   "cell_type": "code",
   "execution_count": 6,
   "metadata": {},
   "outputs": [
    {
     "data": {
      "text/plain": [
       "4"
      ]
     },
     "execution_count": 6,
     "metadata": {},
     "output_type": "execute_result"
    }
   ],
   "source": [
    "len(data['cluster'].unique())"
   ]
  },
  {
   "cell_type": "markdown",
   "metadata": {},
   "source": [
    "Ambil jumlah produk dalam cluster ada berapa"
   ]
  },
  {
   "cell_type": "code",
   "execution_count": 7,
   "metadata": {},
   "outputs": [
    {
     "name": "stdout",
     "output_type": "stream",
     "text": [
      "Jumlah Produk:\n",
      "70\n",
      "Jumlah Produk:\n",
      "31\n",
      "Jumlah Produk:\n",
      "4\n",
      "Jumlah Produk:\n",
      "1\n"
     ]
    }
   ],
   "source": [
    "#now lets take clusters\n",
    "c0 = data.query(\"cluster == 0\")\n",
    "print(\"Jumlah Produk:\")\n",
    "print(c0['KodeBarang'].size)\n",
    "c1 = data.query(\"cluster == 1\")\n",
    "print(\"Jumlah Produk:\")\n",
    "print(c1['KodeBarang'].size)\n",
    "c2 = data.query(\"cluster == 2\")\n",
    "print(\"Jumlah Produk:\")\n",
    "print(c2['KodeBarang'].size)\n",
    "c3 = data.query(\"cluster == 3\")\n",
    "print(\"Jumlah Produk:\")\n",
    "print(c3['KodeBarang'].size)"
   ]
  },
  {
   "cell_type": "markdown",
   "metadata": {},
   "source": [
    "Sama cuman data test, make sure keduanya sama"
   ]
  },
  {
   "cell_type": "code",
   "execution_count": 8,
   "metadata": {},
   "outputs": [
    {
     "name": "stdout",
     "output_type": "stream",
     "text": [
      "Jumlah Produk:\n",
      "70\n",
      "Jumlah Produk:\n",
      "31\n",
      "Jumlah Produk:\n",
      "4\n",
      "Jumlah Produk:\n",
      "1\n"
     ]
    }
   ],
   "source": [
    "c0_t = data_test.query(\"cluster == 0\")\n",
    "print(\"Jumlah Produk:\")\n",
    "print(c0['KodeBarang'].size)\n",
    "c1_t = data_test.query(\"cluster == 1\")\n",
    "print(\"Jumlah Produk:\")\n",
    "print(c1['KodeBarang'].size)\n",
    "c2_t = data_test.query(\"cluster == 2\")\n",
    "print(\"Jumlah Produk:\")\n",
    "print(c2['KodeBarang'].size)\n",
    "c3_t = data_test.query(\"cluster == 3\")\n",
    "print(\"Jumlah Produk:\")\n",
    "print(c3['KodeBarang'].size)"
   ]
  },
  {
   "cell_type": "markdown",
   "metadata": {},
   "source": [
    "## Pembuatan model cluster 1"
   ]
  },
  {
   "cell_type": "markdown",
   "metadata": {},
   "source": [
    "Buat fungsi bikin `windowed dataset` jadi si data di couple in sama waktu (timeframe)"
   ]
  },
  {
   "cell_type": "code",
   "execution_count": 9,
   "metadata": {},
   "outputs": [],
   "source": [
    "#oke ada ternyata yang cuman sendirian (1 product di cluster tersebut), kita beresin dia dulu, the easiest, dan biar keliatan kita\n",
    "#ngapain aja di time series ini\n",
    "def windowed_dataset(series, window_size, batch_size, shuffle_buffer):\n",
    "    series = tf.expand_dims(series, axis=-1)\n",
    "    ds = tf.data.Dataset.from_tensor_slices(series)\n",
    "    ds = ds.window(window_size + 1, shift=1, drop_remainder=True)\n",
    "    ds = ds.flat_map(lambda w: w.batch(window_size + 1))\n",
    "    ds = ds.shuffle(shuffle_buffer)\n",
    "    ds = ds.map(lambda w: (w[:-1], w[1:]))\n",
    "    return ds.batch(batch_size).prefetch(1)\n",
    "# ini fungsinya buat nge ubah dataset jadi windowed"
   ]
  },
  {
   "cell_type": "markdown",
   "metadata": {},
   "source": [
    "ubah tipe data dari kode barang menjadi nilai angka"
   ]
  },
  {
   "cell_type": "code",
   "execution_count": 10,
   "metadata": {},
   "outputs": [],
   "source": [
    "col = c1.KodeBarang.values"
   ]
  },
  {
   "cell_type": "code",
   "execution_count": 11,
   "metadata": {},
   "outputs": [],
   "source": [
    "#next kita ubah bentuk data nya dari yang tadinya kesamping jadi ke bawah, tapi pertama mau aku drop dulu cluster sama kode produknya\n",
    "c1=c1.drop(columns=['KodeBarang','cluster'])\n",
    "c1_t=c1_t.drop(columns=['KodeBarang','cluster'])"
   ]
  },
  {
   "cell_type": "markdown",
   "metadata": {},
   "source": [
    "Plot per produk cluster 1"
   ]
  },
  {
   "cell_type": "code",
   "execution_count": 12,
   "metadata": {},
   "outputs": [
    {
     "data": {
      "text/plain": [
       "<AxesSubplot:>"
      ]
     },
     "execution_count": 12,
     "metadata": {},
     "output_type": "execute_result"
    },
    {
     "data": {
      "image/png": "[encoded data removed]",
      "text/plain": [
       "<Figure size 432x288 with 1 Axes>"
      ]
     },
     "metadata": {
      "needs_background": "light"
     },
     "output_type": "display_data"
    }
   ],
   "source": [
    "c1.set_index(col,inplace=True)\n",
    "c1.T.plot()"
   ]
  },
  {
   "cell_type": "code",
   "execution_count": 13,
   "metadata": {},
   "outputs": [],
   "source": [
    "#Ambil satu sample dari cluster 1\n",
    "# c1 = c1.sample()"
   ]
  },
  {
   "cell_type": "code",
   "execution_count": 14,
   "metadata": {},
   "outputs": [],
   "source": [
    "# c1.T.plot()\n",
    "#Kode 04146 hasilnya sangat bagus"
   ]
  },
  {
   "cell_type": "code",
   "execution_count": 15,
   "metadata": {},
   "outputs": [],
   "source": [
    "#next, buat dia kayak mejeneng time series seperti biasanya, which is datanya ke bawah, tapi di average per tanggal \n",
    "new_c1=[]\n",
    "time=[]\n",
    "for idx,a in enumerate(c1):\n",
    "    new_c1.append(c1[a].mean())\n",
    "    time.append(idx)\n"
   ]
  },
  {
   "cell_type": "code",
   "execution_count": 16,
   "metadata": {},
   "outputs": [],
   "source": [
    "#sama aja cuman data test\n",
    "new_c1_t=[]\n",
    "time_t=[]\n",
    "i = 55\n",
    "for idx,a in enumerate(c1_t):\n",
    "    new_c1_t.append(c1_t[a].mean())\n",
    "    time_t.append(i)\n",
    "    i+=1"
   ]
  },
  {
   "cell_type": "code",
   "execution_count": 17,
   "metadata": {},
   "outputs": [],
   "source": [
    "#normalisasi, karena gap nya ada yang sampe ribuan, biar lebih gampang tugas ann nya\n",
    "series=new_c1\n",
    "min = np.min(series)\n",
    "max = np.max(series)\n",
    "series = series - min\n",
    "series = series / (max-min)\n",
    "time = np.array(time)"
   ]
  },
  {
   "cell_type": "code",
   "execution_count": 18,
   "metadata": {},
   "outputs": [],
   "source": [
    "#sama aja, cuman data test\n",
    "series_t=new_c1_t\n",
    "min = np.min(series_t)\n",
    "max = np.max(series_t)\n",
    "series_t = series_t - min\n",
    "series_t = series_t / (max-min)\n",
    "time_t = np.array(time_t)"
   ]
  },
  {
   "cell_type": "code",
   "execution_count": 19,
   "metadata": {},
   "outputs": [],
   "source": [
    "# split_time = 3 # ini berapa bulan terkahir yang mau di potong buat pengujian?\n",
    "\n",
    "time_train = time\n",
    "x_train =  series\n",
    "time_valid =  time_t\n",
    "x_valid =  series_t"
   ]
  },
  {
   "cell_type": "code",
   "execution_count": 20,
   "metadata": {},
   "outputs": [
    {
     "data": {
      "text/plain": [
       "(54,)"
      ]
     },
     "execution_count": 20,
     "metadata": {},
     "output_type": "execute_result"
    }
   ],
   "source": [
    "#check inputan dari data train seberapa banyak, 54 bulan kan?\n",
    "x_train.shape"
   ]
  },
  {
   "cell_type": "code",
   "execution_count": 21,
   "metadata": {},
   "outputs": [
    {
     "data": {
      "text/plain": [
       "array([0.71988651, 1.        , 0.61129739, 0.25561001, 0.24219758,\n",
       "       0.        ])"
      ]
     },
     "execution_count": 21,
     "metadata": {},
     "output_type": "execute_result"
    }
   ],
   "source": [
    "#cek data validasi, udah 3 bulan apa belom\n",
    "x_valid"
   ]
  },
  {
   "cell_type": "code",
   "execution_count": 22,
   "metadata": {},
   "outputs": [],
   "source": [
    "#buat data biar dibagi per window, jadi me masang masangkan waktu dan value,\n",
    "window_size = 2\n",
    "batch_size = 2\n",
    "shuffle_buffer_size = 10\n",
    "\n",
    "train_set = windowed_dataset(x_train, window_size, batch_size, shuffle_buffer_size)\n",
    "valid_set = windowed_dataset(x_valid, window_size, batch_size, shuffle_buffer_size)"
   ]
  },
  {
   "cell_type": "code",
   "execution_count": 23,
   "metadata": {},
   "outputs": [
    {
     "data": {
      "text/plain": [
       "<PrefetchDataset shapes: ((None, None, 1), (None, None, 1)), types: (tf.float64, tf.float64)>"
      ]
     },
     "execution_count": 23,
     "metadata": {},
     "output_type": "execute_result"
    }
   ],
   "source": [
    "#cek tipe data (isi) dari train set\n",
    "train_set"
   ]
  },
  {
   "cell_type": "code",
   "execution_count": 24,
   "metadata": {},
   "outputs": [
    {
     "data": {
      "text/plain": [
       "<PrefetchDataset shapes: ((None, None, 1), (None, None, 1)), types: (tf.float64, tf.float64)>"
      ]
     },
     "execution_count": 24,
     "metadata": {},
     "output_type": "execute_result"
    }
   ],
   "source": [
    "#sama cuman data test, pastikan keduanya sama\n",
    "valid_set"
   ]
  },
  {
   "cell_type": "code",
   "execution_count": 25,
   "metadata": {},
   "outputs": [],
   "source": [
    "from keras.callbacks import  EarlyStopping\n",
    "callbacks = EarlyStopping(\n",
    "    min_delta=0.000001,\n",
    "    \n",
    "    patience=100,\n",
    "    restore_best_weights=True,\n",
    ")"
   ]
  },
  {
   "cell_type": "markdown",
   "metadata": {},
   "source": [
    "Penyusunan deep learning nya\n",
    "\n",
    "Kita Menggunakan BLSTM atau *Bidirectional Long Short Term Memory*. BLSTM adalah proses pembuatan jaringan syaraf tiruan untuk memiliki urutan informasi dalam kedua arah mundur (masa depan ke masa lalu) atau maju (masa lalu ke masa depan).\n",
    "\n",
    "\n",
    "kalo ini pake BLSTM dengan input layer sebanyak 10 neuron, BLSTM layer ada dua, yang pertama ada 64 neuron, terus yang kedua ada 32 neuron, dibuat mengkerucut (segitiga terbalik) seolah kita menyederhanakan data datanya, jadi kan makin dalem makin sedikit tuh, karena ada yang ga kepake kepake buat menentukan sales nya dan lain lain, \n",
    "\n",
    "terus setiap selesai masuk BLSTM layer, ada dropout, itu tuh untuk mengeliminasi secara random (di case ini 50%) sambungan antara neuron, dan nge \"matiin\" neuronnya itu juga, mensimulasi degradasi neuron dan sambungannya saat kita tidur, alias proses mengubah ingatan jadi jangka menengah ke panjang dari apa yang kita dapatkan pada hari itu. "
   ]
  },
  {
   "cell_type": "code",
   "execution_count": 26,
   "metadata": {},
   "outputs": [],
   "source": [
    "model = tf.keras.Sequential([\n",
    "        tf.keras.layers.Dense(10, input_shape=[None, 1]),\n",
    "        tf.keras.layers.Bidirectional(tf.keras.layers.LSTM(128,return_sequences=True)),\n",
    "        tf.keras.layers.Dropout(0.5),\n",
    "        tf.keras.layers.Bidirectional(tf.keras.layers.LSTM(32)),\n",
    "        # tf.keras.layers.Dropout(0.5),\n",
    "        # tf.keras.layers.Bidirectional(tf.keras.layers.LSTM(8,return_sequences=True)),\n",
    "        # tf.keras.layers.Dropout(0.9),\n",
    "        \n",
    "        \n",
    "        # tf.keras.layers.Flatten(),\n",
    "        # tf.keras.layers.Dense(1024, activation='relu'),\n",
    "        # tf.keras.layers.Dropout(0.5),\n",
    "        # tf.keras.layers.Dense(512, activation='relu',kernel_regularizer=tf.keras.regularizers.l1(l1=0.01)),\n",
    "        # tf.keras.layers.Dense(64, activation='relu',kernel_regularizer=tf.keras.regularizers.l1_l2(l1=0.01, l2=0.01)),\n",
    "        # tf.keras.layers.Dense(32, activation='relu'),\n",
    "        # tf.keras.layers.Dropout(0.3),\n",
    "        tf.keras.layers.Dense(1, activation='relu')\n",
    "    ])\n",
    "\n",
    "    #the blstm part"
   ]
  },
  {
   "cell_type": "code",
   "execution_count": 27,
   "metadata": {},
   "outputs": [],
   "source": [
    "# The model Below  successfully achieves a MSE of 0.1 on the validation set and the result is really good.\n",
    "# model = tf.keras.Sequential([\n",
    "#         tf.keras.layers.Dense(2, input_shape=[None, 1]),\n",
    "        \n",
    "#         tf.keras.layers.LSTM(512,return_sequences=True),\n",
    "#         tf.keras.layers.LSTM(128),\n",
    "        \n",
    "#         # tf.keras.layers.Flatten(),\n",
    "#         # tf.keras.layers.Dense(1024, activation='relu'),\n",
    "#         # tf.keras.layers.Dropout(0.5),\n",
    "#         # tf.keras.layers.Dense(512, activation='relu',kernel_regularizer=tf.keras.regularizers.l1(l1=0.01)),\n",
    "#         # tf.keras.layers.Dense(64, activation='relu',kernel_regularizer=tf.keras.regularizers.l1_l2(l1=0.01, l2=0.01)),\n",
    "#         # tf.keras.layers.Dense(32, activation='relu'),\n",
    "#         # tf.keras.layers.Dropout(0.3),\n",
    "#         tf.keras.layers.Dense(1, activation='relu')\n",
    "#     ])\n",
    "\n"
   ]
  },
  {
   "cell_type": "code",
   "execution_count": 28,
   "metadata": {},
   "outputs": [
    {
     "name": "stdout",
     "output_type": "stream",
     "text": [
      "Model: \"sequential\"\n",
      "_________________________________________________________________\n",
      "Layer (type)                 Output Shape              Param #   \n",
      "=================================================================\n",
      "dense (Dense)                (None, None, 10)          20        \n",
      "_________________________________________________________________\n",
      "bidirectional (Bidirectional (None, None, 256)         142336    \n",
      "_________________________________________________________________\n",
      "dropout (Dropout)            (None, None, 256)         0         \n",
      "_________________________________________________________________\n",
      "bidirectional_1 (Bidirection (None, 64)                73984     \n",
      "_________________________________________________________________\n",
      "dense_1 (Dense)              (None, 1)                 65        \n",
      "=================================================================\n",
      "Total params: 216,405\n",
      "Trainable params: 216,405\n",
      "Non-trainable params: 0\n",
      "_________________________________________________________________\n",
      "Epoch 1/1000\n",
      "26/26 [==============================] - 7s 67ms/step - loss: 0.0808 - mae: 0.2255 - val_loss: 0.0799 - val_mae: 0.2560\n",
      "Epoch 2/1000\n",
      "26/26 [==============================] - 0s 5ms/step - loss: 0.0402 - mae: 0.1543 - val_loss: 0.0502 - val_mae: 0.1849\n",
      "Epoch 3/1000\n",
      "26/26 [==============================] - 0s 5ms/step - loss: 0.0386 - mae: 0.1499 - val_loss: 0.0584 - val_mae: 0.2133\n",
      "Epoch 4/1000\n",
      "26/26 [==============================] - 0s 5ms/step - loss: 0.0367 - mae: 0.1468 - val_loss: 0.0709 - val_mae: 0.2399\n",
      "Epoch 5/1000\n",
      "26/26 [==============================] - 0s 5ms/step - loss: 0.0356 - mae: 0.1455 - val_loss: 0.0600 - val_mae: 0.2180\n",
      "Epoch 6/1000\n",
      "26/26 [==============================] - 0s 5ms/step - loss: 0.0353 - mae: 0.1457 - val_loss: 0.0649 - val_mae: 0.2285\n",
      "Epoch 7/1000\n",
      "26/26 [==============================] - 0s 5ms/step - loss: 0.0372 - mae: 0.1447 - val_loss: 0.0562 - val_mae: 0.2094\n",
      "Epoch 8/1000\n",
      "26/26 [==============================] - 0s 5ms/step - loss: 0.0345 - mae: 0.1394 - val_loss: 0.0526 - val_mae: 0.2004\n",
      "Epoch 9/1000\n",
      "26/26 [==============================] - 0s 5ms/step - loss: 0.0347 - mae: 0.1410 - val_loss: 0.0456 - val_mae: 0.1800\n",
      "Epoch 10/1000\n",
      "26/26 [==============================] - 0s 5ms/step - loss: 0.0342 - mae: 0.1423 - val_loss: 0.0582 - val_mae: 0.2137\n",
      "Epoch 11/1000\n",
      "26/26 [==============================] - 0s 5ms/step - loss: 0.0365 - mae: 0.1425 - val_loss: 0.0577 - val_mae: 0.2129\n",
      "Epoch 12/1000\n",
      "26/26 [==============================] - 0s 6ms/step - loss: 0.0347 - mae: 0.1445 - val_loss: 0.0511 - val_mae: 0.1974\n",
      "Epoch 13/1000\n",
      "26/26 [==============================] - 0s 5ms/step - loss: 0.0356 - mae: 0.1440 - val_loss: 0.0439 - val_mae: 0.1760\n",
      "Epoch 14/1000\n",
      "26/26 [==============================] - 0s 5ms/step - loss: 0.0356 - mae: 0.1413 - val_loss: 0.0546 - val_mae: 0.2056\n",
      "Epoch 15/1000\n",
      "26/26 [==============================] - 0s 5ms/step - loss: 0.0371 - mae: 0.1504 - val_loss: 0.0567 - val_mae: 0.2101\n",
      "Epoch 16/1000\n",
      "26/26 [==============================] - 0s 5ms/step - loss: 0.0346 - mae: 0.1420 - val_loss: 0.0508 - val_mae: 0.1963\n",
      "Epoch 17/1000\n",
      "26/26 [==============================] - 0s 5ms/step - loss: 0.0361 - mae: 0.1436 - val_loss: 0.0509 - val_mae: 0.1967\n",
      "Epoch 18/1000\n",
      "26/26 [==============================] - 0s 5ms/step - loss: 0.0365 - mae: 0.1461 - val_loss: 0.0625 - val_mae: 0.2231\n",
      "Epoch 19/1000\n",
      "26/26 [==============================] - 0s 5ms/step - loss: 0.0362 - mae: 0.1427 - val_loss: 0.0461 - val_mae: 0.1821\n",
      "Epoch 20/1000\n",
      "26/26 [==============================] - 0s 5ms/step - loss: 0.0363 - mae: 0.1403 - val_loss: 0.0458 - val_mae: 0.1814\n",
      "Epoch 21/1000\n",
      "26/26 [==============================] - 0s 5ms/step - loss: 0.0383 - mae: 0.1497 - val_loss: 0.0508 - val_mae: 0.1966\n",
      "Epoch 22/1000\n",
      "26/26 [==============================] - 0s 5ms/step - loss: 0.0358 - mae: 0.1409 - val_loss: 0.0431 - val_mae: 0.1749\n",
      "Epoch 23/1000\n",
      "26/26 [==============================] - 0s 5ms/step - loss: 0.0332 - mae: 0.1374 - val_loss: 0.0417 - val_mae: 0.1715\n",
      "Epoch 24/1000\n",
      "26/26 [==============================] - 0s 5ms/step - loss: 0.0335 - mae: 0.1390 - val_loss: 0.0566 - val_mae: 0.2106\n",
      "Epoch 25/1000\n",
      "26/26 [==============================] - 0s 5ms/step - loss: 0.0335 - mae: 0.1360 - val_loss: 0.0443 - val_mae: 0.1775\n",
      "Epoch 26/1000\n",
      "26/26 [==============================] - 0s 5ms/step - loss: 0.0328 - mae: 0.1339 - val_loss: 0.0432 - val_mae: 0.1759\n",
      "Epoch 27/1000\n",
      "26/26 [==============================] - 0s 5ms/step - loss: 0.0336 - mae: 0.1380 - val_loss: 0.0440 - val_mae: 0.1782\n",
      "Epoch 28/1000\n",
      "26/26 [==============================] - 0s 5ms/step - loss: 0.0347 - mae: 0.1370 - val_loss: 0.0455 - val_mae: 0.1809\n",
      "Epoch 29/1000\n",
      "26/26 [==============================] - 0s 5ms/step - loss: 0.0343 - mae: 0.1379 - val_loss: 0.0445 - val_mae: 0.1788\n",
      "Epoch 30/1000\n",
      "26/26 [==============================] - 0s 5ms/step - loss: 0.0348 - mae: 0.1406 - val_loss: 0.0420 - val_mae: 0.1733\n",
      "Epoch 31/1000\n",
      "26/26 [==============================] - 0s 5ms/step - loss: 0.0366 - mae: 0.1455 - val_loss: 0.0427 - val_mae: 0.1753\n",
      "Epoch 32/1000\n",
      "26/26 [==============================] - 0s 5ms/step - loss: 0.0363 - mae: 0.1424 - val_loss: 0.0378 - val_mae: 0.1572\n",
      "Epoch 33/1000\n",
      "26/26 [==============================] - 0s 5ms/step - loss: 0.0331 - mae: 0.1322 - val_loss: 0.0428 - val_mae: 0.1753\n",
      "Epoch 34/1000\n",
      "26/26 [==============================] - 0s 5ms/step - loss: 0.0327 - mae: 0.1324 - val_loss: 0.0466 - val_mae: 0.1835\n",
      "Epoch 35/1000\n",
      "26/26 [==============================] - 0s 5ms/step - loss: 0.0336 - mae: 0.1339 - val_loss: 0.0464 - val_mae: 0.1842\n",
      "Epoch 36/1000\n",
      "26/26 [==============================] - 0s 5ms/step - loss: 0.0338 - mae: 0.1362 - val_loss: 0.0428 - val_mae: 0.1752\n",
      "Epoch 37/1000\n",
      "26/26 [==============================] - 0s 5ms/step - loss: 0.0331 - mae: 0.1353 - val_loss: 0.0437 - val_mae: 0.1784\n",
      "Epoch 38/1000\n",
      "26/26 [==============================] - 0s 5ms/step - loss: 0.0348 - mae: 0.1405 - val_loss: 0.0421 - val_mae: 0.1742\n",
      "Epoch 39/1000\n",
      "26/26 [==============================] - 0s 8ms/step - loss: 0.0328 - mae: 0.1312 - val_loss: 0.0403 - val_mae: 0.1684\n",
      "Epoch 40/1000\n",
      "26/26 [==============================] - 0s 5ms/step - loss: 0.0348 - mae: 0.1385 - val_loss: 0.0466 - val_mae: 0.1848\n",
      "Epoch 41/1000\n",
      "26/26 [==============================] - 0s 5ms/step - loss: 0.0330 - mae: 0.1320 - val_loss: 0.0422 - val_mae: 0.1734\n",
      "Epoch 42/1000\n",
      "26/26 [==============================] - 0s 6ms/step - loss: 0.0324 - mae: 0.1312 - val_loss: 0.0458 - val_mae: 0.1827\n",
      "Epoch 43/1000\n",
      "26/26 [==============================] - 0s 6ms/step - loss: 0.0332 - mae: 0.1354 - val_loss: 0.0412 - val_mae: 0.1694\n",
      "Epoch 44/1000\n",
      "26/26 [==============================] - 0s 6ms/step - loss: 0.0321 - mae: 0.1342 - val_loss: 0.0467 - val_mae: 0.1849\n",
      "Epoch 45/1000\n",
      "26/26 [==============================] - 0s 5ms/step - loss: 0.0328 - mae: 0.1365 - val_loss: 0.0439 - val_mae: 0.1779\n",
      "Epoch 46/1000\n",
      "26/26 [==============================] - 0s 5ms/step - loss: 0.0324 - mae: 0.1322 - val_loss: 0.0471 - val_mae: 0.1860\n",
      "Epoch 47/1000\n",
      "26/26 [==============================] - 0s 5ms/step - loss: 0.0349 - mae: 0.1409 - val_loss: 0.0425 - val_mae: 0.1731\n",
      "Epoch 48/1000\n",
      "26/26 [==============================] - 0s 5ms/step - loss: 0.0333 - mae: 0.1349 - val_loss: 0.0420 - val_mae: 0.1719\n",
      "Epoch 49/1000\n",
      "26/26 [==============================] - 0s 5ms/step - loss: 0.0314 - mae: 0.1280 - val_loss: 0.0466 - val_mae: 0.1840\n",
      "Epoch 50/1000\n",
      "26/26 [==============================] - 0s 5ms/step - loss: 0.0347 - mae: 0.1373 - val_loss: 0.0453 - val_mae: 0.1811\n",
      "Epoch 51/1000\n",
      "26/26 [==============================] - 0s 5ms/step - loss: 0.0325 - mae: 0.1333 - val_loss: 0.0429 - val_mae: 0.1746\n",
      "Epoch 52/1000\n",
      "26/26 [==============================] - 0s 5ms/step - loss: 0.0330 - mae: 0.1323 - val_loss: 0.0419 - val_mae: 0.1699\n",
      "Epoch 53/1000\n",
      "26/26 [==============================] - 0s 5ms/step - loss: 0.0319 - mae: 0.1330 - val_loss: 0.0459 - val_mae: 0.1822\n",
      "Epoch 54/1000\n",
      "26/26 [==============================] - 0s 5ms/step - loss: 0.0328 - mae: 0.1313 - val_loss: 0.0453 - val_mae: 0.1805\n",
      "Epoch 55/1000\n",
      "26/26 [==============================] - 0s 5ms/step - loss: 0.0319 - mae: 0.1300 - val_loss: 0.0453 - val_mae: 0.1808\n",
      "Epoch 56/1000\n",
      "26/26 [==============================] - 0s 5ms/step - loss: 0.0329 - mae: 0.1341 - val_loss: 0.0488 - val_mae: 0.1889\n",
      "Epoch 57/1000\n",
      "26/26 [==============================] - 0s 6ms/step - loss: 0.0340 - mae: 0.1352 - val_loss: 0.0420 - val_mae: 0.1708\n",
      "Epoch 58/1000\n",
      "26/26 [==============================] - 0s 5ms/step - loss: 0.0318 - mae: 0.1311 - val_loss: 0.0456 - val_mae: 0.1812\n",
      "Epoch 59/1000\n",
      "26/26 [==============================] - 0s 5ms/step - loss: 0.0317 - mae: 0.1294 - val_loss: 0.0458 - val_mae: 0.1821\n",
      "Epoch 60/1000\n",
      "26/26 [==============================] - 0s 6ms/step - loss: 0.0326 - mae: 0.1322 - val_loss: 0.0460 - val_mae: 0.1823\n",
      "Epoch 61/1000\n",
      "26/26 [==============================] - 0s 6ms/step - loss: 0.0313 - mae: 0.1305 - val_loss: 0.0463 - val_mae: 0.1826\n",
      "Epoch 62/1000\n",
      "26/26 [==============================] - 0s 5ms/step - loss: 0.0329 - mae: 0.1342 - val_loss: 0.0469 - val_mae: 0.1845\n",
      "Epoch 63/1000\n",
      "26/26 [==============================] - 0s 5ms/step - loss: 0.0329 - mae: 0.1337 - val_loss: 0.0464 - val_mae: 0.1824\n",
      "Epoch 64/1000\n",
      "26/26 [==============================] - 0s 5ms/step - loss: 0.0323 - mae: 0.1347 - val_loss: 0.0483 - val_mae: 0.1876\n",
      "Epoch 65/1000\n",
      "26/26 [==============================] - 0s 5ms/step - loss: 0.0329 - mae: 0.1337 - val_loss: 0.0447 - val_mae: 0.1784\n",
      "Epoch 66/1000\n",
      "26/26 [==============================] - 0s 5ms/step - loss: 0.0318 - mae: 0.1318 - val_loss: 0.0450 - val_mae: 0.1791\n",
      "Epoch 67/1000\n",
      "26/26 [==============================] - 0s 5ms/step - loss: 0.0325 - mae: 0.1300 - val_loss: 0.0469 - val_mae: 0.1844\n",
      "Epoch 68/1000\n",
      "26/26 [==============================] - 0s 5ms/step - loss: 0.0334 - mae: 0.1344 - val_loss: 0.0444 - val_mae: 0.1777\n",
      "Epoch 69/1000\n",
      "26/26 [==============================] - 0s 5ms/step - loss: 0.0322 - mae: 0.1308 - val_loss: 0.0448 - val_mae: 0.1786\n",
      "Epoch 70/1000\n",
      "26/26 [==============================] - 0s 7ms/step - loss: 0.0315 - mae: 0.1297 - val_loss: 0.0450 - val_mae: 0.1786\n",
      "Epoch 71/1000\n",
      "26/26 [==============================] - 0s 7ms/step - loss: 0.0317 - mae: 0.1301 - val_loss: 0.0463 - val_mae: 0.1820\n",
      "Epoch 72/1000\n",
      "26/26 [==============================] - 0s 7ms/step - loss: 0.0320 - mae: 0.1315 - val_loss: 0.0414 - val_mae: 0.1665\n",
      "Epoch 73/1000\n",
      "26/26 [==============================] - 0s 6ms/step - loss: 0.0318 - mae: 0.1336 - val_loss: 0.0484 - val_mae: 0.1869\n",
      "Epoch 74/1000\n",
      "26/26 [==============================] - 0s 6ms/step - loss: 0.0327 - mae: 0.1359 - val_loss: 0.0451 - val_mae: 0.1796\n",
      "Epoch 75/1000\n",
      "26/26 [==============================] - 0s 6ms/step - loss: 0.0335 - mae: 0.1371 - val_loss: 0.0406 - val_mae: 0.1666\n",
      "Epoch 76/1000\n",
      "26/26 [==============================] - 0s 6ms/step - loss: 0.0319 - mae: 0.1309 - val_loss: 0.0492 - val_mae: 0.1890\n",
      "Epoch 77/1000\n",
      "26/26 [==============================] - 0s 5ms/step - loss: 0.0330 - mae: 0.1352 - val_loss: 0.0440 - val_mae: 0.1761\n",
      "Epoch 78/1000\n",
      "26/26 [==============================] - 0s 5ms/step - loss: 0.0321 - mae: 0.1322 - val_loss: 0.0467 - val_mae: 0.1830\n",
      "Epoch 79/1000\n",
      "26/26 [==============================] - 0s 5ms/step - loss: 0.0357 - mae: 0.1439 - val_loss: 0.0421 - val_mae: 0.1653\n",
      "Epoch 80/1000\n",
      "26/26 [==============================] - 0s 5ms/step - loss: 0.0335 - mae: 0.1340 - val_loss: 0.0481 - val_mae: 0.1852\n",
      "Epoch 81/1000\n",
      "26/26 [==============================] - 0s 5ms/step - loss: 0.0327 - mae: 0.1324 - val_loss: 0.0440 - val_mae: 0.1745\n",
      "Epoch 82/1000\n",
      "26/26 [==============================] - 0s 5ms/step - loss: 0.0329 - mae: 0.1328 - val_loss: 0.0431 - val_mae: 0.1717\n",
      "Epoch 83/1000\n",
      "26/26 [==============================] - 0s 5ms/step - loss: 0.0336 - mae: 0.1353 - val_loss: 0.0495 - val_mae: 0.1880\n",
      "Epoch 84/1000\n",
      "26/26 [==============================] - 0s 5ms/step - loss: 0.0316 - mae: 0.1306 - val_loss: 0.0454 - val_mae: 0.1762\n",
      "Epoch 85/1000\n",
      "26/26 [==============================] - 0s 6ms/step - loss: 0.0321 - mae: 0.1339 - val_loss: 0.0432 - val_mae: 0.1718\n",
      "Epoch 86/1000\n",
      "26/26 [==============================] - 0s 5ms/step - loss: 0.0313 - mae: 0.1299 - val_loss: 0.0452 - val_mae: 0.1782\n",
      "Epoch 87/1000\n",
      "26/26 [==============================] - 0s 5ms/step - loss: 0.0325 - mae: 0.1331 - val_loss: 0.0459 - val_mae: 0.1787\n",
      "Epoch 88/1000\n",
      "26/26 [==============================] - 0s 5ms/step - loss: 0.0334 - mae: 0.1391 - val_loss: 0.0416 - val_mae: 0.1640\n",
      "Epoch 89/1000\n",
      "26/26 [==============================] - 0s 5ms/step - loss: 0.0308 - mae: 0.1281 - val_loss: 0.0458 - val_mae: 0.1791\n",
      "Epoch 90/1000\n",
      "26/26 [==============================] - 0s 6ms/step - loss: 0.0335 - mae: 0.1342 - val_loss: 0.0469 - val_mae: 0.1817\n",
      "Epoch 91/1000\n",
      "26/26 [==============================] - 0s 5ms/step - loss: 0.0314 - mae: 0.1315 - val_loss: 0.0416 - val_mae: 0.1671\n",
      "Epoch 92/1000\n",
      "26/26 [==============================] - 0s 5ms/step - loss: 0.0307 - mae: 0.1300 - val_loss: 0.0470 - val_mae: 0.1816\n",
      "Epoch 93/1000\n",
      "26/26 [==============================] - 0s 5ms/step - loss: 0.0324 - mae: 0.1358 - val_loss: 0.0497 - val_mae: 0.1882\n",
      "Epoch 94/1000\n",
      "26/26 [==============================] - 0s 6ms/step - loss: 0.0326 - mae: 0.1311 - val_loss: 0.0447 - val_mae: 0.1760\n",
      "Epoch 95/1000\n",
      "26/26 [==============================] - 0s 6ms/step - loss: 0.0332 - mae: 0.1333 - val_loss: 0.0441 - val_mae: 0.1752\n",
      "Epoch 96/1000\n",
      "26/26 [==============================] - 0s 5ms/step - loss: 0.0333 - mae: 0.1358 - val_loss: 0.0417 - val_mae: 0.1661\n",
      "Epoch 97/1000\n",
      "26/26 [==============================] - 0s 5ms/step - loss: 0.0320 - mae: 0.1308 - val_loss: 0.0470 - val_mae: 0.1804\n",
      "Epoch 98/1000\n",
      "26/26 [==============================] - 0s 5ms/step - loss: 0.0334 - mae: 0.1333 - val_loss: 0.0477 - val_mae: 0.1827\n",
      "Epoch 99/1000\n",
      "26/26 [==============================] - 0s 5ms/step - loss: 0.0330 - mae: 0.1396 - val_loss: 0.0411 - val_mae: 0.1618\n",
      "Epoch 100/1000\n",
      "26/26 [==============================] - 0s 5ms/step - loss: 0.0305 - mae: 0.1259 - val_loss: 0.0491 - val_mae: 0.1851\n",
      "Epoch 101/1000\n",
      "26/26 [==============================] - 0s 5ms/step - loss: 0.0318 - mae: 0.1313 - val_loss: 0.0441 - val_mae: 0.1716\n",
      "Epoch 102/1000\n",
      "26/26 [==============================] - 0s 5ms/step - loss: 0.0328 - mae: 0.1306 - val_loss: 0.0446 - val_mae: 0.1732\n",
      "Epoch 103/1000\n",
      "26/26 [==============================] - 0s 5ms/step - loss: 0.0313 - mae: 0.1294 - val_loss: 0.0440 - val_mae: 0.1712\n",
      "Epoch 104/1000\n",
      "26/26 [==============================] - 0s 5ms/step - loss: 0.0315 - mae: 0.1313 - val_loss: 0.0449 - val_mae: 0.1741\n",
      "Epoch 105/1000\n",
      "26/26 [==============================] - 0s 5ms/step - loss: 0.0323 - mae: 0.1325 - val_loss: 0.0489 - val_mae: 0.1839\n",
      "Epoch 106/1000\n",
      "26/26 [==============================] - 0s 5ms/step - loss: 0.0320 - mae: 0.1321 - val_loss: 0.0492 - val_mae: 0.1840\n",
      "Epoch 107/1000\n",
      "26/26 [==============================] - 0s 5ms/step - loss: 0.0349 - mae: 0.1398 - val_loss: 0.0437 - val_mae: 0.1680\n",
      "Epoch 108/1000\n",
      "26/26 [==============================] - 0s 5ms/step - loss: 0.0327 - mae: 0.1345 - val_loss: 0.0442 - val_mae: 0.1694\n",
      "Epoch 109/1000\n",
      "26/26 [==============================] - 0s 5ms/step - loss: 0.0311 - mae: 0.1294 - val_loss: 0.0477 - val_mae: 0.1788\n",
      "Epoch 110/1000\n",
      "26/26 [==============================] - 0s 5ms/step - loss: 0.0304 - mae: 0.1263 - val_loss: 0.0441 - val_mae: 0.1689\n",
      "Epoch 111/1000\n",
      "26/26 [==============================] - 0s 5ms/step - loss: 0.0314 - mae: 0.1308 - val_loss: 0.0480 - val_mae: 0.1793\n",
      "Epoch 112/1000\n",
      "26/26 [==============================] - 0s 5ms/step - loss: 0.0306 - mae: 0.1290 - val_loss: 0.0478 - val_mae: 0.1788\n",
      "Epoch 113/1000\n",
      "26/26 [==============================] - 0s 5ms/step - loss: 0.0306 - mae: 0.1311 - val_loss: 0.0473 - val_mae: 0.1780\n",
      "Epoch 114/1000\n",
      "26/26 [==============================] - 0s 5ms/step - loss: 0.0324 - mae: 0.1325 - val_loss: 0.0459 - val_mae: 0.1744\n",
      "Epoch 115/1000\n",
      "26/26 [==============================] - 0s 5ms/step - loss: 0.0319 - mae: 0.1318 - val_loss: 0.0468 - val_mae: 0.1760\n",
      "Epoch 116/1000\n",
      "26/26 [==============================] - 0s 5ms/step - loss: 0.0316 - mae: 0.1321 - val_loss: 0.0451 - val_mae: 0.1721\n",
      "Epoch 117/1000\n",
      "26/26 [==============================] - 0s 5ms/step - loss: 0.0327 - mae: 0.1352 - val_loss: 0.0429 - val_mae: 0.1660\n",
      "Epoch 118/1000\n",
      "26/26 [==============================] - 0s 5ms/step - loss: 0.0313 - mae: 0.1317 - val_loss: 0.0506 - val_mae: 0.1891\n",
      "Epoch 119/1000\n",
      "26/26 [==============================] - 0s 5ms/step - loss: 0.0320 - mae: 0.1313 - val_loss: 0.0470 - val_mae: 0.1773\n",
      "Epoch 120/1000\n",
      "26/26 [==============================] - 0s 5ms/step - loss: 0.0333 - mae: 0.1343 - val_loss: 0.0434 - val_mae: 0.1667\n",
      "Epoch 121/1000\n",
      "26/26 [==============================] - 0s 6ms/step - loss: 0.0323 - mae: 0.1328 - val_loss: 0.0472 - val_mae: 0.1749\n",
      "Epoch 122/1000\n",
      "26/26 [==============================] - 0s 6ms/step - loss: 0.0323 - mae: 0.1330 - val_loss: 0.0450 - val_mae: 0.1702\n",
      "Epoch 123/1000\n",
      "26/26 [==============================] - 0s 6ms/step - loss: 0.0311 - mae: 0.1296 - val_loss: 0.0462 - val_mae: 0.1740\n",
      "Epoch 124/1000\n",
      "26/26 [==============================] - 0s 6ms/step - loss: 0.0315 - mae: 0.1284 - val_loss: 0.0475 - val_mae: 0.1772\n",
      "Epoch 125/1000\n",
      "26/26 [==============================] - 0s 7ms/step - loss: 0.0320 - mae: 0.1371 - val_loss: 0.0421 - val_mae: 0.1609\n",
      "Epoch 126/1000\n",
      "26/26 [==============================] - 0s 5ms/step - loss: 0.0313 - mae: 0.1294 - val_loss: 0.0484 - val_mae: 0.1788\n",
      "Epoch 127/1000\n",
      "26/26 [==============================] - 0s 5ms/step - loss: 0.0299 - mae: 0.1279 - val_loss: 0.0479 - val_mae: 0.1794\n",
      "Epoch 128/1000\n",
      "26/26 [==============================] - 0s 5ms/step - loss: 0.0333 - mae: 0.1340 - val_loss: 0.0441 - val_mae: 0.1666\n",
      "Epoch 129/1000\n",
      "26/26 [==============================] - 0s 6ms/step - loss: 0.0299 - mae: 0.1304 - val_loss: 0.0473 - val_mae: 0.1742\n",
      "Epoch 130/1000\n",
      "26/26 [==============================] - 0s 5ms/step - loss: 0.0324 - mae: 0.1319 - val_loss: 0.0484 - val_mae: 0.1779\n",
      "Epoch 131/1000\n",
      "26/26 [==============================] - 0s 5ms/step - loss: 0.0333 - mae: 0.1366 - val_loss: 0.0482 - val_mae: 0.1766\n",
      "Epoch 132/1000\n",
      "26/26 [==============================] - 0s 6ms/step - loss: 0.0327 - mae: 0.1354 - val_loss: 0.0461 - val_mae: 0.1719\n"
     ]
    }
   ],
   "source": [
    "#Training, pake model.fit()\n",
    "#Using mae and mse\n",
    "#model.compile(optimizer=tf.keras.optimizers.SGD(learning_rate=0.001, momentum=0.9),metrics=['mae'],loss='mse')\n",
    "#optimizers itu buat memilih fungsi optimasi, jadi itu sebuah fungsi yang bertanggung jawab biar tiap epoch itu ada perubahan yang baik\n",
    "#dengan cara membuat per layer belajar nya lebih keras atau lebih ringan, dengan cara mengubah parameter dari tiap layer\n",
    "#secara matematis, si optimizer akan berusaha mencari loss terkecil dalam distribusi loss dibanding parameter\n",
    "model.compile(optimizer=tf.keras.optimizers.Adam(),metrics=['mae'],loss='mse')\n",
    "model.summary()\n",
    "hist=model.fit(train_set,epochs=1000,validation_data=valid_set, batch_size=1,callbacks=[callbacks])"
   ]
  },
  {
   "cell_type": "code",
   "execution_count": 29,
   "metadata": {},
   "outputs": [
    {
     "data": {
      "image/png": "[encoded data removed]",
      "text/plain": [
       "<Figure size 432x288 with 1 Axes>"
      ]
     },
     "metadata": {
      "needs_background": "light"
     },
     "output_type": "display_data"
    }
   ],
   "source": [
    "import matplotlib.pyplot as plt\n",
    "plt.plot(hist.history['mae'], label='MAE (training data)')\n",
    "plt.plot(hist.history['val_mae'], label='MAE (validation data)')\n",
    "\n",
    "plt.title(\"MAE Cluster 1\")\n",
    "plt.ylabel('MAE value')\n",
    "plt.xlabel('No. epoch')\n",
    "plt.legend(loc=\"upper left\")\n",
    "plt.show()"
   ]
  },
  {
   "cell_type": "code",
   "execution_count": 30,
   "metadata": {},
   "outputs": [
    {
     "data": {
      "image/png": "[encoded data removed]",
      "text/plain": [
       "<Figure size 432x288 with 1 Axes>"
      ]
     },
     "metadata": {
      "needs_background": "light"
     },
     "output_type": "display_data"
    }
   ],
   "source": [
    "import matplotlib.pyplot as plt\n",
    "plt.plot(hist.history['loss'], label='MAE (training data)')\n",
    "plt.plot(hist.history['val_loss'], label='MAE (validation data)')\n",
    "\n",
    "plt.title(\"Loss Cluster 1 (MSE)\")\n",
    "plt.ylabel('MAE value')\n",
    "plt.xlabel('No. epoch')\n",
    "plt.legend(loc=\"upper left\")\n",
    "plt.show()"
   ]
  },
  {
   "cell_type": "code",
   "execution_count": 31,
   "metadata": {},
   "outputs": [
    {
     "data": {
      "text/plain": [
       "array([[0.2715999 ],\n",
       "       [0.33145815],\n",
       "       [0.24668533],\n",
       "       [0.15847455],\n",
       "       [0.15495454],\n",
       "       [0.08907476]], dtype=float32)"
      ]
     },
     "execution_count": 31,
     "metadata": {},
     "output_type": "execute_result"
    }
   ],
   "source": [
    "prediksi=model.predict(np.array(x_valid))\n",
    "prediksi"
   ]
  },
  {
   "cell_type": "code",
   "execution_count": 32,
   "metadata": {},
   "outputs": [],
   "source": [
    "prediksi=prediksi.flatten()"
   ]
  },
  {
   "cell_type": "code",
   "execution_count": 33,
   "metadata": {},
   "outputs": [],
   "source": [
    "hasil=np.concatenate((series,prediksi))"
   ]
  },
  {
   "cell_type": "code",
   "execution_count": 34,
   "metadata": {},
   "outputs": [
    {
     "data": {
      "text/plain": [
       "array([0.29515789, 0.23550877, 0.83789474, 0.28870175, 0.57277193,\n",
       "       0.25614035, 0.47157895, 0.31522807, 0.47691228, 0.7762807 ,\n",
       "       0.43214035, 0.02526316, 0.47157895, 0.49838596, 0.33431579,\n",
       "       0.41038596, 0.49122807, 0.47045614, 0.49908772, 0.15859649,\n",
       "       0.4405614 , 0.37178947, 0.08505263, 0.07578947, 0.48589474,\n",
       "       0.68238596, 0.48196491, 0.46470175, 0.72785965, 0.25263158,\n",
       "       0.53768421, 0.50315789, 0.54961404, 0.47635088, 0.69249123,\n",
       "       0.40435088, 0.73249123, 0.50610526, 0.92547368, 0.21838596,\n",
       "       0.05108772, 0.        , 0.2642807 , 0.25010526, 0.48308772,\n",
       "       0.53431579, 0.4325614 , 0.41824561, 0.56561404, 0.54091228,\n",
       "       0.84659649, 0.75621053, 0.48280702, 1.        , 0.27159989,\n",
       "       0.33145815, 0.24668533, 0.15847455, 0.15495454, 0.08907476])"
      ]
     },
     "execution_count": 34,
     "metadata": {},
     "output_type": "execute_result"
    }
   ],
   "source": [
    "hasil"
   ]
  },
  {
   "cell_type": "code",
   "execution_count": 35,
   "metadata": {},
   "outputs": [],
   "source": [
    "asli = np.concatenate((series,series_t))"
   ]
  },
  {
   "cell_type": "code",
   "execution_count": 36,
   "metadata": {},
   "outputs": [],
   "source": [
    "hasil = hasil * (max-min) + min\n",
    "asli = asli * (max-min) + min"
   ]
  },
  {
   "cell_type": "code",
   "execution_count": 37,
   "metadata": {},
   "outputs": [
    {
     "data": {
      "text/plain": [
       "[]"
      ]
     },
     "execution_count": 37,
     "metadata": {},
     "output_type": "execute_result"
    },
    {
     "data": {
      "image/png": "[encoded data removed]",
      "text/plain": [
       "<Figure size 432x288 with 1 Axes>"
      ]
     },
     "metadata": {
      "needs_background": "light"
     },
     "output_type": "display_data"
    }
   ],
   "source": [
    "plt.plot(asli,marker = 'o',label='data asli')\n",
    "plt.plot(hasil,marker = 'o',label='data prediksi')\n",
    "plt.title('penjualan produk cluster 1')\n",
    "plt.legend()\n",
    "plt.plot()"
   ]
  },
  {
   "cell_type": "code",
   "execution_count": 38,
   "metadata": {},
   "outputs": [],
   "source": [
    "model.save('cluster1_newdata.h5')"
   ]
  },
  {
   "cell_type": "markdown",
   "metadata": {},
   "source": [
    "# Satu Produk"
   ]
  },
  {
   "cell_type": "code",
   "execution_count": 39,
   "metadata": {},
   "outputs": [
    {
     "data": {
      "text/html": [
       "<div>\n",
       "<style scoped>\n",
       "    .dataframe tbody tr th:only-of-type {\n",
       "        vertical-align: middle;\n",
       "    }\n",
       "\n",
       "    .dataframe tbody tr th {\n",
       "        vertical-align: top;\n",
       "    }\n",
       "\n",
       "    .dataframe thead th {\n",
       "        text-align: right;\n",
       "    }\n",
       "</style>\n",
       "<table border=\"1\" class=\"dataframe\">\n",
       "  <thead>\n",
       "    <tr style=\"text-align: right;\">\n",
       "      <th></th>\n",
       "      <th>1</th>\n",
       "      <th>2</th>\n",
       "      <th>3</th>\n",
       "      <th>4</th>\n",
       "      <th>5</th>\n",
       "      <th>6</th>\n",
       "      <th>7</th>\n",
       "      <th>8</th>\n",
       "      <th>9</th>\n",
       "      <th>10</th>\n",
       "      <th>...</th>\n",
       "      <th>45</th>\n",
       "      <th>46</th>\n",
       "      <th>47</th>\n",
       "      <th>48</th>\n",
       "      <th>49</th>\n",
       "      <th>50</th>\n",
       "      <th>51</th>\n",
       "      <th>52</th>\n",
       "      <th>53</th>\n",
       "      <th>54</th>\n",
       "    </tr>\n",
       "  </thead>\n",
       "  <tbody>\n",
       "    <tr>\n",
       "      <th>04178</th>\n",
       "      <td>221</td>\n",
       "      <td>176</td>\n",
       "      <td>242</td>\n",
       "      <td>144</td>\n",
       "      <td>243</td>\n",
       "      <td>166</td>\n",
       "      <td>254</td>\n",
       "      <td>210</td>\n",
       "      <td>177</td>\n",
       "      <td>268</td>\n",
       "      <td>...</td>\n",
       "      <td>64</td>\n",
       "      <td>72</td>\n",
       "      <td>102</td>\n",
       "      <td>97</td>\n",
       "      <td>95</td>\n",
       "      <td>54</td>\n",
       "      <td>85</td>\n",
       "      <td>105</td>\n",
       "      <td>91</td>\n",
       "      <td>86</td>\n",
       "    </tr>\n",
       "  </tbody>\n",
       "</table>\n",
       "<p>1 rows × 54 columns</p>\n",
       "</div>"
      ],
      "text/plain": [
       "        1    2    3    4    5    6    7    8    9    10  ...  45  46   47  48  \\\n",
       "04178  221  176  242  144  243  166  254  210  177  268  ...  64  72  102  97   \n",
       "\n",
       "       49  50  51   52  53  54  \n",
       "04178  95  54  85  105  91  86  \n",
       "\n",
       "[1 rows x 54 columns]"
      ]
     },
     "execution_count": 39,
     "metadata": {},
     "output_type": "execute_result"
    }
   ],
   "source": [
    "new_c1 = c1.sample()\n",
    "new_c1"
   ]
  },
  {
   "cell_type": "code",
   "execution_count": 40,
   "metadata": {},
   "outputs": [
    {
     "data": {
      "text/html": [
       "<div>\n",
       "<style scoped>\n",
       "    .dataframe tbody tr th:only-of-type {\n",
       "        vertical-align: middle;\n",
       "    }\n",
       "\n",
       "    .dataframe tbody tr th {\n",
       "        vertical-align: top;\n",
       "    }\n",
       "\n",
       "    .dataframe thead th {\n",
       "        text-align: right;\n",
       "    }\n",
       "</style>\n",
       "<table border=\"1\" class=\"dataframe\">\n",
       "  <thead>\n",
       "    <tr style=\"text-align: right;\">\n",
       "      <th></th>\n",
       "      <th>bulan 1</th>\n",
       "      <th>bulan 2</th>\n",
       "      <th>bulan 3</th>\n",
       "      <th>bulan 4</th>\n",
       "      <th>bulan 5</th>\n",
       "      <th>bulan 6</th>\n",
       "    </tr>\n",
       "  </thead>\n",
       "  <tbody>\n",
       "    <tr>\n",
       "      <th>04178</th>\n",
       "      <td>102</td>\n",
       "      <td>92</td>\n",
       "      <td>73</td>\n",
       "      <td>81</td>\n",
       "      <td>76</td>\n",
       "      <td>50</td>\n",
       "    </tr>\n",
       "  </tbody>\n",
       "</table>\n",
       "</div>"
      ],
      "text/plain": [
       "       bulan 1  bulan 2  bulan 3  bulan 4  bulan 5  bulan 6\n",
       "04178      102       92       73       81       76       50"
      ]
     },
     "execution_count": 40,
     "metadata": {},
     "output_type": "execute_result"
    }
   ],
   "source": [
    "c1_t.set_index(col,inplace=True)\n",
    "new_c1_t = c1_t.loc[new_c1.index]\n",
    "new_c1_t"
   ]
  },
  {
   "cell_type": "code",
   "execution_count": 41,
   "metadata": {},
   "outputs": [],
   "source": [
    "series=new_c1.values\n",
    "min = np.min(series)\n",
    "max = np.max(series)\n",
    "series = series - min\n",
    "series = series / (max-min)\n",
    "time = np.array(time)\n",
    "\n",
    "series_t=new_c1_t.values\n",
    "min_t = np.min(series_t)\n",
    "max_t = np.max(series_t)\n",
    "series_t = series_t - min_t\n",
    "series_t = series_t / (max_t-min_t)\n",
    "time_t = np.array(time_t)"
   ]
  },
  {
   "cell_type": "code",
   "execution_count": 42,
   "metadata": {},
   "outputs": [],
   "source": [
    "series = series.reshape(-1,)\n",
    "series_t= np.array(series_t).reshape(-1,)"
   ]
  },
  {
   "cell_type": "code",
   "execution_count": 43,
   "metadata": {},
   "outputs": [
    {
     "data": {
      "text/plain": [
       "array([[0.33145815],\n",
       "       [0.29104722],\n",
       "       [0.20602407],\n",
       "       [0.24313508],\n",
       "       [0.22016251],\n",
       "       [0.08907476]], dtype=float32)"
      ]
     },
     "execution_count": 43,
     "metadata": {},
     "output_type": "execute_result"
    }
   ],
   "source": [
    "prediksi=model.predict(np.array(series_t))\n",
    "prediksi"
   ]
  },
  {
   "cell_type": "code",
   "execution_count": 44,
   "metadata": {},
   "outputs": [],
   "source": [
    "prediksi=prediksi.flatten()"
   ]
  },
  {
   "cell_type": "code",
   "execution_count": 45,
   "metadata": {},
   "outputs": [],
   "source": [
    "series = series*(max-min) + min\n",
    "prediksi = prediksi*(max_t-min_t)+ min_t\n",
    "series_t = series_t*(max_t-min_t) + min_t  \n",
    "hasil=np.concatenate((series,prediksi))\n",
    "asli = np.concatenate((series,series_t))"
   ]
  },
  {
   "cell_type": "code",
   "execution_count": 46,
   "metadata": {},
   "outputs": [
    {
     "data": {
      "text/plain": [
       "[]"
      ]
     },
     "execution_count": 46,
     "metadata": {},
     "output_type": "execute_result"
    },
    {
     "data": {
      "image/png": "[encoded data removed]",
      "text/plain": [
       "<Figure size 432x288 with 1 Axes>"
      ]
     },
     "metadata": {
      "needs_background": "light"
     },
     "output_type": "display_data"
    }
   ],
   "source": [
    "plt.plot(asli,marker = 'o',label='data asli')\n",
    "plt.plot(hasil,marker = 'o',label='data prediksi')\n",
    "plt.title('penjualan produk produk '+str(new_c1.index[0]))\n",
    "plt.legend()\n",
    "plt.plot()"
   ]
  },
  {
   "cell_type": "code",
   "execution_count": null,
   "metadata": {},
   "outputs": [],
   "source": []
  },
  {
   "cell_type": "code",
   "execution_count": null,
   "metadata": {},
   "outputs": [],
   "source": []
  }
 ],
 "metadata": {
  "interpreter": {
   "hash": "c9d83cc02921a4738836e4c62bbe4b1fbf4384e37b2198c6e81d5aaf3defd2c8"
  },
  "kernelspec": {
   "display_name": "Python 3.8.5 ('base')",
   "language": "python",
   "name": "python3"
  },
  "language_info": {
   "codemirror_mode": {
    "name": "ipython",
    "version": 3
   },
   "file_extension": ".py",
   "mimetype": "text/x-python",
   "name": "python",
   "nbconvert_exporter": "python",
   "pygments_lexer": "ipython3",
   "version": "3.8.5"
  },
  "orig_nbformat": 4
 },
 "nbformat": 4,
 "nbformat_minor": 2
}
