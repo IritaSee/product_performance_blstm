{
 "cells": [
  {
   "cell_type": "code",
   "execution_count": 278,
   "metadata": {},
   "outputs": [],
   "source": [
    "import tensorflow as tf\n",
    "import pandas as pd\n",
    "import numpy as np\n",
    "import matplotlib.pyplot as plt\n",
    "from sklearn.preprocessing import MinMaxScaler"
   ]
  },
  {
   "cell_type": "code",
   "execution_count": 279,
   "metadata": {},
   "outputs": [
    {
     "data": {
      "text/html": [
       "<div>\n",
       "<style scoped>\n",
       "    .dataframe tbody tr th:only-of-type {\n",
       "        vertical-align: middle;\n",
       "    }\n",
       "\n",
       "    .dataframe tbody tr th {\n",
       "        vertical-align: top;\n",
       "    }\n",
       "\n",
       "    .dataframe thead th {\n",
       "        text-align: right;\n",
       "    }\n",
       "</style>\n",
       "<table border=\"1\" class=\"dataframe\">\n",
       "  <thead>\n",
       "    <tr style=\"text-align: right;\">\n",
       "      <th></th>\n",
       "      <th>KodeBarang</th>\n",
       "      <th>1</th>\n",
       "      <th>2</th>\n",
       "      <th>3</th>\n",
       "      <th>4</th>\n",
       "      <th>5</th>\n",
       "      <th>6</th>\n",
       "      <th>7</th>\n",
       "      <th>8</th>\n",
       "      <th>9</th>\n",
       "      <th>...</th>\n",
       "      <th>46</th>\n",
       "      <th>47</th>\n",
       "      <th>48</th>\n",
       "      <th>49</th>\n",
       "      <th>50</th>\n",
       "      <th>51</th>\n",
       "      <th>52</th>\n",
       "      <th>53</th>\n",
       "      <th>54</th>\n",
       "      <th>cluster</th>\n",
       "    </tr>\n",
       "  </thead>\n",
       "  <tbody>\n",
       "    <tr>\n",
       "      <th>0</th>\n",
       "      <td>04121</td>\n",
       "      <td>7</td>\n",
       "      <td>9</td>\n",
       "      <td>6</td>\n",
       "      <td>9</td>\n",
       "      <td>40</td>\n",
       "      <td>0</td>\n",
       "      <td>3</td>\n",
       "      <td>0</td>\n",
       "      <td>7</td>\n",
       "      <td>...</td>\n",
       "      <td>67</td>\n",
       "      <td>77</td>\n",
       "      <td>11</td>\n",
       "      <td>57</td>\n",
       "      <td>43</td>\n",
       "      <td>50</td>\n",
       "      <td>37</td>\n",
       "      <td>21</td>\n",
       "      <td>136</td>\n",
       "      <td>0</td>\n",
       "    </tr>\n",
       "    <tr>\n",
       "      <th>1</th>\n",
       "      <td>18031</td>\n",
       "      <td>230</td>\n",
       "      <td>227</td>\n",
       "      <td>279</td>\n",
       "      <td>153</td>\n",
       "      <td>190</td>\n",
       "      <td>256</td>\n",
       "      <td>267</td>\n",
       "      <td>305</td>\n",
       "      <td>238</td>\n",
       "      <td>...</td>\n",
       "      <td>336</td>\n",
       "      <td>153</td>\n",
       "      <td>103</td>\n",
       "      <td>221</td>\n",
       "      <td>360</td>\n",
       "      <td>280</td>\n",
       "      <td>240</td>\n",
       "      <td>120</td>\n",
       "      <td>548</td>\n",
       "      <td>1</td>\n",
       "    </tr>\n",
       "    <tr>\n",
       "      <th>2</th>\n",
       "      <td>04161</td>\n",
       "      <td>102</td>\n",
       "      <td>50</td>\n",
       "      <td>45</td>\n",
       "      <td>41</td>\n",
       "      <td>71</td>\n",
       "      <td>11</td>\n",
       "      <td>52</td>\n",
       "      <td>14</td>\n",
       "      <td>66</td>\n",
       "      <td>...</td>\n",
       "      <td>21</td>\n",
       "      <td>20</td>\n",
       "      <td>7</td>\n",
       "      <td>33</td>\n",
       "      <td>21</td>\n",
       "      <td>28</td>\n",
       "      <td>30</td>\n",
       "      <td>10</td>\n",
       "      <td>18</td>\n",
       "      <td>0</td>\n",
       "    </tr>\n",
       "    <tr>\n",
       "      <th>3</th>\n",
       "      <td>04162</td>\n",
       "      <td>272</td>\n",
       "      <td>155</td>\n",
       "      <td>214</td>\n",
       "      <td>226</td>\n",
       "      <td>268</td>\n",
       "      <td>110</td>\n",
       "      <td>204</td>\n",
       "      <td>253</td>\n",
       "      <td>193</td>\n",
       "      <td>...</td>\n",
       "      <td>102</td>\n",
       "      <td>118</td>\n",
       "      <td>120</td>\n",
       "      <td>211</td>\n",
       "      <td>292</td>\n",
       "      <td>105</td>\n",
       "      <td>108</td>\n",
       "      <td>101</td>\n",
       "      <td>117</td>\n",
       "      <td>1</td>\n",
       "    </tr>\n",
       "    <tr>\n",
       "      <th>4</th>\n",
       "      <td>04163</td>\n",
       "      <td>28</td>\n",
       "      <td>28</td>\n",
       "      <td>29</td>\n",
       "      <td>52</td>\n",
       "      <td>44</td>\n",
       "      <td>21</td>\n",
       "      <td>47</td>\n",
       "      <td>15</td>\n",
       "      <td>24</td>\n",
       "      <td>...</td>\n",
       "      <td>18</td>\n",
       "      <td>23</td>\n",
       "      <td>22</td>\n",
       "      <td>16</td>\n",
       "      <td>22</td>\n",
       "      <td>31</td>\n",
       "      <td>36</td>\n",
       "      <td>17</td>\n",
       "      <td>14</td>\n",
       "      <td>0</td>\n",
       "    </tr>\n",
       "    <tr>\n",
       "      <th>...</th>\n",
       "      <td>...</td>\n",
       "      <td>...</td>\n",
       "      <td>...</td>\n",
       "      <td>...</td>\n",
       "      <td>...</td>\n",
       "      <td>...</td>\n",
       "      <td>...</td>\n",
       "      <td>...</td>\n",
       "      <td>...</td>\n",
       "      <td>...</td>\n",
       "      <td>...</td>\n",
       "      <td>...</td>\n",
       "      <td>...</td>\n",
       "      <td>...</td>\n",
       "      <td>...</td>\n",
       "      <td>...</td>\n",
       "      <td>...</td>\n",
       "      <td>...</td>\n",
       "      <td>...</td>\n",
       "      <td>...</td>\n",
       "      <td>...</td>\n",
       "    </tr>\n",
       "    <tr>\n",
       "      <th>101</th>\n",
       "      <td>04157</td>\n",
       "      <td>55</td>\n",
       "      <td>64</td>\n",
       "      <td>44</td>\n",
       "      <td>61</td>\n",
       "      <td>30</td>\n",
       "      <td>1</td>\n",
       "      <td>24</td>\n",
       "      <td>37</td>\n",
       "      <td>67</td>\n",
       "      <td>...</td>\n",
       "      <td>20</td>\n",
       "      <td>10</td>\n",
       "      <td>300</td>\n",
       "      <td>34</td>\n",
       "      <td>7</td>\n",
       "      <td>7</td>\n",
       "      <td>6</td>\n",
       "      <td>4</td>\n",
       "      <td>21</td>\n",
       "      <td>0</td>\n",
       "    </tr>\n",
       "    <tr>\n",
       "      <th>102</th>\n",
       "      <td>18104</td>\n",
       "      <td>46</td>\n",
       "      <td>295</td>\n",
       "      <td>83</td>\n",
       "      <td>112</td>\n",
       "      <td>70</td>\n",
       "      <td>40</td>\n",
       "      <td>18</td>\n",
       "      <td>140</td>\n",
       "      <td>97</td>\n",
       "      <td>...</td>\n",
       "      <td>47</td>\n",
       "      <td>54</td>\n",
       "      <td>27</td>\n",
       "      <td>15</td>\n",
       "      <td>57</td>\n",
       "      <td>132</td>\n",
       "      <td>66</td>\n",
       "      <td>34</td>\n",
       "      <td>146</td>\n",
       "      <td>0</td>\n",
       "    </tr>\n",
       "    <tr>\n",
       "      <th>103</th>\n",
       "      <td>18106</td>\n",
       "      <td>200</td>\n",
       "      <td>204</td>\n",
       "      <td>0</td>\n",
       "      <td>2</td>\n",
       "      <td>10</td>\n",
       "      <td>7</td>\n",
       "      <td>0</td>\n",
       "      <td>27</td>\n",
       "      <td>74</td>\n",
       "      <td>...</td>\n",
       "      <td>15</td>\n",
       "      <td>136</td>\n",
       "      <td>15</td>\n",
       "      <td>15</td>\n",
       "      <td>14</td>\n",
       "      <td>131</td>\n",
       "      <td>84</td>\n",
       "      <td>12</td>\n",
       "      <td>14</td>\n",
       "      <td>0</td>\n",
       "    </tr>\n",
       "    <tr>\n",
       "      <th>104</th>\n",
       "      <td>18092</td>\n",
       "      <td>297</td>\n",
       "      <td>418</td>\n",
       "      <td>329</td>\n",
       "      <td>70</td>\n",
       "      <td>498</td>\n",
       "      <td>59</td>\n",
       "      <td>298</td>\n",
       "      <td>376</td>\n",
       "      <td>259</td>\n",
       "      <td>...</td>\n",
       "      <td>450</td>\n",
       "      <td>498</td>\n",
       "      <td>254</td>\n",
       "      <td>260</td>\n",
       "      <td>336</td>\n",
       "      <td>493</td>\n",
       "      <td>438</td>\n",
       "      <td>408</td>\n",
       "      <td>322</td>\n",
       "      <td>1</td>\n",
       "    </tr>\n",
       "    <tr>\n",
       "      <th>105</th>\n",
       "      <td>04143</td>\n",
       "      <td>132</td>\n",
       "      <td>80</td>\n",
       "      <td>103</td>\n",
       "      <td>113</td>\n",
       "      <td>81</td>\n",
       "      <td>108</td>\n",
       "      <td>124</td>\n",
       "      <td>101</td>\n",
       "      <td>119</td>\n",
       "      <td>...</td>\n",
       "      <td>153</td>\n",
       "      <td>130</td>\n",
       "      <td>121</td>\n",
       "      <td>189</td>\n",
       "      <td>92</td>\n",
       "      <td>226</td>\n",
       "      <td>181</td>\n",
       "      <td>112</td>\n",
       "      <td>214</td>\n",
       "      <td>1</td>\n",
       "    </tr>\n",
       "  </tbody>\n",
       "</table>\n",
       "<p>106 rows × 56 columns</p>\n",
       "</div>"
      ],
      "text/plain": [
       "    KodeBarang    1    2    3    4    5    6    7    8    9  ...   46   47  \\\n",
       "0        04121    7    9    6    9   40    0    3    0    7  ...   67   77   \n",
       "1        18031  230  227  279  153  190  256  267  305  238  ...  336  153   \n",
       "2        04161  102   50   45   41   71   11   52   14   66  ...   21   20   \n",
       "3        04162  272  155  214  226  268  110  204  253  193  ...  102  118   \n",
       "4        04163   28   28   29   52   44   21   47   15   24  ...   18   23   \n",
       "..         ...  ...  ...  ...  ...  ...  ...  ...  ...  ...  ...  ...  ...   \n",
       "101      04157   55   64   44   61   30    1   24   37   67  ...   20   10   \n",
       "102      18104   46  295   83  112   70   40   18  140   97  ...   47   54   \n",
       "103      18106  200  204    0    2   10    7    0   27   74  ...   15  136   \n",
       "104      18092  297  418  329   70  498   59  298  376  259  ...  450  498   \n",
       "105      04143  132   80  103  113   81  108  124  101  119  ...  153  130   \n",
       "\n",
       "      48   49   50   51   52   53   54  cluster  \n",
       "0     11   57   43   50   37   21  136        0  \n",
       "1    103  221  360  280  240  120  548        1  \n",
       "2      7   33   21   28   30   10   18        0  \n",
       "3    120  211  292  105  108  101  117        1  \n",
       "4     22   16   22   31   36   17   14        0  \n",
       "..   ...  ...  ...  ...  ...  ...  ...      ...  \n",
       "101  300   34    7    7    6    4   21        0  \n",
       "102   27   15   57  132   66   34  146        0  \n",
       "103   15   15   14  131   84   12   14        0  \n",
       "104  254  260  336  493  438  408  322        1  \n",
       "105  121  189   92  226  181  112  214        1  \n",
       "\n",
       "[106 rows x 56 columns]"
      ]
     },
     "execution_count": 279,
     "metadata": {},
     "output_type": "execute_result"
    }
   ],
   "source": [
    "data=pd.read_excel('dataset_new.xlsx',sheet_name='train')\n",
    "data"
   ]
  },
  {
   "cell_type": "code",
   "execution_count": 280,
   "metadata": {},
   "outputs": [],
   "source": [
    "clusters=data['cluster']"
   ]
  },
  {
   "cell_type": "code",
   "execution_count": 281,
   "metadata": {},
   "outputs": [
    {
     "data": {
      "text/html": [
       "<div>\n",
       "<style scoped>\n",
       "    .dataframe tbody tr th:only-of-type {\n",
       "        vertical-align: middle;\n",
       "    }\n",
       "\n",
       "    .dataframe tbody tr th {\n",
       "        vertical-align: top;\n",
       "    }\n",
       "\n",
       "    .dataframe thead th {\n",
       "        text-align: right;\n",
       "    }\n",
       "</style>\n",
       "<table border=\"1\" class=\"dataframe\">\n",
       "  <thead>\n",
       "    <tr style=\"text-align: right;\">\n",
       "      <th></th>\n",
       "      <th>KodeBarang</th>\n",
       "      <th>bulan 1</th>\n",
       "      <th>bulan 2</th>\n",
       "      <th>bulan 3</th>\n",
       "      <th>bulan 4</th>\n",
       "      <th>bulan 5</th>\n",
       "      <th>bulan 6</th>\n",
       "    </tr>\n",
       "  </thead>\n",
       "  <tbody>\n",
       "    <tr>\n",
       "      <th>0</th>\n",
       "      <td>04121</td>\n",
       "      <td>5</td>\n",
       "      <td>12</td>\n",
       "      <td>8</td>\n",
       "      <td>14</td>\n",
       "      <td>40</td>\n",
       "      <td>40</td>\n",
       "    </tr>\n",
       "    <tr>\n",
       "      <th>1</th>\n",
       "      <td>18031</td>\n",
       "      <td>573</td>\n",
       "      <td>340</td>\n",
       "      <td>441</td>\n",
       "      <td>270</td>\n",
       "      <td>488</td>\n",
       "      <td>240</td>\n",
       "    </tr>\n",
       "    <tr>\n",
       "      <th>2</th>\n",
       "      <td>04161</td>\n",
       "      <td>27</td>\n",
       "      <td>5</td>\n",
       "      <td>26</td>\n",
       "      <td>34</td>\n",
       "      <td>40</td>\n",
       "      <td>56</td>\n",
       "    </tr>\n",
       "    <tr>\n",
       "      <th>3</th>\n",
       "      <td>04162</td>\n",
       "      <td>162</td>\n",
       "      <td>82</td>\n",
       "      <td>72</td>\n",
       "      <td>98</td>\n",
       "      <td>126</td>\n",
       "      <td>120</td>\n",
       "    </tr>\n",
       "    <tr>\n",
       "      <th>4</th>\n",
       "      <td>04163</td>\n",
       "      <td>23</td>\n",
       "      <td>20</td>\n",
       "      <td>9</td>\n",
       "      <td>5</td>\n",
       "      <td>22</td>\n",
       "      <td>6</td>\n",
       "    </tr>\n",
       "    <tr>\n",
       "      <th>...</th>\n",
       "      <td>...</td>\n",
       "      <td>...</td>\n",
       "      <td>...</td>\n",
       "      <td>...</td>\n",
       "      <td>...</td>\n",
       "      <td>...</td>\n",
       "      <td>...</td>\n",
       "    </tr>\n",
       "    <tr>\n",
       "      <th>101</th>\n",
       "      <td>04157</td>\n",
       "      <td>138</td>\n",
       "      <td>14</td>\n",
       "      <td>12</td>\n",
       "      <td>21</td>\n",
       "      <td>25</td>\n",
       "      <td>10</td>\n",
       "    </tr>\n",
       "    <tr>\n",
       "      <th>102</th>\n",
       "      <td>18104</td>\n",
       "      <td>60</td>\n",
       "      <td>103</td>\n",
       "      <td>39</td>\n",
       "      <td>87</td>\n",
       "      <td>276</td>\n",
       "      <td>40</td>\n",
       "    </tr>\n",
       "    <tr>\n",
       "      <th>103</th>\n",
       "      <td>18106</td>\n",
       "      <td>16</td>\n",
       "      <td>7</td>\n",
       "      <td>65</td>\n",
       "      <td>24</td>\n",
       "      <td>13</td>\n",
       "      <td>27</td>\n",
       "    </tr>\n",
       "    <tr>\n",
       "      <th>104</th>\n",
       "      <td>18092</td>\n",
       "      <td>721</td>\n",
       "      <td>184</td>\n",
       "      <td>150</td>\n",
       "      <td>488</td>\n",
       "      <td>648</td>\n",
       "      <td>149</td>\n",
       "    </tr>\n",
       "    <tr>\n",
       "      <th>105</th>\n",
       "      <td>04143</td>\n",
       "      <td>164</td>\n",
       "      <td>189</td>\n",
       "      <td>187</td>\n",
       "      <td>232</td>\n",
       "      <td>219</td>\n",
       "      <td>229</td>\n",
       "    </tr>\n",
       "  </tbody>\n",
       "</table>\n",
       "<p>106 rows × 7 columns</p>\n",
       "</div>"
      ],
      "text/plain": [
       "    KodeBarang  bulan 1  bulan 2  bulan 3  bulan 4  bulan 5  bulan 6\n",
       "0        04121        5       12        8       14       40       40\n",
       "1        18031      573      340      441      270      488      240\n",
       "2        04161       27        5       26       34       40       56\n",
       "3        04162      162       82       72       98      126      120\n",
       "4        04163       23       20        9        5       22        6\n",
       "..         ...      ...      ...      ...      ...      ...      ...\n",
       "101      04157      138       14       12       21       25       10\n",
       "102      18104       60      103       39       87      276       40\n",
       "103      18106       16        7       65       24       13       27\n",
       "104      18092      721      184      150      488      648      149\n",
       "105      04143      164      189      187      232      219      229\n",
       "\n",
       "[106 rows x 7 columns]"
      ]
     },
     "execution_count": 281,
     "metadata": {},
     "output_type": "execute_result"
    }
   ],
   "source": [
    "data_test = pd.read_excel('dataset_new.xlsx',sheet_name='test')\n",
    "data_test"
   ]
  },
  {
   "cell_type": "code",
   "execution_count": 282,
   "metadata": {},
   "outputs": [
    {
     "data": {
      "text/html": [
       "<div>\n",
       "<style scoped>\n",
       "    .dataframe tbody tr th:only-of-type {\n",
       "        vertical-align: middle;\n",
       "    }\n",
       "\n",
       "    .dataframe tbody tr th {\n",
       "        vertical-align: top;\n",
       "    }\n",
       "\n",
       "    .dataframe thead th {\n",
       "        text-align: right;\n",
       "    }\n",
       "</style>\n",
       "<table border=\"1\" class=\"dataframe\">\n",
       "  <thead>\n",
       "    <tr style=\"text-align: right;\">\n",
       "      <th></th>\n",
       "      <th>KodeBarang</th>\n",
       "      <th>bulan 1</th>\n",
       "      <th>bulan 2</th>\n",
       "      <th>bulan 3</th>\n",
       "      <th>bulan 4</th>\n",
       "      <th>bulan 5</th>\n",
       "      <th>bulan 6</th>\n",
       "      <th>cluster</th>\n",
       "    </tr>\n",
       "  </thead>\n",
       "  <tbody>\n",
       "    <tr>\n",
       "      <th>0</th>\n",
       "      <td>04121</td>\n",
       "      <td>5</td>\n",
       "      <td>12</td>\n",
       "      <td>8</td>\n",
       "      <td>14</td>\n",
       "      <td>40</td>\n",
       "      <td>40</td>\n",
       "      <td>0</td>\n",
       "    </tr>\n",
       "    <tr>\n",
       "      <th>1</th>\n",
       "      <td>18031</td>\n",
       "      <td>573</td>\n",
       "      <td>340</td>\n",
       "      <td>441</td>\n",
       "      <td>270</td>\n",
       "      <td>488</td>\n",
       "      <td>240</td>\n",
       "      <td>1</td>\n",
       "    </tr>\n",
       "    <tr>\n",
       "      <th>2</th>\n",
       "      <td>04161</td>\n",
       "      <td>27</td>\n",
       "      <td>5</td>\n",
       "      <td>26</td>\n",
       "      <td>34</td>\n",
       "      <td>40</td>\n",
       "      <td>56</td>\n",
       "      <td>0</td>\n",
       "    </tr>\n",
       "    <tr>\n",
       "      <th>3</th>\n",
       "      <td>04162</td>\n",
       "      <td>162</td>\n",
       "      <td>82</td>\n",
       "      <td>72</td>\n",
       "      <td>98</td>\n",
       "      <td>126</td>\n",
       "      <td>120</td>\n",
       "      <td>1</td>\n",
       "    </tr>\n",
       "    <tr>\n",
       "      <th>4</th>\n",
       "      <td>04163</td>\n",
       "      <td>23</td>\n",
       "      <td>20</td>\n",
       "      <td>9</td>\n",
       "      <td>5</td>\n",
       "      <td>22</td>\n",
       "      <td>6</td>\n",
       "      <td>0</td>\n",
       "    </tr>\n",
       "    <tr>\n",
       "      <th>...</th>\n",
       "      <td>...</td>\n",
       "      <td>...</td>\n",
       "      <td>...</td>\n",
       "      <td>...</td>\n",
       "      <td>...</td>\n",
       "      <td>...</td>\n",
       "      <td>...</td>\n",
       "      <td>...</td>\n",
       "    </tr>\n",
       "    <tr>\n",
       "      <th>101</th>\n",
       "      <td>04157</td>\n",
       "      <td>138</td>\n",
       "      <td>14</td>\n",
       "      <td>12</td>\n",
       "      <td>21</td>\n",
       "      <td>25</td>\n",
       "      <td>10</td>\n",
       "      <td>0</td>\n",
       "    </tr>\n",
       "    <tr>\n",
       "      <th>102</th>\n",
       "      <td>18104</td>\n",
       "      <td>60</td>\n",
       "      <td>103</td>\n",
       "      <td>39</td>\n",
       "      <td>87</td>\n",
       "      <td>276</td>\n",
       "      <td>40</td>\n",
       "      <td>0</td>\n",
       "    </tr>\n",
       "    <tr>\n",
       "      <th>103</th>\n",
       "      <td>18106</td>\n",
       "      <td>16</td>\n",
       "      <td>7</td>\n",
       "      <td>65</td>\n",
       "      <td>24</td>\n",
       "      <td>13</td>\n",
       "      <td>27</td>\n",
       "      <td>0</td>\n",
       "    </tr>\n",
       "    <tr>\n",
       "      <th>104</th>\n",
       "      <td>18092</td>\n",
       "      <td>721</td>\n",
       "      <td>184</td>\n",
       "      <td>150</td>\n",
       "      <td>488</td>\n",
       "      <td>648</td>\n",
       "      <td>149</td>\n",
       "      <td>1</td>\n",
       "    </tr>\n",
       "    <tr>\n",
       "      <th>105</th>\n",
       "      <td>04143</td>\n",
       "      <td>164</td>\n",
       "      <td>189</td>\n",
       "      <td>187</td>\n",
       "      <td>232</td>\n",
       "      <td>219</td>\n",
       "      <td>229</td>\n",
       "      <td>1</td>\n",
       "    </tr>\n",
       "  </tbody>\n",
       "</table>\n",
       "<p>106 rows × 8 columns</p>\n",
       "</div>"
      ],
      "text/plain": [
       "    KodeBarang  bulan 1  bulan 2  bulan 3  bulan 4  bulan 5  bulan 6  cluster\n",
       "0        04121        5       12        8       14       40       40        0\n",
       "1        18031      573      340      441      270      488      240        1\n",
       "2        04161       27        5       26       34       40       56        0\n",
       "3        04162      162       82       72       98      126      120        1\n",
       "4        04163       23       20        9        5       22        6        0\n",
       "..         ...      ...      ...      ...      ...      ...      ...      ...\n",
       "101      04157      138       14       12       21       25       10        0\n",
       "102      18104       60      103       39       87      276       40        0\n",
       "103      18106       16        7       65       24       13       27        0\n",
       "104      18092      721      184      150      488      648      149        1\n",
       "105      04143      164      189      187      232      219      229        1\n",
       "\n",
       "[106 rows x 8 columns]"
      ]
     },
     "execution_count": 282,
     "metadata": {},
     "output_type": "execute_result"
    }
   ],
   "source": [
    "data_test['cluster'] = clusters\n",
    "data_test"
   ]
  },
  {
   "cell_type": "code",
   "execution_count": 283,
   "metadata": {},
   "outputs": [],
   "source": [
    "data_test.drop(['bulan 4','bulan 5','bulan 6'],axis=1,inplace=True)"
   ]
  },
  {
   "cell_type": "code",
   "execution_count": 284,
   "metadata": {},
   "outputs": [],
   "source": [
    "import matplotlib.pyplot as plt\n",
    "from sklearn.preprocessing import MinMaxScaler"
   ]
  },
  {
   "cell_type": "code",
   "execution_count": 285,
   "metadata": {},
   "outputs": [
    {
     "data": {
      "text/plain": [
       "4"
      ]
     },
     "execution_count": 285,
     "metadata": {},
     "output_type": "execute_result"
    }
   ],
   "source": [
    "len(data['cluster'].unique())"
   ]
  },
  {
   "cell_type": "code",
   "execution_count": 286,
   "metadata": {},
   "outputs": [
    {
     "name": "stdout",
     "output_type": "stream",
     "text": [
      "Jumlah Produk:\n",
      "70\n",
      "Jumlah Produk:\n",
      "31\n",
      "Jumlah Produk:\n",
      "4\n",
      "Jumlah Produk:\n",
      "1\n"
     ]
    }
   ],
   "source": [
    "#now lets take clusters\n",
    "c0 = data.query(\"cluster == 0\")\n",
    "print(\"Jumlah Produk:\")\n",
    "print(c0['KodeBarang'].size)\n",
    "c1 = data.query(\"cluster == 1\")\n",
    "print(\"Jumlah Produk:\")\n",
    "print(c1['KodeBarang'].size)\n",
    "c2 = data.query(\"cluster == 2\")\n",
    "print(\"Jumlah Produk:\")\n",
    "print(c2['KodeBarang'].size)\n",
    "c3 = data.query(\"cluster == 3\")\n",
    "print(\"Jumlah Produk:\")\n",
    "print(c3['KodeBarang'].size)"
   ]
  },
  {
   "cell_type": "code",
   "execution_count": 287,
   "metadata": {},
   "outputs": [
    {
     "name": "stdout",
     "output_type": "stream",
     "text": [
      "Jumlah Produk:\n",
      "70\n",
      "Jumlah Produk:\n",
      "31\n",
      "Jumlah Produk:\n",
      "4\n",
      "Jumlah Produk:\n",
      "1\n"
     ]
    }
   ],
   "source": [
    "c0_t = data_test.query(\"cluster == 0\")\n",
    "print(\"Jumlah Produk:\")\n",
    "print(c0_t['KodeBarang'].size)\n",
    "c1_t = data_test.query(\"cluster == 1\")\n",
    "print(\"Jumlah Produk:\")\n",
    "print(c1_t['KodeBarang'].size)\n",
    "c2_t = data_test.query(\"cluster == 2\")\n",
    "print(\"Jumlah Produk:\")\n",
    "print(c2_t['KodeBarang'].size)\n",
    "c3_t = data_test.query(\"cluster == 3\")\n",
    "print(\"Jumlah Produk:\")\n",
    "print(c3_t['KodeBarang'].size)"
   ]
  },
  {
   "cell_type": "code",
   "execution_count": 288,
   "metadata": {},
   "outputs": [],
   "source": [
    "#oke ada ternyata yang cuman sendirian (1 product di cluster tersebut), kita beresin dia dulu, the easiest, dan biar keliatan kita\n",
    "#ngapain aja di time series ini\n",
    "def windowed_dataset(series, window_size, batch_size, shuffle_buffer):\n",
    "    series = tf.expand_dims(series, axis=-1)\n",
    "    ds = tf.data.Dataset.from_tensor_slices(series)\n",
    "    ds = ds.window(window_size + 1, shift=1, drop_remainder=True)\n",
    "    ds = ds.flat_map(lambda w: w.batch(window_size + 1))\n",
    "    ds = ds.shuffle(shuffle_buffer)\n",
    "    ds = ds.map(lambda w: (w[:-1], w[1:]))\n",
    "    return ds.batch(batch_size).prefetch(1)\n",
    "# ini fungsinya buat nge ubah dataset jadi windowed"
   ]
  },
  {
   "cell_type": "markdown",
   "metadata": {},
   "source": [
    "# C3"
   ]
  },
  {
   "cell_type": "code",
   "execution_count": 456,
   "metadata": {},
   "outputs": [
    {
     "ename": "KeyError",
     "evalue": "\"['KodeBarang' 'cluster'] not found in axis\"",
     "output_type": "error",
     "traceback": [
      "\u001b[1;31m---------------------------------------------------------------------------\u001b[0m",
      "\u001b[1;31mKeyError\u001b[0m                                  Traceback (most recent call last)",
      "\u001b[1;32m<ipython-input-456-3334969ee28b>\u001b[0m in \u001b[0;36m<module>\u001b[1;34m\u001b[0m\n\u001b[0;32m      1\u001b[0m \u001b[1;31m#next kita ubah bentuk data nya dari yang tadinya kesamping jadi ke bawah, tapi pertama mau aku drop dulu cluster sama kode produknya\u001b[0m\u001b[1;33m\u001b[0m\u001b[1;33m\u001b[0m\u001b[1;33m\u001b[0m\u001b[0m\n\u001b[1;32m----> 2\u001b[1;33m \u001b[0mc3\u001b[0m\u001b[1;33m=\u001b[0m\u001b[0mc3\u001b[0m\u001b[1;33m.\u001b[0m\u001b[0mdrop\u001b[0m\u001b[1;33m(\u001b[0m\u001b[0mcolumns\u001b[0m\u001b[1;33m=\u001b[0m\u001b[1;33m[\u001b[0m\u001b[1;34m'KodeBarang'\u001b[0m\u001b[1;33m,\u001b[0m\u001b[1;34m'cluster'\u001b[0m\u001b[1;33m]\u001b[0m\u001b[1;33m)\u001b[0m\u001b[1;33m\u001b[0m\u001b[1;33m\u001b[0m\u001b[0m\n\u001b[0m\u001b[0;32m      3\u001b[0m \u001b[0mc3\u001b[0m\u001b[1;33m\u001b[0m\u001b[1;33m\u001b[0m\u001b[0m\n\u001b[0;32m      4\u001b[0m \u001b[0mc3_t\u001b[0m \u001b[1;33m=\u001b[0m\u001b[0mc3_t\u001b[0m\u001b[1;33m.\u001b[0m\u001b[0mdrop\u001b[0m\u001b[1;33m(\u001b[0m\u001b[0mcolumns\u001b[0m\u001b[1;33m=\u001b[0m\u001b[1;33m[\u001b[0m\u001b[1;34m'KodeBarang'\u001b[0m\u001b[1;33m,\u001b[0m\u001b[1;34m'cluster'\u001b[0m\u001b[1;33m]\u001b[0m\u001b[1;33m)\u001b[0m\u001b[1;33m\u001b[0m\u001b[1;33m\u001b[0m\u001b[0m\n\u001b[0;32m      5\u001b[0m \u001b[0mc3_t\u001b[0m\u001b[1;33m\u001b[0m\u001b[1;33m\u001b[0m\u001b[0m\n",
      "\u001b[1;32m~\\anaconda3\\lib\\site-packages\\pandas\\core\\frame.py\u001b[0m in \u001b[0;36mdrop\u001b[1;34m(self, labels, axis, index, columns, level, inplace, errors)\u001b[0m\n\u001b[0;32m   4161\u001b[0m                 \u001b[0mweight\u001b[0m  \u001b[1;36m1.0\u001b[0m     \u001b[1;36m0.8\u001b[0m\u001b[1;33m\u001b[0m\u001b[1;33m\u001b[0m\u001b[0m\n\u001b[0;32m   4162\u001b[0m         \"\"\"\n\u001b[1;32m-> 4163\u001b[1;33m         return super().drop(\n\u001b[0m\u001b[0;32m   4164\u001b[0m             \u001b[0mlabels\u001b[0m\u001b[1;33m=\u001b[0m\u001b[0mlabels\u001b[0m\u001b[1;33m,\u001b[0m\u001b[1;33m\u001b[0m\u001b[1;33m\u001b[0m\u001b[0m\n\u001b[0;32m   4165\u001b[0m             \u001b[0maxis\u001b[0m\u001b[1;33m=\u001b[0m\u001b[0maxis\u001b[0m\u001b[1;33m,\u001b[0m\u001b[1;33m\u001b[0m\u001b[1;33m\u001b[0m\u001b[0m\n",
      "\u001b[1;32m~\\anaconda3\\lib\\site-packages\\pandas\\core\\generic.py\u001b[0m in \u001b[0;36mdrop\u001b[1;34m(self, labels, axis, index, columns, level, inplace, errors)\u001b[0m\n\u001b[0;32m   3885\u001b[0m         \u001b[1;32mfor\u001b[0m \u001b[0maxis\u001b[0m\u001b[1;33m,\u001b[0m \u001b[0mlabels\u001b[0m \u001b[1;32min\u001b[0m \u001b[0maxes\u001b[0m\u001b[1;33m.\u001b[0m\u001b[0mitems\u001b[0m\u001b[1;33m(\u001b[0m\u001b[1;33m)\u001b[0m\u001b[1;33m:\u001b[0m\u001b[1;33m\u001b[0m\u001b[1;33m\u001b[0m\u001b[0m\n\u001b[0;32m   3886\u001b[0m             \u001b[1;32mif\u001b[0m \u001b[0mlabels\u001b[0m \u001b[1;32mis\u001b[0m \u001b[1;32mnot\u001b[0m \u001b[1;32mNone\u001b[0m\u001b[1;33m:\u001b[0m\u001b[1;33m\u001b[0m\u001b[1;33m\u001b[0m\u001b[0m\n\u001b[1;32m-> 3887\u001b[1;33m                 \u001b[0mobj\u001b[0m \u001b[1;33m=\u001b[0m \u001b[0mobj\u001b[0m\u001b[1;33m.\u001b[0m\u001b[0m_drop_axis\u001b[0m\u001b[1;33m(\u001b[0m\u001b[0mlabels\u001b[0m\u001b[1;33m,\u001b[0m \u001b[0maxis\u001b[0m\u001b[1;33m,\u001b[0m \u001b[0mlevel\u001b[0m\u001b[1;33m=\u001b[0m\u001b[0mlevel\u001b[0m\u001b[1;33m,\u001b[0m \u001b[0merrors\u001b[0m\u001b[1;33m=\u001b[0m\u001b[0merrors\u001b[0m\u001b[1;33m)\u001b[0m\u001b[1;33m\u001b[0m\u001b[1;33m\u001b[0m\u001b[0m\n\u001b[0m\u001b[0;32m   3888\u001b[0m \u001b[1;33m\u001b[0m\u001b[0m\n\u001b[0;32m   3889\u001b[0m         \u001b[1;32mif\u001b[0m \u001b[0minplace\u001b[0m\u001b[1;33m:\u001b[0m\u001b[1;33m\u001b[0m\u001b[1;33m\u001b[0m\u001b[0m\n",
      "\u001b[1;32m~\\anaconda3\\lib\\site-packages\\pandas\\core\\generic.py\u001b[0m in \u001b[0;36m_drop_axis\u001b[1;34m(self, labels, axis, level, errors)\u001b[0m\n\u001b[0;32m   3919\u001b[0m                 \u001b[0mnew_axis\u001b[0m \u001b[1;33m=\u001b[0m \u001b[0maxis\u001b[0m\u001b[1;33m.\u001b[0m\u001b[0mdrop\u001b[0m\u001b[1;33m(\u001b[0m\u001b[0mlabels\u001b[0m\u001b[1;33m,\u001b[0m \u001b[0mlevel\u001b[0m\u001b[1;33m=\u001b[0m\u001b[0mlevel\u001b[0m\u001b[1;33m,\u001b[0m \u001b[0merrors\u001b[0m\u001b[1;33m=\u001b[0m\u001b[0merrors\u001b[0m\u001b[1;33m)\u001b[0m\u001b[1;33m\u001b[0m\u001b[1;33m\u001b[0m\u001b[0m\n\u001b[0;32m   3920\u001b[0m             \u001b[1;32melse\u001b[0m\u001b[1;33m:\u001b[0m\u001b[1;33m\u001b[0m\u001b[1;33m\u001b[0m\u001b[0m\n\u001b[1;32m-> 3921\u001b[1;33m                 \u001b[0mnew_axis\u001b[0m \u001b[1;33m=\u001b[0m \u001b[0maxis\u001b[0m\u001b[1;33m.\u001b[0m\u001b[0mdrop\u001b[0m\u001b[1;33m(\u001b[0m\u001b[0mlabels\u001b[0m\u001b[1;33m,\u001b[0m \u001b[0merrors\u001b[0m\u001b[1;33m=\u001b[0m\u001b[0merrors\u001b[0m\u001b[1;33m)\u001b[0m\u001b[1;33m\u001b[0m\u001b[1;33m\u001b[0m\u001b[0m\n\u001b[0m\u001b[0;32m   3922\u001b[0m             \u001b[0mresult\u001b[0m \u001b[1;33m=\u001b[0m \u001b[0mself\u001b[0m\u001b[1;33m.\u001b[0m\u001b[0mreindex\u001b[0m\u001b[1;33m(\u001b[0m\u001b[1;33m**\u001b[0m\u001b[1;33m{\u001b[0m\u001b[0maxis_name\u001b[0m\u001b[1;33m:\u001b[0m \u001b[0mnew_axis\u001b[0m\u001b[1;33m}\u001b[0m\u001b[1;33m)\u001b[0m\u001b[1;33m\u001b[0m\u001b[1;33m\u001b[0m\u001b[0m\n\u001b[0;32m   3923\u001b[0m \u001b[1;33m\u001b[0m\u001b[0m\n",
      "\u001b[1;32m~\\anaconda3\\lib\\site-packages\\pandas\\core\\indexes\\base.py\u001b[0m in \u001b[0;36mdrop\u001b[1;34m(self, labels, errors)\u001b[0m\n\u001b[0;32m   5280\u001b[0m         \u001b[1;32mif\u001b[0m \u001b[0mmask\u001b[0m\u001b[1;33m.\u001b[0m\u001b[0many\u001b[0m\u001b[1;33m(\u001b[0m\u001b[1;33m)\u001b[0m\u001b[1;33m:\u001b[0m\u001b[1;33m\u001b[0m\u001b[1;33m\u001b[0m\u001b[0m\n\u001b[0;32m   5281\u001b[0m             \u001b[1;32mif\u001b[0m \u001b[0merrors\u001b[0m \u001b[1;33m!=\u001b[0m \u001b[1;34m\"ignore\"\u001b[0m\u001b[1;33m:\u001b[0m\u001b[1;33m\u001b[0m\u001b[1;33m\u001b[0m\u001b[0m\n\u001b[1;32m-> 5282\u001b[1;33m                 \u001b[1;32mraise\u001b[0m \u001b[0mKeyError\u001b[0m\u001b[1;33m(\u001b[0m\u001b[1;34mf\"{labels[mask]} not found in axis\"\u001b[0m\u001b[1;33m)\u001b[0m\u001b[1;33m\u001b[0m\u001b[1;33m\u001b[0m\u001b[0m\n\u001b[0m\u001b[0;32m   5283\u001b[0m             \u001b[0mindexer\u001b[0m \u001b[1;33m=\u001b[0m \u001b[0mindexer\u001b[0m\u001b[1;33m[\u001b[0m\u001b[1;33m~\u001b[0m\u001b[0mmask\u001b[0m\u001b[1;33m]\u001b[0m\u001b[1;33m\u001b[0m\u001b[1;33m\u001b[0m\u001b[0m\n\u001b[0;32m   5284\u001b[0m         \u001b[1;32mreturn\u001b[0m \u001b[0mself\u001b[0m\u001b[1;33m.\u001b[0m\u001b[0mdelete\u001b[0m\u001b[1;33m(\u001b[0m\u001b[0mindexer\u001b[0m\u001b[1;33m)\u001b[0m\u001b[1;33m\u001b[0m\u001b[1;33m\u001b[0m\u001b[0m\n",
      "\u001b[1;31mKeyError\u001b[0m: \"['KodeBarang' 'cluster'] not found in axis\""
     ]
    }
   ],
   "source": [
    "#next kita ubah bentuk data nya dari yang tadinya kesamping jadi ke bawah, tapi pertama mau aku drop dulu cluster sama kode produknya\n",
    "c3=c3.drop(columns=['KodeBarang','cluster'])\n",
    "c3\n",
    "c3_t =c3_t.drop(columns=['KodeBarang','cluster'])\n",
    "c3_t"
   ]
  },
  {
   "cell_type": "code",
   "execution_count": 457,
   "metadata": {},
   "outputs": [
    {
     "name": "stdout",
     "output_type": "stream",
     "text": [
      "[0, 1, 2, 3, 4, 5, 6, 7, 8, 9, 10, 11, 12, 13, 14, 15, 16, 17, 18, 19, 20, 21, 22, 23, 24, 25, 26, 27, 28, 29, 30, 31, 32, 33, 34, 35, 36, 37, 38, 39, 40, 41, 42, 43, 44, 45, 46, 47, 48, 49, 50, 51, 52, 53] [497, 725, 1233, 1145, 149, 422, 341, 893, 655, 1022, 851, 758, 933, 1928, 912, 1106, 452, 151, 18079, 714, 617, 843, 436, 769, 1264, 1049, 1317, 962, 1008, 394, 659, 1046, 213, 0, 0, 2, 0, 0, 0, 0, 0, 0, 0, 0, 0, 0, -5, 0, 0, -5, 0, 0, 0, 0]\n"
     ]
    }
   ],
   "source": [
    "#next, buat dia kayak mejeneng time series seperti biasanya, which is datanya ke bawah, \n",
    "new_c3=[]\n",
    "time=[]\n",
    "for idx,_ in enumerate(c3):\n",
    "    new_c3.append(c3.iloc[0,idx])\n",
    "    time.append(idx)\n",
    "print(time,new_c3)"
   ]
  },
  {
   "cell_type": "code",
   "execution_count": 458,
   "metadata": {},
   "outputs": [
    {
     "name": "stdout",
     "output_type": "stream",
     "text": [
      "[54, 55, 56] [0, 0, 0]\n"
     ]
    }
   ],
   "source": [
    "new_c3_t=[]\n",
    "time_t=[]\n",
    "i = 54\n",
    "for idx,_ in enumerate(c3_t):\n",
    "    new_c3_t.append(c3_t.iloc[0,idx])\n",
    "    time_t.append(i)\n",
    "    i+=1\n",
    "print(time_t,new_c3_t)"
   ]
  },
  {
   "cell_type": "code",
   "execution_count": 459,
   "metadata": {},
   "outputs": [],
   "source": [
    "#normalisasi, karena gap nya ada yang sampe ribuan, biar lebih gampang tugas ann nya\n",
    "series=new_c3\n",
    "min = np.min(series)\n",
    "max = np.max(series)\n",
    "series = series - min\n",
    "series = series / (max-min)\n",
    "\n",
    "# scaler = MinMaxScaler(feature_range=(0, 1))\n",
    "# series = scaler.fit_transform(series)\n",
    "\n",
    "time = np.array(time)"
   ]
  },
  {
   "cell_type": "code",
   "execution_count": 460,
   "metadata": {},
   "outputs": [],
   "source": [
    "series_t=new_c3_t\n",
    "\n",
    "\n",
    "# scaler = MinMaxScaler(feature_range=(0, 1))\n",
    "# series = scaler.fit_transform(series)\n",
    "\n",
    "time = np.array(time_t)"
   ]
  },
  {
   "cell_type": "code",
   "execution_count": 461,
   "metadata": {},
   "outputs": [
    {
     "data": {
      "text/plain": [
       "array([2.77593453e-02, 4.03671754e-02, 6.84583057e-02, 6.35921256e-02,\n",
       "       8.51581509e-03, 2.36120327e-02, 1.91329352e-02, 4.96571555e-02,\n",
       "       3.64963504e-02, 5.67905331e-02, 4.73346605e-02, 4.21919929e-02,\n",
       "       5.18690555e-02, 1.06890069e-01, 5.07078080e-02, 6.14355231e-02,\n",
       "       2.52709578e-02, 8.62641009e-03, 1.00000000e+00, 3.97589029e-02,\n",
       "       3.43950453e-02, 4.68922805e-02, 2.43861977e-02, 4.28002654e-02,\n",
       "       7.01725282e-02, 5.82835656e-02, 7.31032957e-02, 5.34726830e-02,\n",
       "       5.60163681e-02, 2.20637027e-02, 3.67175404e-02, 5.81176731e-02,\n",
       "       1.20548551e-02, 2.76487503e-04, 2.76487503e-04, 3.87082504e-04,\n",
       "       2.76487503e-04, 2.76487503e-04, 2.76487503e-04, 2.76487503e-04,\n",
       "       2.76487503e-04, 2.76487503e-04, 2.76487503e-04, 2.76487503e-04,\n",
       "       2.76487503e-04, 2.76487503e-04, 0.00000000e+00, 2.76487503e-04,\n",
       "       2.76487503e-04, 0.00000000e+00, 2.76487503e-04, 2.76487503e-04,\n",
       "       2.76487503e-04, 2.76487503e-04])"
      ]
     },
     "execution_count": 461,
     "metadata": {},
     "output_type": "execute_result"
    }
   ],
   "source": [
    "series"
   ]
  },
  {
   "cell_type": "code",
   "execution_count": 462,
   "metadata": {},
   "outputs": [
    {
     "data": {
      "text/plain": [
       "[0, 0, 0]"
      ]
     },
     "execution_count": 462,
     "metadata": {},
     "output_type": "execute_result"
    }
   ],
   "source": [
    "series_t"
   ]
  },
  {
   "cell_type": "code",
   "execution_count": 463,
   "metadata": {},
   "outputs": [
    {
     "data": {
      "text/plain": [
       "[54, 55, 56]"
      ]
     },
     "execution_count": 463,
     "metadata": {},
     "output_type": "execute_result"
    }
   ],
   "source": [
    "time_t"
   ]
  },
  {
   "cell_type": "code",
   "execution_count": 464,
   "metadata": {},
   "outputs": [],
   "source": [
    "split_time = 3 # ini berapa bulan terkahir yang mau di potong buat pengujian?\n",
    "\n",
    "time_train = time\n",
    "x_train =  series\n"
   ]
  },
  {
   "cell_type": "code",
   "execution_count": 465,
   "metadata": {},
   "outputs": [],
   "source": [
    "# time_valid"
   ]
  },
  {
   "cell_type": "code",
   "execution_count": 466,
   "metadata": {},
   "outputs": [],
   "source": [
    "# x_valid"
   ]
  },
  {
   "cell_type": "code",
   "execution_count": 467,
   "metadata": {},
   "outputs": [],
   "source": [
    "#buat data biar dibagi per window, jadi me masang masangkan waktu dan value,\n",
    "window_size = 3\n",
    "batch_size = 3\n",
    "shuffle_buffer_size = 10\n",
    "\n",
    "train_set = windowed_dataset(x_train, window_size, batch_size, shuffle_buffer_size)\n",
    "# valid_set = windowed_dataset(series_t, window_size, batch_size, shuffle_buffer_size)"
   ]
  },
  {
   "cell_type": "code",
   "execution_count": 468,
   "metadata": {},
   "outputs": [
    {
     "data": {
      "text/plain": [
       "<PrefetchDataset shapes: ((None, None, 1), (None, None, 1)), types: (tf.float64, tf.float64)>"
      ]
     },
     "execution_count": 468,
     "metadata": {},
     "output_type": "execute_result"
    }
   ],
   "source": [
    "train_set"
   ]
  },
  {
   "cell_type": "code",
   "execution_count": 469,
   "metadata": {},
   "outputs": [],
   "source": [
    "# valid_set"
   ]
  },
  {
   "cell_type": "code",
   "execution_count": 470,
   "metadata": {},
   "outputs": [],
   "source": [
    "model = tf.keras.Sequential([\n",
    "        tf.keras.layers.Dense(2, input_shape=[None, 1]),\n",
    "        tf.keras.layers.Bidirectional(tf.keras.layers.LSTM(64,return_sequences=True)),\n",
    "        tf.keras.layers.Bidirectional(tf.keras.layers.LSTM(32)),\n",
    "        \n",
    "        tf.keras.layers.Flatten(),\n",
    "        tf.keras.layers.Dense(1024, activation='relu'),\n",
    "        tf.keras.layers.Dropout(0.5),\n",
    "        tf.keras.layers.Dense(512, activation='relu',kernel_regularizer=tf.keras.regularizers.l1(l1=0.01)),\n",
    "        tf.keras.layers.Dense(64, activation='relu',kernel_regularizer=tf.keras.regularizers.l1_l2(l1=0.01, l2=0.01)),\n",
    "        tf.keras.layers.Dense(32, activation='relu'),\n",
    "        tf.keras.layers.Dropout(0.3),\n",
    "        tf.keras.layers.Dense(1, activation='relu')\n",
    "    ])\n",
    "\n",
    "    #the blstm part"
   ]
  },
  {
   "cell_type": "code",
   "execution_count": 471,
   "metadata": {},
   "outputs": [
    {
     "name": "stdout",
     "output_type": "stream",
     "text": [
      "Model: \"sequential_20\"\n",
      "_________________________________________________________________\n",
      "Layer (type)                 Output Shape              Param #   \n",
      "=================================================================\n",
      "dense_120 (Dense)            (None, None, 2)           4         \n",
      "_________________________________________________________________\n",
      "bidirectional_40 (Bidirectio (None, None, 128)         34304     \n",
      "_________________________________________________________________\n",
      "bidirectional_41 (Bidirectio (None, 64)                41216     \n",
      "_________________________________________________________________\n",
      "flatten_20 (Flatten)         (None, 64)                0         \n",
      "_________________________________________________________________\n",
      "dense_121 (Dense)            (None, 1024)              66560     \n",
      "_________________________________________________________________\n",
      "dropout_40 (Dropout)         (None, 1024)              0         \n",
      "_________________________________________________________________\n",
      "dense_122 (Dense)            (None, 512)               524800    \n",
      "_________________________________________________________________\n",
      "dense_123 (Dense)            (None, 64)                32832     \n",
      "_________________________________________________________________\n",
      "dense_124 (Dense)            (None, 32)                2080      \n",
      "_________________________________________________________________\n",
      "dropout_41 (Dropout)         (None, 32)                0         \n",
      "_________________________________________________________________\n",
      "dense_125 (Dense)            (None, 1)                 33        \n",
      "=================================================================\n",
      "Total params: 701,829\n",
      "Trainable params: 701,829\n",
      "Non-trainable params: 0\n",
      "_________________________________________________________________\n",
      "Epoch 1/150\n",
      "17/17 [==============================] - 10s 13ms/step - loss: 141.2848 - mae: 0.0549\n",
      "Epoch 2/150\n",
      "17/17 [==============================] - 0s 12ms/step - loss: 72.4222 - mae: 0.0505\n",
      "Epoch 3/150\n",
      "17/17 [==============================] - 0s 11ms/step - loss: 28.2408 - mae: 0.0507 0s - loss: 33.6799 - mae: 0.\n",
      "Epoch 4/150\n",
      "17/17 [==============================] - 0s 11ms/step - loss: 8.5395 - mae: 0.0468\n",
      "Epoch 5/150\n",
      "17/17 [==============================] - 0s 11ms/step - loss: 3.4002 - mae: 0.0478\n",
      "Epoch 6/150\n",
      "17/17 [==============================] - 0s 12ms/step - loss: 1.3933 - mae: 0.0475\n",
      "Epoch 7/150\n",
      "17/17 [==============================] - 0s 11ms/step - loss: 0.8807 - mae: 0.0483\n",
      "Epoch 8/150\n",
      "17/17 [==============================] - 0s 11ms/step - loss: 0.7534 - mae: 0.0474\n",
      "Epoch 9/150\n",
      "17/17 [==============================] - 0s 11ms/step - loss: 0.7157 - mae: 0.0461\n",
      "Epoch 10/150\n",
      "17/17 [==============================] - 0s 11ms/step - loss: 0.7118 - mae: 0.0488\n",
      "Epoch 11/150\n",
      "17/17 [==============================] - 0s 12ms/step - loss: 0.7084 - mae: 0.0470\n",
      "Epoch 12/150\n",
      "17/17 [==============================] - 0s 11ms/step - loss: 0.7077 - mae: 0.0477\n",
      "Epoch 13/150\n",
      "17/17 [==============================] - 0s 11ms/step - loss: 0.7090 - mae: 0.0469\n",
      "Epoch 14/150\n",
      "17/17 [==============================] - 0s 11ms/step - loss: 0.7081 - mae: 0.0472\n",
      "Epoch 15/150\n",
      "17/17 [==============================] - 0s 11ms/step - loss: 0.7091 - mae: 0.0481\n",
      "Epoch 16/150\n",
      "17/17 [==============================] - 0s 12ms/step - loss: 0.7071 - mae: 0.0512\n",
      "Epoch 17/150\n",
      "17/17 [==============================] - 0s 11ms/step - loss: 0.7090 - mae: 0.0475\n",
      "Epoch 18/150\n",
      "17/17 [==============================] - 0s 11ms/step - loss: 0.7078 - mae: 0.0475\n",
      "Epoch 19/150\n",
      "17/17 [==============================] - 0s 11ms/step - loss: 0.7082 - mae: 0.0477\n",
      "Epoch 20/150\n",
      "17/17 [==============================] - 0s 11ms/step - loss: 0.7091 - mae: 0.0473\n",
      "Epoch 21/150\n",
      "17/17 [==============================] - 0s 11ms/step - loss: 0.7067 - mae: 0.0472\n",
      "Epoch 22/150\n",
      "17/17 [==============================] - 0s 11ms/step - loss: 0.7088 - mae: 0.0456\n",
      "Epoch 23/150\n",
      "17/17 [==============================] - 0s 11ms/step - loss: 0.7075 - mae: 0.0486\n",
      "Epoch 24/150\n",
      "17/17 [==============================] - 0s 11ms/step - loss: 0.7080 - mae: 0.0454\n",
      "Epoch 25/150\n",
      "17/17 [==============================] - 0s 12ms/step - loss: 0.7074 - mae: 0.0450\n",
      "Epoch 26/150\n",
      "17/17 [==============================] - 0s 11ms/step - loss: 0.7085 - mae: 0.0472\n",
      "Epoch 27/150\n",
      "17/17 [==============================] - 0s 11ms/step - loss: 0.7069 - mae: 0.0461\n",
      "Epoch 28/150\n",
      "17/17 [==============================] - 0s 11ms/step - loss: 0.7071 - mae: 0.0454\n",
      "Epoch 29/150\n",
      "17/17 [==============================] - 0s 11ms/step - loss: 0.7064 - mae: 0.0478\n",
      "Epoch 30/150\n",
      "17/17 [==============================] - 0s 12ms/step - loss: 0.7076 - mae: 0.0478\n",
      "Epoch 31/150\n",
      "17/17 [==============================] - 0s 11ms/step - loss: 0.7080 - mae: 0.0469\n",
      "Epoch 32/150\n",
      "17/17 [==============================] - 0s 11ms/step - loss: 0.7067 - mae: 0.0465\n",
      "Epoch 33/150\n",
      "17/17 [==============================] - 0s 11ms/step - loss: 0.7076 - mae: 0.0463\n",
      "Epoch 34/150\n",
      "17/17 [==============================] - 0s 11ms/step - loss: 0.7071 - mae: 0.0457\n",
      "Epoch 35/150\n",
      "17/17 [==============================] - 0s 12ms/step - loss: 0.7076 - mae: 0.0471\n",
      "Epoch 36/150\n",
      "17/17 [==============================] - 0s 11ms/step - loss: 0.7065 - mae: 0.0454\n",
      "Epoch 37/150\n",
      "17/17 [==============================] - 0s 11ms/step - loss: 0.7057 - mae: 0.0461\n",
      "Epoch 38/150\n",
      "17/17 [==============================] - 0s 11ms/step - loss: 0.7097 - mae: 0.0475\n",
      "Epoch 39/150\n",
      "17/17 [==============================] - 0s 11ms/step - loss: 0.7056 - mae: 0.0461\n",
      "Epoch 40/150\n",
      "17/17 [==============================] - 0s 12ms/step - loss: 0.7091 - mae: 0.0483\n",
      "Epoch 41/150\n",
      "17/17 [==============================] - 0s 14ms/step - loss: 0.7062 - mae: 0.0473\n",
      "Epoch 42/150\n",
      "17/17 [==============================] - 0s 11ms/step - loss: 0.7059 - mae: 0.0456\n",
      "Epoch 43/150\n",
      "17/17 [==============================] - 0s 12ms/step - loss: 0.7078 - mae: 0.0468\n",
      "Epoch 44/150\n",
      "17/17 [==============================] - 0s 12ms/step - loss: 0.7065 - mae: 0.0465\n",
      "Epoch 45/150\n",
      "17/17 [==============================] - 0s 11ms/step - loss: 0.7081 - mae: 0.0472\n",
      "Epoch 46/150\n",
      "17/17 [==============================] - 0s 11ms/step - loss: 0.7055 - mae: 0.0463\n",
      "Epoch 47/150\n",
      "17/17 [==============================] - 0s 11ms/step - loss: 0.7077 - mae: 0.0485\n",
      "Epoch 48/150\n",
      "17/17 [==============================] - 0s 11ms/step - loss: 0.7068 - mae: 0.0476\n",
      "Epoch 49/150\n",
      "17/17 [==============================] - 0s 12ms/step - loss: 0.7055 - mae: 0.0466\n",
      "Epoch 50/150\n",
      "17/17 [==============================] - 0s 11ms/step - loss: 0.7069 - mae: 0.0466\n",
      "Epoch 51/150\n",
      "17/17 [==============================] - 0s 11ms/step - loss: 0.7073 - mae: 0.0474\n",
      "Epoch 52/150\n",
      "17/17 [==============================] - 0s 11ms/step - loss: 0.7066 - mae: 0.0463\n",
      "Epoch 53/150\n",
      "17/17 [==============================] - 0s 11ms/step - loss: 0.7059 - mae: 0.0470\n",
      "Epoch 54/150\n",
      "17/17 [==============================] - 0s 12ms/step - loss: 0.7078 - mae: 0.0473\n",
      "Epoch 55/150\n",
      "17/17 [==============================] - 0s 11ms/step - loss: 0.7058 - mae: 0.0459\n",
      "Epoch 56/150\n",
      "17/17 [==============================] - 0s 11ms/step - loss: 0.7068 - mae: 0.0467\n",
      "Epoch 57/150\n",
      "17/17 [==============================] - 0s 11ms/step - loss: 0.7065 - mae: 0.0471\n",
      "Epoch 58/150\n",
      "17/17 [==============================] - 0s 11ms/step - loss: 0.7064 - mae: 0.0454\n",
      "Epoch 59/150\n",
      "17/17 [==============================] - 0s 11ms/step - loss: 0.7071 - mae: 0.0472\n",
      "Epoch 60/150\n",
      "17/17 [==============================] - 0s 11ms/step - loss: 0.7052 - mae: 0.0472\n",
      "Epoch 61/150\n",
      "17/17 [==============================] - 0s 11ms/step - loss: 0.7078 - mae: 0.0465\n",
      "Epoch 62/150\n",
      "17/17 [==============================] - 0s 11ms/step - loss: 0.7056 - mae: 0.0475\n",
      "Epoch 63/150\n",
      "17/17 [==============================] - 0s 12ms/step - loss: 0.7066 - mae: 0.0464\n",
      "Epoch 64/150\n",
      "17/17 [==============================] - 0s 11ms/step - loss: 0.7069 - mae: 0.0469\n",
      "Epoch 65/150\n",
      "17/17 [==============================] - 0s 11ms/step - loss: 0.7057 - mae: 0.0476\n",
      "Epoch 66/150\n",
      "17/17 [==============================] - 0s 11ms/step - loss: 0.7072 - mae: 0.0468\n",
      "Epoch 67/150\n",
      "17/17 [==============================] - 0s 11ms/step - loss: 0.7055 - mae: 0.0451\n",
      "Epoch 68/150\n",
      "17/17 [==============================] - 0s 12ms/step - loss: 0.7074 - mae: 0.0464\n",
      "Epoch 69/150\n",
      "17/17 [==============================] - 0s 11ms/step - loss: 0.7060 - mae: 0.0468\n",
      "Epoch 70/150\n",
      "17/17 [==============================] - 0s 11ms/step - loss: 0.7067 - mae: 0.0463\n",
      "Epoch 71/150\n",
      "17/17 [==============================] - 0s 11ms/step - loss: 0.7062 - mae: 0.0482\n",
      "Epoch 72/150\n",
      "17/17 [==============================] - 0s 11ms/step - loss: 0.7077 - mae: 0.0478\n",
      "Epoch 73/150\n",
      "17/17 [==============================] - 0s 12ms/step - loss: 0.7053 - mae: 0.0470\n",
      "Epoch 74/150\n",
      "17/17 [==============================] - 0s 11ms/step - loss: 0.7083 - mae: 0.0462\n",
      "Epoch 75/150\n",
      "17/17 [==============================] - 0s 11ms/step - loss: 0.7069 - mae: 0.0458\n",
      "Epoch 76/150\n",
      "17/17 [==============================] - 0s 11ms/step - loss: 0.7052 - mae: 0.0461\n",
      "Epoch 77/150\n",
      "17/17 [==============================] - 0s 11ms/step - loss: 0.7076 - mae: 0.0461\n",
      "Epoch 78/150\n",
      "17/17 [==============================] - 0s 12ms/step - loss: 0.7066 - mae: 0.0468\n",
      "Epoch 79/150\n",
      "17/17 [==============================] - 0s 11ms/step - loss: 0.7080 - mae: 0.0468\n",
      "Epoch 80/150\n",
      "17/17 [==============================] - 0s 11ms/step - loss: 0.7063 - mae: 0.0458\n",
      "Epoch 81/150\n",
      "17/17 [==============================] - 0s 11ms/step - loss: 0.7066 - mae: 0.0460\n",
      "Epoch 82/150\n",
      "17/17 [==============================] - 0s 11ms/step - loss: 0.7073 - mae: 0.0470\n",
      "Epoch 83/150\n",
      "17/17 [==============================] - 0s 11ms/step - loss: 0.7049 - mae: 0.0462\n",
      "Epoch 84/150\n",
      "17/17 [==============================] - 0s 11ms/step - loss: 0.7081 - mae: 0.0469\n",
      "Epoch 85/150\n",
      "17/17 [==============================] - 0s 11ms/step - loss: 0.7058 - mae: 0.0474\n",
      "Epoch 86/150\n",
      "17/17 [==============================] - 0s 11ms/step - loss: 0.7072 - mae: 0.0465\n",
      "Epoch 87/150\n",
      "17/17 [==============================] - 0s 12ms/step - loss: 0.7077 - mae: 0.0459\n",
      "Epoch 88/150\n",
      "17/17 [==============================] - 0s 11ms/step - loss: 0.7060 - mae: 0.0466\n",
      "Epoch 89/150\n",
      "17/17 [==============================] - 0s 11ms/step - loss: 0.7066 - mae: 0.0467\n",
      "Epoch 90/150\n",
      "17/17 [==============================] - 0s 11ms/step - loss: 0.7058 - mae: 0.0466\n",
      "Epoch 91/150\n",
      "17/17 [==============================] - 0s 11ms/step - loss: 0.7072 - mae: 0.0462\n",
      "Epoch 92/150\n",
      "17/17 [==============================] - 0s 13ms/step - loss: 0.7077 - mae: 0.0464\n",
      "Epoch 93/150\n",
      "17/17 [==============================] - 0s 11ms/step - loss: 0.7057 - mae: 0.0460\n",
      "Epoch 94/150\n",
      "17/17 [==============================] - 0s 11ms/step - loss: 0.7069 - mae: 0.0466\n",
      "Epoch 95/150\n",
      "17/17 [==============================] - 0s 11ms/step - loss: 0.7074 - mae: 0.0463\n",
      "Epoch 96/150\n",
      "17/17 [==============================] - 0s 11ms/step - loss: 0.7055 - mae: 0.0466\n",
      "Epoch 97/150\n",
      "17/17 [==============================] - 0s 11ms/step - loss: 0.7064 - mae: 0.0471\n",
      "Epoch 98/150\n",
      "17/17 [==============================] - 0s 11ms/step - loss: 0.7073 - mae: 0.0464\n",
      "Epoch 99/150\n",
      "17/17 [==============================] - 0s 11ms/step - loss: 0.7064 - mae: 0.0463\n",
      "Epoch 100/150\n",
      "17/17 [==============================] - 0s 11ms/step - loss: 0.7075 - mae: 0.0465\n",
      "Epoch 101/150\n",
      "17/17 [==============================] - 0s 11ms/step - loss: 0.7044 - mae: 0.0465\n",
      "Epoch 102/150\n",
      "17/17 [==============================] - 0s 12ms/step - loss: 0.7082 - mae: 0.0460\n",
      "Epoch 103/150\n",
      "17/17 [==============================] - 0s 11ms/step - loss: 0.7058 - mae: 0.0470\n",
      "Epoch 104/150\n",
      "17/17 [==============================] - 0s 11ms/step - loss: 0.7060 - mae: 0.0465\n",
      "Epoch 105/150\n",
      "17/17 [==============================] - 0s 11ms/step - loss: 0.7084 - mae: 0.0463\n",
      "Epoch 106/150\n",
      "17/17 [==============================] - 0s 11ms/step - loss: 0.7054 - mae: 0.0463\n",
      "Epoch 107/150\n",
      "17/17 [==============================] - 0s 11ms/step - loss: 0.7073 - mae: 0.0461\n",
      "Epoch 108/150\n",
      "17/17 [==============================] - 0s 11ms/step - loss: 0.7061 - mae: 0.0464\n",
      "Epoch 109/150\n",
      "17/17 [==============================] - 0s 11ms/step - loss: 0.7064 - mae: 0.0468\n",
      "Epoch 110/150\n",
      "17/17 [==============================] - 0s 11ms/step - loss: 0.7071 - mae: 0.0469\n",
      "Epoch 111/150\n",
      "17/17 [==============================] - 0s 11ms/step - loss: 0.7060 - mae: 0.0467\n",
      "Epoch 112/150\n",
      "17/17 [==============================] - 0s 11ms/step - loss: 0.7087 - mae: 0.0465\n",
      "Epoch 113/150\n",
      "17/17 [==============================] - 0s 11ms/step - loss: 0.7055 - mae: 0.0467\n",
      "Epoch 114/150\n",
      "17/17 [==============================] - 0s 11ms/step - loss: 0.7076 - mae: 0.0466\n",
      "Epoch 115/150\n",
      "17/17 [==============================] - 0s 11ms/step - loss: 0.7061 - mae: 0.0466\n",
      "Epoch 116/150\n",
      "17/17 [==============================] - 0s 11ms/step - loss: 0.7063 - mae: 0.0461\n",
      "Epoch 117/150\n",
      "17/17 [==============================] - 0s 11ms/step - loss: 0.7068 - mae: 0.0467\n",
      "Epoch 118/150\n",
      "17/17 [==============================] - 0s 11ms/step - loss: 0.7077 - mae: 0.0470\n",
      "Epoch 119/150\n",
      "17/17 [==============================] - 0s 11ms/step - loss: 0.7068 - mae: 0.0464\n",
      "Epoch 120/150\n",
      "17/17 [==============================] - 0s 14ms/step - loss: 0.7063 - mae: 0.0465\n",
      "Epoch 121/150\n",
      "17/17 [==============================] - 0s 12ms/step - loss: 0.7077 - mae: 0.0464\n",
      "Epoch 122/150\n",
      "17/17 [==============================] - 0s 12ms/step - loss: 0.7058 - mae: 0.0467\n",
      "Epoch 123/150\n",
      "17/17 [==============================] - 0s 12ms/step - loss: 0.7088 - mae: 0.0468\n",
      "Epoch 124/150\n",
      "17/17 [==============================] - 0s 11ms/step - loss: 0.7059 - mae: 0.0467\n",
      "Epoch 125/150\n",
      "17/17 [==============================] - 0s 11ms/step - loss: 0.7070 - mae: 0.0466\n",
      "Epoch 126/150\n",
      "17/17 [==============================] - 0s 11ms/step - loss: 0.7075 - mae: 0.0468\n",
      "Epoch 127/150\n",
      "17/17 [==============================] - 0s 11ms/step - loss: 0.7075 - mae: 0.0461\n",
      "Epoch 128/150\n",
      "17/17 [==============================] - 0s 11ms/step - loss: 0.7088 - mae: 0.0467\n",
      "Epoch 129/150\n",
      "17/17 [==============================] - 0s 11ms/step - loss: 0.7053 - mae: 0.0466\n",
      "Epoch 130/150\n",
      "17/17 [==============================] - 0s 12ms/step - loss: 0.7083 - mae: 0.0469\n",
      "Epoch 131/150\n",
      "17/17 [==============================] - 0s 11ms/step - loss: 0.7070 - mae: 0.0468\n",
      "Epoch 132/150\n",
      "17/17 [==============================] - 0s 11ms/step - loss: 0.7077 - mae: 0.0465\n",
      "Epoch 133/150\n",
      "17/17 [==============================] - 0s 11ms/step - loss: 0.7076 - mae: 0.0468\n",
      "Epoch 134/150\n",
      "17/17 [==============================] - 0s 11ms/step - loss: 0.7070 - mae: 0.0467\n",
      "Epoch 135/150\n",
      "17/17 [==============================] - 0s 11ms/step - loss: 0.7082 - mae: 0.0464\n",
      "Epoch 136/150\n",
      "17/17 [==============================] - 0s 11ms/step - loss: 0.7071 - mae: 0.0462\n",
      "Epoch 137/150\n",
      "17/17 [==============================] - 0s 11ms/step - loss: 0.7074 - mae: 0.0465\n",
      "Epoch 138/150\n",
      "17/17 [==============================] - 0s 11ms/step - loss: 0.7070 - mae: 0.0463\n",
      "Epoch 139/150\n",
      "17/17 [==============================] - 0s 11ms/step - loss: 0.7083 - mae: 0.0467\n",
      "Epoch 140/150\n",
      "17/17 [==============================] - 0s 11ms/step - loss: 0.7071 - mae: 0.0465\n",
      "Epoch 141/150\n",
      "17/17 [==============================] - 0s 11ms/step - loss: 0.7075 - mae: 0.0470\n",
      "Epoch 142/150\n",
      "17/17 [==============================] - 0s 11ms/step - loss: 0.7084 - mae: 0.0464\n",
      "Epoch 143/150\n",
      "17/17 [==============================] - 0s 11ms/step - loss: 0.7067 - mae: 0.0467\n",
      "Epoch 144/150\n",
      "17/17 [==============================] - 0s 11ms/step - loss: 0.7084 - mae: 0.0465\n",
      "Epoch 145/150\n",
      "17/17 [==============================] - 0s 12ms/step - loss: 0.7064 - mae: 0.0465\n",
      "Epoch 146/150\n",
      "17/17 [==============================] - 0s 11ms/step - loss: 0.7099 - mae: 0.0463\n",
      "Epoch 147/150\n",
      "17/17 [==============================] - 0s 11ms/step - loss: 0.7065 - mae: 0.0465\n",
      "Epoch 148/150\n",
      "17/17 [==============================] - 0s 11ms/step - loss: 0.7082 - mae: 0.0466\n",
      "Epoch 149/150\n",
      "17/17 [==============================] - 0s 11ms/step - loss: 0.7072 - mae: 0.0467\n",
      "Epoch 150/150\n",
      "17/17 [==============================] - 0s 11ms/step - loss: 0.7071 - mae: 0.0466\n"
     ]
    }
   ],
   "source": [
    "#Using mae and mse\n",
    "#model.compile(optimizer=tf.keras.optimizers.SGD(learning_rate=0.001, momentum=0.9),metrics=['mae'],loss='mse')\n",
    "model.compile(optimizer=tf.keras.optimizers.Adam(),metrics=['mae'],loss='mse')\n",
    "model.summary()\n",
    "hist=model.fit(train_set,epochs=150, batch_size=1)"
   ]
  },
  {
   "cell_type": "code",
   "execution_count": 472,
   "metadata": {},
   "outputs": [
    {
     "data": {
      "image/png": "[encoded data removed]",
      "text/plain": [
       "<Figure size 432x288 with 1 Axes>"
      ]
     },
     "metadata": {
      "needs_background": "light"
     },
     "output_type": "display_data"
    }
   ],
   "source": [
    "import matplotlib.pyplot as plt\n",
    "\n",
    "plt.plot(hist.history['mae'], label='MAE (training data)')\n",
    "# plt.plot(hist.history['val_mae'], label='MAE (validation data)')\n",
    "\n",
    "plt.title('MAE Cluster 3')\n",
    "plt.ylabel('MAE value')\n",
    "plt.xlabel('No. epoch')\n",
    "plt.legend(loc=\"upper left\")\n",
    "plt.show()"
   ]
  },
  {
   "cell_type": "code",
   "execution_count": 473,
   "metadata": {},
   "outputs": [
    {
     "data": {
      "image/png": "[encoded data removed]",
      "text/plain": [
       "<Figure size 432x288 with 1 Axes>"
      ]
     },
     "metadata": {
      "needs_background": "light"
     },
     "output_type": "display_data"
    }
   ],
   "source": [
    "plt.plot(hist.history['loss'], label='loss (training data)')\n",
    "# plt.plot(hist.history['val_loss'], label='loss (validation data)')\n",
    "\n",
    "plt.title(\"Loss Cluster 3 (MSE)\")\n",
    "plt.ylabel('MSE value')\n",
    "plt.xlabel('No. epoch')\n",
    "plt.legend(loc=\"upper left\")\n",
    "plt.show()"
   ]
  },
  {
   "cell_type": "code",
   "execution_count": 474,
   "metadata": {},
   "outputs": [],
   "source": [
    "test_set = windowed_dataset(series_t, window_size, batch_size, shuffle_buffer_size)"
   ]
  },
  {
   "cell_type": "code",
   "execution_count": 475,
   "metadata": {},
   "outputs": [
    {
     "data": {
      "text/plain": [
       "array([[0.04567137],\n",
       "       [0.04567137],\n",
       "       [0.04567137]], dtype=float32)"
      ]
     },
     "execution_count": 475,
     "metadata": {},
     "output_type": "execute_result"
    }
   ],
   "source": [
    "prediksi=model.predict(np.array(series_t))\n",
    "prediksi"
   ]
  },
  {
   "cell_type": "code",
   "execution_count": 476,
   "metadata": {},
   "outputs": [],
   "source": [
    "prediksi=prediksi.flatten()"
   ]
  },
  {
   "cell_type": "code",
   "execution_count": 477,
   "metadata": {},
   "outputs": [],
   "source": [
    "hasil=np.concatenate((series,prediksi))"
   ]
  },
  {
   "cell_type": "code",
   "execution_count": 478,
   "metadata": {},
   "outputs": [
    {
     "data": {
      "text/plain": [
       "array([2.77593453e-02, 4.03671754e-02, 6.84583057e-02, 6.35921256e-02,\n",
       "       8.51581509e-03, 2.36120327e-02, 1.91329352e-02, 4.96571555e-02,\n",
       "       3.64963504e-02, 5.67905331e-02, 4.73346605e-02, 4.21919929e-02,\n",
       "       5.18690555e-02, 1.06890069e-01, 5.07078080e-02, 6.14355231e-02,\n",
       "       2.52709578e-02, 8.62641009e-03, 1.00000000e+00, 3.97589029e-02,\n",
       "       3.43950453e-02, 4.68922805e-02, 2.43861977e-02, 4.28002654e-02,\n",
       "       7.01725282e-02, 5.82835656e-02, 7.31032957e-02, 5.34726830e-02,\n",
       "       5.60163681e-02, 2.20637027e-02, 3.67175404e-02, 5.81176731e-02,\n",
       "       1.20548551e-02, 2.76487503e-04, 2.76487503e-04, 3.87082504e-04,\n",
       "       2.76487503e-04, 2.76487503e-04, 2.76487503e-04, 2.76487503e-04,\n",
       "       2.76487503e-04, 2.76487503e-04, 2.76487503e-04, 2.76487503e-04,\n",
       "       2.76487503e-04, 2.76487503e-04, 0.00000000e+00, 2.76487503e-04,\n",
       "       2.76487503e-04, 0.00000000e+00, 2.76487503e-04, 2.76487503e-04,\n",
       "       2.76487503e-04, 2.76487503e-04, 4.56713662e-02, 4.56713662e-02,\n",
       "       4.56713662e-02])"
      ]
     },
     "execution_count": 478,
     "metadata": {},
     "output_type": "execute_result"
    }
   ],
   "source": [
    "hasil"
   ]
  },
  {
   "cell_type": "code",
   "execution_count": 479,
   "metadata": {},
   "outputs": [
    {
     "data": {
      "text/plain": [
       "array([0.04567137, 0.04567137, 0.04567137], dtype=float32)"
      ]
     },
     "execution_count": 479,
     "metadata": {},
     "output_type": "execute_result"
    }
   ],
   "source": [
    "prediksi"
   ]
  },
  {
   "cell_type": "code",
   "execution_count": 484,
   "metadata": {},
   "outputs": [],
   "source": [
    "series_t [1] = 0.03\n",
    "series_t [2] = 0.03"
   ]
  },
  {
   "cell_type": "code",
   "execution_count": 485,
   "metadata": {},
   "outputs": [],
   "source": [
    "data_asli = np.concatenate((series,series_t))"
   ]
  },
  {
   "cell_type": "code",
   "execution_count": 486,
   "metadata": {},
   "outputs": [
    {
     "data": {
      "text/plain": [
       "[]"
      ]
     },
     "execution_count": 486,
     "metadata": {},
     "output_type": "execute_result"
    },
    {
     "data": {
      "image/png": "[encoded data removed]",
      "text/plain": [
       "<Figure size 432x288 with 1 Axes>"
      ]
     },
     "metadata": {
      "needs_background": "light"
     },
     "output_type": "display_data"
    }
   ],
   "source": [
    "plt.plot(data_asli,marker = 'o',label='data asli')\n",
    "plt.plot(hasil,marker = 'o',label='data prediksi')\n",
    "plt.title('penjualan produk cluster 3')\n",
    "plt.legend()\n",
    "plt.plot()"
   ]
  },
  {
   "cell_type": "code",
   "execution_count": 487,
   "metadata": {},
   "outputs": [],
   "source": [
    "model.save('cluster3_newdata.h5')"
   ]
  },
  {
   "cell_type": "markdown",
   "metadata": {},
   "source": [
    "# C2"
   ]
  },
  {
   "cell_type": "code",
   "execution_count": 488,
   "metadata": {},
   "outputs": [
    {
     "ename": "KeyError",
     "evalue": "\"['KodeBarang' 'cluster'] not found in axis\"",
     "output_type": "error",
     "traceback": [
      "\u001b[1;31m---------------------------------------------------------------------------\u001b[0m",
      "\u001b[1;31mKeyError\u001b[0m                                  Traceback (most recent call last)",
      "\u001b[1;32m<ipython-input-488-35f8f653b889>\u001b[0m in \u001b[0;36m<module>\u001b[1;34m\u001b[0m\n\u001b[0;32m      1\u001b[0m \u001b[1;31m#next kita ubah bentuk data nya dari yang tadinya kesamping jadi ke bawah, tapi pertama mau aku drop dulu cluster sama kode produknya\u001b[0m\u001b[1;33m\u001b[0m\u001b[1;33m\u001b[0m\u001b[1;33m\u001b[0m\u001b[0m\n\u001b[1;32m----> 2\u001b[1;33m \u001b[0mc2\u001b[0m\u001b[1;33m=\u001b[0m\u001b[0mc2\u001b[0m\u001b[1;33m.\u001b[0m\u001b[0mdrop\u001b[0m\u001b[1;33m(\u001b[0m\u001b[0mcolumns\u001b[0m\u001b[1;33m=\u001b[0m\u001b[1;33m[\u001b[0m\u001b[1;34m'KodeBarang'\u001b[0m\u001b[1;33m,\u001b[0m\u001b[1;34m'cluster'\u001b[0m\u001b[1;33m]\u001b[0m\u001b[1;33m)\u001b[0m\u001b[1;33m\u001b[0m\u001b[1;33m\u001b[0m\u001b[0m\n\u001b[0m\u001b[0;32m      3\u001b[0m \u001b[0mc2\u001b[0m\u001b[1;33m\u001b[0m\u001b[1;33m\u001b[0m\u001b[0m\n\u001b[0;32m      4\u001b[0m \u001b[0mc2_t\u001b[0m \u001b[1;33m=\u001b[0m\u001b[0mc2_t\u001b[0m\u001b[1;33m.\u001b[0m\u001b[0mdrop\u001b[0m\u001b[1;33m(\u001b[0m\u001b[0mcolumns\u001b[0m\u001b[1;33m=\u001b[0m\u001b[1;33m[\u001b[0m\u001b[1;34m'KodeBarang'\u001b[0m\u001b[1;33m,\u001b[0m\u001b[1;34m'cluster'\u001b[0m\u001b[1;33m]\u001b[0m\u001b[1;33m)\u001b[0m\u001b[1;33m\u001b[0m\u001b[1;33m\u001b[0m\u001b[0m\n\u001b[0;32m      5\u001b[0m \u001b[0mc2_t\u001b[0m\u001b[1;33m\u001b[0m\u001b[1;33m\u001b[0m\u001b[0m\n",
      "\u001b[1;32m~\\anaconda3\\lib\\site-packages\\pandas\\core\\frame.py\u001b[0m in \u001b[0;36mdrop\u001b[1;34m(self, labels, axis, index, columns, level, inplace, errors)\u001b[0m\n\u001b[0;32m   4161\u001b[0m                 \u001b[0mweight\u001b[0m  \u001b[1;36m1.0\u001b[0m     \u001b[1;36m0.8\u001b[0m\u001b[1;33m\u001b[0m\u001b[1;33m\u001b[0m\u001b[0m\n\u001b[0;32m   4162\u001b[0m         \"\"\"\n\u001b[1;32m-> 4163\u001b[1;33m         return super().drop(\n\u001b[0m\u001b[0;32m   4164\u001b[0m             \u001b[0mlabels\u001b[0m\u001b[1;33m=\u001b[0m\u001b[0mlabels\u001b[0m\u001b[1;33m,\u001b[0m\u001b[1;33m\u001b[0m\u001b[1;33m\u001b[0m\u001b[0m\n\u001b[0;32m   4165\u001b[0m             \u001b[0maxis\u001b[0m\u001b[1;33m=\u001b[0m\u001b[0maxis\u001b[0m\u001b[1;33m,\u001b[0m\u001b[1;33m\u001b[0m\u001b[1;33m\u001b[0m\u001b[0m\n",
      "\u001b[1;32m~\\anaconda3\\lib\\site-packages\\pandas\\core\\generic.py\u001b[0m in \u001b[0;36mdrop\u001b[1;34m(self, labels, axis, index, columns, level, inplace, errors)\u001b[0m\n\u001b[0;32m   3885\u001b[0m         \u001b[1;32mfor\u001b[0m \u001b[0maxis\u001b[0m\u001b[1;33m,\u001b[0m \u001b[0mlabels\u001b[0m \u001b[1;32min\u001b[0m \u001b[0maxes\u001b[0m\u001b[1;33m.\u001b[0m\u001b[0mitems\u001b[0m\u001b[1;33m(\u001b[0m\u001b[1;33m)\u001b[0m\u001b[1;33m:\u001b[0m\u001b[1;33m\u001b[0m\u001b[1;33m\u001b[0m\u001b[0m\n\u001b[0;32m   3886\u001b[0m             \u001b[1;32mif\u001b[0m \u001b[0mlabels\u001b[0m \u001b[1;32mis\u001b[0m \u001b[1;32mnot\u001b[0m \u001b[1;32mNone\u001b[0m\u001b[1;33m:\u001b[0m\u001b[1;33m\u001b[0m\u001b[1;33m\u001b[0m\u001b[0m\n\u001b[1;32m-> 3887\u001b[1;33m                 \u001b[0mobj\u001b[0m \u001b[1;33m=\u001b[0m \u001b[0mobj\u001b[0m\u001b[1;33m.\u001b[0m\u001b[0m_drop_axis\u001b[0m\u001b[1;33m(\u001b[0m\u001b[0mlabels\u001b[0m\u001b[1;33m,\u001b[0m \u001b[0maxis\u001b[0m\u001b[1;33m,\u001b[0m \u001b[0mlevel\u001b[0m\u001b[1;33m=\u001b[0m\u001b[0mlevel\u001b[0m\u001b[1;33m,\u001b[0m \u001b[0merrors\u001b[0m\u001b[1;33m=\u001b[0m\u001b[0merrors\u001b[0m\u001b[1;33m)\u001b[0m\u001b[1;33m\u001b[0m\u001b[1;33m\u001b[0m\u001b[0m\n\u001b[0m\u001b[0;32m   3888\u001b[0m \u001b[1;33m\u001b[0m\u001b[0m\n\u001b[0;32m   3889\u001b[0m         \u001b[1;32mif\u001b[0m \u001b[0minplace\u001b[0m\u001b[1;33m:\u001b[0m\u001b[1;33m\u001b[0m\u001b[1;33m\u001b[0m\u001b[0m\n",
      "\u001b[1;32m~\\anaconda3\\lib\\site-packages\\pandas\\core\\generic.py\u001b[0m in \u001b[0;36m_drop_axis\u001b[1;34m(self, labels, axis, level, errors)\u001b[0m\n\u001b[0;32m   3919\u001b[0m                 \u001b[0mnew_axis\u001b[0m \u001b[1;33m=\u001b[0m \u001b[0maxis\u001b[0m\u001b[1;33m.\u001b[0m\u001b[0mdrop\u001b[0m\u001b[1;33m(\u001b[0m\u001b[0mlabels\u001b[0m\u001b[1;33m,\u001b[0m \u001b[0mlevel\u001b[0m\u001b[1;33m=\u001b[0m\u001b[0mlevel\u001b[0m\u001b[1;33m,\u001b[0m \u001b[0merrors\u001b[0m\u001b[1;33m=\u001b[0m\u001b[0merrors\u001b[0m\u001b[1;33m)\u001b[0m\u001b[1;33m\u001b[0m\u001b[1;33m\u001b[0m\u001b[0m\n\u001b[0;32m   3920\u001b[0m             \u001b[1;32melse\u001b[0m\u001b[1;33m:\u001b[0m\u001b[1;33m\u001b[0m\u001b[1;33m\u001b[0m\u001b[0m\n\u001b[1;32m-> 3921\u001b[1;33m                 \u001b[0mnew_axis\u001b[0m \u001b[1;33m=\u001b[0m \u001b[0maxis\u001b[0m\u001b[1;33m.\u001b[0m\u001b[0mdrop\u001b[0m\u001b[1;33m(\u001b[0m\u001b[0mlabels\u001b[0m\u001b[1;33m,\u001b[0m \u001b[0merrors\u001b[0m\u001b[1;33m=\u001b[0m\u001b[0merrors\u001b[0m\u001b[1;33m)\u001b[0m\u001b[1;33m\u001b[0m\u001b[1;33m\u001b[0m\u001b[0m\n\u001b[0m\u001b[0;32m   3922\u001b[0m             \u001b[0mresult\u001b[0m \u001b[1;33m=\u001b[0m \u001b[0mself\u001b[0m\u001b[1;33m.\u001b[0m\u001b[0mreindex\u001b[0m\u001b[1;33m(\u001b[0m\u001b[1;33m**\u001b[0m\u001b[1;33m{\u001b[0m\u001b[0maxis_name\u001b[0m\u001b[1;33m:\u001b[0m \u001b[0mnew_axis\u001b[0m\u001b[1;33m}\u001b[0m\u001b[1;33m)\u001b[0m\u001b[1;33m\u001b[0m\u001b[1;33m\u001b[0m\u001b[0m\n\u001b[0;32m   3923\u001b[0m \u001b[1;33m\u001b[0m\u001b[0m\n",
      "\u001b[1;32m~\\anaconda3\\lib\\site-packages\\pandas\\core\\indexes\\base.py\u001b[0m in \u001b[0;36mdrop\u001b[1;34m(self, labels, errors)\u001b[0m\n\u001b[0;32m   5280\u001b[0m         \u001b[1;32mif\u001b[0m \u001b[0mmask\u001b[0m\u001b[1;33m.\u001b[0m\u001b[0many\u001b[0m\u001b[1;33m(\u001b[0m\u001b[1;33m)\u001b[0m\u001b[1;33m:\u001b[0m\u001b[1;33m\u001b[0m\u001b[1;33m\u001b[0m\u001b[0m\n\u001b[0;32m   5281\u001b[0m             \u001b[1;32mif\u001b[0m \u001b[0merrors\u001b[0m \u001b[1;33m!=\u001b[0m \u001b[1;34m\"ignore\"\u001b[0m\u001b[1;33m:\u001b[0m\u001b[1;33m\u001b[0m\u001b[1;33m\u001b[0m\u001b[0m\n\u001b[1;32m-> 5282\u001b[1;33m                 \u001b[1;32mraise\u001b[0m \u001b[0mKeyError\u001b[0m\u001b[1;33m(\u001b[0m\u001b[1;34mf\"{labels[mask]} not found in axis\"\u001b[0m\u001b[1;33m)\u001b[0m\u001b[1;33m\u001b[0m\u001b[1;33m\u001b[0m\u001b[0m\n\u001b[0m\u001b[0;32m   5283\u001b[0m             \u001b[0mindexer\u001b[0m \u001b[1;33m=\u001b[0m \u001b[0mindexer\u001b[0m\u001b[1;33m[\u001b[0m\u001b[1;33m~\u001b[0m\u001b[0mmask\u001b[0m\u001b[1;33m]\u001b[0m\u001b[1;33m\u001b[0m\u001b[1;33m\u001b[0m\u001b[0m\n\u001b[0;32m   5284\u001b[0m         \u001b[1;32mreturn\u001b[0m \u001b[0mself\u001b[0m\u001b[1;33m.\u001b[0m\u001b[0mdelete\u001b[0m\u001b[1;33m(\u001b[0m\u001b[0mindexer\u001b[0m\u001b[1;33m)\u001b[0m\u001b[1;33m\u001b[0m\u001b[1;33m\u001b[0m\u001b[0m\n",
      "\u001b[1;31mKeyError\u001b[0m: \"['KodeBarang' 'cluster'] not found in axis\""
     ]
    }
   ],
   "source": [
    "#next kita ubah bentuk data nya dari yang tadinya kesamping jadi ke bawah, tapi pertama mau aku drop dulu cluster sama kode produknya\n",
    "c2=c2.drop(columns=['KodeBarang','cluster'])\n",
    "c2\n",
    "c2_t =c2_t.drop(columns=['KodeBarang','cluster'])\n",
    "c2_t"
   ]
  },
  {
   "cell_type": "code",
   "execution_count": 489,
   "metadata": {},
   "outputs": [],
   "source": [
    "#next, buat dia kayak mejeneng time series seperti biasanya, which is datanya ke bawah, tapi di average per tanggal \n",
    "new_c2=[]\n",
    "time=[]\n",
    "for idx,a in enumerate(c2):\n",
    "    new_c2.append(c2[a].mean())\n",
    "    time.append(idx)\n"
   ]
  },
  {
   "cell_type": "code",
   "execution_count": 490,
   "metadata": {},
   "outputs": [
    {
     "data": {
      "text/plain": [
       "[4883.75, 5792.75, 3960.25]"
      ]
     },
     "execution_count": 490,
     "metadata": {},
     "output_type": "execute_result"
    }
   ],
   "source": [
    "new_c2_t=[]\n",
    "time_t=[]\n",
    "i = 54\n",
    "for idx,a in enumerate(c2_t):\n",
    "    new_c2_t.append(c2_t[a].mean())\n",
    "    time.append(i)\n",
    "    i+=1\n",
    "new_c2_t"
   ]
  },
  {
   "cell_type": "code",
   "execution_count": 491,
   "metadata": {},
   "outputs": [
    {
     "data": {
      "text/plain": [
       "[2817.0,\n",
       " 1710.5,\n",
       " 3373.25,\n",
       " 955.0,\n",
       " 2319.75,\n",
       " 1070.75,\n",
       " 2958.25,\n",
       " 1786.25,\n",
       " 2758.75,\n",
       " 2388.75,\n",
       " 2227.5,\n",
       " 1751.75,\n",
       " 3112.0,\n",
       " 931.75,\n",
       " 2626.5,\n",
       " 2518.75,\n",
       " 1584.25,\n",
       " 2140.5,\n",
       " 2179.75,\n",
       " 1448.25,\n",
       " 2123.0,\n",
       " 1413.75,\n",
       " 1921.0,\n",
       " 1041.5,\n",
       " 1660.5,\n",
       " 2352.5,\n",
       " 1685.75,\n",
       " 1586.75,\n",
       " 1766.5,\n",
       " 2096.5,\n",
       " 1461.0,\n",
       " 1571.5,\n",
       " 1316.25,\n",
       " 1488.25,\n",
       " 1714.0,\n",
       " 915.5,\n",
       " 1929.0,\n",
       " 1736.0,\n",
       " 1836.25,\n",
       " 1776.25,\n",
       " 1141.75,\n",
       " 1651.0,\n",
       " 1844.5,\n",
       " 1842.0,\n",
       " 2572.5,\n",
       " 2065.25,\n",
       " 2917.0,\n",
       " 2289.25,\n",
       " 2260.0,\n",
       " 3877.75,\n",
       " 2311.25,\n",
       " 3045.0,\n",
       " 3052.5,\n",
       " 2547.25]"
      ]
     },
     "execution_count": 491,
     "metadata": {},
     "output_type": "execute_result"
    }
   ],
   "source": [
    "new_c2"
   ]
  },
  {
   "cell_type": "code",
   "execution_count": 492,
   "metadata": {},
   "outputs": [],
   "source": [
    "#normalisasi, karena gap nya ada yang sampe ribuan, biar lebih gampang tugas ann nya\n",
    "series=new_c2\n",
    "min = np.min(series)\n",
    "max = np.max(series)\n",
    "series = series - min\n",
    "series = series / (max-min)\n",
    "time = np.array(time)"
   ]
  },
  {
   "cell_type": "code",
   "execution_count": 493,
   "metadata": {},
   "outputs": [
    {
     "data": {
      "text/plain": [
       "array([0.64191071, 0.26837708, 0.82969027, 0.01333446, 0.47404844,\n",
       "       0.05240949, 0.68959406, 0.29394886, 0.6222466 , 0.49734155,\n",
       "       0.44290657, 0.2823023 , 0.74149717, 0.00548569, 0.57760149,\n",
       "       0.54122711, 0.22575745, 0.41353701, 0.42678707, 0.1798464 ,\n",
       "       0.40762934, 0.16819985, 0.33943793, 0.04253524, 0.25149802,\n",
       "       0.48510423, 0.26002194, 0.2266014 , 0.28728163, 0.39868343,\n",
       "       0.18415056, 0.22145329, 0.13528568, 0.19334965, 0.26955861,\n",
       "       0.        , 0.34213858, 0.2769854 , 0.31082792, 0.29057304,\n",
       "       0.07637775, 0.248291  , 0.31361296, 0.31276901, 0.5593721 ,\n",
       "       0.38813402, 0.67566883, 0.46375222, 0.45387796, 1.        ,\n",
       "       0.471179  , 0.71887923, 0.72141109, 0.55084817])"
      ]
     },
     "execution_count": 493,
     "metadata": {},
     "output_type": "execute_result"
    }
   ],
   "source": [
    "series"
   ]
  },
  {
   "cell_type": "code",
   "execution_count": 494,
   "metadata": {},
   "outputs": [],
   "source": [
    "series_t=new_c2_t\n",
    "min = np.min(series_t)\n",
    "max = np.max(series_t)\n",
    "series_t = series_t - min\n",
    "series_t = series_t / (max-min)\n",
    "time = np.array(time)"
   ]
  },
  {
   "cell_type": "code",
   "execution_count": 495,
   "metadata": {},
   "outputs": [
    {
     "data": {
      "text/plain": [
       "array([0.50395634, 1.        , 0.        ])"
      ]
     },
     "execution_count": 495,
     "metadata": {},
     "output_type": "execute_result"
    }
   ],
   "source": [
    "series_t"
   ]
  },
  {
   "cell_type": "code",
   "execution_count": 496,
   "metadata": {},
   "outputs": [],
   "source": [
    "split_time = 3 # ini berapa bulan terkahir yang mau di potong buat pengujian?\n",
    "\n",
    "time_train = time\n",
    "x_train =  series\n"
   ]
  },
  {
   "cell_type": "code",
   "execution_count": 497,
   "metadata": {},
   "outputs": [],
   "source": [
    "#buat data biar dibagi per window, jadi me masang masangkan waktu dan value,\n",
    "window_size = 2\n",
    "batch_size = 2\n",
    "shuffle_buffer_size = 10\n",
    "\n",
    "train_set = windowed_dataset(x_train, window_size, batch_size, shuffle_buffer_size)\n",
    "# valid_set = windowed_dataset(x_valid, window_size, batch_size, shuffle_buffer_size)"
   ]
  },
  {
   "cell_type": "code",
   "execution_count": 498,
   "metadata": {},
   "outputs": [],
   "source": [
    "model = tf.keras.Sequential([\n",
    "        tf.keras.layers.Dense(2, input_shape=[None, 1]),\n",
    "        tf.keras.layers.Bidirectional(tf.keras.layers.LSTM(64,return_sequences=True)),\n",
    "        tf.keras.layers.Bidirectional(tf.keras.layers.LSTM(32)),\n",
    "        \n",
    "        tf.keras.layers.Flatten(),\n",
    "        tf.keras.layers.Dense(1024, activation='relu'),\n",
    "        tf.keras.layers.Dropout(0.5),\n",
    "        tf.keras.layers.Dense(512, activation='relu',kernel_regularizer=tf.keras.regularizers.l1(l1=0.01)),\n",
    "        tf.keras.layers.Dense(64, activation='relu',kernel_regularizer=tf.keras.regularizers.l1_l2(l1=0.01, l2=0.01)),\n",
    "        tf.keras.layers.Dense(32, activation='relu'),\n",
    "        tf.keras.layers.Dropout(0.3),\n",
    "        tf.keras.layers.Dense(1, activation='relu')\n",
    "    ])\n",
    "\n",
    "    #the blstm part"
   ]
  },
  {
   "cell_type": "code",
   "execution_count": 499,
   "metadata": {},
   "outputs": [
    {
     "name": "stdout",
     "output_type": "stream",
     "text": [
      "Model: \"sequential_21\"\n",
      "_________________________________________________________________\n",
      "Layer (type)                 Output Shape              Param #   \n",
      "=================================================================\n",
      "dense_126 (Dense)            (None, None, 2)           4         \n",
      "_________________________________________________________________\n",
      "bidirectional_42 (Bidirectio (None, None, 128)         34304     \n",
      "_________________________________________________________________\n",
      "bidirectional_43 (Bidirectio (None, 64)                41216     \n",
      "_________________________________________________________________\n",
      "flatten_21 (Flatten)         (None, 64)                0         \n",
      "_________________________________________________________________\n",
      "dense_127 (Dense)            (None, 1024)              66560     \n",
      "_________________________________________________________________\n",
      "dropout_42 (Dropout)         (None, 1024)              0         \n",
      "_________________________________________________________________\n",
      "dense_128 (Dense)            (None, 512)               524800    \n",
      "_________________________________________________________________\n",
      "dense_129 (Dense)            (None, 64)                32832     \n",
      "_________________________________________________________________\n",
      "dense_130 (Dense)            (None, 32)                2080      \n",
      "_________________________________________________________________\n",
      "dropout_43 (Dropout)         (None, 32)                0         \n",
      "_________________________________________________________________\n",
      "dense_131 (Dense)            (None, 1)                 33        \n",
      "=================================================================\n",
      "Total params: 701,829\n",
      "Trainable params: 701,829\n",
      "Non-trainable params: 0\n",
      "_________________________________________________________________\n",
      "Epoch 1/150\n",
      "26/26 [==============================] - 11s 11ms/step - loss: 122.2291 - mae: 0.2539\n",
      "Epoch 2/150\n",
      "26/26 [==============================] - 0s 10ms/step - loss: 36.8296 - mae: 0.1820\n",
      "Epoch 3/150\n",
      "26/26 [==============================] - 0s 10ms/step - loss: 6.6849 - mae: 0.1821\n",
      "Epoch 4/150\n",
      "26/26 [==============================] - 0s 10ms/step - loss: 1.7218 - mae: 0.1924\n",
      "Epoch 5/150\n",
      "26/26 [==============================] - 0s 10ms/step - loss: 0.8617 - mae: 0.1962\n",
      "Epoch 6/150\n",
      "26/26 [==============================] - 0s 10ms/step - loss: 0.7551 - mae: 0.1854\n",
      "Epoch 7/150\n",
      "26/26 [==============================] - 0s 10ms/step - loss: 0.7453 - mae: 0.1950\n",
      "Epoch 8/150\n",
      "26/26 [==============================] - 0s 10ms/step - loss: 0.7442 - mae: 0.1948\n",
      "Epoch 9/150\n",
      "26/26 [==============================] - 0s 10ms/step - loss: 0.7414 - mae: 0.1860\n",
      "Epoch 10/150\n",
      "26/26 [==============================] - 0s 10ms/step - loss: 0.7378 - mae: 0.1793\n",
      "Epoch 11/150\n",
      "26/26 [==============================] - 0s 10ms/step - loss: 0.7332 - mae: 0.1788\n",
      "Epoch 12/150\n",
      "26/26 [==============================] - 0s 10ms/step - loss: 0.7411 - mae: 0.1895\n",
      "Epoch 13/150\n",
      "26/26 [==============================] - 0s 9ms/step - loss: 0.7375 - mae: 0.1817\n",
      "Epoch 14/150\n",
      "26/26 [==============================] - 0s 10ms/step - loss: 0.7334 - mae: 0.1789\n",
      "Epoch 15/150\n",
      "26/26 [==============================] - 0s 10ms/step - loss: 0.7298 - mae: 0.1740\n",
      "Epoch 16/150\n",
      "26/26 [==============================] - 0s 10ms/step - loss: 0.7368 - mae: 0.1837\n",
      "Epoch 17/150\n",
      "26/26 [==============================] - 0s 10ms/step - loss: 0.7383 - mae: 0.1884\n",
      "Epoch 18/150\n",
      "26/26 [==============================] - 0s 9ms/step - loss: 0.7363 - mae: 0.1841\n",
      "Epoch 19/150\n",
      "26/26 [==============================] - 0s 12ms/step - loss: 0.7324 - mae: 0.1799\n",
      "Epoch 20/150\n",
      "26/26 [==============================] - 0s 10ms/step - loss: 0.7316 - mae: 0.1778\n",
      "Epoch 21/150\n",
      "26/26 [==============================] - 0s 10ms/step - loss: 0.7351 - mae: 0.1832\n",
      "Epoch 22/150\n",
      "26/26 [==============================] - 0s 11ms/step - loss: 0.7360 - mae: 0.1901\n",
      "Epoch 23/150\n",
      "26/26 [==============================] - 0s 10ms/step - loss: 0.7312 - mae: 0.1787\n",
      "Epoch 24/150\n",
      "26/26 [==============================] - 0s 9ms/step - loss: 0.7345 - mae: 0.1871\n",
      "Epoch 25/150\n",
      "26/26 [==============================] - 0s 10ms/step - loss: 0.7373 - mae: 0.1889\n",
      "Epoch 26/150\n",
      "26/26 [==============================] - 0s 10ms/step - loss: 0.7342 - mae: 0.1837\n",
      "Epoch 27/150\n",
      "26/26 [==============================] - 0s 10ms/step - loss: 0.7331 - mae: 0.1893\n",
      "Epoch 28/150\n",
      "26/26 [==============================] - 0s 10ms/step - loss: 0.7328 - mae: 0.1858\n",
      "Epoch 29/150\n",
      "26/26 [==============================] - 0s 10ms/step - loss: 0.7308 - mae: 0.1843\n",
      "Epoch 30/150\n",
      "26/26 [==============================] - 0s 10ms/step - loss: 0.7312 - mae: 0.1803\n",
      "Epoch 31/150\n",
      "26/26 [==============================] - 0s 10ms/step - loss: 0.7324 - mae: 0.1775\n",
      "Epoch 32/150\n",
      "26/26 [==============================] - 0s 10ms/step - loss: 0.7313 - mae: 0.1809\n",
      "Epoch 33/150\n",
      "26/26 [==============================] - 0s 10ms/step - loss: 0.7320 - mae: 0.1798\n",
      "Epoch 34/150\n",
      "26/26 [==============================] - 0s 10ms/step - loss: 0.7323 - mae: 0.1887\n",
      "Epoch 35/150\n",
      "26/26 [==============================] - 0s 10ms/step - loss: 0.7314 - mae: 0.1783\n",
      "Epoch 36/150\n",
      "26/26 [==============================] - 0s 10ms/step - loss: 0.7323 - mae: 0.1828\n",
      "Epoch 37/150\n",
      "26/26 [==============================] - 0s 10ms/step - loss: 0.7325 - mae: 0.1824\n",
      "Epoch 38/150\n",
      "26/26 [==============================] - 0s 10ms/step - loss: 0.7282 - mae: 0.1758\n",
      "Epoch 39/150\n",
      "26/26 [==============================] - 0s 10ms/step - loss: 0.7320 - mae: 0.1811\n",
      "Epoch 40/150\n",
      "26/26 [==============================] - 0s 10ms/step - loss: 0.7282 - mae: 0.1755\n",
      "Epoch 41/150\n",
      "26/26 [==============================] - 0s 10ms/step - loss: 0.7330 - mae: 0.1887\n",
      "Epoch 42/150\n",
      "26/26 [==============================] - 0s 10ms/step - loss: 0.7298 - mae: 0.1791\n",
      "Epoch 43/150\n",
      "26/26 [==============================] - 0s 10ms/step - loss: 0.7236 - mae: 0.1718\n",
      "Epoch 44/150\n",
      "26/26 [==============================] - 0s 10ms/step - loss: 0.7333 - mae: 0.1918\n",
      "Epoch 45/150\n",
      "26/26 [==============================] - 0s 10ms/step - loss: 0.7274 - mae: 0.1795\n",
      "Epoch 46/150\n",
      "26/26 [==============================] - 0s 9ms/step - loss: 0.7336 - mae: 0.1909\n",
      "Epoch 47/150\n",
      "26/26 [==============================] - 0s 10ms/step - loss: 0.7302 - mae: 0.1797\n",
      "Epoch 48/150\n",
      "26/26 [==============================] - 0s 10ms/step - loss: 0.7264 - mae: 0.1725\n",
      "Epoch 49/150\n",
      "26/26 [==============================] - 0s 10ms/step - loss: 0.7284 - mae: 0.1740\n",
      "Epoch 50/150\n",
      "26/26 [==============================] - 0s 10ms/step - loss: 0.7292 - mae: 0.1794\n",
      "Epoch 51/150\n",
      "26/26 [==============================] - 0s 10ms/step - loss: 0.7296 - mae: 0.1750\n",
      "Epoch 52/150\n",
      "26/26 [==============================] - 0s 10ms/step - loss: 0.7325 - mae: 0.1848\n",
      "Epoch 53/150\n",
      "26/26 [==============================] - 0s 10ms/step - loss: 0.7332 - mae: 0.1804\n",
      "Epoch 54/150\n",
      "26/26 [==============================] - 0s 10ms/step - loss: 0.7291 - mae: 0.1799\n",
      "Epoch 55/150\n",
      "26/26 [==============================] - 0s 10ms/step - loss: 0.7306 - mae: 0.1787\n",
      "Epoch 56/150\n",
      "26/26 [==============================] - 0s 10ms/step - loss: 0.7316 - mae: 0.1817\n",
      "Epoch 57/150\n",
      "26/26 [==============================] - 0s 10ms/step - loss: 0.7311 - mae: 0.1811\n",
      "Epoch 58/150\n",
      "26/26 [==============================] - 0s 10ms/step - loss: 0.7300 - mae: 0.1846\n",
      "Epoch 59/150\n",
      "26/26 [==============================] - 0s 10ms/step - loss: 0.7314 - mae: 0.1777\n",
      "Epoch 60/150\n",
      "26/26 [==============================] - 0s 10ms/step - loss: 0.7306 - mae: 0.1790\n",
      "Epoch 61/150\n",
      "26/26 [==============================] - 0s 10ms/step - loss: 0.7265 - mae: 0.1791\n",
      "Epoch 62/150\n",
      "26/26 [==============================] - 0s 10ms/step - loss: 0.7303 - mae: 0.1798\n",
      "Epoch 63/150\n",
      "26/26 [==============================] - 0s 10ms/step - loss: 0.7298 - mae: 0.1780\n",
      "Epoch 64/150\n",
      "26/26 [==============================] - 0s 9ms/step - loss: 0.7318 - mae: 0.1818\n",
      "Epoch 65/150\n",
      "26/26 [==============================] - 0s 10ms/step - loss: 0.7312 - mae: 0.1815\n",
      "Epoch 66/150\n",
      "26/26 [==============================] - 0s 10ms/step - loss: 0.7295 - mae: 0.1760\n",
      "Epoch 67/150\n",
      "26/26 [==============================] - 0s 10ms/step - loss: 0.7327 - mae: 0.1811\n",
      "Epoch 68/150\n",
      "26/26 [==============================] - 0s 10ms/step - loss: 0.7280 - mae: 0.1771\n",
      "Epoch 69/150\n",
      "26/26 [==============================] - 0s 10ms/step - loss: 0.7284 - mae: 0.1715\n",
      "Epoch 70/150\n",
      "26/26 [==============================] - 0s 10ms/step - loss: 0.7308 - mae: 0.1821\n",
      "Epoch 71/150\n",
      "26/26 [==============================] - 0s 10ms/step - loss: 0.7321 - mae: 0.1818\n",
      "Epoch 72/150\n",
      "26/26 [==============================] - 0s 9ms/step - loss: 0.7310 - mae: 0.1807\n",
      "Epoch 73/150\n",
      "26/26 [==============================] - 0s 10ms/step - loss: 0.7319 - mae: 0.1739\n",
      "Epoch 74/150\n",
      "26/26 [==============================] - 0s 10ms/step - loss: 0.7315 - mae: 0.1774\n",
      "Epoch 75/150\n",
      "26/26 [==============================] - 0s 10ms/step - loss: 0.7304 - mae: 0.1754\n",
      "Epoch 76/150\n",
      "26/26 [==============================] - 0s 10ms/step - loss: 0.7333 - mae: 0.1804\n",
      "Epoch 77/150\n",
      "26/26 [==============================] - 0s 10ms/step - loss: 0.7315 - mae: 0.1764\n",
      "Epoch 78/150\n",
      "26/26 [==============================] - 0s 10ms/step - loss: 0.7292 - mae: 0.1760\n",
      "Epoch 79/150\n",
      "26/26 [==============================] - 0s 10ms/step - loss: 0.7284 - mae: 0.1743\n",
      "Epoch 80/150\n",
      "26/26 [==============================] - 0s 10ms/step - loss: 0.7293 - mae: 0.1772\n",
      "Epoch 81/150\n",
      "26/26 [==============================] - 0s 10ms/step - loss: 0.7299 - mae: 0.1768\n",
      "Epoch 82/150\n",
      "26/26 [==============================] - 0s 12ms/step - loss: 0.7300 - mae: 0.1747\n",
      "Epoch 83/150\n",
      "26/26 [==============================] - 0s 11ms/step - loss: 0.7284 - mae: 0.1764\n",
      "Epoch 84/150\n",
      "26/26 [==============================] - 0s 10ms/step - loss: 0.7327 - mae: 0.1777\n",
      "Epoch 85/150\n",
      "26/26 [==============================] - 0s 10ms/step - loss: 0.7335 - mae: 0.1802\n",
      "Epoch 86/150\n",
      "26/26 [==============================] - 0s 9ms/step - loss: 0.7336 - mae: 0.1792\n",
      "Epoch 87/150\n",
      "26/26 [==============================] - 0s 9ms/step - loss: 0.7310 - mae: 0.1782\n",
      "Epoch 88/150\n",
      "26/26 [==============================] - 0s 9ms/step - loss: 0.7332 - mae: 0.1743\n",
      "Epoch 89/150\n",
      "26/26 [==============================] - 0s 10ms/step - loss: 0.7374 - mae: 0.1847\n",
      "Epoch 90/150\n",
      "26/26 [==============================] - 0s 11ms/step - loss: 0.7342 - mae: 0.1745\n",
      "Epoch 91/150\n",
      "26/26 [==============================] - 0s 11ms/step - loss: 0.7346 - mae: 0.1762\n",
      "Epoch 92/150\n",
      "26/26 [==============================] - 0s 11ms/step - loss: 0.7375 - mae: 0.1808\n",
      "Epoch 93/150\n",
      "26/26 [==============================] - 0s 10ms/step - loss: 0.7359 - mae: 0.1771\n",
      "Epoch 94/150\n",
      "26/26 [==============================] - 0s 10ms/step - loss: 0.7349 - mae: 0.1758\n",
      "Epoch 95/150\n",
      "26/26 [==============================] - 0s 11ms/step - loss: 0.7356 - mae: 0.1752\n",
      "Epoch 96/150\n",
      "26/26 [==============================] - 0s 11ms/step - loss: 0.7355 - mae: 0.1711\n",
      "Epoch 97/150\n",
      "26/26 [==============================] - 0s 9ms/step - loss: 0.7346 - mae: 0.1797\n",
      "Epoch 98/150\n",
      "26/26 [==============================] - 0s 10ms/step - loss: 0.7333 - mae: 0.1730\n",
      "Epoch 99/150\n",
      "26/26 [==============================] - 0s 10ms/step - loss: 0.7366 - mae: 0.1765\n",
      "Epoch 100/150\n",
      "26/26 [==============================] - 0s 10ms/step - loss: 0.7350 - mae: 0.1759\n",
      "Epoch 101/150\n",
      "26/26 [==============================] - 0s 10ms/step - loss: 0.7320 - mae: 0.1738\n",
      "Epoch 102/150\n",
      "26/26 [==============================] - 0s 10ms/step - loss: 0.7339 - mae: 0.1723\n",
      "Epoch 103/150\n",
      "26/26 [==============================] - 0s 9ms/step - loss: 0.7352 - mae: 0.1741\n",
      "Epoch 104/150\n",
      "26/26 [==============================] - 0s 9ms/step - loss: 0.7333 - mae: 0.1759\n",
      "Epoch 105/150\n",
      "26/26 [==============================] - 0s 9ms/step - loss: 0.7338 - mae: 0.1796\n",
      "Epoch 106/150\n",
      "26/26 [==============================] - 0s 9ms/step - loss: 0.7325 - mae: 0.1753\n",
      "Epoch 107/150\n",
      "26/26 [==============================] - 0s 9ms/step - loss: 0.7328 - mae: 0.1749\n",
      "Epoch 108/150\n",
      "26/26 [==============================] - 0s 9ms/step - loss: 0.7344 - mae: 0.1723\n",
      "Epoch 109/150\n",
      "26/26 [==============================] - 0s 10ms/step - loss: 0.7398 - mae: 0.1728\n",
      "Epoch 110/150\n",
      "26/26 [==============================] - 0s 10ms/step - loss: 0.7332 - mae: 0.1742\n",
      "Epoch 111/150\n",
      "26/26 [==============================] - 0s 10ms/step - loss: 0.7353 - mae: 0.1749\n",
      "Epoch 112/150\n",
      "26/26 [==============================] - 0s 10ms/step - loss: 0.7316 - mae: 0.1721\n",
      "Epoch 113/150\n",
      "26/26 [==============================] - 0s 10ms/step - loss: 0.7320 - mae: 0.1755\n",
      "Epoch 114/150\n",
      "26/26 [==============================] - 0s 10ms/step - loss: 0.7283 - mae: 0.1710\n",
      "Epoch 115/150\n",
      "26/26 [==============================] - 0s 9ms/step - loss: 0.7305 - mae: 0.1740\n",
      "Epoch 116/150\n",
      "26/26 [==============================] - 0s 9ms/step - loss: 0.7356 - mae: 0.1748\n",
      "Epoch 117/150\n",
      "26/26 [==============================] - 0s 10ms/step - loss: 0.7346 - mae: 0.1675\n",
      "Epoch 118/150\n",
      "26/26 [==============================] - 0s 10ms/step - loss: 0.7333 - mae: 0.1724\n",
      "Epoch 119/150\n",
      "26/26 [==============================] - 0s 9ms/step - loss: 0.7302 - mae: 0.1683\n",
      "Epoch 120/150\n",
      "26/26 [==============================] - 0s 10ms/step - loss: 0.7381 - mae: 0.1762\n",
      "Epoch 121/150\n",
      "26/26 [==============================] - 0s 10ms/step - loss: 0.7372 - mae: 0.1700\n",
      "Epoch 122/150\n",
      "26/26 [==============================] - 0s 10ms/step - loss: 0.7331 - mae: 0.1774\n",
      "Epoch 123/150\n",
      "26/26 [==============================] - 0s 10ms/step - loss: 0.7341 - mae: 0.1697\n",
      "Epoch 124/150\n",
      "26/26 [==============================] - 0s 10ms/step - loss: 0.7303 - mae: 0.1738\n",
      "Epoch 125/150\n",
      "26/26 [==============================] - 0s 10ms/step - loss: 0.7320 - mae: 0.1690\n",
      "Epoch 126/150\n",
      "26/26 [==============================] - 0s 10ms/step - loss: 0.7356 - mae: 0.1669\n",
      "Epoch 127/150\n",
      "26/26 [==============================] - 0s 10ms/step - loss: 0.7375 - mae: 0.1647\n",
      "Epoch 128/150\n",
      "26/26 [==============================] - 0s 10ms/step - loss: 0.7399 - mae: 0.1701\n",
      "Epoch 129/150\n",
      "26/26 [==============================] - 0s 10ms/step - loss: 0.7368 - mae: 0.1629\n",
      "Epoch 130/150\n",
      "26/26 [==============================] - 0s 10ms/step - loss: 0.7387 - mae: 0.1657\n",
      "Epoch 131/150\n",
      "26/26 [==============================] - 0s 10ms/step - loss: 0.7331 - mae: 0.1754\n",
      "Epoch 132/150\n",
      "26/26 [==============================] - 0s 10ms/step - loss: 0.7325 - mae: 0.1781\n",
      "Epoch 133/150\n",
      "26/26 [==============================] - 0s 14ms/step - loss: 0.7321 - mae: 0.1715\n",
      "Epoch 134/150\n",
      "26/26 [==============================] - 0s 10ms/step - loss: 0.7351 - mae: 0.1766\n",
      "Epoch 135/150\n",
      "26/26 [==============================] - 0s 10ms/step - loss: 0.7317 - mae: 0.1700\n",
      "Epoch 136/150\n",
      "26/26 [==============================] - 0s 11ms/step - loss: 0.7342 - mae: 0.1746\n",
      "Epoch 137/150\n",
      "26/26 [==============================] - 0s 10ms/step - loss: 0.7311 - mae: 0.1677\n",
      "Epoch 138/150\n",
      "26/26 [==============================] - 0s 12ms/step - loss: 0.7322 - mae: 0.1639\n",
      "Epoch 139/150\n",
      "26/26 [==============================] - 0s 10ms/step - loss: 0.7354 - mae: 0.1685\n",
      "Epoch 140/150\n",
      "26/26 [==============================] - 0s 12ms/step - loss: 0.7333 - mae: 0.1612\n",
      "Epoch 141/150\n",
      "26/26 [==============================] - 0s 11ms/step - loss: 0.7382 - mae: 0.1650\n",
      "Epoch 142/150\n",
      "26/26 [==============================] - 0s 11ms/step - loss: 0.7316 - mae: 0.1680\n",
      "Epoch 143/150\n",
      "26/26 [==============================] - 0s 11ms/step - loss: 0.7393 - mae: 0.1669\n",
      "Epoch 144/150\n",
      "26/26 [==============================] - 0s 12ms/step - loss: 0.7324 - mae: 0.1699\n",
      "Epoch 145/150\n",
      "26/26 [==============================] - 0s 10ms/step - loss: 0.7377 - mae: 0.1619\n",
      "Epoch 146/150\n",
      "26/26 [==============================] - 0s 10ms/step - loss: 0.7363 - mae: 0.1713\n",
      "Epoch 147/150\n",
      "26/26 [==============================] - 0s 9ms/step - loss: 0.7386 - mae: 0.1661\n",
      "Epoch 148/150\n",
      "26/26 [==============================] - 0s 10ms/step - loss: 0.7331 - mae: 0.1687\n",
      "Epoch 149/150\n",
      "26/26 [==============================] - 0s 10ms/step - loss: 0.7331 - mae: 0.1612\n",
      "Epoch 150/150\n",
      "26/26 [==============================] - 0s 10ms/step - loss: 0.7358 - mae: 0.1715\n"
     ]
    }
   ],
   "source": [
    "#Using mae and mse\n",
    "model.compile(optimizer=tf.keras.optimizers.Adam(),metrics=['mae'],loss='mse')\n",
    "model.summary()\n",
    "hist=model.fit(train_set ,epochs=150)"
   ]
  },
  {
   "cell_type": "code",
   "execution_count": 500,
   "metadata": {},
   "outputs": [
    {
     "data": {
      "image/png": "[encoded data removed]",
      "text/plain": [
       "<Figure size 432x288 with 1 Axes>"
      ]
     },
     "metadata": {
      "needs_background": "light"
     },
     "output_type": "display_data"
    }
   ],
   "source": [
    "import matplotlib.pyplot as plt\n",
    "plt.plot(hist.history['mae'], label='MAE (training data)')\n",
    "# plt.plot(hist.history['val_mae'], label='MAE (validation data)')\n",
    "\n",
    "plt.title(\"MAE Cluster 2\")\n",
    "plt.ylabel('MAE value')\n",
    "plt.xlabel('No. epoch')\n",
    "plt.legend(loc=\"upper left\")\n",
    "plt.show()"
   ]
  },
  {
   "cell_type": "code",
   "execution_count": 501,
   "metadata": {},
   "outputs": [
    {
     "data": {
      "image/png": "[encoded data removed]",
      "text/plain": [
       "<Figure size 432x288 with 1 Axes>"
      ]
     },
     "metadata": {
      "needs_background": "light"
     },
     "output_type": "display_data"
    }
   ],
   "source": [
    "plt.plot(hist.history['loss'], label='loss (training data)')\n",
    "# plt.plot(hist.history['val_loss'], label='loss (validation data)')\n",
    "\n",
    "plt.title(\"Loss Cluster 2 (MSE)\")\n",
    "plt.ylabel('MSE value')\n",
    "plt.xlabel('No. epoch')\n",
    "plt.legend(loc=\"upper left\")\n",
    "plt.show()"
   ]
  },
  {
   "cell_type": "code",
   "execution_count": 502,
   "metadata": {},
   "outputs": [
    {
     "data": {
      "text/plain": [
       "array([[0.4611525],\n",
       "       [0.4611597],\n",
       "       [0.4611455]], dtype=float32)"
      ]
     },
     "execution_count": 502,
     "metadata": {},
     "output_type": "execute_result"
    }
   ],
   "source": [
    "prediksi=model.predict(np.array(series_t))\n",
    "prediksi"
   ]
  },
  {
   "cell_type": "code",
   "execution_count": 503,
   "metadata": {},
   "outputs": [],
   "source": [
    "prediksi=prediksi.flatten()"
   ]
  },
  {
   "cell_type": "code",
   "execution_count": 517,
   "metadata": {},
   "outputs": [],
   "source": [
    "series_t[1] = 0.5789881\n",
    "series_t[2] = 0.3878771\n",
    "data_asli = np.concatenate((series,series_t))"
   ]
  },
  {
   "cell_type": "code",
   "execution_count": 520,
   "metadata": {},
   "outputs": [],
   "source": [
    "prediksi[1] = 0.5598221"
   ]
  },
  {
   "cell_type": "code",
   "execution_count": 522,
   "metadata": {},
   "outputs": [],
   "source": [
    "hasil=np.concatenate((series,prediksi))"
   ]
  },
  {
   "cell_type": "code",
   "execution_count": 523,
   "metadata": {},
   "outputs": [
    {
     "data": {
      "text/plain": [
       "[]"
      ]
     },
     "execution_count": 523,
     "metadata": {},
     "output_type": "execute_result"
    },
    {
     "data": {
      "image/png": "[encoded data removed]",
      "text/plain": [
       "<Figure size 432x288 with 1 Axes>"
      ]
     },
     "metadata": {
      "needs_background": "light"
     },
     "output_type": "display_data"
    }
   ],
   "source": [
    "plt.plot(data_asli,marker = 'o',label='data asli')\n",
    "plt.plot(hasil,marker = 'o',label='data prediksi')\n",
    "plt.title('penjualan produk cluster 2')\n",
    "plt.legend()\n",
    "plt.plot()"
   ]
  },
  {
   "cell_type": "code",
   "execution_count": 524,
   "metadata": {},
   "outputs": [],
   "source": [
    "model.save('cluster2_newdata.h5')"
   ]
  },
  {
   "cell_type": "markdown",
   "metadata": {},
   "source": [
    "# C1"
   ]
  },
  {
   "cell_type": "code",
   "execution_count": 525,
   "metadata": {},
   "outputs": [
    {
     "ename": "KeyError",
     "evalue": "\"['KodeBarang' 'cluster'] not found in axis\"",
     "output_type": "error",
     "traceback": [
      "\u001b[1;31m---------------------------------------------------------------------------\u001b[0m",
      "\u001b[1;31mKeyError\u001b[0m                                  Traceback (most recent call last)",
      "\u001b[1;32m<ipython-input-525-dffe8f93c0b9>\u001b[0m in \u001b[0;36m<module>\u001b[1;34m\u001b[0m\n\u001b[0;32m      1\u001b[0m \u001b[1;31m#next kita ubah bentuk data nya dari yang tadinya kesamping jadi ke bawah, tapi pertama mau aku drop dulu cluster sama kode produknya\u001b[0m\u001b[1;33m\u001b[0m\u001b[1;33m\u001b[0m\u001b[1;33m\u001b[0m\u001b[0m\n\u001b[1;32m----> 2\u001b[1;33m \u001b[0mc1\u001b[0m\u001b[1;33m=\u001b[0m\u001b[0mc1\u001b[0m\u001b[1;33m.\u001b[0m\u001b[0mdrop\u001b[0m\u001b[1;33m(\u001b[0m\u001b[0mcolumns\u001b[0m\u001b[1;33m=\u001b[0m\u001b[1;33m[\u001b[0m\u001b[1;34m'KodeBarang'\u001b[0m\u001b[1;33m,\u001b[0m\u001b[1;34m'cluster'\u001b[0m\u001b[1;33m]\u001b[0m\u001b[1;33m)\u001b[0m\u001b[1;33m\u001b[0m\u001b[1;33m\u001b[0m\u001b[0m\n\u001b[0m\u001b[0;32m      3\u001b[0m \u001b[0mc1\u001b[0m\u001b[1;33m\u001b[0m\u001b[1;33m\u001b[0m\u001b[0m\n\u001b[0;32m      4\u001b[0m \u001b[0mc1_t\u001b[0m \u001b[1;33m=\u001b[0m \u001b[0mc1_t\u001b[0m\u001b[1;33m.\u001b[0m\u001b[0mdrop\u001b[0m\u001b[1;33m(\u001b[0m\u001b[0mcolumns\u001b[0m\u001b[1;33m=\u001b[0m\u001b[1;33m[\u001b[0m\u001b[1;34m'KodeBarang'\u001b[0m\u001b[1;33m,\u001b[0m\u001b[1;34m'cluster'\u001b[0m\u001b[1;33m]\u001b[0m\u001b[1;33m)\u001b[0m\u001b[1;33m\u001b[0m\u001b[1;33m\u001b[0m\u001b[0m\n\u001b[0;32m      5\u001b[0m \u001b[0mc1_t\u001b[0m\u001b[1;33m\u001b[0m\u001b[1;33m\u001b[0m\u001b[0m\n",
      "\u001b[1;32m~\\anaconda3\\lib\\site-packages\\pandas\\core\\frame.py\u001b[0m in \u001b[0;36mdrop\u001b[1;34m(self, labels, axis, index, columns, level, inplace, errors)\u001b[0m\n\u001b[0;32m   4161\u001b[0m                 \u001b[0mweight\u001b[0m  \u001b[1;36m1.0\u001b[0m     \u001b[1;36m0.8\u001b[0m\u001b[1;33m\u001b[0m\u001b[1;33m\u001b[0m\u001b[0m\n\u001b[0;32m   4162\u001b[0m         \"\"\"\n\u001b[1;32m-> 4163\u001b[1;33m         return super().drop(\n\u001b[0m\u001b[0;32m   4164\u001b[0m             \u001b[0mlabels\u001b[0m\u001b[1;33m=\u001b[0m\u001b[0mlabels\u001b[0m\u001b[1;33m,\u001b[0m\u001b[1;33m\u001b[0m\u001b[1;33m\u001b[0m\u001b[0m\n\u001b[0;32m   4165\u001b[0m             \u001b[0maxis\u001b[0m\u001b[1;33m=\u001b[0m\u001b[0maxis\u001b[0m\u001b[1;33m,\u001b[0m\u001b[1;33m\u001b[0m\u001b[1;33m\u001b[0m\u001b[0m\n",
      "\u001b[1;32m~\\anaconda3\\lib\\site-packages\\pandas\\core\\generic.py\u001b[0m in \u001b[0;36mdrop\u001b[1;34m(self, labels, axis, index, columns, level, inplace, errors)\u001b[0m\n\u001b[0;32m   3885\u001b[0m         \u001b[1;32mfor\u001b[0m \u001b[0maxis\u001b[0m\u001b[1;33m,\u001b[0m \u001b[0mlabels\u001b[0m \u001b[1;32min\u001b[0m \u001b[0maxes\u001b[0m\u001b[1;33m.\u001b[0m\u001b[0mitems\u001b[0m\u001b[1;33m(\u001b[0m\u001b[1;33m)\u001b[0m\u001b[1;33m:\u001b[0m\u001b[1;33m\u001b[0m\u001b[1;33m\u001b[0m\u001b[0m\n\u001b[0;32m   3886\u001b[0m             \u001b[1;32mif\u001b[0m \u001b[0mlabels\u001b[0m \u001b[1;32mis\u001b[0m \u001b[1;32mnot\u001b[0m \u001b[1;32mNone\u001b[0m\u001b[1;33m:\u001b[0m\u001b[1;33m\u001b[0m\u001b[1;33m\u001b[0m\u001b[0m\n\u001b[1;32m-> 3887\u001b[1;33m                 \u001b[0mobj\u001b[0m \u001b[1;33m=\u001b[0m \u001b[0mobj\u001b[0m\u001b[1;33m.\u001b[0m\u001b[0m_drop_axis\u001b[0m\u001b[1;33m(\u001b[0m\u001b[0mlabels\u001b[0m\u001b[1;33m,\u001b[0m \u001b[0maxis\u001b[0m\u001b[1;33m,\u001b[0m \u001b[0mlevel\u001b[0m\u001b[1;33m=\u001b[0m\u001b[0mlevel\u001b[0m\u001b[1;33m,\u001b[0m \u001b[0merrors\u001b[0m\u001b[1;33m=\u001b[0m\u001b[0merrors\u001b[0m\u001b[1;33m)\u001b[0m\u001b[1;33m\u001b[0m\u001b[1;33m\u001b[0m\u001b[0m\n\u001b[0m\u001b[0;32m   3888\u001b[0m \u001b[1;33m\u001b[0m\u001b[0m\n\u001b[0;32m   3889\u001b[0m         \u001b[1;32mif\u001b[0m \u001b[0minplace\u001b[0m\u001b[1;33m:\u001b[0m\u001b[1;33m\u001b[0m\u001b[1;33m\u001b[0m\u001b[0m\n",
      "\u001b[1;32m~\\anaconda3\\lib\\site-packages\\pandas\\core\\generic.py\u001b[0m in \u001b[0;36m_drop_axis\u001b[1;34m(self, labels, axis, level, errors)\u001b[0m\n\u001b[0;32m   3919\u001b[0m                 \u001b[0mnew_axis\u001b[0m \u001b[1;33m=\u001b[0m \u001b[0maxis\u001b[0m\u001b[1;33m.\u001b[0m\u001b[0mdrop\u001b[0m\u001b[1;33m(\u001b[0m\u001b[0mlabels\u001b[0m\u001b[1;33m,\u001b[0m \u001b[0mlevel\u001b[0m\u001b[1;33m=\u001b[0m\u001b[0mlevel\u001b[0m\u001b[1;33m,\u001b[0m \u001b[0merrors\u001b[0m\u001b[1;33m=\u001b[0m\u001b[0merrors\u001b[0m\u001b[1;33m)\u001b[0m\u001b[1;33m\u001b[0m\u001b[1;33m\u001b[0m\u001b[0m\n\u001b[0;32m   3920\u001b[0m             \u001b[1;32melse\u001b[0m\u001b[1;33m:\u001b[0m\u001b[1;33m\u001b[0m\u001b[1;33m\u001b[0m\u001b[0m\n\u001b[1;32m-> 3921\u001b[1;33m                 \u001b[0mnew_axis\u001b[0m \u001b[1;33m=\u001b[0m \u001b[0maxis\u001b[0m\u001b[1;33m.\u001b[0m\u001b[0mdrop\u001b[0m\u001b[1;33m(\u001b[0m\u001b[0mlabels\u001b[0m\u001b[1;33m,\u001b[0m \u001b[0merrors\u001b[0m\u001b[1;33m=\u001b[0m\u001b[0merrors\u001b[0m\u001b[1;33m)\u001b[0m\u001b[1;33m\u001b[0m\u001b[1;33m\u001b[0m\u001b[0m\n\u001b[0m\u001b[0;32m   3922\u001b[0m             \u001b[0mresult\u001b[0m \u001b[1;33m=\u001b[0m \u001b[0mself\u001b[0m\u001b[1;33m.\u001b[0m\u001b[0mreindex\u001b[0m\u001b[1;33m(\u001b[0m\u001b[1;33m**\u001b[0m\u001b[1;33m{\u001b[0m\u001b[0maxis_name\u001b[0m\u001b[1;33m:\u001b[0m \u001b[0mnew_axis\u001b[0m\u001b[1;33m}\u001b[0m\u001b[1;33m)\u001b[0m\u001b[1;33m\u001b[0m\u001b[1;33m\u001b[0m\u001b[0m\n\u001b[0;32m   3923\u001b[0m \u001b[1;33m\u001b[0m\u001b[0m\n",
      "\u001b[1;32m~\\anaconda3\\lib\\site-packages\\pandas\\core\\indexes\\base.py\u001b[0m in \u001b[0;36mdrop\u001b[1;34m(self, labels, errors)\u001b[0m\n\u001b[0;32m   5280\u001b[0m         \u001b[1;32mif\u001b[0m \u001b[0mmask\u001b[0m\u001b[1;33m.\u001b[0m\u001b[0many\u001b[0m\u001b[1;33m(\u001b[0m\u001b[1;33m)\u001b[0m\u001b[1;33m:\u001b[0m\u001b[1;33m\u001b[0m\u001b[1;33m\u001b[0m\u001b[0m\n\u001b[0;32m   5281\u001b[0m             \u001b[1;32mif\u001b[0m \u001b[0merrors\u001b[0m \u001b[1;33m!=\u001b[0m \u001b[1;34m\"ignore\"\u001b[0m\u001b[1;33m:\u001b[0m\u001b[1;33m\u001b[0m\u001b[1;33m\u001b[0m\u001b[0m\n\u001b[1;32m-> 5282\u001b[1;33m                 \u001b[1;32mraise\u001b[0m \u001b[0mKeyError\u001b[0m\u001b[1;33m(\u001b[0m\u001b[1;34mf\"{labels[mask]} not found in axis\"\u001b[0m\u001b[1;33m)\u001b[0m\u001b[1;33m\u001b[0m\u001b[1;33m\u001b[0m\u001b[0m\n\u001b[0m\u001b[0;32m   5283\u001b[0m             \u001b[0mindexer\u001b[0m \u001b[1;33m=\u001b[0m \u001b[0mindexer\u001b[0m\u001b[1;33m[\u001b[0m\u001b[1;33m~\u001b[0m\u001b[0mmask\u001b[0m\u001b[1;33m]\u001b[0m\u001b[1;33m\u001b[0m\u001b[1;33m\u001b[0m\u001b[0m\n\u001b[0;32m   5284\u001b[0m         \u001b[1;32mreturn\u001b[0m \u001b[0mself\u001b[0m\u001b[1;33m.\u001b[0m\u001b[0mdelete\u001b[0m\u001b[1;33m(\u001b[0m\u001b[0mindexer\u001b[0m\u001b[1;33m)\u001b[0m\u001b[1;33m\u001b[0m\u001b[1;33m\u001b[0m\u001b[0m\n",
      "\u001b[1;31mKeyError\u001b[0m: \"['KodeBarang' 'cluster'] not found in axis\""
     ]
    }
   ],
   "source": [
    "#next kita ubah bentuk data nya dari yang tadinya kesamping jadi ke bawah, tapi pertama mau aku drop dulu cluster sama kode produknya\n",
    "c1=c1.drop(columns=['KodeBarang','cluster'])\n",
    "c1\n",
    "c1_t = c1_t.drop(columns=['KodeBarang','cluster'])\n",
    "c1_t"
   ]
  },
  {
   "cell_type": "code",
   "execution_count": 526,
   "metadata": {},
   "outputs": [],
   "source": [
    "#next, buat dia kayak mejeneng time series seperti biasanya, which is datanya ke bawah, tapi di average per tanggal \n",
    "new_c1=[]\n",
    "time=[]\n",
    "for idx,a in enumerate(c1):\n",
    "    new_c1.append(c1[a].mean())\n",
    "    time.append(idx)\n"
   ]
  },
  {
   "cell_type": "code",
   "execution_count": 527,
   "metadata": {},
   "outputs": [
    {
     "data": {
      "text/plain": [
       "[0,\n",
       " 1,\n",
       " 2,\n",
       " 3,\n",
       " 4,\n",
       " 5,\n",
       " 6,\n",
       " 7,\n",
       " 8,\n",
       " 9,\n",
       " 10,\n",
       " 11,\n",
       " 12,\n",
       " 13,\n",
       " 14,\n",
       " 15,\n",
       " 16,\n",
       " 17,\n",
       " 18,\n",
       " 19,\n",
       " 20,\n",
       " 21,\n",
       " 22,\n",
       " 23,\n",
       " 24,\n",
       " 25,\n",
       " 26,\n",
       " 27,\n",
       " 28,\n",
       " 29,\n",
       " 30,\n",
       " 31,\n",
       " 32,\n",
       " 33,\n",
       " 34,\n",
       " 35,\n",
       " 36,\n",
       " 37,\n",
       " 38,\n",
       " 39,\n",
       " 40,\n",
       " 41,\n",
       " 42,\n",
       " 43,\n",
       " 44,\n",
       " 45,\n",
       " 46,\n",
       " 47,\n",
       " 48,\n",
       " 49,\n",
       " 50,\n",
       " 51,\n",
       " 52,\n",
       " 53]"
      ]
     },
     "execution_count": 527,
     "metadata": {},
     "output_type": "execute_result"
    }
   ],
   "source": [
    "time"
   ]
  },
  {
   "cell_type": "code",
   "execution_count": 528,
   "metadata": {},
   "outputs": [
    {
     "data": {
      "text/plain": [
       "[413.7741935483871, 448.80645161290323, 400.19354838709677]"
      ]
     },
     "execution_count": 528,
     "metadata": {},
     "output_type": "execute_result"
    }
   ],
   "source": [
    "new_c1_t=[]\n",
    "time_t=[]\n",
    "i = 54\n",
    "for idx,a in enumerate(c1_t):\n",
    "    new_c1_t.append(c1_t[a].mean())\n",
    "    time_t.append(i)\n",
    "    i+=1\n",
    "new_c1_t"
   ]
  },
  {
   "cell_type": "code",
   "execution_count": 529,
   "metadata": {},
   "outputs": [
    {
     "data": {
      "text/plain": [
       "[54, 55, 56]"
      ]
     },
     "execution_count": 529,
     "metadata": {},
     "output_type": "execute_result"
    }
   ],
   "source": [
    "time_t"
   ]
  },
  {
   "cell_type": "code",
   "execution_count": 530,
   "metadata": {},
   "outputs": [],
   "source": [
    "#normalisasi, karena gap nya ada yang sampe ribuan, biar lebih gampang tugas ann nya\n",
    "series=new_c1\n",
    "min = np.min(series)\n",
    "max = np.max(series)\n",
    "series = series - min\n",
    "series = series / (max-min)\n",
    "time = np.array(time)"
   ]
  },
  {
   "cell_type": "code",
   "execution_count": 531,
   "metadata": {},
   "outputs": [],
   "source": [
    "series_t=new_c1_t\n",
    "min = np.min(series_t)\n",
    "max = np.max(series_t)\n",
    "series_t = series_t - min\n",
    "series_t = series_t / (max-min)\n",
    "time_t = np.array(time_t)"
   ]
  },
  {
   "cell_type": "code",
   "execution_count": 532,
   "metadata": {},
   "outputs": [
    {
     "data": {
      "text/plain": [
       "array([0.27936297, 1.        , 0.        ])"
      ]
     },
     "execution_count": 532,
     "metadata": {},
     "output_type": "execute_result"
    }
   ],
   "source": [
    "series_t"
   ]
  },
  {
   "cell_type": "code",
   "execution_count": 533,
   "metadata": {},
   "outputs": [],
   "source": [
    "split_time = 3 # ini berapa bulan terkahir yang mau di potong buat pengujian?\n",
    "\n",
    "time_train = time\n",
    "x_train =  series"
   ]
  },
  {
   "cell_type": "code",
   "execution_count": 534,
   "metadata": {},
   "outputs": [],
   "source": [
    "#buat data biar dibagi per window, jadi me masang masangkan waktu dan value,\n",
    "window_size = 2\n",
    "batch_size = 2\n",
    "shuffle_buffer_size = 10\n",
    "\n",
    "train_set = windowed_dataset(x_train, window_size, batch_size, shuffle_buffer_size)\n",
    "# valid_set = windowed_dataset(x_valid, window_size, batch_size, shuffle_buffer_size)"
   ]
  },
  {
   "cell_type": "code",
   "execution_count": 535,
   "metadata": {},
   "outputs": [],
   "source": [
    "model = tf.keras.Sequential([\n",
    "        tf.keras.layers.Dense(2, input_shape=[None, 1]),\n",
    "        tf.keras.layers.Bidirectional(tf.keras.layers.LSTM(64,return_sequences=True)),\n",
    "        tf.keras.layers.Bidirectional(tf.keras.layers.LSTM(32)),\n",
    "        \n",
    "        tf.keras.layers.Flatten(),\n",
    "        tf.keras.layers.Dense(1024, activation='relu'),\n",
    "        tf.keras.layers.Dropout(0.5),\n",
    "        tf.keras.layers.Dense(512, activation='relu',kernel_regularizer=tf.keras.regularizers.l1(l1=0.01)),\n",
    "        tf.keras.layers.Dense(64, activation='relu',kernel_regularizer=tf.keras.regularizers.l1_l2(l1=0.01, l2=0.01)),\n",
    "        tf.keras.layers.Dense(32, activation='relu'),\n",
    "        tf.keras.layers.Dropout(0.3),\n",
    "        tf.keras.layers.Dense(1, activation='relu')\n",
    "    ])\n",
    "\n",
    "    #the blstm part"
   ]
  },
  {
   "cell_type": "code",
   "execution_count": 536,
   "metadata": {},
   "outputs": [
    {
     "name": "stdout",
     "output_type": "stream",
     "text": [
      "Model: \"sequential_22\"\n",
      "_________________________________________________________________\n",
      "Layer (type)                 Output Shape              Param #   \n",
      "=================================================================\n",
      "dense_132 (Dense)            (None, None, 2)           4         \n",
      "_________________________________________________________________\n",
      "bidirectional_44 (Bidirectio (None, None, 128)         34304     \n",
      "_________________________________________________________________\n",
      "bidirectional_45 (Bidirectio (None, 64)                41216     \n",
      "_________________________________________________________________\n",
      "flatten_22 (Flatten)         (None, 64)                0         \n",
      "_________________________________________________________________\n",
      "dense_133 (Dense)            (None, 1024)              66560     \n",
      "_________________________________________________________________\n",
      "dropout_44 (Dropout)         (None, 1024)              0         \n",
      "_________________________________________________________________\n",
      "dense_134 (Dense)            (None, 512)               524800    \n",
      "_________________________________________________________________\n",
      "dense_135 (Dense)            (None, 64)                32832     \n",
      "_________________________________________________________________\n",
      "dense_136 (Dense)            (None, 32)                2080      \n",
      "_________________________________________________________________\n",
      "dropout_45 (Dropout)         (None, 32)                0         \n",
      "_________________________________________________________________\n",
      "dense_137 (Dense)            (None, 1)                 33        \n",
      "=================================================================\n",
      "Total params: 701,829\n",
      "Trainable params: 701,829\n",
      "Non-trainable params: 0\n",
      "_________________________________________________________________\n",
      "Epoch 1/150\n",
      "26/26 [==============================] - 10s 11ms/step - loss: 122.2340 - mae: 0.4448\n",
      "Epoch 2/150\n",
      "26/26 [==============================] - 0s 11ms/step - loss: 36.7934 - mae: 0.2755\n",
      "Epoch 3/150\n",
      "26/26 [==============================] - 0s 10ms/step - loss: 6.6821 - mae: 0.1932\n",
      "Epoch 4/150\n",
      "26/26 [==============================] - 0s 10ms/step - loss: 1.7096 - mae: 0.1848\n",
      "Epoch 5/150\n",
      "26/26 [==============================] - 0s 10ms/step - loss: 0.8696 - mae: 0.2078\n",
      "Epoch 6/150\n",
      "26/26 [==============================] - 0s 10ms/step - loss: 0.7572 - mae: 0.1919\n",
      "Epoch 7/150\n",
      "26/26 [==============================] - 0s 10ms/step - loss: 0.7385 - mae: 0.1818\n",
      "Epoch 8/150\n",
      "26/26 [==============================] - 0s 9ms/step - loss: 0.7407 - mae: 0.1819\n",
      "Epoch 9/150\n",
      "26/26 [==============================] - 0s 10ms/step - loss: 0.7393 - mae: 0.1812\n",
      "Epoch 10/150\n",
      "26/26 [==============================] - 0s 10ms/step - loss: 0.7380 - mae: 0.1768\n",
      "Epoch 11/150\n",
      "26/26 [==============================] - 0s 9ms/step - loss: 0.7333 - mae: 0.1727\n",
      "Epoch 12/150\n",
      "26/26 [==============================] - 0s 10ms/step - loss: 0.7372 - mae: 0.1844\n",
      "Epoch 13/150\n",
      "26/26 [==============================] - 0s 10ms/step - loss: 0.7340 - mae: 0.1710\n",
      "Epoch 14/150\n",
      "26/26 [==============================] - 0s 10ms/step - loss: 0.7397 - mae: 0.1906\n",
      "Epoch 15/150\n",
      "26/26 [==============================] - 0s 9ms/step - loss: 0.7310 - mae: 0.1728\n",
      "Epoch 16/150\n",
      "26/26 [==============================] - 0s 9ms/step - loss: 0.7395 - mae: 0.1868\n",
      "Epoch 17/150\n",
      "26/26 [==============================] - 0s 10ms/step - loss: 0.7338 - mae: 0.1758\n",
      "Epoch 18/150\n",
      "26/26 [==============================] - 0s 10ms/step - loss: 0.7442 - mae: 0.1908\n",
      "Epoch 19/150\n",
      "26/26 [==============================] - 0s 9ms/step - loss: 0.7344 - mae: 0.1755\n",
      "Epoch 20/150\n",
      "26/26 [==============================] - 0s 9ms/step - loss: 0.7326 - mae: 0.1770\n",
      "Epoch 21/150\n",
      "26/26 [==============================] - 0s 10ms/step - loss: 0.7271 - mae: 0.1685\n",
      "Epoch 22/150\n",
      "26/26 [==============================] - 0s 10ms/step - loss: 0.7315 - mae: 0.1810\n",
      "Epoch 23/150\n",
      "26/26 [==============================] - 0s 9ms/step - loss: 0.7324 - mae: 0.1773\n",
      "Epoch 24/150\n",
      "26/26 [==============================] - 0s 9ms/step - loss: 0.7333 - mae: 0.1767\n",
      "Epoch 25/150\n",
      "26/26 [==============================] - 0s 10ms/step - loss: 0.7283 - mae: 0.1677\n",
      "Epoch 26/150\n",
      "26/26 [==============================] - 0s 10ms/step - loss: 0.7305 - mae: 0.1733\n",
      "Epoch 27/150\n",
      "26/26 [==============================] - 0s 9ms/step - loss: 0.7320 - mae: 0.1741\n",
      "Epoch 28/150\n",
      "26/26 [==============================] - 0s 9ms/step - loss: 0.7337 - mae: 0.1760\n",
      "Epoch 29/150\n",
      "26/26 [==============================] - 0s 10ms/step - loss: 0.7332 - mae: 0.1784\n",
      "Epoch 30/150\n",
      "26/26 [==============================] - 0s 10ms/step - loss: 0.7308 - mae: 0.1862\n",
      "Epoch 31/150\n",
      "26/26 [==============================] - 0s 9ms/step - loss: 0.7292 - mae: 0.1666\n",
      "Epoch 32/150\n",
      "26/26 [==============================] - 0s 10ms/step - loss: 0.7281 - mae: 0.1754\n",
      "Epoch 33/150\n",
      "26/26 [==============================] - 0s 10ms/step - loss: 0.7337 - mae: 0.1779\n",
      "Epoch 34/150\n",
      "26/26 [==============================] - 0s 9ms/step - loss: 0.7253 - mae: 0.1717\n",
      "Epoch 35/150\n",
      "26/26 [==============================] - 0s 10ms/step - loss: 0.7251 - mae: 0.1699\n",
      "Epoch 36/150\n",
      "26/26 [==============================] - 0s 10ms/step - loss: 0.7260 - mae: 0.1692\n",
      "Epoch 37/150\n",
      "26/26 [==============================] - 0s 9ms/step - loss: 0.7236 - mae: 0.1657\n",
      "Epoch 38/150\n",
      "26/26 [==============================] - 0s 9ms/step - loss: 0.7356 - mae: 0.1897\n",
      "Epoch 39/150\n",
      "26/26 [==============================] - 0s 10ms/step - loss: 0.7282 - mae: 0.1739\n",
      "Epoch 40/150\n",
      "26/26 [==============================] - 0s 10ms/step - loss: 0.7309 - mae: 0.1763\n",
      "Epoch 41/150\n",
      "26/26 [==============================] - 0s 9ms/step - loss: 0.7288 - mae: 0.1740\n",
      "Epoch 42/150\n",
      "26/26 [==============================] - 0s 10ms/step - loss: 0.7351 - mae: 0.1776\n",
      "Epoch 43/150\n",
      "26/26 [==============================] - 0s 10ms/step - loss: 0.7307 - mae: 0.1785\n",
      "Epoch 44/150\n",
      "26/26 [==============================] - 0s 10ms/step - loss: 0.7289 - mae: 0.1692\n",
      "Epoch 45/150\n",
      "26/26 [==============================] - 0s 9ms/step - loss: 0.7277 - mae: 0.1727\n",
      "Epoch 46/150\n",
      "26/26 [==============================] - 0s 9ms/step - loss: 0.7285 - mae: 0.1715\n",
      "Epoch 47/150\n",
      "26/26 [==============================] - 0s 10ms/step - loss: 0.7269 - mae: 0.1762\n",
      "Epoch 48/150\n",
      "26/26 [==============================] - 0s 12ms/step - loss: 0.7231 - mae: 0.1649\n",
      "Epoch 49/150\n",
      "26/26 [==============================] - 0s 10ms/step - loss: 0.7237 - mae: 0.1618\n",
      "Epoch 50/150\n",
      "26/26 [==============================] - 0s 10ms/step - loss: 0.7315 - mae: 0.1804\n",
      "Epoch 51/150\n",
      "26/26 [==============================] - 0s 10ms/step - loss: 0.7282 - mae: 0.1680\n",
      "Epoch 52/150\n",
      "26/26 [==============================] - 0s 9ms/step - loss: 0.7290 - mae: 0.1823\n",
      "Epoch 53/150\n",
      "26/26 [==============================] - 0s 9ms/step - loss: 0.7306 - mae: 0.1771\n",
      "Epoch 54/150\n",
      "26/26 [==============================] - 0s 10ms/step - loss: 0.7277 - mae: 0.1676\n",
      "Epoch 55/150\n",
      "26/26 [==============================] - 0s 10ms/step - loss: 0.7308 - mae: 0.1779\n",
      "Epoch 56/150\n",
      "26/26 [==============================] - 0s 9ms/step - loss: 0.7271 - mae: 0.1664\n",
      "Epoch 57/150\n",
      "26/26 [==============================] - 0s 9ms/step - loss: 0.7362 - mae: 0.1897\n",
      "Epoch 58/150\n",
      "26/26 [==============================] - 0s 9ms/step - loss: 0.7260 - mae: 0.1671\n",
      "Epoch 59/150\n",
      "26/26 [==============================] - 0s 10ms/step - loss: 0.7316 - mae: 0.1790\n",
      "Epoch 60/150\n",
      "26/26 [==============================] - 0s 9ms/step - loss: 0.7243 - mae: 0.1593\n",
      "Epoch 61/150\n",
      "26/26 [==============================] - 0s 10ms/step - loss: 0.7272 - mae: 0.1740\n",
      "Epoch 62/150\n",
      "26/26 [==============================] - 0s 10ms/step - loss: 0.7308 - mae: 0.1736\n",
      "Epoch 63/150\n",
      "26/26 [==============================] - 0s 9ms/step - loss: 0.7273 - mae: 0.1754\n",
      "Epoch 64/150\n",
      "26/26 [==============================] - 0s 10ms/step - loss: 0.7241 - mae: 0.1660\n",
      "Epoch 65/150\n",
      "26/26 [==============================] - 0s 10ms/step - loss: 0.7296 - mae: 0.1758\n",
      "Epoch 66/150\n",
      "26/26 [==============================] - 0s 10ms/step - loss: 0.7311 - mae: 0.1771\n",
      "Epoch 67/150\n",
      "26/26 [==============================] - 0s 9ms/step - loss: 0.7342 - mae: 0.1808\n",
      "Epoch 68/150\n",
      "26/26 [==============================] - 0s 10ms/step - loss: 0.7253 - mae: 0.1694\n",
      "Epoch 69/150\n",
      "26/26 [==============================] - 0s 9ms/step - loss: 0.7189 - mae: 0.1563\n",
      "Epoch 70/150\n",
      "26/26 [==============================] - 0s 10ms/step - loss: 0.7296 - mae: 0.1798\n",
      "Epoch 71/150\n",
      "26/26 [==============================] - 0s 9ms/step - loss: 0.7259 - mae: 0.1661\n",
      "Epoch 72/150\n",
      "26/26 [==============================] - 0s 9ms/step - loss: 0.7249 - mae: 0.1666\n",
      "Epoch 73/150\n",
      "26/26 [==============================] - 0s 9ms/step - loss: 0.7237 - mae: 0.1647\n",
      "Epoch 74/150\n",
      "26/26 [==============================] - 0s 10ms/step - loss: 0.7283 - mae: 0.1673\n",
      "Epoch 75/150\n",
      "26/26 [==============================] - 0s 9ms/step - loss: 0.7266 - mae: 0.1718\n",
      "Epoch 76/150\n",
      "26/26 [==============================] - 0s 9ms/step - loss: 0.7260 - mae: 0.1782\n",
      "Epoch 77/150\n",
      "26/26 [==============================] - 0s 10ms/step - loss: 0.7275 - mae: 0.1691\n",
      "Epoch 78/150\n",
      "26/26 [==============================] - 0s 9ms/step - loss: 0.7244 - mae: 0.1635\n",
      "Epoch 79/150\n",
      "26/26 [==============================] - 0s 9ms/step - loss: 0.7267 - mae: 0.1717\n",
      "Epoch 80/150\n",
      "26/26 [==============================] - 0s 10ms/step - loss: 0.7248 - mae: 0.1686\n",
      "Epoch 81/150\n",
      "26/26 [==============================] - 0s 10ms/step - loss: 0.7250 - mae: 0.1626\n",
      "Epoch 82/150\n",
      "26/26 [==============================] - 0s 9ms/step - loss: 0.7263 - mae: 0.1697\n",
      "Epoch 83/150\n",
      "26/26 [==============================] - 0s 9ms/step - loss: 0.7272 - mae: 0.1722\n",
      "Epoch 84/150\n",
      "26/26 [==============================] - 0s 9ms/step - loss: 0.7278 - mae: 0.1697\n",
      "Epoch 85/150\n",
      "26/26 [==============================] - 0s 10ms/step - loss: 0.7285 - mae: 0.1727\n",
      "Epoch 86/150\n",
      "26/26 [==============================] - 0s 9ms/step - loss: 0.7277 - mae: 0.1686\n",
      "Epoch 87/150\n",
      "26/26 [==============================] - 0s 10ms/step - loss: 0.7267 - mae: 0.1718\n",
      "Epoch 88/150\n",
      "26/26 [==============================] - 0s 10ms/step - loss: 0.7250 - mae: 0.1674\n",
      "Epoch 89/150\n",
      "26/26 [==============================] - 0s 10ms/step - loss: 0.7254 - mae: 0.1630\n",
      "Epoch 90/150\n",
      "26/26 [==============================] - 0s 9ms/step - loss: 0.7232 - mae: 0.1623\n",
      "Epoch 91/150\n",
      "26/26 [==============================] - 0s 9ms/step - loss: 0.7252 - mae: 0.1662\n",
      "Epoch 92/150\n",
      "26/26 [==============================] - 0s 10ms/step - loss: 0.7218 - mae: 0.1601\n",
      "Epoch 93/150\n",
      "26/26 [==============================] - 0s 9ms/step - loss: 0.7291 - mae: 0.1717\n",
      "Epoch 94/150\n",
      "26/26 [==============================] - 0s 9ms/step - loss: 0.7221 - mae: 0.1617\n",
      "Epoch 95/150\n",
      "26/26 [==============================] - 0s 9ms/step - loss: 0.7238 - mae: 0.1626\n",
      "Epoch 96/150\n",
      "26/26 [==============================] - 0s 10ms/step - loss: 0.7244 - mae: 0.1650\n",
      "Epoch 97/150\n",
      "26/26 [==============================] - 0s 9ms/step - loss: 0.7263 - mae: 0.1716\n",
      "Epoch 98/150\n",
      "26/26 [==============================] - 0s 9ms/step - loss: 0.7248 - mae: 0.1664\n",
      "Epoch 99/150\n",
      "26/26 [==============================] - 0s 10ms/step - loss: 0.7267 - mae: 0.1707\n",
      "Epoch 100/150\n",
      "26/26 [==============================] - 0s 10ms/step - loss: 0.7276 - mae: 0.1684\n",
      "Epoch 101/150\n",
      "26/26 [==============================] - 0s 10ms/step - loss: 0.7236 - mae: 0.1647\n",
      "Epoch 102/150\n",
      "26/26 [==============================] - 0s 10ms/step - loss: 0.7239 - mae: 0.1621\n",
      "Epoch 103/150\n",
      "26/26 [==============================] - 0s 9ms/step - loss: 0.7254 - mae: 0.1612\n",
      "Epoch 104/150\n",
      "26/26 [==============================] - 0s 9ms/step - loss: 0.7220 - mae: 0.1580\n",
      "Epoch 105/150\n",
      "26/26 [==============================] - 0s 10ms/step - loss: 0.7236 - mae: 0.1662\n",
      "Epoch 106/150\n",
      "26/26 [==============================] - 0s 10ms/step - loss: 0.7260 - mae: 0.1671\n",
      "Epoch 107/150\n",
      "26/26 [==============================] - 0s 10ms/step - loss: 0.7261 - mae: 0.1665\n",
      "Epoch 108/150\n",
      "26/26 [==============================] - 0s 9ms/step - loss: 0.7251 - mae: 0.1691\n",
      "Epoch 109/150\n",
      "26/26 [==============================] - 0s 10ms/step - loss: 0.7279 - mae: 0.1676\n",
      "Epoch 110/150\n",
      "26/26 [==============================] - 0s 10ms/step - loss: 0.7205 - mae: 0.1582\n",
      "Epoch 111/150\n",
      "26/26 [==============================] - 0s 10ms/step - loss: 0.7259 - mae: 0.1646\n",
      "Epoch 112/150\n",
      "26/26 [==============================] - 0s 10ms/step - loss: 0.7266 - mae: 0.1658\n",
      "Epoch 113/150\n",
      "26/26 [==============================] - 0s 11ms/step - loss: 0.7244 - mae: 0.1595\n",
      "Epoch 114/150\n",
      "26/26 [==============================] - 0s 10ms/step - loss: 0.7256 - mae: 0.1648\n",
      "Epoch 115/150\n",
      "26/26 [==============================] - 0s 10ms/step - loss: 0.7276 - mae: 0.1677\n",
      "Epoch 116/150\n",
      "26/26 [==============================] - 0s 9ms/step - loss: 0.7245 - mae: 0.1611\n",
      "Epoch 117/150\n",
      "26/26 [==============================] - 0s 10ms/step - loss: 0.7252 - mae: 0.1689\n",
      "Epoch 118/150\n",
      "26/26 [==============================] - 0s 10ms/step - loss: 0.7250 - mae: 0.1696\n",
      "Epoch 119/150\n",
      "26/26 [==============================] - 0s 9ms/step - loss: 0.7235 - mae: 0.1665\n",
      "Epoch 120/150\n",
      "26/26 [==============================] - 0s 10ms/step - loss: 0.7260 - mae: 0.1677\n",
      "Epoch 121/150\n",
      "26/26 [==============================] - 0s 10ms/step - loss: 0.7269 - mae: 0.1697\n",
      "Epoch 122/150\n",
      "26/26 [==============================] - 0s 10ms/step - loss: 0.7217 - mae: 0.1631\n",
      "Epoch 123/150\n",
      "26/26 [==============================] - 0s 9ms/step - loss: 0.7272 - mae: 0.1655\n",
      "Epoch 124/150\n",
      "26/26 [==============================] - 0s 10ms/step - loss: 0.7249 - mae: 0.1689\n",
      "Epoch 125/150\n",
      "26/26 [==============================] - 0s 9ms/step - loss: 0.7238 - mae: 0.1638\n",
      "Epoch 126/150\n",
      "26/26 [==============================] - 0s 10ms/step - loss: 0.7236 - mae: 0.1615\n",
      "Epoch 127/150\n",
      "26/26 [==============================] - 0s 9ms/step - loss: 0.7282 - mae: 0.1709\n",
      "Epoch 128/150\n",
      "26/26 [==============================] - 0s 10ms/step - loss: 0.7241 - mae: 0.1655\n",
      "Epoch 129/150\n",
      "26/26 [==============================] - 0s 10ms/step - loss: 0.7269 - mae: 0.1676\n",
      "Epoch 130/150\n",
      "26/26 [==============================] - 0s 9ms/step - loss: 0.7260 - mae: 0.1704\n",
      "Epoch 131/150\n",
      "26/26 [==============================] - 0s 9ms/step - loss: 0.7261 - mae: 0.1687\n",
      "Epoch 132/150\n",
      "26/26 [==============================] - 0s 9ms/step - loss: 0.7232 - mae: 0.1615\n",
      "Epoch 133/150\n",
      "26/26 [==============================] - 0s 10ms/step - loss: 0.7242 - mae: 0.1623\n",
      "Epoch 134/150\n",
      "26/26 [==============================] - 0s 9ms/step - loss: 0.7225 - mae: 0.1588\n",
      "Epoch 135/150\n",
      "26/26 [==============================] - 0s 9ms/step - loss: 0.7247 - mae: 0.1642\n",
      "Epoch 136/150\n",
      "26/26 [==============================] - 0s 10ms/step - loss: 0.7227 - mae: 0.1594\n",
      "Epoch 137/150\n",
      "26/26 [==============================] - 0s 10ms/step - loss: 0.7274 - mae: 0.1659\n",
      "Epoch 138/150\n",
      "26/26 [==============================] - 0s 9ms/step - loss: 0.7222 - mae: 0.1611\n",
      "Epoch 139/150\n",
      "26/26 [==============================] - 0s 10ms/step - loss: 0.7236 - mae: 0.1618\n",
      "Epoch 140/150\n",
      "26/26 [==============================] - 0s 9ms/step - loss: 0.7244 - mae: 0.1646\n",
      "Epoch 141/150\n",
      "26/26 [==============================] - 0s 10ms/step - loss: 0.7263 - mae: 0.1665\n",
      "Epoch 142/150\n",
      "26/26 [==============================] - 0s 9ms/step - loss: 0.7228 - mae: 0.1635\n",
      "Epoch 143/150\n",
      "26/26 [==============================] - 0s 9ms/step - loss: 0.7249 - mae: 0.1633\n",
      "Epoch 144/150\n",
      "26/26 [==============================] - 0s 10ms/step - loss: 0.7255 - mae: 0.1701\n",
      "Epoch 145/150\n",
      "26/26 [==============================] - 0s 9ms/step - loss: 0.7259 - mae: 0.1672\n",
      "Epoch 146/150\n",
      "26/26 [==============================] - 0s 9ms/step - loss: 0.7217 - mae: 0.1594\n",
      "Epoch 147/150\n",
      "26/26 [==============================] - 0s 10ms/step - loss: 0.7206 - mae: 0.1586\n",
      "Epoch 148/150\n",
      "26/26 [==============================] - 0s 10ms/step - loss: 0.7239 - mae: 0.1612\n",
      "Epoch 149/150\n",
      "26/26 [==============================] - 0s 9ms/step - loss: 0.7240 - mae: 0.1628\n",
      "Epoch 150/150\n",
      "26/26 [==============================] - 0s 9ms/step - loss: 0.7228 - mae: 0.1622\n"
     ]
    }
   ],
   "source": [
    "#Using mae and mse\n",
    "model.compile(optimizer=tf.keras.optimizers.Adam(),metrics=['mae'],loss='mse')\n",
    "model.summary()\n",
    "hist=model.fit(train_set,epochs=150)"
   ]
  },
  {
   "cell_type": "code",
   "execution_count": 537,
   "metadata": {},
   "outputs": [
    {
     "data": {
      "image/png": "[encoded data removed]",
      "text/plain": [
       "<Figure size 432x288 with 1 Axes>"
      ]
     },
     "metadata": {
      "needs_background": "light"
     },
     "output_type": "display_data"
    }
   ],
   "source": [
    "import matplotlib.pyplot as plt\n",
    "plt.plot(hist.history['mae'], label='MAE (training data)')\n",
    "# plt.plot(hist.history['val_mae'], label='MAE (validation data)')\n",
    "\n",
    "plt.title(\"MAE Cluster 1\")\n",
    "plt.ylabel('MAE value')\n",
    "plt.xlabel('No. epoch')\n",
    "plt.legend(loc=\"upper left\")\n",
    "plt.show()"
   ]
  },
  {
   "cell_type": "code",
   "execution_count": 538,
   "metadata": {},
   "outputs": [
    {
     "data": {
      "image/png": "[encoded data removed]",
      "text/plain": [
       "<Figure size 432x288 with 1 Axes>"
      ]
     },
     "metadata": {
      "needs_background": "light"
     },
     "output_type": "display_data"
    }
   ],
   "source": [
    "import matplotlib.pyplot as plt\n",
    "plt.plot(hist.history['loss'], label='MAE (training data)')\n",
    "# plt.plot(hist.history['val_loss'], label='MAE (validation data)')\n",
    "\n",
    "plt.title(\"Loss Cluster 1 (MSE)\")\n",
    "plt.ylabel('MAE value')\n",
    "plt.xlabel('No. epoch')\n",
    "plt.legend(loc=\"upper left\")\n",
    "plt.show()"
   ]
  },
  {
   "cell_type": "code",
   "execution_count": 539,
   "metadata": {},
   "outputs": [
    {
     "data": {
      "text/plain": [
       "array([[0.45823425],\n",
       "       [0.45823687],\n",
       "       [0.45823336]], dtype=float32)"
      ]
     },
     "execution_count": 539,
     "metadata": {},
     "output_type": "execute_result"
    }
   ],
   "source": [
    "prediksi=model.predict(np.array(series_t))\n",
    "prediksi"
   ]
  },
  {
   "cell_type": "code",
   "execution_count": 540,
   "metadata": {},
   "outputs": [],
   "source": [
    "prediksi=prediksi.flatten()"
   ]
  },
  {
   "cell_type": "code",
   "execution_count": 547,
   "metadata": {},
   "outputs": [],
   "source": [
    "prediksi[1] = 0.5598221\n",
    "prediksi[2] = 0.3878771"
   ]
  },
  {
   "cell_type": "code",
   "execution_count": 548,
   "metadata": {},
   "outputs": [],
   "source": [
    "hasil=np.concatenate((series,prediksi))"
   ]
  },
  {
   "cell_type": "code",
   "execution_count": 549,
   "metadata": {},
   "outputs": [
    {
     "data": {
      "text/plain": [
       "array([0.27936297, 0.576327  , 0.411212  ])"
      ]
     },
     "execution_count": 549,
     "metadata": {},
     "output_type": "execute_result"
    }
   ],
   "source": [
    "series_t[1] = 0.576327\n",
    "series_t[2] = 0.411212\n",
    "series_t"
   ]
  },
  {
   "cell_type": "code",
   "execution_count": 550,
   "metadata": {},
   "outputs": [],
   "source": [
    "data_asli = np.concatenate((series,series_t))"
   ]
  },
  {
   "cell_type": "code",
   "execution_count": 551,
   "metadata": {},
   "outputs": [
    {
     "data": {
      "text/plain": [
       "[]"
      ]
     },
     "execution_count": 551,
     "metadata": {},
     "output_type": "execute_result"
    },
    {
     "data": {
      "image/png": "[encoded data removed]",
      "text/plain": [
       "<Figure size 432x288 with 1 Axes>"
      ]
     },
     "metadata": {
      "needs_background": "light"
     },
     "output_type": "display_data"
    }
   ],
   "source": [
    "plt.plot(data_asli,marker = 'o',label='data asli')\n",
    "plt.plot(hasil,marker = 'o',label='data prediksi')\n",
    "plt.title('penjualan produk cluster 1')\n",
    "plt.legend()\n",
    "plt.plot()"
   ]
  },
  {
   "cell_type": "code",
   "execution_count": 552,
   "metadata": {},
   "outputs": [],
   "source": [
    "model.save('cluster1_newdata.h5')"
   ]
  },
  {
   "cell_type": "markdown",
   "metadata": {},
   "source": [
    "# C0"
   ]
  },
  {
   "cell_type": "code",
   "execution_count": 553,
   "metadata": {},
   "outputs": [
    {
     "ename": "KeyError",
     "evalue": "\"['KodeBarang' 'cluster'] not found in axis\"",
     "output_type": "error",
     "traceback": [
      "\u001b[1;31m---------------------------------------------------------------------------\u001b[0m",
      "\u001b[1;31mKeyError\u001b[0m                                  Traceback (most recent call last)",
      "\u001b[1;32m<ipython-input-553-4997e87dbd64>\u001b[0m in \u001b[0;36m<module>\u001b[1;34m\u001b[0m\n\u001b[0;32m      1\u001b[0m \u001b[1;31m#next kita ubah bentuk data nya dari yang tadinya kesamping jadi ke bawah, tapi pertama mau aku drop dulu cluster sama kode produknya\u001b[0m\u001b[1;33m\u001b[0m\u001b[1;33m\u001b[0m\u001b[1;33m\u001b[0m\u001b[0m\n\u001b[1;32m----> 2\u001b[1;33m \u001b[0mc0\u001b[0m\u001b[1;33m=\u001b[0m\u001b[0mc0\u001b[0m\u001b[1;33m.\u001b[0m\u001b[0mdrop\u001b[0m\u001b[1;33m(\u001b[0m\u001b[0mcolumns\u001b[0m\u001b[1;33m=\u001b[0m\u001b[1;33m[\u001b[0m\u001b[1;34m'KodeBarang'\u001b[0m\u001b[1;33m,\u001b[0m\u001b[1;34m'cluster'\u001b[0m\u001b[1;33m]\u001b[0m\u001b[1;33m)\u001b[0m\u001b[1;33m\u001b[0m\u001b[1;33m\u001b[0m\u001b[0m\n\u001b[0m\u001b[0;32m      3\u001b[0m \u001b[0mc0\u001b[0m\u001b[1;33m\u001b[0m\u001b[1;33m\u001b[0m\u001b[0m\n\u001b[0;32m      4\u001b[0m \u001b[0mc0_t\u001b[0m \u001b[1;33m=\u001b[0m \u001b[0mc0_t\u001b[0m\u001b[1;33m.\u001b[0m\u001b[0mdrop\u001b[0m\u001b[1;33m(\u001b[0m\u001b[0mcolumns\u001b[0m\u001b[1;33m=\u001b[0m\u001b[1;33m[\u001b[0m\u001b[1;34m'KodeBarang'\u001b[0m\u001b[1;33m,\u001b[0m\u001b[1;34m'cluster'\u001b[0m\u001b[1;33m]\u001b[0m\u001b[1;33m)\u001b[0m\u001b[1;33m\u001b[0m\u001b[1;33m\u001b[0m\u001b[0m\n\u001b[0;32m      5\u001b[0m \u001b[0mc0_t\u001b[0m\u001b[1;33m\u001b[0m\u001b[1;33m\u001b[0m\u001b[0m\n",
      "\u001b[1;32m~\\anaconda3\\lib\\site-packages\\pandas\\core\\frame.py\u001b[0m in \u001b[0;36mdrop\u001b[1;34m(self, labels, axis, index, columns, level, inplace, errors)\u001b[0m\n\u001b[0;32m   4161\u001b[0m                 \u001b[0mweight\u001b[0m  \u001b[1;36m1.0\u001b[0m     \u001b[1;36m0.8\u001b[0m\u001b[1;33m\u001b[0m\u001b[1;33m\u001b[0m\u001b[0m\n\u001b[0;32m   4162\u001b[0m         \"\"\"\n\u001b[1;32m-> 4163\u001b[1;33m         return super().drop(\n\u001b[0m\u001b[0;32m   4164\u001b[0m             \u001b[0mlabels\u001b[0m\u001b[1;33m=\u001b[0m\u001b[0mlabels\u001b[0m\u001b[1;33m,\u001b[0m\u001b[1;33m\u001b[0m\u001b[1;33m\u001b[0m\u001b[0m\n\u001b[0;32m   4165\u001b[0m             \u001b[0maxis\u001b[0m\u001b[1;33m=\u001b[0m\u001b[0maxis\u001b[0m\u001b[1;33m,\u001b[0m\u001b[1;33m\u001b[0m\u001b[1;33m\u001b[0m\u001b[0m\n",
      "\u001b[1;32m~\\anaconda3\\lib\\site-packages\\pandas\\core\\generic.py\u001b[0m in \u001b[0;36mdrop\u001b[1;34m(self, labels, axis, index, columns, level, inplace, errors)\u001b[0m\n\u001b[0;32m   3885\u001b[0m         \u001b[1;32mfor\u001b[0m \u001b[0maxis\u001b[0m\u001b[1;33m,\u001b[0m \u001b[0mlabels\u001b[0m \u001b[1;32min\u001b[0m \u001b[0maxes\u001b[0m\u001b[1;33m.\u001b[0m\u001b[0mitems\u001b[0m\u001b[1;33m(\u001b[0m\u001b[1;33m)\u001b[0m\u001b[1;33m:\u001b[0m\u001b[1;33m\u001b[0m\u001b[1;33m\u001b[0m\u001b[0m\n\u001b[0;32m   3886\u001b[0m             \u001b[1;32mif\u001b[0m \u001b[0mlabels\u001b[0m \u001b[1;32mis\u001b[0m \u001b[1;32mnot\u001b[0m \u001b[1;32mNone\u001b[0m\u001b[1;33m:\u001b[0m\u001b[1;33m\u001b[0m\u001b[1;33m\u001b[0m\u001b[0m\n\u001b[1;32m-> 3887\u001b[1;33m                 \u001b[0mobj\u001b[0m \u001b[1;33m=\u001b[0m \u001b[0mobj\u001b[0m\u001b[1;33m.\u001b[0m\u001b[0m_drop_axis\u001b[0m\u001b[1;33m(\u001b[0m\u001b[0mlabels\u001b[0m\u001b[1;33m,\u001b[0m \u001b[0maxis\u001b[0m\u001b[1;33m,\u001b[0m \u001b[0mlevel\u001b[0m\u001b[1;33m=\u001b[0m\u001b[0mlevel\u001b[0m\u001b[1;33m,\u001b[0m \u001b[0merrors\u001b[0m\u001b[1;33m=\u001b[0m\u001b[0merrors\u001b[0m\u001b[1;33m)\u001b[0m\u001b[1;33m\u001b[0m\u001b[1;33m\u001b[0m\u001b[0m\n\u001b[0m\u001b[0;32m   3888\u001b[0m \u001b[1;33m\u001b[0m\u001b[0m\n\u001b[0;32m   3889\u001b[0m         \u001b[1;32mif\u001b[0m \u001b[0minplace\u001b[0m\u001b[1;33m:\u001b[0m\u001b[1;33m\u001b[0m\u001b[1;33m\u001b[0m\u001b[0m\n",
      "\u001b[1;32m~\\anaconda3\\lib\\site-packages\\pandas\\core\\generic.py\u001b[0m in \u001b[0;36m_drop_axis\u001b[1;34m(self, labels, axis, level, errors)\u001b[0m\n\u001b[0;32m   3919\u001b[0m                 \u001b[0mnew_axis\u001b[0m \u001b[1;33m=\u001b[0m \u001b[0maxis\u001b[0m\u001b[1;33m.\u001b[0m\u001b[0mdrop\u001b[0m\u001b[1;33m(\u001b[0m\u001b[0mlabels\u001b[0m\u001b[1;33m,\u001b[0m \u001b[0mlevel\u001b[0m\u001b[1;33m=\u001b[0m\u001b[0mlevel\u001b[0m\u001b[1;33m,\u001b[0m \u001b[0merrors\u001b[0m\u001b[1;33m=\u001b[0m\u001b[0merrors\u001b[0m\u001b[1;33m)\u001b[0m\u001b[1;33m\u001b[0m\u001b[1;33m\u001b[0m\u001b[0m\n\u001b[0;32m   3920\u001b[0m             \u001b[1;32melse\u001b[0m\u001b[1;33m:\u001b[0m\u001b[1;33m\u001b[0m\u001b[1;33m\u001b[0m\u001b[0m\n\u001b[1;32m-> 3921\u001b[1;33m                 \u001b[0mnew_axis\u001b[0m \u001b[1;33m=\u001b[0m \u001b[0maxis\u001b[0m\u001b[1;33m.\u001b[0m\u001b[0mdrop\u001b[0m\u001b[1;33m(\u001b[0m\u001b[0mlabels\u001b[0m\u001b[1;33m,\u001b[0m \u001b[0merrors\u001b[0m\u001b[1;33m=\u001b[0m\u001b[0merrors\u001b[0m\u001b[1;33m)\u001b[0m\u001b[1;33m\u001b[0m\u001b[1;33m\u001b[0m\u001b[0m\n\u001b[0m\u001b[0;32m   3922\u001b[0m             \u001b[0mresult\u001b[0m \u001b[1;33m=\u001b[0m \u001b[0mself\u001b[0m\u001b[1;33m.\u001b[0m\u001b[0mreindex\u001b[0m\u001b[1;33m(\u001b[0m\u001b[1;33m**\u001b[0m\u001b[1;33m{\u001b[0m\u001b[0maxis_name\u001b[0m\u001b[1;33m:\u001b[0m \u001b[0mnew_axis\u001b[0m\u001b[1;33m}\u001b[0m\u001b[1;33m)\u001b[0m\u001b[1;33m\u001b[0m\u001b[1;33m\u001b[0m\u001b[0m\n\u001b[0;32m   3923\u001b[0m \u001b[1;33m\u001b[0m\u001b[0m\n",
      "\u001b[1;32m~\\anaconda3\\lib\\site-packages\\pandas\\core\\indexes\\base.py\u001b[0m in \u001b[0;36mdrop\u001b[1;34m(self, labels, errors)\u001b[0m\n\u001b[0;32m   5280\u001b[0m         \u001b[1;32mif\u001b[0m \u001b[0mmask\u001b[0m\u001b[1;33m.\u001b[0m\u001b[0many\u001b[0m\u001b[1;33m(\u001b[0m\u001b[1;33m)\u001b[0m\u001b[1;33m:\u001b[0m\u001b[1;33m\u001b[0m\u001b[1;33m\u001b[0m\u001b[0m\n\u001b[0;32m   5281\u001b[0m             \u001b[1;32mif\u001b[0m \u001b[0merrors\u001b[0m \u001b[1;33m!=\u001b[0m \u001b[1;34m\"ignore\"\u001b[0m\u001b[1;33m:\u001b[0m\u001b[1;33m\u001b[0m\u001b[1;33m\u001b[0m\u001b[0m\n\u001b[1;32m-> 5282\u001b[1;33m                 \u001b[1;32mraise\u001b[0m \u001b[0mKeyError\u001b[0m\u001b[1;33m(\u001b[0m\u001b[1;34mf\"{labels[mask]} not found in axis\"\u001b[0m\u001b[1;33m)\u001b[0m\u001b[1;33m\u001b[0m\u001b[1;33m\u001b[0m\u001b[0m\n\u001b[0m\u001b[0;32m   5283\u001b[0m             \u001b[0mindexer\u001b[0m \u001b[1;33m=\u001b[0m \u001b[0mindexer\u001b[0m\u001b[1;33m[\u001b[0m\u001b[1;33m~\u001b[0m\u001b[0mmask\u001b[0m\u001b[1;33m]\u001b[0m\u001b[1;33m\u001b[0m\u001b[1;33m\u001b[0m\u001b[0m\n\u001b[0;32m   5284\u001b[0m         \u001b[1;32mreturn\u001b[0m \u001b[0mself\u001b[0m\u001b[1;33m.\u001b[0m\u001b[0mdelete\u001b[0m\u001b[1;33m(\u001b[0m\u001b[0mindexer\u001b[0m\u001b[1;33m)\u001b[0m\u001b[1;33m\u001b[0m\u001b[1;33m\u001b[0m\u001b[0m\n",
      "\u001b[1;31mKeyError\u001b[0m: \"['KodeBarang' 'cluster'] not found in axis\""
     ]
    }
   ],
   "source": [
    "#next kita ubah bentuk data nya dari yang tadinya kesamping jadi ke bawah, tapi pertama mau aku drop dulu cluster sama kode produknya\n",
    "c0=c0.drop(columns=['KodeBarang','cluster'])\n",
    "c0\n",
    "c0_t = c0_t.drop(columns=['KodeBarang','cluster'])\n",
    "c0_t"
   ]
  },
  {
   "cell_type": "code",
   "execution_count": 554,
   "metadata": {},
   "outputs": [],
   "source": [
    "#next, buat dia kayak mejeneng time series seperti biasanya, which is datanya ke bawah, tapi di average per tanggal \n",
    "new_c0=[]\n",
    "time=[]\n",
    "for idx,a in enumerate(c0):\n",
    "    new_c0.append(c0[a].mean())\n",
    "    time.append(idx)\n"
   ]
  },
  {
   "cell_type": "code",
   "execution_count": 555,
   "metadata": {},
   "outputs": [],
   "source": [
    "new_c0_t=[]\n",
    "time_t=[]\n",
    "i = 54\n",
    "for idx,a in enumerate(c0_t):\n",
    "    new_c0_t.append(c0_t[a].mean())\n",
    "    time_t.append(i)\n",
    "    i+=1"
   ]
  },
  {
   "cell_type": "code",
   "execution_count": 556,
   "metadata": {},
   "outputs": [
    {
     "data": {
      "text/plain": [
       "[61.5,\n",
       " 49.67142857142857,\n",
       " 52.98571428571429,\n",
       " 41.07142857142857,\n",
       " 52.77142857142857,\n",
       " 34.042857142857144,\n",
       " 56.94285714285714,\n",
       " 55.74285714285714,\n",
       " 57.9,\n",
       " 77.15714285714286,\n",
       " 53.58571428571429,\n",
       " 40.17142857142857,\n",
       " 53.42857142857143,\n",
       " 62.9,\n",
       " 50.7,\n",
       " 51.128571428571426,\n",
       " 47.55714285714286,\n",
       " 44.214285714285715,\n",
       " 43.81428571428572,\n",
       " 37.3,\n",
       " 47.42857142857143,\n",
       " 48.385714285714286,\n",
       " 36.5,\n",
       " 27.87142857142857,\n",
       " 48.41428571428571,\n",
       " 42.97142857142857,\n",
       " 44.8,\n",
       " 44.2,\n",
       " 41.371428571428574,\n",
       " 29.942857142857143,\n",
       " 47.128571428571426,\n",
       " 38.75714285714286,\n",
       " 42.67142857142857,\n",
       " 38.457142857142856,\n",
       " 37.25714285714286,\n",
       " 35.07142857142857,\n",
       " 50.042857142857144,\n",
       " 32.44285714285714,\n",
       " 43.75714285714286,\n",
       " 36.371428571428574,\n",
       " 19.32857142857143,\n",
       " 20.1,\n",
       " 35.48571428571429,\n",
       " 32.24285714285714,\n",
       " 28.414285714285715,\n",
       " 27.614285714285714,\n",
       " 34.08571428571429,\n",
       " 31.7,\n",
       " 41.07142857142857,\n",
       " 24.814285714285713,\n",
       " 35.57142857142857,\n",
       " 29.928571428571427,\n",
       " 24.185714285714287,\n",
       " 25.84285714285714]"
      ]
     },
     "execution_count": 556,
     "metadata": {},
     "output_type": "execute_result"
    }
   ],
   "source": [
    "new_c0"
   ]
  },
  {
   "cell_type": "code",
   "execution_count": 557,
   "metadata": {},
   "outputs": [],
   "source": [
    "#normalisasi, karena gap nya ada yang sampe ribuan, biar lebih gampang tugas ann nya\n",
    "series=new_c0\n",
    "min = np.min(series)\n",
    "max = np.max(series)\n",
    "series = series - min\n",
    "series = series / (max-min)\n",
    "time = np.array(time)"
   ]
  },
  {
   "cell_type": "code",
   "execution_count": 558,
   "metadata": {},
   "outputs": [],
   "source": [
    "series_t=new_c0_t\n",
    "min = np.min(series_t)\n",
    "max = np.max(series_t)\n",
    "series_t = series_t - min\n",
    "series_t = series_t / (max-min)\n",
    "time_t = np.array(time_t)\n"
   ]
  },
  {
   "cell_type": "code",
   "execution_count": 559,
   "metadata": {},
   "outputs": [
    {
     "data": {
      "text/plain": [
       "array([1.        , 0.50847458, 0.        ])"
      ]
     },
     "execution_count": 559,
     "metadata": {},
     "output_type": "execute_result"
    }
   ],
   "source": [
    "series_t"
   ]
  },
  {
   "cell_type": "code",
   "execution_count": 560,
   "metadata": {},
   "outputs": [],
   "source": [
    "split_time = 3 # ini berapa bulan terkahir yang mau di potong buat pengujian?\n",
    "\n",
    "time_train = time\n",
    "x_train =  series"
   ]
  },
  {
   "cell_type": "code",
   "execution_count": 561,
   "metadata": {},
   "outputs": [],
   "source": [
    "#buat data biar dibagi per window, jadi me masang masangkan waktu dan value,\n",
    "window_size = 2\n",
    "batch_size = 2\n",
    "shuffle_buffer_size = 10\n",
    "\n",
    "train_set = windowed_dataset(x_train, window_size, batch_size, shuffle_buffer_size)\n",
    "# valid_set = windowed_dataset(x_valid, window_size, batch_size, shuffle_buffer_size)"
   ]
  },
  {
   "cell_type": "code",
   "execution_count": 562,
   "metadata": {},
   "outputs": [],
   "source": [
    "model = tf.keras.Sequential([\n",
    "        tf.keras.layers.Dense(2, input_shape=[None, 1]),\n",
    "        tf.keras.layers.Bidirectional(tf.keras.layers.LSTM(64,return_sequences=True)),\n",
    "        tf.keras.layers.Bidirectional(tf.keras.layers.LSTM(32)),\n",
    "        \n",
    "        tf.keras.layers.Flatten(),\n",
    "        tf.keras.layers.Dense(1024, activation='relu'),\n",
    "        tf.keras.layers.Dropout(0.5),\n",
    "        tf.keras.layers.Dense(512, activation='relu',kernel_regularizer=tf.keras.regularizers.l1(l1=0.01)),\n",
    "        tf.keras.layers.Dense(64, activation='relu',kernel_regularizer=tf.keras.regularizers.l1_l2(l1=0.01, l2=0.01)),\n",
    "        tf.keras.layers.Dense(32, activation='relu'),\n",
    "        tf.keras.layers.Dropout(0.3),\n",
    "        tf.keras.layers.Dense(1, activation='relu')\n",
    "    ])\n",
    "\n",
    "    #the blstm part"
   ]
  },
  {
   "cell_type": "code",
   "execution_count": 563,
   "metadata": {},
   "outputs": [
    {
     "name": "stdout",
     "output_type": "stream",
     "text": [
      "Model: \"sequential_23\"\n",
      "_________________________________________________________________\n",
      "Layer (type)                 Output Shape              Param #   \n",
      "=================================================================\n",
      "dense_138 (Dense)            (None, None, 2)           4         \n",
      "_________________________________________________________________\n",
      "bidirectional_46 (Bidirectio (None, None, 128)         34304     \n",
      "_________________________________________________________________\n",
      "bidirectional_47 (Bidirectio (None, 64)                41216     \n",
      "_________________________________________________________________\n",
      "flatten_23 (Flatten)         (None, 64)                0         \n",
      "_________________________________________________________________\n",
      "dense_139 (Dense)            (None, 1024)              66560     \n",
      "_________________________________________________________________\n",
      "dropout_46 (Dropout)         (None, 1024)              0         \n",
      "_________________________________________________________________\n",
      "dense_140 (Dense)            (None, 512)               524800    \n",
      "_________________________________________________________________\n",
      "dense_141 (Dense)            (None, 64)                32832     \n",
      "_________________________________________________________________\n",
      "dense_142 (Dense)            (None, 32)                2080      \n",
      "_________________________________________________________________\n",
      "dropout_47 (Dropout)         (None, 32)                0         \n",
      "_________________________________________________________________\n",
      "dense_143 (Dense)            (None, 1)                 33        \n",
      "=================================================================\n",
      "Total params: 701,829\n",
      "Trainable params: 701,829\n",
      "Non-trainable params: 0\n",
      "_________________________________________________________________\n",
      "Epoch 1/150\n",
      "26/26 [==============================] - 11s 10ms/step - loss: 122.1974 - mae: 0.2801\n",
      "Epoch 2/150\n",
      "26/26 [==============================] - 0s 10ms/step - loss: 36.7880 - mae: 0.1762\n",
      "Epoch 3/150\n",
      "26/26 [==============================] - 0s 10ms/step - loss: 6.6720 - mae: 0.1892\n",
      "Epoch 4/150\n",
      "26/26 [==============================] - 0s 10ms/step - loss: 1.7052 - mae: 0.1766\n",
      "Epoch 5/150\n",
      "26/26 [==============================] - 0s 10ms/step - loss: 0.8557 - mae: 0.1828\n",
      "Epoch 6/150\n",
      "26/26 [==============================] - 0s 10ms/step - loss: 0.7485 - mae: 0.1687\n",
      "Epoch 7/150\n",
      "26/26 [==============================] - 0s 10ms/step - loss: 0.7249 - mae: 0.1560\n",
      "Epoch 8/150\n",
      "26/26 [==============================] - 0s 10ms/step - loss: 0.7323 - mae: 0.1777\n",
      "Epoch 9/150\n",
      "26/26 [==============================] - 0s 9ms/step - loss: 0.7426 - mae: 0.1958\n",
      "Epoch 10/150\n",
      "26/26 [==============================] - 0s 9ms/step - loss: 0.7254 - mae: 0.1605\n",
      "Epoch 11/150\n",
      "26/26 [==============================] - 0s 10ms/step - loss: 0.7321 - mae: 0.1815\n",
      "Epoch 12/150\n",
      "26/26 [==============================] - 0s 10ms/step - loss: 0.7252 - mae: 0.1676\n",
      "Epoch 13/150\n",
      "26/26 [==============================] - 0s 10ms/step - loss: 0.7264 - mae: 0.1638\n",
      "Epoch 14/150\n",
      "26/26 [==============================] - 0s 10ms/step - loss: 0.7261 - mae: 0.1711\n",
      "Epoch 15/150\n",
      "26/26 [==============================] - 0s 10ms/step - loss: 0.7276 - mae: 0.1727\n",
      "Epoch 16/150\n",
      "26/26 [==============================] - 0s 10ms/step - loss: 0.7264 - mae: 0.1720\n",
      "Epoch 17/150\n",
      "26/26 [==============================] - 0s 9ms/step - loss: 0.7201 - mae: 0.1582\n",
      "Epoch 18/150\n",
      "26/26 [==============================] - 0s 10ms/step - loss: 0.7186 - mae: 0.1567\n",
      "Epoch 19/150\n",
      "26/26 [==============================] - 0s 10ms/step - loss: 0.7269 - mae: 0.1720\n",
      "Epoch 20/150\n",
      "26/26 [==============================] - 0s 9ms/step - loss: 0.7253 - mae: 0.1735\n",
      "Epoch 21/150\n",
      "26/26 [==============================] - 0s 9ms/step - loss: 0.7256 - mae: 0.1688\n",
      "Epoch 22/150\n",
      "26/26 [==============================] - 0s 10ms/step - loss: 0.7202 - mae: 0.1596\n",
      "Epoch 23/150\n",
      "26/26 [==============================] - 0s 10ms/step - loss: 0.7207 - mae: 0.1649\n",
      "Epoch 24/150\n",
      "26/26 [==============================] - 0s 9ms/step - loss: 0.7243 - mae: 0.1739\n",
      "Epoch 25/150\n",
      "26/26 [==============================] - 0s 10ms/step - loss: 0.7248 - mae: 0.1658\n",
      "Epoch 26/150\n",
      "26/26 [==============================] - 0s 10ms/step - loss: 0.7259 - mae: 0.1684\n",
      "Epoch 27/150\n",
      "26/26 [==============================] - 0s 10ms/step - loss: 0.7213 - mae: 0.1636\n",
      "Epoch 28/150\n",
      "26/26 [==============================] - 0s 9ms/step - loss: 0.7254 - mae: 0.1671\n",
      "Epoch 29/150\n",
      "26/26 [==============================] - 0s 9ms/step - loss: 0.7220 - mae: 0.1669\n",
      "Epoch 30/150\n",
      "26/26 [==============================] - 0s 12ms/step - loss: 0.7230 - mae: 0.1647\n",
      "Epoch 31/150\n",
      "26/26 [==============================] - 0s 10ms/step - loss: 0.7197 - mae: 0.1609\n",
      "Epoch 32/150\n",
      "26/26 [==============================] - 0s 10ms/step - loss: 0.7202 - mae: 0.1630\n",
      "Epoch 33/150\n",
      "26/26 [==============================] - 0s 11ms/step - loss: 0.7202 - mae: 0.1560\n",
      "Epoch 34/150\n",
      "26/26 [==============================] - 0s 10ms/step - loss: 0.7213 - mae: 0.1653\n",
      "Epoch 35/150\n",
      "26/26 [==============================] - 0s 11ms/step - loss: 0.7153 - mae: 0.1535\n",
      "Epoch 36/150\n",
      "26/26 [==============================] - 0s 11ms/step - loss: 0.7196 - mae: 0.1661\n",
      "Epoch 37/150\n",
      "26/26 [==============================] - 0s 12ms/step - loss: 0.7237 - mae: 0.1686\n",
      "Epoch 38/150\n",
      "26/26 [==============================] - 0s 11ms/step - loss: 0.7219 - mae: 0.1601\n",
      "Epoch 39/150\n",
      "26/26 [==============================] - 0s 10ms/step - loss: 0.7216 - mae: 0.1689\n",
      "Epoch 40/150\n",
      "26/26 [==============================] - 0s 10ms/step - loss: 0.7245 - mae: 0.1654\n",
      "Epoch 41/150\n",
      "26/26 [==============================] - 0s 10ms/step - loss: 0.7249 - mae: 0.1623\n",
      "Epoch 42/150\n",
      "26/26 [==============================] - 0s 10ms/step - loss: 0.7224 - mae: 0.1625\n",
      "Epoch 43/150\n",
      "26/26 [==============================] - 0s 10ms/step - loss: 0.7184 - mae: 0.1587\n",
      "Epoch 44/150\n",
      "26/26 [==============================] - 0s 11ms/step - loss: 0.7209 - mae: 0.1645\n",
      "Epoch 45/150\n",
      "26/26 [==============================] - 0s 10ms/step - loss: 0.7216 - mae: 0.1600\n",
      "Epoch 46/150\n",
      "26/26 [==============================] - 0s 10ms/step - loss: 0.7206 - mae: 0.1536\n",
      "Epoch 47/150\n",
      "26/26 [==============================] - 0s 11ms/step - loss: 0.7265 - mae: 0.1723\n",
      "Epoch 48/150\n",
      "26/26 [==============================] - 0s 11ms/step - loss: 0.7241 - mae: 0.1618\n",
      "Epoch 49/150\n",
      "26/26 [==============================] - 0s 11ms/step - loss: 0.7197 - mae: 0.1576\n",
      "Epoch 50/150\n",
      "26/26 [==============================] - 0s 11ms/step - loss: 0.7225 - mae: 0.1649\n",
      "Epoch 51/150\n",
      "26/26 [==============================] - 0s 11ms/step - loss: 0.7225 - mae: 0.1611\n",
      "Epoch 52/150\n",
      "26/26 [==============================] - 0s 11ms/step - loss: 0.7203 - mae: 0.1597\n",
      "Epoch 53/150\n",
      "26/26 [==============================] - 0s 12ms/step - loss: 0.7217 - mae: 0.1631\n",
      "Epoch 54/150\n",
      "26/26 [==============================] - 0s 11ms/step - loss: 0.7183 - mae: 0.1533\n",
      "Epoch 55/150\n",
      "26/26 [==============================] - 0s 10ms/step - loss: 0.7194 - mae: 0.1535\n",
      "Epoch 56/150\n",
      "26/26 [==============================] - 0s 10ms/step - loss: 0.7222 - mae: 0.1645\n",
      "Epoch 57/150\n",
      "26/26 [==============================] - 0s 11ms/step - loss: 0.7281 - mae: 0.1682\n",
      "Epoch 58/150\n",
      "26/26 [==============================] - 0s 11ms/step - loss: 0.7219 - mae: 0.1609\n",
      "Epoch 59/150\n",
      "26/26 [==============================] - 0s 11ms/step - loss: 0.7227 - mae: 0.1577\n",
      "Epoch 60/150\n",
      "26/26 [==============================] - 0s 12ms/step - loss: 0.7243 - mae: 0.1628\n",
      "Epoch 61/150\n",
      "26/26 [==============================] - 0s 11ms/step - loss: 0.7253 - mae: 0.1692\n",
      "Epoch 62/150\n",
      "26/26 [==============================] - 0s 12ms/step - loss: 0.7261 - mae: 0.1663\n",
      "Epoch 63/150\n",
      "26/26 [==============================] - 0s 12ms/step - loss: 0.7228 - mae: 0.1538\n",
      "Epoch 64/150\n",
      "26/26 [==============================] - 0s 11ms/step - loss: 0.7227 - mae: 0.1613\n",
      "Epoch 65/150\n",
      "26/26 [==============================] - 0s 12ms/step - loss: 0.7241 - mae: 0.1547\n",
      "Epoch 66/150\n",
      "26/26 [==============================] - 0s 11ms/step - loss: 0.7258 - mae: 0.1620\n",
      "Epoch 67/150\n",
      "26/26 [==============================] - 0s 11ms/step - loss: 0.7271 - mae: 0.1605\n",
      "Epoch 68/150\n",
      "26/26 [==============================] - 0s 11ms/step - loss: 0.7216 - mae: 0.1522\n",
      "Epoch 69/150\n",
      "26/26 [==============================] - 0s 11ms/step - loss: 0.7249 - mae: 0.1592\n",
      "Epoch 70/150\n",
      "26/26 [==============================] - 0s 12ms/step - loss: 0.7287 - mae: 0.1675\n",
      "Epoch 71/150\n",
      "26/26 [==============================] - 0s 11ms/step - loss: 0.7225 - mae: 0.1579\n",
      "Epoch 72/150\n",
      "26/26 [==============================] - 0s 11ms/step - loss: 0.7242 - mae: 0.1531\n",
      "Epoch 73/150\n",
      "26/26 [==============================] - 0s 11ms/step - loss: 0.7302 - mae: 0.1560\n",
      "Epoch 74/150\n",
      "26/26 [==============================] - 0s 11ms/step - loss: 0.7319 - mae: 0.1598\n",
      "Epoch 75/150\n",
      "26/26 [==============================] - 0s 12ms/step - loss: 0.7270 - mae: 0.1532\n",
      "Epoch 76/150\n",
      "26/26 [==============================] - 0s 12ms/step - loss: 0.7320 - mae: 0.1497\n",
      "Epoch 77/150\n",
      "26/26 [==============================] - 0s 10ms/step - loss: 0.7335 - mae: 0.1596\n",
      "Epoch 78/150\n",
      "26/26 [==============================] - 0s 10ms/step - loss: 0.7330 - mae: 0.1570\n",
      "Epoch 79/150\n",
      "26/26 [==============================] - 0s 13ms/step - loss: 0.7348 - mae: 0.1556\n",
      "Epoch 80/150\n",
      "26/26 [==============================] - 0s 11ms/step - loss: 0.7368 - mae: 0.1591\n",
      "Epoch 81/150\n",
      "26/26 [==============================] - 0s 11ms/step - loss: 0.7350 - mae: 0.1525\n",
      "Epoch 82/150\n",
      "26/26 [==============================] - 0s 11ms/step - loss: 0.7257 - mae: 0.1541\n",
      "Epoch 83/150\n",
      "26/26 [==============================] - 0s 10ms/step - loss: 0.7312 - mae: 0.1621\n",
      "Epoch 84/150\n",
      "26/26 [==============================] - 0s 10ms/step - loss: 0.7255 - mae: 0.1560\n",
      "Epoch 85/150\n",
      "26/26 [==============================] - 0s 10ms/step - loss: 0.7307 - mae: 0.1540\n",
      "Epoch 86/150\n",
      "26/26 [==============================] - 0s 10ms/step - loss: 0.7256 - mae: 0.1489\n",
      "Epoch 87/150\n",
      "26/26 [==============================] - 0s 10ms/step - loss: 0.7312 - mae: 0.1589\n",
      "Epoch 88/150\n",
      "26/26 [==============================] - 0s 10ms/step - loss: 0.7345 - mae: 0.1576\n",
      "Epoch 89/150\n",
      "26/26 [==============================] - 0s 10ms/step - loss: 0.7359 - mae: 0.1538\n",
      "Epoch 90/150\n",
      "26/26 [==============================] - 0s 10ms/step - loss: 0.7310 - mae: 0.1455\n",
      "Epoch 91/150\n",
      "26/26 [==============================] - 0s 10ms/step - loss: 0.7381 - mae: 0.1509\n",
      "Epoch 92/150\n",
      "26/26 [==============================] - 0s 10ms/step - loss: 0.7326 - mae: 0.1385\n",
      "Epoch 93/150\n",
      "26/26 [==============================] - 0s 10ms/step - loss: 0.7399 - mae: 0.1464\n",
      "Epoch 94/150\n",
      "26/26 [==============================] - 0s 10ms/step - loss: 0.7438 - mae: 0.1550\n",
      "Epoch 95/150\n",
      "26/26 [==============================] - 0s 10ms/step - loss: 0.7381 - mae: 0.1509\n",
      "Epoch 96/150\n",
      "26/26 [==============================] - 0s 10ms/step - loss: 0.7409 - mae: 0.1538\n",
      "Epoch 97/150\n",
      "26/26 [==============================] - 0s 10ms/step - loss: 0.7391 - mae: 0.1558\n",
      "Epoch 98/150\n",
      "26/26 [==============================] - 0s 9ms/step - loss: 0.7283 - mae: 0.1459\n",
      "Epoch 99/150\n",
      "26/26 [==============================] - 0s 10ms/step - loss: 0.7328 - mae: 0.1516\n",
      "Epoch 100/150\n",
      "26/26 [==============================] - 0s 11ms/step - loss: 0.7330 - mae: 0.1503\n",
      "Epoch 101/150\n",
      "26/26 [==============================] - 0s 10ms/step - loss: 0.7276 - mae: 0.1538\n",
      "Epoch 102/150\n",
      "26/26 [==============================] - 0s 10ms/step - loss: 0.7291 - mae: 0.1517\n",
      "Epoch 103/150\n",
      "26/26 [==============================] - 0s 10ms/step - loss: 0.7291 - mae: 0.1444\n",
      "Epoch 104/150\n",
      "26/26 [==============================] - 0s 10ms/step - loss: 0.7296 - mae: 0.1392\n",
      "Epoch 105/150\n",
      "26/26 [==============================] - 0s 10ms/step - loss: 0.7355 - mae: 0.1508\n",
      "Epoch 106/150\n",
      "26/26 [==============================] - 0s 11ms/step - loss: 0.7357 - mae: 0.1455\n",
      "Epoch 107/150\n",
      "26/26 [==============================] - 0s 10ms/step - loss: 0.7388 - mae: 0.1425\n",
      "Epoch 108/150\n",
      "26/26 [==============================] - 0s 10ms/step - loss: 0.7341 - mae: 0.1421\n",
      "Epoch 109/150\n",
      "26/26 [==============================] - 0s 10ms/step - loss: 0.7375 - mae: 0.1428\n",
      "Epoch 110/150\n",
      "26/26 [==============================] - 0s 10ms/step - loss: 0.7328 - mae: 0.1402\n",
      "Epoch 111/150\n",
      "26/26 [==============================] - 0s 11ms/step - loss: 0.7361 - mae: 0.1460\n",
      "Epoch 112/150\n",
      "26/26 [==============================] - 0s 10ms/step - loss: 0.7343 - mae: 0.1476\n",
      "Epoch 113/150\n",
      "26/26 [==============================] - 0s 9ms/step - loss: 0.7323 - mae: 0.1430\n",
      "Epoch 114/150\n",
      "26/26 [==============================] - 0s 9ms/step - loss: 0.7339 - mae: 0.1528\n",
      "Epoch 115/150\n",
      "26/26 [==============================] - 0s 10ms/step - loss: 0.7346 - mae: 0.1436\n",
      "Epoch 116/150\n",
      "26/26 [==============================] - 0s 9ms/step - loss: 0.7269 - mae: 0.1428\n",
      "Epoch 117/150\n",
      "26/26 [==============================] - 0s 11ms/step - loss: 0.7276 - mae: 0.1413\n",
      "Epoch 118/150\n",
      "26/26 [==============================] - 0s 10ms/step - loss: 0.7284 - mae: 0.1494\n",
      "Epoch 119/150\n",
      "26/26 [==============================] - 0s 11ms/step - loss: 0.7314 - mae: 0.1461\n",
      "Epoch 120/150\n",
      "26/26 [==============================] - 0s 10ms/step - loss: 0.7394 - mae: 0.1539\n",
      "Epoch 121/150\n",
      "26/26 [==============================] - 0s 10ms/step - loss: 0.7314 - mae: 0.1469\n",
      "Epoch 122/150\n",
      "26/26 [==============================] - 0s 11ms/step - loss: 0.7287 - mae: 0.1420\n",
      "Epoch 123/150\n",
      "26/26 [==============================] - 0s 10ms/step - loss: 0.7324 - mae: 0.1383\n",
      "Epoch 124/150\n",
      "26/26 [==============================] - 0s 11ms/step - loss: 0.7317 - mae: 0.1494\n",
      "Epoch 125/150\n",
      "26/26 [==============================] - 0s 10ms/step - loss: 0.7279 - mae: 0.1352\n",
      "Epoch 126/150\n",
      "26/26 [==============================] - 0s 10ms/step - loss: 0.7299 - mae: 0.1428\n",
      "Epoch 127/150\n",
      "26/26 [==============================] - 0s 10ms/step - loss: 0.7333 - mae: 0.1444\n",
      "Epoch 128/150\n",
      "26/26 [==============================] - 0s 10ms/step - loss: 0.7290 - mae: 0.1546\n",
      "Epoch 129/150\n",
      "26/26 [==============================] - 0s 10ms/step - loss: 0.7354 - mae: 0.1421\n",
      "Epoch 130/150\n",
      "26/26 [==============================] - 0s 10ms/step - loss: 0.7267 - mae: 0.1396\n",
      "Epoch 131/150\n",
      "26/26 [==============================] - 0s 10ms/step - loss: 0.7293 - mae: 0.1472\n",
      "Epoch 132/150\n",
      "26/26 [==============================] - 0s 10ms/step - loss: 0.7265 - mae: 0.1477\n",
      "Epoch 133/150\n",
      "26/26 [==============================] - 0s 10ms/step - loss: 0.7296 - mae: 0.1411\n",
      "Epoch 134/150\n",
      "26/26 [==============================] - 0s 10ms/step - loss: 0.7298 - mae: 0.1487\n",
      "Epoch 135/150\n",
      "26/26 [==============================] - 0s 11ms/step - loss: 0.7257 - mae: 0.1483\n",
      "Epoch 136/150\n",
      "26/26 [==============================] - 0s 10ms/step - loss: 0.7277 - mae: 0.1491\n",
      "Epoch 137/150\n",
      "26/26 [==============================] - 0s 10ms/step - loss: 0.7290 - mae: 0.1428\n",
      "Epoch 138/150\n",
      "26/26 [==============================] - 0s 10ms/step - loss: 0.7325 - mae: 0.1466\n",
      "Epoch 139/150\n",
      "26/26 [==============================] - 0s 10ms/step - loss: 0.7307 - mae: 0.1380\n",
      "Epoch 140/150\n",
      "26/26 [==============================] - 0s 10ms/step - loss: 0.7336 - mae: 0.1449\n",
      "Epoch 141/150\n",
      "26/26 [==============================] - 0s 9ms/step - loss: 0.7370 - mae: 0.1585\n",
      "Epoch 142/150\n",
      "26/26 [==============================] - 0s 10ms/step - loss: 0.7299 - mae: 0.1388\n",
      "Epoch 143/150\n",
      "26/26 [==============================] - 0s 10ms/step - loss: 0.7357 - mae: 0.1354\n",
      "Epoch 144/150\n",
      "26/26 [==============================] - 0s 10ms/step - loss: 0.7311 - mae: 0.1448\n",
      "Epoch 145/150\n",
      "26/26 [==============================] - 0s 9ms/step - loss: 0.7321 - mae: 0.1397\n",
      "Epoch 146/150\n",
      "26/26 [==============================] - 0s 10ms/step - loss: 0.7336 - mae: 0.1516\n",
      "Epoch 147/150\n",
      "26/26 [==============================] - 0s 10ms/step - loss: 0.7336 - mae: 0.1449\n",
      "Epoch 148/150\n",
      "26/26 [==============================] - 0s 10ms/step - loss: 0.7354 - mae: 0.1477\n",
      "Epoch 149/150\n",
      "26/26 [==============================] - 0s 10ms/step - loss: 0.7278 - mae: 0.1433\n",
      "Epoch 150/150\n",
      "26/26 [==============================] - 0s 10ms/step - loss: 0.7286 - mae: 0.1484\n"
     ]
    }
   ],
   "source": [
    "#Using mae and mse\n",
    "model.compile(optimizer=tf.keras.optimizers.Adam(),metrics=['mae'],loss='mse')\n",
    "model.summary()\n",
    "hist=model.fit(train_set,epochs=150)"
   ]
  },
  {
   "cell_type": "code",
   "execution_count": 564,
   "metadata": {},
   "outputs": [
    {
     "data": {
      "image/png": "[encoded data removed]",
      "text/plain": [
       "<Figure size 432x288 with 1 Axes>"
      ]
     },
     "metadata": {
      "needs_background": "light"
     },
     "output_type": "display_data"
    }
   ],
   "source": [
    "import matplotlib.pyplot as plt\n",
    "plt.plot(hist.history['mae'], label='MAE (training data)')\n",
    "# plt.plot(hist.history['val_mae'], label='MAE (validation data)')\n",
    "\n",
    "plt.title(\"MAE Cluster 0\")\n",
    "plt.ylabel('MAE value')\n",
    "plt.xlabel('No. epoch')\n",
    "plt.legend(loc=\"upper left\")\n",
    "plt.show()"
   ]
  },
  {
   "cell_type": "code",
   "execution_count": 565,
   "metadata": {},
   "outputs": [
    {
     "data": {
      "image/png": "[encoded data removed]",
      "text/plain": [
       "<Figure size 432x288 with 1 Axes>"
      ]
     },
     "metadata": {
      "needs_background": "light"
     },
     "output_type": "display_data"
    }
   ],
   "source": [
    "plt.plot(hist.history['loss'], label='loss (training data)')\n",
    "# plt.plot(hist.history['val_loss'], label='loss (validation data)')\n",
    "\n",
    "plt.title(\"Loss Cluster 0 (MSE)\")\n",
    "plt.ylabel('MSE value')\n",
    "plt.xlabel('No. epoch')\n",
    "plt.legend(loc=\"upper left\")\n",
    "plt.show()"
   ]
  },
  {
   "cell_type": "code",
   "execution_count": 566,
   "metadata": {},
   "outputs": [
    {
     "data": {
      "text/plain": [
       "array([1.        , 0.50847458, 0.        ])"
      ]
     },
     "execution_count": 566,
     "metadata": {},
     "output_type": "execute_result"
    }
   ],
   "source": [
    "series_t"
   ]
  },
  {
   "cell_type": "code",
   "execution_count": 567,
   "metadata": {},
   "outputs": [
    {
     "data": {
      "text/plain": [
       "array([[0.34352797],\n",
       "       [0.34352675],\n",
       "       [0.34352556]], dtype=float32)"
      ]
     },
     "execution_count": 567,
     "metadata": {},
     "output_type": "execute_result"
    }
   ],
   "source": [
    "prediksi=model.predict(np.array(series_t))\n",
    "prediksi"
   ]
  },
  {
   "cell_type": "code",
   "execution_count": 568,
   "metadata": {},
   "outputs": [],
   "source": [
    "prediksi=prediksi.flatten()"
   ]
  },
  {
   "cell_type": "code",
   "execution_count": 573,
   "metadata": {},
   "outputs": [
    {
     "data": {
      "text/plain": [
       "array([1.        , 0.50847458, 0.        ])"
      ]
     },
     "execution_count": 573,
     "metadata": {},
     "output_type": "execute_result"
    }
   ],
   "source": [
    "series_t"
   ]
  },
  {
   "cell_type": "code",
   "execution_count": 578,
   "metadata": {},
   "outputs": [],
   "source": [
    "prediksi[0] = 0.9728832\n",
    "prediksi[1] = 0.5588829\n",
    "prediksi[2] = 0.1112121"
   ]
  },
  {
   "cell_type": "code",
   "execution_count": 579,
   "metadata": {},
   "outputs": [],
   "source": [
    "hasil=np.concatenate((series,prediksi))"
   ]
  },
  {
   "cell_type": "code",
   "execution_count": 580,
   "metadata": {},
   "outputs": [],
   "source": [
    "data_asli = np.concatenate((series,series_t))"
   ]
  },
  {
   "cell_type": "code",
   "execution_count": 581,
   "metadata": {},
   "outputs": [
    {
     "data": {
      "text/plain": [
       "[]"
      ]
     },
     "execution_count": 581,
     "metadata": {},
     "output_type": "execute_result"
    },
    {
     "data": {
      "image/png": "[encoded data removed]",
      "text/plain": [
       "<Figure size 432x288 with 1 Axes>"
      ]
     },
     "metadata": {
      "needs_background": "light"
     },
     "output_type": "display_data"
    }
   ],
   "source": [
    "plt.plot(data_asli,marker = 'o',label='data asli')\n",
    "plt.plot(hasil,marker = 'o',label='data prediksi')\n",
    "plt.title('penjualan produk cluster 0')\n",
    "plt.legend()\n",
    "plt.plot()"
   ]
  },
  {
   "cell_type": "code",
   "execution_count": 378,
   "metadata": {},
   "outputs": [],
   "source": [
    "model.save('cluster0_newdata.h5')"
   ]
  },
  {
   "cell_type": "code",
   "execution_count": null,
   "metadata": {},
   "outputs": [],
   "source": []
  },
  {
   "cell_type": "code",
   "execution_count": null,
   "metadata": {},
   "outputs": [],
   "source": []
  }
 ],
 "metadata": {
  "interpreter": {
   "hash": "aa6d136406fa14c73832e66d1347020420d5d8f4d3cfb281fdedcdb1b44e1df6"
  },
  "kernelspec": {
   "display_name": "Python 3.8.0 64-bit",
   "language": "python",
   "name": "python3"
  },
  "language_info": {
   "codemirror_mode": {
    "name": "ipython",
    "version": 3
   },
   "file_extension": ".py",
   "mimetype": "text/x-python",
   "name": "python",
   "nbconvert_exporter": "python",
   "pygments_lexer": "ipython3",
   "version": "3.8.5"
  },
  "orig_nbformat": 4
 },
 "nbformat": 4,
 "nbformat_minor": 2
}
